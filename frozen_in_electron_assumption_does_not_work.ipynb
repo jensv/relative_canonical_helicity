{
 "cells": [
  {
   "cell_type": "code",
   "execution_count": 154,
   "metadata": {
    "collapsed": true
   },
   "outputs": [],
   "source": [
    "import numpy as np\n",
    "from scipy.spatial import Delaunay\n",
    "from scipy.interpolate import LinearNDInterpolator\n",
    "from scipy.constants import mu_0\n",
    "from scipy.constants import elementary_charge as q_e\n",
    "from scipy.constants import proton_mass as m_i\n",
    "from astropy.convolution import convolve, convolve_fft\n",
    "from scipy.signal import fftconvolve\n",
    "from scipy.interpolate import SmoothBivariateSpline\n",
    "import write_canonical_flux_tube_quantities as wcf\n",
    "reload(wcf)\n",
    "\n",
    "from datetime import date\n",
    "from datetime import datetime\n",
    "import visit_writer\n",
    "\n",
    "import structured_3d_vtk as struc_3d\n",
    "reload(struc_3d)\n",
    "\n",
    "%matplotlib inline\n",
    "import matplotlib.pyplot as plt\n",
    "\n",
    "import seaborn as sns\n",
    "sns.set_style('white')\n",
    "\n",
    "import os\n",
    "\n",
    "import ion_current_to_mach_number as ic_to_mach\n",
    "reload(ic_to_mach)\n",
    "\n",
    "import read_from_sql\n",
    "\n",
    "from mpl_toolkits.mplot3d import Axes3D"
   ]
  },
  {
   "cell_type": "markdown",
   "metadata": {},
   "source": [
    "# Read idl files and generate inteprolators"
   ]
  },
  {
   "cell_type": "code",
   "execution_count": 2,
   "metadata": {
    "collapsed": false
   },
   "outputs": [],
   "source": [
    "bx_all_planes = wcf.save_idl_quantity_to_unstructured_grids('bx', 'B_x', 'now',\n",
    "                                                            x_min=-0.032, x_max=0.028,\n",
    "                                                            y_min=-0.022, y_max=0.032, \n",
    "                                                            z_min=0.249, z_max=0.416)\n",
    "by_all_planes = wcf.save_idl_quantity_to_unstructured_grids('by', 'B_y', 'now',\n",
    "                                                            x_min=-0.032, x_max=0.028,\n",
    "                                                            y_min=-0.022, y_max=0.032, \n",
    "                                                            z_min=0.249, z_max=0.416)\n",
    "bz_all_planes = wcf.save_idl_quantity_to_unstructured_grids('bz', 'B_z', 'now',\n",
    "                                                            x_min=-0.032, x_max=0.028,\n",
    "                                                            y_min=-0.022, y_max=0.032, \n",
    "                                                            z_min=0.249, z_max=0.416)\n",
    "te_all_planes = wcf.save_idl_quantity_to_unstructured_grids('te', 'T_e', 'now', \n",
    "                                                            x_min=-0.026, x_max=0.028,\n",
    "                                                            y_min=-0.03, y_max=0.028, \n",
    "                                                            z_min=0.249, z_max=0.416,\n",
    "                                                            bounds=(1e-3, 1e3))\n",
    "n_all_planes = wcf.save_idl_quantity_to_unstructured_grids('n', 'n', 'now',\n",
    "                                                           x_min=-0.026, x_max=0.028,\n",
    "                                                           y_min=-0.03, y_max=0.028, \n",
    "                                                           z_min=0.249, z_max=0.416,\n",
    "                                                           bounds=(1e3, 1e22))\n",
    "n_three_planes = wcf.remove_plane(0.302, n_all_planes)\n",
    "te_three_planes = wcf.remove_plane(0.302, te_all_planes)\n",
    "\n",
    "n_all_planes = n_three_planes\n",
    "te_all_planes = te_three_planes\n",
    "\n",
    "bx_triangulation, bx_interpolators = wcf.give_delaunay_and_interpolator(bx_all_planes)\n",
    "by_triangulation, by_interpolators = wcf.give_delaunay_and_interpolator(by_all_planes)\n",
    "bz_triangulation, bz_interpolators = wcf.give_delaunay_and_interpolator(bz_all_planes)\n",
    "te_triangulation, te_interpolators = wcf.give_delaunay_and_interpolator(te_all_planes)\n",
    "n_triangulation, n_interpolators = wcf.give_delaunay_and_interpolator(n_all_planes)"
   ]
  },
  {
   "cell_type": "markdown",
   "metadata": {},
   "source": [
    "# Read Mach measurements from database and build interpolators"
   ]
  },
  {
   "cell_type": "code",
   "execution_count": 3,
   "metadata": {
    "collapsed": false
   },
   "outputs": [],
   "source": [
    "timesteps = 250\n",
    "\n",
    "database = '/home/jensv/rsx/jens_analysis/shots_database/source/shots.db'\n",
    "table = 'Shots'\n",
    "z_direction_1, z_direction_2 = 0, 180\n",
    "y_direction_1, y_direction_2 = 90, 270\n",
    "angle_signs = {0: 1,\n",
    "               180: -1,\n",
    "               90: -1,\n",
    "               0: 1}\n",
    "min_spectral_density = 1.6e-8\n",
    "\n",
    "condition_z_0416 = (\"campaigns = 'mach_probe_plane_campaign_1'\"\n",
    "                    \" AND fiducial_pre_crowbar_gyration_spectral_density > \"\n",
    "                    + str(min_spectral_density) +\n",
    "                    \" AND mach_signals_exist = 1\"\n",
    "                    \" AND (mach_orientation = \" + str(z_direction_1) +\n",
    "                    \" OR mach_orientation = \" + str(z_direction_2) + \")\")\n",
    "\n",
    "condition_y_0416 = (\"campaigns = 'mach_probe_plane_campaign_1'\"\n",
    "                    \" AND fiducial_pre_crowbar_gyration_spectral_density > \"\n",
    "                    + str(min_spectral_density) +\n",
    "                    \" AND mach_signals_exist = 1\"\n",
    "                    \" AND (mach_orientation = \" + str(y_direction_1) +\n",
    "                    \" OR mach_orientation = \" + str(y_direction_2) + \")\")\n",
    "\n",
    "cursor, connection = read_from_sql.cursor_with_rows(condition_z_0416,\n",
    "                                                    database,\n",
    "                                                    table)\n",
    "z_0416_shots = cursor.fetchall()\n",
    "cursor.close()\n",
    "connection.close()\n",
    "\n",
    "cursor, connection = read_from_sql.cursor_with_rows(condition_y_0416,\n",
    "                                                    database,\n",
    "                                                    table)\n",
    "y_0416_shots = cursor.fetchall()\n",
    "cursor.close()\n",
    "connection.close()\n",
    "\n",
    "condition_z_302 = (\"campaigns = 'mach_probe_plane_campaign_2'\"\n",
    "                   \" AND fiducial_pre_crowbar_gyration_spectral_density > \"\n",
    "                   + str(min_spectral_density) +\n",
    "                   \" AND mach_signals_exist = 1\"\n",
    "                   \" AND (mach_orientation = \" + str(z_direction_1) +\n",
    "                   \" OR mach_orientation = \" + str(z_direction_2) + \")\")\n",
    "\n",
    "cursor, connection = read_from_sql.cursor_with_rows(condition_z_302,\n",
    "                                                    database,\n",
    "                                                    table)\n",
    "z_0302_shots = cursor.fetchall()\n",
    "cursor.close()\n",
    "connection.close()\n",
    "\n",
    "mach_z_0416_measurements = ic_to_mach.run_mach_analysis(z_0416_shots,\n",
    "                                                        timesteps, \n",
    "                                                        angle_signs) \n",
    "mach_y_0416_measurements = ic_to_mach.run_mach_analysis(y_0416_shots,\n",
    "                                                        timesteps, \n",
    "                                                        angle_signs)\n",
    "mach_z_0302_measurements = ic_to_mach.run_mach_analysis(z_0302_shots,\n",
    "                                                        timesteps, \n",
    "                                                        angle_signs)\n",
    "\n",
    "mach_z_0416_measurements['delays'] = np.arange(timesteps)\n",
    "mach_y_0416_measurements['delays'] = np.arange(timesteps)\n",
    "mach_z_0302_measurements['delays'] = np.arange(timesteps)\n",
    "\n",
    "mach_z_0416_measurements = struc_3d.average_duplicate_points(mach_z_0416_measurements)\n",
    "mach_y_0416_measurements = struc_3d.average_duplicate_points(mach_y_0416_measurements)\n",
    "mach_z_0302_measurements = struc_3d.average_duplicate_points(mach_z_0302_measurements)\n",
    "\n",
    "mach_y_measurements = {0.416: mach_y_0416_measurements}\n",
    "mach_z_measurements = {0.302: mach_z_0302_measurements,\n",
    "                       0.416: mach_z_0416_measurements}\n",
    "\n",
    "mach_y_all_planes = wcf.save_quantity_to_unstructured_grids(mach_y_measurements, \n",
    "                                                            'Mach_y', 'Mach_y', '2016-07-26',\n",
    "                                                            planes=[0.416],\n",
    "                                                            x_min=-0.052, x_max=0.052,\n",
    "                                                            y_min=-0.022, y_max=0.032, \n",
    "                                                            z_min=0.249, z_max=0.416,\n",
    "                                                            bounds=(-10, 10))\n",
    "\n",
    "mach_z_all_planes = wcf.save_quantity_to_unstructured_grids(mach_z_measurements, \n",
    "                                                            'Mach_z', 'Mach_z', '2016-07-26',\n",
    "                                                            planes=[0.302, 0.416],\n",
    "                                                            x_min=-0.032, x_max=0.032,\n",
    "                                                            y_min=-0.022, y_max=0.032, \n",
    "                                                            z_min=0.249, z_max=0.416,\n",
    "                                                            bounds=(-10, 10))\n",
    "mach_y_all_planes = wcf.remove_nan_points(mach_y_all_planes)\n",
    "mach_z_all_planes = wcf.remove_nan_points(mach_z_all_planes)\n",
    "\n",
    "mach_y_triangulation, mach_y_interpolators = wcf.give_delaunay_and_interpolator(mach_y_all_planes)\n",
    "mach_z_triangulation, mach_z_interpolators = wcf.give_delaunay_and_interpolator(mach_z_all_planes)"
   ]
  },
  {
   "cell_type": "markdown",
   "metadata": {},
   "source": [
    "# Just work on timestep 0"
   ]
  },
  {
   "cell_type": "code",
   "execution_count": 8,
   "metadata": {
    "collapsed": true
   },
   "outputs": [],
   "source": [
    "time_point = 0"
   ]
  },
  {
   "cell_type": "markdown",
   "metadata": {},
   "source": [
    "# Interpolate Temperature and density"
   ]
  },
  {
   "cell_type": "code",
   "execution_count": 9,
   "metadata": {
    "collapsed": false
   },
   "outputs": [],
   "source": [
    "(x_min, x_max, \n",
    " y_min, y_max,\n",
    " z_min, z_max) = wcf.joint_mach_bdot_tp_extent()\n",
    "\n",
    "spatial_increment = 0.001\n",
    "mesh = np.meshgrid(np.linspace(x_min, x_max, np.ceil((x_max-x_min)/spatial_increment)),\n",
    "                   np.linspace(y_min, y_max, np.ceil((y_max-y_min)/spatial_increment)),\n",
    "                   np.linspace(z_min, z_max, np.ceil((z_max-z_min)/spatial_increment)))\n",
    "\n",
    "mesh_wo_edges = wcf.remove_edges_mesh([np.array(mesh[0]), \n",
    "                                       np.array(mesh[1]), \n",
    "                                       np.array(mesh[2])])\n",
    "ones = np.ones(mesh_wo_edges[0].shape)\n",
    "\n",
    "\n",
    "te_interpolator = te_interpolators[time_point]\n",
    "n_interpolator = n_interpolators[time_point]\n",
    "    \n",
    "temperature = wcf.scalar_on_mesh(te_interpolator, mesh_wo_edges)\n",
    "density = wcf.scalar_on_mesh(n_interpolator, mesh_wo_edges)\n",
    "b_field, b_field_norm = wcf.b_field_on_mesh([bx_interpolators[time_point], \n",
    "                                             by_interpolators[time_point],\n",
    "                                             bz_interpolators[time_point]], \n",
    "                                             mesh_wo_edges, \n",
    "                                             bias=2e-2)"
   ]
  },
  {
   "cell_type": "code",
   "execution_count": 10,
   "metadata": {
    "collapsed": false
   },
   "outputs": [],
   "source": [
    "temperature_plane_normalized = temperature / np.nanmax(np.nanmax(temperature, 0), 0)[None, None, :]"
   ]
  },
  {
   "cell_type": "markdown",
   "metadata": {},
   "source": [
    "# Determine ion_velocity_term1"
   ]
  },
  {
   "cell_type": "code",
   "execution_count": 15,
   "metadata": {
    "collapsed": true
   },
   "outputs": [],
   "source": [
    "alpha = 1\n",
    "filter_width = 15\n",
    "\n",
    "(x_min, x_max, \n",
    " y_min, y_max,\n",
    " z_min, z_max) = wcf.joint_mach_bdot_tp_extent()\n",
    "\n",
    "spatial_increment = 0.001\n",
    "mesh = np.meshgrid(np.linspace(x_min, x_max, np.ceil((x_max-x_min)/spatial_increment)),\n",
    "                   np.linspace(y_min, y_max, np.ceil((y_max-y_min)/spatial_increment)),\n",
    "                   np.linspace(z_min, z_max, np.ceil((z_max-z_min)/spatial_increment)))\n",
    "\n",
    "mesh_wo_edges = wcf.remove_edges_mesh([np.array(mesh[0]), \n",
    "                                       np.array(mesh[1]), \n",
    "                                       np.array(mesh[2])])\n",
    "ones = np.ones(mesh_wo_edges[0].shape)\n",
    "\n",
    "time_point = 200\n",
    "\n",
    "bx_interpolator = bx_interpolators[time_point]\n",
    "by_interpolator = by_interpolators[time_point]\n",
    "bz_interpolator = bz_interpolators[time_point]\n",
    "te_interpolator = te_interpolators[time_point]\n",
    "n_interpolator = n_interpolators[time_point]\n",
    "\n",
    "bx_derivative = wcf.triangulate_derivatives(mesh, bx_triangulation, bx_interpolator, \n",
    "                                            increment=0.0000001)\n",
    "bx_derivative = wcf.remove_edges_derivative_meshes(bx_derivative)\n",
    "by_derivative = wcf.triangulate_derivatives(mesh, by_triangulation, by_interpolator, \n",
    "                                            increment=0.0000001)\n",
    "by_derivative = wcf.remove_edges_derivative_meshes(by_derivative)\n",
    "bz_derivative = wcf.triangulate_derivatives(mesh, bz_triangulation, bz_interpolator, \n",
    "                                            increment=0.0000001)\n",
    "bz_derivative = wcf.remove_edges_derivative_meshes(bz_derivative)\n",
    "\n",
    "\n",
    "current = wcf.current_on_mesh([bx_derivative, \n",
    "                               by_derivative, \n",
    "                               bz_derivative])\n",
    "b_field, b_field_norm = wcf.b_field_on_mesh([bx_interpolator, \n",
    "                                             by_interpolator,\n",
    "                                             bz_interpolator], \n",
    "                                            mesh_wo_edges, \n",
    "                                            bias=2e-2)\n",
    "\n",
    "temperature = wcf.scalar_on_mesh(te_interpolator, mesh_wo_edges)\n",
    "density = wcf.scalar_on_mesh(n_interpolator, mesh_wo_edges)\n",
    "\n",
    "current = np.asarray(current)\n",
    "density = np.asarray(density)\n",
    "b_field_norm = np.asarray(b_field_norm)\n",
    "\n",
    "density = wcf.boxcar_filter_quantity_mesh(density, filter_width)\n",
    "\n",
    "for direction in xrange(len(current)):\n",
    "    current[direction] = wcf.boxcar_filter_quantity_mesh(current[direction], filter_width)\n",
    "\n",
    "density_constant = 1e18*np.ones(density.shape)\n",
    "\n",
    "ion_velocity_term_1 = wcf.calc_ion_velocity_term_1(current, density, q_e)\n",
    "ion_velocity_term_1_constant_density = wcf.calc_ion_velocity_term_1(current, density_constant, q_e)\n",
    "ion_velocity_term_2 = wcf.calc_ion_velocity_term_2(b_field_norm, alpha)\n",
    "\n",
    "ion_vorticity_term_1 = wcf.calc_ion_vorticity_term_1(current, density, q_e, mesh_wo_edges)\n",
    "ion_vorticity_term_1_constant_density = wcf.calc_ion_vorticity_term_1(current, density_constant, q_e, mesh_wo_edges)\n",
    "ion_vorticity_term_2 = wcf.calc_ion_vorticity_term_2(b_field_norm, alpha, mesh_wo_edges)\n",
    "\n",
    "mesh_wo_edges = wcf.remove_edges_mesh([np.array(mesh[0]), \n",
    "                                       np.array(mesh[1]), \n",
    "                                       np.array(mesh[2])])"
   ]
  },
  {
   "cell_type": "markdown",
   "metadata": {},
   "source": [
    "# Determine measured ion_velocity u_i"
   ]
  },
  {
   "cell_type": "code",
   "execution_count": 11,
   "metadata": {
    "collapsed": true
   },
   "outputs": [],
   "source": [
    "(x_min, x_max, \n",
    " y_min, y_max,\n",
    " z_min, z_max) = wcf.joint_mach_bdot_tp_extent()\n",
    "\n",
    "spatial_increment = 0.001\n",
    "mesh = np.meshgrid(np.linspace(x_min, x_max, np.ceil((x_max-x_min)/spatial_increment)),\n",
    "                   np.linspace(y_min, y_max, np.ceil((y_max-y_min)/spatial_increment)),\n",
    "                   np.linspace(z_min, z_max, np.ceil((z_max-z_min)/spatial_increment)))\n",
    "\n",
    "mach_y_interpolator = mach_y_interpolators[0]\n",
    "mach_z_interpolator = mach_z_interpolators[0]\n",
    "te_interpolator = te_interpolators[0]\n",
    " \n",
    "mach_y = wcf.scalar_on_mesh(mach_y_interpolator, mesh[:2])\n",
    "mach_z = wcf.scalar_on_mesh(mach_z_interpolator, mesh)\n",
    "te = wcf.scalar_on_mesh(te_interpolator, mesh)\n",
    "\n",
    "u_i_y = np.sqrt(te*q_e/m_i)*mach_y\n",
    "u_i_z = np.sqrt(te*q_e/m_i)*mach_z\n",
    "\n",
    "u_i_y = np.reshape(u_i_y, mesh[0].shape)\n",
    "u_i_z = np.reshape(u_i_z, mesh[0].shape)\n",
    "\n",
    "u_i_y = wcf.remove_edges_scalar_quantity_meshes(u_i_y)\n",
    "u_i_z = wcf.remove_edges_scalar_quantity_meshes(u_i_z)"
   ]
  },
  {
   "cell_type": "code",
   "execution_count": 137,
   "metadata": {
    "collapsed": false
   },
   "outputs": [
    {
     "data": {
      "text/plain": [
       "8929.1084724598186"
      ]
     },
     "execution_count": 137,
     "metadata": {},
     "output_type": "execute_result"
    }
   ],
   "source": [
    "np.nanmax(u_i_y)"
   ]
  },
  {
   "cell_type": "code",
   "execution_count": 138,
   "metadata": {
    "collapsed": false
   },
   "outputs": [
    {
     "data": {
      "text/plain": [
       "18"
      ]
     },
     "execution_count": 138,
     "metadata": {},
     "output_type": "execute_result"
    }
   ],
   "source": [
    "np.sum(np.isnan(u_i_z[:,:,-1]))"
   ]
  },
  {
   "cell_type": "code",
   "execution_count": 196,
   "metadata": {
    "collapsed": false
   },
   "outputs": [],
   "source": [
    "alpha_from_y = (u_i_y - ion_velocity_term_1[1])/ b_field_norm[1]\n",
    "alpha_from_z = (u_i_z - ion_velocity_term_1[2])/ b_field_norm[2]\n",
    "\n",
    "alpha_from_y_flattened_z04 = alpha_from_y[:,:,-1].ravel()\n",
    "alpha_from_z_flattened_z04 = alpha_from_z[:,:,-1].ravel()\n",
    "points_x = mesh_wo_edges[0][:, :, -1].ravel()\n",
    "points_y = mesh_wo_edges[1][:, :, -1].ravel()\n",
    "points_z_z04 = mesh[2][0,0,-1]*np.ones(points_x.shape)\n",
    "std_z04 = np.expand_dims(np.zeros(points_x.shape), 0)\n",
    "\n",
    "data_y_z04 = {'a_out': np.expand_dims(alpha_from_y_flattened_z04, 0),\n",
    "              'x_out': points_x,\n",
    "              'y_out': points_y,\n",
    "              'z_out': points_z_z04,\n",
    "              'std': std_z04,\n",
    "              'delays': np.asarray([0])\n",
    "              }\n",
    "data_z_z04 = {'a_out': np.expand_dims(alpha_from_z_flattened_z04, 0),\n",
    "              'x_out': points_x,\n",
    "              'y_out': points_y,\n",
    "              'z_out': points_z_z04,\n",
    "              'std': std_z04,\n",
    "              'delays': np.asarray([0])\n",
    "              }\n",
    "\n",
    "data_y_z04 = wcf.remove_nan_points(data_y_z04)\n",
    "data_z_z04 = wcf.remove_nan_points(data_z_z04)\n",
    "\n",
    "positions_to_remove = np.where(np.abs(data_y_z04['a_out'][0]) > np.abs(np.nanmean(data_y_z04['a_out'][0])*10000))\n",
    "\n",
    "data_y_z04 = wcf.remove_positions(data_y_z04, positions_to_remove)\n",
    "\n",
    "alpha_z_z04_triangulation, alpha_z_z04_interpolators = wcf.give_delaunay_and_interpolator(data_z_z04)\n",
    "alpha_y_z04_triangulation, alpha_y_z04_interpolators = wcf.give_delaunay_and_interpolator(data_y_z04)"
   ]
  },
  {
   "cell_type": "code",
   "execution_count": 198,
   "metadata": {
    "collapsed": false
   },
   "outputs": [],
   "source": [
    "alpha_z_test = wcf.scalar_on_mesh(alpha_z_z04_interpolators[0], [mesh_wo_edges[0], mesh_wo_edges[1]])"
   ]
  },
  {
   "cell_type": "code",
   "execution_count": 199,
   "metadata": {
    "collapsed": false
   },
   "outputs": [
    {
     "data": {
      "text/plain": [
       "array([[ -30077.57317871,  -60317.53409594,  -83945.60543762, ...,\n",
       "                     nan,              nan,              nan],\n",
       "       [ -24172.56616334,  -52930.03485501,  -75860.94706965, ...,\n",
       "                     nan,              nan,              nan],\n",
       "       [ -25460.53950678,  -52881.84019926,  -75449.10563471, ...,\n",
       "                     nan,              nan,              nan],\n",
       "       ..., \n",
       "       [ 160201.14996867,  160581.38801274,  149006.56772032, ...,\n",
       "         -41786.37041175,  -57642.57408448,  -68499.09991186],\n",
       "       [ 154431.3674436 ,  153465.55377865,  141361.86435311, ...,\n",
       "         -42818.10227969,  -61058.45642014,  -72434.65955998],\n",
       "       [ 146562.53698349,  145970.77180753,  133290.99516214, ...,\n",
       "         -43687.2102599 ,  -62541.54368526,  -74359.49916604]])"
      ]
     },
     "execution_count": 199,
     "metadata": {},
     "output_type": "execute_result"
    }
   ],
   "source": [
    "alpha_z_test[:,:,0]"
   ]
  },
  {
   "cell_type": "code",
   "execution_count": 200,
   "metadata": {
    "collapsed": true
   },
   "outputs": [],
   "source": [
    "alpha_y_test = wcf.scalar_on_mesh(alpha_y_z04_interpolators[0], [mesh_wo_edges[0], mesh_wo_edges[1]])"
   ]
  },
  {
   "cell_type": "code",
   "execution_count": 201,
   "metadata": {
    "collapsed": false
   },
   "outputs": [
    {
     "data": {
      "text/plain": [
       "array([[               nan,                nan,                nan, ...,\n",
       "           285954.10951832,    426475.28988049,    624614.36836762],\n",
       "       [               nan,                nan,                nan, ...,\n",
       "           272756.9053244 ,    428976.51681497,    672152.82055234],\n",
       "       [ 30207268.71725059,   5299836.3789051 ,   9344650.09128232, ...,\n",
       "           259414.40707432,    426437.64649644,    764486.00349077],\n",
       "       ..., \n",
       "       [ -1536147.88456737,   -930079.78126382,   -842710.97106707, ...,\n",
       "          -239301.97508233,   -399090.42627732,   -638503.82669624],\n",
       "       [  -724056.67279946,  -1098348.44289134,  -1005817.6564336 , ...,\n",
       "          -215513.24735606,   -363933.14715519,   -592296.73030254],\n",
       "       [  -690000.56215443,  -1510926.81595522,  -1308806.91157997, ...,\n",
       "          -207686.64807922,   -360412.0558619 ,   -562901.79855643]])"
      ]
     },
     "execution_count": 201,
     "metadata": {},
     "output_type": "execute_result"
    }
   ],
   "source": [
    "alpha_y_test[:,:,0]"
   ]
  },
  {
   "cell_type": "markdown",
   "metadata": {},
   "source": [
    "# Compare contour plots of ion velocities"
   ]
  },
  {
   "cell_type": "code",
   "execution_count": 202,
   "metadata": {
    "collapsed": false
   },
   "outputs": [
    {
     "data": {
      "image/png": "[encoded data removed]",
      "text/plain": [
       "<matplotlib.figure.Figure at 0x7fcc1df233d0>"
      ]
     },
     "metadata": {},
     "output_type": "display_data"
    }
   ],
   "source": [
    "plt.contourf(mesh_wo_edges[0][:,:,0], mesh_wo_edges[1][:,:,0],\n",
    "             u_i_z[:,:,-1])\n",
    "plt.colorbar()\n",
    "plt.show()"
   ]
  },
  {
   "cell_type": "code",
   "execution_count": 203,
   "metadata": {
    "collapsed": false
   },
   "outputs": [
    {
     "data": {
      "image/png": "[encoded data removed]",
      "text/plain": [
       "<matplotlib.figure.Figure at 0x7fcc1dc7ef90>"
      ]
     },
     "metadata": {},
     "output_type": "display_data"
    }
   ],
   "source": [
    "plt.contourf(mesh_wo_edges[0][:,:,0], mesh_wo_edges[1][:,:,0],\n",
    "             b_field_norm[2][:, :, -1]*alpha_test[:,:,-1]\n",
    "             + ion_velocity_term_1[2][:, :, -1])\n",
    "plt.colorbar()\n",
    "plt.show()"
   ]
  },
  {
   "cell_type": "markdown",
   "metadata": {},
   "source": [
    "# Now look at y using alpha_z interpolation"
   ]
  },
  {
   "cell_type": "code",
   "execution_count": 204,
   "metadata": {
    "collapsed": false
   },
   "outputs": [
    {
     "data": {
      "image/png": "[encoded data removed]",
      "text/plain": [
       "<matplotlib.figure.Figure at 0x7fcc1d911250>"
      ]
     },
     "metadata": {},
     "output_type": "display_data"
    }
   ],
   "source": [
    "plt.contourf(mesh_wo_edges[0][:,:,0], mesh_wo_edges[1][:,:,0],\n",
    "             u_i_y[:,:,-1])\n",
    "plt.colorbar()\n",
    "plt.show()"
   ]
  },
  {
   "cell_type": "code",
   "execution_count": 205,
   "metadata": {
    "collapsed": false
   },
   "outputs": [
    {
     "data": {
      "image/png": "[encoded data removed]",
      "text/plain": [
       "<matplotlib.figure.Figure at 0x7fcc1dba6690>"
      ]
     },
     "metadata": {},
     "output_type": "display_data"
    }
   ],
   "source": [
    "plt.contourf(mesh_wo_edges[0][:,:,0], mesh_wo_edges[1][:,:,0],\n",
    "             b_field_norm[1][:, :, -1]*alpha_test[:,:,-1]\n",
    "             + ion_velocity_term_1[1][:, :, -1])\n",
    "plt.colorbar()\n",
    "plt.show()"
   ]
  },
  {
   "cell_type": "markdown",
   "metadata": {},
   "source": [
    "# Now look at u_y using alpha_y interpolation"
   ]
  },
  {
   "cell_type": "code",
   "execution_count": 206,
   "metadata": {
    "collapsed": false
   },
   "outputs": [
    {
     "data": {
      "image/png": "[encoded data removed]",
      "text/plain": [
       "<matplotlib.figure.Figure at 0x7fcc1db87b10>"
      ]
     },
     "metadata": {},
     "output_type": "display_data"
    }
   ],
   "source": [
    "plt.contourf(mesh_wo_edges[0][:,:,0], mesh_wo_edges[1][:,:,0],\n",
    "             u_i_y[:,:,-1])\n",
    "plt.colorbar()\n",
    "plt.show()"
   ]
  },
  {
   "cell_type": "code",
   "execution_count": 207,
   "metadata": {
    "collapsed": false
   },
   "outputs": [
    {
     "data": {
      "image/png": "[encoded data removed]",
      "text/plain": [
       "<matplotlib.figure.Figure at 0x7fcc1dddf110>"
      ]
     },
     "metadata": {},
     "output_type": "display_data"
    }
   ],
   "source": [
    "plt.contourf(mesh_wo_edges[0][:,:,0], mesh_wo_edges[1][:,:,0],\n",
    "             b_field_norm[1][:, :, -1]*alpha_y_test[:,:,-1]\n",
    "             + ion_velocity_term_1[1][:, :, -1])\n",
    "plt.colorbar()\n",
    "plt.show()"
   ]
  },
  {
   "cell_type": "code",
   "execution_count": 208,
   "metadata": {
    "collapsed": false
   },
   "outputs": [],
   "source": [
    "alpha_y_test_smooth = wcf.boxcar_filter_quantity_mesh(alpha_y_test, 15)"
   ]
  },
  {
   "cell_type": "code",
   "execution_count": 214,
   "metadata": {
    "collapsed": false
   },
   "outputs": [
    {
     "ename": "TypeError",
     "evalue": "__init__() got an unexpected keyword argument 'vmax'",
     "output_type": "error",
     "traceback": [
      "\u001b[1;31m---------------------------------------------------------------------------\u001b[0m",
      "\u001b[1;31mTypeError\u001b[0m                                 Traceback (most recent call last)",
      "\u001b[1;32m<ipython-input-214-a350702a79d6>\u001b[0m in \u001b[0;36m<module>\u001b[1;34m()\u001b[0m\n\u001b[0;32m      2\u001b[0m              \u001b[0mb_field_norm\u001b[0m\u001b[1;33m[\u001b[0m\u001b[1;36m0\u001b[0m\u001b[1;33m]\u001b[0m\u001b[1;33m[\u001b[0m\u001b[1;33m:\u001b[0m\u001b[1;33m,\u001b[0m \u001b[1;33m:\u001b[0m\u001b[1;33m,\u001b[0m \u001b[1;33m-\u001b[0m\u001b[1;36m1\u001b[0m\u001b[1;33m]\u001b[0m\u001b[1;33m*\u001b[0m\u001b[0malpha_y_test\u001b[0m\u001b[1;33m[\u001b[0m\u001b[1;33m:\u001b[0m\u001b[1;33m,\u001b[0m\u001b[1;33m:\u001b[0m\u001b[1;33m,\u001b[0m\u001b[1;33m-\u001b[0m\u001b[1;36m1\u001b[0m\u001b[1;33m]\u001b[0m\u001b[1;33m\u001b[0m\u001b[0m\n\u001b[0;32m      3\u001b[0m              + ion_velocity_term_1[0][:, :, -1], vmax=1e5)\n\u001b[1;32m----> 4\u001b[1;33m \u001b[0mplt\u001b[0m\u001b[1;33m.\u001b[0m\u001b[0mcolorbar\u001b[0m\u001b[1;33m(\u001b[0m\u001b[0mvmax\u001b[0m\u001b[1;33m=\u001b[0m\u001b[1;36m1e5\u001b[0m\u001b[1;33m)\u001b[0m\u001b[1;33m\u001b[0m\u001b[0m\n\u001b[0m\u001b[0;32m      5\u001b[0m \u001b[0mplt\u001b[0m\u001b[1;33m.\u001b[0m\u001b[0mshow\u001b[0m\u001b[1;33m(\u001b[0m\u001b[1;33m)\u001b[0m\u001b[1;33m\u001b[0m\u001b[0m\n",
      "\u001b[1;32m/home/jensv/anaconda/lib/python2.7/site-packages/matplotlib/pyplot.pyc\u001b[0m in \u001b[0;36mcolorbar\u001b[1;34m(mappable, cax, ax, **kw)\u001b[0m\n\u001b[0;32m   2242\u001b[0m         \u001b[0max\u001b[0m \u001b[1;33m=\u001b[0m \u001b[0mgca\u001b[0m\u001b[1;33m(\u001b[0m\u001b[1;33m)\u001b[0m\u001b[1;33m\u001b[0m\u001b[0m\n\u001b[0;32m   2243\u001b[0m \u001b[1;33m\u001b[0m\u001b[0m\n\u001b[1;32m-> 2244\u001b[1;33m     \u001b[0mret\u001b[0m \u001b[1;33m=\u001b[0m \u001b[0mgcf\u001b[0m\u001b[1;33m(\u001b[0m\u001b[1;33m)\u001b[0m\u001b[1;33m.\u001b[0m\u001b[0mcolorbar\u001b[0m\u001b[1;33m(\u001b[0m\u001b[0mmappable\u001b[0m\u001b[1;33m,\u001b[0m \u001b[0mcax\u001b[0m \u001b[1;33m=\u001b[0m \u001b[0mcax\u001b[0m\u001b[1;33m,\u001b[0m \u001b[0max\u001b[0m\u001b[1;33m=\u001b[0m\u001b[0max\u001b[0m\u001b[1;33m,\u001b[0m \u001b[1;33m**\u001b[0m\u001b[0mkw\u001b[0m\u001b[1;33m)\u001b[0m\u001b[1;33m\u001b[0m\u001b[0m\n\u001b[0m\u001b[0;32m   2245\u001b[0m     \u001b[1;32mreturn\u001b[0m \u001b[0mret\u001b[0m\u001b[1;33m\u001b[0m\u001b[0m\n\u001b[0;32m   2246\u001b[0m \u001b[0mcolorbar\u001b[0m\u001b[1;33m.\u001b[0m\u001b[0m__doc__\u001b[0m \u001b[1;33m=\u001b[0m \u001b[0mmatplotlib\u001b[0m\u001b[1;33m.\u001b[0m\u001b[0mcolorbar\u001b[0m\u001b[1;33m.\u001b[0m\u001b[0mcolorbar_doc\u001b[0m\u001b[1;33m\u001b[0m\u001b[0m\n",
      "\u001b[1;32m/home/jensv/anaconda/lib/python2.7/site-packages/matplotlib/figure.pyc\u001b[0m in \u001b[0;36mcolorbar\u001b[1;34m(self, mappable, cax, ax, use_gridspec, **kw)\u001b[0m\n\u001b[0;32m   1591\u001b[0m                 \u001b[0mcax\u001b[0m\u001b[1;33m,\u001b[0m \u001b[0mkw\u001b[0m \u001b[1;33m=\u001b[0m \u001b[0mcbar\u001b[0m\u001b[1;33m.\u001b[0m\u001b[0mmake_axes\u001b[0m\u001b[1;33m(\u001b[0m\u001b[0max\u001b[0m\u001b[1;33m,\u001b[0m \u001b[1;33m**\u001b[0m\u001b[0mkw\u001b[0m\u001b[1;33m)\u001b[0m\u001b[1;33m\u001b[0m\u001b[0m\n\u001b[0;32m   1592\u001b[0m         \u001b[0mcax\u001b[0m\u001b[1;33m.\u001b[0m\u001b[0mhold\u001b[0m\u001b[1;33m(\u001b[0m\u001b[0mTrue\u001b[0m\u001b[1;33m)\u001b[0m\u001b[1;33m\u001b[0m\u001b[0m\n\u001b[1;32m-> 1593\u001b[1;33m         \u001b[0mcb\u001b[0m \u001b[1;33m=\u001b[0m \u001b[0mcbar\u001b[0m\u001b[1;33m.\u001b[0m\u001b[0mcolorbar_factory\u001b[0m\u001b[1;33m(\u001b[0m\u001b[0mcax\u001b[0m\u001b[1;33m,\u001b[0m \u001b[0mmappable\u001b[0m\u001b[1;33m,\u001b[0m \u001b[1;33m**\u001b[0m\u001b[0mkw\u001b[0m\u001b[1;33m)\u001b[0m\u001b[1;33m\u001b[0m\u001b[0m\n\u001b[0m\u001b[0;32m   1594\u001b[0m \u001b[1;33m\u001b[0m\u001b[0m\n\u001b[0;32m   1595\u001b[0m         \u001b[0mself\u001b[0m\u001b[1;33m.\u001b[0m\u001b[0msca\u001b[0m\u001b[1;33m(\u001b[0m\u001b[0mcurrent_ax\u001b[0m\u001b[1;33m)\u001b[0m\u001b[1;33m\u001b[0m\u001b[0m\n",
      "\u001b[1;32m/home/jensv/anaconda/lib/python2.7/site-packages/matplotlib/colorbar.pyc\u001b[0m in \u001b[0;36mcolorbar_factory\u001b[1;34m(cax, mappable, **kwargs)\u001b[0m\n\u001b[0;32m   1328\u001b[0m         \u001b[0mcb\u001b[0m \u001b[1;33m=\u001b[0m \u001b[0mColorbarPatch\u001b[0m\u001b[1;33m(\u001b[0m\u001b[0mcax\u001b[0m\u001b[1;33m,\u001b[0m \u001b[0mmappable\u001b[0m\u001b[1;33m,\u001b[0m \u001b[1;33m**\u001b[0m\u001b[0mkwargs\u001b[0m\u001b[1;33m)\u001b[0m\u001b[1;33m\u001b[0m\u001b[0m\n\u001b[0;32m   1329\u001b[0m     \u001b[1;32melse\u001b[0m\u001b[1;33m:\u001b[0m\u001b[1;33m\u001b[0m\u001b[0m\n\u001b[1;32m-> 1330\u001b[1;33m         \u001b[0mcb\u001b[0m \u001b[1;33m=\u001b[0m \u001b[0mColorbar\u001b[0m\u001b[1;33m(\u001b[0m\u001b[0mcax\u001b[0m\u001b[1;33m,\u001b[0m \u001b[0mmappable\u001b[0m\u001b[1;33m,\u001b[0m \u001b[1;33m**\u001b[0m\u001b[0mkwargs\u001b[0m\u001b[1;33m)\u001b[0m\u001b[1;33m\u001b[0m\u001b[0m\n\u001b[0m\u001b[0;32m   1331\u001b[0m \u001b[1;33m\u001b[0m\u001b[0m\n\u001b[0;32m   1332\u001b[0m     \u001b[0mcid\u001b[0m \u001b[1;33m=\u001b[0m \u001b[0mmappable\u001b[0m\u001b[1;33m.\u001b[0m\u001b[0mcallbacksSM\u001b[0m\u001b[1;33m.\u001b[0m\u001b[0mconnect\u001b[0m\u001b[1;33m(\u001b[0m\u001b[1;34m'changed'\u001b[0m\u001b[1;33m,\u001b[0m \u001b[0mcb\u001b[0m\u001b[1;33m.\u001b[0m\u001b[0mon_mappable_changed\u001b[0m\u001b[1;33m)\u001b[0m\u001b[1;33m\u001b[0m\u001b[0m\n",
      "\u001b[1;32m/home/jensv/anaconda/lib/python2.7/site-packages/matplotlib/colorbar.pyc\u001b[0m in \u001b[0;36m__init__\u001b[1;34m(self, ax, mappable, **kw)\u001b[0m\n\u001b[0;32m    893\u001b[0m             \u001b[0mkw\u001b[0m\u001b[1;33m.\u001b[0m\u001b[0msetdefault\u001b[0m\u001b[1;33m(\u001b[0m\u001b[1;34m'ticks'\u001b[0m\u001b[1;33m,\u001b[0m \u001b[0mticker\u001b[0m\u001b[1;33m.\u001b[0m\u001b[0mFixedLocator\u001b[0m\u001b[1;33m(\u001b[0m\u001b[0mCS\u001b[0m\u001b[1;33m.\u001b[0m\u001b[0mlevels\u001b[0m\u001b[1;33m,\u001b[0m \u001b[0mnbins\u001b[0m\u001b[1;33m=\u001b[0m\u001b[1;36m10\u001b[0m\u001b[1;33m)\u001b[0m\u001b[1;33m)\u001b[0m\u001b[1;33m\u001b[0m\u001b[0m\n\u001b[0;32m    894\u001b[0m             \u001b[0mkw\u001b[0m\u001b[1;33m[\u001b[0m\u001b[1;34m'filled'\u001b[0m\u001b[1;33m]\u001b[0m \u001b[1;33m=\u001b[0m \u001b[0mCS\u001b[0m\u001b[1;33m.\u001b[0m\u001b[0mfilled\u001b[0m\u001b[1;33m\u001b[0m\u001b[0m\n\u001b[1;32m--> 895\u001b[1;33m             \u001b[0mColorbarBase\u001b[0m\u001b[1;33m.\u001b[0m\u001b[0m__init__\u001b[0m\u001b[1;33m(\u001b[0m\u001b[0mself\u001b[0m\u001b[1;33m,\u001b[0m \u001b[0max\u001b[0m\u001b[1;33m,\u001b[0m \u001b[1;33m**\u001b[0m\u001b[0mkw\u001b[0m\u001b[1;33m)\u001b[0m\u001b[1;33m\u001b[0m\u001b[0m\n\u001b[0m\u001b[0;32m    896\u001b[0m             \u001b[1;32mif\u001b[0m \u001b[1;32mnot\u001b[0m \u001b[0mCS\u001b[0m\u001b[1;33m.\u001b[0m\u001b[0mfilled\u001b[0m\u001b[1;33m:\u001b[0m\u001b[1;33m\u001b[0m\u001b[0m\n\u001b[0;32m    897\u001b[0m                 \u001b[0mself\u001b[0m\u001b[1;33m.\u001b[0m\u001b[0madd_lines\u001b[0m\u001b[1;33m(\u001b[0m\u001b[0mCS\u001b[0m\u001b[1;33m)\u001b[0m\u001b[1;33m\u001b[0m\u001b[0m\n",
      "\u001b[1;31mTypeError\u001b[0m: __init__() got an unexpected keyword argument 'vmax'"
     ]
    },
    {
     "data": {
      "image/png": "[encoded data removed]",
      "text/plain": [
       "<matplotlib.figure.Figure at 0x7fcc1d7506d0>"
      ]
     },
     "metadata": {},
     "output_type": "display_data"
    }
   ],
   "source": [
    "plt.contourf(mesh_wo_edges[0][:,:,0], mesh_wo_edges[1][:,:,0],\n",
    "             b_field_norm[0][:, :, -1]*alpha_y_test[:,:,-1]\n",
    "             + ion_velocity_term_1[0][:, :, -1], vmax=1e5)\n",
    "\n",
    "plt.show()"
   ]
  },
  {
   "cell_type": "code",
   "execution_count": 210,
   "metadata": {
    "collapsed": false
   },
   "outputs": [
    {
     "data": {
      "image/png": "[encoded data removed]",
      "text/plain": [
       "<matplotlib.figure.Figure at 0x7fcc1daba650>"
      ]
     },
     "metadata": {},
     "output_type": "display_data"
    }
   ],
   "source": [
    "plt.contourf(mesh_wo_edges[0][:,:,0], mesh_wo_edges[1][:,:,0],\n",
    "             b_field_norm[0][:, :, -1]*alpha_y_test_smooth[:,:,-1]\n",
    "             + ion_velocity_term_1[0][:, :, -1])\n",
    "plt.colorbar()\n",
    "plt.show()"
   ]
  },
  {
   "cell_type": "code",
   "execution_count": 109,
   "metadata": {
    "collapsed": false
   },
   "outputs": [
    {
     "data": {
      "text/plain": [
       "43078.073341196854"
      ]
     },
     "execution_count": 109,
     "metadata": {},
     "output_type": "execute_result"
    }
   ],
   "source": [
    "np.max(ion_velocity_term_1[0][:, :, -1])"
   ]
  },
  {
   "cell_type": "code",
   "execution_count": 114,
   "metadata": {
    "collapsed": false
   },
   "outputs": [
    {
     "data": {
      "text/plain": [
       "73741.779399923471"
      ]
     },
     "execution_count": 114,
     "metadata": {},
     "output_type": "execute_result"
    }
   ],
   "source": [
    "np.max(ion_velocity_term_1[1][:, :, -1])"
   ]
  },
  {
   "cell_type": "code",
   "execution_count": 112,
   "metadata": {
    "collapsed": false
   },
   "outputs": [
    {
     "data": {
      "text/plain": [
       "0.03517617578731113"
      ]
     },
     "execution_count": 112,
     "metadata": {},
     "output_type": "execute_result"
    }
   ],
   "source": [
    "np.max(b_field_norm[1][:, :, -1])"
   ]
  },
  {
   "cell_type": "code",
   "execution_count": 113,
   "metadata": {
    "collapsed": false
   },
   "outputs": [
    {
     "data": {
      "text/plain": [
       "0.038437629454094374"
      ]
     },
     "execution_count": 113,
     "metadata": {},
     "output_type": "execute_result"
    }
   ],
   "source": [
    "np.max(b_field_norm[0][:, :, -1])"
   ]
  },
  {
   "cell_type": "code",
   "execution_count": 103,
   "metadata": {
    "collapsed": false
   },
   "outputs": [
    {
     "data": {
      "text/plain": [
       "-0.93735255358298131"
      ]
     },
     "execution_count": 103,
     "metadata": {},
     "output_type": "execute_result"
    }
   ],
   "source": [
    "np.nanmean(ion_velocity_term_1[0][:, :, -1] / ion_velocity_term_1[1][:, :, -1])"
   ]
  },
  {
   "cell_type": "code",
   "execution_count": 115,
   "metadata": {
    "collapsed": false
   },
   "outputs": [
    {
     "data": {
      "text/plain": [
       "120653116.33147749"
      ]
     },
     "execution_count": 115,
     "metadata": {},
     "output_type": "execute_result"
    }
   ],
   "source": [
    "np.nanmax(b_field_norm[0][:, :, -1]*alpha_y_test[:,:,-1] + ion_velocity_term_1[0][:, :, -1])"
   ]
  },
  {
   "cell_type": "code",
   "execution_count": 120,
   "metadata": {
    "collapsed": false
   },
   "outputs": [
    {
     "data": {
      "text/plain": [
       "(array([13]), array([1]))"
      ]
     },
     "execution_count": 120,
     "metadata": {},
     "output_type": "execute_result"
    }
   ],
   "source": [
    "np.where((b_field_norm[0][:, :, -1]*alpha_y_test[:,:,-1] + ion_velocity_term_1[0][:, :, -1]) > 1.2e8)"
   ]
  },
  {
   "cell_type": "code",
   "execution_count": 122,
   "metadata": {
    "collapsed": false
   },
   "outputs": [
    {
     "data": {
      "text/plain": [
       "120653116.33147749"
      ]
     },
     "execution_count": 122,
     "metadata": {},
     "output_type": "execute_result"
    }
   ],
   "source": [
    "(b_field_norm[0][:, :, -1]*alpha_y_test[:,:,-1] + ion_velocity_term_1[0][:, :, -1])[13,1]"
   ]
  },
  {
   "cell_type": "code",
   "execution_count": 125,
   "metadata": {
    "collapsed": false
   },
   "outputs": [
    {
     "data": {
      "text/plain": [
       "-0.11664500853610586"
      ]
     },
     "execution_count": 125,
     "metadata": {},
     "output_type": "execute_result"
    }
   ],
   "source": [
    "b_field_norm[0][13, 1, -1]"
   ]
  },
  {
   "cell_type": "code",
   "execution_count": 128,
   "metadata": {
    "collapsed": false
   },
   "outputs": [
    {
     "data": {
      "text/plain": [
       "-1034341251.5128467"
      ]
     },
     "execution_count": 128,
     "metadata": {},
     "output_type": "execute_result"
    }
   ],
   "source": [
    "alpha_y_test[13, 1,-1]"
   ]
  },
  {
   "cell_type": "code",
   "execution_count": 130,
   "metadata": {
    "collapsed": false
   },
   "outputs": [
    {
     "data": {
      "text/plain": [
       "2372.2195150640382"
      ]
     },
     "execution_count": 130,
     "metadata": {},
     "output_type": "execute_result"
    }
   ],
   "source": [
    "ion_velocity_term_1[0][13,1,-1]"
   ]
  },
  {
   "cell_type": "code",
   "execution_count": 100,
   "metadata": {
    "collapsed": false
   },
   "outputs": [
    {
     "data": {
      "text/plain": [
       "array([[-50546.96072126, -45378.67521515, -41317.93134228, ...,\n",
       "         10612.52936245,  14491.15108158,  19388.99401389],\n",
       "       [-50362.51371357, -46299.54429775, -43181.0720393 , ...,\n",
       "         10653.90743944,  15192.77105124,  21002.67601336],\n",
       "       [-50385.89371674, -47328.0170793 , -44986.43052606, ...,\n",
       "         10660.22421346,  15750.0235207 ,  22286.89958773],\n",
       "       ..., \n",
       "       [-20279.49378199, -18350.9059534 , -19036.14050642, ...,\n",
       "        -13398.98575049, -21932.75862186, -33518.02641427],\n",
       "       [-19535.54271821, -18499.99738541, -19812.16414624, ...,\n",
       "        -12485.75603765, -20918.63637944, -32509.02520484],\n",
       "       [-21130.69513926, -20855.15725532, -21823.86977278, ...,\n",
       "        -12076.99398919, -20456.99504644, -32086.57535429]])"
      ]
     },
     "execution_count": 100,
     "metadata": {},
     "output_type": "execute_result"
    }
   ],
   "source": [
    "ion_velocity_term_1[1][:, :, -1]"
   ]
  },
  {
   "cell_type": "code",
   "execution_count": null,
   "metadata": {
    "collapsed": true
   },
   "outputs": [],
   "source": [
    "alpha_from_y_flattened_z04 = alpha_from_y[:,:,-1].ravel()\n",
    "alpha_from_z_flattened_z04 = alpha_from_z[:,:,-1].ravel()\n",
    "points_x = mesh_wo_edges[0][:, :, -1].ravel()\n",
    "points_y = mesh_wo_edges[1][:, :, -1].ravel()\n",
    "points_z_z04 = mesh[2][0,0,-1]*np.ones(points_x.shape)\n",
    "std_z04 = np.expand_dims(np.zeros(points_x.shape), 0)\n",
    "\n",
    "data_y_z04 = {'a_out': np.expand_dims(alpha_from_y_flattened_z04, 0),\n",
    "              'x_out': points_x,\n",
    "              'y_out': points_y,\n",
    "              'z_out': points_z_z04,\n",
    "              'std': std_z04\n",
    "              }"
   ]
  }
 ],
 "metadata": {
  "kernelspec": {
   "display_name": "Python 2",
   "language": "python",
   "name": "python2"
  },
  "language_info": {
   "codemirror_mode": {
    "name": "ipython",
    "version": 2
   },
   "file_extension": ".py",
   "mimetype": "text/x-python",
   "name": "python",
   "nbconvert_exporter": "python",
   "pygments_lexer": "ipython2",
   "version": "2.7.12"
  }
 },
 "nbformat": 4,
 "nbformat_minor": 0
}
