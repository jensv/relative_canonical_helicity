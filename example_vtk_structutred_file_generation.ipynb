{
 "cells": [
  {
   "cell_type": "code",
   "execution_count": 186,
   "metadata": {
    "collapsed": false
   },
   "outputs": [
    {
     "data": {
      "text/plain": [
       "<module 'idl_plane_to_structured_vtk' from 'idl_plane_to_structured_vtk.py'>"
      ]
     },
     "execution_count": 186,
     "metadata": {},
     "output_type": "execute_result"
    }
   ],
   "source": [
    "import scipy.io.idl as idl\n",
    "import numpy as np\n",
    "from scipy.interpolate import griddata\n",
    "import idl_plane_to_structured_vtk as idl_to_vtk\n",
    "reload(idl_to_vtk)"
   ]
  },
  {
   "cell_type": "markdown",
   "metadata": {},
   "source": [
    "# Try to store a single time from Jason's IDL scripts\n",
    "Store $\\vec{B}$, $T$, and $n$."
   ]
  },
  {
   "cell_type": "code",
   "execution_count": 12,
   "metadata": {
    "collapsed": true
   },
   "outputs": [],
   "source": [
    "b_x_measurement_points_timestamp = '115110949362'\n",
    "b_y_measurement_points_timestamp = '115110949522'\n",
    "b_z_measurement_points_timestamp = '115110938869'\n",
    "triple_measurement_points_timestamp = '115112535917'\n",
    "b_x_measurements_timestamp = '115112539367'\n",
    "b_y_measurements_timestamp = '115112539384'\n",
    "b_z_measurements_timestamp = '115112539331'\n",
    "n_measurements_timestamp = '115112539443'\n",
    "t_measurements_timestamp = '115112539427'"
   ]
  },
  {
   "cell_type": "code",
   "execution_count": 13,
   "metadata": {
    "collapsed": true
   },
   "outputs": [],
   "source": [
    "data_path = '../../cataloging_physics_quantities/output/intermediate/'\n",
    "data_ending = '.sav'\n",
    "b_x_measurement_points_file = data_path + b_x_measurement_points_timestamp + data_ending\n",
    "b_y_measurement_points_file = data_path + b_y_measurement_points_timestamp + data_ending\n",
    "b_z_measurement_points_file = data_path + b_z_measurement_points_timestamp + data_ending\n",
    "triple_measurement_points_file = data_path + triple_measurement_points_timestamp + data_ending \n",
    "b_x_measurements_file = data_path + b_x_measurements_timestamp + data_ending\n",
    "b_y_measurements_file = data_path + b_y_measurements_timestamp + data_ending\n",
    "b_z_measurements_file = data_path + b_z_measurements_timestamp + data_ending\n",
    "n_measurements_file = data_path + n_measurements_timestamp + data_ending\n",
    "t_measurements_file = data_path + t_measurements_timestamp + data_ending"
   ]
  },
  {
   "cell_type": "code",
   "execution_count": 14,
   "metadata": {
    "collapsed": false
   },
   "outputs": [],
   "source": [
    "b_x_measurement_points = idl.readsav(b_x_measurement_points_file)\n",
    "b_y_measurement_points = idl.readsav(b_y_measurement_points_file)\n",
    "b_z_measurement_points = idl.readsav(b_z_measurement_points_file)\n",
    "triple_measurement_points =  idl.readsav(triple_measurement_points_file)\n",
    "b_x_measurements = idl.readsav(b_x_measurements_file)\n",
    "b_y_measurements = idl.readsav(b_y_measurements_file)\n",
    "b_z_measurements = idl.readsav(b_z_measurements_file)\n",
    "n_measurements = idl.readsav(n_measurements_file)\n",
    "t_measurements = idl.readsav(t_measurements_file)"
   ]
  },
  {
   "cell_type": "code",
   "execution_count": 61,
   "metadata": {
    "collapsed": false
   },
   "outputs": [],
   "source": [
    "n_resampled, x_grid, y_grid = resample_on_structutred_grid(n_measurements, 0)"
   ]
  },
  {
   "cell_type": "code",
   "execution_count": 65,
   "metadata": {
    "collapsed": true
   },
   "outputs": [],
   "source": [
    "mesh = prepare_mesh(x_grid, y_grid, 0.25)"
   ]
  },
  {
   "cell_type": "code",
   "execution_count": 66,
   "metadata": {
    "collapsed": true
   },
   "outputs": [],
   "source": [
    "n_prepared = prepare_scalar(n_resampled)"
   ]
  },
  {
   "cell_type": "code",
   "execution_count": 68,
   "metadata": {
    "collapsed": false
   },
   "outputs": [],
   "source": [
    "write_to_structured_grid('../output/density2.vts', n_prepared, 'n', mesh)"
   ]
  },
  {
   "cell_type": "code",
   "execution_count": 178,
   "metadata": {
    "collapsed": false
   },
   "outputs": [
    {
     "data": {
      "text/plain": [
       "(21, 526)"
      ]
     },
     "execution_count": 178,
     "metadata": {},
     "output_type": "execute_result"
    }
   ],
   "source": [
    "t_measurements['a_out'].shape"
   ]
  },
  {
   "cell_type": "code",
   "execution_count": 184,
   "metadata": {
    "collapsed": false
   },
   "outputs": [],
   "source": [
    "for time_point in xrange(21):\n",
    "    file_name = '../output/2015-12-03/temperature_%i.vts' % time_point\n",
    "    (x_min, x_max,\n",
    "     y_min, y_max) = idl_to_vtk.determine_sample_bounds([t_measurements])\n",
    "    (t_resampled, \n",
    "     x_grid, y_grid) = idl_to_vtk.resample_scalar(t_measurements,\n",
    "                                                  time_point,\n",
    "                                                  x_min, x_max, y_min, y_max,\n",
    "                                                  to_clip=[0, 94, 0, 94])\n",
    "    mesh = idl_to_vtk.prepare_mesh(x_grid, y_grid, 0.25)\n",
    "    t_reshaped = idl_to_vtk.reshape_scalar(t_resampled)\n",
    "    idl_to_vtk.write_to_structured_grid(file_name, t_reshaped, 't', mesh)"
   ]
  },
  {
   "cell_type": "code",
   "execution_count": 189,
   "metadata": {
    "collapsed": false
   },
   "outputs": [],
   "source": [
    "for time_point in xrange(21):\n",
    "    file_name = '../output/2015-12-03/magnetic_field_offset_%i.vts' % time_point\n",
    "    vector_dicts = [b_x_measurements, b_y_measurements, b_z_measurements]\n",
    "    (x_min, x_max,\n",
    "     y_min, y_max) = idl_to_vtk.determine_sample_bounds(vector_dicts)\n",
    "    (b_resampled, \n",
    "     x_grid, y_grid) = idl_to_vtk.resample_vector(vector_dicts[0], \n",
    "                                                  vector_dicts[1],\n",
    "                                                  vector_dicts[2],\n",
    "                                                  time_point,\n",
    "                                                  x_min, x_max, y_min, y_max,\n",
    "                                                  to_clip=[0, 94, 0, 94]) \n",
    "    mesh = idl_to_vtk.prepare_mesh(x_grid, y_grid, 0.3)\n",
    "    b_vector = idl_to_vtk.reshape_vector(*b_resampled)\n",
    "    idl_to_vtk.write_to_structured_grid(file_name, b_vector, 'B', mesh)"
   ]
  },
  {
   "cell_type": "code",
   "execution_count": null,
   "metadata": {
    "collapsed": true
   },
   "outputs": [],
   "source": []
  }
 ],
 "metadata": {
  "kernelspec": {
   "display_name": "Python 2",
   "language": "python",
   "name": "python2"
  },
  "language_info": {
   "codemirror_mode": {
    "name": "ipython",
    "version": 2
   },
   "file_extension": ".py",
   "mimetype": "text/x-python",
   "name": "python",
   "nbconvert_exporter": "python",
   "pygments_lexer": "ipython2",
   "version": "2.7.10"
  }
 },
 "nbformat": 4,
 "nbformat_minor": 0
}
