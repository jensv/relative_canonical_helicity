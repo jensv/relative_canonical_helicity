{
 "cells": [
  {
   "cell_type": "code",
   "execution_count": 22,
   "metadata": {
    "collapsed": true
   },
   "outputs": [],
   "source": [
    "import scipy.io.idl as idl\n",
    "import numpy as np\n",
    "from scipy.interpolate import griddata"
   ]
  },
  {
   "cell_type": "code",
   "execution_count": 48,
   "metadata": {
    "collapsed": false
   },
   "outputs": [
    {
     "name": "stdout",
     "output_type": "stream",
     "text": [
      "mesh (3, 10, 20, 30)\n",
      "data (1, 10, 20, 30)\n",
      "r (1, 10, 20, 30)\n"
     ]
    },
    {
     "ename": "RuntimeError",
     "evalue": "output file 'yo1.vts' already exists",
     "output_type": "error",
     "traceback": [
      "\u001b[0;31m---------------------------------------------------------------------------\u001b[0m",
      "\u001b[0;31mRuntimeError\u001b[0m                              Traceback (most recent call last)",
      "\u001b[0;32m<ipython-input-48-5cda85a5416c>\u001b[0m in \u001b[0;36m<module>\u001b[0;34m()\u001b[0m\n\u001b[1;32m     26\u001b[0m \u001b[0;34m\u001b[0m\u001b[0m\n\u001b[1;32m     27\u001b[0m write_structured_grid(\"yo1.vts\", mesh,\n\u001b[0;32m---> 28\u001b[0;31m         point_data=[(\"phi\", phi), (\"vec\", vec)])\n\u001b[0m",
      "\u001b[0;32m/Users/vonderlinden2/anaconda/lib/python2.7/site-packages/pyvisfile/vtk/__init__.pyc\u001b[0m in \u001b[0;36mwrite_structured_grid\u001b[0;34m(file_name, mesh, cell_data, point_data)\u001b[0m\n\u001b[1;32m    679\u001b[0m     \u001b[0;32mif\u001b[0m \u001b[0mexists\u001b[0m\u001b[0;34m(\u001b[0m\u001b[0mfile_name\u001b[0m\u001b[0;34m)\u001b[0m\u001b[0;34m:\u001b[0m\u001b[0;34m\u001b[0m\u001b[0m\n\u001b[1;32m    680\u001b[0m         raise RuntimeError(\"output file '%s' already exists\"\n\u001b[0;32m--> 681\u001b[0;31m                 % file_name)\n\u001b[0m\u001b[1;32m    682\u001b[0m \u001b[0;34m\u001b[0m\u001b[0m\n\u001b[1;32m    683\u001b[0m     \u001b[0moutf\u001b[0m \u001b[0;34m=\u001b[0m \u001b[0mopen\u001b[0m\u001b[0;34m(\u001b[0m\u001b[0mfile_name\u001b[0m\u001b[0;34m,\u001b[0m \u001b[0;34m\"w\"\u001b[0m\u001b[0;34m)\u001b[0m\u001b[0;34m\u001b[0m\u001b[0m\n",
      "\u001b[0;31mRuntimeError\u001b[0m: output file 'yo1.vts' already exists"
     ]
    }
   ],
   "source": [
    "from pyvisfile.vtk import write_structured_grid\n",
    "\n",
    "import numpy as np\n",
    "\n",
    "angle_mesh = np.mgrid[1:2:10j, 0:2*np.pi:20j, 0:np.pi:30j]\n",
    "\n",
    "r = angle_mesh[0, np.newaxis]\n",
    "phi = angle_mesh[1, np.newaxis]\n",
    "theta = angle_mesh[2, np.newaxis]\n",
    "mesh = np.vstack((\n",
    "    r*np.sin(theta)*np.cos(phi),\n",
    "    r*np.sin(theta)*np.sin(phi),\n",
    "    r*np.cos(theta),\n",
    "    ))\n",
    "\n",
    "from pytools.obj_array import make_obj_array\n",
    "vec = make_obj_array([\n",
    "    np.sin(theta)*np.cos(phi),\n",
    "    np.sin(theta)*np.sin(phi),\n",
    "    np.cos(theta),\n",
    "    ])\n",
    "\n",
    "print 'mesh', mesh.shape\n",
    "print 'data', phi.shape\n",
    "print 'r', r.shape\n",
    "\n",
    "write_structured_grid(\"yo1.vts\", mesh,\n",
    "        point_data=[(\"phi\", phi), (\"vec\", vec)])"
   ]
  },
  {
   "cell_type": "markdown",
   "metadata": {},
   "source": [
    "# Try to store a single time from Jason's IDL scripts\n",
    "Store $\\vec{B}$, $T$, and $n$."
   ]
  },
  {
   "cell_type": "code",
   "execution_count": 12,
   "metadata": {
    "collapsed": true
   },
   "outputs": [],
   "source": [
    "b_x_measurement_points_timestamp = '115110949362'\n",
    "b_y_measurement_points_timestamp = '115110949522'\n",
    "b_z_measurement_points_timestamp = '115110938869'\n",
    "triple_measurement_points_timestamp = '115112535917'\n",
    "b_x_measurements_timestamp = '115112539367'\n",
    "b_y_measurements_timestamp = '115112539384'\n",
    "b_z_measurements_timestamp = '115112539331'\n",
    "n_measurements_timestamp = '115112539443'\n",
    "t_measurements_timestamp = '115112539427'"
   ]
  },
  {
   "cell_type": "code",
   "execution_count": 13,
   "metadata": {
    "collapsed": true
   },
   "outputs": [],
   "source": [
    "data_path = '../../cataloging_physics_quantities/output/intermediate/'\n",
    "data_ending = '.sav'\n",
    "b_x_measurement_points_file = data_path + b_x_measurement_points_timestamp + data_ending\n",
    "b_y_measurement_points_file = data_path + b_y_measurement_points_timestamp + data_ending\n",
    "b_z_measurement_points_file = data_path + b_z_measurement_points_timestamp + data_ending\n",
    "triple_measurement_points_file = data_path + triple_measurement_points_timestamp + data_ending \n",
    "b_x_measurements_file = data_path + b_x_measurements_timestamp + data_ending\n",
    "b_y_measurements_file = data_path + b_y_measurements_timestamp + data_ending\n",
    "b_z_measurements_file = data_path + b_z_measurements_timestamp + data_ending\n",
    "n_measurements_file = data_path + n_measurements_timestamp + data_ending\n",
    "t_measurements_file = data_path + t_measurements_timestamp + data_ending"
   ]
  },
  {
   "cell_type": "code",
   "execution_count": 14,
   "metadata": {
    "collapsed": false
   },
   "outputs": [],
   "source": [
    "b_x_measurement_points = idl.readsav(b_x_measurement_points_file)\n",
    "b_y_measurement_points = idl.readsav(b_y_measurement_points_file)\n",
    "b_z_measurement_points = idl.readsav(b_z_measurement_points_file)\n",
    "triple_measurement_points =  idl.readsav(triple_measurement_points_file)\n",
    "b_x_measurements = idl.readsav(b_x_measurements_file)\n",
    "b_y_measurements = idl.readsav(b_y_measurements_file)\n",
    "b_z_measurements = idl.readsav(b_z_measurements_file)\n",
    "n_measurements = idl.readsav(n_measurements_file)\n",
    "t_measurements = idl.readsav(t_measurements_file)"
   ]
  },
  {
   "cell_type": "code",
   "execution_count": 20,
   "metadata": {
    "collapsed": true
   },
   "outputs": [],
   "source": [
    "def read_data(file_name):\n",
    "    r\"\"\"\n",
    "    Read IDL sav file.\n",
    "    \"\"\"\n",
    "    data_dict = idl.readsav(file_name)    \n",
    "    return data_dict"
   ]
  },
  {
   "cell_type": "code",
   "execution_count": 132,
   "metadata": {
    "collapsed": true
   },
   "outputs": [],
   "source": [
    "def resample_on_structutred_grid(data_dict, \n",
    "                                 time_point,\n",
    "                                 x_min, x_max,\n",
    "                                 y_min, y_max,\n",
    "                                 x_points=50, \n",
    "                                 y_points=50, \n",
    "                                 to_clip=[0, -1, 0, -1]):\n",
    "    r\"\"\"\n",
    "    \"\"\"\n",
    "    x_points = np.linspace(x_min, x_max, 100)\n",
    "    y_points = np.linspace(y_min, y_max, 100)\n",
    "    x_grid, y_grid = np.meshgrid(x_points, y_points)\n",
    "    quantity_interpolated = griddata(np.dstack((data_dict['x_out'], \n",
    "                                                data_dict['y_out']))[0],\n",
    "                                                data_dict['a_out'][time_point],\n",
    "                                                (x_grid, y_grid))\n",
    "    x_slice = slice(to_clip[0], to_clip[1])\n",
    "    y_slice = slice(to_clip[2], to_clip[3])\n",
    "    quantity_interpolated = quantity_interpolated[x_slice, y_slice]\n",
    "    x_grid = x_grid[x_slice, y_slice]\n",
    "    y_grid = y_grid[x_slice, y_slice]\n",
    "    return quantity_interpolated, x_grid, y_grid"
   ]
  },
  {
   "cell_type": "code",
   "execution_count": null,
   "metadata": {
    "collapsed": true
   },
   "outputs": [],
   "source": [
    "def determine_scalar_sample_bounds(data_dicts):\n",
    "    x_mins = np.asarray([np.nanmin(data_dict['x_out']) for data_dict in data_dicts])\n",
    "    x_maxs = np.asarray([np.nanmax(data_dict['x_out']) for data_dict in data_dicts])  \n",
    "    y_mins = np.asarray([np.nanmin(data_dict['y_out']) for data_dict in data_dicts])\n",
    "    y_maxs = np.asarray([np.nanmax(data_dict['y_out']) for data_dict in data_dicts])\n",
    "    x_min = x_mins.max()\n",
    "    x_max = x_maxs.min()\n",
    "    y_min = y_mins.max()\n",
    "    y_max = y_maxs.min()\n",
    "    return x_min, x_max, y_min, y_max    "
   ]
  },
  {
   "cell_type": "code",
   "execution_count": null,
   "metadata": {
    "collapsed": true
   },
   "outputs": [],
   "source": []
  },
  {
   "cell_type": "code",
   "execution_count": null,
   "metadata": {
    "collapsed": true
   },
   "outputs": [],
   "source": [
    "def resample_on_structutred_grid(data_dict, \n",
    "                                 time_point, \n",
    "                                 x_points=50, \n",
    "                                 y_points=50, \n",
    "                                 to_clip=[0, -1, 0, -1]):\n",
    "    r\"\"\"\n",
    "    \"\"\"\n",
    "    quantity_max = data_dict['a_out'].max()\n",
    "    quantity_min = data_dict['a_out'].min()\n",
    "    x_min = np.nanmin(data_dict['x_out'])\n",
    "    x_max = np.nanmax(data_dict['x_out'])    \n",
    "    y_min = np.nanmin(data_dict['y_out'])\n",
    "    y_max = np.nanmax(data_dict['y_out'])\n",
    "    x_points = np.linspace(x_min, x_max, 100)\n",
    "    y_points = np.linspace(y_min, y_max, 100)\n",
    "    x_grid, y_grid = np.meshgrid(x_points, y_points)\n",
    "    quantity_interpolated = griddata(np.dstack((data_dict['x_out'], \n",
    "                                                data_dict['y_out']))[0],\n",
    "                                                data_dict['a_out'][time_point],\n",
    "                                                (x_grid, y_grid))\n",
    "    x_slice = slice(to_clip[0], to_clip[1])\n",
    "    y_slice = slice(to_clip[2], to_clip[3])\n",
    "    quantity_interpolated = quantity_interpolated[x_slice, y_slice]\n",
    "    x_grid = x_grid[x_slice, y_slice]\n",
    "    y_grid = y_grid[x_slice, y_slice]\n",
    "    return quantity_interpolated, x_grid, y_grid"
   ]
  },
  {
   "cell_type": "code",
   "execution_count": 57,
   "metadata": {
    "collapsed": true
   },
   "outputs": [],
   "source": [
    "def prepare_mesh(x_grid, y_grid, z_position):\n",
    "    r\"\"\"\n",
    "    \"\"\"\n",
    "    shape = (x_grid.shape[0], x_grid.shape[1])\n",
    "    z_grid = np.ones(shape)*z_position\n",
    "    x_grid = np.expand_dims(np.expand_dims(x_grid, 2), 0)\n",
    "    y_grid = np.expand_dims(np.expand_dims(y_grid, 2), 0)\n",
    "    z_grid = np.expand_dims(np.expand_dims(z_grid, 2), 0)\n",
    "    mesh = np.vstack((x_grid, y_grid, z_grid))\n",
    "    return mesh"
   ]
  },
  {
   "cell_type": "code",
   "execution_count": 58,
   "metadata": {
    "collapsed": true
   },
   "outputs": [],
   "source": [
    "def prepare_vector(vector_x, vector_y, vector_z):\n",
    "    r\"\"\"\n",
    "    \"\"\"\n",
    "    msg = 'Vector should be on a 2D plane.'\n",
    "    assert len(vector_x.shape) == len(vector_y.shape) ==  len(vector_z.shape) == 2, msg \n",
    "    msg = 'Vector components do not have same dimensions.' \n",
    "    assert vector_x.shape[0] == vector_y.shape[0] == vector_z.shape[0], msg\n",
    "    assert vector_x.shape[1] == vector_y.shape[1] == vector_z.shape[1], msg\n",
    "    vector_x = np.expand_dims(np.expand_dims(vector_x, 2), 0)\n",
    "    vector_y = np.expand_dims(np.expand_dims(vector_y, 2), 0)\n",
    "    vecotr_z = np.expand_dims(np.expand_dims(vector_z, 2), 0)\n",
    "    vector = make_obj_array([vector_x, vector_y, vector_z])\n",
    "    return vector"
   ]
  },
  {
   "cell_type": "code",
   "execution_count": 59,
   "metadata": {
    "collapsed": true
   },
   "outputs": [],
   "source": [
    "def prepare_scalar(scalar):\n",
    "    r\"\"\"\n",
    "    \"\"\"\n",
    "    msg = 'Scalar should be on a 2D plane.'\n",
    "    assert len(scalar.shape) == 2, msg \n",
    "    scalar = np.expand_dims(np.expand_dims(scalar, 2), 0)\n",
    "    return scalar"
   ]
  },
  {
   "cell_type": "code",
   "execution_count": 60,
   "metadata": {
    "collapsed": true
   },
   "outputs": [],
   "source": [
    "def write_to_structured_grid(file_name, data, label, mesh):\n",
    "    r\"\"\"\n",
    "    \"\"\"\n",
    "    write_structured_grid(file_name, \n",
    "                          mesh,\n",
    "                          point_data=[(label, data)])"
   ]
  },
  {
   "cell_type": "code",
   "execution_count": 61,
   "metadata": {
    "collapsed": false
   },
   "outputs": [],
   "source": [
    "n_resampled, x_grid, y_grid = resample_on_structutred_grid(n_measurements, 0)"
   ]
  },
  {
   "cell_type": "code",
   "execution_count": 65,
   "metadata": {
    "collapsed": true
   },
   "outputs": [],
   "source": [
    "mesh = prepare_mesh(x_grid, y_grid, 0.25)"
   ]
  },
  {
   "cell_type": "code",
   "execution_count": 66,
   "metadata": {
    "collapsed": true
   },
   "outputs": [],
   "source": [
    "n_prepared = prepare_scalar(n_resampled)"
   ]
  },
  {
   "cell_type": "code",
   "execution_count": 68,
   "metadata": {
    "collapsed": false
   },
   "outputs": [],
   "source": [
    "write_to_structured_grid('../output/density2.vts', n_prepared, 'n', mesh)"
   ]
  },
  {
   "cell_type": "code",
   "execution_count": 69,
   "metadata": {
    "collapsed": false
   },
   "outputs": [
    {
     "name": "stdout",
     "output_type": "stream",
     "text": [
      "mesh (3, 100, 100, 1)\n",
      "data (1, 100, 100, 1)\n"
     ]
    }
   ],
   "source": [
    "print 'mesh', mesh.shape\n",
    "print 'data', n_prepared.shape "
   ]
  },
  {
   "cell_type": "code",
   "execution_count": 138,
   "metadata": {
    "collapsed": false
   },
   "outputs": [],
   "source": [
    "t_resampled, x_grid, y_grid = resample_on_structutred_grid(t_measurements, 0, to_clip=[0, 94, 0, 94])"
   ]
  },
  {
   "cell_type": "code",
   "execution_count": 139,
   "metadata": {
    "collapsed": true
   },
   "outputs": [],
   "source": [
    "mesh = prepare_mesh(x_grid, y_grid, 0.25)"
   ]
  },
  {
   "cell_type": "code",
   "execution_count": 140,
   "metadata": {
    "collapsed": true
   },
   "outputs": [],
   "source": [
    "t_prepared = prepare_scalar(t_resampled)"
   ]
  },
  {
   "cell_type": "code",
   "execution_count": 141,
   "metadata": {
    "collapsed": false,
    "scrolled": true
   },
   "outputs": [],
   "source": [
    "write_to_structured_grid('../output/temperatur6.vts', t_prepared, 't', mesh)"
   ]
  },
  {
   "cell_type": "code",
   "execution_count": 142,
   "metadata": {
    "collapsed": false
   },
   "outputs": [
    {
     "data": {
      "text/plain": [
       "(94, 94)"
      ]
     },
     "execution_count": 142,
     "metadata": {},
     "output_type": "execute_result"
    }
   ],
   "source": [
    "t_resampled.shape"
   ]
  },
  {
   "cell_type": "code",
   "execution_count": 149,
   "metadata": {
    "collapsed": false
   },
   "outputs": [],
   "source": [
    "b_x_resampled, x_grid, y_grid = resample_on_structutred_grid(b_x_measurements, 0)\n",
    "b_y_resampled, x_grid, y_grid = resample_on_structutred_grid(b_x_measurements, 0)\n",
    "b_z_resampled, x_grid, y_grid = resample_on_structutred_grid(b_x_measurements, 0)"
   ]
  },
  {
   "cell_type": "code",
   "execution_count": 150,
   "metadata": {
    "collapsed": false
   },
   "outputs": [
    {
     "data": {
      "text/plain": [
       "(array([ 0,  0,  0,  0,  0,  0,  0,  0,  0,  0,  0,  0,  0,  0,  1,  1,  1,\n",
       "         1,  1,  1,  1,  1,  1,  1,  1,  1,  1,  2,  2,  2,  2,  2,  2,  2,\n",
       "         2,  2,  2,  2,  2,  3,  3,  3,  3,  3,  3,  3,  3,  3,  3,  3,  4,\n",
       "         4,  4,  4,  4,  4,  4,  4,  4,  4,  5,  5,  5,  5,  5,  5,  5,  5,\n",
       "         5,  6,  6,  6,  6,  6,  6,  6,  6,  7,  7,  7,  7,  7,  7,  7,  8,\n",
       "         8,  8,  8,  8,  8,  9,  9,  9,  9,  9, 10, 10, 10, 10, 11, 11, 11,\n",
       "        12, 12, 13, 91, 92, 92, 93, 93, 93, 94, 94, 94, 94, 95, 95, 95, 95,\n",
       "        95, 96, 96, 96, 96, 96, 96, 97, 97, 97, 97, 97, 97, 97, 98, 98, 98,\n",
       "        98, 98, 98, 98, 98]),\n",
       " array([ 0,  1,  2,  3,  4,  5,  6,  7,  8,  9, 10, 11, 12, 13,  0,  1,  2,\n",
       "         3,  4,  5,  6,  7,  8,  9, 10, 11, 12,  0,  1,  2,  3,  4,  5,  6,\n",
       "         7,  8,  9, 10, 11,  0,  1,  2,  3,  4,  5,  6,  7,  8,  9, 10,  0,\n",
       "         1,  2,  3,  4,  5,  6,  7,  8,  9,  0,  1,  2,  3,  4,  5,  6,  7,\n",
       "         8,  0,  1,  2,  3,  4,  5,  6,  7,  0,  1,  2,  3,  4,  5,  6,  0,\n",
       "         1,  2,  3,  4,  5,  0,  1,  2,  3,  4,  0,  1,  2,  3,  0,  1,  2,\n",
       "         0,  1,  0,  0,  0,  1,  0,  1,  2,  0,  1,  2,  3,  0,  1,  2,  3,\n",
       "         4,  0,  1,  2,  3,  4,  5,  0,  1,  2,  3,  4,  5,  6,  0,  1,  2,\n",
       "         3,  4,  5,  6,  7]))"
      ]
     },
     "execution_count": 150,
     "metadata": {},
     "output_type": "execute_result"
    }
   ],
   "source": [
    "np.where(np.isnan(b_x_resampled))"
   ]
  },
  {
   "cell_type": "code",
   "execution_count": 148,
   "metadata": {
    "collapsed": false
   },
   "outputs": [
    {
     "data": {
      "text/plain": [
       "(array([[             nan,              nan,              nan, ...,\n",
       "           1.19409625e-04,   1.16660935e-04,   1.13912246e-04],\n",
       "        [             nan,              nan,              nan, ...,\n",
       "          -9.74559990e-06,  -3.52371282e-05,  -6.07286565e-05],\n",
       "        [             nan,              nan,              nan, ...,\n",
       "          -2.07129267e-04,  -2.32620795e-04,  -2.58112324e-04],\n",
       "        ..., \n",
       "        [             nan,              nan,              nan, ...,\n",
       "          -1.73300701e-04,  -1.38142752e-04,  -1.02984803e-04],\n",
       "        [             nan,              nan,              nan, ...,\n",
       "          -1.75282231e-04,  -1.46369746e-04,  -1.21999279e-04],\n",
       "        [             nan,              nan,              nan, ...,\n",
       "          -1.71169648e-04,  -1.46799181e-04,  -1.22428714e-04]]),\n",
       " array([[-0.032     , -0.03142424, -0.03084849, ...,  0.02327273,\n",
       "          0.02384849,  0.02442424],\n",
       "        [-0.032     , -0.03142424, -0.03084849, ...,  0.02327273,\n",
       "          0.02384849,  0.02442424],\n",
       "        [-0.032     , -0.03142424, -0.03084849, ...,  0.02327273,\n",
       "          0.02384849,  0.02442424],\n",
       "        ..., \n",
       "        [-0.032     , -0.03142424, -0.03084849, ...,  0.02327273,\n",
       "          0.02384849,  0.02442424],\n",
       "        [-0.032     , -0.03142424, -0.03084849, ...,  0.02327273,\n",
       "          0.02384849,  0.02442424],\n",
       "        [-0.032     , -0.03142424, -0.03084849, ...,  0.02327273,\n",
       "          0.02384849,  0.02442424]]),\n",
       " array([[-0.07600001, -0.07600001, -0.07600001, ..., -0.07600001,\n",
       "         -0.07600001, -0.07600001],\n",
       "        [-0.07481819, -0.07481819, -0.07481819, ..., -0.07481819,\n",
       "         -0.07481819, -0.07481819],\n",
       "        [-0.07363637, -0.07363637, -0.07363637, ..., -0.07363637,\n",
       "         -0.07363637, -0.07363637],\n",
       "        ..., \n",
       "        [ 0.03745455,  0.03745455,  0.03745455, ...,  0.03745455,\n",
       "          0.03745455,  0.03745455],\n",
       "        [ 0.03863636,  0.03863636,  0.03863636, ...,  0.03863636,\n",
       "          0.03863636,  0.03863636],\n",
       "        [ 0.03981818,  0.03981818,  0.03981818, ...,  0.03981818,\n",
       "          0.03981818,  0.03981818]]))"
      ]
     },
     "execution_count": 148,
     "metadata": {},
     "output_type": "execute_result"
    }
   ],
   "source": [
    "b_x_resampled"
   ]
  },
  {
   "cell_type": "code",
   "execution_count": null,
   "metadata": {
    "collapsed": true
   },
   "outputs": [],
   "source": []
  }
 ],
 "metadata": {
  "kernelspec": {
   "display_name": "Python 2",
   "language": "python",
   "name": "python2"
  },
  "language_info": {
   "codemirror_mode": {
    "name": "ipython",
    "version": 2
   },
   "file_extension": ".py",
   "mimetype": "text/x-python",
   "name": "python",
   "nbconvert_exporter": "python",
   "pygments_lexer": "ipython2",
   "version": "2.7.10"
  }
 },
 "nbformat": 4,
 "nbformat_minor": 0
}
