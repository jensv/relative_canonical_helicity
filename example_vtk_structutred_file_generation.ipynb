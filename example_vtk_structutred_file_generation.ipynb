{
 "cells": [
  {
   "cell_type": "code",
   "execution_count": 155,
   "metadata": {
    "collapsed": false
   },
   "outputs": [
    {
     "data": {
      "text/plain": [
       "<module 'idl_plane_to_structured_vtk' from 'idl_plane_to_structured_vtk.py'>"
      ]
     },
     "execution_count": 155,
     "metadata": {},
     "output_type": "execute_result"
    }
   ],
   "source": [
    "import scipy.io.idl as idl\n",
    "import numpy as np\n",
    "from scipy.interpolate import griddata\n",
    "import idl_plane_to_structured_vtk as idl_to_vtk\n",
    "\n",
    "reload(idl_to_vtk)"
   ]
  },
  {
   "cell_type": "markdown",
   "metadata": {},
   "source": [
    "# Try to store a single time from Jason's IDL scripts\n",
    "Store $\\vec{B}$, $T$, and $n$."
   ]
  },
  {
   "cell_type": "code",
   "execution_count": 156,
   "metadata": {
    "collapsed": true
   },
   "outputs": [],
   "source": [
    "b_x_measurement_points_timestamp = '115110949362'\n",
    "b_y_measurement_points_timestamp = '115110949522'\n",
    "b_z_measurement_points_timestamp = '115110938869'\n",
    "triple_measurement_points_timestamp = '115112535917'\n",
    "b_x_measurements_timestamp = '115112539367'\n",
    "b_y_measurements_timestamp = '115112539384'\n",
    "b_z_measurements_timestamp = '115112539331'\n",
    "n_measurements_timestamp = '115112539443'\n",
    "t_measurements_timestamp = '115112539427'"
   ]
  },
  {
   "cell_type": "code",
   "execution_count": 40,
   "metadata": {
    "collapsed": true
   },
   "outputs": [],
   "source": [
    "data_path = '../../cataloging_physics_quantities_in_2D/output/intermediate/'\n",
    "data_ending = '.sav'\n",
    "b_x_measurement_points_file = data_path + b_x_measurement_points_timestamp + data_ending\n",
    "b_y_measurement_points_file = data_path + b_y_measurement_points_timestamp + data_ending\n",
    "b_z_measurement_points_file = data_path + b_z_measurement_points_timestamp + data_ending\n",
    "triple_measurement_points_file = data_path + triple_measurement_points_timestamp + data_ending \n",
    "b_x_measurements_file = data_path + b_x_measurements_timestamp + data_ending\n",
    "b_y_measurements_file = data_path + b_y_measurements_timestamp + data_ending\n",
    "b_z_measurements_file = data_path + b_z_measurements_timestamp + data_ending\n",
    "n_measurements_file = data_path + n_measurements_timestamp + data_ending\n",
    "t_measurements_file = data_path + t_measurements_timestamp + data_ending"
   ]
  },
  {
   "cell_type": "code",
   "execution_count": 41,
   "metadata": {
    "collapsed": false
   },
   "outputs": [],
   "source": [
    "b_x_measurement_points = idl.readsav(b_x_measurement_points_file)\n",
    "b_y_measurement_points = idl.readsav(b_y_measurement_points_file)\n",
    "b_z_measurement_points = idl.readsav(b_z_measurement_points_file)\n",
    "triple_measurement_points =  idl.readsav(triple_measurement_points_file)\n",
    "b_x_measurements = idl.readsav(b_x_measurements_file)\n",
    "b_y_measurements = idl.readsav(b_y_measurements_file)\n",
    "b_z_measurements = idl.readsav(b_z_measurements_file)\n",
    "n_measurements = idl.readsav(n_measurements_file)\n",
    "t_measurements = idl.readsav(t_measurements_file)"
   ]
  },
  {
   "cell_type": "code",
   "execution_count": null,
   "metadata": {
    "collapsed": true
   },
   "outputs": [],
   "source": []
  },
  {
   "cell_type": "code",
   "execution_count": 42,
   "metadata": {
    "collapsed": false
   },
   "outputs": [],
   "source": [
    "for time_point in xrange(21):\n",
    "    file_name = '../output/2016-01-07/temperature_%i.vts' % time_point\n",
    "    (x_min, x_max,\n",
    "     y_min, y_max) = idl_to_vtk.determine_sample_bounds([t_measurements])\n",
    "    (t_resampled, \n",
    "     x_grid, y_grid) = idl_to_vtk.resample_scalar(t_measurements,\n",
    "                                                  time_point,\n",
    "                                                  x_min, x_max, y_min, y_max)\n",
    "    (t_resampled, \n",
    "     x_grid, y_grid) = idl_to_vtk.remove_nans(t_resampled, x_grid, y_grid)\n",
    "    mesh = idl_to_vtk.prepare_mesh(x_grid, y_grid, 0.25)\n",
    "    t_reshaped = idl_to_vtk.reshape_scalar(t_resampled)\n",
    "    idl_to_vtk.write_to_structured_grid(file_name, t_reshaped, 't', mesh)"
   ]
  },
  {
   "cell_type": "code",
   "execution_count": 43,
   "metadata": {
    "collapsed": false
   },
   "outputs": [
    {
     "ename": "RuntimeError",
     "evalue": "output file '../output/2016-01-07/magnetic_field_offset_0.vts' already exists",
     "output_type": "error",
     "traceback": [
      "\u001b[0;31m---------------------------------------------------------------------------\u001b[0m",
      "\u001b[0;31mRuntimeError\u001b[0m                              Traceback (most recent call last)",
      "\u001b[0;32m<ipython-input-43-79b15213d799>\u001b[0m in \u001b[0;36m<module>\u001b[0;34m()\u001b[0m\n\u001b[1;32m     19\u001b[0m     \u001b[0mmesh\u001b[0m \u001b[0;34m=\u001b[0m \u001b[0midl_to_vtk\u001b[0m\u001b[0;34m.\u001b[0m\u001b[0mprepare_mesh\u001b[0m\u001b[0;34m(\u001b[0m\u001b[0mx_grid\u001b[0m\u001b[0;34m,\u001b[0m \u001b[0my_grid\u001b[0m\u001b[0;34m,\u001b[0m \u001b[0;36m0.3\u001b[0m\u001b[0;34m)\u001b[0m\u001b[0;34m\u001b[0m\u001b[0m\n\u001b[1;32m     20\u001b[0m     \u001b[0mb_vector\u001b[0m \u001b[0;34m=\u001b[0m \u001b[0midl_to_vtk\u001b[0m\u001b[0;34m.\u001b[0m\u001b[0mreshape_vector\u001b[0m\u001b[0;34m(\u001b[0m\u001b[0mb_resampled\u001b[0m\u001b[0;34m[\u001b[0m\u001b[0;36m0\u001b[0m\u001b[0;34m]\u001b[0m\u001b[0;34m,\u001b[0m \u001b[0mb_resampled\u001b[0m\u001b[0;34m[\u001b[0m\u001b[0;36m1\u001b[0m\u001b[0;34m]\u001b[0m\u001b[0;34m,\u001b[0m \u001b[0mb_resampled\u001b[0m\u001b[0;34m[\u001b[0m\u001b[0;36m2\u001b[0m\u001b[0;34m]\u001b[0m\u001b[0;34m)\u001b[0m\u001b[0;34m\u001b[0m\u001b[0m\n\u001b[0;32m---> 21\u001b[0;31m     \u001b[0midl_to_vtk\u001b[0m\u001b[0;34m.\u001b[0m\u001b[0mwrite_to_structured_grid\u001b[0m\u001b[0;34m(\u001b[0m\u001b[0mfile_name\u001b[0m\u001b[0;34m,\u001b[0m \u001b[0mb_vector\u001b[0m\u001b[0;34m,\u001b[0m \u001b[0;34m'B'\u001b[0m\u001b[0;34m,\u001b[0m \u001b[0mmesh\u001b[0m\u001b[0;34m)\u001b[0m\u001b[0;34m\u001b[0m\u001b[0m\n\u001b[0m",
      "\u001b[0;32m/Users/vonderlinden2/rsx_analysis/writing_to_vtk/source/idl_plane_to_structured_vtk.py\u001b[0m in \u001b[0;36mwrite_to_structured_grid\u001b[0;34m(file_name, data, label, mesh)\u001b[0m\n\u001b[1;32m    222\u001b[0m     write_structured_grid(file_name,\n\u001b[1;32m    223\u001b[0m                           \u001b[0mmesh\u001b[0m\u001b[0;34m,\u001b[0m\u001b[0;34m\u001b[0m\u001b[0m\n\u001b[0;32m--> 224\u001b[0;31m                           point_data=[(label, data)])\n\u001b[0m\u001b[1;32m    225\u001b[0m \u001b[0;34m\u001b[0m\u001b[0m\n\u001b[1;32m    226\u001b[0m \u001b[0;34m\u001b[0m\u001b[0m\n",
      "\u001b[0;32m/Users/vonderlinden2/anaconda/lib/python2.7/site-packages/pyvisfile/vtk/__init__.pyc\u001b[0m in \u001b[0;36mwrite_structured_grid\u001b[0;34m(file_name, mesh, cell_data, point_data)\u001b[0m\n\u001b[1;32m    679\u001b[0m     \u001b[0;32mif\u001b[0m \u001b[0mexists\u001b[0m\u001b[0;34m(\u001b[0m\u001b[0mfile_name\u001b[0m\u001b[0;34m)\u001b[0m\u001b[0;34m:\u001b[0m\u001b[0;34m\u001b[0m\u001b[0m\n\u001b[1;32m    680\u001b[0m         raise RuntimeError(\"output file '%s' already exists\"\n\u001b[0;32m--> 681\u001b[0;31m                 % file_name)\n\u001b[0m\u001b[1;32m    682\u001b[0m \u001b[0;34m\u001b[0m\u001b[0m\n\u001b[1;32m    683\u001b[0m     \u001b[0moutf\u001b[0m \u001b[0;34m=\u001b[0m \u001b[0mopen\u001b[0m\u001b[0;34m(\u001b[0m\u001b[0mfile_name\u001b[0m\u001b[0;34m,\u001b[0m \u001b[0;34m\"w\"\u001b[0m\u001b[0;34m)\u001b[0m\u001b[0;34m\u001b[0m\u001b[0m\n",
      "\u001b[0;31mRuntimeError\u001b[0m: output file '../output/2016-01-07/magnetic_field_offset_0.vts' already exists"
     ]
    }
   ],
   "source": [
    "for time_point in xrange(21):\n",
    "    file_name = '../output/2016-01-07/magnetic_field_offset_%i.vts' % time_point\n",
    "    vector_dicts = [b_x_measurements, b_y_measurements, b_z_measurements]\n",
    "    (x_min, x_max,\n",
    "     y_min, y_max) = idl_to_vtk.determine_sample_bounds(vector_dicts)\n",
    "    (b_resampled, \n",
    "     x_grid, y_grid) = idl_to_vtk.resample_vector(vector_dicts[0], \n",
    "                                                  vector_dicts[1],\n",
    "                                                  vector_dicts[2],\n",
    "                                                  time_point,\n",
    "                                                  x_min, x_max, y_min, y_max) \n",
    "    #(b_resampled, \n",
    "    # x_grid, y_grid) = idl_to_vtk.remove_nans_vector(b_resampled, x_grid, y_grid)\n",
    "    b_resampled[0] = b_resampled[0][8:92,8:92]\n",
    "    b_resampled[1] = b_resampled[1][8:92,8:92]\n",
    "    b_resampled[2] = b_resampled[2][8:92,8:92]\n",
    "    x_grid = x_grid[8:92,8:92]\n",
    "    y_grid = y_grid[8:92,8:92]\n",
    "    mesh = idl_to_vtk.prepare_mesh(x_grid, y_grid, 0.3)\n",
    "    b_vector = idl_to_vtk.reshape_vector(b_resampled[0], b_resampled[1], b_resampled[2])\n",
    "    idl_to_vtk.write_to_structured_grid(file_name, b_vector, 'B', mesh)"
   ]
  },
  {
   "cell_type": "markdown",
   "metadata": {},
   "source": [
    "# Test command line call"
   ]
  },
  {
   "cell_type": "code",
   "execution_count": 160,
   "metadata": {
    "collapsed": false
   },
   "outputs": [
    {
     "name": "stdout",
     "output_type": "stream",
     "text": [
      "../../cataloging_physics_quantities_in_2D/output/intermediate/115112539367.sav\n",
      "../../cataloging_physics_quantities_in_2D/output/intermediate/115112539384.sav\n",
      "../../cataloging_physics_quantities_in_2D/output/intermediate/115112539331.sav\n"
     ]
    }
   ],
   "source": [
    "print b_x_measurements_file\n",
    "print b_y_measurements_file\n",
    "print b_z_measurements_file"
   ]
  },
  {
   "cell_type": "code",
   "execution_count": 161,
   "metadata": {
    "collapsed": false
   },
   "outputs": [
    {
     "name": "stdout",
     "output_type": "stream",
     "text": [
      "../../cataloging_physics_quantities_in_2D/output/intermediate/115112539427.sav\n"
     ]
    }
   ],
   "source": [
    "print t_measurements_file"
   ]
  },
  {
   "cell_type": "code",
   "execution_count": 152,
   "metadata": {
    "collapsed": false
   },
   "outputs": [],
   "source": [
    "!ipython idl_plane_to_structured_vtk.py vector ../../cataloging_physics_quantities_in_2D/output/intermediate/115112539367.sav ../../cataloging_physics_quantities_in_2D/output/intermediate/115112539384.sav ../../cataloging_physics_quantities_in_2D/output/intermediate/115112539331.sav 0.25 21 B_25 B 3 3 None 25 25"
   ]
  },
  {
   "cell_type": "code",
   "execution_count": 163,
   "metadata": {
    "collapsed": false
   },
   "outputs": [],
   "source": [
    "!ipython idl_plane_to_structured_vtk.py scalar ../../cataloging_physics_quantities_in_2D/output/intermediate/115112539427.sav 0.25 21 t_25 t 3 3 None 25 25"
   ]
  },
  {
   "cell_type": "code",
   "execution_count": 164,
   "metadata": {
    "collapsed": false
   },
   "outputs": [
    {
     "name": "stdout",
     "output_type": "stream",
     "text": [
      "B_25_000000.vts                                B_25_000010.vts                                B_25_000020.vts                                t_25_000004.vts                                t_25_000014.vts\r\n",
      "B_25_000001.vts                                B_25_000011.vts                                example_vtk_structutred_file_generation.ipynb  t_25_000005.vts                                t_25_000015.vts\r\n",
      "B_25_000002.vts                                B_25_000012.vts                                example_vtk_unstructured_file_generation.ipynb t_25_000006.vts                                t_25_000016.vts\r\n",
      "B_25_000003.vts                                B_25_000013.vts                                idl_plane_to_structured_vtk.py                 t_25_000007.vts                                t_25_000017.vts\r\n",
      "B_25_000004.vts                                B_25_000014.vts                                idl_plane_to_structured_vtk.pyc                t_25_000008.vts                                t_25_000018.vts\r",
      "\r\n",
      "B_25_000005.vts                                B_25_000015.vts                                idl_sav_to_vtk_unstructured.py                 t_25_000009.vts                                t_25_000019.vts\r\n",
      "B_25_000006.vts                                B_25_000016.vts                                t_25_000000.vts                                t_25_000010.vts                                t_25_000020.vts\r\n",
      "B_25_000007.vts                                B_25_000017.vts                                t_25_000001.vts                                t_25_000011.vts\r\n",
      "B_25_000008.vts                                B_25_000018.vts                                t_25_000002.vts                                t_25_000012.vts\r\n",
      "B_25_000009.vts                                B_25_000019.vts                                t_25_000003.vts                                t_25_000013.vts\r\n"
     ]
    }
   ],
   "source": [
    "!ls"
   ]
  },
  {
   "cell_type": "code",
   "execution_count": null,
   "metadata": {
    "collapsed": true
   },
   "outputs": [],
   "source": []
  }
 ],
 "metadata": {
  "kernelspec": {
   "display_name": "Python 2",
   "language": "python",
   "name": "python2"
  },
  "language_info": {
   "codemirror_mode": {
    "name": "ipython",
    "version": 2
   },
   "file_extension": ".py",
   "mimetype": "text/x-python",
   "name": "python",
   "nbconvert_exporter": "python",
   "pygments_lexer": "ipython2",
   "version": "2.7.9"
  }
 },
 "nbformat": 4,
 "nbformat_minor": 0
}
