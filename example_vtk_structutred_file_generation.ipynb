{
 "cells": [
  {
   "cell_type": "code",
   "execution_count": 30,
   "metadata": {
    "collapsed": false
   },
   "outputs": [
    {
     "data": {
      "text/plain": [
       "<module 'idl_plane_to_structured_vtk' from 'idl_plane_to_structured_vtk.pyc'>"
      ]
     },
     "execution_count": 30,
     "metadata": {},
     "output_type": "execute_result"
    }
   ],
   "source": [
    "import scipy.io.idl as idl\n",
    "import numpy as np\n",
    "from scipy.interpolate import griddata\n",
    "import idl_plane_to_structured_vtk as idl_to_vtk\n",
    "reload(idl_to_vtk)"
   ]
  },
  {
   "cell_type": "markdown",
   "metadata": {},
   "source": [
    "# Try to store a single time from Jason's IDL scripts\n",
    "Store $\\vec{B}$, $T$, and $n$."
   ]
  },
  {
   "cell_type": "code",
   "execution_count": 31,
   "metadata": {
    "collapsed": true
   },
   "outputs": [],
   "source": [
    "b_x_measurement_points_timestamp = '115110949362'\n",
    "b_y_measurement_points_timestamp = '115110949522'\n",
    "b_z_measurement_points_timestamp = '115110938869'\n",
    "triple_measurement_points_timestamp = '115112535917'\n",
    "b_x_measurements_timestamp = '115112539367'\n",
    "b_y_measurements_timestamp = '115112539384'\n",
    "b_z_measurements_timestamp = '115112539331'\n",
    "n_measurements_timestamp = '115112539443'\n",
    "t_measurements_timestamp = '115112539427'"
   ]
  },
  {
   "cell_type": "code",
   "execution_count": 32,
   "metadata": {
    "collapsed": true
   },
   "outputs": [],
   "source": [
    "data_path = '../../cataloging_physics_quantities_in_2D/output/intermediate/'\n",
    "data_ending = '.sav'\n",
    "b_x_measurement_points_file = data_path + b_x_measurement_points_timestamp + data_ending\n",
    "b_y_measurement_points_file = data_path + b_y_measurement_points_timestamp + data_ending\n",
    "b_z_measurement_points_file = data_path + b_z_measurement_points_timestamp + data_ending\n",
    "triple_measurement_points_file = data_path + triple_measurement_points_timestamp + data_ending \n",
    "b_x_measurements_file = data_path + b_x_measurements_timestamp + data_ending\n",
    "b_y_measurements_file = data_path + b_y_measurements_timestamp + data_ending\n",
    "b_z_measurements_file = data_path + b_z_measurements_timestamp + data_ending\n",
    "n_measurements_file = data_path + n_measurements_timestamp + data_ending\n",
    "t_measurements_file = data_path + t_measurements_timestamp + data_ending"
   ]
  },
  {
   "cell_type": "code",
   "execution_count": 33,
   "metadata": {
    "collapsed": false
   },
   "outputs": [],
   "source": [
    "b_x_measurement_points = idl.readsav(b_x_measurement_points_file)\n",
    "b_y_measurement_points = idl.readsav(b_y_measurement_points_file)\n",
    "b_z_measurement_points = idl.readsav(b_z_measurement_points_file)\n",
    "triple_measurement_points =  idl.readsav(triple_measurement_points_file)\n",
    "b_x_measurements = idl.readsav(b_x_measurements_file)\n",
    "b_y_measurements = idl.readsav(b_y_measurements_file)\n",
    "b_z_measurements = idl.readsav(b_z_measurements_file)\n",
    "n_measurements = idl.readsav(n_measurements_file)\n",
    "t_measurements = idl.readsav(t_measurements_file)"
   ]
  },
  {
   "cell_type": "code",
   "execution_count": 9,
   "metadata": {
    "collapsed": false
   },
   "outputs": [
    {
     "ename": "RuntimeError",
     "evalue": "output file '../output/2015-12-03/temperature_0.vts' already exists",
     "output_type": "error",
     "traceback": [
      "\u001b[0;31m---------------------------------------------------------------------------\u001b[0m",
      "\u001b[0;31mRuntimeError\u001b[0m                              Traceback (most recent call last)",
      "\u001b[0;32m<ipython-input-9-078448bb8f85>\u001b[0m in \u001b[0;36m<module>\u001b[0;34m()\u001b[0m\n\u001b[1;32m     10\u001b[0m     \u001b[0mmesh\u001b[0m \u001b[0;34m=\u001b[0m \u001b[0midl_to_vtk\u001b[0m\u001b[0;34m.\u001b[0m\u001b[0mprepare_mesh\u001b[0m\u001b[0;34m(\u001b[0m\u001b[0mx_grid\u001b[0m\u001b[0;34m,\u001b[0m \u001b[0my_grid\u001b[0m\u001b[0;34m,\u001b[0m \u001b[0;36m0.25\u001b[0m\u001b[0;34m)\u001b[0m\u001b[0;34m\u001b[0m\u001b[0m\n\u001b[1;32m     11\u001b[0m     \u001b[0mt_reshaped\u001b[0m \u001b[0;34m=\u001b[0m \u001b[0midl_to_vtk\u001b[0m\u001b[0;34m.\u001b[0m\u001b[0mreshape_scalar\u001b[0m\u001b[0;34m(\u001b[0m\u001b[0mt_resampled\u001b[0m\u001b[0;34m)\u001b[0m\u001b[0;34m\u001b[0m\u001b[0m\n\u001b[0;32m---> 12\u001b[0;31m     \u001b[0midl_to_vtk\u001b[0m\u001b[0;34m.\u001b[0m\u001b[0mwrite_to_structured_grid\u001b[0m\u001b[0;34m(\u001b[0m\u001b[0mfile_name\u001b[0m\u001b[0;34m,\u001b[0m \u001b[0mt_reshaped\u001b[0m\u001b[0;34m,\u001b[0m \u001b[0;34m't'\u001b[0m\u001b[0;34m,\u001b[0m \u001b[0mmesh\u001b[0m\u001b[0;34m)\u001b[0m\u001b[0;34m\u001b[0m\u001b[0m\n\u001b[0m",
      "\u001b[0;32m/Users/vonderlinden2/rsx_analysis/writing_to_vtk/source/idl_plane_to_structured_vtk.pyc\u001b[0m in \u001b[0;36mwrite_to_structured_grid\u001b[0;34m(file_name, data, label, mesh)\u001b[0m\n\u001b[1;32m    153\u001b[0m     write_structured_grid(file_name,\n\u001b[1;32m    154\u001b[0m                           \u001b[0mmesh\u001b[0m\u001b[0;34m,\u001b[0m\u001b[0;34m\u001b[0m\u001b[0m\n\u001b[0;32m--> 155\u001b[0;31m                           point_data=[(label, data)])\n\u001b[0m\u001b[1;32m    156\u001b[0m \u001b[0;34m\u001b[0m\u001b[0m\n\u001b[1;32m    157\u001b[0m \u001b[0;34m\u001b[0m\u001b[0m\n",
      "\u001b[0;32m/Users/vonderlinden2/anaconda/lib/python2.7/site-packages/pyvisfile/vtk/__init__.pyc\u001b[0m in \u001b[0;36mwrite_structured_grid\u001b[0;34m(file_name, mesh, cell_data, point_data)\u001b[0m\n\u001b[1;32m    679\u001b[0m     \u001b[0;32mif\u001b[0m \u001b[0mexists\u001b[0m\u001b[0;34m(\u001b[0m\u001b[0mfile_name\u001b[0m\u001b[0;34m)\u001b[0m\u001b[0;34m:\u001b[0m\u001b[0;34m\u001b[0m\u001b[0m\n\u001b[1;32m    680\u001b[0m         raise RuntimeError(\"output file '%s' already exists\"\n\u001b[0;32m--> 681\u001b[0;31m                 % file_name)\n\u001b[0m\u001b[1;32m    682\u001b[0m \u001b[0;34m\u001b[0m\u001b[0m\n\u001b[1;32m    683\u001b[0m     \u001b[0moutf\u001b[0m \u001b[0;34m=\u001b[0m \u001b[0mopen\u001b[0m\u001b[0;34m(\u001b[0m\u001b[0mfile_name\u001b[0m\u001b[0;34m,\u001b[0m \u001b[0;34m\"w\"\u001b[0m\u001b[0;34m)\u001b[0m\u001b[0;34m\u001b[0m\u001b[0m\n",
      "\u001b[0;31mRuntimeError\u001b[0m: output file '../output/2015-12-03/temperature_0.vts' already exists"
     ]
    }
   ],
   "source": [
    "for time_point in xrange(21):\n",
    "    file_name = '../output/2015-12-03/temperature_%i.vts' % time_point\n",
    "    (x_min, x_max,\n",
    "     y_min, y_max) = idl_to_vtk.determine_sample_bounds([t_measurements])\n",
    "    (t_resampled, \n",
    "     x_grid, y_grid) = idl_to_vtk.resample_scalar(t_measurements,\n",
    "                                                  time_point,\n",
    "                                                  x_min, x_max, y_min, y_max,\n",
    "                                                  to_clip=[0, 94, 0, 94])\n",
    "    mesh = idl_to_vtk.prepare_mesh(x_grid, y_grid, 0.25)\n",
    "    t_reshaped = idl_to_vtk.reshape_scalar(t_resampled)\n",
    "    idl_to_vtk.write_to_structured_grid(file_name, t_reshaped, 't', mesh)"
   ]
  },
  {
   "cell_type": "code",
   "execution_count": 14,
   "metadata": {
    "collapsed": true
   },
   "outputs": [],
   "source": [
    "(t_resampled, \n",
    " x_grid, y_grid) = idl_to_vtk.resample_scalar(t_measurements,\n",
    "                                              time_point,\n",
    "                                              x_min, x_max, y_min, y_max,\n",
    "                                              to_clip=[0, 96, 0, 96])"
   ]
  },
  {
   "cell_type": "code",
   "execution_count": 18,
   "metadata": {
    "collapsed": false
   },
   "outputs": [],
   "source": [
    "nan_positions = np.where(np.isnan(t_resampled))"
   ]
  },
  {
   "cell_type": "code",
   "execution_count": 26,
   "metadata": {
    "collapsed": false
   },
   "outputs": [
    {
     "data": {
      "text/plain": [
       "(2, 11)"
      ]
     },
     "execution_count": 26,
     "metadata": {},
     "output_type": "execute_result"
    }
   ],
   "source": [
    "np.asarray(nan_positions).shape"
   ]
  },
  {
   "cell_type": "code",
   "execution_count": 189,
   "metadata": {
    "collapsed": false
   },
   "outputs": [],
   "source": [
    "for time_point in xrange(21):\n",
    "    file_name = '../output/2015-12-03/magnetic_field_offset_%i.vts' % time_point\n",
    "    vector_dicts = [b_x_measurements, b_y_measurements, b_z_measurements]\n",
    "    (x_min, x_max,\n",
    "     y_min, y_max) = idl_to_vtk.determine_sample_bounds(vector_dicts)\n",
    "    (b_resampled, \n",
    "     x_grid, y_grid) = idl_to_vtk.resample_vector(vector_dicts[0], \n",
    "                                                  vector_dicts[1],\n",
    "                                                  vector_dicts[2],\n",
    "                                                  time_point,\n",
    "                                                  x_min, x_max, y_min, y_max,\n",
    "                                                  to_clip=[0, 94, 0, 94]) \n",
    "    mesh = idl_to_vtk.prepare_mesh(x_grid, y_grid, 0.3)\n",
    "    b_vector = idl_to_vtk.reshape_vector(b_resampled)\n",
    "    idl_to_vtk.write_to_structured_grid(file_name, b_vector, 'B', mesh)"
   ]
  },
  {
   "cell_type": "code",
   "execution_count": null,
   "metadata": {
    "collapsed": true
   },
   "outputs": [],
   "source": []
  }
 ],
 "metadata": {
  "kernelspec": {
   "display_name": "Python 2",
   "language": "python",
   "name": "python2"
  },
  "language_info": {
   "codemirror_mode": {
    "name": "ipython",
    "version": 2
   },
   "file_extension": ".py",
   "mimetype": "text/x-python",
   "name": "python",
   "nbconvert_exporter": "python",
   "pygments_lexer": "ipython2",
   "version": "2.7.9"
  }
 },
 "nbformat": 4,
 "nbformat_minor": 0
}
