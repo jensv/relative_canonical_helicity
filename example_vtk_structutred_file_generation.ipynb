{
 "cells": [
  {
   "cell_type": "code",
   "execution_count": 1,
   "metadata": {
    "collapsed": false
   },
   "outputs": [
    {
     "data": {
      "text/plain": [
       "<module 'structured_2d_vtk' from 'structured_2d_vtk.pyc'>"
      ]
     },
     "execution_count": 1,
     "metadata": {},
     "output_type": "execute_result"
    }
   ],
   "source": [
    "import scipy.io.idl as idl\n",
    "import numpy as np\n",
    "from scipy.interpolate import griddata\n",
    "import structured_2d_vtk as idl_to_vtk\n",
    "\n",
    "reload(idl_to_vtk)"
   ]
  },
  {
   "cell_type": "markdown",
   "metadata": {},
   "source": [
    "# Try to store a single time from Jason's IDL scripts\n",
    "Store $\\vec{B}$, $T$, and $n$."
   ]
  },
  {
   "cell_type": "code",
   "execution_count": 2,
   "metadata": {
    "collapsed": true
   },
   "outputs": [],
   "source": [
    "b_x_measurement_points_timestamp = '115110949362'\n",
    "b_y_measurement_points_timestamp = '115110949522'\n",
    "b_z_measurement_points_timestamp = '115110938869'\n",
    "triple_measurement_points_timestamp = '115112535917'\n",
    "b_x_measurements_timestamp = '115112539367'\n",
    "b_y_measurements_timestamp = '115112539384'\n",
    "b_z_measurements_timestamp = '115112539331'\n",
    "n_measurements_timestamp = '115112539443'\n",
    "t_measurements_timestamp = '115112539427'"
   ]
  },
  {
   "cell_type": "code",
   "execution_count": 3,
   "metadata": {
    "collapsed": true
   },
   "outputs": [],
   "source": [
    "data_path = '../../cataloging_physics_quantities_in_2D/output/intermediate/'\n",
    "data_ending = '.sav'\n",
    "b_x_measurement_points_file = data_path + b_x_measurement_points_timestamp + data_ending\n",
    "b_y_measurement_points_file = data_path + b_y_measurement_points_timestamp + data_ending\n",
    "b_z_measurement_points_file = data_path + b_z_measurement_points_timestamp + data_ending\n",
    "triple_measurement_points_file = data_path + triple_measurement_points_timestamp + data_ending \n",
    "b_x_measurements_file = data_path + b_x_measurements_timestamp + data_ending\n",
    "b_y_measurements_file = data_path + b_y_measurements_timestamp + data_ending\n",
    "b_z_measurements_file = data_path + b_z_measurements_timestamp + data_ending\n",
    "n_measurements_file = data_path + n_measurements_timestamp + data_ending\n",
    "t_measurements_file = data_path + t_measurements_timestamp + data_ending"
   ]
  },
  {
   "cell_type": "code",
   "execution_count": 4,
   "metadata": {
    "collapsed": false
   },
   "outputs": [],
   "source": [
    "b_x_measurement_points = idl.readsav(b_x_measurement_points_file)\n",
    "b_y_measurement_points = idl.readsav(b_y_measurement_points_file)\n",
    "b_z_measurement_points = idl.readsav(b_z_measurement_points_file)\n",
    "triple_measurement_points =  idl.readsav(triple_measurement_points_file)\n",
    "b_x_measurements = idl.readsav(b_x_measurements_file)\n",
    "b_y_measurements = idl.readsav(b_y_measurements_file)\n",
    "b_z_measurements = idl.readsav(b_z_measurements_file)\n",
    "n_measurements = idl.readsav(n_measurements_file)\n",
    "t_measurements = idl.readsav(t_measurements_file)"
   ]
  },
  {
   "cell_type": "code",
   "execution_count": 11,
   "metadata": {
    "collapsed": false
   },
   "outputs": [
    {
     "name": "stdout",
     "output_type": "stream",
     "text": [
      "[-0.024      -0.02350505 -0.0230101  ...,  0.0240101   0.02450505  0.025     ]\n"
     ]
    },
    {
     "ename": "IndexError",
     "evalue": "tuple index out of range",
     "output_type": "error",
     "traceback": [
      "\u001b[0;31m---------------------------------------------------------------------------\u001b[0m",
      "\u001b[0;31mIndexError\u001b[0m                                Traceback (most recent call last)",
      "\u001b[0;32m<ipython-input-11-28c0ee42cd55>\u001b[0m in \u001b[0;36m<module>\u001b[0;34m()\u001b[0m\n\u001b[1;32m     12\u001b[0m     \u001b[0mvector_dict\u001b[0m \u001b[0;34m=\u001b[0m \u001b[0midl_to_vtk\u001b[0m\u001b[0;34m.\u001b[0m\u001b[0mremove_nans\u001b[0m\u001b[0;34m(\u001b[0m\u001b[0mvector_dict\u001b[0m\u001b[0;34m,\u001b[0m \u001b[0mtime_point\u001b[0m\u001b[0;34m)\u001b[0m\u001b[0;34m\u001b[0m\u001b[0m\n\u001b[1;32m     13\u001b[0m     \u001b[0;32mprint\u001b[0m \u001b[0mvector_dict\u001b[0m\u001b[0;34m[\u001b[0m\u001b[0;34m'x_out'\u001b[0m\u001b[0;34m]\u001b[0m\u001b[0;34m\u001b[0m\u001b[0m\n\u001b[0;32m---> 14\u001b[0;31m     \u001b[0mmesh\u001b[0m \u001b[0;34m=\u001b[0m \u001b[0midl_to_vtk\u001b[0m\u001b[0;34m.\u001b[0m\u001b[0mprepare_mesh\u001b[0m\u001b[0;34m(\u001b[0m\u001b[0mvector_dict\u001b[0m\u001b[0;34m[\u001b[0m\u001b[0;34m'x_out'\u001b[0m\u001b[0;34m]\u001b[0m\u001b[0;34m,\u001b[0m \u001b[0mvector_dict\u001b[0m\u001b[0;34m[\u001b[0m\u001b[0;34m'y_out'\u001b[0m\u001b[0;34m]\u001b[0m\u001b[0;34m,\u001b[0m \u001b[0;36m0.25\u001b[0m\u001b[0;34m)\u001b[0m\u001b[0;34m\u001b[0m\u001b[0m\n\u001b[0m\u001b[1;32m     15\u001b[0m     \u001b[0mt_reshaped\u001b[0m \u001b[0;34m=\u001b[0m \u001b[0midl_to_vtk\u001b[0m\u001b[0;34m.\u001b[0m\u001b[0mreshape_scalar\u001b[0m\u001b[0;34m(\u001b[0m\u001b[0mt_resampled\u001b[0m\u001b[0;34m)\u001b[0m\u001b[0;34m\u001b[0m\u001b[0m\n\u001b[1;32m     16\u001b[0m     \u001b[0midl_to_vtk\u001b[0m\u001b[0;34m.\u001b[0m\u001b[0mwrite_to_structured_grid\u001b[0m\u001b[0;34m(\u001b[0m\u001b[0mfile_name\u001b[0m\u001b[0;34m,\u001b[0m \u001b[0mt_reshaped\u001b[0m\u001b[0;34m,\u001b[0m \u001b[0;34m't'\u001b[0m\u001b[0;34m,\u001b[0m \u001b[0mmesh\u001b[0m\u001b[0;34m)\u001b[0m\u001b[0;34m\u001b[0m\u001b[0m\n",
      "\u001b[0;32m/Users/vonderlinden2/rsx_analysis/writing_to_vtk/source/structured_2d_vtk.pyc\u001b[0m in \u001b[0;36mprepare_mesh\u001b[0;34m(x_grid, y_grid, z_position)\u001b[0m\n\u001b[1;32m    183\u001b[0m     \u001b[0mReshape\u001b[0m \u001b[0;36m2\u001b[0m\u001b[0mD\u001b[0m \u001b[0mmesh\u001b[0m \u001b[0;32mfor\u001b[0m \u001b[0;36m3\u001b[0m\u001b[0mD\u001b[0m \u001b[0mvtk\u001b[0m \u001b[0mwriter\u001b[0m\u001b[0;34m.\u001b[0m\u001b[0;34m\u001b[0m\u001b[0m\n\u001b[1;32m    184\u001b[0m     \"\"\"\n\u001b[0;32m--> 185\u001b[0;31m     \u001b[0mshape\u001b[0m \u001b[0;34m=\u001b[0m \u001b[0;34m(\u001b[0m\u001b[0mx_grid\u001b[0m\u001b[0;34m.\u001b[0m\u001b[0mshape\u001b[0m\u001b[0;34m[\u001b[0m\u001b[0;36m0\u001b[0m\u001b[0;34m]\u001b[0m\u001b[0;34m,\u001b[0m \u001b[0mx_grid\u001b[0m\u001b[0;34m.\u001b[0m\u001b[0mshape\u001b[0m\u001b[0;34m[\u001b[0m\u001b[0;36m1\u001b[0m\u001b[0;34m]\u001b[0m\u001b[0;34m)\u001b[0m\u001b[0;34m\u001b[0m\u001b[0m\n\u001b[0m\u001b[1;32m    186\u001b[0m     \u001b[0mz_grid\u001b[0m \u001b[0;34m=\u001b[0m \u001b[0mnp\u001b[0m\u001b[0;34m.\u001b[0m\u001b[0mones\u001b[0m\u001b[0;34m(\u001b[0m\u001b[0mshape\u001b[0m\u001b[0;34m)\u001b[0m\u001b[0;34m*\u001b[0m\u001b[0mz_position\u001b[0m\u001b[0;34m\u001b[0m\u001b[0m\n\u001b[1;32m    187\u001b[0m     \u001b[0mx_grid\u001b[0m \u001b[0;34m=\u001b[0m \u001b[0mnp\u001b[0m\u001b[0;34m.\u001b[0m\u001b[0mexpand_dims\u001b[0m\u001b[0;34m(\u001b[0m\u001b[0mnp\u001b[0m\u001b[0;34m.\u001b[0m\u001b[0mexpand_dims\u001b[0m\u001b[0;34m(\u001b[0m\u001b[0mx_grid\u001b[0m\u001b[0;34m,\u001b[0m \u001b[0;36m2\u001b[0m\u001b[0;34m)\u001b[0m\u001b[0;34m,\u001b[0m \u001b[0;36m0\u001b[0m\u001b[0;34m)\u001b[0m\u001b[0;34m\u001b[0m\u001b[0m\n",
      "\u001b[0;31mIndexError\u001b[0m: tuple index out of range"
     ]
    }
   ],
   "source": [
    "for time_point in xrange(21):\n",
    "    file_name = '../output/2016-01-07/temperature_%i.vts' % time_point\n",
    "    (x_min, x_max,\n",
    "     y_min, y_max) = idl_to_vtk.determine_sample_bounds([t_measurements])\n",
    "    (t_resampled, \n",
    "     x_grid, y_grid) = idl_to_vtk.resample_scalar(t_measurements,\n",
    "                                                  time_point,\n",
    "                                                  x_min, x_max, y_min, y_max)\n",
    "    vector_dict = {'a_out': t_resampled, \n",
    "                   'x_out': x_grid,\n",
    "                   'y_out': y_grid}\n",
    "    vector_dict = idl_to_vtk.remove_nans(vector_dict, time_point)\n",
    "    print vector_dict['x_out']\n",
    "    mesh = idl_to_vtk.prepare_mesh(vector_dict['x_out'], vector_dict['y_out'], 0.25)\n",
    "    t_reshaped = idl_to_vtk.reshape_scalar(t_resampled)\n",
    "    idl_to_vtk.write_to_structured_grid(file_name, t_reshaped, 't', mesh)"
   ]
  },
  {
   "cell_type": "code",
   "execution_count": 24,
   "metadata": {
    "collapsed": false
   },
   "outputs": [
    {
     "name": "stdout",
     "output_type": "stream",
     "text": [
      "res_x 0.000187092125051 res_y 0.000253061837273 res_z 0.000153865222859\n",
      "(3,)\n",
      "(1, 20, 20, 1)\n",
      "(3, 20, 20, 1)\n",
      "res_x 0.000187018327353 res_y 0.000210235207473 res_z 0.000163585816182\n",
      "(3,)\n",
      "(1, 20, 20, 1)\n",
      "(3, 20, 20, 1)\n"
     ]
    }
   ],
   "source": [
    "x_points = 20\n",
    "y_points = 20\n",
    "vector_dicts = [b_x_measurements, b_y_measurements, b_z_measurements]\n",
    "(x_min, x_max, y_min, y_max) = idl_to_vtk.determine_sample_bounds(vector_dicts)\n",
    "for time_point in [0, 1]:\n",
    "    spline_x = idl_to_vtk.fit_bivariate_splines(vector_dicts[0], time_point,\n",
    "                                                weigth=None, kx=1, ky=1,\n",
    "                                                s=None)\n",
    "    spline_y = idl_to_vtk.fit_bivariate_splines(vector_dicts[1], time_point,\n",
    "                                                weigth=None, kx=1, ky=1,\n",
    "                                                s=None)\n",
    "    spline_z = idl_to_vtk.fit_bivariate_splines(vector_dicts[2], time_point,\n",
    "                                                weigth=None, kx=1, ky=1,\n",
    "                                                s=None)\n",
    "    (vector_resampled_x,\n",
    "     residual_x,\n",
    "     x_grid,\n",
    "     y_grid) = idl_to_vtk.evaluate_spline_on_structured_grid(spline_x,\n",
    "                                                             x_min, x_max,\n",
    "                                                             y_min, y_max,\n",
    "                                                             x_points,\n",
    "                                                             y_points)\n",
    "    (vector_resampled_y,\n",
    "     residual_y,\n",
    "     x_grid,\n",
    "     y_grid) = idl_to_vtk.evaluate_spline_on_structured_grid(spline_y,\n",
    "                                                             x_min, x_max,\n",
    "                                                             y_min, y_max,\n",
    "                                                             x_points,\n",
    "                                                             y_points)\n",
    "    (vector_resampled_z,\n",
    "     residual_z,\n",
    "     x_grid,\n",
    "     y_grid) = idl_to_vtk.evaluate_spline_on_structured_grid(spline_z,\n",
    "                                                             x_min, x_max,\n",
    "                                                             y_min, y_max,\n",
    "                                                             x_points,\n",
    "                                                             y_points)\n",
    "    mesh = idl_to_vtk.prepare_mesh(x_grid, y_grid, 0.025)\n",
    "    vector = idl_to_vtk.reshape_vector(vector_resampled_x, vector_resampled_y,\n",
    "                                       vector_resampled_z)\n",
    "    print 'res_x', residual_x, 'res_y', residual_y, 'res_z', residual_z\n",
    "    output_path = 'test' + '_%06i.vts' % time_point\n",
    "    \n",
    "    print vector.shape\n",
    "    print vector[0].shape\n",
    "    print mesh.shape\n",
    "    \n",
    "    \n",
    "    \n",
    "    #idl_to_vtk.write_to_structured_grid(output_path, vector,\n",
    "    #                                    'B', mesh)"
   ]
  }
 ],
 "metadata": {
  "kernelspec": {
   "display_name": "Python 2",
   "language": "python",
   "name": "python2"
  },
  "language_info": {
   "codemirror_mode": {
    "name": "ipython",
    "version": 2
   },
   "file_extension": ".py",
   "mimetype": "text/x-python",
   "name": "python",
   "nbconvert_exporter": "python",
   "pygments_lexer": "ipython2",
   "version": "2.7.11"
  }
 },
 "nbformat": 4,
 "nbformat_minor": 0
}
