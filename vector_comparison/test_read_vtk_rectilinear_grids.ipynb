{
 "cells": [
  {
   "cell_type": "markdown",
   "metadata": {},
   "source": [
    "# Try to read a vtk file and a numpy array file of the same data and check that they are the same."
   ]
  },
  {
   "cell_type": "code",
   "execution_count": 1,
   "metadata": {
    "collapsed": false
   },
   "outputs": [
    {
     "data": {
      "text/plain": [
       "<module 'read_rectilinear_vtk' from 'read_rectilinear_vtk.pyc'>"
      ]
     },
     "execution_count": 1,
     "metadata": {},
     "output_type": "execute_result"
    }
   ],
   "source": [
    "import numpy as np\n",
    "import vtk\n",
    "from vtk.util.numpy_support import vtk_to_numpy\n",
    "import read_rectilinear_vtk as rrv\n",
    "reload(rrv)"
   ]
  },
  {
   "cell_type": "code",
   "execution_count": 171,
   "metadata": {
    "collapsed": true
   },
   "outputs": [],
   "source": [
    "test_file_vtk = (\"/home/jensv/rsx/jens_analysis/writing_to_vtk/\"\n",
    "                 \"output/2017-01-16-18-15/Bdot_triple_probe_quantities0000.vtk\")\n",
    "test_file_npz = (\"/home/jensv/rsx/jens_analysis/writing_to_vtk/\"\n",
    "                 \"output/2017-01-20-21-03/Bdot_triple_probe_quantities0000.npz\")"
   ]
  },
  {
   "cell_type": "code",
   "execution_count": 172,
   "metadata": {
    "collapsed": false
   },
   "outputs": [
    {
     "name": "stdout",
     "output_type": "stream",
     "text": [
      "(30, 38, 162)\n"
     ]
    }
   ],
   "source": [
    "vtk_mesh, shape = rrv.get_mesh(vtk_data)\n",
    "print shape"
   ]
  },
  {
   "cell_type": "code",
   "execution_count": 173,
   "metadata": {
    "collapsed": false
   },
   "outputs": [],
   "source": [
    "vtk_data = rrv.get_data(test_file_vtk)\n",
    "vtk_mesh, shape = rrv.get_mesh(vtk_data)\n",
    "(b_x_from_vtk,\n",
    " b_y_from_vtk,\n",
    " b_z_from_vtk) = rrv.get_vector(vtk_data, shape, \n",
    "                                'B_x', 'B_y', 'B_z')\n",
    "vtk_b_field = [b_x_from_vtk, b_y_from_vtk, b_z_from_vtk]"
   ]
  },
  {
   "cell_type": "code",
   "execution_count": 174,
   "metadata": {
    "collapsed": false
   },
   "outputs": [],
   "source": [
    "npz_file = np.load(test_file_npz)\n",
    "npz_mesh = npz_file['mesh']\n",
    "npz_b_field = npz_file['b_field']"
   ]
  },
  {
   "cell_type": "code",
   "execution_count": 178,
   "metadata": {
    "collapsed": false
   },
   "outputs": [
    {
     "data": {
      "text/plain": [
       "True"
      ]
     },
     "execution_count": 178,
     "metadata": {},
     "output_type": "execute_result"
    }
   ],
   "source": [
    "np.allclose(npz_b_field[0], vtk_b_field[0])"
   ]
  },
  {
   "cell_type": "markdown",
   "metadata": {},
   "source": [
    "# Make test vtk file"
   ]
  },
  {
   "cell_type": "markdown",
   "metadata": {},
   "source": [
    "Below I made a test vtk file I plotted with seaborn and opened in Visit to make sure the axis swapping that I am doing is really that right thing.\n",
    "The visual inspection in Visit shows that the data is disaplyed with the correct axis ordering. "
   ]
  },
  {
   "cell_type": "code",
   "execution_count": 153,
   "metadata": {
    "collapsed": false
   },
   "outputs": [],
   "source": [
    "import matplotlib.pyplot as plt\n",
    "import sys\n",
    "sys.path.append('../../writing_to_vtk/source/')\n",
    "import write_canonical_flux_tube_quantities as write\n",
    "import seaborn as sns"
   ]
  },
  {
   "cell_type": "code",
   "execution_count": 162,
   "metadata": {
    "collapsed": true
   },
   "outputs": [],
   "source": [
    "x = 5 \n",
    "y = 6\n",
    "z = 7 \n",
    "x_line = np.arange(x)\n",
    "y_line = np.arange(y)\n",
    "z_line = np.arange(z)\n",
    "mesh = np.meshgrid(x_line, y_line, z_line)\n",
    "test_field = np.arange(0, 5*6*7)\n",
    "test_field_numpy = np.reshape(test_field, (y, x, z)) "
   ]
  },
  {
   "cell_type": "code",
   "execution_count": 163,
   "metadata": {
    "collapsed": false
   },
   "outputs": [],
   "source": [
    "sns.heatmap(test_field_numpy[:,:,0], annot=True)\n",
    "plt.show()"
   ]
  },
  {
   "cell_type": "code",
   "execution_count": 164,
   "metadata": {
    "collapsed": false
   },
   "outputs": [
    {
     "data": {
      "text/plain": [
       "(6, 5, 7)"
      ]
     },
     "execution_count": 164,
     "metadata": {},
     "output_type": "execute_result"
    }
   ],
   "source": [
    "test_field_numpy.shape"
   ]
  },
  {
   "cell_type": "code",
   "execution_count": 165,
   "metadata": {
    "collapsed": false
   },
   "outputs": [
    {
     "data": {
      "text/plain": [
       "array([ 0,  7, 14, 21, 28])"
      ]
     },
     "execution_count": 165,
     "metadata": {},
     "output_type": "execute_result"
    }
   ],
   "source": [
    "test_field_numpy[0, :, 0]"
   ]
  },
  {
   "cell_type": "code",
   "execution_count": 167,
   "metadata": {
    "collapsed": false
   },
   "outputs": [
    {
     "name": "stdout",
     "output_type": "stream",
     "text": [
      "names length: 1\n",
      "quantities length: 1\n",
      "../output/test/test0000\n"
     ]
    }
   ],
   "source": [
    "x, y, z, variables = write.prepare_for_rectilinear_grid(mesh, (test_field_numpy,), ('test',))\n",
    "write.write_fields_and_currents_to_structured_mesh('test', 'test', x, y, z, variables, 0)"
   ]
  },
  {
   "cell_type": "markdown",
   "metadata": {
    "collapsed": true
   },
   "source": [
    "# Read grid"
   ]
  },
  {
   "cell_type": "code",
   "execution_count": 7,
   "metadata": {
    "collapsed": true
   },
   "outputs": [],
   "source": [
    "current_grid_file = '/home/jensv/rsx/jens_analysis/output/canonical_quantities/2017-02-22-11-01/canonical_quantities0000.vtk'"
   ]
  },
  {
   "cell_type": "code",
   "execution_count": 9,
   "metadata": {
    "collapsed": false
   },
   "outputs": [
    {
     "name": "stdout",
     "output_type": "stream",
     "text": [
      "-0.0219999998808 0.0240000002086\n",
      "-0.0169189181179 0.0179999992251\n",
      "0.248999997973 0.416000008583\n"
     ]
    }
   ],
   "source": [
    "vtk_mesh, b_x = rrv.read_scalar(current_grid_file, 'B_x')\n",
    "print vtk_mesh[0][0, 0 ,0], vtk_mesh[0][0, -1, 0]\n",
    "print vtk_mesh[1][0, 0, 0], vtk_mesh[1][-1, 0, 0]\n",
    "print vtk_mesh[2][0, 0, 0], vtk_mesh[2][0, 0, -1]"
   ]
  },
  {
   "cell_type": "code",
   "execution_count": null,
   "metadata": {
    "collapsed": true
   },
   "outputs": [],
   "source": []
  }
 ],
 "metadata": {
  "kernelspec": {
   "display_name": "Python 2",
   "language": "python",
   "name": "python2"
  },
  "language_info": {
   "codemirror_mode": {
    "name": "ipython",
    "version": 2
   },
   "file_extension": ".py",
   "mimetype": "text/x-python",
   "name": "python",
   "nbconvert_exporter": "python",
   "pygments_lexer": "ipython2",
   "version": "2.7.12"
  }
 },
 "nbformat": 4,
 "nbformat_minor": 0
}
