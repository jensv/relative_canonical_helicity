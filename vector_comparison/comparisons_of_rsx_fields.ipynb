{
 "cells": [
  {
   "cell_type": "markdown",
   "metadata": {},
   "source": [
    "3. The curl of the real momentum (A) and the measured circulation (B) \n",
    "4. The curl of the reference momentum (A_ref, u_ref) and the reference circulation (omega_ref)  \n",
    "5. The reference ciruclation (B_ref, omega_ref) and the measured circulation (B, omega)\n"
   ]
  },
  {
   "cell_type": "code",
   "execution_count": null,
   "metadata": {
    "collapsed": true
   },
   "outputs": [],
   "source": [
    "time_0000_file = (\"/home/jensv/rsx/jens_analysis/writing_to_vtk/output/\"\n",
    "                  \"2017-01-16-18-15/Bdot_triple_probe_quantities0000.vtk\")\n",
    "mesh, A = read_rvtk.read_vector(time_0000_file, ['A_x', 'A_y', 'A_z'])\n",
    "mesh, B = read_rvtk.read_vector(time_0000_file, ['B_x', 'B_y', 'B_z'])\n",
    "curl_A = vc.curl(A, mesh=mesh)\n",
    "curl_A = np.asarray(curl_A)\n",
    "B = np.asarray(B)"
   ]
  },
  {
   "cell_type": "code",
   "execution_count": null,
   "metadata": {
    "collapsed": true
   },
   "outputs": [],
   "source": [
    "B_magnitudes, B_orientations = xi2.sample_vector_field(B)\n",
    "B_histograms = xi2.bin_samples(B_magnitudes, B_orientations)\n",
    "curl_A_magnitudes, curl_A_orientations = xi2.sample_vector_field(curl_A)\n",
    "curl_A_histograms = xi2.bin_samples(curl_A_magnitudes, curl_A_orientations)"
   ]
  },
  {
   "cell_type": "code",
   "execution_count": null,
   "metadata": {
    "collapsed": true
   },
   "outputs": [],
   "source": [
    "xi2.plot_histograms(B_magnitudes, B_orientations, units='T')\n",
    "sns.plt.suptitle('B distribution')\n",
    "xi2.plot_histograms(curl_A_magnitudes, curl_A_orientations, units='T')\n",
    "sns.plt.suptitle(r'$\\nabla \\times A$ distribution')"
   ]
  },
  {
   "cell_type": "code",
   "execution_count": null,
   "metadata": {
    "collapsed": true
   },
   "outputs": [],
   "source": [
    "xi2.xi_squared(B_histograms['counts_2d'], curl_A_histograms['counts_2d'])"
   ]
  }
 ],
 "metadata": {
  "kernelspec": {
   "display_name": "Python 2",
   "language": "python",
   "name": "python2"
  },
  "language_info": {
   "codemirror_mode": {
    "name": "ipython",
    "version": 2
   },
   "file_extension": ".py",
   "mimetype": "text/x-python",
   "name": "python",
   "nbconvert_exporter": "python",
   "pygments_lexer": "ipython2",
   "version": "2.7.12"
  }
 },
 "nbformat": 4,
 "nbformat_minor": 0
}
