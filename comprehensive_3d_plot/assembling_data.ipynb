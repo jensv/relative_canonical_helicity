{
 "cells": [
  {
   "cell_type": "markdown",
   "metadata": {},
   "source": [
    "Asemble magnetic, density, and pressure data from 4 planes and write to vtk files. "
   ]
  },
  {
   "cell_type": "code",
   "execution_count": 1,
   "metadata": {
    "collapsed": true
   },
   "outputs": [],
   "source": [
    "import numpy as np\n",
    "import scipy.io.idl as idl"
   ]
  },
  {
   "cell_type": "markdown",
   "metadata": {},
   "source": [
    "# Plane z=0.249m"
   ]
  },
  {
   "cell_type": "markdown",
   "metadata": {},
   "source": [
    "shotset 1, Bdot3a, TripleProbe1"
   ]
  },
  {
   "cell_type": "code",
   "execution_count": 4,
   "metadata": {
    "collapsed": false
   },
   "outputs": [
    {
     "name": "stdout",
     "output_type": "stream",
     "text": [
      "running ~/.bashrc...\n",
      "modify IDL startup in /Users/vonderlinden2/rsx_drive/Applications/IDL/idl_startup.pro\n",
      "executing that procedure now...\n",
      "fundamental procedures are stored in /Users/vonderlinden2/rsx_drive/Applications/IDL/\n",
      "use x11 xterm instead of terminal to maintain focus on the terminal\n",
      "basename:    115120844496\n"
     ]
    },
    {
     "name": "stderr",
     "output_type": "stream",
     "text": [
      "IDL Version 8.5, Mac OS X (darwin x86_64 m64).\n",
      "(c) 2015, Exelis Visual Information Solutions, Inc., a subsidiary of Harris Corporation.\n",
      "Installation number: 5697-1.\n",
      "Licensed for use by: ENERGY - LAWRENCE LIVERMORE NATIONAL LAB\n",
      "\n",
      "% LOADCT: Loading table RED TEMPERATURE\n",
      "% Compiled module: PRO00710.\n",
      "% Compiled module: PRO00C00.\n",
      "% Compiled module: PRO00150.\n",
      "% Compiled module: GET_SHOTS.\n",
      "% Compiled module: GET_SENSOR.\n",
      "% Compiled module: PRO00130.\n",
      "% Compiled module: TRANSFORM_SENSOR.\n",
      "% Compiled module: PRO00140.\n",
      "% Compiled module: PRO00100.\n",
      "% Compiled module: MDSOPEN.\n",
      "% Compiled module: MDSVALUE.\n",
      "% Compiled module: MDSCHECKARG.\n",
      "% Compiled module: MDSISCLIENT.\n",
      "% Compiled module: MDSIDLIMAGE.\n",
      "% Compiled module: MDSCLOSE.\n",
      "% Compiled module: PRO0060C.\n",
      "% Compiled module: PRO00160.\n",
      "% Compiled module: PROCEDURE_PATH.\n",
      "% Compiled module: STAMP.\n",
      "% READ: End of file encountered. Unit: 0, File: <stdin>\n",
      "% Execution halted at: STAMP              51\n",
      "   /Users/vonderlinden2/rsx_drive/Applications/IDL/stamp.pro\n",
      "%                      PRO00710           41\n",
      "   /Users/vonderlinden2/rsx_drive/RSX/IDL/pro00710.pro\n",
      "%                      $MAIN$          \n"
     ]
    }
   ],
   "source": [
    "%%sh\n",
    "source ~/.bashrc\n",
    "cd ../output/intermediate/20151208/plane_z249/\n",
    "idl -e \"pro00710,'bdot3a','x','b',indgen(21)*1./20.,1,shotset='001',current_rise=0\""
   ]
  },
  {
   "cell_type": "code",
   "execution_count": 5,
   "metadata": {
    "collapsed": false
   },
   "outputs": [
    {
     "name": "stdout",
     "output_type": "stream",
     "text": [
      "running ~/.bashrc...\n",
      "modify IDL startup in /Users/vonderlinden2/rsx_drive/Applications/IDL/idl_startup.pro\n",
      "executing that procedure now...\n",
      "fundamental procedures are stored in /Users/vonderlinden2/rsx_drive/Applications/IDL/\n",
      "use x11 xterm instead of terminal to maintain focus on the terminal\n",
      "basename:    115120844545\n"
     ]
    },
    {
     "name": "stderr",
     "output_type": "stream",
     "text": [
      "IDL Version 8.5, Mac OS X (darwin x86_64 m64).\n",
      "(c) 2015, Exelis Visual Information Solutions, Inc., a subsidiary of Harris Corporation.\n",
      "Installation number: 5697-1.\n",
      "Licensed for use by: ENERGY - LAWRENCE LIVERMORE NATIONAL LAB\n",
      "\n",
      "% LOADCT: Loading table RED TEMPERATURE\n",
      "% Compiled module: PRO00710.\n",
      "% Compiled module: PRO00C00.\n",
      "% Compiled module: PRO00150.\n",
      "% Compiled module: GET_SHOTS.\n",
      "% Compiled module: GET_SENSOR.\n",
      "% Compiled module: PRO00130.\n",
      "% Compiled module: TRANSFORM_SENSOR.\n",
      "% Compiled module: PRO00140.\n",
      "% Compiled module: PRO00100.\n",
      "% Compiled module: MDSOPEN.\n",
      "% Compiled module: MDSVALUE.\n",
      "% Compiled module: MDSCHECKARG.\n",
      "% Compiled module: MDSISCLIENT.\n",
      "% Compiled module: MDSIDLIMAGE.\n",
      "% Compiled module: MDSCLOSE.\n",
      "% Compiled module: PRO0060C.\n",
      "% Compiled module: PRO00160.\n",
      "% Compiled module: PROCEDURE_PATH.\n",
      "% Compiled module: STAMP.\n",
      "% READ: End of file encountered. Unit: 0, File: <stdin>\n",
      "% Execution halted at: STAMP              51\n",
      "   /Users/vonderlinden2/rsx_drive/Applications/IDL/stamp.pro\n",
      "%                      PRO00710           41\n",
      "   /Users/vonderlinden2/rsx_drive/RSX/IDL/pro00710.pro\n",
      "%                      $MAIN$          \n"
     ]
    }
   ],
   "source": [
    "%%sh\n",
    "source ~/.bashrc\n",
    "cd ../output/intermediate/20151208/plane_z249/\n",
    "idl -e \"pro00710,'bdot3a','y','b',indgen(21)*1./20.,1,shotset='001',current_rise=0\""
   ]
  },
  {
   "cell_type": "code",
   "execution_count": 6,
   "metadata": {
    "collapsed": false
   },
   "outputs": [
    {
     "name": "stdout",
     "output_type": "stream",
     "text": [
      "running ~/.bashrc...\n",
      "modify IDL startup in /Users/vonderlinden2/rsx_drive/Applications/IDL/idl_startup.pro\n",
      "executing that procedure now...\n",
      "fundamental procedures are stored in /Users/vonderlinden2/rsx_drive/Applications/IDL/\n",
      "use x11 xterm instead of terminal to maintain focus on the terminal\n",
      "basename:    115120844637\n"
     ]
    },
    {
     "name": "stderr",
     "output_type": "stream",
     "text": [
      "IDL Version 8.5, Mac OS X (darwin x86_64 m64).\n",
      "(c) 2015, Exelis Visual Information Solutions, Inc., a subsidiary of Harris Corporation.\n",
      "Installation number: 5697-1.\n",
      "Licensed for use by: ENERGY - LAWRENCE LIVERMORE NATIONAL LAB\n",
      "\n",
      "% LOADCT: Loading table RED TEMPERATURE\n",
      "% Compiled module: PRO00710.\n",
      "% Compiled module: PRO00C00.\n",
      "% Compiled module: PRO00150.\n",
      "% Compiled module: GET_SHOTS.\n",
      "% Compiled module: GET_SENSOR.\n",
      "% Compiled module: PRO00130.\n",
      "% Compiled module: TRANSFORM_SENSOR.\n",
      "% Compiled module: PRO00140.\n",
      "% Compiled module: PRO00100.\n",
      "% Compiled module: MDSOPEN.\n",
      "% Compiled module: MDSVALUE.\n",
      "% Compiled module: MDSCHECKARG.\n",
      "% Compiled module: MDSISCLIENT.\n",
      "% Compiled module: MDSIDLIMAGE.\n",
      "% Compiled module: MDSCLOSE.\n",
      "% Compiled module: PRO0060C.\n",
      "% Compiled module: PRO00160.\n",
      "% Compiled module: PROCEDURE_PATH.\n",
      "% Compiled module: STAMP.\n",
      "% READ: End of file encountered. Unit: 0, File: <stdin>\n",
      "% Execution halted at: STAMP              51\n",
      "   /Users/vonderlinden2/rsx_drive/Applications/IDL/stamp.pro\n",
      "%                      PRO00710           41\n",
      "   /Users/vonderlinden2/rsx_drive/RSX/IDL/pro00710.pro\n",
      "%                      $MAIN$          \n"
     ]
    }
   ],
   "source": [
    "%%sh\n",
    "source ~/.bashrc\n",
    "cd ../output/intermediate/20151208/plane_z249/\n",
    "idl -e \"pro00710,'bdot3a','z','b',indgen(21)*1./20.,1,shotset='001',current_rise=0\""
   ]
  },
  {
   "cell_type": "code",
   "execution_count": 8,
   "metadata": {
    "collapsed": false
   },
   "outputs": [
    {
     "name": "stdout",
     "output_type": "stream",
     "text": [
      "running ~/.bashrc...\n",
      "modify IDL startup in /Users/vonderlinden2/rsx_drive/Applications/IDL/idl_startup.pro\n",
      "executing that procedure now...\n",
      "fundamental procedures are stored in /Users/vonderlinden2/rsx_drive/Applications/IDL/\n",
      "use x11 xterm instead of terminal to maintain focus on the terminal\n",
      "basename:    115120844768\n"
     ]
    },
    {
     "name": "stderr",
     "output_type": "stream",
     "text": [
      "IDL Version 8.5, Mac OS X (darwin x86_64 m64).\n",
      "(c) 2015, Exelis Visual Information Solutions, Inc., a subsidiary of Harris Corporation.\n",
      "Installation number: 5697-1.\n",
      "Licensed for use by: ENERGY - LAWRENCE LIVERMORE NATIONAL LAB\n",
      "\n",
      "% LOADCT: Loading table RED TEMPERATURE\n",
      "% Compiled module: PRO00710.\n",
      "% Compiled module: PRO00C00.\n",
      "% Compiled module: PRO00150.\n",
      "% Compiled module: GET_SHOTS.\n",
      "% Compiled module: GET_SENSOR.\n",
      "% Compiled module: PRO00130.\n",
      "% Compiled module: TRANSFORM_SENSOR.\n",
      "% Compiled module: PRO00140.\n",
      "% Compiled module: PRO00100.\n",
      "% Compiled module: MDSOPEN.\n",
      "% Compiled module: MDSVALUE.\n",
      "% Compiled module: MDSCHECKARG.\n",
      "% Compiled module: MDSISCLIENT.\n",
      "% Compiled module: MDSIDLIMAGE.\n",
      "% Compiled module: MDSCLOSE.\n",
      "% Compiled module: PRO00160.\n",
      "% Compiled module: PROCEDURE_PATH.\n",
      "% Compiled module: STAMP.\n",
      "% READ: End of file encountered. Unit: 0, File: <stdin>\n",
      "% Execution halted at: STAMP              51\n",
      "   /Users/vonderlinden2/rsx_drive/Applications/IDL/stamp.pro\n",
      "%                      PRO00710           41\n",
      "   /Users/vonderlinden2/rsx_drive/RSX/IDL/pro00710.pro\n",
      "%                      $MAIN$          \n"
     ]
    }
   ],
   "source": [
    "%%sh\n",
    "source ~/.bashrc\n",
    "cd ../output/intermediate/20151208/plane_z249/\n",
    "idl -e \"pro00710,'3p1','z','n',indgen(21)*1./20.,1,shotset='001',current_rise=0\""
   ]
  },
  {
   "cell_type": "code",
   "execution_count": 9,
   "metadata": {
    "collapsed": false
   },
   "outputs": [
    {
     "name": "stdout",
     "output_type": "stream",
     "text": [
      "running ~/.bashrc...\n",
      "modify IDL startup in /Users/vonderlinden2/rsx_drive/Applications/IDL/idl_startup.pro\n",
      "executing that procedure now...\n",
      "fundamental procedures are stored in /Users/vonderlinden2/rsx_drive/Applications/IDL/\n",
      "use x11 xterm instead of terminal to maintain focus on the terminal\n",
      "basename:    115120844783\n"
     ]
    },
    {
     "name": "stderr",
     "output_type": "stream",
     "text": [
      "IDL Version 8.5, Mac OS X (darwin x86_64 m64).\n",
      "(c) 2015, Exelis Visual Information Solutions, Inc., a subsidiary of Harris Corporation.\n",
      "Installation number: 5697-1.\n",
      "Licensed for use by: ENERGY - LAWRENCE LIVERMORE NATIONAL LAB\n",
      "\n",
      "% LOADCT: Loading table RED TEMPERATURE\n",
      "% Compiled module: PRO00710.\n",
      "% Compiled module: PRO00C00.\n",
      "% Compiled module: PRO00150.\n",
      "% Compiled module: GET_SHOTS.\n",
      "% Compiled module: GET_SENSOR.\n",
      "% Compiled module: PRO00130.\n",
      "% Compiled module: TRANSFORM_SENSOR.\n",
      "% Compiled module: PRO00140.\n",
      "% Compiled module: PRO00100.\n",
      "% Compiled module: MDSOPEN.\n",
      "% Compiled module: MDSVALUE.\n",
      "% Compiled module: MDSCHECKARG.\n",
      "% Compiled module: MDSISCLIENT.\n",
      "% Compiled module: MDSIDLIMAGE.\n",
      "% Compiled module: MDSCLOSE.\n",
      "% Compiled module: PRO00160.\n",
      "% Compiled module: PROCEDURE_PATH.\n",
      "% Compiled module: STAMP.\n",
      "% READ: End of file encountered. Unit: 0, File: <stdin>\n",
      "% Execution halted at: STAMP              51\n",
      "   /Users/vonderlinden2/rsx_drive/Applications/IDL/stamp.pro\n",
      "%                      PRO00710           41\n",
      "   /Users/vonderlinden2/rsx_drive/RSX/IDL/pro00710.pro\n",
      "%                      $MAIN$          \n"
     ]
    }
   ],
   "source": [
    "%%sh\n",
    "source ~/.bashrc\n",
    "cd ../output/intermediate/20151208/plane_z249/\n",
    "idl -e \"pro00710,'3p1','z','te',indgen(21)*1./20.,1,shotset='001',current_rise=0\""
   ]
  },
  {
   "cell_type": "markdown",
   "metadata": {},
   "source": [
    "# Plane z=0.302m"
   ]
  },
  {
   "cell_type": "markdown",
   "metadata": {},
   "source": [
    "shotset 3, Bdot3a, TripleProbe1"
   ]
  },
  {
   "cell_type": "code",
   "execution_count": null,
   "metadata": {
    "collapsed": true
   },
   "outputs": [],
   "source": []
  },
  {
   "cell_type": "markdown",
   "metadata": {},
   "source": [
    "# Plane z=0.357m"
   ]
  },
  {
   "cell_type": "markdown",
   "metadata": {},
   "source": [
    "shotset 1, Bdot10, TripleProbe2"
   ]
  },
  {
   "cell_type": "code",
   "execution_count": null,
   "metadata": {
    "collapsed": true
   },
   "outputs": [],
   "source": []
  },
  {
   "cell_type": "markdown",
   "metadata": {},
   "source": [
    "# Plane z=0.416m"
   ]
  },
  {
   "cell_type": "markdown",
   "metadata": {},
   "source": [
    "shotset 3, Bdot10, TripleProbe2"
   ]
  },
  {
   "cell_type": "code",
   "execution_count": null,
   "metadata": {
    "collapsed": true
   },
   "outputs": [],
   "source": []
  }
 ],
 "metadata": {
  "kernelspec": {
   "display_name": "Python 2",
   "language": "python",
   "name": "python2"
  },
  "language_info": {
   "codemirror_mode": {
    "name": "ipython",
    "version": 2
   },
   "file_extension": ".py",
   "mimetype": "text/x-python",
   "name": "python",
   "nbconvert_exporter": "python",
   "pygments_lexer": "ipython2",
   "version": "2.7.9"
  }
 },
 "nbformat": 4,
 "nbformat_minor": 0
}
