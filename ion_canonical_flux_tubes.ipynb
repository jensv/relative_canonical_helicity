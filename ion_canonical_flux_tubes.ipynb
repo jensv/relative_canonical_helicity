{
 "cells": [
  {
   "cell_type": "code",
   "execution_count": 3,
   "metadata": {
    "collapsed": false
   },
   "outputs": [],
   "source": [
    "import time\n",
    "import numpy as np\n",
    "from scipy.constants import elementary_charge, proton_mass \n",
    "from datetime import date\n",
    "from datetime import datetime\n",
    "import os\n",
    "import vis_canonical_fluxtubes as vis"
   ]
  },
  {
   "cell_type": "code",
   "execution_count": 4,
   "metadata": {
    "collapsed": false
   },
   "outputs": [
    {
     "data": {
      "text/plain": [
       "1.6021766208e-19"
      ]
     },
     "execution_count": 4,
     "metadata": {},
     "output_type": "execute_result"
    }
   ],
   "source": [
    "elementary_charge"
   ]
  },
  {
   "cell_type": "code",
   "execution_count": 5,
   "metadata": {
    "collapsed": false
   },
   "outputs": [
    {
     "data": {
      "text/plain": [
       "True"
      ]
     },
     "execution_count": 5,
     "metadata": {},
     "output_type": "execute_result"
    }
   ],
   "source": [
    "import visit\n",
    "visit.Launch()"
   ]
  },
  {
   "cell_type": "code",
   "execution_count": 4,
   "metadata": {
    "collapsed": true
   },
   "outputs": [],
   "source": [
    "database_prefix = '/Users/vonderlinden2/rsx_analysis/writing_to_vtk/output/2016-08-10-10-27'"
   ]
  },
  {
   "cell_type": "code",
   "execution_count": 5,
   "metadata": {
    "collapsed": false,
    "scrolled": true
   },
   "outputs": [
    {
     "data": {
      "text/plain": [
       "1.0439684840519176e-08"
      ]
     },
     "execution_count": 5,
     "metadata": {},
     "output_type": "execute_result"
    }
   ],
   "source": [
    "proton_mass/elementary_charge"
   ]
  },
  {
   "cell_type": "code",
   "execution_count": 6,
   "metadata": {
    "collapsed": false
   },
   "outputs": [
    {
     "data": {
      "text/plain": [
       "1.672621898e-27"
      ]
     },
     "execution_count": 6,
     "metadata": {},
     "output_type": "execute_result"
    }
   ],
   "source": [
    "proton_mass"
   ]
  },
  {
   "cell_type": "code",
   "execution_count": 7,
   "metadata": {
    "collapsed": false
   },
   "outputs": [
    {
     "data": {
      "text/plain": [
       "1.6021766208e-19"
      ]
     },
     "execution_count": 7,
     "metadata": {},
     "output_type": "execute_result"
    }
   ],
   "source": [
    "elementary_charge"
   ]
  },
  {
   "cell_type": "code",
   "execution_count": 8,
   "metadata": {
    "collapsed": true
   },
   "outputs": [],
   "source": [
    "tan = (209, 178, 111, 255)\n",
    "olive = (110, 117, 14, 255)"
   ]
  },
  {
   "cell_type": "code",
   "execution_count": 9,
   "metadata": {
    "collapsed": false
   },
   "outputs": [
    {
     "name": "stdout",
     "output_type": "stream",
     "text": [
      "test 1.20e+06\n"
     ]
    }
   ],
   "source": [
    "print \"test %1.2e\" % 12e5"
   ]
  },
  {
   "cell_type": "code",
   "execution_count": 10,
   "metadata": {
    "collapsed": false
   },
   "outputs": [],
   "source": [
    "def define_expressions(alpha=8.1e5):\n",
    "    visit.DefineVectorExpression(\"B\", \"{B_x, B_y, B_z}\")\n",
    "    visit.DefineVectorExpression(\"B_norm\", \"{B_norm_x, B_norm_y, B_norm_z}\")\n",
    "    visit.DefineVectorExpression(\"B_perp\", \"{B_x, B_y, 0}\")\n",
    "    visit.DefineVectorExpression(\"B_para\", \"{0, 0, B_z}\")\n",
    "    visit.DefineScalarExpression(\"B_para_scalar\", \"B_z\")\n",
    "    \n",
    "    visit.DefineVectorExpression(\"J\", \"{j_x, j_y, j_z}\")\n",
    "    visit.DefineScalarExpression(\"J_mag\", \"sqrt(j_x^2 + j_y^2 + j_z^2)\")\n",
    "    visit.DefineVectorExpression(\"J_perp\", \"{j_x, j_y, 0}\")\n",
    "    visit.DefineVectorExpression(\"J_para\", \"{0, 0, j_z}\")\n",
    "    visit.DefineScalarExpression(\"J_para_scalar\", \"j_z\")\n",
    "    \n",
    "    visit.DefineVectorExpression(\"u_e_norm\", \"{u_e_norm_x, u_e_norm_y, u_e_norm_z}\")\n",
    "    visit.DefineVectorExpression(\"u_e\", \"%1.2e * u_e_norm\" % alpha)\n",
    "    visit.DefineVectorExpression(\"u_e_perp\", \"{dot(u_e, {1, 0, 0}), dot(u_e, {0, 1, 0}), 0}\")\n",
    "    visit.DefineScalarExpression(\"u_e_para_scalar\", \"dot(u_e, {0, 0, 1})\")\n",
    "    \n",
    "    \n",
    "    visit.DefineVectorExpression(\"u_i_term1\", \"{u_i_term1_x, u_i_term1_y, u_i_term1_z}\")\n",
    "    visit.DefineVectorExpression(\"u_i_term1_perp\", \"{u_i_term1_x, u_i_term1_y, 0}\")\n",
    "    visit.DefineVectorExpression(\"u_i_term1_para\", \"{0, 0, u_i_term1_z}\") \n",
    "    visit.DefineScalarExpression(\"u_i_term1_para_scalar\", \"u_i_term1_z\") \n",
    "    \n",
    "    visit.DefineVectorExpression(\"omega_i_term1\", \"{w_i_term1_x, w_i_term1_y, w_i_term1_z}\")\n",
    "    visit.DefineVectorExpression(\"omega_i_term1_perp\", \"{w_i_term1_x, w_i_term1_y, 0}\")\n",
    "    visit.DefineVectorExpression(\"omega_i_term1_para\", \"{0, 0, w_i_term1_z}\")\n",
    "    visit.DefineScalarExpression(\"omega_i_term1_para_scalar\", \"w_i_term1_z\")\n",
    "    \n",
    "    visit.DefineVectorExpression(\"omega_i_term2\", \"{w_i_term2_x, w_i_term2_y, w_i_term2_z} * %1.2e\" % alpha)\n",
    "    visit.DefineVectorExpression(\"omega_i_term2_perp\", \"{w_i_term2_x, w_i_term2_y, 0} * %1.2e\" % alpha)\n",
    "    visit.DefineVectorExpression(\"omega_i_term2_para\", \"{0, 0, w_i_term2_z} * %1.2e\" % alpha)\n",
    "    visit.DefineScalarExpression(\"omega_i_term2_para_scalar\", \"w_i_term2_z * %1.2e\" % alpha)\n",
    "    \n",
    "    visit.DefineVectorExpression(\"u_i\", \"u_i_term1 + u_e\")\n",
    "    visit.DefineVectorExpression(\"u_i_perp\", \"{dot(u_i, {1, 0, 0}), dot(u_i, {0, 1, 0}), 0}\")\n",
    "    visit.DefineVectorExpression(\"u_i_para\", \"{0, 0, dot(u_i, {0, 0, 1})}\")\n",
    "    visit.DefineScalarExpression(\"u_i_para_scalar\", \"dot(u_i, {0, 0, 1})\")\n",
    "    \n",
    "    visit.DefineVectorExpression(\"omega_i\", \"omega_i_term1 + omega_i_term2 * %1.2e\" % alpha)\n",
    "    visit.DefineVectorExpression(\"omega_i_perp\", \"{dot(omega_i, {1, 0, 0}), dot(omega_i, {0, 1, 0}), 0}\")\n",
    "    visit.DefineVectorExpression(\"omega_i_para\", \"{0, 0, dot(omega_i, {0, 0, 1})}\")\n",
    "    visit.DefineScalarExpression(\"omega_i_para_scalar\", \"dot(omega_i, {0, 0, 1})\")\n",
    "    \n",
    "    visit.DefineVectorExpression(\"Omega_i\", \"B +\" + str(proton_mass) + \"/\" + str(elementary_charge) + \"*omega_i\")\n",
    "    visit.DefineVectorExpression(\"Omega_i_perp\", \"{dot(Omega_i, {1, 0, 0}), dot(Omega_i, {0, 1, 0}), 0}\")\n",
    "    visit.DefineVectorExpression(\"Omega_i_para\", \"{0, 0, dot(Omega_i, {0, 0, 1})}\")\n",
    "    visit.DefineScalarExpression(\"Omega_i_para_scalar\", \"dot(Omega_i, {0, 0, 1})\")"
   ]
  },
  {
   "cell_type": "code",
   "execution_count": 11,
   "metadata": {
    "collapsed": false
   },
   "outputs": [],
   "source": [
    "define_expressions(alpha=6e3)"
   ]
  },
  {
   "cell_type": "code",
   "execution_count": 12,
   "metadata": {
    "collapsed": false
   },
   "outputs": [],
   "source": [
    "def launch_points(center, plane=0.249, num_inner=80, num_outer=60):\n",
    "    thetas = np.linspace(0, 3./4.*np.pi, num_outer)\n",
    "    thetas = np.concatenate((thetas, np.linspace(5./4.*np.pi, 2.*np.pi, num_outer)))\n",
    "    x_outer = 0.01 * np.cos(thetas) + center[0]\n",
    "    y_outer = 0.01 * np.sin(thetas) + center[1]\n",
    "    z_outer = plane * np.ones((x_outer.size))\n",
    "    points_outer = np.empty((x_outer.size + y_outer.size + z_outer.size))\n",
    "    points_outer[0::3] = x_outer\n",
    "    points_outer[1::3] = y_outer\n",
    "    points_outer[2::3] = z_outer\n",
    "    points_outer = tuple(points_outer)\n",
    "\n",
    "    thetas = np.linspace(0, 2.*np.pi, num_inner)\n",
    "    x_inner = 0.005 * np.cos(thetas) + center[0]\n",
    "    y_inner = 0.005 * np.sin(thetas) + center[1]\n",
    "    z_inner = plane * np.ones(x_inner.size)\n",
    "    points_inner = np.empty((x_inner.size + y_inner.size + z_inner.size))\n",
    "    points_inner[0::3] = x_inner\n",
    "    points_inner[1::3] = y_inner \n",
    "    points_inner[2::3] = z_inner\n",
    "    points_inner = tuple(points_inner)\n",
    "    \n",
    "    return points_outer, points_inner"
   ]
  },
  {
   "cell_type": "code",
   "execution_count": 13,
   "metadata": {
    "collapsed": true
   },
   "outputs": [],
   "source": [
    "def setup_current_pseudocolor(colortable=\"Greens\"):\n",
    "    r\"\"\"\n",
    "    \"\"\"\n",
    "    visit.AddPlot(\"Pseudocolor\", \"J_mag\", 1, 0)\n",
    "    PseudocolorAtts = visit.PseudocolorAttributes()\n",
    "    PseudocolorAtts.scaling = PseudocolorAtts.Linear  \n",
    "    PseudocolorAtts.limitsMode = PseudocolorAtts.OriginalData \n",
    "    PseudocolorAtts.colorTableName = colortable\n",
    "    visit.SetPlotOptions(PseudocolorAtts)\n",
    "    visit.AddOperator(\"Slice\", 0)\n",
    "    SliceAtts = visit.SliceAttributes()\n",
    "    SliceAtts.originType = SliceAtts.Intercept \n",
    "    SliceAtts.originIntercept = 0.249\n",
    "    SliceAtts.axisType = SliceAtts.ZAxis\n",
    "    SliceAtts.project2d = 0\n",
    "    visit.SetOperatorOptions(SliceAtts, 0)\n",
    "    return PseudocolorAtts, SliceAtts"
   ]
  },
  {
   "cell_type": "code",
   "execution_count": 14,
   "metadata": {
    "collapsed": false,
    "scrolled": true
   },
   "outputs": [],
   "source": [
    "def setup_massless_electron_canonical_flux_tubes(points_outer, points_inner):\n",
    "    r\"\"\"\n",
    "    \"\"\"\n",
    "    visit.AddPlot(\"Streamline\", \"B\", 1, 0)\n",
    "    StreamlineAtts_outer = visit.StreamlineAttributes()\n",
    "    StreamlineAtts_outer.sourceType = StreamlineAtts_outer.SpecifiedPointList\n",
    "    StreamlineAtts_outer.SetPointList(points_outer)\n",
    "    StreamlineAtts_outer.coloringMethod = StreamlineAtts_outer.Solid  \n",
    "    StreamlineAtts_outer.colorTableName = \"Default\"\n",
    "    StreamlineAtts_outer.singleColor = (255, 0, 0, 255)\n",
    "    visit.SetPlotOptions(StreamlineAtts_outer)\n",
    "\n",
    "    visit.AddPlot(\"Streamline\", \"B\", 1, 0)\n",
    "    StreamlineAtts_inner = visit.StreamlineAttributes()\n",
    "    StreamlineAtts_inner.sourceType = StreamlineAtts_inner.SpecifiedPointList\n",
    "    StreamlineAtts_inner.SetPointList(points_inner)\n",
    "    StreamlineAtts_inner.coloringMethod = StreamlineAtts_inner.Solid\n",
    "    StreamlineAtts_inner.colorTableName = \"Default\"\n",
    "    StreamlineAtts_inner.singleColor = (190, 64, 0, 255)\n",
    "    visit.SetPlotOptions(StreamlineAtts_inner)\n",
    "    \n",
    "    return StreamlineAtts_outer, StreamlineAtts_inner"
   ]
  },
  {
   "cell_type": "code",
   "execution_count": 15,
   "metadata": {
    "collapsed": true
   },
   "outputs": [],
   "source": [
    "def setup_inner_outer_ion_canonical_flux_tubes(points_outer, points_inner,\n",
    "                                   outer_color=tan, inner_color=olive):\n",
    "    r\"\"\"\n",
    "    \"\"\"\n",
    "    visit.AddPlot(\"Streamline\", \"Omega_i\", 1, 0)\n",
    "    StreamlineAtts_outer = visit.StreamlineAttributes()\n",
    "    StreamlineAtts_outer.sourceType = StreamlineAtts_outer.SpecifiedPointList\n",
    "    StreamlineAtts_outer.SetPointList(points_outer)\n",
    "    StreamlineAtts_outer.coloringMethod = StreamlineAtts_outer.Solid  \n",
    "    StreamlineAtts_outer.colorTableName = \"Default\"\n",
    "    StreamlineAtts_outer.singleColor = outer_color\n",
    "    visit.SetPlotOptions(StreamlineAtts_outer)\n",
    "\n",
    "    visit.AddPlot(\"Streamline\", \"Omega_i\", 1, 0)\n",
    "    StreamlineAtts_inner = visit.StreamlineAttributes()\n",
    "    StreamlineAtts_inner.sourceType = StreamlineAtts_inner.SpecifiedPointList\n",
    "    StreamlineAtts_inner.SetPointList(points_inner)\n",
    "    StreamlineAtts_inner.coloringMethod = StreamlineAtts_inner.Solid\n",
    "    StreamlineAtts_inner.colorTableName = \"Default\"\n",
    "    StreamlineAtts_inner.singleColor = inner_color\n",
    "    visit.SetPlotOptions(StreamlineAtts_inner)\n",
    "    \n",
    "    return StreamlineAtts_outer, StreamlineAtts_inner"
   ]
  },
  {
   "cell_type": "code",
   "execution_count": 16,
   "metadata": {
    "collapsed": true
   },
   "outputs": [],
   "source": [
    "def setup_forward_backward_ion_canonical_flux_tubes(points_foward, points_backward,\n",
    "                                                    forward_color=tan, backward_color=olive):\n",
    "    r\"\"\"\n",
    "    \"\"\"\n",
    "    visit.AddPlot(\"Streamline\", \"Omega_i\", 1, 0)\n",
    "    \n",
    "    StreamlineAtts_forward = visit.StreamlineAttributes()\n",
    "    StreamlineAtts_forward.sourceType = StreamlineAtts_forward.SpecifiedPointList\n",
    "    StreamlineAtts_forward.SetPointList(points_foward)\n",
    "    StreamlineAtts_forward.coloringMethod = StreamlineAtts_forward.Solid  \n",
    "    StreamlineAtts_forward.colorTableName = \"Default\"\n",
    "    StreamlineAtts_forward.singleColor = forward_color\n",
    "    StreamlineAtts_forward.integrationDirection = StreamlineAtts_forward.Forward\n",
    "    visit.SetPlotOptions(StreamlineAtts_forward)\n",
    "\n",
    "    visit.AddPlot(\"Streamline\", \"Omega_i\", 1, 0)\n",
    "    StreamlineAtts_backward = visit.StreamlineAttributes()\n",
    "    StreamlineAtts_backward.sourceType = StreamlineAtts_backward.SpecifiedPointList\n",
    "    StreamlineAtts_backward.SetPointList(points_backward)\n",
    "    StreamlineAtts_backward.coloringMethod = StreamlineAtts_backward.Solid\n",
    "    StreamlineAtts_backward.colorTableName = \"Default\"\n",
    "    StreamlineAtts_backward.singleColor = backward_color\n",
    "    StreamlineAtts_backward.integrationDirection = StreamlineAtts_backward.Backward\n",
    "    visit.SetPlotOptions(StreamlineAtts_backward)\n",
    "    \n",
    "    return StreamlineAtts_forward, StreamlineAtts_backward"
   ]
  },
  {
   "cell_type": "code",
   "execution_count": 17,
   "metadata": {
    "collapsed": false
   },
   "outputs": [],
   "source": [
    "today = str(date.today())\n",
    "out_dir = '../output/' + today\n",
    "try:\n",
    "    os.makedirs(out_dir)\n",
    "except:\n",
    "    pass\n",
    "\n",
    "visit.OpenDatabase(database_prefix + '/Bdot_triple_probe_quantities*.vtk database')\n",
    "field_nulls = np.loadtxt('../../centroid_fitting/output/2016-08-06/field_nulls_0249.txt')\n",
    "field_nulls_357 = np.loadtxt('../../centroid_fitting/output/2016-08-06/field_nulls_0357.txt')\n",
    "electron_points_outer, electron_points_inner = launch_points(field_nulls[0], num_inner=10)\n",
    "ion_points_outer, ion_points_inner = launch_points(field_nulls[0], plane=0.249, num_inner=80)\n",
    "define_expressions()\n",
    "setup_current_pseudocolor()\n",
    "(electron_StreamlineAtts_outer, \n",
    " electron_StreamlineAtts_inner) = setup_massless_electron_canonical_flux_tubes(electron_points_inner, \n",
    "                                                                               electron_points_inner)\n",
    "(ion_StreamlineAtts_forward, \n",
    " ion_StreamlineAtts_backward) = setup_forward_backward_ion_canonical_flux_tubes(ion_points_inner, \n",
    "                                                                                ion_points_inner)\n"
   ]
  },
  {
   "cell_type": "code",
   "execution_count": null,
   "metadata": {
    "collapsed": true
   },
   "outputs": [],
   "source": []
  },
  {
   "cell_type": "code",
   "execution_count": 18,
   "metadata": {
    "collapsed": false
   },
   "outputs": [
    {
     "data": {
      "text/plain": [
       "1L"
      ]
     },
     "execution_count": 18,
     "metadata": {},
     "output_type": "execute_result"
    }
   ],
   "source": [
    "view = visit.GetView3D()\n",
    "view.SetViewNormal((-0.731293, 0.40847, 0.546227))\n",
    "view.SetFocus((0.00202222, 0.000976744, 0.331997))\n",
    "view.SetViewUp((0.322268, 0.91274, -0.251095))\n",
    "view.SetViewAngle(30)\n",
    "view.SetParallelScale(0.088383)\n",
    "view.SetNearPlane(-0.176766)\n",
    "view.SetImagePan((0, 0))\n",
    "view.SetImageZoom(1)\n",
    "view.SetPerspective(1)\n",
    "view.SetEyeAngle(2)\n",
    "view.SetCenterOfRotationSet(0)\n",
    "view.SetCenterOfRotation((0.00202222, 0.000976744, 0.331997))\n",
    "view.SetAxis3DScaleFlag(0)\n",
    "view.SetAxis3DScales((1,1,1))\n",
    "view.SetShear((0,0,1))\n",
    "view.SetWindowValid(0)\n",
    "visit.SetView3D(view)"
   ]
  },
  {
   "cell_type": "code",
   "execution_count": 19,
   "metadata": {
    "collapsed": false
   },
   "outputs": [
    {
     "data": {
      "text/plain": [
       "1L"
      ]
     },
     "execution_count": 19,
     "metadata": {},
     "output_type": "execute_result"
    }
   ],
   "source": [
    "visit.DrawPlots()"
   ]
  },
  {
   "cell_type": "code",
   "execution_count": null,
   "metadata": {
    "collapsed": false
   },
   "outputs": [],
   "source": [
    "output_path = out_dir + '/ion_canonical_flux_tube'\n",
    "ending = '.png'\n",
    "plane = 0.249\n",
    "save_atts = visit.SaveWindowAttributes()\n",
    "save_atts.format = save_atts.PNG\n",
    "save_atts.height = 1080\n",
    "save_atts.width = 1920\n",
    "save_atts.family = 0\n",
    "visit.SetSaveWindowAttributes(save_atts)\n",
    "\n",
    "for time_point in (range(0, 14) + range(17, 20)):\n",
    "    print time_point\n",
    "    save_atts.fileName = output_path + str(time_point).zfill(4) + ending\n",
    "    visit.SetSaveWindowAttributes(save_atts)\n",
    "    \n",
    "    points_outer, points_inner = launch_points(field_nulls_357[time_point], plane)\n",
    "    e_points_outer, e_points_inner = launch_points(field_nulls_357[time_point], plane, num_inner=10)\n",
    "    \n",
    "    visit.SetActivePlots(1)\n",
    "    electron_StreamlineAtts_outer.SetPointList(e_points_inner)\n",
    "    visit.SetPlotOptions(electron_StreamlineAtts_outer)\n",
    "    \n",
    "    visit.SetActivePlots(2)\n",
    "    electron_StreamlineAtts_inner.SetPointList(e_points_inner)\n",
    "    visit.SetPlotOptions(electron_StreamlineAtts_inner)\n",
    "    \n",
    "    visit.SetActivePlots(3)\n",
    "    ion_StreamlineAtts_forward.SetPointList(points_inner)\n",
    "    visit.SetPlotOptions(ion_StreamlineAtts_forward)\n",
    "    \n",
    "    visit.SetActivePlots(4)\n",
    "    ion_StreamlineAtts_backward.SetPointList(points_inner)\n",
    "    visit.SetPlotOptions(ion_StreamlineAtts_backward)\n",
    "    \n",
    "    visit.SetTimeSliderState(time_point)\n",
    "    \n",
    "    name = visit.SaveWindow()"
   ]
  },
  {
   "cell_type": "code",
   "execution_count": 22,
   "metadata": {
    "collapsed": false
   },
   "outputs": [
    {
     "name": "stdout",
     "output_type": "stream",
     "text": [
      "ffmpeg version 2.8.1 Copyright (c) 2000-2015 the FFmpeg developers\n",
      "  built with Apple LLVM version 6.0 (clang-600.0.56) (based on LLVM 3.5svn)\n",
      "  configuration: --prefix=/Users/vonderlinden2/homebrew/Cellar/ffmpeg/2.8.1_1 --enable-shared --enable-pthreads --enable-gpl --enable-version3 --enable-hardcoded-tables --enable-avresample --cc=clang --host-cflags= --host-ldflags= --enable-opencl --enable-libx264 --enable-libmp3lame --enable-libvo-aacenc --enable-libxvid --enable-vda\n",
      "  libavutil      54. 31.100 / 54. 31.100\n",
      "  libavcodec     56. 60.100 / 56. 60.100\n",
      "  libavformat    56. 40.101 / 56. 40.101\n",
      "  libavdevice    56.  4.100 / 56.  4.100\n",
      "  libavfilter     5. 40.101 /  5. 40.101\n",
      "  libavresample   2.  1.  0 /  2.  1.  0\n",
      "  libswscale      3.  1.101 /  3.  1.101\n",
      "  libswresample   1.  2.101 /  1.  2.101\n",
      "  libpostproc    53.  3.100 / 53.  3.100\n",
      "Input #0, image2, from '../output/2016-08-18/ion_canonical_flux_tube%04d.png':\n",
      "  Duration: 00:00:42.00, start: 0.000000, bitrate: N/A\n",
      "    Stream #0:0: Video: png, rgb24(pc), 1920x1457, 0.50 fps, 0.50 tbr, 0.50 tbn, 0.50 tbc\n",
      "\u001b[1;36m[libx264 @ 0x7fa67b008c00] \u001b[0musing cpu capabilities: MMX2 SSE2Fast SSSE3 SSE4.2 AVX\n",
      "\u001b[1;36m[libx264 @ 0x7fa67b008c00] \u001b[0mprofile High, level 5.0\n",
      "\u001b[1;36m[libx264 @ 0x7fa67b008c00] \u001b[0m264 - core 148 r2601 a0cd7d3 - H.264/MPEG-4 AVC codec - Copyleft 2003-2015 - http://www.videolan.org/x264.html - options: cabac=1 ref=3 deblock=1:0:0 analyse=0x3:0x113 me=hex subme=7 psy=1 psy_rd=1.00:0.00 mixed_ref=1 me_range=16 chroma_me=1 trellis=1 8x8dct=1 cqm=0 deadzone=21,11 fast_pskip=1 chroma_qp_offset=-2 threads=12 lookahead_threads=2 sliced_threads=0 nr=0 decimate=1 interlaced=0 bluray_compat=0 constrained_intra=0 bframes=3 b_pyramid=2 b_adapt=1 b_bias=0 direct=1 weightb=1 open_gop=0 weightp=2 keyint=250 keyint_min=1 scenecut=40 intra_refresh=0 rc_lookahead=40 rc=crf mbtree=1 crf=23.0 qcomp=0.60 qpmin=0 qpmax=69 qpstep=4 ip_ratio=1.40 aq=1:1.00\n",
      "Output #0, mp4, to '../output/2016-08-18/out.mp4':\n",
      "  Metadata:\n",
      "    encoder         : Lavf56.40.101\n",
      "    Stream #0:0: Video: h264 (libx264) ([33][0][0][0] / 0x0021), yuv420p, 1920x1456, q=-1--1, 0.50 fps, 16384 tbn, 0.50 tbc\n",
      "    Metadata:\n",
      "      encoder         : Lavc56.60.100 libx264\n",
      "Stream mapping:\n",
      "  Stream #0:0 -> #0:0 (png (native) -> h264 (libx264))\n",
      "Press [q] to stop, [?] for help\n",
      "frame=   21 fps= 21 q=-1.0 Lsize=     934kB time=00:00:38.00 bitrate= 201.4kbits/s    \n",
      "video:933kB audio:0kB subtitle:0kB other streams:0kB global headers:0kB muxing overhead: 0.113836%\n",
      "\u001b[1;36m[libx264 @ 0x7fa67b008c00] \u001b[0mframe I:1     Avg QP: 7.54  size:123760\n",
      "\u001b[1;36m[libx264 @ 0x7fa67b008c00] \u001b[0mframe P:5     Avg QP:15.59  size: 56189\n",
      "\u001b[1;36m[libx264 @ 0x7fa67b008c00] \u001b[0mframe B:15    Avg QP:16.67  size: 36691\n",
      "\u001b[1;36m[libx264 @ 0x7fa67b008c00] \u001b[0mconsecutive B-frames:  4.8%  0.0%  0.0% 95.2%\n",
      "\u001b[1;36m[libx264 @ 0x7fa67b008c00] \u001b[0mmb I  I16..4: 43.1% 42.2% 14.7%\n",
      "\u001b[1;36m[libx264 @ 0x7fa67b008c00] \u001b[0mmb P  I16..4:  0.5%  3.4%  4.4%  P16..4:  2.1%  0.7%  0.6%  0.0%  0.0%    skip:88.2%\n",
      "\u001b[1;36m[libx264 @ 0x7fa67b008c00] \u001b[0mmb B  I16..4:  0.3%  0.4%  2.6%  B16..8:  3.3%  1.0%  0.5%  direct: 0.4%  skip:91.5%  L0:50.5% L1:46.4% BI: 3.0%\n",
      "\u001b[1;36m[libx264 @ 0x7fa67b008c00] \u001b[0m8x8 transform intra:34.0% inter:41.7%\n",
      "\u001b[1;36m[libx264 @ 0x7fa67b008c00] \u001b[0mcoded y,uvDC,uvAC intra: 34.8% 39.0% 37.7% inter: 1.3% 1.2% 0.8%\n",
      "\u001b[1;36m[libx264 @ 0x7fa67b008c00] \u001b[0mi16 v,h,dc,p: 85%  6%  3%  5%\n",
      "\u001b[1;36m[libx264 @ 0x7fa67b008c00] \u001b[0mi8 v,h,dc,ddl,ddr,vr,hd,vl,hu: 61%  7% 24%  1%  1%  1%  3%  1%  1%\n",
      "\u001b[1;36m[libx264 @ 0x7fa67b008c00] \u001b[0mi4 v,h,dc,ddl,ddr,vr,hd,vl,hu: 18% 28% 15%  3%  6%  4% 21%  2%  4%\n",
      "\u001b[1;36m[libx264 @ 0x7fa67b008c00] \u001b[0mi8c dc,h,v,p: 81% 10%  5%  4%\n",
      "\u001b[1;36m[libx264 @ 0x7fa67b008c00] \u001b[0mWeighted P-Frames: Y:0.0% UV:0.0%\n",
      "\u001b[1;36m[libx264 @ 0x7fa67b008c00] \u001b[0mref P L0: 46.0%  4.8% 31.5% 17.8%\n",
      "\u001b[1;36m[libx264 @ 0x7fa67b008c00] \u001b[0mref B L0: 78.1% 16.9%  5.0%\n",
      "\u001b[1;36m[libx264 @ 0x7fa67b008c00] \u001b[0mref B L1: 90.4%  9.6%\n",
      "\u001b[1;36m[libx264 @ 0x7fa67b008c00] \u001b[0mkb/s:181.92\n"
     ]
    }
   ],
   "source": [
    "!ffmpeg -framerate 1/2 -i ../output/2016-08-18/ion_canonical_flux_tube%04d.png -r 1/2 -pix_fmt yuv420p \\\n",
    " -vcodec libx264 -vf \"scale=trunc(iw/2)*2:trunc(ih/2)*2\" -y ../output/2016-08-18/out.mp4"
   ]
  },
  {
   "cell_type": "code",
   "execution_count": null,
   "metadata": {
    "collapsed": true
   },
   "outputs": [],
   "source": []
  }
 ],
 "metadata": {
  "kernelspec": {
   "display_name": "Python 2",
   "language": "python",
   "name": "python2"
  },
  "language_info": {
   "codemirror_mode": {
    "name": "ipython",
    "version": 2
   },
   "file_extension": ".py",
   "mimetype": "text/x-python",
   "name": "python",
   "nbconvert_exporter": "python",
   "pygments_lexer": "ipython2",
   "version": "2.7.11"
  }
 },
 "nbformat": 4,
 "nbformat_minor": 0
}
