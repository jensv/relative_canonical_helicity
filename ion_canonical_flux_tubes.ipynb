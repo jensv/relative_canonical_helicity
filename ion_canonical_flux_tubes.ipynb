{
 "cells": [
  {
   "cell_type": "code",
   "execution_count": 1,
   "metadata": {
    "collapsed": false
   },
   "outputs": [],
   "source": [
    "import time\n",
    "import numpy as np\n",
    "from scipy.constants import elementary_charge, proton_mass \n",
    "from datetime import date\n",
    "from datetime import datetime\n",
    "import os\n",
    "import vis_canonical_fluxtubes as vis"
   ]
  },
  {
   "cell_type": "code",
   "execution_count": 2,
   "metadata": {
    "collapsed": false
   },
   "outputs": [
    {
     "data": {
      "text/plain": [
       "True"
      ]
     },
     "execution_count": 2,
     "metadata": {},
     "output_type": "execute_result"
    }
   ],
   "source": [
    "import visit\n",
    "visit.Launch()"
   ]
  },
  {
   "cell_type": "code",
   "execution_count": 3,
   "metadata": {
    "collapsed": true
   },
   "outputs": [],
   "source": [
    "database_prefix = '/Users/vonderlinden2/rsx_analysis/writing_to_vtk/output/2016-08-14-17-44'"
   ]
  },
  {
   "cell_type": "code",
   "execution_count": 4,
   "metadata": {
    "collapsed": false
   },
   "outputs": [
    {
     "data": {
      "text/plain": [
       "1L"
      ]
     },
     "execution_count": 4,
     "metadata": {},
     "output_type": "execute_result"
    }
   ],
   "source": [
    "today = str(date.today())\n",
    "out_dir = '../output/' + today\n",
    "try:\n",
    "    os.makedirs(out_dir)\n",
    "except:\n",
    "    pass\n",
    "\n",
    "visit.OpenDatabase(database_prefix + '/Bdot_triple_probe_quantities*.vtk database')\n",
    "field_nulls = np.loadtxt('../../centroid_fitting/output/2016-08-12/field_nulls.txt')\n",
    "electron_points_outer, electron_points_inner = vis.launch_points(field_nulls[0], num_inner=10)\n",
    "ion_points_outer, ion_points_inner = vis.launch_points(field_nulls[0], plane=0.249, num_inner=80)\n",
    "vis.define_expressions(visit)\n",
    "vis.setup_current_pseudocolor(visit, max_val=5.1e5, min_val=0.0)\n",
    "(electron_StreamlineAtts_outer, \n",
    " electron_StreamlineAtts_inner) = vis.setup_massless_electron_canonical_flux_tubes(visit, electron_points_inner, \n",
    "                                                                                   electron_points_inner)\n",
    "(ion_StreamlineAtts_forward, \n",
    " ion_StreamlineAtts_backward) = vis.setup_forward_backward_ion_canonical_flux_tubes(visit, ion_points_inner, \n",
    "                                                                                    ion_points_inner,\n",
    "                                                                                    forward_color=vis.olive,\n",
    "                                                                                    backward_color=vis.olive)\n",
    "AnnotationAtts = vis.setup_annotations(visit, time_scale=0.068)\n",
    "vis.set_default_view(visit)\n",
    "visit.DrawPlots()"
   ]
  },
  {
   "cell_type": "code",
   "execution_count": 5,
   "metadata": {
    "collapsed": false
   },
   "outputs": [
    {
     "data": {
      "text/plain": [
       "1L"
      ]
     },
     "execution_count": 5,
     "metadata": {},
     "output_type": "execute_result"
    }
   ],
   "source": [
    "visit.OpenGUI()"
   ]
  },
  {
   "cell_type": "code",
   "execution_count": 6,
   "metadata": {
    "collapsed": false
   },
   "outputs": [
    {
     "name": "stdout",
     "output_type": "stream",
     "text": [
      "0\n",
      "1\n",
      "2\n",
      "3\n",
      "4\n",
      "5\n",
      "6\n",
      "7\n",
      "8\n",
      "9\n",
      "10\n",
      "11\n",
      "12\n",
      "13\n",
      "14\n",
      "15\n",
      "16\n",
      "17\n",
      "18\n",
      "19\n",
      "20\n",
      "21\n",
      "22\n",
      "23\n",
      "24\n",
      "25\n",
      "26\n",
      "27\n",
      "28\n",
      "29\n",
      "30\n",
      "31\n",
      "32\n",
      "33\n",
      "34\n",
      "35\n",
      "36\n",
      "37\n",
      "38\n",
      "39\n",
      "40\n",
      "41\n",
      "42\n",
      "43\n",
      "44\n",
      "45\n",
      "46\n",
      "47\n",
      "48\n",
      "49\n",
      "50\n",
      "51\n",
      "52\n",
      "53\n",
      "54\n",
      "55\n",
      "56\n",
      "57\n",
      "58\n",
      "59\n",
      "60\n",
      "61\n",
      "62\n",
      "63\n",
      "64\n",
      "65\n",
      "66\n",
      "67\n",
      "68\n",
      "69\n",
      "70\n",
      "71\n",
      "72\n",
      "73\n",
      "74\n",
      "75\n",
      "76\n",
      "77\n",
      "78\n",
      "79\n",
      "80\n",
      "81\n",
      "82\n",
      "83\n",
      "84\n",
      "85\n",
      "86\n",
      "87\n",
      "88\n",
      "89\n",
      "90\n",
      "91\n",
      "92\n",
      "93\n",
      "94\n",
      "95\n",
      "96\n",
      "97\n",
      "98\n",
      "99\n",
      "100\n",
      "101\n",
      "102\n",
      "103\n",
      "104\n",
      "105\n",
      "106\n",
      "107\n",
      "108\n",
      "109\n",
      "110\n",
      "111\n",
      "112\n",
      "113\n",
      "114\n",
      "115\n",
      "116\n",
      "117\n",
      "118\n",
      "119\n",
      "120\n",
      "121\n",
      "122\n",
      "123\n",
      "124\n",
      "125\n",
      "126\n",
      "127\n",
      "128\n",
      "129\n",
      "130\n",
      "131\n",
      "132\n",
      "133\n",
      "134\n",
      "135\n",
      "136\n",
      "137\n",
      "138\n",
      "139\n",
      "140\n",
      "141\n",
      "142\n",
      "143\n",
      "144\n",
      "145\n",
      "146\n",
      "147\n"
     ]
    },
    {
     "ename": "KeyboardInterrupt",
     "evalue": "",
     "output_type": "error",
     "traceback": [
      "\u001b[0;31m---------------------------------------------------------------------------\u001b[0m",
      "\u001b[0;31mKeyboardInterrupt\u001b[0m                         Traceback (most recent call last)",
      "\u001b[0;32m<ipython-input-6-c1d946558947>\u001b[0m in \u001b[0;36m<module>\u001b[0;34m()\u001b[0m\n\u001b[1;32m     35\u001b[0m     \u001b[0mvisit\u001b[0m\u001b[0;34m.\u001b[0m\u001b[0mSetTimeSliderState\u001b[0m\u001b[0;34m(\u001b[0m\u001b[0mtime_point\u001b[0m\u001b[0;34m)\u001b[0m\u001b[0;34m\u001b[0m\u001b[0m\n\u001b[1;32m     36\u001b[0m \u001b[0;34m\u001b[0m\u001b[0m\n\u001b[0;32m---> 37\u001b[0;31m     \u001b[0mname\u001b[0m \u001b[0;34m=\u001b[0m \u001b[0mvisit\u001b[0m\u001b[0;34m.\u001b[0m\u001b[0mSaveWindow\u001b[0m\u001b[0;34m(\u001b[0m\u001b[0;34m)\u001b[0m\u001b[0;34m\u001b[0m\u001b[0m\n\u001b[0m",
      "\u001b[0;31mKeyboardInterrupt\u001b[0m: "
     ]
    }
   ],
   "source": [
    "output_path = out_dir + '/ion_canonical_flux_tube'\n",
    "ending = '.png'\n",
    "plane = 0.249\n",
    "save_atts = visit.SaveWindowAttributes()\n",
    "save_atts.format = save_atts.PNG\n",
    "save_atts.height = 1080\n",
    "save_atts.width = 1920\n",
    "save_atts.family = 0\n",
    "visit.SetSaveWindowAttributes(save_atts)\n",
    "\n",
    "for time_point in xrange(0, 206):\n",
    "    print time_point\n",
    "    save_atts.fileName = output_path + str(time_point).zfill(4) + ending\n",
    "    visit.SetSaveWindowAttributes(save_atts)\n",
    "    \n",
    "    points_outer, points_inner = vis.launch_points(field_nulls[time_point], plane)\n",
    "    e_points_outer, e_points_inner = vis.launch_points(field_nulls[time_point], plane, num_inner=10)\n",
    "    \n",
    "    visit.SetActivePlots(1)\n",
    "    electron_StreamlineAtts_outer.SetPointList(e_points_inner)\n",
    "    visit.SetPlotOptions(electron_StreamlineAtts_outer)\n",
    "    \n",
    "    visit.SetActivePlots(2)\n",
    "    electron_StreamlineAtts_inner.SetPointList(e_points_inner)\n",
    "    visit.SetPlotOptions(electron_StreamlineAtts_inner)\n",
    "    \n",
    "    visit.SetActivePlots(3)\n",
    "    ion_StreamlineAtts_forward.SetPointList(points_inner)\n",
    "    visit.SetPlotOptions(ion_StreamlineAtts_forward)\n",
    "    \n",
    "    visit.SetActivePlots(4)\n",
    "    ion_StreamlineAtts_backward.SetPointList(points_inner)\n",
    "    visit.SetPlotOptions(ion_StreamlineAtts_backward)\n",
    "    \n",
    "    visit.SetTimeSliderState(time_point)\n",
    "    \n",
    "    name = visit.SaveWindow()"
   ]
  },
  {
   "cell_type": "code",
   "execution_count": 8,
   "metadata": {
    "collapsed": false
   },
   "outputs": [
    {
     "name": "stdout",
     "output_type": "stream",
     "text": [
      "226\n",
      "227\n",
      "228\n",
      "229\n",
      "230\n",
      "231\n",
      "232\n",
      "233\n",
      "234\n",
      "235\n",
      "236\n",
      "237\n",
      "238\n",
      "239\n",
      "240\n",
      "241\n",
      "242\n",
      "243\n",
      "244\n",
      "245\n",
      "246\n",
      "247\n",
      "248\n",
      "249\n"
     ]
    }
   ],
   "source": [
    "save_atts = visit.SaveWindowAttributes()\n",
    "save_atts.format = save_atts.PNG\n",
    "save_atts.height = 1080\n",
    "save_atts.width = 1920\n",
    "save_atts.family = 0\n",
    "visit.SetSaveWindowAttributes(save_atts)\n",
    "ending='.png'\n",
    "\n",
    "for time_point in xrange(226, 250):\n",
    "    print time_point\n",
    "    save_atts.fileName = output_path + str(time_point - 20).zfill(4) + ending\n",
    "    visit.SetSaveWindowAttributes(save_atts)\n",
    "    \n",
    "    points_outer, points_inner = vis.launch_points(field_nulls[time_point], plane)\n",
    "    e_points_outer, e_points_inner = vis.launch_points(field_nulls[time_point], plane, num_inner=10)\n",
    "    \n",
    "    visit.SetActivePlots(1)\n",
    "    electron_StreamlineAtts_outer.SetPointList(e_points_inner)\n",
    "    visit.SetPlotOptions(electron_StreamlineAtts_outer)\n",
    "    \n",
    "    visit.SetActivePlots(2)\n",
    "    electron_StreamlineAtts_inner.SetPointList(e_points_inner)\n",
    "    visit.SetPlotOptions(electron_StreamlineAtts_inner)\n",
    "    \n",
    "    visit.SetActivePlots(3)\n",
    "    ion_StreamlineAtts_forward.SetPointList(points_inner)\n",
    "    visit.SetPlotOptions(ion_StreamlineAtts_forward)\n",
    "    \n",
    "    visit.SetActivePlots(4)\n",
    "    ion_StreamlineAtts_backward.SetPointList(points_inner)\n",
    "    visit.SetPlotOptions(ion_StreamlineAtts_backward)\n",
    "    \n",
    "    visit.SetTimeSliderState(time_point)\n",
    "    \n",
    "    name = visit.SaveWindow()"
   ]
  },
  {
   "cell_type": "code",
   "execution_count": 11,
   "metadata": {
    "collapsed": false
   },
   "outputs": [
    {
     "name": "stdout",
     "output_type": "stream",
     "text": [
      "ffmpeg version 2.8.1 Copyright (c) 2000-2015 the FFmpeg developers\n",
      "  built with Apple LLVM version 6.0 (clang-600.0.56) (based on LLVM 3.5svn)\n",
      "  configuration: --prefix=/Users/vonderlinden2/homebrew/Cellar/ffmpeg/2.8.1_1 --enable-shared --enable-pthreads --enable-gpl --enable-version3 --enable-hardcoded-tables --enable-avresample --cc=clang --host-cflags= --host-ldflags= --enable-opencl --enable-libx264 --enable-libmp3lame --enable-libvo-aacenc --enable-libxvid --enable-vda\n",
      "  libavutil      54. 31.100 / 54. 31.100\n",
      "  libavcodec     56. 60.100 / 56. 60.100\n",
      "  libavformat    56. 40.101 / 56. 40.101\n",
      "  libavdevice    56.  4.100 / 56.  4.100\n",
      "  libavfilter     5. 40.101 /  5. 40.101\n",
      "  libavresample   2.  1.  0 /  2.  1.  0\n",
      "  libswscale      3.  1.101 /  3.  1.101\n",
      "  libswresample   1.  2.101 /  1.  2.101\n",
      "  libpostproc    53.  3.100 / 53.  3.100\n",
      "Input #0, image2, from '../output/2016-08-21/ion_canonical_flux_tube%04d.png':\n",
      "  Duration: 00:00:07.67, start: 0.000000, bitrate: N/A\n",
      "    Stream #0:0: Video: png, rgb24(pc), 1920x1050, 30 fps, 30 tbr, 30 tbn, 30 tbc\n",
      "\u001b[1;36m[libx264 @ 0x7fb994000c00] \u001b[0musing cpu capabilities: MMX2 SSE2Fast SSSE3 SSE4.2 AVX\n",
      "\u001b[1;36m[libx264 @ 0x7fb994000c00] \u001b[0mprofile High, level 4.0\n",
      "\u001b[1;36m[libx264 @ 0x7fb994000c00] \u001b[0m264 - core 148 r2601 a0cd7d3 - H.264/MPEG-4 AVC codec - Copyleft 2003-2015 - http://www.videolan.org/x264.html - options: cabac=1 ref=3 deblock=1:0:0 analyse=0x3:0x113 me=hex subme=7 psy=1 psy_rd=1.00:0.00 mixed_ref=1 me_range=16 chroma_me=1 trellis=1 8x8dct=1 cqm=0 deadzone=21,11 fast_pskip=1 chroma_qp_offset=-2 threads=12 lookahead_threads=2 sliced_threads=0 nr=0 decimate=1 interlaced=0 bluray_compat=0 constrained_intra=0 bframes=3 b_pyramid=2 b_adapt=1 b_bias=0 direct=1 weightb=1 open_gop=0 weightp=2 keyint=250 keyint_min=25 scenecut=40 intra_refresh=0 rc_lookahead=40 rc=crf mbtree=1 crf=23.0 qcomp=0.60 qpmin=0 qpmax=69 qpstep=4 ip_ratio=1.40 aq=1:1.00\n",
      "Output #0, mp4, to '../output/2016-08-21/ion_canonical_fluxtube_evolution.mp4':\n",
      "  Metadata:\n",
      "    encoder         : Lavf56.40.101\n",
      "    Stream #0:0: Video: h264 (libx264) ([33][0][0][0] / 0x0021), yuv420p, 1920x1050, q=-1--1, 30 fps, 15360 tbn, 30 tbc\n",
      "    Metadata:\n",
      "      encoder         : Lavc56.60.100 libx264\n",
      "Stream mapping:\n",
      "  Stream #0:0 -> #0:0 (png (native) -> h264 (libx264))\n",
      "Press [q] to stop, [?] for help\n",
      "frame=  230 fps= 25 q=-1.0 Lsize=    1104kB time=00:00:07.60 bitrate=1190.5kbits/s    \n",
      "video:1101kB audio:0kB subtitle:0kB other streams:0kB global headers:0kB muxing overhead: 0.320480%\n",
      "\u001b[1;36m[libx264 @ 0x7fb994000c00] \u001b[0mframe I:1     Avg QP:20.61  size: 46666\n",
      "\u001b[1;36m[libx264 @ 0x7fb994000c00] \u001b[0mframe P:58    Avg QP:21.04  size:  6297\n",
      "\u001b[1;36m[libx264 @ 0x7fb994000c00] \u001b[0mframe B:171   Avg QP:26.64  size:  4180\n",
      "\u001b[1;36m[libx264 @ 0x7fb994000c00] \u001b[0mconsecutive B-frames:  0.9%  0.0%  0.0% 99.1%\n",
      "\u001b[1;36m[libx264 @ 0x7fb994000c00] \u001b[0mmb I  I16..4: 12.2% 77.9%  9.9%\n",
      "\u001b[1;36m[libx264 @ 0x7fb994000c00] \u001b[0mmb P  I16..4:  0.1%  0.5%  0.6%  P16..4:  1.1%  0.6%  0.5%  0.0%  0.0%    skip:96.6%\n",
      "\u001b[1;36m[libx264 @ 0x7fb994000c00] \u001b[0mmb B  I16..4:  0.0%  0.2%  0.2%  B16..8:  1.9%  0.6%  0.5%  direct: 0.1%  skip:96.4%  L0:50.0% L1:45.5% BI: 4.5%\n",
      "\u001b[1;36m[libx264 @ 0x7fb994000c00] \u001b[0m8x8 transform intra:59.0% inter:8.5%\n",
      "\u001b[1;36m[libx264 @ 0x7fb994000c00] \u001b[0mcoded y,uvDC,uvAC intra: 26.4% 30.5% 28.4% inter: 0.7% 0.6% 0.5%\n",
      "\u001b[1;36m[libx264 @ 0x7fb994000c00] \u001b[0mi16 v,h,dc,p: 51% 32% 11%  6%\n",
      "\u001b[1;36m[libx264 @ 0x7fb994000c00] \u001b[0mi8 v,h,dc,ddl,ddr,vr,hd,vl,hu: 52%  8% 37%  0%  1%  0%  1%  0%  0%\n",
      "\u001b[1;36m[libx264 @ 0x7fb994000c00] \u001b[0mi4 v,h,dc,ddl,ddr,vr,hd,vl,hu: 15% 22% 22%  2%  4%  2% 29%  2%  3%\n",
      "\u001b[1;36m[libx264 @ 0x7fb994000c00] \u001b[0mi8c dc,h,v,p: 83% 11%  5%  2%\n",
      "\u001b[1;36m[libx264 @ 0x7fb994000c00] \u001b[0mWeighted P-Frames: Y:0.0% UV:0.0%\n",
      "\u001b[1;36m[libx264 @ 0x7fb994000c00] \u001b[0mref P L0: 53.3%  5.8% 25.0% 15.9%\n",
      "\u001b[1;36m[libx264 @ 0x7fb994000c00] \u001b[0mref B L0: 71.1% 23.7%  5.2%\n",
      "\u001b[1;36m[libx264 @ 0x7fb994000c00] \u001b[0mref B L1: 90.6%  9.4%\n",
      "\u001b[1;36m[libx264 @ 0x7fb994000c00] \u001b[0mkb/s:1175.67\n"
     ]
    }
   ],
   "source": [
    "!ffmpeg -framerate 30 -i ../output/2016-08-21/ion_canonical_flux_tube%04d.png -r 30 -pix_fmt yuv420p \\\n",
    " -vcodec libx264 -vf \"scale=trunc(iw/2)*2:trunc(ih/2)*2\" -y ../output/2016-08-21/ion_canonical_fluxtube_evolution.mp4"
   ]
  },
  {
   "cell_type": "code",
   "execution_count": null,
   "metadata": {
    "collapsed": true
   },
   "outputs": [],
   "source": []
  }
 ],
 "metadata": {
  "kernelspec": {
   "display_name": "Python 2",
   "language": "python",
   "name": "python2"
  },
  "language_info": {
   "codemirror_mode": {
    "name": "ipython",
    "version": 2
   },
   "file_extension": ".py",
   "mimetype": "text/x-python",
   "name": "python",
   "nbconvert_exporter": "python",
   "pygments_lexer": "ipython2",
   "version": "2.7.11"
  }
 },
 "nbformat": 4,
 "nbformat_minor": 0
}
