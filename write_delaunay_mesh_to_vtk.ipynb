{
 "cells": [
  {
   "cell_type": "code",
   "execution_count": 102,
   "metadata": {
    "collapsed": false
   },
   "outputs": [],
   "source": [
    "import numpy as np\n",
    "from scipy.spatial import Delaunay\n",
    "from scipy.interpolate import LinearNDInterpolator\n",
    "from scipy.constants import mu_0\n",
    "\n",
    "import visit_writer\n",
    "\n",
    "import structured_3d_vtk as struc_3d\n",
    "\n",
    "%matplotlib inline\n",
    "import matplotlib.pyplot as plt\n",
    "\n",
    "import seaborn as sns\n",
    "sns.set_style('white')"
   ]
  },
  {
   "cell_type": "markdown",
   "metadata": {},
   "source": [
    "# Define functions"
   ]
  },
  {
   "cell_type": "code",
   "execution_count": 2,
   "metadata": {
    "collapsed": true
   },
   "outputs": [],
   "source": [
    "def prepare_idl_quantity(name, planes):\n",
    "    r\"\"\"\n",
    "    \"\"\"\n",
    "    measurements = struc_3d.read_idl(name)\n",
    "    for plane in planes:\n",
    "        measurements[plane] = struc_3d.average_duplicate_points(measurements[plane])\n",
    "    return measurements"
   ]
  },
  {
   "cell_type": "code",
   "execution_count": 3,
   "metadata": {
    "collapsed": true
   },
   "outputs": [],
   "source": [
    "def combine_all_planes(measurements, planes):\n",
    "    r\"\"\"\n",
    "    \"\"\"\n",
    "    all_planes = dict(measurements[planes[0]])\n",
    "    all_planes['z_out'] = planes[0]*np.ones(all_planes['x_out'].size)\n",
    " \n",
    "    for plane in planes[1:]:\n",
    "        for key in ['x_out', 'y_out']:\n",
    "            all_planes[key] = np.concatenate((all_planes[key], \n",
    "                                              measurements[plane][key]))\n",
    "        all_planes['z_out'] = np.concatenate((all_planes['z_out'],\n",
    "                                              plane*np.ones(measurements[plane]['x_out'].size)))\n",
    "        for key in ['std', 'a_out']:\n",
    "            for time_point in xrange(measurements[plane]['delays'].size):\n",
    "                all_planes[key][time_point] = np.concatenate((all_planes[key][time_point], \n",
    "                                                              measurements[plane][key][time_point]))\n",
    "    return all_planes"
   ]
  },
  {
   "cell_type": "code",
   "execution_count": 4,
   "metadata": {
    "collapsed": false
   },
   "outputs": [],
   "source": [
    "def remove_points_outside_convex(measurements,\n",
    "                                 x_min= -0.025, x_max=0.025,\n",
    "                                 y_min=-0.016, y_max=0.017,\n",
    "                                 z_min=0.249, z_max=0.416):\n",
    "    r\"\"\"\n",
    "    \"\"\"\n",
    "    points = np.dstack((measurements['x_out'], \n",
    "                        measurements['y_out'], \n",
    "                        measurements['z_out']))[0]\n",
    "    outside_convex_volume = np.where(np.logical_or.reduce((points[:, 0] < x_min, \n",
    "                                                           points[:, 0] > x_max, \n",
    "                                                           points[:, 1] < y_min,\n",
    "                                                           points[:, 1] > y_max,\n",
    "                                                           points[:, 2] < z_min,\n",
    "                                                           points[:, 2] > z_max)))[0]\n",
    "    for key in ['x_out', 'y_out', 'z_out']:\n",
    "        measurements[key] = np.delete(measurements[key], \n",
    "                                      outside_convex_volume)\n",
    "    for key in ['std', 'a_out']:\n",
    "        for time_point in xrange(measurements['delays'].size):\n",
    "            measurements[key][time_point] = np.delete(measurements[key][time_point], \n",
    "                                                      outside_convex_volume)\n",
    "    return measurements"
   ]
  },
  {
   "cell_type": "code",
   "execution_count": 5,
   "metadata": {
    "collapsed": false
   },
   "outputs": [],
   "source": [
    "def prepare_for_unstructured_vtk(measurements, quantity_name):\n",
    "    r\"\"\"\n",
    "    \"\"\"\n",
    "    points = np.dstack((measurements['x_out'], \n",
    "                        measurements['y_out'], \n",
    "                        measurements['z_out']))[0]\n",
    "    triangulation = Delaunay(points)\n",
    "    points = tuple(points.ravel())\n",
    "    connectivity = tuple([(visit_writer.tetrahedron, int(simplex[0]), \n",
    "                           int(simplex[1]), int(simplex[2]), int(simplex[3])) \n",
    "                           for simplex in triangulation.simplices])\n",
    "    variables_all_time = []\n",
    "    for time_point in xrange(measurements['delays'].size):\n",
    "        variables = ((quantity_name, 1, 1, tuple(measurements['a_out'][time_point])),)\n",
    "        variables_all_time.append(variables)\n",
    "    return points, connectivity, variables_all_time"
   ]
  },
  {
   "cell_type": "code",
   "execution_count": 6,
   "metadata": {
    "collapsed": true
   },
   "outputs": [],
   "source": [
    "def give_delaunay_and_interpolator(measurements):\n",
    "    r\"\"\"\n",
    "    \"\"\"\n",
    "    points = np.dstack((measurements['x_out'], \n",
    "                        measurements['y_out'], \n",
    "                        measurements['z_out']))[0]\n",
    "    triangulation = Delaunay(points)\n",
    "    interpolators = []\n",
    "    for time_point in xrange(measurements['delays'].size):\n",
    "        interpolators.append(LinearNDInterpolator(points, measurements['a_out'][time_point]))\n",
    "    return triangulation, interpolators"
   ]
  },
  {
   "cell_type": "code",
   "execution_count": 7,
   "metadata": {
    "collapsed": false
   },
   "outputs": [],
   "source": [
    "def write_all_time_unstructured(file_prefix, points, connectivity, variables_all_time):\n",
    "    r\"\"\"\n",
    "    \"\"\"\n",
    "    for time_point in xrange(len(variables_all_time)):\n",
    "        path = file_prefix + str(time_point).zfill(4)\n",
    "        visit_writer.WriteUnstructuredMesh(path, 1, points,\n",
    "                                           connectivity, \n",
    "                                           variables_all_time[time_point])"
   ]
  },
  {
   "cell_type": "code",
   "execution_count": 8,
   "metadata": {
    "collapsed": false
   },
   "outputs": [],
   "source": [
    "def save_idl_quantity_to_unstructured_grids(idl_quantity_name,\n",
    "                                            visit_quantity_name,\n",
    "                                            date, \n",
    "                                            planes=[0.249, 0.302, 0.357, 0.416],\n",
    "                                            file_name_descriptor='_all_planes_convex_unstructured_grid_',\n",
    "                                            x_min= -0.021, x_max=0.014,\n",
    "                                            y_min=-0.016, y_max=0.017,\n",
    "                                            z_min=0.249, z_max=0.416):\n",
    "    r\"\"\"\n",
    "    \"\"\"\n",
    "    file_prefix = '../output/' + date + '/' + visit_quantity_name + file_name_descriptor\n",
    "    measurements = prepare_idl_quantity(idl_quantity_name, planes)\n",
    "    all_planes = combine_all_planes(measurements, planes) \n",
    "    all_planes = remove_points_outside_convex(all_planes, \n",
    "                                              x_min=x_min, x_max=x_max,\n",
    "                                              y_min=y_min, y_max=y_max,\n",
    "                                              z_min=z_min, z_max=z_max)\n",
    "    assert len(all_planes['x_out']) == len(all_planes['y_out']) == len(all_planes['z_out'])\n",
    "    (points, \n",
    "     connectivity, \n",
    "     variables_all_time) = prepare_for_unstructured_vtk(all_planes, visit_quantity_name)\n",
    "    assert len(points) == len(all_planes['x_out'])*3\n",
    "    assert len(variables_all_time[0][0][3]) == len(all_planes['x_out'])\n",
    "    write_all_time_unstructured(file_prefix, points, \n",
    "                                connectivity, variables_all_time)\n",
    "    return all_planes "
   ]
  },
  {
   "cell_type": "code",
   "execution_count": 9,
   "metadata": {
    "collapsed": true
   },
   "outputs": [],
   "source": [
    "def triangulate_derivatives(mesh, triangulation, interpolators, increment=0.00001):\n",
    "    r\"\"\"\n",
    "    \"\"\"\n",
    "    derivative_meshes = []\n",
    "    for time_point in xrange(len(interpolators)):\n",
    "        print time_point\n",
    "        interpolator = interpolators[time_point]\n",
    "        d_dx_mesh = np.zeros(mesh[0].shape)\n",
    "        d_dy_mesh = np.zeros(mesh[0].shape)\n",
    "        d_dz_mesh = np.zeros(mesh[0].shape)\n",
    "        points = np.dstack((mesh[0].ravel(),\n",
    "                            mesh[1].ravel(),\n",
    "                            mesh[2].ravel()))\n",
    "        values = interpolator(points)\n",
    "        d_dx = (interpolator(points + np.asarray([increment, 0, 0])) - values) / increment\n",
    "        d_dy = (interpolator(points + np.asarray([0, increment, 0])) - values) / increment\n",
    "        d_dz = (interpolator(points + np.asarray([0, 0, increment])) - values) / increment\n",
    "        d_dx_mesh = d_dx.reshape(mesh[0].shape)\n",
    "        d_dy_mesh = d_dy.reshape(mesh[0].shape)\n",
    "        d_dz_mesh = d_dz.reshape(mesh[0].shape)\n",
    "        derivative_meshes.append([d_dx_mesh, d_dy_mesh, d_dz_mesh])\n",
    "    return derivative_meshes"
   ]
  },
  {
   "cell_type": "code",
   "execution_count": 85,
   "metadata": {
    "collapsed": true
   },
   "outputs": [],
   "source": [
    "def remove_edges(mesh, derivative_meshes,\n",
    "                 x_start=1, x_end=None, \n",
    "                 y_start=0, y_end=-2, \n",
    "                 z_start=0, z_end=-1):\n",
    "    r\"\"\"\n",
    "    \"\"\"\n",
    "    for index in xrange(len(mesh)):\n",
    "        mesh[index] = mesh[index][y_start:y_end, x_start:x_end, z_start:z_end]\n",
    "    for time_point in xrange(len(derivative_meshes)):\n",
    "        for index in xrange(len(derivative_meshes[time_point])):\n",
    "            derivative_meshes[time_point][index] = derivative_meshes[time_point][index][y_start:y_end, x_start:x_end, z_start:z_end]\n",
    "    return mesh, derivative_meshes"
   ]
  },
  {
   "cell_type": "code",
   "execution_count": 10,
   "metadata": {
    "collapsed": false
   },
   "outputs": [],
   "source": [
    "def prepare_for_rectilinear_grid(mesh, quantities, quantity_names):\n",
    "    r\"\"\"\n",
    "    \"\"\"\n",
    "    x = tuple(np.unique(mesh[0]))\n",
    "    y = tuple(np.unique(mesh[1]))\n",
    "    z = tuple(np.unique(mesh[2]))\n",
    "    variables_all_time = []\n",
    "    for time_point in xrange(len(quantities)):\n",
    "        variables = [(quantity_names[index], 1, 1, tuple(quantities[time_point][index].ravel()))\n",
    "                     for index in xrange(len(quantities[time_point]))]\n",
    "        variables_all_time.append(variables)\n",
    "    return x, y, z, variables_all_time"
   ]
  },
  {
   "cell_type": "code",
   "execution_count": null,
   "metadata": {
    "collapsed": true
   },
   "outputs": [],
   "source": [
    "def current_on_mesh(derivative_meshes_all_directions, mu_0=1.2566e-6):\n",
    "    r\"\"\"\n",
    "    \"\"\"\n",
    "    current = []\n",
    "    for time_point in xrange(len(derivative_meshes_all_directions[0])):\n",
    "        dBx_dy = derivative_meshes_all_directions[0][time_point][1]\n",
    "        dBx_dz = derivative_meshes_all_directions[0][time_point][2]\n",
    "        dBy_dx = derivative_meshes_all_directions[1][time_point][0]\n",
    "        dBy_dz = derivative_meshes_all_directions[1][time_point][2]\n",
    "        dBz_dx = derivative_meshes_all_directions[2][time_point][0]\n",
    "        dBz_dy = derivative_meshes_all_directions[2][time_point][1]\n",
    "        j_x = 1./(mu_0) * (dBz_dy - dBy_dz)\n",
    "        j_y = 1./(mu_0) * (dBx_dz - dBz_dx)\n",
    "        j_z = 1./(mu_0) * (dBy_dx - dBx_dy)\n",
    "    current.append([j_x, j_y, j_z])    \n",
    "    return current"
   ]
  },
  {
   "cell_type": "code",
   "execution_count": null,
   "metadata": {
    "collapsed": true
   },
   "outputs": [],
   "source": [
    "def b_field_on_mesh(interpolators_all_directions, mesh):\n",
    "    r\"\"\"\n",
    "    \"\"\"\n",
    "    b_field = []\n",
    "    b_field_norm[]\n",
    "    for time_point in xrange(len(derivative_meshes_all_directions[0])):\n",
    "        b_x = interpolators[0][time_point][mesh[0], mesh[1], mesh[2]]  \n",
    "        b_y = interpolators[1][time_point][mesh[0], mesh[1], mesh[2]]\n",
    "        b_z = interpolators[2][time_point][mesh[0], mesh[1], mesh[2]]\n",
    "        b_x_norm = b_x / (b_x**2. + b_y**2. + b_z**2.)\n",
    "        b_y_norm = b_y / (b_x**2. + b_y**2. + b_z**2.)\n",
    "        b_z_norm = b_z / (b_x**2. + b_y**2. + b_z**2.)\n",
    "        b_field.append([b_x, b_y, b_z])\n",
    "        b_field_norm.append([b_x, b_y, b_z])\n",
    "    return b_field"
   ]
  },
  {
   "cell_type": "code",
   "execution_count": 11,
   "metadata": {
    "collapsed": true
   },
   "outputs": [],
   "source": [
    "def write_fields_and_currents_to_structured_mesh(date, visit_quantity_names, mesh, x, y, z, derivative_meshes):\n",
    "    r\"\"\"\n",
    "    \"\"\"\n",
    "    file_prefix = '../output/' + date + '/' + visit_quantity_name\n",
    "    for time_point in xrange(len(derivative_meshes)):\n",
    "        path = file_prefix + str(time_point).zfill(4)  \n",
    "        visit_writer.WriteRectilinearMesh(path, 1, x, y, z, \n",
    "                                          derivative_meshes[time_point])"
   ]
  },
  {
   "cell_type": "markdown",
   "metadata": {},
   "source": [
    "# Write all idl quantities to files"
   ]
  },
  {
   "cell_type": "code",
   "execution_count": 57,
   "metadata": {
    "collapsed": false
   },
   "outputs": [],
   "source": [
    "bx_all_planes = save_idl_quantity_to_unstructured_grids('bx', 'B_x', '2016-07-26',\n",
    "                                                        x_min=-0.032, x_max =0.028,\n",
    "                                                        y_min=-0.022, y_max=0.032, \n",
    "                                                        z_min=0.249, z_max=0.416)"
   ]
  },
  {
   "cell_type": "code",
   "execution_count": 58,
   "metadata": {
    "collapsed": false
   },
   "outputs": [],
   "source": [
    "by_all_planes =save_idl_quantity_to_unstructured_grids('by', 'B_y', '2016-07-26',\n",
    "                                                       x_min=-0.032, x_max =0.028,\n",
    "                                                       y_min=-0.022, y_max=0.032, \n",
    "                                                       z_min=0.249, z_max=0.416)"
   ]
  },
  {
   "cell_type": "code",
   "execution_count": 59,
   "metadata": {
    "collapsed": false
   },
   "outputs": [],
   "source": [
    "bz_all_planes = save_idl_quantity_to_unstructured_grids('bz', 'B_z', '2016-07-26',\n",
    "                                                        x_min=-0.032, x_max =0.028,\n",
    "                                                        y_min=-0.022, y_max=0.032, \n",
    "                                                        z_min=0.249, z_max=0.416)"
   ]
  },
  {
   "cell_type": "code",
   "execution_count": 60,
   "metadata": {
    "collapsed": false
   },
   "outputs": [],
   "source": [
    "te_all_planes = save_idl_quantity_to_unstructured_grids('te', 'T_e', '2016-07-26', \n",
    "                                                        x_min=-0.026, x_max =0.028,\n",
    "                                                        y_min=-0.03, y_max=0.028, \n",
    "                                                        z_min=0.249, z_max=0.416)"
   ]
  },
  {
   "cell_type": "code",
   "execution_count": 61,
   "metadata": {
    "collapsed": false
   },
   "outputs": [],
   "source": [
    "n_all_planes = save_idl_quantity_to_unstructured_grids('n', 'n', '2016-07-26',\n",
    "                                                       x_min=-0.026, x_max =0.028,\n",
    "                                                       y_min=-0.03, y_max=0.028, \n",
    "                                                       z_min=0.249, z_max=0.416)"
   ]
  },
  {
   "cell_type": "markdown",
   "metadata": {},
   "source": [
    "# Determine derivatives and write to files"
   ]
  },
  {
   "cell_type": "code",
   "execution_count": 82,
   "metadata": {
    "collapsed": false
   },
   "outputs": [],
   "source": [
    "bx_triangulation, bx_interpolators = give_delaunay_and_interpolator(bx_all_planes)\n",
    "by_triangulation, by_interpolators = give_delaunay_and_interpolator(by_all_planes)\n",
    "bz_triangulation, bz_interpolators = give_delaunay_and_interpolator(bz_all_planes)"
   ]
  },
  {
   "cell_type": "code",
   "execution_count": 83,
   "metadata": {
    "collapsed": false
   },
   "outputs": [],
   "source": [
    "x_min = -0.026\n",
    "x_max = 0.024\n",
    "y_min = -0.02 \n",
    "y_max = 0.028\n",
    "z_min = 0.249 \n",
    "z_max = 0.416\n",
    "spatial_increment = 0.001\n",
    "mesh = np.meshgrid(np.linspace(x_min, x_max, np.ceil((x_max-x_min)/spatial_increment)),\n",
    "                   np.linspace(y_min, y_max, np.ceil((y_max-y_min)/spatial_increment)),\n",
    "                   np.linspace(z_min, z_max, np.ceil((z_max-z_min)/spatial_increment)))"
   ]
  },
  {
   "cell_type": "code",
   "execution_count": 86,
   "metadata": {
    "collapsed": false,
    "scrolled": true
   },
   "outputs": [
    {
     "name": "stdout",
     "output_type": "stream",
     "text": [
      "0\n",
      "1\n",
      "2\n",
      "3\n",
      "4\n",
      "5\n",
      "6\n",
      "7\n",
      "8\n",
      "9\n",
      "10\n",
      "11\n",
      "12\n",
      "13\n",
      "14\n",
      "15\n",
      "16\n",
      "17\n",
      "18\n",
      "19\n",
      "20\n"
     ]
    }
   ],
   "source": [
    "date = '2016-07-29'\n",
    "bx_derivative_meshes = triangulate_derivatives(mesh, bx_triangulation, bx_interpolators, \n",
    "                                               increment=0.0000001)\n",
    "mesh, bx_derivative_meshes = remove_edges(mesh, bx_derivative_meshes)\n",
    "x, y, z, dbx_all_time = prepare_for_rectilinear_grid(mesh, bx_derivative_meshes,\n",
    "                                                     ['dbx_dx', 'dbx_dy', 'dbx_dz'])\n",
    "write_derivatives_to_structured_mesh(date, 'dbx', mesh, x, y, z, dbx_all_time)"
   ]
  },
  {
   "cell_type": "code",
   "execution_count": 93,
   "metadata": {
    "collapsed": false
   },
   "outputs": [
    {
     "data": {
      "text/plain": [
       "0"
      ]
     },
     "execution_count": 93,
     "metadata": {},
     "output_type": "execute_result"
    }
   ],
   "source": [
    "np.sum(np.isnan(bx_derivative_meshes[19][0][:,:,:]))"
   ]
  },
  {
   "cell_type": "code",
   "execution_count": 94,
   "metadata": {
    "collapsed": false
   },
   "outputs": [
    {
     "name": "stdout",
     "output_type": "stream",
     "text": [
      "0\n",
      "1\n",
      "2\n",
      "3\n",
      "4\n",
      "5\n",
      "6\n",
      "7\n",
      "8\n",
      "9\n",
      "10\n",
      "11\n",
      "12\n",
      "13\n",
      "14\n",
      "15\n",
      "16\n",
      "17\n",
      "18\n",
      "19\n",
      "20\n"
     ]
    }
   ],
   "source": [
    "date = '2016-07-29'\n",
    "by_derivative_meshes = triangulate_derivatives(mesh, by_triangulation, by_interpolators, \n",
    "                                               increment=0.0000001)\n",
    "mesh, by_derivative_meshes = remove_edges(mesh, by_derivative_meshes)\n",
    "x, y, z, dby_all_time = prepare_for_rectilinear_grid(mesh, by_derivative_meshes, \n",
    "                                                     ['dby_dx', 'dby_dy', 'dby_dz'])\n",
    "write_derivatives_to_structured_mesh(date, 'dby', mesh, x, y, z, dby_all_time)"
   ]
  },
  {
   "cell_type": "code",
   "execution_count": 96,
   "metadata": {
    "collapsed": false
   },
   "outputs": [
    {
     "data": {
      "image/png": "[encoded data removed]",
      "text/plain": [
       "<matplotlib.figure.Figure at 0x15d281490>"
      ]
     },
     "metadata": {},
     "output_type": "display_data"
    }
   ],
   "source": [
    "sns.heatmap(np.isnan(by_derivative_meshes[5][2][:,:,0]))\n",
    "plt.show()"
   ]
  },
  {
   "cell_type": "code",
   "execution_count": 98,
   "metadata": {
    "collapsed": false
   },
   "outputs": [
    {
     "name": "stdout",
     "output_type": "stream",
     "text": [
      "0\n"
     ]
    }
   ],
   "source": [
    "print np.sum(np.isnan(by_derivative_meshes[0][0][:,:,:]))"
   ]
  },
  {
   "cell_type": "code",
   "execution_count": 99,
   "metadata": {
    "collapsed": false
   },
   "outputs": [
    {
     "name": "stdout",
     "output_type": "stream",
     "text": [
      "0\n",
      "1\n",
      "2\n",
      "3\n",
      "4\n",
      "5\n",
      "6\n",
      "7\n",
      "8\n",
      "9\n",
      "10\n",
      "11\n",
      "12\n",
      "13\n",
      "14\n",
      "15\n",
      "16\n",
      "17\n",
      "18\n",
      "19\n",
      "20\n"
     ]
    }
   ],
   "source": [
    "date = '2016-07-29'\n",
    "bz_derivative_meshes = triangulate_derivatives(mesh, bz_triangulation, bz_interpolators, \n",
    "                                               increment=0.0000001)\n",
    "mesh, bz_derivative_meshes = remove_edges(mesh, bz_derivative_meshes)\n",
    "x, y, z, dbz_all_time = prepare_for_rectilinear_grid(mesh, bz_derivative_meshes, \n",
    "                                                     ['dbz_dx', 'dbz_dy', 'dbz_dz'])\n",
    "write_derivatives_to_structured_mesh(date, 'dbz', mesh, x, y, z, dbz_all_time)"
   ]
  },
  {
   "cell_type": "code",
   "execution_count": 69,
   "metadata": {
    "collapsed": false
   },
   "outputs": [
    {
     "data": {
      "image/png": "[encoded data removed]",
      "text/plain": [
       "<matplotlib.figure.Figure at 0x19ab7a550>"
      ]
     },
     "metadata": {},
     "output_type": "display_data"
    }
   ],
   "source": [
    "sns.heatmap(np.isnan(bz_derivative_meshes[5][2][:,:,0]))\n",
    "plt.show()"
   ]
  },
  {
   "cell_type": "code",
   "execution_count": 100,
   "metadata": {
    "collapsed": false
   },
   "outputs": [
    {
     "data": {
      "text/plain": [
       "array([], dtype=int64)"
      ]
     },
     "execution_count": 100,
     "metadata": {},
     "output_type": "execute_result"
    }
   ],
   "source": [
    "np.unique(np.where(np.isnan(bz_derivative_meshes[0][1][:,:,:])))"
   ]
  },
  {
   "cell_type": "code",
   "execution_count": 101,
   "metadata": {
    "collapsed": false
   },
   "outputs": [
    {
     "name": "stdout",
     "output_type": "stream",
     "text": [
      "0\n"
     ]
    }
   ],
   "source": [
    "print np.sum(np.isnan(bz_derivative_meshes[0][1])[:,:,:])"
   ]
  },
  {
   "cell_type": "code",
   "execution_count": null,
   "metadata": {
    "collapsed": true
   },
   "outputs": [],
   "source": []
  }
 ],
 "metadata": {
  "kernelspec": {
   "display_name": "Python 2",
   "language": "python",
   "name": "python2"
  },
  "language_info": {
   "codemirror_mode": {
    "name": "ipython",
    "version": 2
   },
   "file_extension": ".py",
   "mimetype": "text/x-python",
   "name": "python",
   "nbconvert_exporter": "python",
   "pygments_lexer": "ipython2",
   "version": "2.7.11"
  }
 },
 "nbformat": 4,
 "nbformat_minor": 0
}
