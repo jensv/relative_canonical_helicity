{
 "cells": [
  {
   "cell_type": "code",
   "execution_count": 1,
   "metadata": {
    "collapsed": false
   },
   "outputs": [],
   "source": [
    "import numpy as np\n",
    "from scipy.spatial import Delaunay\n",
    "from scipy.interpolate import LinearNDInterpolator\n",
    "from scipy.constants import mu_0\n",
    "from scipy.constants import elementary_charge as q_e\n",
    "from scipy.constants import proton_mass as m_i\n",
    "from astropy.convolution import convolve, convolve_fft\n",
    "from scipy.signal import fftconvolve\n",
    "\n",
    "from datetime import date\n",
    "from datetime import datetime\n",
    "import visit_writer\n",
    "\n",
    "import structured_3d_vtk as struc_3d\n",
    "reload(struc_3d)\n",
    "\n",
    "%matplotlib inline\n",
    "import matplotlib.pyplot as plt\n",
    "\n",
    "import seaborn as sns\n",
    "sns.set_style('white')\n",
    "\n",
    "import os\n",
    "\n",
    "import ion_current_to_mach_number as ic_to_mach\n",
    "reload(ic_to_mach)\n",
    "\n",
    "import read_from_sql"
   ]
  },
  {
   "cell_type": "code",
   "execution_count": 2,
   "metadata": {
    "collapsed": false
   },
   "outputs": [],
   "source": [
    "now = datetime.now().strftime(\"%Y-%m-%d-%H-%M\")\n",
    "out_dir = '../output/' + now\n",
    "try:\n",
    "    os.makedirs(out_dir)\n",
    "except:\n",
    "    pass"
   ]
  },
  {
   "cell_type": "markdown",
   "metadata": {},
   "source": [
    "# Define functions"
   ]
  },
  {
   "cell_type": "code",
   "execution_count": 3,
   "metadata": {
    "collapsed": true
   },
   "outputs": [],
   "source": [
    "def prepare_idl_quantity(name, planes, bounds=None):\n",
    "    r\"\"\"\n",
    "    \"\"\"\n",
    "    measurements = struc_3d.read_idl(name, )\n",
    "    if bounds:\n",
    "        measurements = struc_3d.remove_points_out_of_bounds(measurements, \n",
    "                                                            bounds[0], bounds[1], planes)\n",
    "    for plane in planes:\n",
    "        measurements[plane] = struc_3d.average_duplicate_points(measurements[plane])\n",
    "    return measurements"
   ]
  },
  {
   "cell_type": "code",
   "execution_count": 4,
   "metadata": {
    "collapsed": true
   },
   "outputs": [],
   "source": [
    "def combine_all_planes(measurements, planes):\n",
    "    r\"\"\"\n",
    "    \"\"\"\n",
    "    all_planes = dict(measurements[planes[0]])\n",
    "    all_planes['z_out'] = planes[0]*np.ones(all_planes['x_out'].size) \n",
    "    for plane in planes[1:]:\n",
    "        for key in ['x_out', 'y_out']:\n",
    "            all_planes[key] = np.concatenate((all_planes[key], \n",
    "                                              measurements[plane][key]))\n",
    "        all_planes['z_out'] = np.concatenate((all_planes['z_out'],\n",
    "                                              plane*np.ones(measurements[plane]['x_out'].size)))\n",
    "        for key in ['std', 'a_out']:\n",
    "            for time_point in xrange(measurements[plane]['delays'].size):\n",
    "                all_planes[key][time_point] = np.concatenate((all_planes[key][time_point], \n",
    "                                                              measurements[plane][key][time_point]))\n",
    "    return all_planes"
   ]
  },
  {
   "cell_type": "code",
   "execution_count": 5,
   "metadata": {
    "collapsed": false
   },
   "outputs": [],
   "source": [
    "def remove_points_outside_convex(measurements,\n",
    "                                 x_min= -0.025, x_max=0.025,\n",
    "                                 y_min=-0.016, y_max=0.017,\n",
    "                                 z_min=0.249, z_max=0.416):\n",
    "    r\"\"\"\n",
    "    \"\"\"\n",
    "    points = np.dstack((measurements['x_out'], \n",
    "                        measurements['y_out'], \n",
    "                        measurements['z_out']))[0]\n",
    "    outside_convex_volume = np.where(np.logical_or.reduce((points[:, 0] < x_min, \n",
    "                                                           points[:, 0] > x_max, \n",
    "                                                           points[:, 1] < y_min,\n",
    "                                                           points[:, 1] > y_max,\n",
    "                                                           points[:, 2] < z_min,\n",
    "                                                           points[:, 2] > z_max)))[0]\n",
    "    for key in ['x_out', 'y_out', 'z_out']:\n",
    "        measurements[key] = np.delete(measurements[key], \n",
    "                                      outside_convex_volume)\n",
    "    for key in ['std', 'a_out']:\n",
    "        for time_point in xrange(measurements['delays'].size):\n",
    "            measurements[key][time_point] = np.delete(measurements[key][time_point], \n",
    "                                                      outside_convex_volume)\n",
    "    return measurements"
   ]
  },
  {
   "cell_type": "code",
   "execution_count": 6,
   "metadata": {
    "collapsed": true
   },
   "outputs": [],
   "source": [
    "def remove_points_outside_convex(measurements,\n",
    "                                 x_min= -0.025, x_max=0.025,\n",
    "                                 y_min=-0.016, y_max=0.017,\n",
    "                                 z_min=0.249, z_max=0.416):\n",
    "    r\"\"\"\n",
    "    \"\"\"\n",
    "    points = np.dstack((measurements['x_out'], \n",
    "                        measurements['y_out'], \n",
    "                        measurements['z_out']))[0]\n",
    "    outside_convex_volume = np.where(np.logical_or.reduce((points[:, 0] < x_min, \n",
    "                                                           points[:, 0] > x_max, \n",
    "                                                           points[:, 1] < y_min,\n",
    "                                                           points[:, 1] > y_max,\n",
    "                                                           points[:, 2] < z_min,\n",
    "                                                           points[:, 2] > z_max)))[0]\n",
    "    for key in ['x_out', 'y_out', 'z_out']:\n",
    "        measurements[key] = np.delete(measurements[key], \n",
    "                                      outside_convex_volume)\n",
    "    for key in ['std', 'a_out']:\n",
    "        for time_point in xrange(measurements['delays'].size):\n",
    "            measurements[key][time_point] = np.delete(measurements[key][time_point], \n",
    "                                                      outside_convex_volume)\n",
    "    return measurements"
   ]
  },
  {
   "cell_type": "code",
   "execution_count": 7,
   "metadata": {
    "collapsed": true
   },
   "outputs": [],
   "source": [
    "def remove_nan_points(measurements):\n",
    "    r\"\"\"\n",
    "    \"\"\"\n",
    "    nan_positions = np.where(np.isnan(measurements['a_out']))[1]\n",
    "    for key in ['x_out', 'y_out', 'z_out']:\n",
    "        measurements[key] = np.delete(measurements[key], \n",
    "                                      nan_positions)\n",
    "    for key in ['std', 'a_out']:\n",
    "        measurements[key] = np.delete(measurements[key], \n",
    "                                      nan_positions, axis=1)\n",
    "    return measurements"
   ]
  },
  {
   "cell_type": "code",
   "execution_count": 8,
   "metadata": {
    "collapsed": false
   },
   "outputs": [],
   "source": [
    "def prepare_for_unstructured_vtk(measurements, quantity_name):\n",
    "    r\"\"\"\n",
    "    \"\"\"\n",
    "    points = np.dstack((measurements['x_out'], \n",
    "                        measurements['y_out'], \n",
    "                        measurements['z_out']))[0]\n",
    "    triangulation = Delaunay(points)\n",
    "    points = tuple(points.ravel())\n",
    "    connectivity = tuple([(visit_writer.tetrahedron, int(simplex[0]), \n",
    "                           int(simplex[1]), int(simplex[2]), int(simplex[3])) \n",
    "                           for simplex in triangulation.simplices])\n",
    "    variables_all_time = []\n",
    "    for time_point in xrange(measurements['delays'].size):\n",
    "        variables = ((quantity_name, 1, 1, tuple(measurements['a_out'][time_point])),)\n",
    "        variables_all_time.append(variables)\n",
    "    return points, connectivity, variables_all_time"
   ]
  },
  {
   "cell_type": "code",
   "execution_count": 9,
   "metadata": {
    "collapsed": true
   },
   "outputs": [],
   "source": [
    "def give_delaunay_and_interpolator(measurements):\n",
    "    r\"\"\"\n",
    "    \"\"\"\n",
    "    if np.unique(measurements['z_out']).size < 2:\n",
    "        points = np.dstack((measurements['x_out'], \n",
    "                            measurements['y_out']))[0]\n",
    "    else:\n",
    "        points = np.dstack((measurements['x_out'], \n",
    "                            measurements['y_out'], \n",
    "                            measurements['z_out']))[0]\n",
    "    triangulation = Delaunay(points)\n",
    "    interpolators = []\n",
    "    for time_point in xrange(measurements['delays'].size):\n",
    "        interpolators.append(LinearNDInterpolator(points, measurements['a_out'][time_point]))\n",
    "    return triangulation, interpolators"
   ]
  },
  {
   "cell_type": "code",
   "execution_count": 10,
   "metadata": {
    "collapsed": false
   },
   "outputs": [],
   "source": [
    "def write_all_time_unstructured(file_prefix, points, connectivity, variables_all_time):\n",
    "    r\"\"\"\n",
    "    \"\"\"\n",
    "    for time_point in xrange(len(variables_all_time)):\n",
    "        path = file_prefix + str(time_point).zfill(4)\n",
    "        visit_writer.WriteUnstructuredMesh(path, 1, points,\n",
    "                                           connectivity, \n",
    "                                           variables[time_point])"
   ]
  },
  {
   "cell_type": "code",
   "execution_count": 11,
   "metadata": {
    "collapsed": false
   },
   "outputs": [],
   "source": [
    "def save_idl_quantity_to_unstructured_grids(idl_quantity_name,\n",
    "                                            visit_quantity_name,\n",
    "                                            date, \n",
    "                                            planes=[0.249, 0.302, 0.357, 0.416],\n",
    "                                            file_name_descriptor='_all_planes_convex_unstructured_grid_',\n",
    "                                            x_min= -0.021, x_max=0.014,\n",
    "                                            y_min=-0.016, y_max=0.017,\n",
    "                                            z_min=0.249, z_max=0.416,\n",
    "                                            bounds=None):\n",
    "    r\"\"\"\n",
    "    \"\"\"\n",
    "    file_prefix = '../output/' + date + '/' + visit_quantity_name + file_name_descriptor\n",
    "    measurements = prepare_idl_quantity(idl_quantity_name, planes, bounds=bounds)\n",
    "    all_planes = combine_all_planes(measurements, planes) \n",
    "    all_planes = remove_points_outside_convex(all_planes, \n",
    "                                              x_min=x_min, x_max=x_max,\n",
    "                                              y_min=y_min, y_max=y_max,\n",
    "                                              z_min=z_min, z_max=z_max)\n",
    "    assert len(all_planes['x_out']) == len(all_planes['y_out']) == len(all_planes['z_out'])\n",
    "    #(points, \n",
    "    # connectivity, \n",
    "    # variables_all_time) = prepare_for_unstructured_vtk(all_planes, visit_quantity_name)\n",
    "    #assert len(points) == len(all_planes['x_out'])*3\n",
    "    #assert len(variables_all_time[0][0][3]) == len(all_planes['x_out'])\n",
    "    #write_all_time_unstructured(file_prefix, points, \n",
    "    #                            connectivity, variables_all_time)\n",
    "    return all_planes "
   ]
  },
  {
   "cell_type": "code",
   "execution_count": 12,
   "metadata": {
    "collapsed": true
   },
   "outputs": [],
   "source": [
    "def save_quantity_to_unstructured_grids(measurements,\n",
    "                                        idl_quantity_name,\n",
    "                                        visit_quantity_name,\n",
    "                                        date, \n",
    "                                        planes=[0.249, 0.302, 0.357, 0.416],\n",
    "                                        file_name_descriptor='_all_planes_convex_unstructured_grid_',\n",
    "                                        x_min= -0.021, x_max=0.014,\n",
    "                                        y_min=-0.016, y_max=0.017,\n",
    "                                        z_min=0.249, z_max=0.416,\n",
    "                                        bounds=None):\n",
    "    r\"\"\"\n",
    "    \"\"\"\n",
    "    file_prefix = '../output/' + date + '/' + visit_quantity_name + file_name_descriptor\n",
    "    all_planes = combine_all_planes(measurements, planes) \n",
    "    all_planes = remove_points_outside_convex(all_planes, \n",
    "                                              x_min=x_min, x_max=x_max,\n",
    "                                              y_min=y_min, y_max=y_max,\n",
    "                                              z_min=z_min, z_max=z_max)\n",
    "    assert len(all_planes['x_out']) == len(all_planes['y_out']) == len(all_planes['z_out'])\n",
    "    #(points, \n",
    "    # connectivity, \n",
    "    # variables_all_time) = prepare_for_unstructured_vtk(all_planes, visit_quantity_name)\n",
    "    #assert len(points) == len(all_planes['x_out'])*3\n",
    "    #assert len(variables_all_time[0][0][3]) == len(all_planes['x_out'])\n",
    "    #write_all_time_unstructured(file_prefix, points, \n",
    "    #                            connectivity, variables_all_time)\n",
    "    return all_planes "
   ]
  },
  {
   "cell_type": "code",
   "execution_count": 13,
   "metadata": {
    "collapsed": true
   },
   "outputs": [],
   "source": [
    "def triangulate_derivatives(mesh, triangulation, interpolator, increment=0.00001):\n",
    "    r\"\"\"\n",
    "    \"\"\"\n",
    "    d_dx_mesh = np.zeros(mesh[0].shape)\n",
    "    d_dy_mesh = np.zeros(mesh[0].shape)\n",
    "    d_dz_mesh = np.zeros(mesh[0].shape)\n",
    "    points = np.dstack((mesh[0].ravel(),\n",
    "                        mesh[1].ravel(),\n",
    "                        mesh[2].ravel()))\n",
    "    values = interpolator(points)\n",
    "    d_dx = (interpolator(points + np.asarray([increment, 0, 0])) - values) / increment\n",
    "    d_dy = (interpolator(points + np.asarray([0, increment, 0])) - values) / increment\n",
    "    d_dz = (interpolator(points + np.asarray([0, 0, increment])) - values) / increment\n",
    "    d_dx_mesh = d_dx.reshape(mesh[0].shape)\n",
    "    d_dy_mesh = d_dy.reshape(mesh[0].shape)\n",
    "    d_dz_mesh = d_dz.reshape(mesh[0].shape)\n",
    "    derivative_meshes = ([d_dx_mesh, d_dy_mesh, d_dz_mesh])\n",
    "    return derivative_meshes"
   ]
  },
  {
   "cell_type": "code",
   "execution_count": 14,
   "metadata": {
    "collapsed": true
   },
   "outputs": [],
   "source": [
    "def remove_edges_derivative_meshes(derivative_meshes,\n",
    "                                   x_start=2, x_end=None, \n",
    "                                   y_start=0, y_end=-2, \n",
    "                                   z_start=0, z_end=-1):\n",
    "    r\"\"\"\n",
    "    \"\"\"\n",
    "    for index in xrange(len(derivative_meshes)):\n",
    "        derivative_meshes[index] = derivative_meshes[index][y_start:y_end, x_start:x_end, z_start:z_end]\n",
    "    return derivative_meshes"
   ]
  },
  {
   "cell_type": "code",
   "execution_count": 15,
   "metadata": {
    "collapsed": true
   },
   "outputs": [],
   "source": [
    "def remove_edges_vector_quantity_meshes(quantity_meshes,\n",
    "                                        x_start=2, x_end=None, \n",
    "                                        y_start=0, y_end=-2, \n",
    "                                        z_start=0, z_end=-1):\n",
    "    r\"\"\"\n",
    "    \"\"\"\n",
    "    for index in xrange(len(quantity_meshes)):\n",
    "        quantity_meshes[index] = quantity_meshes[index][y_start:y_end, x_start:x_end, z_start:z_end]\n",
    "    return quantity_meshes"
   ]
  },
  {
   "cell_type": "code",
   "execution_count": 16,
   "metadata": {
    "collapsed": true
   },
   "outputs": [],
   "source": [
    "def remove_edges_scalar_quantity_meshes(quantity_mesh,\n",
    "                                        x_start=2, x_end=None, \n",
    "                                        y_start=0, y_end=-2, \n",
    "                                        z_start=0, z_end=-1):\n",
    "    r\"\"\"\n",
    "    \"\"\"\n",
    "    quantity_mesh = quantity_mesh[y_start:y_end, x_start:x_end, z_start:z_end]\n",
    "    return quantity_mesh"
   ]
  },
  {
   "cell_type": "code",
   "execution_count": 17,
   "metadata": {
    "collapsed": true
   },
   "outputs": [],
   "source": [
    "def remove_edges_mesh(mesh,\n",
    "                      x_start=2, x_end=None, \n",
    "                      y_start=0, y_end=-2, \n",
    "                      z_start=0, z_end=-1):\n",
    "    r\"\"\"\n",
    "    \"\"\"\n",
    "    for index in xrange(len(mesh)):\n",
    "        mesh[index] = mesh[index][y_start:y_end, x_start:x_end, z_start:z_end]\n",
    "    return mesh"
   ]
  },
  {
   "cell_type": "code",
   "execution_count": 18,
   "metadata": {
    "collapsed": false
   },
   "outputs": [],
   "source": [
    "def prepare_for_rectilinear_grid(mesh, quantities, quantity_names):\n",
    "    r\"\"\"\n",
    "    \"\"\"\n",
    "    x = tuple(np.unique(mesh[0]))\n",
    "    y = tuple(np.unique(mesh[1]))\n",
    "    z = tuple(np.unique(mesh[2]))\n",
    "    variables = [(quantity_names[index], 1, 1, \n",
    "                  tuple(np.swapaxes(np.swapaxes(quantities[index], 1, 2), 0, 1).ravel()))\n",
    "                 for index in xrange(len(quantities))]\n",
    "    return x, y, z, variables"
   ]
  },
  {
   "cell_type": "code",
   "execution_count": null,
   "metadata": {
    "collapsed": true
   },
   "outputs": [],
   "source": [
    "def save_to_numpy_mesh(mesh, quantities, quantity_names, filename):\n",
    "    r\"\"\"\n",
    "    \"\"\"\n",
    "    dict_to_save = {'mesh_x': mesh[0],\n",
    "                    'mesh_y': mesh[1],\n",
    "                    'mesh_z': mesh[2]}\n",
    "    for i, quanitity in enumerate(quantities):\n",
    "        dict_to_save[quantity_names[i]] = quantities\n",
    "    np.savez(filename, **dict_to_save)"
   ]
  },
  {
   "cell_type": "code",
   "execution_count": 19,
   "metadata": {
    "collapsed": false
   },
   "outputs": [],
   "source": [
    "def current_on_mesh(derivative_meshes_all_directions, mu_0=mu_0):\n",
    "    r\"\"\"\n",
    "    \"\"\"\n",
    "    dBx_dy = derivative_meshes_all_directions[0][1]\n",
    "    dBx_dz = derivative_meshes_all_directions[0][2]\n",
    "    dBy_dx = derivative_meshes_all_directions[1][0]\n",
    "    dBy_dz = derivative_meshes_all_directions[1][2]\n",
    "    dBz_dx = derivative_meshes_all_directions[2][0]\n",
    "    dBz_dy = derivative_meshes_all_directions[2][1]\n",
    "    j_x = 1./(mu_0) * (dBz_dy - dBy_dz)\n",
    "    j_y = 1./(mu_0) * (dBx_dz - dBz_dx)\n",
    "    j_z = 1./(mu_0) * (dBy_dx - dBx_dy)\n",
    "    current = [j_x, j_y, j_z]    \n",
    "    return current"
   ]
  },
  {
   "cell_type": "code",
   "execution_count": 20,
   "metadata": {
    "collapsed": true
   },
   "outputs": [],
   "source": [
    "def b_field_on_mesh(interpolator_all_directions, mesh, bias=2e-2):\n",
    "    r\"\"\"\n",
    "    \"\"\"\n",
    "    shape = mesh[0].shape\n",
    "    points = np.swapaxes(np.asarray([mesh[0].ravel(), mesh[1].ravel(), mesh[2].ravel()]), 0, 1)\n",
    "    b_x = interpolator_all_directions[0](points)  \n",
    "    b_y = interpolator_all_directions[1](points)\n",
    "    b_z = interpolator_all_directions[2](points)\n",
    "    b_x = np.resize(b_x, shape)\n",
    "    b_y = np.resize(b_y, shape)\n",
    "    b_z = np.resize(b_z, shape)\n",
    "    b_z += bias \n",
    "    b_x_norm = b_x / np.sqrt(b_x**2. + b_y**2. + b_z**2.)\n",
    "    b_y_norm = b_y / np.sqrt(b_x**2. + b_y**2. + b_z**2.)\n",
    "    b_z_norm = b_z / np.sqrt(b_x**2. + b_y**2. + b_z**2.)    \n",
    "    b_field = [b_x, b_y, b_z]\n",
    "    b_field_norm = [b_x_norm, b_y_norm, b_z_norm]\n",
    "    return b_field, b_field_norm"
   ]
  },
  {
   "cell_type": "code",
   "execution_count": 21,
   "metadata": {
    "collapsed": false
   },
   "outputs": [],
   "source": [
    "def scalar_on_mesh(interpolator, mesh):\n",
    "    r\"\"\"\n",
    "    \"\"\"\n",
    "    shape = mesh[0].shape\n",
    "    assert (len(mesh) == 3 or len(mesh) == 2)\n",
    "    if len(mesh) == 3:\n",
    "        points = np.swapaxes(np.asarray([mesh[0].ravel(), mesh[1].ravel(), mesh[2].ravel()]), 0, 1)\n",
    "    else:\n",
    "        points = np.swapaxes(np.asarray([mesh[0].ravel(), mesh[1].ravel()]), 0, 1)\n",
    "    scalar_all_times = []\n",
    "    scalar = interpolator(points)\n",
    "    scalar = np.resize(scalar, shape)\n",
    "    return scalar"
   ]
  },
  {
   "cell_type": "code",
   "execution_count": 22,
   "metadata": {
    "collapsed": true
   },
   "outputs": [],
   "source": [
    "def write_fields_and_currents_to_structured_mesh(date, visit_file_name, \n",
    "                                                 x, y, z, data, time_point):\n",
    "    r\"\"\"\n",
    "    \"\"\"\n",
    "    file_prefix = '../output/' + date + '/' + visit_file_name\n",
    "    path = file_prefix + str(time_point).zfill(4)  \n",
    "    print path\n",
    "    visit_writer.WriteRectilinearMesh(path, 1, x, y, z, data)"
   ]
  },
  {
   "cell_type": "code",
   "execution_count": 23,
   "metadata": {
    "collapsed": true
   },
   "outputs": [],
   "source": [
    "def bdot_probe_extent():\n",
    "    r\"\"\"\n",
    "    \"\"\"\n",
    "    x_min = -0.026\n",
    "    x_max = 0.024\n",
    "    y_min = -0.02 \n",
    "    y_max = 0.028\n",
    "    z_min = 0.249 \n",
    "    z_max = 0.416\n",
    "    return x_min, x_max, y_min, y_max, z_min, z_max\n",
    "\n",
    "def joint_bdot_tp_extent():\n",
    "    r\"\"\"\n",
    "    \"\"\"\n",
    "    x_min = -0.022\n",
    "    x_max = 0.024\n",
    "    y_min = -0.02 \n",
    "    y_max = 0.024\n",
    "    z_min = 0.249 \n",
    "    z_max = 0.416\n",
    "    return x_min, x_max, y_min, y_max, z_min, z_max\n",
    "\n",
    "def joint_mach_bdot_tp_extent():\n",
    "    r\"\"\"\n",
    "    \"\"\"\n",
    "    x_min = -0.022\n",
    "    x_max = 0.024\n",
    "    y_min = -0.02 \n",
    "    y_max = 0.018\n",
    "    z_min = 0.249 \n",
    "    z_max = 0.416\n",
    "    return x_min, x_max, y_min, y_max, z_min, z_max"
   ]
  },
  {
   "cell_type": "code",
   "execution_count": 24,
   "metadata": {
    "collapsed": false
   },
   "outputs": [],
   "source": [
    "def calc_ion_velocity_term_1(current, density, charge):\n",
    "    r\"\"\"\n",
    "    \"\"\"\n",
    "    denominator = density*charge\n",
    "    term = [current[0]/denominator,\n",
    "            current[1]/denominator,\n",
    "            current[2]/denominator]\n",
    "    return term"
   ]
  },
  {
   "cell_type": "code",
   "execution_count": 25,
   "metadata": {
    "collapsed": true
   },
   "outputs": [],
   "source": [
    "def calc_ion_velocity_term_2(b_field_norm, alpha):\n",
    "    r\"\"\"\n",
    "    \"\"\"\n",
    "    return alpha*b_field_norm"
   ]
  },
  {
   "cell_type": "code",
   "execution_count": 26,
   "metadata": {
    "collapsed": true
   },
   "outputs": [],
   "source": [
    "def curl_on_mesh(quantity, mesh):\n",
    "    r\"\"\"\n",
    "    \"\"\"\n",
    "    dx = mesh[0][0, 1, 0] - mesh[0][0, 0, 0]\n",
    "    dy = mesh[1][1, 0, 0] - mesh[1][0, 0, 0]\n",
    "    dz = mesh[2][0, 0, 1] - mesh[2][0, 0, 0]\n",
    "    dx_dy = np.gradient(quantity[0], axis=1)/dy\n",
    "    dx_dz = np.gradient(quantity[0], axis=2)/dz\n",
    "    dy_dx = np.gradient(quantity[1], axis=0)/dx\n",
    "    dy_dz = np.gradient(quantity[1], axis=2)/dz\n",
    "    dz_dx = np.gradient(quantity[2], axis=0)/dx\n",
    "    dz_dy = np.gradient(quantity[2], axis=1)/dy\n",
    "    curl_x = dz_dy - dy_dz\n",
    "    curl_y = dx_dz - dz_dx\n",
    "    curl_z = dy_dx - dx_dy\n",
    "    return [curl_x, curl_y, curl_z]"
   ]
  },
  {
   "cell_type": "code",
   "execution_count": 27,
   "metadata": {
    "collapsed": true
   },
   "outputs": [],
   "source": [
    "def calc_ion_vorticity_term_1(current, density, charge, mesh, filt=None):\n",
    "    r\"\"\"\n",
    "    \"\"\"\n",
    "    return curl_on_mesh(calc_ion_velocity_term_1(current, density, charge), mesh)"
   ]
  },
  {
   "cell_type": "code",
   "execution_count": 28,
   "metadata": {
    "collapsed": true
   },
   "outputs": [],
   "source": [
    "def calc_ion_vorticity_term_2(b_field_norm, alpha, mesh):\n",
    "    r\"\"\"\n",
    "    \"\"\"\n",
    "    return curl_on_mesh(calc_ion_velocity_term_2(b_field_norm, alpha), mesh)"
   ]
  },
  {
   "cell_type": "code",
   "execution_count": 29,
   "metadata": {
    "collapsed": true
   },
   "outputs": [],
   "source": [
    "def boxcar_filter_quantity_mesh(quantity, width):\n",
    "    r\"\"\"\n",
    "    \"\"\"\n",
    "    nan_indexes = np.where(np.isnan(quantity))\n",
    "    quantity[nan_indexes] = 0\n",
    "    boxcar = np.ones((width, width, width))\n",
    "    boxcar /= boxcar.sum()\n",
    "    return fftconvolve(quantity, boxcar, mode='same')"
   ]
  },
  {
   "cell_type": "markdown",
   "metadata": {},
   "source": [
    "# Write all idl quantities to files"
   ]
  },
  {
   "cell_type": "code",
   "execution_count": 30,
   "metadata": {
    "collapsed": false
   },
   "outputs": [],
   "source": [
    "bx_all_planes = save_idl_quantity_to_unstructured_grids('bx', 'B_x', now,\n",
    "                                                        x_min=-0.032, x_max=0.028,\n",
    "                                                        y_min=-0.022, y_max=0.032, \n",
    "                                                        z_min=0.249, z_max=0.416)\n",
    "\n"
   ]
  },
  {
   "cell_type": "code",
   "execution_count": 31,
   "metadata": {
    "collapsed": false
   },
   "outputs": [],
   "source": [
    "by_all_planes = save_idl_quantity_to_unstructured_grids('by', 'B_y', now,\n",
    "                                                        x_min=-0.032, x_max=0.028,\n",
    "                                                        y_min=-0.022, y_max=0.032, \n",
    "                                                        z_min=0.249, z_max=0.416)\n"
   ]
  },
  {
   "cell_type": "code",
   "execution_count": 32,
   "metadata": {
    "collapsed": false
   },
   "outputs": [],
   "source": [
    "bz_all_planes = save_idl_quantity_to_unstructured_grids('bz', 'B_z', now,\n",
    "                                                        x_min=-0.032, x_max=0.028,\n",
    "                                                        y_min=-0.022, y_max=0.032, \n",
    "                                                        z_min=0.249, z_max=0.416)\n"
   ]
  },
  {
   "cell_type": "code",
   "execution_count": 33,
   "metadata": {
    "collapsed": false
   },
   "outputs": [],
   "source": [
    "te_all_planes = save_idl_quantity_to_unstructured_grids('te', 'T_e', now, \n",
    "                                                        x_min=-0.026, x_max=0.028,\n",
    "                                                        y_min=-0.03, y_max=0.028, \n",
    "                                                        z_min=0.249, z_max=0.416,\n",
    "                                                        bounds=(1e-3, 1e3))\n"
   ]
  },
  {
   "cell_type": "code",
   "execution_count": 34,
   "metadata": {
    "collapsed": false
   },
   "outputs": [],
   "source": [
    "n_all_planes = save_idl_quantity_to_unstructured_grids('n', 'n', now,\n",
    "                                                       x_min=-0.026, x_max=0.028,\n",
    "                                                       y_min=-0.03, y_max=0.028, \n",
    "                                                       z_min=0.249, z_max=0.416,\n",
    "                                                       bounds=(1e3, 1e22))\n"
   ]
  },
  {
   "cell_type": "markdown",
   "metadata": {},
   "source": [
    "# Prepare Mach probe data "
   ]
  },
  {
   "cell_type": "code",
   "execution_count": 35,
   "metadata": {
    "collapsed": false
   },
   "outputs": [],
   "source": [
    "timesteps = 250\n",
    "\n",
    "database = '/Users/vonderlinden2/rsx_analysis/shots_database/source/shots.db'\n",
    "table = 'Shots'\n",
    "z_direction_1, z_direction_2 = 0, 180\n",
    "y_direction_1, y_direction_2 = 90, 270\n",
    "angle_signs = {0: 1,\n",
    "               180: -1,\n",
    "               90: -1,\n",
    "               0: 1}\n",
    "min_spectral_density = 1.6e-8\n",
    "\n",
    "condition_z_0416 = (\"campaigns = 'mach_probe_plane_campaign_1'\"\n",
    "                    \" AND fiducial_pre_crowbar_gyration_spectral_density > \"\n",
    "                    + str(min_spectral_density) +\n",
    "                    \" AND mach_signals_exist = 1\"\n",
    "                    \" AND (mach_orientation = \" + str(z_direction_1) +\n",
    "                    \" OR mach_orientation = \" + str(z_direction_2) + \")\")\n",
    "\n",
    "condition_y_0416 = (\"campaigns = 'mach_probe_plane_campaign_1'\"\n",
    "                    \" AND fiducial_pre_crowbar_gyration_spectral_density > \"\n",
    "                    + str(min_spectral_density) +\n",
    "                    \" AND mach_signals_exist = 1\"\n",
    "                    \" AND (mach_orientation = \" + str(y_direction_1) +\n",
    "                    \" OR mach_orientation = \" + str(y_direction_2) + \")\")\n",
    "\n",
    "cursor, connection = read_from_sql.cursor_with_rows(condition_z_0416,\n",
    "                                                    database,\n",
    "                                                    table)\n",
    "z_0416_shots = cursor.fetchall()\n",
    "cursor.close()\n",
    "connection.close()\n",
    "\n",
    "cursor, connection = read_from_sql.cursor_with_rows(condition_y_0416,\n",
    "                                                    database,\n",
    "                                                    table)\n",
    "y_0416_shots = cursor.fetchall()\n",
    "cursor.close()\n",
    "connection.close()\n",
    "\n",
    "condition_z_302 = (\"campaigns = 'mach_probe_plane_campaign_2'\"\n",
    "                   \" AND fiducial_pre_crowbar_gyration_spectral_density > \"\n",
    "                   + str(min_spectral_density) +\n",
    "                   \" AND mach_signals_exist = 1\"\n",
    "                   \" AND (mach_orientation = \" + str(z_direction_1) +\n",
    "                   \" OR mach_orientation = \" + str(z_direction_2) + \")\")\n",
    "\n",
    "cursor, connection = read_from_sql.cursor_with_rows(condition_z_302,\n",
    "                                                    database,\n",
    "                                                    table)\n",
    "z_0302_shots = cursor.fetchall()\n",
    "cursor.close()\n",
    "connection.close()\n",
    "\n",
    "mach_z_0416_measurements = ic_to_mach.run_mach_analysis(z_0416_shots,\n",
    "                                                        timesteps, \n",
    "                                                        angle_signs) \n",
    "mach_y_0416_measurements = ic_to_mach.run_mach_analysis(y_0416_shots,\n",
    "                                                        timesteps, \n",
    "                                                        angle_signs)\n",
    "mach_z_0302_measurements = ic_to_mach.run_mach_analysis(z_0302_shots,\n",
    "                                                        timesteps, \n",
    "                                                        angle_signs)\n",
    "\n",
    "mach_z_0416_measurements['delays'] = np.arange(timesteps)\n",
    "mach_y_0416_measurements['delays'] = np.arange(timesteps)\n",
    "mach_z_0302_measurements['delays'] = np.arange(timesteps)\n",
    "\n",
    "mach_z_0416_measurements = struc_3d.average_duplicate_points(mach_z_0416_measurements)\n",
    "mach_y_0416_measurements = struc_3d.average_duplicate_points(mach_y_0416_measurements)\n",
    "mach_z_0302_measurements = struc_3d.average_duplicate_points(mach_z_0302_measurements)\n",
    "\n",
    "mach_y_measurements = {0.416: mach_y_0416_measurements}\n",
    "mach_z_measurements = {0.302: mach_z_0302_measurements,\n",
    "                       0.416: mach_z_0416_measurements}\n",
    "\n",
    "mach_y_all_planes = save_quantity_to_unstructured_grids(mach_y_measurements, \n",
    "                                                        'Mach_y', 'Mach_y', '2016-07-26',\n",
    "                                                        planes=[0.416],\n",
    "                                                        x_min=-0.052, x_max=0.052,\n",
    "                                                        y_min=-0.022, y_max=0.032, \n",
    "                                                        z_min=0.249, z_max=0.416,\n",
    "                                                        bounds=(-10, 10))\n",
    "\n",
    "mach_z_all_planes = save_quantity_to_unstructured_grids(mach_z_measurements, \n",
    "                                                        'Mach_z', 'Mach_z', '2016-07-26',\n",
    "                                                        planes=[0.302, 0.416],\n",
    "                                                        x_min=-0.032, x_max=0.032,\n",
    "                                                        y_min=-0.022, y_max=0.032, \n",
    "                                                        z_min=0.249, z_max=0.416,\n",
    "                                                        bounds=(-10, 10))\n",
    "mach_y_all_planes = remove_nan_points(mach_y_all_planes)\n",
    "mach_z_all_planes = remove_nan_points(mach_z_all_planes)"
   ]
  },
  {
   "cell_type": "markdown",
   "metadata": {},
   "source": [
    "# Determine derivatives and write to files"
   ]
  },
  {
   "cell_type": "code",
   "execution_count": 36,
   "metadata": {
    "collapsed": false
   },
   "outputs": [],
   "source": [
    "bx_triangulation, bx_interpolators = give_delaunay_and_interpolator(bx_all_planes)\n",
    "by_triangulation, by_interpolators = give_delaunay_and_interpolator(by_all_planes)\n",
    "bz_triangulation, bz_interpolators = give_delaunay_and_interpolator(bz_all_planes)\n",
    "te_triangulation, te_interpolators = give_delaunay_and_interpolator(te_all_planes)\n",
    "n_triangulation, n_interpolators = give_delaunay_and_interpolator(n_all_planes)\n",
    "mach_y_triangulation, mach_y_interpolators = give_delaunay_and_interpolator(mach_y_all_planes)\n",
    "mach_z_triangulation, mach_z_interpolators = give_delaunay_and_interpolator(mach_z_all_planes)"
   ]
  },
  {
   "cell_type": "markdown",
   "metadata": {},
   "source": [
    "# Interpolate mach and temperature in plane calculate ion velocity"
   ]
  },
  {
   "cell_type": "code",
   "execution_count": 37,
   "metadata": {
    "collapsed": false
   },
   "outputs": [],
   "source": [
    "(x_min, x_max, \n",
    " y_min, y_max,\n",
    " z_min, z_max) = joint_mach_bdot_tp_extent()\n",
    "\n",
    "spatial_increment = 0.001\n",
    "mesh = np.meshgrid(np.linspace(x_min, x_max, np.ceil((x_max-x_min)/spatial_increment)),\n",
    "                   np.linspace(y_min, y_max, np.ceil((y_max-y_min)/spatial_increment)),\n",
    "                   np.linspace(z_min, z_max, np.ceil((z_max-z_min)/spatial_increment)))\n",
    "\n",
    "mach_y_interpolator = mach_y_interpolators[70]\n",
    "mach_z_interpolator = mach_z_interpolators[70]\n",
    "te_interpolator = te_interpolators[0]\n",
    " \n",
    "mach_y = scalar_on_mesh(mach_y_interpolator, mesh[:2])\n",
    "mach_z = scalar_on_mesh(mach_z_interpolator, mesh)\n",
    "te = scalar_on_mesh(te_interpolator, mesh)\n",
    "\n",
    "u_i_y = np.sqrt(te*q_e/m_i)*mach_y\n",
    "u_i_z = np.sqrt(te*q_e/m_i)*mach_z\n",
    "\n",
    "u_i_y = np.reshape(u_i_y, mesh[0].shape)\n",
    "u_i_z = np.reshape(u_i_z, mesh[0].shape)\n",
    "\n",
    "u_i_y = u_i_y[3:, :]\n",
    "u_i_z = u_i_z[3:, :]"
   ]
  },
  {
   "cell_type": "code",
   "execution_count": 40,
   "metadata": {
    "collapsed": false
   },
   "outputs": [
    {
     "data": {
      "text/plain": [
       "<matplotlib.colorbar.Colorbar at 0x11d032590>"
      ]
     },
     "execution_count": 40,
     "metadata": {},
     "output_type": "execute_result"
    },
    {
     "data": {
      "image/png": "[encoded data removed]",
      "text/plain": [
       "<matplotlib.figure.Figure at 0x11cf0a090>"
      ]
     },
     "metadata": {},
     "output_type": "display_data"
    }
   ],
   "source": [
    "plt.contourf(mesh[0][3:,:,0], mesh[1][3:,:,0], u_i_y[:,:,0])\n",
    "plt.colorbar()"
   ]
  },
  {
   "cell_type": "code",
   "execution_count": 41,
   "metadata": {
    "collapsed": false
   },
   "outputs": [
    {
     "data": {
      "text/plain": [
       "<matplotlib.colorbar.Colorbar at 0x11d0f09d0>"
      ]
     },
     "execution_count": 41,
     "metadata": {},
     "output_type": "execute_result"
    },
    {
     "data": {
      "image/png": "[encoded data removed]",
      "text/plain": [
       "<matplotlib.figure.Figure at 0x11c477bd0>"
      ]
     },
     "metadata": {},
     "output_type": "display_data"
    }
   ],
   "source": [
    "plt.contourf(mesh[0][3:,:,0], mesh[1][3:,:,0], u_i_z[:,:,-1])\n",
    "plt.colorbar()"
   ]
  },
  {
   "cell_type": "code",
   "execution_count": 42,
   "metadata": {
    "collapsed": false
   },
   "outputs": [
    {
     "name": "stdout",
     "output_type": "stream",
     "text": [
      "0\n"
     ]
    }
   ],
   "source": [
    "filter_width = 15\n",
    "ones = np.ones(mesh[0].shape)\n",
    "alpha=8.1e5\n",
    "time_point = 0\n",
    "print time_point\n",
    "bx_interpolator = bx_interpolators[time_point]\n",
    "by_interpolator = by_interpolators[time_point]\n",
    "bz_interpolator = bz_interpolators[time_point]\n",
    "te_interpolator = te_interpolators[time_point]\n",
    "n_interpolator = n_interpolators[time_point]\n",
    "    \n",
    "bx_derivative = triangulate_derivatives(mesh, bx_triangulation, bx_interpolator, \n",
    "                                            increment=0.0000001)\n",
    "by_derivative = triangulate_derivatives(mesh, by_triangulation, by_interpolator, \n",
    "                                               increment=0.0000001)\n",
    "bz_derivative = triangulate_derivatives(mesh, bz_triangulation, bz_interpolator, \n",
    "                                               increment=0.0000001)\n",
    "\n",
    "\n",
    "current = current_on_mesh([bx_derivative, \n",
    "                               by_derivative, \n",
    "                               bz_derivative])\n",
    "b_field, b_field_norm = b_field_on_mesh([bx_interpolator, \n",
    "                                             by_interpolator,\n",
    "                                             bz_interpolator], mesh, bias=2e-2)\n",
    "\n",
    "temperature = scalar_on_mesh(te_interpolator, mesh)\n",
    "density = scalar_on_mesh(n_interpolator, mesh)\n",
    "\n",
    "current = np.asarray(current)\n",
    "density = np.asarray(density)\n",
    "b_field_norm = np.asarray(b_field_norm)\n",
    "\n",
    "density = boxcar_filter_quantity_mesh(density, filter_width)\n",
    "\n",
    "for direction in xrange(len(current)):\n",
    "    current[direction] = boxcar_filter_quantity_mesh(current[direction], filter_width)\n",
    "density = 1e18*np.ones(density.shape)\n",
    "    \n",
    "ion_velocity_term_1 = calc_ion_velocity_term_1(current, density, q_e)\n",
    "ion_velocity_term_2 = calc_ion_velocity_term_2(b_field_norm, alpha)\n",
    "\n",
    "ion_vorticity_term_1 = calc_ion_vorticity_term_1(current, density, q_e, mesh)\n",
    "ion_vorticity_term_2 = calc_ion_vorticity_term_2(b_field_norm, alpha, mesh)\n",
    "\n",
    "for direction in xrange(len(ion_vorticity_term_1)):\n",
    "    ion_vorticity_term_1[direction] = boxcar_filter_quantity_mesh(ion_vorticity_term_1[direction], filter_width)\n",
    "    ion_vorticity_term_2[direction] = boxcar_filter_quantity_mesh(ion_vorticity_term_2[direction], filter_width)"
   ]
  },
  {
   "cell_type": "markdown",
   "metadata": {},
   "source": [
    "# Joint quantities interpolation"
   ]
  },
  {
   "cell_type": "code",
   "execution_count": 116,
   "metadata": {
    "collapsed": true
   },
   "outputs": [],
   "source": [
    "filter_width = 15"
   ]
  },
  {
   "cell_type": "code",
   "execution_count": 45,
   "metadata": {
    "collapsed": false,
    "scrolled": true
   },
   "outputs": [
    {
     "name": "stdout",
     "output_type": "stream",
     "text": [
      "0\n"
     ]
    },
    {
     "ename": "TypeError",
     "evalue": "calc_ion_vorticity_term_2() takes exactly 3 arguments (2 given)",
     "output_type": "error",
     "traceback": [
      "\u001b[0;31m---------------------------------------------------------------------------\u001b[0m",
      "\u001b[0;31mTypeError\u001b[0m                                 Traceback (most recent call last)",
      "\u001b[0;32m<ipython-input-45-c80e6f657ce4>\u001b[0m in \u001b[0;36m<module>\u001b[0;34m()\u001b[0m\n\u001b[1;32m     68\u001b[0m     \u001b[0mion_vorticity_term_1\u001b[0m \u001b[0;34m=\u001b[0m \u001b[0mcalc_ion_vorticity_term_1\u001b[0m\u001b[0;34m(\u001b[0m\u001b[0mcurrent\u001b[0m\u001b[0;34m,\u001b[0m \u001b[0mdensity\u001b[0m\u001b[0;34m,\u001b[0m \u001b[0mq_e\u001b[0m\u001b[0;34m,\u001b[0m \u001b[0mmesh_wo_edges\u001b[0m\u001b[0;34m)\u001b[0m\u001b[0;34m\u001b[0m\u001b[0m\n\u001b[1;32m     69\u001b[0m     \u001b[0mion_vorticity_term_1_constant_density\u001b[0m \u001b[0;34m=\u001b[0m \u001b[0mcalc_ion_vorticity_term_1\u001b[0m\u001b[0;34m(\u001b[0m\u001b[0mcurrent\u001b[0m\u001b[0;34m,\u001b[0m \u001b[0mdensity_constant\u001b[0m\u001b[0;34m,\u001b[0m \u001b[0mq_e\u001b[0m\u001b[0;34m,\u001b[0m \u001b[0mmesh_wo_edges\u001b[0m\u001b[0;34m)\u001b[0m\u001b[0;34m\u001b[0m\u001b[0m\n\u001b[0;32m---> 70\u001b[0;31m     \u001b[0mion_vorticity_term_2\u001b[0m \u001b[0;34m=\u001b[0m \u001b[0mcalc_ion_vorticity_term_2\u001b[0m\u001b[0;34m(\u001b[0m\u001b[0mb_field_norm\u001b[0m\u001b[0;34m,\u001b[0m \u001b[0malpha\u001b[0m\u001b[0;34m)\u001b[0m\u001b[0;34m\u001b[0m\u001b[0m\n\u001b[0m\u001b[1;32m     71\u001b[0m \u001b[0;34m\u001b[0m\u001b[0m\n\u001b[1;32m     72\u001b[0m     \u001b[0;32mfor\u001b[0m \u001b[0mdirection\u001b[0m \u001b[0;32min\u001b[0m \u001b[0mxrange\u001b[0m\u001b[0;34m(\u001b[0m\u001b[0mlen\u001b[0m\u001b[0;34m(\u001b[0m\u001b[0mion_vorticity_term_1\u001b[0m\u001b[0;34m)\u001b[0m\u001b[0;34m)\u001b[0m\u001b[0;34m:\u001b[0m\u001b[0;34m\u001b[0m\u001b[0m\n",
      "\u001b[0;31mTypeError\u001b[0m: calc_ion_vorticity_term_2() takes exactly 3 arguments (2 given)"
     ]
    }
   ],
   "source": [
    "now = datetime.now().strftime(\"%Y-%m-%d-%H-%M\")\n",
    "out_dir = '../output/' + now\n",
    "try:\n",
    "    os.makedirs(out_dir)\n",
    "except:\n",
    "    pass\n",
    "\n",
    "alpha = 1\n",
    "\n",
    "(x_min, x_max, \n",
    " y_min, y_max,\n",
    " z_min, z_max) = joint_bdot_tp_extent()\n",
    "\n",
    "spatial_increment = 0.001\n",
    "mesh = np.meshgrid(np.linspace(x_min, x_max, np.ceil((x_max-x_min)/spatial_increment)),\n",
    "                   np.linspace(y_min, y_max, np.ceil((y_max-y_min)/spatial_increment)),\n",
    "                   np.linspace(z_min, z_max, np.ceil((z_max-z_min)/spatial_increment)))\n",
    "\n",
    "mesh_wo_edges = remove_edges_mesh([np.array(mesh[0]), \n",
    "                                   np.array(mesh[1]), \n",
    "                                   np.array(mesh[2])])\n",
    "ones = np.ones(mesh_wo_edges[0].shape)\n",
    "\n",
    "quantity_names = ['B_x', 'B_y', 'B_z',\n",
    "                  'B_norm_x', 'B_norm_y', 'B_norm_z',\n",
    "                  'j_x', 'j_y', 'j_z', 'n', 'Te',\n",
    "                  'u_i_term1_x', 'u_i_term1_y', 'u_i_term1_z',\n",
    "                  'u_e_norm_x', 'u_e_norm_y', 'u_e_norm_z',\n",
    "                  'w_i_term1_x', 'w_i_term1_y', 'w_i_term1_z',\n",
    "                  'w_i_term2_x', 'w_i_term2_y', 'w_i_term2_z',\n",
    "                  'u_i_term1_x_constant_density', 'u_i_term1_y_constant_density', 'u_i_term1_z_constant_density',\n",
    "                  'w_i_term1_x_constant_density', 'w_i_term1_y_constant_density', 'w_i_term1_z_constant_density',\n",
    "                  'ones']\n",
    "\n",
    "for time_point in xrange(len(bx_interpolators)):\n",
    "    print time_point\n",
    "    bx_interpolator = bx_interpolators[time_point]\n",
    "    by_interpolator = by_interpolators[time_point]\n",
    "    bz_interpolator = bz_interpolators[time_point]\n",
    "    te_interpolator = te_interpolators[time_point]\n",
    "    n_interpolator = n_interpolators[time_point]\n",
    "    \n",
    "    bx_derivative = triangulate_derivatives(mesh, bx_triangulation, bx_interpolator, \n",
    "                                            increment=0.0000001)\n",
    "    bx_derivative = remove_edges_derivative_meshes(bx_derivative)\n",
    "    by_derivative = triangulate_derivatives(mesh, by_triangulation, by_interpolator, \n",
    "                                               increment=0.0000001)\n",
    "    by_derivative = remove_edges_derivative_meshes(by_derivative)\n",
    "    bz_derivative = triangulate_derivatives(mesh, bz_triangulation, bz_interpolator, \n",
    "                                               increment=0.0000001)\n",
    "    bz_derivative = remove_edges_derivative_meshes(bz_derivative)\n",
    "\n",
    "\n",
    "    current = current_on_mesh([bx_derivative, \n",
    "                               by_derivative, \n",
    "                               bz_derivative])\n",
    "    b_field, b_field_norm = b_field_on_mesh([bx_interpolator, \n",
    "                                             by_interpolator,\n",
    "                                             bz_interpolator], mesh_wo_edges, bias=2e-2)\n",
    "\n",
    "    temperature = scalar_on_mesh(te_interpolator, mesh_wo_edges)\n",
    "    density = scalar_on_mesh(n_interpolator, mesh_wo_edges)\n",
    "\n",
    "    current = np.asarray(current)\n",
    "    density = np.asarray(density)\n",
    "    b_field_norm = np.asarray(b_field_norm)\n",
    "\n",
    "    density = boxcar_filter_quantity_mesh(density, filter_width)\n",
    "\n",
    "    for direction in xrange(len(current)):\n",
    "        current[direction] = boxcar_filter_quantity_mesh(current[direction], filter_width)\n",
    "\n",
    "    density_constant = 1e18*np.ones(density.shape)\n",
    "        \n",
    "    ion_velocity_term_1 = calc_ion_velocity_term_1(current, density, q_e)\n",
    "    ion_velocity_term_1_constant_density = calc_ion_velocity_term_1(current, density_constant, q_e)\n",
    "    ion_velocity_term_2 = calc_ion_velocity_term_2(b_field_norm, alpha)\n",
    "\n",
    "    ion_vorticity_term_1 = calc_ion_vorticity_term_1(current, density, q_e, mesh_wo_edges)\n",
    "    ion_vorticity_term_1_constant_density = calc_ion_vorticity_term_1(current, density_constant, q_e, mesh_wo_edges)\n",
    "    ion_vorticity_term_2 = calc_ion_vorticity_term_2(b_field_norm, alpha)\n",
    "\n",
    "    for direction in xrange(len(ion_vorticity_term_1)):\n",
    "        ion_vorticity_term_1[direction] = boxcar_filter_quantity_mesh(ion_vorticity_term_1[direction], filter_width)\n",
    "        ion_vorticity_term_1_constant_density[direction] = boxcar_filter_quantity_mesh(ion_vorticity_term_1_constant_density[direction], filter_width)\n",
    "        ion_vorticity_term_2[direction] = boxcar_filter_quantity_mesh(ion_vorticity_term_2[direction], filter_width)\n",
    "\n",
    "    \n",
    "        \n",
    "    fields = (list(b_field) + list(b_field_norm) + list(current) + \n",
    "              [density] + [temperature] +\n",
    "              list(ion_velocity_term_1) + list(ion_velocity_term_2) +\n",
    "              list(ion_vorticity_term_1) + list(ion_vorticity_term_2) +\n",
    "              list(ion_velocity_term_1_constant_density) +\n",
    "              list(ion_vorticity_term_1_constant_density)\n",
    "              [ones])\n",
    "\n",
    "    numpy_archive_name = out_dir + 'Bdot_triple_probe_quantities' + str(time_point).zfill(4) + '.npz'\n",
    "    save_to_numpy_mesh(mesh_wo_edges, fields, quantity_names, filename)    \n",
    "    \n",
    "    x, y, z, variables = prepare_for_rectilinear_grid(mesh_wo_edges, fields,\n",
    "                                                      quantity_names)\n",
    "\n",
    "    write_fields_and_currents_to_structured_mesh(now, 'Bdot_triple_probe_quantities', x, y, z, variables, time_point)"
   ]
  },
  {
   "cell_type": "code",
   "execution_count": 69,
   "metadata": {
    "collapsed": false
   },
   "outputs": [
    {
     "name": "stdout",
     "output_type": "stream",
     "text": [
      "density between 7.18761714797e+19 1.26165033215e+17 7.67230104918e+18\n",
      "abs density between 7.18761714797e+19 1.26165033215e+17 7.67230104918e+18\n",
      "charge 1.6021766208e-19\n",
      "current x between 1445823.091 -664716.029921 287.957349552\n",
      "current y between 1715203.22622 -1893650.19427 -3720.90718255\n",
      "current z between 3060044.45744 -2740383.91419 -28779.1816356\n",
      "denominator between 11.5158321537 0.020213866658 1.22923813687\n",
      "abs denominator between 11.5158321537 0.020213866658 1.22923813687\n",
      "term x between 13140771.3648 -4042828.16287 1798.77853144\n",
      "term y between 8944163.4699 -8274999.82743 -4840.150886\n",
      "term z between 7991128.24954 -7980696.62142 -10766.3934199\n"
     ]
    }
   ],
   "source": [
    "print 'density between', density.max(), density.min(), density.mean()\n",
    "print 'abs density between', np.abs(density).max(), np.abs(density).min(), np.abs(density).mean()\n",
    "print 'charge', q_e\n",
    "print 'current x between', current[0].max(), current[0].min(), current[0].mean()\n",
    "print 'current y between', current[1].max(), current[1].min(), current[1].mean()\n",
    "print 'current z between', current[2].max(), current[2].min(), current[2].mean()\n",
    "denominator = density*q_e\n",
    "print 'denominator between', denominator.max(), denominator.min(), denominator.mean()\n",
    "print 'abs denominator between', np.abs(denominator).max(), np.abs(denominator).min(), np.abs(denominator).mean()\n",
    "term = [current[0]/denominator,\n",
    "        current[1]/denominator,\n",
    "        current[2]/denominator]\n",
    "print 'term x between', term[0].max(), term[0].min(), term[0].mean()\n",
    "print 'term y between', term[1].max(), term[1].min(), term[1].mean()\n",
    "print 'term z between', term[2].max(), term[2].min(), term[2].mean()"
   ]
  }
 ],
 "metadata": {
  "kernelspec": {
   "display_name": "Python 2",
   "language": "python",
   "name": "python2"
  },
  "language_info": {
   "codemirror_mode": {
    "name": "ipython",
    "version": 2
   },
   "file_extension": ".py",
   "mimetype": "text/x-python",
   "name": "python",
   "nbconvert_exporter": "python",
   "pygments_lexer": "ipython2",
   "version": "2.7.11"
  }
 },
 "nbformat": 4,
 "nbformat_minor": 0
}
