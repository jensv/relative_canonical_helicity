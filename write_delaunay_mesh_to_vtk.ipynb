{
 "cells": [
  {
   "cell_type": "code",
   "execution_count": 9,
   "metadata": {
    "collapsed": false
   },
   "outputs": [],
   "source": [
    "import numpy as np\n",
    "from scipy.spatial import Delaunay\n",
    "from scipy.interpolate import LinearNDInterpolator\n",
    "from scipy.constants import mu_0\n",
    "from scipy.constants import elementary_charge as q_e\n",
    "from astropy.convolution import convolve, convolve_fft\n",
    "from scipy.signal import fftconvolve\n",
    "\n",
    "from datetime import date\n",
    "from datetime import datetime\n",
    "import visit_writer\n",
    "\n",
    "import structured_3d_vtk as struc_3d\n",
    "reload(struc_3d)\n",
    "\n",
    "%matplotlib inline\n",
    "import matplotlib.pyplot as plt\n",
    "\n",
    "import seaborn as sns\n",
    "sns.set_style('white')\n",
    "\n",
    "import os"
   ]
  },
  {
   "cell_type": "code",
   "execution_count": 14,
   "metadata": {
    "collapsed": false
   },
   "outputs": [],
   "source": [
    "now = datetime.now().strftime(\"%Y-%m-%d-%H-%M\")\n",
    "out_dir = '../output/' + now\n",
    "try:\n",
    "    os.makedirs(out_dir)\n",
    "except:\n",
    "    pass"
   ]
  },
  {
   "cell_type": "code",
   "execution_count": 15,
   "metadata": {
    "collapsed": false
   },
   "outputs": [
    {
     "data": {
      "text/plain": [
       "u'/Users/vonderlinden2/rsx_analysis/writing_to_vtk/source'"
      ]
     },
     "execution_count": 15,
     "metadata": {},
     "output_type": "execute_result"
    }
   ],
   "source": [
    "pwd"
   ]
  },
  {
   "cell_type": "markdown",
   "metadata": {},
   "source": [
    "# Define functions"
   ]
  },
  {
   "cell_type": "code",
   "execution_count": 133,
   "metadata": {
    "collapsed": true
   },
   "outputs": [],
   "source": [
    "def prepare_idl_quantity(name, planes, bounds=None):\n",
    "    r\"\"\"\n",
    "    \"\"\"\n",
    "    measurements = struc_3d.read_idl(name)\n",
    "    if bounds:\n",
    "        measurements = struc_3d.remove_points_out_of_bounds(measurements, \n",
    "                                                            bounds[0], bounds[1], planes)\n",
    "    for plane in planes:\n",
    "        measurements[plane] = struc_3d.average_duplicate_points(measurements[plane])\n",
    "    return measurements"
   ]
  },
  {
   "cell_type": "code",
   "execution_count": 134,
   "metadata": {
    "collapsed": true
   },
   "outputs": [],
   "source": [
    "def combine_all_planes(measurements, planes):\n",
    "    r\"\"\"\n",
    "    \"\"\"\n",
    "    all_planes = dict(measurements[planes[0]])\n",
    "    all_planes['z_out'] = planes[0]*np.ones(all_planes['x_out'].size) \n",
    "    for plane in planes[1:]:\n",
    "        for key in ['x_out', 'y_out']:\n",
    "            all_planes[key] = np.concatenate((all_planes[key], \n",
    "                                              measurements[plane][key]))\n",
    "        all_planes['z_out'] = np.concatenate((all_planes['z_out'],\n",
    "                                              plane*np.ones(measurements[plane]['x_out'].size)))\n",
    "        for key in ['std', 'a_out']:\n",
    "            for time_point in xrange(measurements[plane]['delays'].size):\n",
    "                all_planes[key][time_point] = np.concatenate((all_planes[key][time_point], \n",
    "                                                              measurements[plane][key][time_point]))\n",
    "    return all_planes"
   ]
  },
  {
   "cell_type": "code",
   "execution_count": 135,
   "metadata": {
    "collapsed": false
   },
   "outputs": [],
   "source": [
    "def remove_points_outside_convex(measurements,\n",
    "                                 x_min= -0.025, x_max=0.025,\n",
    "                                 y_min=-0.016, y_max=0.017,\n",
    "                                 z_min=0.249, z_max=0.416):\n",
    "    r\"\"\"\n",
    "    \"\"\"\n",
    "    points = np.dstack((measurements['x_out'], \n",
    "                        measurements['y_out'], \n",
    "                        measurements['z_out']))[0]\n",
    "    outside_convex_volume = np.where(np.logical_or.reduce((points[:, 0] < x_min, \n",
    "                                                           points[:, 0] > x_max, \n",
    "                                                           points[:, 1] < y_min,\n",
    "                                                           points[:, 1] > y_max,\n",
    "                                                           points[:, 2] < z_min,\n",
    "                                                           points[:, 2] > z_max)))[0]\n",
    "    for key in ['x_out', 'y_out', 'z_out']:\n",
    "        measurements[key] = np.delete(measurements[key], \n",
    "                                      outside_convex_volume)\n",
    "    for key in ['std', 'a_out']:\n",
    "        for time_point in xrange(measurements['delays'].size):\n",
    "            measurements[key][time_point] = np.delete(measurements[key][time_point], \n",
    "                                                      outside_convex_volume)\n",
    "    return measurements"
   ]
  },
  {
   "cell_type": "code",
   "execution_count": 136,
   "metadata": {
    "collapsed": false
   },
   "outputs": [],
   "source": [
    "def prepare_for_unstructured_vtk(measurements, quantity_name):\n",
    "    r\"\"\"\n",
    "    \"\"\"\n",
    "    points = np.dstack((measurements['x_out'], \n",
    "                        measurements['y_out'], \n",
    "                        measurements['z_out']))[0]\n",
    "    triangulation = Delaunay(points)\n",
    "    points = tuple(points.ravel())\n",
    "    connectivity = tuple([(visit_writer.tetrahedron, int(simplex[0]), \n",
    "                           int(simplex[1]), int(simplex[2]), int(simplex[3])) \n",
    "                           for simplex in triangulation.simplices])\n",
    "    variables_all_time = []\n",
    "    for time_point in xrange(measurements['delays'].size):\n",
    "        variables = ((quantity_name, 1, 1, tuple(measurements['a_out'][time_point])),)\n",
    "        variables_all_time.append(variables)\n",
    "    return points, connectivity, variables_all_time"
   ]
  },
  {
   "cell_type": "code",
   "execution_count": 137,
   "metadata": {
    "collapsed": true
   },
   "outputs": [],
   "source": [
    "def give_delaunay_and_interpolator(measurements):\n",
    "    r\"\"\"\n",
    "    \"\"\"\n",
    "    points = np.dstack((measurements['x_out'], \n",
    "                        measurements['y_out'], \n",
    "                        measurements['z_out']))[0]\n",
    "    triangulation = Delaunay(points)\n",
    "    interpolators = []\n",
    "    for time_point in xrange(measurements['delays'].size):\n",
    "        interpolators.append(LinearNDInterpolator(points, measurements['a_out'][time_point]))\n",
    "    return triangulation, interpolators"
   ]
  },
  {
   "cell_type": "code",
   "execution_count": 138,
   "metadata": {
    "collapsed": false
   },
   "outputs": [],
   "source": [
    "def write_all_time_unstructured(file_prefix, points, connectivity, variables_all_time):\n",
    "    r\"\"\"\n",
    "    \"\"\"\n",
    "    for time_point in xrange(len(variables_all_time)):\n",
    "        path = file_prefix + str(time_point).zfill(4)\n",
    "        visit_writer.WriteUnstructuredMesh(path, 1, points,\n",
    "                                           connectivity, \n",
    "                                           variables_all_time[time_point])"
   ]
  },
  {
   "cell_type": "code",
   "execution_count": 139,
   "metadata": {
    "collapsed": false
   },
   "outputs": [],
   "source": [
    "def save_idl_quantity_to_unstructured_grids(idl_quantity_name,\n",
    "                                            visit_quantity_name,\n",
    "                                            date, \n",
    "                                            planes=[0.249, 0.302, 0.357, 0.416],\n",
    "                                            file_name_descriptor='_all_planes_convex_unstructured_grid_',\n",
    "                                            x_min= -0.021, x_max=0.014,\n",
    "                                            y_min=-0.016, y_max=0.017,\n",
    "                                            z_min=0.249, z_max=0.416,\n",
    "                                            bounds=None):\n",
    "    r\"\"\"\n",
    "    \"\"\"\n",
    "    file_prefix = '../output/' + date + '/' + visit_quantity_name + file_name_descriptor\n",
    "    measurements = prepare_idl_quantity(idl_quantity_name, planes, bounds=bounds)\n",
    "    all_planes = combine_all_planes(measurements, planes) \n",
    "    all_planes = remove_points_outside_convex(all_planes, \n",
    "                                              x_min=x_min, x_max=x_max,\n",
    "                                              y_min=y_min, y_max=y_max,\n",
    "                                              z_min=z_min, z_max=z_max)\n",
    "    assert len(all_planes['x_out']) == len(all_planes['y_out']) == len(all_planes['z_out'])\n",
    "    (points, \n",
    "     connectivity, \n",
    "     variables_all_time) = prepare_for_unstructured_vtk(all_planes, visit_quantity_name)\n",
    "    assert len(points) == len(all_planes['x_out'])*3\n",
    "    assert len(variables_all_time[0][0][3]) == len(all_planes['x_out'])\n",
    "    write_all_time_unstructured(file_prefix, points, \n",
    "                                connectivity, variables_all_time)\n",
    "    return all_planes "
   ]
  },
  {
   "cell_type": "code",
   "execution_count": 140,
   "metadata": {
    "collapsed": true
   },
   "outputs": [],
   "source": [
    "def triangulate_derivatives(mesh, triangulation, interpolators, increment=0.00001):\n",
    "    r\"\"\"\n",
    "    \"\"\"\n",
    "    derivative_meshes = []\n",
    "    for time_point in xrange(len(interpolators)):\n",
    "        print time_point\n",
    "        interpolator = interpolators[time_point]\n",
    "        d_dx_mesh = np.zeros(mesh[0].shape)\n",
    "        d_dy_mesh = np.zeros(mesh[0].shape)\n",
    "        d_dz_mesh = np.zeros(mesh[0].shape)\n",
    "        points = np.dstack((mesh[0].ravel(),\n",
    "                            mesh[1].ravel(),\n",
    "                            mesh[2].ravel()))\n",
    "        values = interpolator(points)\n",
    "        d_dx = (interpolator(points + np.asarray([increment, 0, 0])) - values) / increment\n",
    "        d_dy = (interpolator(points + np.asarray([0, increment, 0])) - values) / increment\n",
    "        d_dz = (interpolator(points + np.asarray([0, 0, increment])) - values) / increment\n",
    "        d_dx_mesh = d_dx.reshape(mesh[0].shape)\n",
    "        d_dy_mesh = d_dy.reshape(mesh[0].shape)\n",
    "        d_dz_mesh = d_dz.reshape(mesh[0].shape)\n",
    "        derivative_meshes.append([d_dx_mesh, d_dy_mesh, d_dz_mesh])\n",
    "    return derivative_meshes"
   ]
  },
  {
   "cell_type": "code",
   "execution_count": 141,
   "metadata": {
    "collapsed": true
   },
   "outputs": [],
   "source": [
    "def remove_edges_derivative_meshes(derivative_meshes,\n",
    "                                   x_start=2, x_end=None, \n",
    "                                   y_start=0, y_end=-2, \n",
    "                                   z_start=0, z_end=-1):\n",
    "    r\"\"\"\n",
    "    \"\"\"\n",
    "    for time_point in xrange(len(derivative_meshes)):\n",
    "        for index in xrange(len(derivative_meshes[time_point])):\n",
    "            derivative_meshes[time_point][index] = derivative_meshes[time_point][index][y_start:y_end, x_start:x_end, z_start:z_end]\n",
    "    return derivative_meshes"
   ]
  },
  {
   "cell_type": "code",
   "execution_count": 142,
   "metadata": {
    "collapsed": true
   },
   "outputs": [],
   "source": [
    "def remove_edges_vector_quantity_meshes(quantity_meshes,\n",
    "                                        x_start=2, x_end=None, \n",
    "                                        y_start=0, y_end=-2, \n",
    "                                        z_start=0, z_end=-1):\n",
    "    r\"\"\"\n",
    "    \"\"\"\n",
    "    for index in xrange(len(quantity_meshes)):\n",
    "        for time_point in xrange(len(quantity_meshes[index])):\n",
    "            quantity_meshes[index][time_point] = quantity_meshes[index][time_point][y_start:y_end, x_start:x_end, z_start:z_end]\n",
    "    return quantity_meshes"
   ]
  },
  {
   "cell_type": "code",
   "execution_count": 143,
   "metadata": {
    "collapsed": true
   },
   "outputs": [],
   "source": [
    "def remove_edges_scalar_quantity_meshes(quantity_meshes,\n",
    "                                        x_start=2, x_end=None, \n",
    "                                        y_start=0, y_end=-2, \n",
    "                                        z_start=0, z_end=-1):\n",
    "    r\"\"\"\n",
    "    \"\"\"\n",
    "    for time_point in xrange(len(quantity_meshes)):\n",
    "        quantity_meshes[time_point] = quantity_meshes[time_point][y_start:y_end, x_start:x_end, z_start:z_end]\n",
    "    return quantity_meshes"
   ]
  },
  {
   "cell_type": "code",
   "execution_count": 144,
   "metadata": {
    "collapsed": true
   },
   "outputs": [],
   "source": [
    "def remove_edges_mesh(mesh,\n",
    "                      x_start=2, x_end=None, \n",
    "                      y_start=0, y_end=-2, \n",
    "                      z_start=0, z_end=-1):\n",
    "    r\"\"\"\n",
    "    \"\"\"\n",
    "    for index in xrange(len(mesh)):\n",
    "        mesh[index] = mesh[index][y_start:y_end, x_start:x_end, z_start:z_end]\n",
    "    return mesh"
   ]
  },
  {
   "cell_type": "code",
   "execution_count": 145,
   "metadata": {
    "collapsed": false
   },
   "outputs": [],
   "source": [
    "def prepare_for_rectilinear_grid(mesh, quantities, quantity_names):\n",
    "    r\"\"\"\n",
    "    \"\"\"\n",
    "    x = tuple(np.unique(mesh[0]))\n",
    "    y = tuple(np.unique(mesh[1]))\n",
    "    z = tuple(np.unique(mesh[2]))\n",
    "    variables_all_time = []\n",
    "    for time_point in xrange(len(quantities[0])):\n",
    "        variables = [(quantity_names[index], 1, 1, \n",
    "                      tuple(np.swapaxes(np.swapaxes(quantities[index][time_point], 1, 2), 0, 1).ravel()))\n",
    "                     for index in xrange(len(quantities))]\n",
    "        variables_all_time.append(variables)\n",
    "    return x, y, z, variables_all_time"
   ]
  },
  {
   "cell_type": "code",
   "execution_count": 146,
   "metadata": {
    "collapsed": true
   },
   "outputs": [],
   "source": [
    "def current_on_mesh(derivative_meshes_all_directions, mu_0=1.2566e-6):\n",
    "    r\"\"\"\n",
    "    \"\"\"\n",
    "    j_field_x = [] \n",
    "    j_field_y = []\n",
    "    j_field_z = []\n",
    "    for time_point in xrange(len(derivative_meshes_all_directions[0])):\n",
    "        dBx_dy = derivative_meshes_all_directions[0][time_point][1]\n",
    "        dBx_dz = derivative_meshes_all_directions[0][time_point][2]\n",
    "        dBy_dx = derivative_meshes_all_directions[1][time_point][0]\n",
    "        dBy_dz = derivative_meshes_all_directions[1][time_point][2]\n",
    "        dBz_dx = derivative_meshes_all_directions[2][time_point][0]\n",
    "        dBz_dy = derivative_meshes_all_directions[2][time_point][1]\n",
    "        j_x = 1./(mu_0) * (dBz_dy - dBy_dz)\n",
    "        j_y = 1./(mu_0) * (dBx_dz - dBz_dx)\n",
    "        j_z = 1./(mu_0) * (dBy_dx - dBx_dy)\n",
    "        j_field_x.append(j_x)\n",
    "        j_field_y.append(j_y)\n",
    "        j_field_z.append(j_z)\n",
    "    current = [j_field_x, j_field_y, j_field_z]    \n",
    "    return current"
   ]
  },
  {
   "cell_type": "code",
   "execution_count": 147,
   "metadata": {
    "collapsed": true
   },
   "outputs": [],
   "source": [
    "def b_field_on_mesh(interpolators_all_directions, mesh, bias=2e-2):\n",
    "    r\"\"\"\n",
    "    \"\"\"\n",
    "    shape = mesh[0].shape\n",
    "    points = np.swapaxes(np.asarray([mesh[0].ravel(), mesh[1].ravel(), mesh[2].ravel()]), 0, 1)\n",
    "    b_field_x = []\n",
    "    b_field_y = []\n",
    "    b_field_z = []\n",
    "    b_field_norm_x = []\n",
    "    b_field_norm_y = []\n",
    "    b_field_norm_z = []\n",
    "    for time_point in xrange(len(interpolators_all_directions[0])):        \n",
    "        b_x = interpolators_all_directions[0][time_point](points)  \n",
    "        b_y = interpolators_all_directions[1][time_point](points)\n",
    "        b_z = interpolators_all_directions[2][time_point](points)\n",
    "        b_x.resize(shape)\n",
    "        b_y.resize(shape)\n",
    "        b_z.resize(shape)\n",
    "        b_z += bias \n",
    "        b_x_norm = b_x / np.sqrt(b_x**2. + b_y**2. + b_z**2.)\n",
    "        b_y_norm = b_y / np.sqrt(b_x**2. + b_y**2. + b_z**2.)\n",
    "        b_z_norm = b_z / np.sqrt(b_x**2. + b_y**2. + b_z**2.)    \n",
    "        b_field_x.append(b_x)\n",
    "        b_field_y.append(b_y)\n",
    "        b_field_z.append(b_z)\n",
    "        b_field_norm_x.append(b_x_norm)\n",
    "        b_field_norm_y.append(b_y_norm)\n",
    "        b_field_norm_z.append(b_z_norm)\n",
    "    b_field = [b_field_x, b_field_y, b_field_z]\n",
    "    b_field_norm = [b_field_norm_x, b_field_norm_y, b_field_norm_z]\n",
    "    return b_field, b_field_norm"
   ]
  },
  {
   "cell_type": "code",
   "execution_count": 148,
   "metadata": {
    "collapsed": true
   },
   "outputs": [],
   "source": [
    "def scalar_on_mesh(interpolators, mesh):\n",
    "    r\"\"\"\n",
    "    \"\"\"\n",
    "    shape = mesh[0].shape\n",
    "    points = np.swapaxes(np.asarray([mesh[0].ravel(), mesh[1].ravel(), mesh[2].ravel()]), 0, 1)\n",
    "    scalar_all_times = []\n",
    "    for time_point in xrange(len(interpolators)):\n",
    "        scalar = interpolators[time_point](points)\n",
    "        scalar.resize(shape)\n",
    "        scalar_all_times.append(scalar)\n",
    "    return scalar_all_times"
   ]
  },
  {
   "cell_type": "code",
   "execution_count": 149,
   "metadata": {
    "collapsed": true
   },
   "outputs": [],
   "source": [
    "def write_fields_and_currents_to_structured_mesh(date, visit_file_name, \n",
    "                                                 x, y, z, data):\n",
    "    r\"\"\"\n",
    "    \"\"\"\n",
    "    file_prefix = '../output/' + date + '/' + visit_file_name\n",
    "    for time_point in xrange(len(data)):\n",
    "        print time_point\n",
    "        path = file_prefix + str(time_point).zfill(4)  \n",
    "        visit_writer.WriteRectilinearMesh(path, 1, x, y, z, \n",
    "                                          data[time_point])"
   ]
  },
  {
   "cell_type": "code",
   "execution_count": 150,
   "metadata": {
    "collapsed": true
   },
   "outputs": [],
   "source": [
    "def bdot_probe_extent():\n",
    "    r\"\"\"\n",
    "    \"\"\"\n",
    "    x_min = -0.026\n",
    "    x_max = 0.024\n",
    "    y_min = -0.02 \n",
    "    y_max = 0.028\n",
    "    z_min = 0.249 \n",
    "    z_max = 0.416\n",
    "    return x_min, x_max, y_min, y_max, z_min, z_max\n",
    "\n",
    "def joint_extent():\n",
    "    r\"\"\"\n",
    "    \"\"\"\n",
    "    x_min = -0.022\n",
    "    x_max = 0.024\n",
    "    y_min = -0.02 \n",
    "    y_max = 0.024\n",
    "    z_min = 0.249 \n",
    "    z_max = 0.416\n",
    "    return x_min, x_max, y_min, y_max, z_min, z_max"
   ]
  },
  {
   "cell_type": "code",
   "execution_count": 151,
   "metadata": {
    "collapsed": false
   },
   "outputs": [],
   "source": [
    "def calc_ion_velocity_term_1(current, density, charge):\n",
    "    r\"\"\"\n",
    "    \"\"\"\n",
    "    denominator = density*charge\n",
    "    term = [current[0]/denominator,\n",
    "            current[1]/denominator,\n",
    "            current[2]/denominator]\n",
    "    return term"
   ]
  },
  {
   "cell_type": "code",
   "execution_count": 152,
   "metadata": {
    "collapsed": true
   },
   "outputs": [],
   "source": [
    "def calc_ion_velocity_term_2(b_field_norm, alpha):\n",
    "    r\"\"\"\n",
    "    \"\"\"\n",
    "    return alpha*b_field_norm"
   ]
  },
  {
   "cell_type": "code",
   "execution_count": 153,
   "metadata": {
    "collapsed": true
   },
   "outputs": [],
   "source": [
    "def curl_on_mesh(quantity, mesh):\n",
    "    r\"\"\"\n",
    "    \"\"\"\n",
    "    dx = mesh[0][0, 1, 0] - mesh[0][0, 0, 0]\n",
    "    dy = mesh[1][1, 0, 0] - mesh[1][0, 0, 0]\n",
    "    dz = mesh[2][0, 0, 1] - mesh[2][0, 0, 0]\n",
    "    dx_dy = np.gradient(quantity[0], axis=2)/dy\n",
    "    dx_dz = np.gradient(quantity[0], axis=3)/dz\n",
    "    dy_dx = np.gradient(quantity[1], axis=1)/dx\n",
    "    dy_dz = np.gradient(quantity[1], axis=3)/dz\n",
    "    dz_dx = np.gradient(quantity[2], axis=1)/dx\n",
    "    dz_dy = np.gradient(quantity[2], axis=2)/dy\n",
    "    curl_x = dz_dy - dy_dz\n",
    "    curl_y = dx_dz - dz_dx\n",
    "    curl_z = dy_dx - dx_dy\n",
    "    return curl_x, curl_y, curl_z"
   ]
  },
  {
   "cell_type": "code",
   "execution_count": 154,
   "metadata": {
    "collapsed": true
   },
   "outputs": [],
   "source": [
    "def calc_ion_vorticity_term_1(current, density, charge, mesh, filt=None):\n",
    "    r\"\"\"\n",
    "    \"\"\"\n",
    "    return curl_on_mesh(calc_ion_velocity_term_1(current, density, charge), mesh)"
   ]
  },
  {
   "cell_type": "code",
   "execution_count": 155,
   "metadata": {
    "collapsed": true
   },
   "outputs": [],
   "source": [
    "def calc_ion_vorticity_term_2(b_field_norm, alpha):\n",
    "    r\"\"\"\n",
    "    \"\"\"\n",
    "    return curl_on_mesh(calc_ion_velocity_term_2(b_field_norm, alpha), mesh)"
   ]
  },
  {
   "cell_type": "code",
   "execution_count": 165,
   "metadata": {
    "collapsed": true
   },
   "outputs": [],
   "source": [
    "def boxcar_filter_quantity_mesh(quantity, width):\n",
    "    r\"\"\"\n",
    "    \"\"\"\n",
    "    nan_indexes = np.where(np.isnan(quantity))\n",
    "    quantity[nan_indexes] = 0\n",
    "    boxcar = np.ones((width, width, width))\n",
    "    boxcar /= boxcar.sum()\n",
    "    return fftconvolve(quantity, boxcar, mode='same')"
   ]
  },
  {
   "cell_type": "markdown",
   "metadata": {},
   "source": [
    "# Write all idl quantities to files"
   ]
  },
  {
   "cell_type": "code",
   "execution_count": 166,
   "metadata": {
    "collapsed": false
   },
   "outputs": [],
   "source": [
    "bx_all_planes = save_idl_quantity_to_unstructured_grids('bx', 'B_x', '2016-07-26',\n",
    "                                                        x_min=-0.032, x_max=0.028,\n",
    "                                                        y_min=-0.022, y_max=0.032, \n",
    "                                                        z_min=0.249, z_max=0.416)\n",
    "\n"
   ]
  },
  {
   "cell_type": "code",
   "execution_count": 167,
   "metadata": {
    "collapsed": false
   },
   "outputs": [],
   "source": [
    "by_all_planes = save_idl_quantity_to_unstructured_grids('by', 'B_y', '2016-07-26',\n",
    "                                                        x_min=-0.032, x_max=0.028,\n",
    "                                                        y_min=-0.022, y_max=0.032, \n",
    "                                                        z_min=0.249, z_max=0.416)\n"
   ]
  },
  {
   "cell_type": "code",
   "execution_count": 168,
   "metadata": {
    "collapsed": false
   },
   "outputs": [],
   "source": [
    "bz_all_planes = save_idl_quantity_to_unstructured_grids('bz', 'B_z', '2016-07-26',\n",
    "                                                        x_min=-0.032, x_max=0.028,\n",
    "                                                        y_min=-0.022, y_max=0.032, \n",
    "                                                        z_min=0.249, z_max=0.416)\n"
   ]
  },
  {
   "cell_type": "code",
   "execution_count": 169,
   "metadata": {
    "collapsed": false
   },
   "outputs": [],
   "source": [
    "te_all_planes = save_idl_quantity_to_unstructured_grids('te', 'T_e', '2016-07-26', \n",
    "                                                        x_min=-0.026, x_max=0.028,\n",
    "                                                        y_min=-0.03, y_max=0.028, \n",
    "                                                        z_min=0.249, z_max=0.416,\n",
    "                                                        bounds=(1e-3, 1e3))\n"
   ]
  },
  {
   "cell_type": "code",
   "execution_count": 170,
   "metadata": {
    "collapsed": false
   },
   "outputs": [],
   "source": [
    "n_all_planes = save_idl_quantity_to_unstructured_grids('n', 'n', '2016-07-26',\n",
    "                                                       x_min=-0.026, x_max=0.028,\n",
    "                                                       y_min=-0.03, y_max=0.028, \n",
    "                                                       z_min=0.249, z_max=0.416,\n",
    "                                                       bounds=(1e3, 1e22))\n"
   ]
  },
  {
   "cell_type": "markdown",
   "metadata": {},
   "source": [
    "# Determine derivatives and write to files"
   ]
  },
  {
   "cell_type": "code",
   "execution_count": 171,
   "metadata": {
    "collapsed": false
   },
   "outputs": [],
   "source": [
    "bx_triangulation, bx_interpolators = give_delaunay_and_interpolator(bx_all_planes)\n",
    "by_triangulation, by_interpolators = give_delaunay_and_interpolator(by_all_planes)\n",
    "bz_triangulation, bz_interpolators = give_delaunay_and_interpolator(bz_all_planes)\n",
    "te_triangulation, te_interpolators = give_delaunay_and_interpolator(te_all_planes)\n",
    "n_triangulation, n_interpolators = give_delaunay_and_interpolator(n_all_planes)"
   ]
  },
  {
   "cell_type": "markdown",
   "metadata": {},
   "source": [
    "# Bdot quantities interpolation"
   ]
  },
  {
   "cell_type": "code",
   "execution_count": 82,
   "metadata": {
    "collapsed": false,
    "scrolled": true
   },
   "outputs": [
    {
     "name": "stdout",
     "output_type": "stream",
     "text": [
      "0\n",
      "1\n",
      "2\n",
      "3\n",
      "4\n",
      "5\n",
      "6\n",
      "7\n",
      "8\n",
      "9\n",
      "10\n",
      "11\n",
      "12\n"
     ]
    },
    {
     "ename": "KeyboardInterrupt",
     "evalue": "",
     "output_type": "error",
     "traceback": [
      "\u001b[0;31m---------------------------------------------------------------------------\u001b[0m",
      "\u001b[0;31mKeyboardInterrupt\u001b[0m                         Traceback (most recent call last)",
      "\u001b[0;32m<ipython-input-82-e8763d0d808c>\u001b[0m in \u001b[0;36m<module>\u001b[0;34m()\u001b[0m\n\u001b[1;32m     11\u001b[0m \u001b[0;34m\u001b[0m\u001b[0m\n\u001b[1;32m     12\u001b[0m bx_derivative_meshes = triangulate_derivatives(mesh, bx_triangulation, bx_interpolators, \n\u001b[0;32m---> 13\u001b[0;31m                                                increment=0.0000001)\n\u001b[0m\u001b[1;32m     14\u001b[0m \u001b[0mbx_derivative_meshes\u001b[0m \u001b[0;34m=\u001b[0m \u001b[0mremove_edges_derivative_meshes\u001b[0m\u001b[0;34m(\u001b[0m\u001b[0mbx_derivative_meshes\u001b[0m\u001b[0;34m)\u001b[0m\u001b[0;34m\u001b[0m\u001b[0m\n\u001b[1;32m     15\u001b[0m by_derivative_meshes = triangulate_derivatives(mesh, by_triangulation, by_interpolators, \n",
      "\u001b[0;32m<ipython-input-9-1737d814d892>\u001b[0m in \u001b[0;36mtriangulate_derivatives\u001b[0;34m(mesh, triangulation, interpolators, increment)\u001b[0m\n\u001b[1;32m     14\u001b[0m         \u001b[0mvalues\u001b[0m \u001b[0;34m=\u001b[0m \u001b[0minterpolator\u001b[0m\u001b[0;34m(\u001b[0m\u001b[0mpoints\u001b[0m\u001b[0;34m)\u001b[0m\u001b[0;34m\u001b[0m\u001b[0m\n\u001b[1;32m     15\u001b[0m         \u001b[0md_dx\u001b[0m \u001b[0;34m=\u001b[0m \u001b[0;34m(\u001b[0m\u001b[0minterpolator\u001b[0m\u001b[0;34m(\u001b[0m\u001b[0mpoints\u001b[0m \u001b[0;34m+\u001b[0m \u001b[0mnp\u001b[0m\u001b[0;34m.\u001b[0m\u001b[0masarray\u001b[0m\u001b[0;34m(\u001b[0m\u001b[0;34m[\u001b[0m\u001b[0mincrement\u001b[0m\u001b[0;34m,\u001b[0m \u001b[0;36m0\u001b[0m\u001b[0;34m,\u001b[0m \u001b[0;36m0\u001b[0m\u001b[0;34m]\u001b[0m\u001b[0;34m)\u001b[0m\u001b[0;34m)\u001b[0m \u001b[0;34m-\u001b[0m \u001b[0mvalues\u001b[0m\u001b[0;34m)\u001b[0m \u001b[0;34m/\u001b[0m \u001b[0mincrement\u001b[0m\u001b[0;34m\u001b[0m\u001b[0m\n\u001b[0;32m---> 16\u001b[0;31m         \u001b[0md_dy\u001b[0m \u001b[0;34m=\u001b[0m \u001b[0;34m(\u001b[0m\u001b[0minterpolator\u001b[0m\u001b[0;34m(\u001b[0m\u001b[0mpoints\u001b[0m \u001b[0;34m+\u001b[0m \u001b[0mnp\u001b[0m\u001b[0;34m.\u001b[0m\u001b[0masarray\u001b[0m\u001b[0;34m(\u001b[0m\u001b[0;34m[\u001b[0m\u001b[0;36m0\u001b[0m\u001b[0;34m,\u001b[0m \u001b[0mincrement\u001b[0m\u001b[0;34m,\u001b[0m \u001b[0;36m0\u001b[0m\u001b[0;34m]\u001b[0m\u001b[0;34m)\u001b[0m\u001b[0;34m)\u001b[0m \u001b[0;34m-\u001b[0m \u001b[0mvalues\u001b[0m\u001b[0;34m)\u001b[0m \u001b[0;34m/\u001b[0m \u001b[0mincrement\u001b[0m\u001b[0;34m\u001b[0m\u001b[0m\n\u001b[0m\u001b[1;32m     17\u001b[0m         \u001b[0md_dz\u001b[0m \u001b[0;34m=\u001b[0m \u001b[0;34m(\u001b[0m\u001b[0minterpolator\u001b[0m\u001b[0;34m(\u001b[0m\u001b[0mpoints\u001b[0m \u001b[0;34m+\u001b[0m \u001b[0mnp\u001b[0m\u001b[0;34m.\u001b[0m\u001b[0masarray\u001b[0m\u001b[0;34m(\u001b[0m\u001b[0;34m[\u001b[0m\u001b[0;36m0\u001b[0m\u001b[0;34m,\u001b[0m \u001b[0;36m0\u001b[0m\u001b[0;34m,\u001b[0m \u001b[0mincrement\u001b[0m\u001b[0;34m]\u001b[0m\u001b[0;34m)\u001b[0m\u001b[0;34m)\u001b[0m \u001b[0;34m-\u001b[0m \u001b[0mvalues\u001b[0m\u001b[0;34m)\u001b[0m \u001b[0;34m/\u001b[0m \u001b[0mincrement\u001b[0m\u001b[0;34m\u001b[0m\u001b[0m\n\u001b[1;32m     18\u001b[0m         \u001b[0md_dx_mesh\u001b[0m \u001b[0;34m=\u001b[0m \u001b[0md_dx\u001b[0m\u001b[0;34m.\u001b[0m\u001b[0mreshape\u001b[0m\u001b[0;34m(\u001b[0m\u001b[0mmesh\u001b[0m\u001b[0;34m[\u001b[0m\u001b[0;36m0\u001b[0m\u001b[0;34m]\u001b[0m\u001b[0;34m.\u001b[0m\u001b[0mshape\u001b[0m\u001b[0;34m)\u001b[0m\u001b[0;34m\u001b[0m\u001b[0m\n",
      "\u001b[0;32mscipy/interpolate/interpnd.pyx\u001b[0m in \u001b[0;36mscipy.interpolate.interpnd.NDInterpolatorBase.__call__ (scipy/interpolate/interpnd.c:3818)\u001b[0;34m()\u001b[0m\n",
      "\u001b[0;32m/Users/vonderlinden2/anaconda/lib/python2.7/site-packages/numpy/core/numeric.pyc\u001b[0m in \u001b[0;36masarray\u001b[0;34m(a, dtype, order)\u001b[0m\n\u001b[1;32m    412\u001b[0m \u001b[0;34m\u001b[0m\u001b[0m\n\u001b[1;32m    413\u001b[0m \u001b[0;34m\u001b[0m\u001b[0m\n\u001b[0;32m--> 414\u001b[0;31m \u001b[0;32mdef\u001b[0m \u001b[0masarray\u001b[0m\u001b[0;34m(\u001b[0m\u001b[0ma\u001b[0m\u001b[0;34m,\u001b[0m \u001b[0mdtype\u001b[0m\u001b[0;34m=\u001b[0m\u001b[0mNone\u001b[0m\u001b[0;34m,\u001b[0m \u001b[0morder\u001b[0m\u001b[0;34m=\u001b[0m\u001b[0mNone\u001b[0m\u001b[0;34m)\u001b[0m\u001b[0;34m:\u001b[0m\u001b[0;34m\u001b[0m\u001b[0m\n\u001b[0m\u001b[1;32m    415\u001b[0m     \"\"\"Convert the input to an array.\n\u001b[1;32m    416\u001b[0m \u001b[0;34m\u001b[0m\u001b[0m\n",
      "\u001b[0;31mKeyboardInterrupt\u001b[0m: "
     ]
    }
   ],
   "source": [
    "date = '2016-07-30'\n",
    "\n",
    "(x_min, x_max, \n",
    " y_min, y_max,\n",
    " z_min, z_max) = bdot_probe_extent()\n",
    "\n",
    "spatial_increment = 0.001\n",
    "mesh = np.meshgrid(np.linspace(x_min, x_max, np.ceil((x_max-x_min)/spatial_increment)),\n",
    "                   np.linspace(y_min, y_max, np.ceil((y_max-y_min)/spatial_increment)),\n",
    "                   np.linspace(z_min, z_max, np.ceil((z_max-z_min)/spatial_increment)))\n",
    "\n",
    "bx_derivative_meshes = triangulate_derivatives(mesh, bx_triangulation, bx_interpolators, \n",
    "                                               increment=0.0000001)\n",
    "bx_derivative_meshes = remove_edges_derivative_meshes(bx_derivative_meshes)\n",
    "by_derivative_meshes = triangulate_derivatives(mesh, by_triangulation, by_interpolators, \n",
    "                                               increment=0.0000001)\n",
    "by_derivative_meshes = remove_edges_derivative_meshes(by_derivative_meshes)\n",
    "bz_derivative_meshes = triangulate_derivatives(mesh, bz_triangulation, bz_interpolators, \n",
    "                                               increment=0.0000001)\n",
    "bz_derivative_meshes = remove_edges_derivative_meshes(bz_derivative_meshes)\n",
    "mesh = remove_edges_mesh(mesh)\n",
    "\n",
    "current = current_on_mesh([bx_derivative_meshes, \n",
    "                           by_derivative_meshes, \n",
    "                           bz_derivative_meshes])\n",
    "b_field, b_field_norm = b_field_on_mesh([bx_interpolators, \n",
    "                                         by_interpolators,\n",
    "                                         bz_interpolators], mesh)\n",
    "\n",
    "temperature = scalar_on_mesh(te_interpolators, mesh)\n",
    "density = scalar_on_mesh(n_interpolators, mesh)\n",
    "density = 1e18\n",
    "\n",
    "mesh = remove_edges_mesh(mesh,\n",
    "                         x_start=1, x_end=None, \n",
    "                         y_start=0, y_end=None, \n",
    "                         z_start=0, z_end=None)\n",
    "b_field = remove_edges_vector_quantity_meshes(b_field,\n",
    "                                              x_start=1, x_end=None, \n",
    "                                              y_start=0, y_end=None, \n",
    "                                              z_start=0, z_end=None)\n",
    "b_field_norm = remove_edges_vector_quantity_meshes(b_field_norm,\n",
    "                                                   x_start=1, x_end=None, \n",
    "                                                   y_start=0, y_end=None, \n",
    "                                                   z_start=0, z_end=None)\n",
    "\n",
    "current = remove_edges_vector_quantity_meshes(current,\n",
    "                                              x_start=1, x_end=None, \n",
    "                                              y_start=0, y_end=None, \n",
    "                                              z_start=0, z_end=None)\n",
    "\n",
    "fields = [b_field[0], b_field[1], b_field[2], \n",
    "          b_field_norm[0], b_field_norm[1], b_field_norm[2],\n",
    "          current[0], current[1], current[2]]\n",
    "x, y, z, variables = prepare_for_rectilinear_grid(mesh, fields,\n",
    "                                                  ['B_x', 'B_y', 'B_z',\n",
    "                                                   'B_norm_x', 'B_norm_y', 'B_norm_z',\n",
    "                                                   'j_x', 'j_y', 'j_z'])\n",
    "\n",
    "write_fields_and_currents_to_structured_mesh(date, 'b_field_and_derivatives', x, y, z, variables)"
   ]
  },
  {
   "cell_type": "markdown",
   "metadata": {},
   "source": [
    "# Joint quantities interpolation"
   ]
  },
  {
   "cell_type": "code",
   "execution_count": 172,
   "metadata": {
    "collapsed": true
   },
   "outputs": [],
   "source": [
    "filter_width = 15"
   ]
  },
  {
   "cell_type": "code",
   "execution_count": null,
   "metadata": {
    "collapsed": false,
    "scrolled": false
   },
   "outputs": [
    {
     "name": "stdout",
     "output_type": "stream",
     "text": [
      "calculate B derivative meshes\n",
      "0\n",
      "1\n",
      "2\n",
      "3\n",
      "4\n",
      "5\n",
      "6\n",
      "7\n",
      "8\n",
      "9\n",
      "10\n",
      "11\n",
      "12\n",
      "13\n",
      "14\n",
      "15\n",
      "16\n",
      "17\n",
      "18\n",
      "19\n",
      "20\n",
      "0\n",
      "1\n",
      "2\n",
      "3\n",
      "4\n",
      "5\n",
      "6\n",
      "7\n",
      "8\n",
      "9\n",
      "10\n",
      "11\n",
      "12\n",
      "13\n",
      "14\n",
      "15\n",
      "16\n",
      "17\n",
      "18\n",
      "19\n",
      "20\n",
      "0\n",
      "1\n",
      "2\n",
      "3\n",
      "4\n",
      "5\n",
      "6\n",
      "7\n",
      "8\n",
      "9\n",
      "10\n",
      "11\n",
      "12\n",
      "13\n",
      "14\n",
      "15\n",
      "16\n",
      "17\n",
      "18\n",
      "19\n",
      "20\n",
      "filter density and current\n",
      "density 0\n",
      "density 1\n",
      "density 2\n",
      "density 3\n",
      "density 4\n",
      "density 5\n",
      "density 6\n",
      "density 7\n",
      "density 8\n",
      "density 9\n",
      "density 10\n",
      "density 11\n",
      "density 12\n",
      "density 13\n",
      "density 14\n",
      "density 15\n",
      "density 16\n",
      "density 17\n",
      "density 18\n",
      "density 19\n",
      "density 20\n",
      "current 0 0\n",
      "current 0 1\n",
      "current 0 2\n",
      "current 0 3\n",
      "current 0 4\n",
      "current 0 5\n",
      "current 0 6\n",
      "current 0 7\n",
      "current 0 8\n",
      "current 0 9\n",
      "current 0 10\n",
      "current 0 11\n",
      "current 0 12\n",
      "current 0 13\n",
      "current 0 14\n",
      "current 0 15\n",
      "current 0 16\n",
      "current 0 17\n",
      "current 0 18\n",
      "current 0 19\n",
      "current 0 20\n",
      "current 1 0\n",
      "current 1 1\n",
      "current 1 2\n",
      "current 1 3\n",
      "current 1 4\n",
      "current 1 5\n",
      "current 1 6\n",
      "current 1 7\n",
      "current 1 8\n",
      "current 1 9\n",
      "current 1 10\n",
      "current 1 11\n",
      "current 1 12\n",
      "current 1 13\n",
      "current 1 14\n",
      "current 1 15\n",
      "current 1 16\n",
      "current 1 17\n",
      "current 1 18\n",
      "current 1 19\n",
      "current 1 20\n",
      "current 2 0\n",
      "current 2 1\n",
      "current 2 2\n",
      "current 2 3\n",
      "current 2 4\n",
      "current 2 5\n",
      "current 2 6\n",
      "current 2 7\n",
      "current 2 8\n",
      "current 2 9\n",
      "current 2 10\n",
      "current 2 11\n",
      "current 2 12\n",
      "current 2 13\n",
      "current 2 14\n",
      "current 2 15\n",
      "current 2 16\n",
      "current 2 17\n",
      "current 2 18\n",
      "current 2 19\n",
      "current 2 20\n",
      "filter vorticity\n"
     ]
    }
   ],
   "source": [
    "now = datetime.now().strftime(\"%Y-%m-%d-%H-%M\")\n",
    "out_dir = '../output/' + today\n",
    "try:\n",
    "    os.makedirs(output_dir)\n",
    "except:\n",
    "    pass\n",
    "\n",
    "alpha = 1\n",
    "\n",
    "(x_min, x_max, \n",
    " y_min, y_max,\n",
    " z_min, z_max) = joint_extent()\n",
    "\n",
    "spatial_increment = 0.001\n",
    "mesh = np.meshgrid(np.linspace(x_min, x_max, np.ceil((x_max-x_min)/spatial_increment)),\n",
    "                   np.linspace(y_min, y_max, np.ceil((y_max-y_min)/spatial_increment)),\n",
    "                   np.linspace(z_min, z_max, np.ceil((z_max-z_min)/spatial_increment)))\n",
    "\n",
    "print 'calculate B derivative meshes'\n",
    "bx_derivative_meshes = triangulate_derivatives(mesh, bx_triangulation, bx_interpolators, \n",
    "                                               increment=0.0000001)\n",
    "bx_derivative_meshes = remove_edges_derivative_meshes(bx_derivative_meshes)\n",
    "by_derivative_meshes = triangulate_derivatives(mesh, by_triangulation, by_interpolators, \n",
    "                                               increment=0.0000001)\n",
    "by_derivative_meshes = remove_edges_derivative_meshes(by_derivative_meshes)\n",
    "bz_derivative_meshes = triangulate_derivatives(mesh, bz_triangulation, bz_interpolators, \n",
    "                                               increment=0.0000001)\n",
    "bz_derivative_meshes = remove_edges_derivative_meshes(bz_derivative_meshes)\n",
    "mesh = remove_edges_mesh(mesh)\n",
    "\n",
    "current = current_on_mesh([bx_derivative_meshes, \n",
    "                           by_derivative_meshes, \n",
    "                           bz_derivative_meshes])\n",
    "b_field, b_field_norm = b_field_on_mesh([bx_interpolators, \n",
    "                                         by_interpolators,\n",
    "                                         bz_interpolators], mesh, bias=1e-2)\n",
    "\n",
    "temperature = scalar_on_mesh(te_interpolators, mesh)\n",
    "density = scalar_on_mesh(n_interpolators, mesh)\n",
    "\n",
    "#mesh = remove_edges_mesh(mesh,\n",
    "#                         x_start=1, x_end=None, \n",
    "#                         y_start=0, y_end=None, \n",
    "#                         z_start=0, z_end=None)\n",
    "#b_field = remove_edges_vector_quantity_meshes(b_field,\n",
    "#                                              x_start=1, x_end=None, \n",
    "#                                              y_start=0, y_end=None, \n",
    "#                                              z_start=0, z_end=None)\n",
    "#b_field_norm = remove_edges_vector_quantity_meshes(b_field_norm,\n",
    "#                                                   x_start=1, x_end=None, \n",
    "#                                                   y_start=0, y_end=None, \n",
    "#                                                   z_start=0, z_end=None)\n",
    "#current = remove_edges_vector_quantity_meshes(current,\n",
    "#                                              x_start=1, x_end=None, \n",
    "#                                              y_start=0, y_end=None, \n",
    "#                                              z_start=0, z_end=None)\n",
    "#\n",
    "#temperature = remove_edges_scalar_quantity_meshes()\n",
    "\n",
    "current = np.asarray(current)\n",
    "density = np.asarray(density)\n",
    "b_field_norm = np.asarray(b_field_norm)\n",
    "\n",
    "print 'filter density and current'\n",
    "for time_point in xrange(len(current[0])):\n",
    "    print 'density', time_point\n",
    "    density[time_point] = boxcar_filter_quantity_mesh(density[time_point], filter_width)\n",
    "\n",
    "for direction in xrange(len(current)):\n",
    "    for time_point in xrange(len(current[0])):\n",
    "        print 'current', direction,  time_point\n",
    "        current[direction][time_point] = boxcar_filter_quantity_mesh(current[direction][time_point], filter_width)\n",
    "\n",
    "density = 1e18*np.ones(density.shape)\n",
    "        \n",
    "ion_velocity_term_1 = calc_ion_velocity_term_1(current, density, q_e)\n",
    "ion_velocity_term_2 = calc_ion_velocity_term_2(b_field_norm, alpha)\n",
    "\n",
    "ion_vorticity_term_1 = calc_ion_vorticity_term_1(current, density, q_e, mesh)\n",
    "ion_vorticity_term_2 = calc_ion_vorticity_term_2(b_field_norm, alpha)\n",
    "\n",
    "print 'filter vorticity'\n",
    "for direction in xrange(len(ion_vorticity_term_1)):\n",
    "    for time_point in xrange(len(ion_vorticity_term_1[0])):\n",
    "        ion_vorticity_term_1[direction][time_point] = boxcar_filter_quantity_mesh(ion_vorticity_term_1[direction][time_point], filter_width)\n",
    "        ion_vorticity_term_2[direction][time_point] = boxcar_filter_quantity_mesh(ion_vorticity_term_2[direction][time_point], filter_width)\n",
    "\n",
    "fields = (list(b_field) + list(b_field_norm) + list(current) + \n",
    "          [density] + [temperature] +\n",
    "          list(ion_velocity_term_1) + list(ion_velocity_term_2) +\n",
    "          list(ion_vorticity_term_1) + list(ion_vorticity_term_2))\n",
    "\n",
    "x, y, z, variables = prepare_for_rectilinear_grid(mesh, fields,\n",
    "                                                  ['B_x', 'B_y', 'B_z',\n",
    "                                                   'B_norm_x', 'B_norm_y', 'B_norm_z',\n",
    "                                                   'j_x', 'j_y', 'j_z', 'n', 'Te',\n",
    "                                                   'u_i_term1_x', 'u_i_term1_y', 'u_i_term1_z',\n",
    "                                                   'u_e_norm_x', 'u_e_norm_y', 'u_e_norm_z',\n",
    "                                                   'w_i_term1_x', 'w_i_term1_y', 'w_i_term1_z',\n",
    "                                                   'w_i_term2_x', 'w_i_term2_y', 'w_i_term2_z'])\n",
    "\n",
    "write_fields_and_currents_to_structured_mesh(now, 'Bdot_triple_probe_quantities', x, y, z, variables)"
   ]
  },
  {
   "cell_type": "code",
   "execution_count": 69,
   "metadata": {
    "collapsed": false
   },
   "outputs": [
    {
     "name": "stdout",
     "output_type": "stream",
     "text": [
      "density between 7.18761714797e+19 1.26165033215e+17 7.67230104918e+18\n",
      "abs density between 7.18761714797e+19 1.26165033215e+17 7.67230104918e+18\n",
      "charge 1.6021766208e-19\n",
      "current x between 1445823.091 -664716.029921 287.957349552\n",
      "current y between 1715203.22622 -1893650.19427 -3720.90718255\n",
      "current z between 3060044.45744 -2740383.91419 -28779.1816356\n",
      "denominator between 11.5158321537 0.020213866658 1.22923813687\n",
      "abs denominator between 11.5158321537 0.020213866658 1.22923813687\n",
      "term x between 13140771.3648 -4042828.16287 1798.77853144\n",
      "term y between 8944163.4699 -8274999.82743 -4840.150886\n",
      "term z between 7991128.24954 -7980696.62142 -10766.3934199\n"
     ]
    }
   ],
   "source": [
    "print 'density between', density.max(), density.min(), density.mean()\n",
    "print 'abs density between', np.abs(density).max(), np.abs(density).min(), np.abs(density).mean()\n",
    "print 'charge', q_e\n",
    "print 'current x between', current[0].max(), current[0].min(), current[0].mean()\n",
    "print 'current y between', current[1].max(), current[1].min(), current[1].mean()\n",
    "print 'current z between', current[2].max(), current[2].min(), current[2].mean()\n",
    "denominator = density*q_e\n",
    "print 'denominator between', denominator.max(), denominator.min(), denominator.mean()\n",
    "print 'abs denominator between', np.abs(denominator).max(), np.abs(denominator).min(), np.abs(denominator).mean()\n",
    "term = [current[0]/denominator,\n",
    "        current[1]/denominator,\n",
    "        current[2]/denominator]\n",
    "print 'term x between', term[0].max(), term[0].min(), term[0].mean()\n",
    "print 'term y between', term[1].max(), term[1].min(), term[1].mean()\n",
    "print 'term z between', term[2].max(), term[2].min(), term[2].mean()"
   ]
  }
 ],
 "metadata": {
  "kernelspec": {
   "display_name": "Python 2",
   "language": "python",
   "name": "python2"
  },
  "language_info": {
   "codemirror_mode": {
    "name": "ipython",
    "version": 2
   },
   "file_extension": ".py",
   "mimetype": "text/x-python",
   "name": "python",
   "nbconvert_exporter": "python",
   "pygments_lexer": "ipython2",
   "version": "2.7.11"
  }
 },
 "nbformat": 4,
 "nbformat_minor": 0
}
