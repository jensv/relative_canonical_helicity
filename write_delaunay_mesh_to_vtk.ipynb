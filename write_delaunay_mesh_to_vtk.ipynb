{
 "cells": [
  {
   "cell_type": "code",
   "execution_count": 66,
   "metadata": {
    "collapsed": false
   },
   "outputs": [],
   "source": [
    "import numpy as np\n",
    "from scipy.spatial import Delaunay\n",
    "\n",
    "import visit_writer\n",
    "\n",
    "import structured_3d_vtk as struc_3d"
   ]
  },
  {
   "cell_type": "markdown",
   "metadata": {},
   "source": [
    "# Define functions"
   ]
  },
  {
   "cell_type": "code",
   "execution_count": 89,
   "metadata": {
    "collapsed": true
   },
   "outputs": [],
   "source": [
    "def prepare_idl_quantity(name, planes):\n",
    "    r\"\"\"\n",
    "    \"\"\"\n",
    "    measurements = struc_3d.read_idl(name)\n",
    "    for plane in planes:\n",
    "        measurements[plane] = struc_3d.average_duplicate_points(measurements[plane])\n",
    "    return measurements"
   ]
  },
  {
   "cell_type": "code",
   "execution_count": 90,
   "metadata": {
    "collapsed": true
   },
   "outputs": [],
   "source": [
    "def combine_all_planes(measurements, planes):\n",
    "    r\"\"\"\n",
    "    \"\"\"\n",
    "    all_planes = dict(measurements[planes[0]])\n",
    "    all_planes['z_out'] = planes[0]*np.ones(all_planes['x_out'].size)\n",
    " \n",
    "    for plane in planes[1:]:\n",
    "        for key in ['x_out', 'y_out']:\n",
    "            all_planes[key] = np.concatenate((all_planes[key], \n",
    "                                              measurements[plane][key]))\n",
    "        all_planes['z_out'] = np.concatenate((all_planes['z_out'],\n",
    "                                              plane*np.ones(measurements[plane]['x_out'].size)))\n",
    "        for key in ['std', 'a_out']:\n",
    "            for time_point in xrange(measurements[plane]['delays'].size):\n",
    "                all_planes[key][time_point] = np.concatenate((all_planes[key][time_point], \n",
    "                                                              measurements[plane][key][time_point]))\n",
    "    return all_planes"
   ]
  },
  {
   "cell_type": "code",
   "execution_count": 91,
   "metadata": {
    "collapsed": false
   },
   "outputs": [],
   "source": [
    "def remove_points_outside_convex(measurements,\n",
    "                                 x_min= -0.021, x_max=0.016,\n",
    "                                 y_min=-0.016, y_max=0.0135,\n",
    "                                 z_min=0.249, z_max=0.416):\n",
    "    r\"\"\"\n",
    "    \"\"\"\n",
    "    points = np.dstack((measurements['x_out'], \n",
    "                        measurements['y_out'], \n",
    "                        measurements['z_out']))[0]\n",
    "    outside_convex_volume = np.where(np.logical_or.reduce((points[:, 0] < x_min, \n",
    "                                                           points[:, 0] > x_max, \n",
    "                                                           points[:, 1] < y_min,\n",
    "                                                           points[:, 1] > y_max,\n",
    "                                                           points[:, 2] < z_min,\n",
    "                                                           points[:, 2] > z_max)))[0]\n",
    "    for key in ['x_out', 'y_out', 'z_out']:\n",
    "        measurements[key] = np.delete(measurements[key], \n",
    "                                      outside_convex_volume)\n",
    "    for key in ['std', 'a_out']:\n",
    "        for time_point in xrange(measurements['delays'].size):\n",
    "            measurements[key][time_point] = np.delete(measurements[key][time_point], \n",
    "                                                      outside_convex_volume)\n",
    "    return measurements"
   ]
  },
  {
   "cell_type": "code",
   "execution_count": 92,
   "metadata": {
    "collapsed": false
   },
   "outputs": [],
   "source": [
    "def prepare_for_unstructured_vtk(measurements, quantity_name):\n",
    "    r\"\"\"\n",
    "    \"\"\"\n",
    "    points = np.dstack((measurements['x_out'], \n",
    "                        measurements['y_out'], \n",
    "                        measurements['z_out']))[0]\n",
    "    triangulation = Delaunay(points)\n",
    "    points = tuple(points.ravel())\n",
    "    connectivity = tuple([(visit_writer.tetrahedron, int(simplex[0]), \n",
    "                           int(simplex[1]), int(simplex[2]), int(simplex[3])) \n",
    "                           for simplex in triangulation.simplices])\n",
    "    variables_all_time = []\n",
    "    for time_point in xrange(measurements['delays'].size):\n",
    "        variables = ((quantity_name, 1, 1, tuple(measurements['a_out'][time_point])),)\n",
    "        variables_all_time.append(variables)\n",
    "    return points, connectivity, variables_all_time"
   ]
  },
  {
   "cell_type": "code",
   "execution_count": 93,
   "metadata": {
    "collapsed": false
   },
   "outputs": [],
   "source": [
    "def write_all_time_unstructured(file_prefix, points, connectivity, variables_all_time):\n",
    "    r\"\"\"\n",
    "    \"\"\"\n",
    "    for time_point in xrange(len(variables_all_time)):\n",
    "        path = file_prefix + str(time_point).zfill(4)\n",
    "        visit_writer.WriteUnstructuredMesh(path, 1, points,\n",
    "                                           connectivity, \n",
    "                                           variables_all_time[time_point])"
   ]
  },
  {
   "cell_type": "code",
   "execution_count": 107,
   "metadata": {
    "collapsed": false
   },
   "outputs": [],
   "source": [
    "def save_idl_quantity_to_unstructured_grids(idl_quantity_name,\n",
    "                                            visit_quantity_name,\n",
    "                                            date, \n",
    "                                            planes=[0.249, 0.302, 0.357, 0.416],\n",
    "                                            file_name_descriptor='_all_planes_convex_unstructured_grid_',\n",
    "                                            x_min= -0.021, x_max=0.016,\n",
    "                                            y_min=-0.016, y_max=0.0135,\n",
    "                                            z_min=0.249, z_max=0.416):\n",
    "    file_prefix = '../output/' + date + '/' + visit_quantity_name + file_name_descriptor\n",
    "    measurements = prepare_idl_quantity(idl_quantity_name, planes)\n",
    "    all_planes = combine_all_planes(measurements, planes) \n",
    "    all_planes = remove_points_outside_convex(all_planes, \n",
    "                                              x_min=x_min, x_max=x_max,\n",
    "                                              y_min=y_min, y_max=y_max,\n",
    "                                              z_min=z_min, z_max=z_max)\n",
    "    assert len(all_planes['x_out']) == len(all_planes['y_out']) == len(all_planes['z_out'])\n",
    "    (points, \n",
    "     connectivity, \n",
    "     variables_all_time) = prepare_for_unstructured_vtk(all_planes, visit_quantity_name)\n",
    "    assert len(points) == len(all_planes['x_out'])*3\n",
    "    assert len(variables_all_time[0][0][3]) == len(all_planes['x_out'])\n",
    "    write_all_time_unstructured(file_prefix, points, \n",
    "                                connectivity, variables_all_time)"
   ]
  },
  {
   "cell_type": "markdown",
   "metadata": {},
   "source": [
    "# Write all idl quantities to files"
   ]
  },
  {
   "cell_type": "code",
   "execution_count": 108,
   "metadata": {
    "collapsed": true
   },
   "outputs": [],
   "source": [
    "save_idl_quantity_to_unstructured_grids('bx', 'B_x', '2016-07-26')"
   ]
  },
  {
   "cell_type": "code",
   "execution_count": 109,
   "metadata": {
    "collapsed": true
   },
   "outputs": [],
   "source": [
    "save_idl_quantity_to_unstructured_grids('by', 'B_y', '2016-07-26')"
   ]
  },
  {
   "cell_type": "code",
   "execution_count": 110,
   "metadata": {
    "collapsed": true
   },
   "outputs": [],
   "source": [
    "save_idl_quantity_to_unstructured_grids('bz', 'B_z', '2016-07-26')"
   ]
  },
  {
   "cell_type": "code",
   "execution_count": 111,
   "metadata": {
    "collapsed": false
   },
   "outputs": [],
   "source": [
    "save_idl_quantity_to_unstructured_grids('te', 'T_e', '2016-07-26', \n",
    "                                        x_min=-0.022, x_max =0.018,\n",
    "                                        y_min=-0.021, y_max=0.0255, \n",
    "                                        z_min=0.249, z_max=0.416)"
   ]
  },
  {
   "cell_type": "code",
   "execution_count": 112,
   "metadata": {
    "collapsed": true
   },
   "outputs": [],
   "source": [
    "save_idl_quantity_to_unstructured_grids('n', 'n', '2016-07-26',\n",
    "                                        x_min=-0.022, x_max =0.018,\n",
    "                                        y_min=-0.021, y_max=0.0255, \n",
    "                                        z_min=0.249, z_max=0.416)"
   ]
  }
 ],
 "metadata": {
  "kernelspec": {
   "display_name": "Python 2",
   "language": "python",
   "name": "python2"
  },
  "language_info": {
   "codemirror_mode": {
    "name": "ipython",
    "version": 2
   },
   "file_extension": ".py",
   "mimetype": "text/x-python",
   "name": "python",
   "nbconvert_exporter": "python",
   "pygments_lexer": "ipython2",
   "version": "2.7.11"
  }
 },
 "nbformat": 4,
 "nbformat_minor": 0
}
