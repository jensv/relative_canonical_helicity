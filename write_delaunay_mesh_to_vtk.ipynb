{
 "cells": [
  {
   "cell_type": "code",
   "execution_count": 1,
   "metadata": {
    "collapsed": false
   },
   "outputs": [],
   "source": [
    "import numpy as np\n",
    "from scipy.spatial import Delaunay\n",
    "from scipy.interpolate import LinearNDInterpolator\n",
    "from scipy.constants import mu_0\n",
    "from scipy.constants import elementary_charge as q_e\n",
    "from scipy.constants import proton_mass as m_i\n",
    "from astropy.convolution import convolve, convolve_fft\n",
    "from scipy.signal import fftconvolve\n",
    "from scipy.interpolate import SmoothBivariateSpline\n",
    "\n",
    "from datetime import date\n",
    "from datetime import datetime\n",
    "import visit_writer\n",
    "\n",
    "import structured_3d_vtk as struc_3d\n",
    "reload(struc_3d)\n",
    "\n",
    "import matplotlib.pyplot as plt\n",
    "\n",
    "import seaborn as sns\n",
    "sns.set_style('white')\n",
    "\n",
    "import os\n",
    "\n",
    "import ion_current_to_mach_number as ic_to_mach\n",
    "reload(ic_to_mach)\n",
    "\n",
    "import read_from_sql\n",
    "\n",
    "from mpl_toolkits.mplot3d import Axes3D"
   ]
  },
  {
   "cell_type": "code",
   "execution_count": 2,
   "metadata": {
    "collapsed": false
   },
   "outputs": [],
   "source": [
    "now = datetime.now().strftime(\"%Y-%m-%d-%H-%M\")\n",
    "out_dir = '../output/' + now\n",
    "try:\n",
    "    os.makedirs(out_dir)\n",
    "except:\n",
    "    pass"
   ]
  },
  {
   "cell_type": "markdown",
   "metadata": {},
   "source": [
    "# Define functions"
   ]
  },
  {
   "cell_type": "code",
   "execution_count": 3,
   "metadata": {
    "collapsed": true
   },
   "outputs": [],
   "source": [
    "def prepare_idl_quantity(name, planes, bounds=None):\n",
    "    r\"\"\"\n",
    "    \"\"\"\n",
    "    measurements = struc_3d.read_idl(name, )\n",
    "    if bounds:\n",
    "        measurements = struc_3d.remove_points_out_of_bounds(measurements, \n",
    "                                                            bounds[0], bounds[1], planes)\n",
    "    for plane in planes:\n",
    "        measurements[plane] = struc_3d.average_duplicate_points(measurements[plane])\n",
    "    return measurements"
   ]
  },
  {
   "cell_type": "code",
   "execution_count": 4,
   "metadata": {
    "collapsed": true
   },
   "outputs": [],
   "source": [
    "def combine_all_planes(measurements, planes):\n",
    "    r\"\"\"\n",
    "    \"\"\"\n",
    "    all_planes = dict(measurements[planes[0]])\n",
    "    all_planes['z_out'] = planes[0]*np.ones(all_planes['x_out'].size) \n",
    "    for plane in planes[1:]:\n",
    "        for key in ['x_out', 'y_out']:\n",
    "            all_planes[key] = np.concatenate((all_planes[key], \n",
    "                                              measurements[plane][key]))\n",
    "        all_planes['z_out'] = np.concatenate((all_planes['z_out'],\n",
    "                                              plane*np.ones(measurements[plane]['x_out'].size)))\n",
    "        for key in ['std', 'a_out']:\n",
    "            for time_point in xrange(measurements[plane]['delays'].size):\n",
    "                all_planes[key][time_point] = np.concatenate((all_planes[key][time_point], \n",
    "                                                              measurements[plane][key][time_point]))\n",
    "    return all_planes"
   ]
  },
  {
   "cell_type": "code",
   "execution_count": 5,
   "metadata": {
    "collapsed": true
   },
   "outputs": [],
   "source": [
    "def remove_points_outside_convex(measurements,\n",
    "                                 x_min= -0.025, x_max=0.025,\n",
    "                                 y_min=-0.016, y_max=0.017,\n",
    "                                 z_min=0.249, z_max=0.416):\n",
    "    r\"\"\"\n",
    "    \"\"\"\n",
    "    points = np.dstack((measurements['x_out'], \n",
    "                        measurements['y_out'], \n",
    "                        measurements['z_out']))[0]\n",
    "    outside_convex_volume = np.where(np.logical_or.reduce((points[:, 0] < x_min, \n",
    "                                                           points[:, 0] > x_max, \n",
    "                                                           points[:, 1] < y_min,\n",
    "                                                           points[:, 1] > y_max,\n",
    "                                                           points[:, 2] < z_min,\n",
    "                                                           points[:, 2] > z_max)))[0]\n",
    "    for key in ['x_out', 'y_out', 'z_out']:\n",
    "        measurements[key] = np.delete(measurements[key], \n",
    "                                      outside_convex_volume)\n",
    "    for key in ['std', 'a_out']:\n",
    "        for time_point in xrange(measurements['delays'].size):\n",
    "            measurements[key][time_point] = np.delete(measurements[key][time_point], \n",
    "                                                      outside_convex_volume)\n",
    "    return measurements"
   ]
  },
  {
   "cell_type": "code",
   "execution_count": 6,
   "metadata": {
    "collapsed": true
   },
   "outputs": [],
   "source": [
    "def remove_nan_points(measurements):\n",
    "    r\"\"\"\n",
    "    \"\"\"\n",
    "    nan_positions = np.where(np.isnan(measurements['a_out']))[1]\n",
    "    for key in ['x_out', 'y_out', 'z_out']:\n",
    "        measurements[key] = np.delete(measurements[key], \n",
    "                                      nan_positions)\n",
    "    for key in ['std', 'a_out']:\n",
    "        measurements[key] = np.delete(measurements[key], \n",
    "                                      nan_positions, axis=1)\n",
    "    return measurements"
   ]
  },
  {
   "cell_type": "code",
   "execution_count": 7,
   "metadata": {
    "collapsed": false
   },
   "outputs": [],
   "source": [
    "def prepare_for_unstructured_vtk(measurements, quantity_name):\n",
    "    r\"\"\"\n",
    "    \"\"\"\n",
    "    points = np.dstack((measurements['x_out'], \n",
    "                        measurements['y_out'], \n",
    "                        measurements['z_out']))[0]\n",
    "    triangulation = Delaunay(points)\n",
    "    points = tuple(points.ravel())\n",
    "    connectivity = tuple([(visit_writer.tetrahedron, int(simplex[0]), \n",
    "                           int(simplex[1]), int(simplex[2]), int(simplex[3])) \n",
    "                           for simplex in triangulation.simplices])\n",
    "    variables_all_time = []\n",
    "    for time_point in xrange(measurements['delays'].size):\n",
    "        variables = ((quantity_name, 1, 1, tuple(measurements['a_out'][time_point])),)\n",
    "        variables_all_time.append(variables)\n",
    "    return points, connectivity, variables_all_time"
   ]
  },
  {
   "cell_type": "code",
   "execution_count": 8,
   "metadata": {
    "collapsed": true
   },
   "outputs": [],
   "source": [
    "def give_delaunay_and_interpolator(measurements):\n",
    "    r\"\"\"\n",
    "    \"\"\"\n",
    "    if np.unique(measurements['z_out']).size < 2:\n",
    "        points = np.dstack((measurements['x_out'], \n",
    "                            measurements['y_out']))[0]\n",
    "    else:\n",
    "        points = np.dstack((measurements['x_out'], \n",
    "                            measurements['y_out'], \n",
    "                            measurements['z_out']))[0]\n",
    "    triangulation = Delaunay(points)\n",
    "    interpolators = []\n",
    "    for time_point in xrange(measurements['delays'].size):\n",
    "        interpolators.append(LinearNDInterpolator(points, measurements['a_out'][time_point]))\n",
    "    return triangulation, interpolators"
   ]
  },
  {
   "cell_type": "code",
   "execution_count": 9,
   "metadata": {
    "collapsed": false
   },
   "outputs": [],
   "source": [
    "def write_all_time_unstructured(file_prefix, points, connectivity, variables_all_time):\n",
    "    r\"\"\"\n",
    "    \"\"\"\n",
    "    for time_point in xrange(len(variables_all_time)):\n",
    "        path = file_prefix + str(time_point).zfill(4)\n",
    "        visit_writer.WriteUnstructuredMesh(path, 1, points,\n",
    "                                           connectivity, \n",
    "                                           variables[time_point])"
   ]
  },
  {
   "cell_type": "code",
   "execution_count": 10,
   "metadata": {
    "collapsed": false
   },
   "outputs": [],
   "source": [
    "def save_idl_quantity_to_unstructured_grids(idl_quantity_name,\n",
    "                                            visit_quantity_name,\n",
    "                                            date, \n",
    "                                            planes=[0.249, 0.302, 0.357, 0.416],\n",
    "                                            file_name_descriptor='_all_planes_convex_unstructured_grid_',\n",
    "                                            x_min= -0.021, x_max=0.014,\n",
    "                                            y_min=-0.016, y_max=0.017,\n",
    "                                            z_min=0.249, z_max=0.416,\n",
    "                                            bounds=None):\n",
    "    r\"\"\"\n",
    "    \"\"\"\n",
    "    file_prefix = '../output/' + date + '/' + visit_quantity_name + file_name_descriptor\n",
    "    measurements = prepare_idl_quantity(idl_quantity_name, planes, bounds=bounds)\n",
    "    all_planes = combine_all_planes(measurements, planes) \n",
    "    all_planes = remove_points_outside_convex(all_planes, \n",
    "                                              x_min=x_min, x_max=x_max,\n",
    "                                              y_min=y_min, y_max=y_max,\n",
    "                                              z_min=z_min, z_max=z_max)\n",
    "    assert len(all_planes['x_out']) == len(all_planes['y_out']) == len(all_planes['z_out'])\n",
    "    #(points, \n",
    "    # connectivity, \n",
    "    # variables_all_time) = prepare_for_unstructured_vtk(all_planes, visit_quantity_name)\n",
    "    #assert len(points) == len(all_planes['x_out'])*3\n",
    "    #assert len(variables_all_time[0][0][3]) == len(all_planes['x_out'])\n",
    "    #write_all_time_unstructured(file_prefix, points, \n",
    "    #                            connectivity, variables_all_time)\n",
    "    return all_planes "
   ]
  },
  {
   "cell_type": "code",
   "execution_count": 11,
   "metadata": {
    "collapsed": true
   },
   "outputs": [],
   "source": [
    "def save_quantity_to_unstructured_grids(measurements,\n",
    "                                        idl_quantity_name,\n",
    "                                        visit_quantity_name,\n",
    "                                        date, \n",
    "                                        planes=[0.249, 0.302, 0.357, 0.416],\n",
    "                                        file_name_descriptor='_all_planes_convex_unstructured_grid_',\n",
    "                                        x_min= -0.021, x_max=0.014,\n",
    "                                        y_min=-0.016, y_max=0.017,\n",
    "                                        z_min=0.249, z_max=0.416,\n",
    "                                        bounds=None):\n",
    "    r\"\"\"\n",
    "    \"\"\"\n",
    "    file_prefix = '../output/' + date + '/' + visit_quantity_name + file_name_descriptor\n",
    "    all_planes = combine_all_planes(measurements, planes) \n",
    "    all_planes = remove_points_outside_convex(all_planes, \n",
    "                                              x_min=x_min, x_max=x_max,\n",
    "                                              y_min=y_min, y_max=y_max,\n",
    "                                              z_min=z_min, z_max=z_max)\n",
    "    assert len(all_planes['x_out']) == len(all_planes['y_out']) == len(all_planes['z_out'])\n",
    "    #(points, \n",
    "    # connectivity, \n",
    "    # variables_all_time) = prepare_for_unstructured_vtk(all_planes, visit_quantity_name)\n",
    "    #assert len(points) == len(all_planes['x_out'])*3\n",
    "    #assert len(variables_all_time[0][0][3]) == len(all_planes['x_out'])\n",
    "    #write_all_time_unstructured(file_prefix, points, \n",
    "    #                            connectivity, variables_all_time)\n",
    "    return all_planes "
   ]
  },
  {
   "cell_type": "code",
   "execution_count": 12,
   "metadata": {
    "collapsed": true
   },
   "outputs": [],
   "source": [
    "def triangulate_derivatives(mesh, triangulation, interpolator, increment=0.00001):\n",
    "    r\"\"\"\n",
    "    \"\"\"\n",
    "    d_dx_mesh = np.zeros(mesh[0].shape)\n",
    "    d_dy_mesh = np.zeros(mesh[0].shape)\n",
    "    d_dz_mesh = np.zeros(mesh[0].shape)\n",
    "    points = np.dstack((mesh[0].ravel(),\n",
    "                        mesh[1].ravel(),\n",
    "                        mesh[2].ravel()))\n",
    "    values = interpolator(points)\n",
    "    d_dx = (interpolator(points + np.asarray([increment, 0, 0])) - values) / increment\n",
    "    d_dy = (interpolator(points + np.asarray([0, increment, 0])) - values) / increment\n",
    "    d_dz = (interpolator(points + np.asarray([0, 0, increment])) - values) / increment\n",
    "    d_dx_mesh = d_dx.reshape(mesh[0].shape)\n",
    "    d_dy_mesh = d_dy.reshape(mesh[0].shape)\n",
    "    d_dz_mesh = d_dz.reshape(mesh[0].shape)\n",
    "    derivative_meshes = ([d_dx_mesh, d_dy_mesh, d_dz_mesh])\n",
    "    return derivative_meshes"
   ]
  },
  {
   "cell_type": "code",
   "execution_count": 13,
   "metadata": {
    "collapsed": true
   },
   "outputs": [],
   "source": [
    "def remove_edges_derivative_meshes(derivative_meshes,\n",
    "                                   x_start=2, x_end=None, \n",
    "                                   y_start=0, y_end=-2, \n",
    "                                   z_start=0, z_end=-1):\n",
    "    r\"\"\"\n",
    "    \"\"\"\n",
    "    for index in xrange(len(derivative_meshes)):\n",
    "        derivative_meshes[index] = derivative_meshes[index][y_start:y_end, x_start:x_end, z_start:z_end]\n",
    "    return derivative_meshes"
   ]
  },
  {
   "cell_type": "code",
   "execution_count": 14,
   "metadata": {
    "collapsed": true
   },
   "outputs": [],
   "source": [
    "def remove_edges_vector_quantity_meshes(quantity_meshes,\n",
    "                                        x_start=2, x_end=None, \n",
    "                                        y_start=0, y_end=-2, \n",
    "                                        z_start=0, z_end=-1):\n",
    "    r\"\"\"\n",
    "    \"\"\"\n",
    "    for index in xrange(len(quantity_meshes)):\n",
    "        quantity_meshes[index] = quantity_meshes[index][y_start:y_end, x_start:x_end, z_start:z_end]\n",
    "    return quantity_meshes"
   ]
  },
  {
   "cell_type": "code",
   "execution_count": 15,
   "metadata": {
    "collapsed": true
   },
   "outputs": [],
   "source": [
    "def remove_edges_scalar_quantity_meshes(quantity_mesh,\n",
    "                                        x_start=2, x_end=None, \n",
    "                                        y_start=0, y_end=-2, \n",
    "                                        z_start=0, z_end=-1):\n",
    "    r\"\"\"\n",
    "    \"\"\"\n",
    "    quantity_mesh = quantity_mesh[y_start:y_end, x_start:x_end, z_start:z_end]\n",
    "    return quantity_mesh"
   ]
  },
  {
   "cell_type": "code",
   "execution_count": 16,
   "metadata": {
    "collapsed": true
   },
   "outputs": [],
   "source": [
    "def remove_edges_mesh(mesh,\n",
    "                      x_start=2, x_end=None, \n",
    "                      y_start=0, y_end=-2, \n",
    "                      z_start=0, z_end=-1):\n",
    "    r\"\"\"\n",
    "    \"\"\"\n",
    "    for index in xrange(len(mesh)):\n",
    "        mesh[index] = mesh[index][y_start:y_end, x_start:x_end, z_start:z_end]\n",
    "    return mesh"
   ]
  },
  {
   "cell_type": "code",
   "execution_count": 17,
   "metadata": {
    "collapsed": false
   },
   "outputs": [],
   "source": [
    "def prepare_for_rectilinear_grid(mesh, quantities, quantity_names):\n",
    "    r\"\"\"\n",
    "    \"\"\"\n",
    "    x = tuple(np.unique(mesh[0]))\n",
    "    y = tuple(np.unique(mesh[1]))\n",
    "    z = tuple(np.unique(mesh[2]))\n",
    "    variables = [(quantity_names[index], 1, 1, \n",
    "                  tuple(np.swapaxes(np.swapaxes(quantities[index], 1, 2), 0, 1).ravel()))\n",
    "                 for index in xrange(len(quantities))]\n",
    "    return x, y, z, variables"
   ]
  },
  {
   "cell_type": "code",
   "execution_count": 18,
   "metadata": {
    "collapsed": true
   },
   "outputs": [],
   "source": [
    "def save_to_numpy_mesh(mesh, quantities, quantity_names, filename):\n",
    "    r\"\"\"\n",
    "    \"\"\"\n",
    "    dict_to_save = {'mesh_x': mesh[0],\n",
    "                    'mesh_y': mesh[1],\n",
    "                    'mesh_z': mesh[2]}\n",
    "    for i, quanitity in enumerate(quantities):\n",
    "        dict_to_save[quantity_names[i]] = quantities\n",
    "    np.savez(filename, **dict_to_save)"
   ]
  },
  {
   "cell_type": "code",
   "execution_count": 19,
   "metadata": {
    "collapsed": false
   },
   "outputs": [],
   "source": [
    "def current_on_mesh(derivative_meshes_all_directions, mu_0=mu_0):\n",
    "    r\"\"\"\n",
    "    \"\"\"\n",
    "    dBx_dy = derivative_meshes_all_directions[0][1]\n",
    "    dBx_dz = derivative_meshes_all_directions[0][2]\n",
    "    dBy_dx = derivative_meshes_all_directions[1][0]\n",
    "    dBy_dz = derivative_meshes_all_directions[1][2]\n",
    "    dBz_dx = derivative_meshes_all_directions[2][0]\n",
    "    dBz_dy = derivative_meshes_all_directions[2][1]\n",
    "    j_x = 1./(mu_0) * (dBz_dy - dBy_dz)\n",
    "    j_y = 1./(mu_0) * (dBx_dz - dBz_dx)\n",
    "    j_z = 1./(mu_0) * (dBy_dx - dBx_dy)\n",
    "    current = [j_x, j_y, j_z]    \n",
    "    return current"
   ]
  },
  {
   "cell_type": "code",
   "execution_count": 20,
   "metadata": {
    "collapsed": true
   },
   "outputs": [],
   "source": [
    "def b_field_on_mesh(interpolator_all_directions, mesh, bias=2e-2):\n",
    "    r\"\"\"\n",
    "    \"\"\"\n",
    "    shape = mesh[0].shape\n",
    "    points = np.swapaxes(np.asarray([mesh[0].ravel(), mesh[1].ravel(), mesh[2].ravel()]), 0, 1)\n",
    "    b_x = interpolator_all_directions[0](points)  \n",
    "    b_y = interpolator_all_directions[1](points)\n",
    "    b_z = interpolator_all_directions[2](points)\n",
    "    b_x = np.resize(b_x, shape)\n",
    "    b_y = np.resize(b_y, shape)\n",
    "    b_z = np.resize(b_z, shape)\n",
    "    b_z += bias \n",
    "    b_x_norm = b_x / np.sqrt(b_x**2. + b_y**2. + b_z**2.)\n",
    "    b_y_norm = b_y / np.sqrt(b_x**2. + b_y**2. + b_z**2.)\n",
    "    b_z_norm = b_z / np.sqrt(b_x**2. + b_y**2. + b_z**2.)    \n",
    "    b_field = [b_x, b_y, b_z]\n",
    "    b_field_norm = [b_x_norm, b_y_norm, b_z_norm]\n",
    "    return b_field, b_field_norm"
   ]
  },
  {
   "cell_type": "code",
   "execution_count": 21,
   "metadata": {
    "collapsed": false
   },
   "outputs": [],
   "source": [
    "def scalar_on_mesh(interpolator, mesh):\n",
    "    r\"\"\"\n",
    "    \"\"\"\n",
    "    shape = mesh[0].shape\n",
    "    assert (len(mesh) == 3 or len(mesh) == 2)\n",
    "    if len(mesh) == 3:\n",
    "        points = np.swapaxes(np.asarray([mesh[0].ravel(), mesh[1].ravel(), mesh[2].ravel()]), 0, 1)\n",
    "    else:\n",
    "        points = np.swapaxes(np.asarray([mesh[0].ravel(), mesh[1].ravel()]), 0, 1)\n",
    "    scalar_all_times = []\n",
    "    scalar = interpolator(points)\n",
    "    scalar = np.resize(scalar, shape)\n",
    "    return scalar"
   ]
  },
  {
   "cell_type": "code",
   "execution_count": 22,
   "metadata": {
    "collapsed": true
   },
   "outputs": [],
   "source": [
    "def write_fields_and_currents_to_structured_mesh(date, visit_file_name, \n",
    "                                                 x, y, z, data, time_point):\n",
    "    r\"\"\"\n",
    "    \"\"\"\n",
    "    file_prefix = '../output/' + date + '/' + visit_file_name\n",
    "    path = file_prefix + str(time_point).zfill(4)  \n",
    "    print path\n",
    "    visit_writer.WriteRectilinearMesh(path, 1, x, y, z, data)"
   ]
  },
  {
   "cell_type": "code",
   "execution_count": 23,
   "metadata": {
    "collapsed": true
   },
   "outputs": [],
   "source": [
    "def bdot_probe_extent():\n",
    "    r\"\"\"\n",
    "    \"\"\"\n",
    "    x_min = -0.026\n",
    "    x_max = 0.024\n",
    "    y_min = -0.02 \n",
    "    y_max = 0.028\n",
    "    z_min = 0.249 \n",
    "    z_max = 0.416\n",
    "    return x_min, x_max, y_min, y_max, z_min, z_max\n",
    "\n",
    "def joint_bdot_tp_extent():\n",
    "    r\"\"\"\n",
    "    \"\"\"\n",
    "    x_min = -0.022\n",
    "    x_max = 0.024\n",
    "    y_min = -0.02 \n",
    "    y_max = 0.024\n",
    "    z_min = 0.249 \n",
    "    z_max = 0.416\n",
    "    return x_min, x_max, y_min, y_max, z_min, z_max\n",
    "\n",
    "def joint_mach_bdot_tp_extent():\n",
    "    r\"\"\"\n",
    "    \"\"\"\n",
    "    x_min = -0.022\n",
    "    x_max = 0.024\n",
    "    y_min = -0.02 \n",
    "    y_max = 0.018\n",
    "    z_min = 0.249 \n",
    "    z_max = 0.416\n",
    "    return x_min, x_max, y_min, y_max, z_min, z_max"
   ]
  },
  {
   "cell_type": "code",
   "execution_count": 24,
   "metadata": {
    "collapsed": false
   },
   "outputs": [],
   "source": [
    "def calc_ion_velocity_term_1(current, density, charge):\n",
    "    r\"\"\"\n",
    "    \"\"\"\n",
    "    denominator = density*charge\n",
    "    term = [current[0]/denominator,\n",
    "            current[1]/denominator,\n",
    "            current[2]/denominator]\n",
    "    return term"
   ]
  },
  {
   "cell_type": "code",
   "execution_count": 25,
   "metadata": {
    "collapsed": true
   },
   "outputs": [],
   "source": [
    "def calc_ion_velocity_term_2(b_field_norm, alpha):\n",
    "    r\"\"\"\n",
    "    \"\"\"\n",
    "    return alpha*b_field_norm"
   ]
  },
  {
   "cell_type": "code",
   "execution_count": 26,
   "metadata": {
    "collapsed": true
   },
   "outputs": [],
   "source": [
    "def curl_on_mesh(quantity, mesh):\n",
    "    r\"\"\"\n",
    "    \"\"\"\n",
    "    dx = mesh[0][0, 1, 0] - mesh[0][0, 0, 0]\n",
    "    dy = mesh[1][1, 0, 0] - mesh[1][0, 0, 0]\n",
    "    dz = mesh[2][0, 0, 1] - mesh[2][0, 0, 0]\n",
    "    dx_dy = np.gradient(quantity[0], axis=1)/dy\n",
    "    dx_dz = np.gradient(quantity[0], axis=2)/dz\n",
    "    dy_dx = np.gradient(quantity[1], axis=0)/dx\n",
    "    dy_dz = np.gradient(quantity[1], axis=2)/dz\n",
    "    dz_dx = np.gradient(quantity[2], axis=0)/dx\n",
    "    dz_dy = np.gradient(quantity[2], axis=1)/dy\n",
    "    curl_x = dz_dy - dy_dz\n",
    "    curl_y = dx_dz - dz_dx\n",
    "    curl_z = dy_dx - dx_dy\n",
    "    return [curl_x, curl_y, curl_z]"
   ]
  },
  {
   "cell_type": "code",
   "execution_count": 27,
   "metadata": {
    "collapsed": true
   },
   "outputs": [],
   "source": [
    "def calc_ion_vorticity_term_1(current, density, charge, mesh, filt=None):\n",
    "    r\"\"\"\n",
    "    \"\"\"\n",
    "    return curl_on_mesh(calc_ion_velocity_term_1(current, density, charge), mesh)"
   ]
  },
  {
   "cell_type": "code",
   "execution_count": 28,
   "metadata": {
    "collapsed": true
   },
   "outputs": [],
   "source": [
    "def calc_ion_vorticity_term_2(b_field_norm, alpha, mesh):\n",
    "    r\"\"\"\n",
    "    \"\"\"\n",
    "    return curl_on_mesh(calc_ion_velocity_term_2(b_field_norm, alpha), mesh)"
   ]
  },
  {
   "cell_type": "code",
   "execution_count": 29,
   "metadata": {
    "collapsed": true
   },
   "outputs": [],
   "source": [
    "def boxcar_filter_quantity_mesh(quantity, width):\n",
    "    r\"\"\"\n",
    "    \"\"\"\n",
    "    nan_indexes = np.where(np.isnan(quantity))\n",
    "    quantity[nan_indexes] = 0\n",
    "    boxcar = np.ones((width, width, width))\n",
    "    boxcar /= boxcar.sum()\n",
    "    return fftconvolve(quantity, boxcar, mode='same')"
   ]
  },
  {
   "cell_type": "markdown",
   "metadata": {},
   "source": [
    "# Write all idl quantities to files"
   ]
  },
  {
   "cell_type": "code",
   "execution_count": 30,
   "metadata": {
    "collapsed": false
   },
   "outputs": [],
   "source": [
    "bx_all_planes = save_idl_quantity_to_unstructured_grids('bx', 'B_x', now,\n",
    "                                                        x_min=-0.032, x_max=0.028,\n",
    "                                                        y_min=-0.022, y_max=0.032, \n",
    "                                                        z_min=0.249, z_max=0.416)\n",
    "\n"
   ]
  },
  {
   "cell_type": "code",
   "execution_count": 31,
   "metadata": {
    "collapsed": false
   },
   "outputs": [],
   "source": [
    "by_all_planes = save_idl_quantity_to_unstructured_grids('by', 'B_y', now,\n",
    "                                                        x_min=-0.032, x_max=0.028,\n",
    "                                                        y_min=-0.022, y_max=0.032, \n",
    "                                                        z_min=0.249, z_max=0.416)\n"
   ]
  },
  {
   "cell_type": "code",
   "execution_count": 32,
   "metadata": {
    "collapsed": false
   },
   "outputs": [],
   "source": [
    "bz_all_planes = save_idl_quantity_to_unstructured_grids('bz', 'B_z', now,\n",
    "                                                        x_min=-0.032, x_max=0.028,\n",
    "                                                        y_min=-0.022, y_max=0.032, \n",
    "                                                        z_min=0.249, z_max=0.416)\n"
   ]
  },
  {
   "cell_type": "code",
   "execution_count": 33,
   "metadata": {
    "collapsed": false
   },
   "outputs": [],
   "source": [
    "te_all_planes = save_idl_quantity_to_unstructured_grids('te', 'T_e', now, \n",
    "                                                        x_min=-0.026, x_max=0.028,\n",
    "                                                        y_min=-0.03, y_max=0.028, \n",
    "                                                        z_min=0.249, z_max=0.416,\n",
    "                                                        bounds=(1e-3, 1e3))\n"
   ]
  },
  {
   "cell_type": "code",
   "execution_count": 34,
   "metadata": {
    "collapsed": false
   },
   "outputs": [],
   "source": [
    "n_all_planes = save_idl_quantity_to_unstructured_grids('n', 'n', now,\n",
    "                                                       x_min=-0.026, x_max=0.028,\n",
    "                                                       y_min=-0.03, y_max=0.028, \n",
    "                                                       z_min=0.249, z_max=0.416,\n",
    "                                                       bounds=(1e3, 1e22))\n"
   ]
  },
  {
   "cell_type": "markdown",
   "metadata": {},
   "source": [
    "# Prepare Mach probe data "
   ]
  },
  {
   "cell_type": "code",
   "execution_count": 38,
   "metadata": {
    "collapsed": false
   },
   "outputs": [],
   "source": [
    "timesteps = 250\n",
    "\n",
    "database = '/Users/vonderlinden2/rsx_analysis/shots_database/source/shots.db'\n",
    "table = 'Shots'\n",
    "z_direction_1, z_direction_2 = 0, 180\n",
    "y_direction_1, y_direction_2 = 90, 270\n",
    "angle_signs = {0: 1,\n",
    "               180: -1,\n",
    "               90: -1,\n",
    "               0: 1}\n",
    "min_spectral_density = 1.6e-8\n",
    "\n",
    "condition_z_0416 = (\"campaigns = 'mach_probe_plane_campaign_1'\"\n",
    "                    \" AND fiducial_pre_crowbar_gyration_spectral_density > \"\n",
    "                    + str(min_spectral_density) +\n",
    "                    \" AND mach_signals_exist = 1\"\n",
    "                    \" AND (mach_orientation = \" + str(z_direction_1) +\n",
    "                    \" OR mach_orientation = \" + str(z_direction_2) + \")\")\n",
    "\n",
    "condition_y_0416 = (\"campaigns = 'mach_probe_plane_campaign_1'\"\n",
    "                    \" AND fiducial_pre_crowbar_gyration_spectral_density > \"\n",
    "                    + str(min_spectral_density) +\n",
    "                    \" AND mach_signals_exist = 1\"\n",
    "                    \" AND (mach_orientation = \" + str(y_direction_1) +\n",
    "                    \" OR mach_orientation = \" + str(y_direction_2) + \")\")\n",
    "\n",
    "cursor, connection = read_from_sql.cursor_with_rows(condition_z_0416,\n",
    "                                                    database,\n",
    "                                                    table)\n",
    "z_0416_shots = cursor.fetchall()\n",
    "cursor.close()\n",
    "connection.close()\n",
    "\n",
    "cursor, connection = read_from_sql.cursor_with_rows(condition_y_0416,\n",
    "                                                    database,\n",
    "                                                    table)\n",
    "y_0416_shots = cursor.fetchall()\n",
    "cursor.close()\n",
    "connection.close()\n",
    "\n",
    "condition_z_302 = (\"campaigns = 'mach_probe_plane_campaign_2'\"\n",
    "                   \" AND fiducial_pre_crowbar_gyration_spectral_density > \"\n",
    "                   + str(min_spectral_density) +\n",
    "                   \" AND mach_signals_exist = 1\"\n",
    "                   \" AND (mach_orientation = \" + str(z_direction_1) +\n",
    "                   \" OR mach_orientation = \" + str(z_direction_2) + \")\")\n",
    "\n",
    "cursor, connection = read_from_sql.cursor_with_rows(condition_z_302,\n",
    "                                                    database,\n",
    "                                                    table)\n",
    "z_0302_shots = cursor.fetchall()\n",
    "cursor.close()\n",
    "connection.close()\n",
    "\n",
    "mach_z_0416_measurements = ic_to_mach.run_mach_analysis(z_0416_shots,\n",
    "                                                        timesteps, \n",
    "                                                        angle_signs) \n",
    "mach_y_0416_measurements = ic_to_mach.run_mach_analysis(y_0416_shots,\n",
    "                                                        timesteps, \n",
    "                                                        angle_signs)\n",
    "mach_z_0302_measurements = ic_to_mach.run_mach_analysis(z_0302_shots,\n",
    "                                                        timesteps, \n",
    "                                                        angle_signs)\n",
    "\n",
    "mach_z_0416_measurements['delays'] = np.arange(timesteps)\n",
    "mach_y_0416_measurements['delays'] = np.arange(timesteps)\n",
    "mach_z_0302_measurements['delays'] = np.arange(timesteps)\n",
    "\n",
    "mach_z_0416_measurements = struc_3d.average_duplicate_points(mach_z_0416_measurements)\n",
    "mach_y_0416_measurements = struc_3d.average_duplicate_points(mach_y_0416_measurements)\n",
    "mach_z_0302_measurements = struc_3d.average_duplicate_points(mach_z_0302_measurements)\n",
    "\n",
    "mach_y_measurements = {0.416: mach_y_0416_measurements}\n",
    "mach_z_measurements = {0.302: mach_z_0302_measurements,\n",
    "                       0.416: mach_z_0416_measurements}\n",
    "\n",
    "mach_y_all_planes = save_quantity_to_unstructured_grids(mach_y_measurements, \n",
    "                                                        'Mach_y', 'Mach_y', '2016-07-26',\n",
    "                                                        planes=[0.416],\n",
    "                                                        x_min=-0.052, x_max=0.052,\n",
    "                                                        y_min=-0.022, y_max=0.032, \n",
    "                                                        z_min=0.249, z_max=0.416,\n",
    "                                                        bounds=(-10, 10))\n",
    "\n",
    "mach_z_all_planes = save_quantity_to_unstructured_grids(mach_z_measurements, \n",
    "                                                        'Mach_z', 'Mach_z', '2016-07-26',\n",
    "                                                        planes=[0.302, 0.416],\n",
    "                                                        x_min=-0.032, x_max=0.032,\n",
    "                                                        y_min=-0.022, y_max=0.032, \n",
    "                                                        z_min=0.249, z_max=0.416,\n",
    "                                                        bounds=(-10, 10))\n",
    "mach_y_all_planes = remove_nan_points(mach_y_all_planes)\n",
    "mach_z_all_planes = remove_nan_points(mach_z_all_planes)"
   ]
  },
  {
   "cell_type": "markdown",
   "metadata": {},
   "source": [
    "# Determine derivatives and write to files"
   ]
  },
  {
   "cell_type": "code",
   "execution_count": 39,
   "metadata": {
    "collapsed": false
   },
   "outputs": [],
   "source": [
    "bx_triangulation, bx_interpolators = give_delaunay_and_interpolator(bx_all_planes)\n",
    "by_triangulation, by_interpolators = give_delaunay_and_interpolator(by_all_planes)\n",
    "bz_triangulation, bz_interpolators = give_delaunay_and_interpolator(bz_all_planes)\n",
    "te_triangulation, te_interpolators = give_delaunay_and_interpolator(te_all_planes)\n",
    "n_triangulation, n_interpolators = give_delaunay_and_interpolator(n_all_planes)\n",
    "mach_y_triangulation, mach_y_interpolators = give_delaunay_and_interpolator(mach_y_all_planes)\n",
    "mach_z_triangulation, mach_z_interpolators = give_delaunay_and_interpolator(mach_z_all_planes)"
   ]
  },
  {
   "cell_type": "markdown",
   "metadata": {},
   "source": [
    "# Interpolate mach and temperature in plane calculate ion velocity"
   ]
  },
  {
   "cell_type": "code",
   "execution_count": 40,
   "metadata": {
    "collapsed": false
   },
   "outputs": [],
   "source": [
    "(x_min, x_max, \n",
    " y_min, y_max,\n",
    " z_min, z_max) = joint_mach_bdot_tp_extent()\n",
    "\n",
    "spatial_increment = 0.001\n",
    "mesh = np.meshgrid(np.linspace(x_min, x_max, np.ceil((x_max-x_min)/spatial_increment)),\n",
    "                   np.linspace(y_min, y_max, np.ceil((y_max-y_min)/spatial_increment)),\n",
    "                   np.linspace(z_min, z_max, np.ceil((z_max-z_min)/spatial_increment)))\n",
    "\n",
    "mach_y_interpolator = mach_y_interpolators[0]\n",
    "mach_z_interpolator = mach_z_interpolators[0]\n",
    "te_interpolator = te_interpolators[0]\n",
    " \n",
    "mach_y = scalar_on_mesh(mach_y_interpolator, mesh[:2])\n",
    "mach_z = scalar_on_mesh(mach_z_interpolator, mesh)\n",
    "te = scalar_on_mesh(te_interpolator, mesh)\n",
    "\n",
    "u_i_y = np.sqrt(te*q_e/m_i)*mach_y\n",
    "u_i_z = np.sqrt(te*q_e/m_i)*mach_z\n",
    "\n",
    "u_i_y = np.reshape(u_i_y, mesh[0].shape)\n",
    "u_i_z = np.reshape(u_i_z, mesh[0].shape)\n",
    "\n",
    "u_i_y = remove_edges_scalar_quantity_meshes(u_i_y)\n",
    "u_i_z = remove_edges_scalar_quantity_meshes(u_i_z)\n",
    "\n"
   ]
  },
  {
   "cell_type": "markdown",
   "metadata": {},
   "source": [
    "# Fit $\\alpha$"
   ]
  },
  {
   "cell_type": "code",
   "execution_count": 41,
   "metadata": {
    "collapsed": false
   },
   "outputs": [],
   "source": [
    "alpha = 1\n",
    "filter_width = 15\n",
    "\n",
    "(x_min, x_max, \n",
    " y_min, y_max,\n",
    " z_min, z_max) = joint_mach_bdot_tp_extent()\n",
    "\n",
    "spatial_increment = 0.001\n",
    "mesh = np.meshgrid(np.linspace(x_min, x_max, np.ceil((x_max-x_min)/spatial_increment)),\n",
    "                   np.linspace(y_min, y_max, np.ceil((y_max-y_min)/spatial_increment)),\n",
    "                   np.linspace(z_min, z_max, np.ceil((z_max-z_min)/spatial_increment)))\n",
    "\n",
    "mesh_wo_edges = remove_edges_mesh([np.array(mesh[0]), \n",
    "                                   np.array(mesh[1]), \n",
    "                                   np.array(mesh[2])])\n",
    "ones = np.ones(mesh_wo_edges[0].shape)\n",
    "\n",
    "time_point = 200\n",
    "\n",
    "bx_interpolator = bx_interpolators[time_point]\n",
    "by_interpolator = by_interpolators[time_point]\n",
    "bz_interpolator = bz_interpolators[time_point]\n",
    "te_interpolator = te_interpolators[time_point]\n",
    "n_interpolator = n_interpolators[time_point]\n",
    "\n",
    "bx_derivative = triangulate_derivatives(mesh, bx_triangulation, bx_interpolator, \n",
    "                                        increment=0.0000001)\n",
    "bx_derivative = remove_edges_derivative_meshes(bx_derivative)\n",
    "by_derivative = triangulate_derivatives(mesh, by_triangulation, by_interpolator, \n",
    "                                           increment=0.0000001)\n",
    "by_derivative = remove_edges_derivative_meshes(by_derivative)\n",
    "bz_derivative = triangulate_derivatives(mesh, bz_triangulation, bz_interpolator, \n",
    "                                           increment=0.0000001)\n",
    "bz_derivative = remove_edges_derivative_meshes(bz_derivative)\n",
    "\n",
    "\n",
    "current = current_on_mesh([bx_derivative, \n",
    "                           by_derivative, \n",
    "                           bz_derivative])\n",
    "b_field, b_field_norm = b_field_on_mesh([bx_interpolator, \n",
    "                                         by_interpolator,\n",
    "                                         bz_interpolator], mesh_wo_edges, bias=2e-2)\n",
    "\n",
    "temperature = scalar_on_mesh(te_interpolator, mesh_wo_edges)\n",
    "density = scalar_on_mesh(n_interpolator, mesh_wo_edges)\n",
    "\n",
    "current = np.asarray(current)\n",
    "density = np.asarray(density)\n",
    "b_field_norm = np.asarray(b_field_norm)\n",
    "\n",
    "density = boxcar_filter_quantity_mesh(density, filter_width)\n",
    "\n",
    "for direction in xrange(len(current)):\n",
    "    current[direction] = boxcar_filter_quantity_mesh(current[direction], filter_width)\n",
    "\n",
    "density_constant = 1e18*np.ones(density.shape)\n",
    "\n",
    "ion_velocity_term_1 = calc_ion_velocity_term_1(current, density, q_e)\n",
    "ion_velocity_term_1_constant_density = calc_ion_velocity_term_1(current, density_constant, q_e)\n",
    "ion_velocity_term_2 = calc_ion_velocity_term_2(b_field_norm, alpha)\n",
    "\n",
    "ion_vorticity_term_1 = calc_ion_vorticity_term_1(current, density, q_e, mesh_wo_edges)\n",
    "ion_vorticity_term_1_constant_density = calc_ion_vorticity_term_1(current, density_constant, q_e, mesh_wo_edges)\n",
    "ion_vorticity_term_2 = calc_ion_vorticity_term_2(b_field_norm, alpha, mesh_wo_edges)\n",
    "\n",
    "mesh_wo_edges = remove_edges_mesh([np.array(mesh[0]), \n",
    "                                   np.array(mesh[1]), \n",
    "                                   np.array(mesh[2])])"
   ]
  },
  {
   "cell_type": "code",
   "execution_count": 42,
   "metadata": {
    "collapsed": false
   },
   "outputs": [
    {
     "data": {
      "text/plain": [
       "True"
      ]
     },
     "execution_count": 42,
     "metadata": {},
     "output_type": "execute_result"
    }
   ],
   "source": [
    "np.allclose(np.reshape(mesh_wo_edges[0][:,:,-1].ravel(), mesh_wo_edges[0][:,:,-1].shape), mesh_wo_edges[0][:,:,-1])"
   ]
  },
  {
   "cell_type": "code",
   "execution_count": 90,
   "metadata": {
    "collapsed": false
   },
   "outputs": [],
   "source": [
    "alpha_from_y = (u_i_y - ion_velocity_term_1[1])/ b_field_norm[1]\n",
    "alpha_from_z = (u_i_z - ion_velocity_term_1[2])/ b_field_norm[2]\n",
    "\n",
    "alpha_from_y_flattened_z04 = alpha_from_y[:,:,-1].ravel()\n",
    "alpha_from_z_flattened_z04 = alpha_from_z[:,:,-1].ravel()\n",
    "points_x = mesh_wo_edges[0][:, :, -1].ravel()\n",
    "points_y = mesh_wo_edges[1][:, :, -1].ravel()\n",
    "points_z_z04 = mesh[2][0,0,-1]*np.ones(points_x.shape)\n",
    "std_z04 = np.expand_dims(np.zeros(points_x.shape), 0)\n",
    "\n",
    "data_y_z04 = {'a_out': np.expand_dims(alpha_from_y_flattened_z04, 0),\n",
    "              'x_out': points_x,\n",
    "              'y_out': points_y,\n",
    "              'z_out': points_z_z04,\n",
    "              'std': std_z04\n",
    "              }\n",
    "data_z_z04 = {'a_out': np.expand_dims(alpha_from_z_flattened_z04, 0),\n",
    "              'x_out': points_x,\n",
    "              'y_out': points_y,\n",
    "              'z_out': points_z_z04,\n",
    "              'std': std_z04\n",
    "              }\n",
    "\n",
    "data_y_z04 = remove_nan_points(data_y_z04)\n",
    "data_z_z04 = remove_nan_points(data_z_z04)\n",
    "\n",
    "alpha_interp_z04 = fit_z_alphas(data_z_z04, mesh_wo_edges, s=7e10)\n",
    "alpha_fitted_z04 = np.repeat(np.expand_dims(alpha_interp_z04, 2), density.shape[2], 2)\n",
    "\n",
    "alpha_from_z_flattened_z03 = alpha_from_z[:,:,53].ravel()\n",
    "points_x = mesh_wo_edges[0][:, :, -1].ravel()\n",
    "points_y = mesh_wo_edges[1][:, :, -1].ravel()\n",
    "points_z_z03 = mesh[2][0,0,53]*np.ones(points_x.shape)\n",
    "std_z03 = np.expand_dims(np.zeros(points_x.shape), 0)\n",
    "\n",
    "data_z_z03 = {'a_out': np.expand_dims(alpha_from_z_flattened_z03, 0),\n",
    "              'x_out': points_x,\n",
    "              'y_out': points_y,\n",
    "              'z_out': points_z_z03,\n",
    "              'std': std_z03\n",
    "              }\n",
    "\n",
    "data_z_z03 = remove_nan_points(data_z_z03)\n",
    "\n",
    "alpha_interp_z03 = fit_z_alphas(data_z_z03, mesh_wo_edges, s=8e10)\n",
    "alpha_fitted_z03 = np.repeat(np.expand_dims(alpha_interp_z03, 2), density.shape[2], 2)"
   ]
  },
  {
   "cell_type": "code",
   "execution_count": 91,
   "metadata": {
    "collapsed": true
   },
   "outputs": [],
   "source": [
    "def fit_y_z_alphas(data_y, data_z, mesh, s=None):\n",
    "    r\"\"\"\n",
    "    \"\"\"\n",
    "    all_data = np.concatenate((data_y['a_out'][0], data_z['a_out'][0]))\n",
    "    all_points_x = np.concatenate((data_y['x_out'], data_z['x_out']))\n",
    "    all_points_y = np.concatenate((data_y['y_out'], data_z['y_out']))\n",
    "    splines = SmoothBivariateSpline(all_points_x, all_points_y, all_data, s=s)\n",
    "    points_x = mesh[0][:, :, -1].ravel()\n",
    "    points_y = mesh[1][:, :, -1].ravel()\n",
    "    alpha_interp = np.reshape(splines(points_x, points_y, grid=False), mesh[0][:, :, -1].shape)\n",
    "    return alpha_interp"
   ]
  },
  {
   "cell_type": "code",
   "execution_count": 92,
   "metadata": {
    "collapsed": true
   },
   "outputs": [],
   "source": [
    "def fit_z_alphas(data_z, mesh, s=None):\n",
    "    r\"\"\"\n",
    "    \"\"\"\n",
    "    all_data = data_z['a_out'][0]\n",
    "    all_points_x = data_z['x_out']\n",
    "    all_points_y = data_z['y_out']\n",
    "    splines = SmoothBivariateSpline(all_points_x, all_points_y, all_data, s=s)\n",
    "    points_x = mesh[0][:, :, -1].ravel()\n",
    "    points_y = mesh[1][:, :, -1].ravel()\n",
    "    alpha_interp = np.reshape(splines(points_x, points_y, grid=False), mesh[0][:, :, -1].shape)\n",
    "    return alpha_interp"
   ]
  },
  {
   "cell_type": "code",
   "execution_count": 93,
   "metadata": {
    "collapsed": true
   },
   "outputs": [],
   "source": [
    "def plot_spline_data_knots(scalar_resampled, x_grid, y_grid, data_dict, knots,\n",
    "                           time_point = 0, \n",
    "                           spline_color='blue', data_color='black', knots_color='red'):\n",
    "    fig = plt.figure()\n",
    "    ax = fig.add_subplot(111, projection='3d')\n",
    "    ax.plot_wireframe(x_grid[::2,::2], y_grid[::2,::2], scalar_resampled[::2,::2], colors=spline_color)\n",
    "    #ax.scatter(data_dict['x_out'], data_dict['y_out'], data_dict['a_out'][time_point], c=data_color)\n",
    "    #ax.scatter(knots[0], knots[1], 0, c=knots_color, marker='^')\n",
    "    ax.set_xlabel('x [m]')\n",
    "    ax.set_ylabel('y [m]')\n",
    "    plt.show()"
   ]
  },
  {
   "cell_type": "code",
   "execution_count": 94,
   "metadata": {
    "collapsed": false
   },
   "outputs": [],
   "source": [
    "plot_spline_data_knots(alpha_interp_z03, mesh_wo_edges[0][:,:,-1], mesh_wo_edges[1][:,:, -1], [], [])"
   ]
  },
  {
   "cell_type": "code",
   "execution_count": 84,
   "metadata": {
    "collapsed": true
   },
   "outputs": [],
   "source": [
    "plot_spline_data_knots(alpha_interp_z04, mesh_wo_edges[0][:,:,-1], mesh_wo_edges[1][:,:, -1], [], [])"
   ]
  },
  {
   "cell_type": "code",
   "execution_count": 72,
   "metadata": {
    "collapsed": false
   },
   "outputs": [],
   "source": [
    "u_i_from_alpha_z03 = ion_velocity_term_1[2][:,:,53] + alpha_interp_z03*b_field_norm[2][:,:,53]"
   ]
  },
  {
   "cell_type": "code",
   "execution_count": 76,
   "metadata": {
    "collapsed": true
   },
   "outputs": [],
   "source": [
    "u_i_from_alpha_z04 = ion_velocity_term_1[2][:,:,-1] + alpha_interp_z04*b_field_norm[2][:,:,-1]"
   ]
  },
  {
   "cell_type": "code",
   "execution_count": 95,
   "metadata": {
    "collapsed": true
   },
   "outputs": [],
   "source": [
    "plot_spline_data_knots(u_i_from_alpha_z03, mesh_wo_edges[0][:,:,-1], mesh_wo_edges[1][:,:, -1], [], [])"
   ]
  },
  {
   "cell_type": "code",
   "execution_count": 77,
   "metadata": {
    "collapsed": true
   },
   "outputs": [],
   "source": [
    "plot_spline_data_knots(u_i_from_alpha_z04, mesh_wo_edges[0][:,:,-1], mesh_wo_edges[1][:,:, -1], [], [])"
   ]
  },
  {
   "cell_type": "code",
   "execution_count": 99,
   "metadata": {
    "collapsed": true
   },
   "outputs": [],
   "source": [
    "plot_spline_data_knots(ion_velocity_term_1[2][:,:,-1], mesh_wo_edges[0][:,:,-1], mesh_wo_edges[1][:,:, -1], [], [])"
   ]
  },
  {
   "cell_type": "code",
   "execution_count": 108,
   "metadata": {
    "collapsed": true
   },
   "outputs": [],
   "source": [
    "def fit_line(x1, x2, y1, y2):\n",
    "    m = (y2 - y1)/(x2 - x1)\n",
    "    y0 = y1 - m*x1 \n",
    "    return m, y0\n",
    "\n",
    "def line(m, y0, x):\n",
    "    return np.expand_dims(m, 2)*x + np.expand_dims(y0, 2)"
   ]
  },
  {
   "cell_type": "code",
   "execution_count": 109,
   "metadata": {
    "collapsed": false
   },
   "outputs": [],
   "source": [
    "m, y0 = fit_line(0.3, 0.4, alpha_interp_z03, alpha_interp_z04)"
   ]
  },
  {
   "cell_type": "code",
   "execution_count": 112,
   "metadata": {
    "collapsed": false
   },
   "outputs": [
    {
     "data": {
      "text/plain": [
       "array([ 0.249     ,  0.25000602,  0.25101205,  0.25201807,  0.2530241 ,\n",
       "        0.25403012,  0.25503614,  0.25604217,  0.25704819,  0.25805422,\n",
       "        0.25906024,  0.26006627,  0.26107229,  0.26207831,  0.26308434,\n",
       "        0.26409036,  0.26509639,  0.26610241,  0.26710843,  0.26811446,\n",
       "        0.26912048,  0.27012651,  0.27113253,  0.27213855,  0.27314458,\n",
       "        0.2741506 ,  0.27515663,  0.27616265,  0.27716867,  0.2781747 ,\n",
       "        0.27918072,  0.28018675,  0.28119277,  0.2821988 ,  0.28320482,\n",
       "        0.28421084,  0.28521687,  0.28622289,  0.28722892,  0.28823494,\n",
       "        0.28924096,  0.29024699,  0.29125301,  0.29225904,  0.29326506,\n",
       "        0.29427108,  0.29527711,  0.29628313,  0.29728916,  0.29829518,\n",
       "        0.2993012 ,  0.30030723,  0.30131325,  0.30231928,  0.3033253 ,\n",
       "        0.30433133,  0.30533735,  0.30634337,  0.3073494 ,  0.30835542,\n",
       "        0.30936145,  0.31036747,  0.31137349,  0.31237952,  0.31338554,\n",
       "        0.31439157,  0.31539759,  0.31640361,  0.31740964,  0.31841566,\n",
       "        0.31942169,  0.32042771,  0.32143373,  0.32243976,  0.32344578,\n",
       "        0.32445181,  0.32545783,  0.32646386,  0.32746988,  0.3284759 ,\n",
       "        0.32948193,  0.33048795,  0.33149398,  0.3325    ,  0.33350602,\n",
       "        0.33451205,  0.33551807,  0.3365241 ,  0.33753012,  0.33853614,\n",
       "        0.33954217,  0.34054819,  0.34155422,  0.34256024,  0.34356627,\n",
       "        0.34457229,  0.34557831,  0.34658434,  0.34759036,  0.34859639,\n",
       "        0.34960241,  0.35060843,  0.35161446,  0.35262048,  0.35362651,\n",
       "        0.35463253,  0.35563855,  0.35664458,  0.3576506 ,  0.35865663,\n",
       "        0.35966265,  0.36066867,  0.3616747 ,  0.36268072,  0.36368675,\n",
       "        0.36469277,  0.3656988 ,  0.36670482,  0.36771084,  0.36871687,\n",
       "        0.36972289,  0.37072892,  0.37173494,  0.37274096,  0.37374699,\n",
       "        0.37475301,  0.37575904,  0.37676506,  0.37777108,  0.37877711,\n",
       "        0.37978313,  0.38078916,  0.38179518,  0.3828012 ,  0.38380723,\n",
       "        0.38481325,  0.38581928,  0.3868253 ,  0.38783133,  0.38883735,\n",
       "        0.38984337,  0.3908494 ,  0.39185542,  0.39286145,  0.39386747,\n",
       "        0.39487349,  0.39587952,  0.39688554,  0.39789157,  0.39889759,\n",
       "        0.39990361,  0.40090964,  0.40191566,  0.40292169,  0.40392771,\n",
       "        0.40493373,  0.40593976,  0.40694578,  0.40795181,  0.40895783,\n",
       "        0.40996386,  0.41096988,  0.4119759 ,  0.41298193,  0.41398795,\n",
       "        0.41499398])"
      ]
     },
     "execution_count": 112,
     "metadata": {},
     "output_type": "execute_result"
    }
   ],
   "source": [
    "np.unique(mesh_wo_edges[2])"
   ]
  },
  {
   "cell_type": "code",
   "execution_count": 111,
   "metadata": {
    "collapsed": false
   },
   "outputs": [
    {
     "data": {
      "text/plain": [
       "(36, 44, 100)"
      ]
     },
     "execution_count": 111,
     "metadata": {},
     "output_type": "execute_result"
    }
   ],
   "source": [
    "line(m, y0, np.linspace(0.24, 0.4, 100)).shape"
   ]
  },
  {
   "cell_type": "markdown",
   "metadata": {},
   "source": [
    "# Joint quantities interpolation"
   ]
  },
  {
   "cell_type": "code",
   "execution_count": 50,
   "metadata": {
    "collapsed": false
   },
   "outputs": [
    {
     "data": {
      "text/plain": [
       "array(0.00037839785562999854)"
      ]
     },
     "execution_count": 50,
     "metadata": {},
     "output_type": "execute_result"
    }
   ],
   "source": [
    "bz_interpolators[100](0.01, 0.01, 0.249)"
   ]
  },
  {
   "cell_type": "code",
   "execution_count": 51,
   "metadata": {
    "collapsed": true
   },
   "outputs": [],
   "source": [
    "filter_width = 15"
   ]
  },
  {
   "cell_type": "code",
   "execution_count": 52,
   "metadata": {
    "collapsed": false,
    "scrolled": true
   },
   "outputs": [
    {
     "name": "stdout",
     "output_type": "stream",
     "text": [
      "0\n",
      "\n",
      "../output/2016-09-22-16-53/Bdot_triple_probe_quantities0000\n",
      "1\n",
      "\n",
      "../output/2016-09-22-16-53/Bdot_triple_probe_quantities0001\n",
      "2\n",
      "\n",
      "../output/2016-09-22-16-53/Bdot_triple_probe_quantities0002\n",
      "3\n",
      "\n"
     ]
    },
    {
     "name": "stderr",
     "output_type": "stream",
     "text": [
      "/Users/vonderlinden2/anaconda/lib/python2.7/site-packages/scipy/interpolate/fitpack2.py:1033: UserWarning: ier=12049\n",
      "  warnings.warn(message)\n"
     ]
    },
    {
     "name": "stdout",
     "output_type": "stream",
     "text": [
      "../output/2016-09-22-16-53/Bdot_triple_probe_quantities0003\n",
      "4\n",
      "\n",
      "../output/2016-09-22-16-53/Bdot_triple_probe_quantities0004\n",
      "5\n",
      "\n",
      "../output/2016-09-22-16-53/Bdot_triple_probe_quantities0005\n",
      "6\n",
      "\n",
      "../output/2016-09-22-16-53/Bdot_triple_probe_quantities0006\n",
      "7\n",
      "\n",
      "../output/2016-09-22-16-53/Bdot_triple_probe_quantities0007\n",
      "8\n",
      "\n",
      "../output/2016-09-22-16-53/Bdot_triple_probe_quantities0008\n",
      "9\n",
      "\n",
      "../output/2016-09-22-16-53/Bdot_triple_probe_quantities0009\n",
      "10\n",
      "\n",
      "../output/2016-09-22-16-53/Bdot_triple_probe_quantities0010\n",
      "11\n",
      "\n",
      "../output/2016-09-22-16-53/Bdot_triple_probe_quantities0011\n",
      "12\n",
      "\n",
      "../output/2016-09-22-16-53/Bdot_triple_probe_quantities0012\n",
      "13\n",
      "\n",
      "../output/2016-09-22-16-53/Bdot_triple_probe_quantities0013\n",
      "14\n",
      "\n",
      "../output/2016-09-22-16-53/Bdot_triple_probe_quantities0014\n",
      "15\n",
      "\n",
      "../output/2016-09-22-16-53/Bdot_triple_probe_quantities0015\n",
      "16\n",
      "\n",
      "../output/2016-09-22-16-53/Bdot_triple_probe_quantities0016\n",
      "17\n",
      "\n",
      "../output/2016-09-22-16-53/Bdot_triple_probe_quantities0017\n",
      "18\n",
      "\n",
      "../output/2016-09-22-16-53/Bdot_triple_probe_quantities0018\n",
      "19\n",
      "\n",
      "../output/2016-09-22-16-53/Bdot_triple_probe_quantities0019\n",
      "20\n",
      "\n",
      "../output/2016-09-22-16-53/Bdot_triple_probe_quantities0020\n",
      "21\n",
      "\n",
      "../output/2016-09-22-16-53/Bdot_triple_probe_quantities0021\n",
      "22\n",
      "\n",
      "../output/2016-09-22-16-53/Bdot_triple_probe_quantities0022\n",
      "23\n",
      "\n",
      "../output/2016-09-22-16-53/Bdot_triple_probe_quantities0023\n",
      "24\n",
      "\n",
      "../output/2016-09-22-16-53/Bdot_triple_probe_quantities0024\n",
      "25\n",
      "\n",
      "../output/2016-09-22-16-53/Bdot_triple_probe_quantities0025\n",
      "26\n",
      "\n",
      "../output/2016-09-22-16-53/Bdot_triple_probe_quantities0026\n",
      "27\n",
      "\n",
      "../output/2016-09-22-16-53/Bdot_triple_probe_quantities0027\n",
      "28\n",
      "\n",
      "../output/2016-09-22-16-53/Bdot_triple_probe_quantities0028\n",
      "29\n",
      "\n",
      "../output/2016-09-22-16-53/Bdot_triple_probe_quantities0029\n",
      "30\n",
      "\n",
      "../output/2016-09-22-16-53/Bdot_triple_probe_quantities0030\n",
      "31\n",
      "\n",
      "../output/2016-09-22-16-53/Bdot_triple_probe_quantities0031\n",
      "32\n",
      "\n",
      "../output/2016-09-22-16-53/Bdot_triple_probe_quantities0032\n",
      "33\n",
      "\n",
      "../output/2016-09-22-16-53/Bdot_triple_probe_quantities0033\n",
      "34\n",
      "\n",
      "../output/2016-09-22-16-53/Bdot_triple_probe_quantities0034\n",
      "35\n",
      "\n",
      "../output/2016-09-22-16-53/Bdot_triple_probe_quantities0035\n",
      "36\n",
      "\n",
      "../output/2016-09-22-16-53/Bdot_triple_probe_quantities0036\n",
      "37\n",
      "\n",
      "../output/2016-09-22-16-53/Bdot_triple_probe_quantities0037\n",
      "38\n",
      "\n",
      "../output/2016-09-22-16-53/Bdot_triple_probe_quantities0038\n",
      "39\n",
      "\n",
      "../output/2016-09-22-16-53/Bdot_triple_probe_quantities0039\n",
      "40\n",
      "\n",
      "../output/2016-09-22-16-53/Bdot_triple_probe_quantities0040\n",
      "41\n",
      "\n",
      "../output/2016-09-22-16-53/Bdot_triple_probe_quantities0041\n",
      "42\n",
      "\n",
      "../output/2016-09-22-16-53/Bdot_triple_probe_quantities0042\n",
      "43\n",
      "\n",
      "../output/2016-09-22-16-53/Bdot_triple_probe_quantities0043\n",
      "44\n",
      "\n",
      "../output/2016-09-22-16-53/Bdot_triple_probe_quantities0044\n",
      "45\n",
      "\n",
      "../output/2016-09-22-16-53/Bdot_triple_probe_quantities0045\n",
      "46\n",
      "\n",
      "../output/2016-09-22-16-53/Bdot_triple_probe_quantities0046\n",
      "47\n",
      "\n",
      "../output/2016-09-22-16-53/Bdot_triple_probe_quantities0047\n",
      "48\n",
      "\n",
      "../output/2016-09-22-16-53/Bdot_triple_probe_quantities0048\n",
      "49\n",
      "\n",
      "../output/2016-09-22-16-53/Bdot_triple_probe_quantities0049\n",
      "50\n",
      "\n",
      "../output/2016-09-22-16-53/Bdot_triple_probe_quantities0050\n",
      "51\n",
      "\n",
      "../output/2016-09-22-16-53/Bdot_triple_probe_quantities0051\n",
      "52\n",
      "\n",
      "../output/2016-09-22-16-53/Bdot_triple_probe_quantities0052\n",
      "53\n",
      "\n",
      "../output/2016-09-22-16-53/Bdot_triple_probe_quantities0053\n",
      "54\n",
      "\n",
      "../output/2016-09-22-16-53/Bdot_triple_probe_quantities0054\n",
      "55\n",
      "\n",
      "../output/2016-09-22-16-53/Bdot_triple_probe_quantities0055\n",
      "56\n",
      "\n",
      "../output/2016-09-22-16-53/Bdot_triple_probe_quantities0056\n",
      "57\n",
      "\n",
      "../output/2016-09-22-16-53/Bdot_triple_probe_quantities0057\n",
      "58\n",
      "\n",
      "../output/2016-09-22-16-53/Bdot_triple_probe_quantities0058\n",
      "59\n",
      "\n",
      "../output/2016-09-22-16-53/Bdot_triple_probe_quantities0059\n",
      "60\n",
      "\n",
      "../output/2016-09-22-16-53/Bdot_triple_probe_quantities0060\n",
      "61\n",
      "\n",
      "../output/2016-09-22-16-53/Bdot_triple_probe_quantities0061\n",
      "62\n",
      "\n",
      "../output/2016-09-22-16-53/Bdot_triple_probe_quantities0062\n",
      "63\n",
      "\n",
      "../output/2016-09-22-16-53/Bdot_triple_probe_quantities0063\n",
      "64\n",
      "\n",
      "../output/2016-09-22-16-53/Bdot_triple_probe_quantities0064\n",
      "65\n",
      "\n",
      "../output/2016-09-22-16-53/Bdot_triple_probe_quantities0065\n",
      "66\n",
      "\n",
      "../output/2016-09-22-16-53/Bdot_triple_probe_quantities0066\n",
      "67\n",
      "\n",
      "../output/2016-09-22-16-53/Bdot_triple_probe_quantities0067\n",
      "68\n",
      "\n",
      "../output/2016-09-22-16-53/Bdot_triple_probe_quantities0068\n",
      "69\n",
      "\n",
      "../output/2016-09-22-16-53/Bdot_triple_probe_quantities0069\n",
      "70\n",
      "\n",
      "../output/2016-09-22-16-53/Bdot_triple_probe_quantities0070\n",
      "71\n",
      "\n",
      "../output/2016-09-22-16-53/Bdot_triple_probe_quantities0071\n",
      "72\n",
      "\n",
      "../output/2016-09-22-16-53/Bdot_triple_probe_quantities0072\n",
      "73\n",
      "\n",
      "../output/2016-09-22-16-53/Bdot_triple_probe_quantities0073\n",
      "74\n",
      "\n",
      "../output/2016-09-22-16-53/Bdot_triple_probe_quantities0074\n",
      "75\n",
      "\n",
      "../output/2016-09-22-16-53/Bdot_triple_probe_quantities0075\n",
      "76\n",
      "\n",
      "../output/2016-09-22-16-53/Bdot_triple_probe_quantities0076\n",
      "77\n",
      "\n",
      "../output/2016-09-22-16-53/Bdot_triple_probe_quantities0077\n",
      "78\n",
      "\n",
      "../output/2016-09-22-16-53/Bdot_triple_probe_quantities0078\n",
      "79\n",
      "\n",
      "../output/2016-09-22-16-53/Bdot_triple_probe_quantities0079\n",
      "80\n",
      "\n",
      "../output/2016-09-22-16-53/Bdot_triple_probe_quantities0080\n",
      "81\n",
      "\n",
      "../output/2016-09-22-16-53/Bdot_triple_probe_quantities0081\n",
      "82\n",
      "\n",
      "../output/2016-09-22-16-53/Bdot_triple_probe_quantities0082\n",
      "83\n",
      "\n",
      "../output/2016-09-22-16-53/Bdot_triple_probe_quantities0083\n",
      "84\n",
      "\n",
      "../output/2016-09-22-16-53/Bdot_triple_probe_quantities0084\n",
      "85\n",
      "\n",
      "../output/2016-09-22-16-53/Bdot_triple_probe_quantities0085\n",
      "86\n",
      "\n",
      "../output/2016-09-22-16-53/Bdot_triple_probe_quantities0086\n",
      "87\n",
      "\n",
      "../output/2016-09-22-16-53/Bdot_triple_probe_quantities0087\n",
      "88\n",
      "\n",
      "../output/2016-09-22-16-53/Bdot_triple_probe_quantities0088\n",
      "89\n",
      "\n",
      "../output/2016-09-22-16-53/Bdot_triple_probe_quantities0089\n",
      "90\n",
      "\n",
      "../output/2016-09-22-16-53/Bdot_triple_probe_quantities0090\n",
      "91\n",
      "\n",
      "../output/2016-09-22-16-53/Bdot_triple_probe_quantities0091\n",
      "92\n",
      "\n",
      "../output/2016-09-22-16-53/Bdot_triple_probe_quantities0092\n",
      "93\n",
      "\n",
      "../output/2016-09-22-16-53/Bdot_triple_probe_quantities0093\n",
      "94\n",
      "\n",
      "../output/2016-09-22-16-53/Bdot_triple_probe_quantities0094\n",
      "95\n",
      "\n",
      "../output/2016-09-22-16-53/Bdot_triple_probe_quantities0095\n",
      "96\n",
      "\n",
      "../output/2016-09-22-16-53/Bdot_triple_probe_quantities0096\n",
      "97\n",
      "\n",
      "../output/2016-09-22-16-53/Bdot_triple_probe_quantities0097\n",
      "98\n",
      "\n",
      "../output/2016-09-22-16-53/Bdot_triple_probe_quantities0098\n",
      "99\n",
      "\n",
      "../output/2016-09-22-16-53/Bdot_triple_probe_quantities0099\n",
      "100\n",
      "\n",
      "../output/2016-09-22-16-53/Bdot_triple_probe_quantities0100\n",
      "101\n",
      "\n",
      "../output/2016-09-22-16-53/Bdot_triple_probe_quantities0101\n",
      "102\n",
      "\n",
      "../output/2016-09-22-16-53/Bdot_triple_probe_quantities0102\n",
      "103\n",
      "\n",
      "../output/2016-09-22-16-53/Bdot_triple_probe_quantities0103\n",
      "104\n",
      "\n",
      "../output/2016-09-22-16-53/Bdot_triple_probe_quantities0104\n",
      "105\n",
      "\n",
      "../output/2016-09-22-16-53/Bdot_triple_probe_quantities0105\n",
      "106\n",
      "\n",
      "../output/2016-09-22-16-53/Bdot_triple_probe_quantities0106\n",
      "107\n",
      "\n",
      "../output/2016-09-22-16-53/Bdot_triple_probe_quantities0107\n",
      "108\n",
      "\n",
      "../output/2016-09-22-16-53/Bdot_triple_probe_quantities0108\n",
      "109\n",
      "\n",
      "../output/2016-09-22-16-53/Bdot_triple_probe_quantities0109\n",
      "110\n",
      "\n",
      "../output/2016-09-22-16-53/Bdot_triple_probe_quantities0110\n",
      "111\n",
      "\n",
      "../output/2016-09-22-16-53/Bdot_triple_probe_quantities0111\n",
      "112\n",
      "\n",
      "../output/2016-09-22-16-53/Bdot_triple_probe_quantities0112\n",
      "113\n",
      "\n",
      "../output/2016-09-22-16-53/Bdot_triple_probe_quantities0113\n",
      "114\n",
      "\n",
      "../output/2016-09-22-16-53/Bdot_triple_probe_quantities0114\n",
      "115\n",
      "\n",
      "../output/2016-09-22-16-53/Bdot_triple_probe_quantities0115\n",
      "116\n",
      "\n",
      "../output/2016-09-22-16-53/Bdot_triple_probe_quantities0116\n",
      "117\n",
      "\n",
      "../output/2016-09-22-16-53/Bdot_triple_probe_quantities0117\n",
      "118\n",
      "\n",
      "../output/2016-09-22-16-53/Bdot_triple_probe_quantities0118\n",
      "119\n",
      "\n",
      "../output/2016-09-22-16-53/Bdot_triple_probe_quantities0119\n",
      "120\n",
      "\n",
      "../output/2016-09-22-16-53/Bdot_triple_probe_quantities0120\n",
      "121\n",
      "\n",
      "../output/2016-09-22-16-53/Bdot_triple_probe_quantities0121\n",
      "122\n",
      "\n",
      "../output/2016-09-22-16-53/Bdot_triple_probe_quantities0122\n",
      "123\n",
      "\n",
      "../output/2016-09-22-16-53/Bdot_triple_probe_quantities0123\n",
      "124\n",
      "\n",
      "../output/2016-09-22-16-53/Bdot_triple_probe_quantities0124\n",
      "125\n",
      "\n",
      "../output/2016-09-22-16-53/Bdot_triple_probe_quantities0125\n",
      "126\n",
      "\n",
      "../output/2016-09-22-16-53/Bdot_triple_probe_quantities0126\n",
      "127\n",
      "\n",
      "../output/2016-09-22-16-53/Bdot_triple_probe_quantities0127\n",
      "128\n",
      "\n",
      "../output/2016-09-22-16-53/Bdot_triple_probe_quantities0128\n",
      "129\n",
      "\n",
      "../output/2016-09-22-16-53/Bdot_triple_probe_quantities0129\n",
      "130\n",
      "\n",
      "../output/2016-09-22-16-53/Bdot_triple_probe_quantities0130\n",
      "131\n",
      "\n",
      "../output/2016-09-22-16-53/Bdot_triple_probe_quantities0131\n",
      "132\n",
      "\n",
      "../output/2016-09-22-16-53/Bdot_triple_probe_quantities0132\n",
      "133\n",
      "\n",
      "../output/2016-09-22-16-53/Bdot_triple_probe_quantities0133\n",
      "134\n",
      "\n",
      "../output/2016-09-22-16-53/Bdot_triple_probe_quantities0134\n",
      "135\n",
      "\n",
      "../output/2016-09-22-16-53/Bdot_triple_probe_quantities0135\n",
      "136\n",
      "\n",
      "../output/2016-09-22-16-53/Bdot_triple_probe_quantities0136\n",
      "137\n",
      "\n",
      "../output/2016-09-22-16-53/Bdot_triple_probe_quantities0137\n",
      "138\n",
      "\n",
      "../output/2016-09-22-16-53/Bdot_triple_probe_quantities0138\n",
      "139\n",
      "\n",
      "../output/2016-09-22-16-53/Bdot_triple_probe_quantities0139\n",
      "140\n",
      "\n",
      "../output/2016-09-22-16-53/Bdot_triple_probe_quantities0140\n",
      "141\n",
      "\n",
      "../output/2016-09-22-16-53/Bdot_triple_probe_quantities0141\n",
      "142\n",
      "\n",
      "../output/2016-09-22-16-53/Bdot_triple_probe_quantities0142\n",
      "143\n",
      "\n",
      "../output/2016-09-22-16-53/Bdot_triple_probe_quantities0143\n",
      "144\n",
      "\n",
      "../output/2016-09-22-16-53/Bdot_triple_probe_quantities0144\n",
      "145\n",
      "\n",
      "../output/2016-09-22-16-53/Bdot_triple_probe_quantities0145\n",
      "146\n",
      "\n",
      "../output/2016-09-22-16-53/Bdot_triple_probe_quantities0146\n",
      "147\n",
      "\n",
      "../output/2016-09-22-16-53/Bdot_triple_probe_quantities0147\n",
      "148\n",
      "\n",
      "../output/2016-09-22-16-53/Bdot_triple_probe_quantities0148\n",
      "149\n",
      "\n",
      "../output/2016-09-22-16-53/Bdot_triple_probe_quantities0149\n",
      "150\n",
      "\n",
      "../output/2016-09-22-16-53/Bdot_triple_probe_quantities0150\n",
      "151\n",
      "\n",
      "../output/2016-09-22-16-53/Bdot_triple_probe_quantities0151\n",
      "152\n",
      "\n",
      "../output/2016-09-22-16-53/Bdot_triple_probe_quantities0152\n",
      "153\n",
      "\n",
      "../output/2016-09-22-16-53/Bdot_triple_probe_quantities0153\n",
      "154\n",
      "\n",
      "../output/2016-09-22-16-53/Bdot_triple_probe_quantities0154\n",
      "155\n",
      "\n",
      "../output/2016-09-22-16-53/Bdot_triple_probe_quantities0155\n",
      "156\n",
      "\n",
      "../output/2016-09-22-16-53/Bdot_triple_probe_quantities0156\n",
      "157\n",
      "\n",
      "../output/2016-09-22-16-53/Bdot_triple_probe_quantities0157\n",
      "158\n",
      "\n",
      "../output/2016-09-22-16-53/Bdot_triple_probe_quantities0158\n",
      "159\n",
      "\n",
      "../output/2016-09-22-16-53/Bdot_triple_probe_quantities0159\n",
      "160\n",
      "\n",
      "../output/2016-09-22-16-53/Bdot_triple_probe_quantities0160\n",
      "161\n",
      "\n",
      "../output/2016-09-22-16-53/Bdot_triple_probe_quantities0161\n",
      "162\n",
      "\n",
      "../output/2016-09-22-16-53/Bdot_triple_probe_quantities0162\n",
      "163\n",
      "\n",
      "../output/2016-09-22-16-53/Bdot_triple_probe_quantities0163\n",
      "164\n",
      "\n",
      "../output/2016-09-22-16-53/Bdot_triple_probe_quantities0164\n",
      "165\n",
      "\n",
      "../output/2016-09-22-16-53/Bdot_triple_probe_quantities0165\n",
      "166\n",
      "\n",
      "../output/2016-09-22-16-53/Bdot_triple_probe_quantities0166\n",
      "167\n",
      "\n",
      "../output/2016-09-22-16-53/Bdot_triple_probe_quantities0167\n",
      "168\n",
      "\n",
      "../output/2016-09-22-16-53/Bdot_triple_probe_quantities0168\n",
      "169\n",
      "\n",
      "../output/2016-09-22-16-53/Bdot_triple_probe_quantities0169\n",
      "170\n",
      "\n",
      "../output/2016-09-22-16-53/Bdot_triple_probe_quantities0170\n",
      "171\n",
      "\n",
      "../output/2016-09-22-16-53/Bdot_triple_probe_quantities0171\n",
      "172\n",
      "\n",
      "../output/2016-09-22-16-53/Bdot_triple_probe_quantities0172\n",
      "173\n",
      "\n",
      "../output/2016-09-22-16-53/Bdot_triple_probe_quantities0173\n",
      "174\n",
      "\n",
      "../output/2016-09-22-16-53/Bdot_triple_probe_quantities0174\n",
      "175\n",
      "\n",
      "../output/2016-09-22-16-53/Bdot_triple_probe_quantities0175\n",
      "176\n",
      "\n",
      "../output/2016-09-22-16-53/Bdot_triple_probe_quantities0176\n",
      "177\n",
      "\n",
      "../output/2016-09-22-16-53/Bdot_triple_probe_quantities0177\n",
      "178\n",
      "\n",
      "../output/2016-09-22-16-53/Bdot_triple_probe_quantities0178\n",
      "179\n",
      "\n",
      "../output/2016-09-22-16-53/Bdot_triple_probe_quantities0179\n",
      "180\n",
      "\n",
      "../output/2016-09-22-16-53/Bdot_triple_probe_quantities0180\n",
      "181\n",
      "\n",
      "../output/2016-09-22-16-53/Bdot_triple_probe_quantities0181\n",
      "182\n",
      "\n",
      "../output/2016-09-22-16-53/Bdot_triple_probe_quantities0182\n",
      "183\n",
      "\n",
      "../output/2016-09-22-16-53/Bdot_triple_probe_quantities0183\n",
      "184\n",
      "\n",
      "../output/2016-09-22-16-53/Bdot_triple_probe_quantities0184\n",
      "185\n",
      "\n",
      "../output/2016-09-22-16-53/Bdot_triple_probe_quantities0185\n",
      "186\n",
      "\n",
      "../output/2016-09-22-16-53/Bdot_triple_probe_quantities0186\n",
      "187\n",
      "\n",
      "../output/2016-09-22-16-53/Bdot_triple_probe_quantities0187\n",
      "188\n",
      "\n",
      "../output/2016-09-22-16-53/Bdot_triple_probe_quantities0188\n",
      "189\n",
      "\n",
      "../output/2016-09-22-16-53/Bdot_triple_probe_quantities0189\n",
      "190\n",
      "\n",
      "../output/2016-09-22-16-53/Bdot_triple_probe_quantities0190\n",
      "191\n",
      "\n",
      "../output/2016-09-22-16-53/Bdot_triple_probe_quantities0191\n",
      "192\n",
      "\n",
      "../output/2016-09-22-16-53/Bdot_triple_probe_quantities0192\n",
      "193\n",
      "\n",
      "../output/2016-09-22-16-53/Bdot_triple_probe_quantities0193\n",
      "194\n",
      "\n",
      "../output/2016-09-22-16-53/Bdot_triple_probe_quantities0194\n",
      "195\n",
      "\n",
      "../output/2016-09-22-16-53/Bdot_triple_probe_quantities0195\n",
      "196\n",
      "\n",
      "../output/2016-09-22-16-53/Bdot_triple_probe_quantities0196\n",
      "197\n",
      "\n",
      "../output/2016-09-22-16-53/Bdot_triple_probe_quantities0197\n",
      "198\n",
      "\n",
      "../output/2016-09-22-16-53/Bdot_triple_probe_quantities0198\n",
      "199\n",
      "\n",
      "../output/2016-09-22-16-53/Bdot_triple_probe_quantities0199\n",
      "200\n",
      "\n",
      "../output/2016-09-22-16-53/Bdot_triple_probe_quantities0200\n",
      "201\n",
      "\n",
      "../output/2016-09-22-16-53/Bdot_triple_probe_quantities0201\n",
      "202\n",
      "\n",
      "../output/2016-09-22-16-53/Bdot_triple_probe_quantities0202\n",
      "203\n",
      "\n",
      "../output/2016-09-22-16-53/Bdot_triple_probe_quantities0203\n",
      "204\n",
      "\n",
      "../output/2016-09-22-16-53/Bdot_triple_probe_quantities0204\n",
      "205\n",
      "\n",
      "../output/2016-09-22-16-53/Bdot_triple_probe_quantities0205\n",
      "206\n",
      "\n",
      "../output/2016-09-22-16-53/Bdot_triple_probe_quantities0206\n",
      "207\n",
      "\n",
      "../output/2016-09-22-16-53/Bdot_triple_probe_quantities0207\n",
      "208\n",
      "\n",
      "../output/2016-09-22-16-53/Bdot_triple_probe_quantities0208\n",
      "209\n",
      "\n",
      "../output/2016-09-22-16-53/Bdot_triple_probe_quantities0209\n",
      "210\n",
      "\n",
      "../output/2016-09-22-16-53/Bdot_triple_probe_quantities0210\n",
      "211\n",
      "\n",
      "../output/2016-09-22-16-53/Bdot_triple_probe_quantities0211\n",
      "212\n",
      "\n",
      "../output/2016-09-22-16-53/Bdot_triple_probe_quantities0212\n",
      "213\n",
      "\n",
      "../output/2016-09-22-16-53/Bdot_triple_probe_quantities0213\n",
      "214\n",
      "\n",
      "../output/2016-09-22-16-53/Bdot_triple_probe_quantities0214\n",
      "215\n",
      "\n",
      "../output/2016-09-22-16-53/Bdot_triple_probe_quantities0215\n",
      "216\n",
      "\n",
      "../output/2016-09-22-16-53/Bdot_triple_probe_quantities0216\n",
      "217\n",
      "\n",
      "../output/2016-09-22-16-53/Bdot_triple_probe_quantities0217\n",
      "218\n",
      "\n",
      "../output/2016-09-22-16-53/Bdot_triple_probe_quantities0218\n",
      "219\n",
      "\n"
     ]
    },
    {
     "name": "stderr",
     "output_type": "stream",
     "text": [
      "/Users/vonderlinden2/anaconda/lib/python2.7/site-packages/scipy/interpolate/fitpack2.py:1033: UserWarning: ier=13620\n",
      "  warnings.warn(message)\n"
     ]
    },
    {
     "name": "stdout",
     "output_type": "stream",
     "text": [
      "../output/2016-09-22-16-53/Bdot_triple_probe_quantities0219\n",
      "220\n",
      "\n",
      "../output/2016-09-22-16-53/Bdot_triple_probe_quantities0220\n",
      "221\n",
      "\n",
      "../output/2016-09-22-16-53/Bdot_triple_probe_quantities0221\n",
      "222\n",
      "\n",
      "../output/2016-09-22-16-53/Bdot_triple_probe_quantities0222\n",
      "223\n",
      "\n",
      "../output/2016-09-22-16-53/Bdot_triple_probe_quantities0223\n",
      "224\n",
      "\n",
      "../output/2016-09-22-16-53/Bdot_triple_probe_quantities0224\n",
      "225\n",
      "\n",
      "../output/2016-09-22-16-53/Bdot_triple_probe_quantities0225\n",
      "226\n",
      "\n",
      "../output/2016-09-22-16-53/Bdot_triple_probe_quantities0226\n",
      "227\n",
      "\n"
     ]
    },
    {
     "name": "stderr",
     "output_type": "stream",
     "text": [
      "/Users/vonderlinden2/anaconda/lib/python2.7/site-packages/scipy/interpolate/fitpack2.py:1033: UserWarning: ier=12799\n",
      "  warnings.warn(message)\n"
     ]
    },
    {
     "name": "stdout",
     "output_type": "stream",
     "text": [
      "../output/2016-09-22-16-53/Bdot_triple_probe_quantities0227\n",
      "228\n",
      "\n",
      "../output/2016-09-22-16-53/Bdot_triple_probe_quantities0228\n",
      "229\n",
      "\n",
      "../output/2016-09-22-16-53/Bdot_triple_probe_quantities0229\n",
      "230\n",
      "\n",
      "../output/2016-09-22-16-53/Bdot_triple_probe_quantities0230\n",
      "231\n",
      "\n",
      "../output/2016-09-22-16-53/Bdot_triple_probe_quantities0231\n",
      "232\n",
      "\n",
      "../output/2016-09-22-16-53/Bdot_triple_probe_quantities0232\n",
      "233\n",
      "\n",
      "../output/2016-09-22-16-53/Bdot_triple_probe_quantities0233\n",
      "234\n",
      "\n",
      "../output/2016-09-22-16-53/Bdot_triple_probe_quantities0234\n",
      "235\n",
      "\n",
      "../output/2016-09-22-16-53/Bdot_triple_probe_quantities0235\n",
      "236\n",
      "\n",
      "../output/2016-09-22-16-53/Bdot_triple_probe_quantities0236\n",
      "237\n",
      "\n",
      "../output/2016-09-22-16-53/Bdot_triple_probe_quantities0237\n",
      "238\n",
      "\n",
      "../output/2016-09-22-16-53/Bdot_triple_probe_quantities0238\n",
      "239\n",
      "\n",
      "../output/2016-09-22-16-53/Bdot_triple_probe_quantities0239\n",
      "240\n",
      "\n",
      "../output/2016-09-22-16-53/Bdot_triple_probe_quantities0240\n",
      "241\n",
      "\n",
      "../output/2016-09-22-16-53/Bdot_triple_probe_quantities0241\n",
      "242\n",
      "\n",
      "../output/2016-09-22-16-53/Bdot_triple_probe_quantities0242\n",
      "243\n",
      "\n",
      "../output/2016-09-22-16-53/Bdot_triple_probe_quantities0243\n",
      "244\n",
      "\n",
      "../output/2016-09-22-16-53/Bdot_triple_probe_quantities0244\n",
      "245\n",
      "\n",
      "../output/2016-09-22-16-53/Bdot_triple_probe_quantities0245\n",
      "246\n",
      "\n",
      "../output/2016-09-22-16-53/Bdot_triple_probe_quantities0246\n",
      "247\n",
      "\n",
      "../output/2016-09-22-16-53/Bdot_triple_probe_quantities0247\n",
      "248\n",
      "\n",
      "../output/2016-09-22-16-53/Bdot_triple_probe_quantities0248\n",
      "249\n",
      "\n",
      "../output/2016-09-22-16-53/Bdot_triple_probe_quantities0249\n"
     ]
    }
   ],
   "source": [
    "now = datetime.now().strftime(\"%Y-%m-%d-%H-%M\")\n",
    "out_dir = '../output/' + now\n",
    "try:\n",
    "    os.makedirs(out_dir)\n",
    "except:\n",
    "    pass\n",
    "\n",
    "alpha = 1\n",
    "\n",
    "(x_min, x_max, \n",
    " y_min, y_max,\n",
    " z_min, z_max) = joint_mach_bdot_tp_extent()\n",
    "\n",
    "spatial_increment = 0.001\n",
    "mesh = np.meshgrid(np.linspace(x_min, x_max, np.ceil((x_max-x_min)/spatial_increment)),\n",
    "                   np.linspace(y_min, y_max, np.ceil((y_max-y_min)/spatial_increment)),\n",
    "                   np.linspace(z_min, z_max, np.ceil((z_max-z_min)/spatial_increment)))\n",
    "\n",
    "mesh_wo_edges = remove_edges_mesh([np.array(mesh[0]), \n",
    "                                   np.array(mesh[1]), \n",
    "                                   np.array(mesh[2])])\n",
    "ones = np.ones(mesh_wo_edges[0].shape)\n",
    "\n",
    "quantity_names = ['B_x', 'B_y', 'B_z',\n",
    "                  'B_norm_x', 'B_norm_y', 'B_norm_z',\n",
    "                  'j_x', 'j_y', 'j_z', 'n', 'Te',\n",
    "                  'u_i_term1_x', 'u_i_term1_y', 'u_i_term1_z',\n",
    "                  'u_e_norm_x', 'u_e_norm_y', 'u_e_norm_z',\n",
    "                  'w_i_term1_x', 'w_i_term1_y', 'w_i_term1_z',\n",
    "                  'w_i_term2_x', 'w_i_term2_y', 'w_i_term2_z',\n",
    "                  'u_i_term1_x_constant_density', 'u_i_term1_y_constant_density', 'u_i_term1_z_constant_density',\n",
    "                  'w_i_term1_x_constant_density', 'w_i_term1_y_constant_density', 'w_i_term1_z_constant_density',\n",
    "                  'ones', \n",
    "                  'u_e_x_fitted_alpha', 'u_e_y_fitted_alpha', 'u_e_z_fitted_alpha',\n",
    "                  'w_i_term2_x_fitted_alpha', 'w_i_term2_y_fitted_alpha', 'w_i_term2_z_fitted_alpha',\n",
    "                  'alpha_fitted']\n",
    "\n",
    "for time_point in xrange(len(bx_interpolators)):\n",
    "    print time_point\n",
    "    bx_interpolator = bx_interpolators[time_point]\n",
    "    by_interpolator = by_interpolators[time_point]\n",
    "    bz_interpolator = bz_interpolators[time_point]\n",
    "    te_interpolator = te_interpolators[time_point]\n",
    "    n_interpolator = n_interpolators[time_point]\n",
    "    \n",
    "    bx_derivative = triangulate_derivatives(mesh, bx_triangulation, bx_interpolator, \n",
    "                                            increment=0.0000001)\n",
    "    bx_derivative = remove_edges_derivative_meshes(bx_derivative)\n",
    "    by_derivative = triangulate_derivatives(mesh, by_triangulation, by_interpolator, \n",
    "                                               increment=0.0000001)\n",
    "    by_derivative = remove_edges_derivative_meshes(by_derivative)\n",
    "    bz_derivative = triangulate_derivatives(mesh, bz_triangulation, bz_interpolator, \n",
    "                                               increment=0.0000001)\n",
    "    bz_derivative = remove_edges_derivative_meshes(bz_derivative)\n",
    "\n",
    "\n",
    "    current = current_on_mesh([bx_derivative, \n",
    "                               by_derivative, \n",
    "                               bz_derivative])\n",
    "    b_field, b_field_norm = b_field_on_mesh([bx_interpolator, \n",
    "                                             by_interpolator,\n",
    "                                             bz_interpolator], mesh_wo_edges, bias=2e-2)\n",
    "    \n",
    "    temperature = scalar_on_mesh(te_interpolator, mesh_wo_edges)\n",
    "    density = scalar_on_mesh(n_interpolator, mesh_wo_edges)\n",
    "\n",
    "    current = np.asarray(current)\n",
    "    density = np.asarray(density)\n",
    "    b_field_norm = np.asarray(b_field_norm)\n",
    "\n",
    "    density = boxcar_filter_quantity_mesh(density, filter_width)\n",
    "\n",
    "    for direction in xrange(len(current)):\n",
    "        current[direction] = boxcar_filter_quantity_mesh(current[direction], filter_width)\n",
    "\n",
    "    density_constant = 1e18*np.ones(density.shape)\n",
    "        \n",
    "    ion_velocity_term_1 = calc_ion_velocity_term_1(current, density, q_e)\n",
    "    ion_velocity_term_1_constant_density = calc_ion_velocity_term_1(current, density_constant, q_e)\n",
    "    \n",
    "    \n",
    "    mach_y_interpolator = mach_y_interpolators[time_point]\n",
    "    mach_z_interpolator = mach_z_interpolators[time_point]\n",
    " \n",
    "    mach_y = scalar_on_mesh(mach_y_interpolator, mesh_wo_edges[:2])\n",
    "    mach_z = scalar_on_mesh(mach_z_interpolator, mesh_wo_edges)\n",
    "    te = scalar_on_mesh(te_interpolator, mesh_wo_edges)\n",
    "\n",
    "    u_i_y = np.sqrt(te*q_e/m_i)*mach_y\n",
    "    u_i_z = np.sqrt(te*q_e/m_i)*mach_z\n",
    "\n",
    "    u_i_y = np.reshape(u_i_y, mesh_wo_edges[0].shape)\n",
    "    u_i_z = np.reshape(u_i_z, mesh_wo_edges[0].shape)\n",
    "    \n",
    "    alpha_from_y = (u_i_y - ion_velocity_term_1[1])/ b_field_norm[1]\n",
    "    alpha_from_z = (u_i_z - ion_velocity_term_1[2])/ b_field_norm[2]\n",
    "\n",
    "    alpha_from_y_flattened = alpha_from_y[:,:,-1].ravel()\n",
    "    alpha_from_z_flattened = alpha_from_z[:,:,-1].ravel()\n",
    "    points_x = mesh_wo_edges[0][:, :, -1].ravel()\n",
    "    points_y = mesh_wo_edges[1][:, :, -1].ravel()\n",
    "    points_z = mesh[2][0,0,-1]*np.ones(points_x.shape)\n",
    "    std = np.expand_dims(np.zeros(points_x.shape), 0)\n",
    "\n",
    "    data_y = {'a_out': np.expand_dims(alpha_from_y_flattened, 0), \n",
    "              'x_out': points_x,\n",
    "              'y_out': points_y,\n",
    "              'z_out': points_z,\n",
    "              'std': std\n",
    "             }\n",
    "    data_z = {'a_out': np.expand_dims(alpha_from_z_flattened, 0),\n",
    "              'x_out': points_x,\n",
    "              'y_out': points_y,\n",
    "              'z_out': points_z,\n",
    "              'std': std\n",
    "              }\n",
    "\n",
    "    data_y = remove_nan_points(data_y)\n",
    "    data_z = remove_nan_points(data_z)\n",
    "    \n",
    "    alpha_interp = fit_z_alphas(data_z, mesh_wo_edges, s=7e10)   \n",
    "    alpha_fitted = np.repeat(np.expand_dims(alpha_interp, 2), density.shape[2], 2)\n",
    "\n",
    "    ion_velocity_term_2 = calc_ion_velocity_term_2(b_field_norm, alpha)\n",
    "    ion_velocity_term_2_alpha = calc_ion_velocity_term_2(b_field_norm, alpha_fitted)\n",
    "    \n",
    "    ion_vorticity_term_1 = calc_ion_vorticity_term_1(current, density, q_e, mesh_wo_edges)\n",
    "    ion_vorticity_term_1_constant_density = calc_ion_vorticity_term_1(current, density_constant, q_e, mesh_wo_edges)\n",
    "    ion_vorticity_term_2 = calc_ion_vorticity_term_2(b_field_norm, alpha, mesh_wo_edges)\n",
    "    ion_vorticity_term_2_alpha = calc_ion_vorticity_term_2(b_field_norm, alpha_fitted, mesh_wo_edges)\n",
    "    \n",
    "    \n",
    "\n",
    "    for direction in xrange(len(ion_vorticity_term_1)):\n",
    "        ion_vorticity_term_1[direction] = boxcar_filter_quantity_mesh(ion_vorticity_term_1[direction], filter_width)\n",
    "        ion_vorticity_term_1_constant_density[direction] = boxcar_filter_quantity_mesh(ion_vorticity_term_1_constant_density[direction], filter_width)\n",
    "        ion_vorticity_term_2[direction] = boxcar_filter_quantity_mesh(ion_vorticity_term_2[direction], filter_width)\n",
    "        ion_vorticity_term_2_alpha[direction] = boxcar_filter_quantity_mesh(ion_vorticity_term_2_alpha[direction], \n",
    "                                                                            filter_width)\n",
    "    \n",
    "    \n",
    "    \n",
    "    fields = (list(b_field) + list(b_field_norm) + list(current) + \n",
    "              [density] + [temperature] +\n",
    "              list(ion_velocity_term_1) + list(ion_velocity_term_2) +\n",
    "              list(ion_vorticity_term_1) + list(ion_vorticity_term_2) +\n",
    "              list(ion_velocity_term_1_constant_density) +\n",
    "              list(ion_vorticity_term_1_constant_density) +\n",
    "              [ones] + \n",
    "              list(ion_velocity_term_2_alpha)+\n",
    "              list(ion_vorticity_term_2_alpha) +\n",
    "              [alpha_fitted])\n",
    "\n",
    "    numpy_archive_name = out_dir + '/Bdot_triple_probe_quantities' + str(time_point).zfill(4) + '.npz'\n",
    "    save_to_numpy_mesh(mesh_wo_edges, fields[5:9], quantity_names[5:9], numpy_archive_name)    \n",
    "    \n",
    "    x, y, z, variables = prepare_for_rectilinear_grid(mesh_wo_edges, fields,\n",
    "                                                      quantity_names)\n",
    "\n",
    "    write_fields_and_currents_to_structured_mesh(now, 'Bdot_triple_probe_quantities', x, y, z, variables, time_point)"
   ]
  },
  {
   "cell_type": "code",
   "execution_count": 72,
   "metadata": {
    "collapsed": false
   },
   "outputs": [
    {
     "data": {
      "text/plain": [
       "(36, 44, 166)"
      ]
     },
     "execution_count": 72,
     "metadata": {},
     "output_type": "execute_result"
    }
   ],
   "source": [
    "alpha_fitted.shape"
   ]
  },
  {
   "cell_type": "code",
   "execution_count": null,
   "metadata": {
    "collapsed": false
   },
   "outputs": [],
   "source": [
    "plot_spline_data_knots(alpha_fitted[:,:,-1], mesh_wo_edges[0][:,:,-1], mesh_wo_edges[1][:,:, -1], [], [])"
   ]
  },
  {
   "cell_type": "code",
   "execution_count": 311,
   "metadata": {
    "collapsed": false
   },
   "outputs": [
    {
     "data": {
      "text/plain": [
       "'../output/2016-09-21-21-30/Bdot_triple_probe_quantities0249.npz'"
      ]
     },
     "execution_count": 311,
     "metadata": {},
     "output_type": "execute_result"
    }
   ],
   "source": [
    "numpy_archive_name"
   ]
  },
  {
   "cell_type": "code",
   "execution_count": 288,
   "metadata": {
    "collapsed": false
   },
   "outputs": [
    {
     "data": {
      "text/plain": [
       "(36, 44, 166)"
      ]
     },
     "execution_count": 288,
     "metadata": {},
     "output_type": "execute_result"
    }
   ],
   "source": [
    "alpha_fitted.shape"
   ]
  },
  {
   "cell_type": "code",
   "execution_count": 289,
   "metadata": {
    "collapsed": false
   },
   "outputs": [
    {
     "data": {
      "text/plain": [
       "(36, 44, 166)"
      ]
     },
     "execution_count": 289,
     "metadata": {},
     "output_type": "execute_result"
    }
   ],
   "source": [
    "ones.shape"
   ]
  },
  {
   "cell_type": "code",
   "execution_count": 291,
   "metadata": {
    "collapsed": false
   },
   "outputs": [
    {
     "data": {
      "text/plain": [
       "(36, 44, 166)"
      ]
     },
     "execution_count": 291,
     "metadata": {},
     "output_type": "execute_result"
    }
   ],
   "source": [
    "ion_vorticity_term_2_alpha[0].shape"
   ]
  },
  {
   "cell_type": "code",
   "execution_count": 292,
   "metadata": {
    "collapsed": false
   },
   "outputs": [
    {
     "data": {
      "text/plain": [
       "(36, 44, 166)"
      ]
     },
     "execution_count": 292,
     "metadata": {},
     "output_type": "execute_result"
    }
   ],
   "source": [
    "b_field[0].shape"
   ]
  },
  {
   "cell_type": "code",
   "execution_count": 303,
   "metadata": {
    "collapsed": false
   },
   "outputs": [
    {
     "data": {
      "text/plain": [
       "262944"
      ]
     },
     "execution_count": 303,
     "metadata": {},
     "output_type": "execute_result"
    }
   ],
   "source": [
    "36*44*166"
   ]
  },
  {
   "cell_type": "code",
   "execution_count": 69,
   "metadata": {
    "collapsed": false
   },
   "outputs": [
    {
     "name": "stdout",
     "output_type": "stream",
     "text": [
      "density between 7.18761714797e+19 1.26165033215e+17 7.67230104918e+18\n",
      "abs density between 7.18761714797e+19 1.26165033215e+17 7.67230104918e+18\n",
      "charge 1.6021766208e-19\n",
      "current x between 1445823.091 -664716.029921 287.957349552\n",
      "current y between 1715203.22622 -1893650.19427 -3720.90718255\n",
      "current z between 3060044.45744 -2740383.91419 -28779.1816356\n",
      "denominator between 11.5158321537 0.020213866658 1.22923813687\n",
      "abs denominator between 11.5158321537 0.020213866658 1.22923813687\n",
      "term x between 13140771.3648 -4042828.16287 1798.77853144\n",
      "term y between 8944163.4699 -8274999.82743 -4840.150886\n",
      "term z between 7991128.24954 -7980696.62142 -10766.3934199\n"
     ]
    }
   ],
   "source": [
    "print 'density between', density.max(), density.min(), density.mean()\n",
    "print 'abs density between', np.abs(density).max(), np.abs(density).min(), np.abs(density).mean()\n",
    "print 'charge', q_e\n",
    "print 'current x between', current[0].max(), current[0].min(), current[0].mean()\n",
    "print 'current y between', current[1].max(), current[1].min(), current[1].mean()\n",
    "print 'current z between', current[2].max(), current[2].min(), current[2].mean()\n",
    "denominator = density*q_e\n",
    "print 'denominator between', denominator.max(), denominator.min(), denominator.mean()\n",
    "print 'abs denominator between', np.abs(denominator).max(), np.abs(denominator).min(), np.abs(denominator).mean()\n",
    "term = [current[0]/denominator,\n",
    "        current[1]/denominator,\n",
    "        current[2]/denominator]\n",
    "print 'term x between', term[0].max(), term[0].min(), term[0].mean()\n",
    "print 'term y between', term[1].max(), term[1].min(), term[1].mean()\n",
    "print 'term z between', term[2].max(), term[2].min(), term[2].mean()"
   ]
  },
  {
   "cell_type": "code",
   "execution_count": 283,
   "metadata": {
    "collapsed": false
   },
   "outputs": [
    {
     "data": {
      "text/plain": [
       "(36, 44, 166)"
      ]
     },
     "execution_count": 283,
     "metadata": {},
     "output_type": "execute_result"
    }
   ],
   "source": [
    "u_i_y.shape"
   ]
  },
  {
   "cell_type": "code",
   "execution_count": 284,
   "metadata": {
    "collapsed": false
   },
   "outputs": [
    {
     "data": {
      "text/plain": [
       "(36, 44, 166)"
      ]
     },
     "execution_count": 284,
     "metadata": {},
     "output_type": "execute_result"
    }
   ],
   "source": [
    "u_i_z.shape"
   ]
  },
  {
   "cell_type": "code",
   "execution_count": 285,
   "metadata": {
    "collapsed": false
   },
   "outputs": [
    {
     "data": {
      "text/plain": [
       "(38, 46, 167)"
      ]
     },
     "execution_count": 285,
     "metadata": {},
     "output_type": "execute_result"
    }
   ],
   "source": [
    "mesh[0].shape"
   ]
  },
  {
   "cell_type": "code",
   "execution_count": null,
   "metadata": {
    "collapsed": true
   },
   "outputs": [],
   "source": []
  }
 ],
 "metadata": {
  "kernelspec": {
   "display_name": "Python 2",
   "language": "python",
   "name": "python2"
  },
  "language_info": {
   "codemirror_mode": {
    "name": "ipython",
    "version": 2
   },
   "file_extension": ".py",
   "mimetype": "text/x-python",
   "name": "python",
   "nbconvert_exporter": "python",
   "pygments_lexer": "ipython2",
   "version": "2.7.11"
  }
 },
 "nbformat": 4,
 "nbformat_minor": 0
}
