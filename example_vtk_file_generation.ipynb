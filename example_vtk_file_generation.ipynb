{
 "cells": [
  {
   "cell_type": "markdown",
   "metadata": {},
   "source": [
    "# Getting data into VTK files for VisIt"
   ]
  },
  {
   "cell_type": "markdown",
   "metadata": {},
   "source": [
    "In this noteboook I adapt an unstructured grid example for the pyvisfile library to save data from Jason's IDL scripts."
   ]
  },
  {
   "cell_type": "code",
   "execution_count": 1,
   "metadata": {
    "collapsed": true
   },
   "outputs": [],
   "source": [
    "import numpy as np\n",
    "from pyvisfile.vtk import ( \n",
    "    UnstructuredGrid, DataArray,\n",
    "    AppendedDataXMLGenerator,\n",
    "    VTK_VERTEX, VF_LIST_OF_VECTORS, VF_LIST_OF_COMPONENTS)\n",
    "\n",
    "n = 5000\n",
    "points = np.random.randn(n, 3)\n",
    "\n",
    "data = [\n",
    "        (\"p\", np.random.randn(n)),\n",
    "        (\"vel\", np.random.randn(3, n)),\n",
    "]\n",
    "file_name = \"points.vtu\"\n",
    "compressor = None\n",
    "\n",
    "grid = UnstructuredGrid(\n",
    "        (n, DataArray(\"points\", points, vector_format=VF_LIST_OF_VECTORS)),\n",
    "        cells=np.arange(n, dtype=np.uint32),\n",
    "        cell_types=np.asarray([VTK_VERTEX] * n, dtype=np.uint8))\n",
    "\n",
    "for name, field in data:\n",
    "    grid.add_pointdata(DataArray(name, field,\n",
    "        vector_format=VF_LIST_OF_COMPONENTS))\n",
    "\n",
    "from os.path import exists\n",
    "if exists(file_name):\n",
    "    raise RuntimeError(\"output file '%s' already exists\"\n",
    "        % file_name)\n",
    "\n",
    "outf = open(file_name, \"w\")\n",
    "AppendedDataXMLGenerator(compressor)(grid).write(outf)\n",
    "outf.close()"
   ]
  },
  {
   "cell_type": "markdown",
   "metadata": {},
   "source": [
    "# Try to store a single time from Jason's IDL scripts\n",
    "Store $\\vec{B}$, $T$, and $n$."
   ]
  },
  {
   "cell_type": "code",
   "execution_count": 6,
   "metadata": {
    "collapsed": true
   },
   "outputs": [],
   "source": [
    "b_x_measurement_points_timestamp = '115110949362'\n",
    "b_y_measurement_points_timestamp = '115110949522'\n",
    "b_z_measurement_points_timestamp = '115110938869'\n",
    "triple_measurement_points_timestamp = '115112535917'\n",
    "b_x_measurements_timestamp = '115112539367'\n",
    "b_y_measurements_timestamp = '115112539384'\n",
    "b_z_measurements_timestamp = '115112539331'\n",
    "n_measurements_timestamp = '115112539443'\n",
    "t_measurements_timestamp = '115112539427'"
   ]
  },
  {
   "cell_type": "code",
   "execution_count": 7,
   "metadata": {
    "collapsed": true
   },
   "outputs": [],
   "source": [
    "data_path = '../../cataloging_physics_quantities/output/intermediate/'\n",
    "data_ending = '.sav'\n",
    "b_x_measurement_points_file = data_path + b_x_measurement_points_timestamp + data_ending\n",
    "b_y_measurement_points_file = data_path + b_y_measurement_points_timestamp + data_ending\n",
    "b_z_measurement_points_file = data_path + b_z_measurement_points_timestamp + data_ending\n",
    "triple_measurement_points_file = data_path + triple_measurement_points_timestamp + data_ending \n",
    "b_x_measurements_file = data_path + b_x_measurements_timestamp + data_ending\n",
    "b_y_measurements_file = data_path + b_y_measurements_timestamp + data_ending\n",
    "b_z_measurements_file = data_path + b_z_measurements_timestamp + data_ending\n",
    "n_measurements_file = data_path + n_measurements_timestamp + data_ending\n",
    "t_measurements_file = data_path + t_measurements_timestamp + data_ending"
   ]
  },
  {
   "cell_type": "code",
   "execution_count": 4,
   "metadata": {
    "collapsed": true
   },
   "outputs": [],
   "source": [
    "import scipy.io.idl as idl"
   ]
  },
  {
   "cell_type": "code",
   "execution_count": null,
   "metadata": {
    "collapsed": true
   },
   "outputs": [],
   "source": [
    "def convert_scalar_idl_sav_to_vtk(scalar_measurements_points_file, \n",
    "                                  scalar_measurements_file):\n",
    "    r\"\"\"\n",
    "    Read IDL sav files and store in a vtk file.\n",
    "    \"\"\"\n",
    "    scalar_measurements_points = idl.readsav(scalar_measurements_points_file, \n",
    "                                             verbose=False)\n",
    "    scalar_measurements = idl.readsav(scalar_measurements_file, \n",
    "                                      verbose=False)\n",
    "    "
   ]
  },
  {
   "cell_type": "code",
   "execution_count": 29,
   "metadata": {
    "collapsed": false
   },
   "outputs": [],
   "source": [
    "b_x_measurement_points = idl.readsav(b_x_measurement_points_file)"
   ]
  },
  {
   "cell_type": "code",
   "execution_count": 30,
   "metadata": {
    "collapsed": false
   },
   "outputs": [],
   "source": [
    "b_y_measurement_points = idl.readsav(b_y_measurement_points_file)"
   ]
  },
  {
   "cell_type": "code",
   "execution_count": 34,
   "metadata": {
    "collapsed": false
   },
   "outputs": [
    {
     "ename": "ValueError",
     "evalue": "operands could not be broadcast together with shapes (755,) (2104,) ",
     "output_type": "error",
     "traceback": [
      "\u001b[0;31m---------------------------------------------------------------------------\u001b[0m",
      "\u001b[0;31mValueError\u001b[0m                                Traceback (most recent call last)",
      "\u001b[0;32m<ipython-input-34-1f4080be4d90>\u001b[0m in \u001b[0;36m<module>\u001b[0;34m()\u001b[0m\n\u001b[0;32m----> 1\u001b[0;31m \u001b[0mnp\u001b[0m\u001b[0;34m.\u001b[0m\u001b[0mallclose\u001b[0m\u001b[0;34m(\u001b[0m\u001b[0mb_x_measurement_points\u001b[0m\u001b[0;34m[\u001b[0m\u001b[0;34m'x_out'\u001b[0m\u001b[0;34m]\u001b[0m\u001b[0;34m,\u001b[0m \u001b[0mb_y_measurement_points\u001b[0m\u001b[0;34m[\u001b[0m\u001b[0;34m'x_out'\u001b[0m\u001b[0;34m]\u001b[0m\u001b[0;34m)\u001b[0m\u001b[0;34m\u001b[0m\u001b[0m\n\u001b[0m",
      "\u001b[0;32m/Users/vonderlinden2/anaconda/lib/python2.7/site-packages/numpy/core/numeric.pyc\u001b[0m in \u001b[0;36mallclose\u001b[0;34m(a, b, rtol, atol, equal_nan)\u001b[0m\n\u001b[1;32m   2272\u001b[0m \u001b[0;34m\u001b[0m\u001b[0m\n\u001b[1;32m   2273\u001b[0m     \"\"\"\n\u001b[0;32m-> 2274\u001b[0;31m     \u001b[0;32mreturn\u001b[0m \u001b[0mall\u001b[0m\u001b[0;34m(\u001b[0m\u001b[0misclose\u001b[0m\u001b[0;34m(\u001b[0m\u001b[0ma\u001b[0m\u001b[0;34m,\u001b[0m \u001b[0mb\u001b[0m\u001b[0;34m,\u001b[0m \u001b[0mrtol\u001b[0m\u001b[0;34m=\u001b[0m\u001b[0mrtol\u001b[0m\u001b[0;34m,\u001b[0m \u001b[0matol\u001b[0m\u001b[0;34m=\u001b[0m\u001b[0matol\u001b[0m\u001b[0;34m,\u001b[0m \u001b[0mequal_nan\u001b[0m\u001b[0;34m=\u001b[0m\u001b[0mequal_nan\u001b[0m\u001b[0;34m)\u001b[0m\u001b[0;34m)\u001b[0m\u001b[0;34m\u001b[0m\u001b[0m\n\u001b[0m\u001b[1;32m   2275\u001b[0m \u001b[0;34m\u001b[0m\u001b[0m\n\u001b[1;32m   2276\u001b[0m \u001b[0;32mdef\u001b[0m \u001b[0misclose\u001b[0m\u001b[0;34m(\u001b[0m\u001b[0ma\u001b[0m\u001b[0;34m,\u001b[0m \u001b[0mb\u001b[0m\u001b[0;34m,\u001b[0m \u001b[0mrtol\u001b[0m\u001b[0;34m=\u001b[0m\u001b[0;36m1.e-5\u001b[0m\u001b[0;34m,\u001b[0m \u001b[0matol\u001b[0m\u001b[0;34m=\u001b[0m\u001b[0;36m1.e-8\u001b[0m\u001b[0;34m,\u001b[0m \u001b[0mequal_nan\u001b[0m\u001b[0;34m=\u001b[0m\u001b[0mFalse\u001b[0m\u001b[0;34m)\u001b[0m\u001b[0;34m:\u001b[0m\u001b[0;34m\u001b[0m\u001b[0m\n",
      "\u001b[0;32m/Users/vonderlinden2/anaconda/lib/python2.7/site-packages/numpy/core/numeric.pyc\u001b[0m in \u001b[0;36misclose\u001b[0;34m(a, b, rtol, atol, equal_nan)\u001b[0m\n\u001b[1;32m   2352\u001b[0m     \u001b[0myfin\u001b[0m \u001b[0;34m=\u001b[0m \u001b[0misfinite\u001b[0m\u001b[0;34m(\u001b[0m\u001b[0my\u001b[0m\u001b[0;34m)\u001b[0m\u001b[0;34m\u001b[0m\u001b[0m\n\u001b[1;32m   2353\u001b[0m     \u001b[0;32mif\u001b[0m \u001b[0mall\u001b[0m\u001b[0;34m(\u001b[0m\u001b[0mxfin\u001b[0m\u001b[0;34m)\u001b[0m \u001b[0;32mand\u001b[0m \u001b[0mall\u001b[0m\u001b[0;34m(\u001b[0m\u001b[0myfin\u001b[0m\u001b[0;34m)\u001b[0m\u001b[0;34m:\u001b[0m\u001b[0;34m\u001b[0m\u001b[0m\n\u001b[0;32m-> 2354\u001b[0;31m         \u001b[0;32mreturn\u001b[0m \u001b[0mwithin_tol\u001b[0m\u001b[0;34m(\u001b[0m\u001b[0mx\u001b[0m\u001b[0;34m,\u001b[0m \u001b[0my\u001b[0m\u001b[0;34m,\u001b[0m \u001b[0matol\u001b[0m\u001b[0;34m,\u001b[0m \u001b[0mrtol\u001b[0m\u001b[0;34m)\u001b[0m\u001b[0;34m\u001b[0m\u001b[0m\n\u001b[0m\u001b[1;32m   2355\u001b[0m     \u001b[0;32melse\u001b[0m\u001b[0;34m:\u001b[0m\u001b[0;34m\u001b[0m\u001b[0m\n\u001b[1;32m   2356\u001b[0m         \u001b[0mfinite\u001b[0m \u001b[0;34m=\u001b[0m \u001b[0mxfin\u001b[0m \u001b[0;34m&\u001b[0m \u001b[0myfin\u001b[0m\u001b[0;34m\u001b[0m\u001b[0m\n",
      "\u001b[0;32m/Users/vonderlinden2/anaconda/lib/python2.7/site-packages/numpy/core/numeric.pyc\u001b[0m in \u001b[0;36mwithin_tol\u001b[0;34m(x, y, atol, rtol)\u001b[0m\n\u001b[1;32m   2335\u001b[0m     \u001b[0;32mdef\u001b[0m \u001b[0mwithin_tol\u001b[0m\u001b[0;34m(\u001b[0m\u001b[0mx\u001b[0m\u001b[0;34m,\u001b[0m \u001b[0my\u001b[0m\u001b[0;34m,\u001b[0m \u001b[0matol\u001b[0m\u001b[0;34m,\u001b[0m \u001b[0mrtol\u001b[0m\u001b[0;34m)\u001b[0m\u001b[0;34m:\u001b[0m\u001b[0;34m\u001b[0m\u001b[0m\n\u001b[1;32m   2336\u001b[0m         \u001b[0;32mwith\u001b[0m \u001b[0merrstate\u001b[0m\u001b[0;34m(\u001b[0m\u001b[0minvalid\u001b[0m\u001b[0;34m=\u001b[0m\u001b[0;34m'ignore'\u001b[0m\u001b[0;34m)\u001b[0m\u001b[0;34m:\u001b[0m\u001b[0;34m\u001b[0m\u001b[0m\n\u001b[0;32m-> 2337\u001b[0;31m             \u001b[0mresult\u001b[0m \u001b[0;34m=\u001b[0m \u001b[0mless_equal\u001b[0m\u001b[0;34m(\u001b[0m\u001b[0mabs\u001b[0m\u001b[0;34m(\u001b[0m\u001b[0mx\u001b[0m\u001b[0;34m-\u001b[0m\u001b[0my\u001b[0m\u001b[0;34m)\u001b[0m\u001b[0;34m,\u001b[0m \u001b[0matol\u001b[0m \u001b[0;34m+\u001b[0m \u001b[0mrtol\u001b[0m \u001b[0;34m*\u001b[0m \u001b[0mabs\u001b[0m\u001b[0;34m(\u001b[0m\u001b[0my\u001b[0m\u001b[0;34m)\u001b[0m\u001b[0;34m)\u001b[0m\u001b[0;34m\u001b[0m\u001b[0m\n\u001b[0m\u001b[1;32m   2338\u001b[0m         \u001b[0;32mif\u001b[0m \u001b[0misscalar\u001b[0m\u001b[0;34m(\u001b[0m\u001b[0ma\u001b[0m\u001b[0;34m)\u001b[0m \u001b[0;32mand\u001b[0m \u001b[0misscalar\u001b[0m\u001b[0;34m(\u001b[0m\u001b[0mb\u001b[0m\u001b[0;34m)\u001b[0m\u001b[0;34m:\u001b[0m\u001b[0;34m\u001b[0m\u001b[0m\n\u001b[1;32m   2339\u001b[0m             \u001b[0mresult\u001b[0m \u001b[0;34m=\u001b[0m \u001b[0mbool\u001b[0m\u001b[0;34m(\u001b[0m\u001b[0mresult\u001b[0m\u001b[0;34m)\u001b[0m\u001b[0;34m\u001b[0m\u001b[0m\n",
      "\u001b[0;31mValueError\u001b[0m: operands could not be broadcast together with shapes (755,) (2104,) "
     ]
    }
   ],
   "source": [
    "np.allclose(b_x_measurement_points['x_out'], b_y_measurement_points['x_out'])"
   ]
  },
  {
   "cell_type": "code",
   "execution_count": 33,
   "metadata": {
    "collapsed": false
   },
   "outputs": [
    {
     "data": {
      "text/plain": [
       "array([-0.032, -0.032, -0.032, ...,  0.025,  0.025,  0.025], dtype=float32)"
      ]
     },
     "execution_count": 33,
     "metadata": {},
     "output_type": "execute_result"
    }
   ],
   "source": [
    "b_y_measurement_points['x_out']"
   ]
  },
  {
   "cell_type": "code",
   "execution_count": 20,
   "metadata": {
    "collapsed": true
   },
   "outputs": [],
   "source": [
    "measurements = idl.readsav(n_measurements_file)"
   ]
  },
  {
   "cell_type": "code",
   "execution_count": 15,
   "metadata": {
    "collapsed": false
   },
   "outputs": [
    {
     "data": {
      "text/plain": [
       "array([-0.024, -0.024, -0.024, -0.024, -0.024, -0.024, -0.024, -0.024,\n",
       "       -0.024, -0.024, -0.024, -0.024, -0.024, -0.024, -0.024, -0.024,\n",
       "       -0.024, -0.024, -0.024, -0.024, -0.024, -0.024, -0.024, -0.024,\n",
       "       -0.024, -0.024, -0.024, -0.024, -0.024, -0.024, -0.024, -0.024,\n",
       "       -0.024, -0.024, -0.024, -0.024, -0.024, -0.024, -0.024, -0.024,\n",
       "       -0.024, -0.024, -0.024, -0.024, -0.024, -0.024, -0.024, -0.024,\n",
       "       -0.024, -0.024, -0.024, -0.024, -0.024, -0.024, -0.024, -0.024,\n",
       "       -0.024, -0.024, -0.024, -0.024, -0.024, -0.024, -0.024, -0.024,\n",
       "       -0.024, -0.024, -0.024, -0.024, -0.024, -0.024, -0.024, -0.024,\n",
       "       -0.024, -0.021, -0.021, -0.021, -0.021, -0.021, -0.021, -0.021,\n",
       "       -0.021, -0.021, -0.021, -0.021, -0.021, -0.021, -0.021, -0.021,\n",
       "       -0.021, -0.021, -0.021, -0.021, -0.021, -0.021, -0.021, -0.021,\n",
       "       -0.021, -0.021, -0.021, -0.021, -0.021, -0.021, -0.021, -0.021,\n",
       "       -0.021, -0.021, -0.021, -0.021, -0.021, -0.021, -0.021, -0.021,\n",
       "       -0.021, -0.021, -0.021, -0.021, -0.021, -0.017, -0.017, -0.017,\n",
       "       -0.017, -0.017, -0.017, -0.017, -0.017, -0.017, -0.017, -0.017,\n",
       "       -0.017, -0.017, -0.017, -0.017, -0.017, -0.017, -0.017, -0.017,\n",
       "       -0.017, -0.017, -0.017, -0.017, -0.017, -0.017, -0.017, -0.017,\n",
       "       -0.017, -0.017, -0.017, -0.017, -0.017, -0.017, -0.017, -0.017,\n",
       "       -0.017, -0.017, -0.012, -0.012, -0.012, -0.012, -0.012, -0.012,\n",
       "       -0.012, -0.012, -0.012, -0.012, -0.012, -0.012, -0.012, -0.012,\n",
       "       -0.012, -0.012, -0.012, -0.012, -0.012, -0.012, -0.012, -0.012,\n",
       "       -0.012, -0.012, -0.012, -0.012, -0.012, -0.012, -0.012, -0.012,\n",
       "       -0.012, -0.012, -0.012, -0.012, -0.012, -0.012, -0.012, -0.012,\n",
       "       -0.012, -0.012, -0.012, -0.012, -0.012, -0.012, -0.012, -0.012,\n",
       "       -0.01 , -0.01 , -0.01 , -0.01 , -0.01 , -0.01 , -0.01 , -0.01 ,\n",
       "       -0.01 , -0.01 , -0.01 , -0.01 , -0.01 , -0.01 , -0.01 , -0.01 ,\n",
       "       -0.01 , -0.01 , -0.01 , -0.01 , -0.01 , -0.01 , -0.01 , -0.01 ,\n",
       "       -0.01 , -0.01 , -0.01 , -0.01 , -0.01 , -0.01 , -0.01 , -0.01 ,\n",
       "       -0.01 , -0.01 , -0.01 , -0.01 , -0.01 , -0.01 , -0.01 , -0.01 ,\n",
       "       -0.01 , -0.01 , -0.01 , -0.008, -0.008, -0.008, -0.008, -0.008,\n",
       "       -0.008, -0.008, -0.008, -0.008, -0.008, -0.008, -0.008, -0.008,\n",
       "       -0.008, -0.008, -0.008, -0.008, -0.008, -0.008, -0.008, -0.008,\n",
       "       -0.008, -0.008, -0.008, -0.008, -0.008, -0.008, -0.008, -0.008,\n",
       "       -0.008, -0.008, -0.008, -0.008, -0.008, -0.008, -0.008, -0.008,\n",
       "       -0.008, -0.008, -0.008, -0.008, -0.008, -0.004, -0.004, -0.004,\n",
       "       -0.004, -0.004, -0.004, -0.004, -0.004, -0.004, -0.004, -0.004,\n",
       "       -0.004, -0.004, -0.004, -0.004, -0.004, -0.004, -0.004, -0.004,\n",
       "       -0.004, -0.004, -0.004, -0.004, -0.004, -0.004, -0.004, -0.004,\n",
       "       -0.004, -0.004, -0.004, -0.004, -0.004, -0.004, -0.004, -0.004,\n",
       "       -0.004, -0.004, -0.004, -0.004,  0.003,  0.003,  0.003,  0.003,\n",
       "        0.003,  0.003,  0.003,  0.003,  0.003,  0.003,  0.003,  0.003,\n",
       "        0.003,  0.003,  0.003,  0.003,  0.003,  0.003,  0.003,  0.003,\n",
       "        0.003,  0.003,  0.003,  0.003,  0.003,  0.003,  0.003,  0.003,\n",
       "        0.003,  0.003,  0.003,  0.003,  0.003,  0.003,  0.007,  0.007,\n",
       "        0.007,  0.007,  0.007,  0.007,  0.007,  0.007,  0.007,  0.007,\n",
       "        0.007,  0.007,  0.007,  0.007,  0.007,  0.007,  0.007,  0.007,\n",
       "        0.007,  0.007,  0.007,  0.007,  0.007,  0.007,  0.007,  0.007,\n",
       "        0.007,  0.007,  0.007,  0.007,  0.007,  0.007,  0.007,  0.007,\n",
       "        0.013,  0.013,  0.013,  0.013,  0.013,  0.013,  0.013,  0.013,\n",
       "        0.013,  0.013,  0.013,  0.013,  0.013,  0.013,  0.013,  0.013,\n",
       "        0.013,  0.013,  0.013,  0.013,  0.013,  0.013,  0.013,  0.013,\n",
       "        0.013,  0.013,  0.013,  0.013,  0.013,  0.013,  0.013,  0.013,\n",
       "        0.013,  0.018,  0.018,  0.018,  0.018,  0.018,  0.018,  0.018,\n",
       "        0.018,  0.018,  0.018,  0.018,  0.018,  0.018,  0.018,  0.018,\n",
       "        0.018,  0.018,  0.018,  0.018,  0.018,  0.018,  0.018,  0.018,\n",
       "        0.018,  0.018,  0.018,  0.018,  0.018,  0.018,  0.018,  0.018,\n",
       "        0.018,  0.018,  0.018,  0.025,  0.025,  0.025,  0.025,  0.025,\n",
       "        0.025,  0.025,  0.025,  0.025,  0.025,  0.025,  0.025,  0.025,\n",
       "        0.025,  0.025,  0.025,  0.025,  0.025,  0.025,  0.025,  0.025,\n",
       "        0.025,  0.025,  0.025,  0.025,  0.025,  0.025,  0.025,  0.025,\n",
       "        0.025,  0.025,  0.025,  0.025,  0.01 ,  0.01 ,  0.01 ,  0.01 ,\n",
       "        0.01 ,  0.01 ,  0.01 ,  0.01 ,  0.01 ,  0.01 ,  0.01 ,  0.01 ,\n",
       "        0.01 ,  0.01 ,  0.01 ,  0.01 ,  0.01 ,  0.01 ,  0.01 ,  0.01 ,\n",
       "        0.01 ,  0.01 ,  0.01 ,  0.01 ,  0.01 ,  0.01 ,  0.01 ,  0.01 ,\n",
       "        0.01 ,  0.01 ,  0.01 ,  0.01 ,  0.01 ,  0.01 ], dtype=float32)"
      ]
     },
     "execution_count": 15,
     "metadata": {},
     "output_type": "execute_result"
    }
   ],
   "source": [
    "measurement_points['x_out']"
   ]
  },
  {
   "cell_type": "code",
   "execution_count": 16,
   "metadata": {
    "collapsed": false
   },
   "outputs": [
    {
     "data": {
      "text/plain": [
       "array([ 0.055,  0.055,  0.055,  0.055,  0.055,  0.055,  0.055,  0.055,\n",
       "        0.055,  0.055,  0.055,  0.055,  0.055,  0.055,  0.055,  0.055,\n",
       "        0.055,  0.055,  0.055,  0.055,  0.055,  0.052,  0.049,  0.049,\n",
       "        0.046,  0.046,  0.046,  0.043,  0.043,  0.04 ,  0.04 ,  0.037,\n",
       "        0.037,  0.034,  0.034,  0.031,  0.025,  0.022,  0.019,  0.016,\n",
       "        0.013,  0.013,  0.013,  0.013,  0.013,  0.013,  0.013,  0.022,\n",
       "        0.019,  0.016,  0.013,  0.01 ,  0.007,  0.004,  0.004,  0.001,\n",
       "       -0.002, -0.005, -0.008, -0.011, -0.014, -0.017, -0.02 , -0.023,\n",
       "       -0.026, -0.029, -0.032, -0.035, -0.038, -0.041, -0.044, -0.047,\n",
       "       -0.05 ,  0.05 ,  0.047,  0.044,  0.041,  0.038,  0.035,  0.032,\n",
       "        0.029,  0.026,  0.023,  0.02 ,  0.017,  0.014,  0.011,  0.008,\n",
       "        0.005,  0.002, -0.001, -0.004, -0.007, -0.01 , -0.013, -0.016,\n",
       "       -0.019, -0.022, -0.025, -0.028, -0.031, -0.034, -0.037, -0.04 ,\n",
       "       -0.049, -0.043, -0.046,  0.05 ,  0.05 ,  0.05 ,  0.05 ,  0.05 ,\n",
       "        0.05 ,  0.05 ,  0.05 ,  0.05 ,  0.05 ,  0.031,  0.025,  0.028,\n",
       "        0.022,  0.019,  0.016,  0.013,  0.01 ,  0.007,  0.007,  0.004,\n",
       "        0.001, -0.002, -0.005, -0.008, -0.011, -0.014, -0.017, -0.02 ,\n",
       "       -0.023, -0.026, -0.029, -0.032, -0.035, -0.038, -0.041, -0.044,\n",
       "       -0.047, -0.05 ,  0.05 ,  0.047,  0.044,  0.041,  0.038,  0.035,\n",
       "        0.032,  0.029,  0.028,  0.025,  0.022,  0.019,  0.016,  0.013,\n",
       "        0.01 ,  0.01 ,  0.007,  0.004,  0.001,  0.001,  0.001,  0.001,\n",
       "       -0.002, -0.005, -0.008, -0.011, -0.014, -0.017, -0.02 , -0.023,\n",
       "       -0.026, -0.029, -0.032, -0.035, -0.038, -0.041, -0.044, -0.047,\n",
       "       -0.05 , -0.05 ,  0.049,  0.046,  0.046,  0.043,  0.04 ,  0.037,\n",
       "        0.037,  0.034,  0.031,  0.031,  0.031,  0.031,  0.031,  0.031,\n",
       "        0.028,  0.025,  0.022,  0.019,  0.016,  0.013,  0.01 ,  0.007,\n",
       "        0.004,  0.001, -0.002, -0.005, -0.008, -0.011, -0.014, -0.017,\n",
       "       -0.02 , -0.023, -0.026, -0.029, -0.032, -0.035, -0.038, -0.041,\n",
       "       -0.044, -0.047, -0.05 ,  0.05 ,  0.047,  0.044,  0.041,  0.038,\n",
       "        0.035,  0.033,  0.03 ,  0.027,  0.024,  0.021,  0.021,  0.018,\n",
       "        0.015,  0.012,  0.009,  0.028,  0.025,  0.022,  0.019,  0.019,\n",
       "        0.016,  0.013,  0.01 ,  0.007,  0.004,  0.001, -0.002, -0.005,\n",
       "       -0.008, -0.011, -0.014, -0.017, -0.02 , -0.023, -0.026, -0.029,\n",
       "       -0.032, -0.032, -0.035, -0.038, -0.041, -0.044, -0.047, -0.05 ,\n",
       "        0.05 ,  0.047,  0.044,  0.041,  0.038,  0.035,  0.032,  0.029,\n",
       "        0.026,  0.023,  0.02 ,  0.017,  0.014,  0.025,  0.022,  0.019,\n",
       "        0.016,  0.013,  0.01 ,  0.007,  0.004,  0.001, -0.002, -0.005,\n",
       "       -0.008, -0.011, -0.014, -0.017, -0.02 , -0.023, -0.026, -0.029,\n",
       "       -0.032, -0.035, -0.038, -0.041, -0.044, -0.047, -0.05 ,  0.05 ,\n",
       "        0.047,  0.044,  0.041,  0.038,  0.035,  0.032,  0.029,  0.026,\n",
       "        0.023,  0.02 ,  0.017,  0.014,  0.025,  0.022,  0.019,  0.016,\n",
       "        0.013,  0.01 ,  0.007,  0.004,  0.001, -0.002, -0.005, -0.008,\n",
       "       -0.011, -0.014, -0.017, -0.02 , -0.023, -0.026, -0.029, -0.032,\n",
       "       -0.035, -0.038, -0.041, -0.044, -0.047, -0.05 ,  0.05 ,  0.047,\n",
       "        0.044,  0.041,  0.038,  0.035,  0.032,  0.029,  0.019,  0.016,\n",
       "        0.013,  0.01 ,  0.007,  0.004,  0.001, -0.002, -0.005, -0.008,\n",
       "       -0.011, -0.014, -0.017, -0.02 , -0.023, -0.026, -0.029, -0.032,\n",
       "       -0.035, -0.038, -0.041, -0.044, -0.047, -0.05 ,  0.05 ,  0.047,\n",
       "        0.044,  0.041,  0.038,  0.035,  0.032,  0.029,  0.026,  0.023,\n",
       "        0.013,  0.01 ,  0.004,  0.001, -0.002, -0.005, -0.011, -0.008,\n",
       "       -0.014, -0.017, -0.02 , -0.023, -0.026, -0.029, -0.032, -0.035,\n",
       "       -0.038, -0.041, -0.044, -0.047, -0.05 ,  0.05 ,  0.047,  0.044,\n",
       "        0.041,  0.038,  0.035,  0.032,  0.029,  0.026,  0.023,  0.02 ,\n",
       "        0.017,  0.001, -0.002, -0.005, -0.008, -0.011, -0.014, -0.017,\n",
       "       -0.02 , -0.023, -0.026, -0.029, -0.032, -0.035, -0.038, -0.041,\n",
       "       -0.044, -0.047, -0.05 ,  0.05 ,  0.047,  0.044,  0.041,  0.038,\n",
       "        0.035,  0.032,  0.029,  0.026,  0.023,  0.019,  0.016,  0.013,\n",
       "        0.01 ,  0.007,  0.004, -0.005, -0.008, -0.011, -0.014, -0.017,\n",
       "       -0.02 , -0.023, -0.026, -0.029, -0.032, -0.035, -0.038, -0.041,\n",
       "       -0.044, -0.047, -0.05 ,  0.05 ,  0.047,  0.044,  0.041,  0.038,\n",
       "        0.035,  0.032,  0.029,  0.026,  0.023,  0.019,  0.016,  0.013,\n",
       "        0.01 ,  0.007,  0.004,  0.001, -0.011, -0.014, -0.017, -0.02 ,\n",
       "       -0.023, -0.026, -0.029, -0.032, -0.035, -0.038, -0.041, -0.044,\n",
       "       -0.047, -0.05 ,  0.05 ,  0.047,  0.044,  0.041,  0.038,  0.035,\n",
       "        0.032,  0.029,  0.026,  0.023,  0.019,  0.016,  0.013,  0.01 ,\n",
       "        0.007,  0.004,  0.001, -0.002, -0.005, -0.008], dtype=float32)"
      ]
     },
     "execution_count": 16,
     "metadata": {},
     "output_type": "execute_result"
    }
   ],
   "source": [
    "measurement_points['y_out']"
   ]
  },
  {
   "cell_type": "code",
   "execution_count": null,
   "metadata": {
    "collapsed": true
   },
   "outputs": [],
   "source": []
  }
 ],
 "metadata": {
  "kernelspec": {
   "display_name": "Python 2",
   "language": "python",
   "name": "python2"
  },
  "language_info": {
   "codemirror_mode": {
    "name": "ipython",
    "version": 2
   },
   "file_extension": ".py",
   "mimetype": "text/x-python",
   "name": "python",
   "nbconvert_exporter": "python",
   "pygments_lexer": "ipython2",
   "version": "2.7.10"
  }
 },
 "nbformat": 4,
 "nbformat_minor": 0
}
