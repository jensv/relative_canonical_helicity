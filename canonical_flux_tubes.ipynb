{
 "cells": [
  {
   "cell_type": "code",
   "execution_count": 1,
   "metadata": {
    "collapsed": false
   },
   "outputs": [
    {
     "data": {
      "text/plain": [
       "True"
      ]
     },
     "execution_count": 1,
     "metadata": {},
     "output_type": "execute_result"
    }
   ],
   "source": [
    "import time\n",
    "import numpy as np\n",
    "import visit\n",
    "visit.Launch()"
   ]
  },
  {
   "cell_type": "code",
   "execution_count": 2,
   "metadata": {
    "collapsed": false
   },
   "outputs": [],
   "source": [
    "field_nulls = np.loadtxt('../../centroid_fitting/output/2016-07-19/field_nulls.txt')"
   ]
  },
  {
   "cell_type": "code",
   "execution_count": 3,
   "metadata": {
    "collapsed": false
   },
   "outputs": [
    {
     "name": "stdout",
     "output_type": "stream",
     "text": [
      "[[-0.00478808 -0.00640996]\n",
      " [ 0.00389906 -0.01285931]\n",
      " [ 0.00880345 -0.0124718 ]\n",
      " [ 0.01678544 -0.01155452]\n",
      " [ 0.02348968 -0.00646158]\n",
      " [ 0.02656863  0.00363246]\n",
      " [ 0.02842711  0.0115303 ]\n",
      " [ 0.02566465  0.01639859]\n",
      " [ 0.02455535  0.02170641]\n",
      " [ 0.02405411  0.02773693]\n",
      " [ 0.02238233  0.03156278]\n",
      " [ 0.01939845  0.0334338 ]\n",
      " [ 0.00851801  0.0394233 ]\n",
      " [ 0.00167052  0.04778751]\n",
      " [ 0.00113474  0.03081366]\n",
      " [-0.0117485   0.02482263]\n",
      " [-0.01249873  0.02285998]\n",
      " [-0.01660147  0.01428564]\n",
      " [-0.01584593  0.01120546]\n",
      " [-0.01061126 -0.00568984]\n",
      " [-0.00593098 -0.00578328]]\n"
     ]
    }
   ],
   "source": [
    "print field_nulls"
   ]
  },
  {
   "cell_type": "code",
   "execution_count": 4,
   "metadata": {
    "collapsed": false
   },
   "outputs": [],
   "source": [
    "def launch_points(center):\n",
    "    thetas = np.linspace(0, 3./4.*np.pi, 60)\n",
    "    thetas = np.concatenate((thetas, np.linspace(5./4.*np.pi, 2.*np.pi, 60)))\n",
    "    x_outer = 0.01 * np.cos(thetas) + center[0]\n",
    "    y_outer = 0.01 * np.sin(thetas) + center[1]\n",
    "    z_outer = 0.249 * np.ones((x_outer.size))\n",
    "    points_outer = np.empty((x_outer.size + y_outer.size + z_outer.size))\n",
    "    points_outer[0::3] = x_outer\n",
    "    points_outer[1::3] = y_outer\n",
    "    points_outer[2::3] = z_outer\n",
    "    points_outer = tuple(points_outer)\n",
    "\n",
    "    thetas = np.linspace(0, 2.*np.pi, 80)\n",
    "    x_inner = 0.005 * np.cos(thetas) + center[0]\n",
    "    y_inner = 0.005 * np.sin(thetas) + center[1]\n",
    "    z_inner = 0.249 * np.ones(x_inner.size)\n",
    "    points_inner = np.empty((x_inner.size + y_inner.size + z_inner.size))\n",
    "    points_inner[0::3] = x_inner\n",
    "    points_inner[1::3] = y_inner \n",
    "    points_inner[2::3] = z_inner\n",
    "    points_inner = tuple(points_inner)\n",
    "    \n",
    "    return points_outer, points_inner\n",
    "\n",
    "points_outer, points_inner = launch_points(field_nulls[0])"
   ]
  },
  {
   "cell_type": "code",
   "execution_count": 5,
   "metadata": {
    "collapsed": false,
    "scrolled": true
   },
   "outputs": [
    {
     "data": {
      "text/plain": [
       "1L"
      ]
     },
     "execution_count": 5,
     "metadata": {},
     "output_type": "execute_result"
    }
   ],
   "source": [
    "visit.OpenDatabase('/Users/vonderlinden2/rsx_analysis/writing_to_vtk/output/2016-07-06/all*.vts database')\n",
    "\n",
    "visit.AddPlot(\"Pseudocolor\", \"Te\", 1, 0)\n",
    "PseudocolorAtts = visit.PseudocolorAttributes()\n",
    "PseudocolorAtts.scaling = PseudocolorAtts.Linear  # Linear, Log, Skew\n",
    "PseudocolorAtts.limitsMode = PseudocolorAtts.OriginalData  # OriginalData, CurrentPlot\n",
    "PseudocolorAtts.colorTableName = \"Purples\"\n",
    "visit.SetPlotOptions(PseudocolorAtts)\n",
    "visit.AddOperator(\"Slice\", 0)\n",
    "SliceAtts = visit.SliceAttributes()\n",
    "SliceAtts.originType = SliceAtts.Intercept  # Point, Intercept, Percent, Zone, Node\n",
    "SliceAtts.originIntercept = 0.249\n",
    "SliceAtts.axisType = SliceAtts.ZAxis\n",
    "SliceAtts.project2d = 0\n",
    "visit.SetOperatorOptions(SliceAtts, 0)\n",
    "\n",
    "visit.AddPlot(\"Streamline\", \"B\", 1, 0)\n",
    "StreamlineAtts_outer = visit.StreamlineAttributes()\n",
    "StreamlineAtts_outer.sourceType = StreamlineAtts_outer.SpecifiedPointList\n",
    "StreamlineAtts_outer.SetPointList(points_outer)\n",
    "StreamlineAtts_outer.radius = 0.01\n",
    "StreamlineAtts_outer.sampleDensity0 = 50\n",
    "StreamlineAtts_outer.fillInterior = 0\n",
    "StreamlineAtts_outer.coloringMethod = StreamlineAtts_outer.Solid  # Solid, ColorBySpeed, ColorByVorticity, ColorByLength, ColorByTime, ColorBySeedPointID, ColorByVariable, ColorByCorrelationDistance, ColorByNumberDomainsVisited\n",
    "StreamlineAtts_outer.colorTableName = \"Default\"\n",
    "StreamlineAtts_outer.singleColor = (255, 0, 0, 255)\n",
    "visit.SetPlotOptions(StreamlineAtts_outer)\n",
    "\n",
    "visit.AddPlot(\"Streamline\", \"B\", 1, 0)\n",
    "StreamlineAtts_inner = visit.StreamlineAttributes()\n",
    "StreamlineAtts_inner.sourceType = StreamlineAtts_inner.SpecifiedPointList\n",
    "StreamlineAtts_inner.SetPointList(points_inner)\n",
    "StreamlineAtts_inner.radius = 0.005\n",
    "StreamlineAtts_inner.sampleDensity0 = 50\n",
    "StreamlineAtts_inner.fillInterior = 0\n",
    "StreamlineAtts_inner.coloringMethod = StreamlineAtts_inner.Solid  # Solid, ColorBySpeed, ColorByVorticity, ColorByLength, ColorByTime, ColorBySeedPointID, ColorByVariable, ColorByCorrelationDistance, ColorByNumberDomainsVisited\n",
    "StreamlineAtts_inner.colorTableName = \"Default\"\n",
    "StreamlineAtts_inner.singleColor = (190, 64, 0, 255)\n",
    "visit.SetPlotOptions(StreamlineAtts_inner)\n",
    "\n",
    "visit.DrawPlots()"
   ]
  },
  {
   "cell_type": "code",
   "execution_count": 8,
   "metadata": {
    "collapsed": false
   },
   "outputs": [
    {
     "name": "stdout",
     "output_type": "stream",
     "text": [
      "0\n",
      "1\n",
      "2\n",
      "3\n",
      "4\n",
      "5\n",
      "6\n",
      "7\n",
      "8\n",
      "9\n",
      "10\n",
      "11\n",
      "12\n",
      "13\n",
      "14\n",
      "15\n",
      "16\n",
      "17\n",
      "18\n",
      "19\n",
      "20\n"
     ]
    }
   ],
   "source": [
    "date = '2016-07-20'\n",
    "output_path = '../output/' + date + '/electron_canonical_flux_tube'\n",
    "ending = '.png'\n",
    "\n",
    "save_atts = visit.SaveWindowAttributes()\n",
    "save_atts.format = save_atts.PNG\n",
    "save_atts.height = 1080\n",
    "save_atts.width = 1920\n",
    "save_atts.family = 0\n",
    "visit.SetSaveWindowAttributes(save_atts)\n",
    "\n",
    "for time_point in xrange(visit.TimeSliderGetNStates()):\n",
    "    print time_point\n",
    "    save_atts.fileName = output_path + str(time_point).zfill(4) + ending\n",
    "    visit.SetSaveWindowAttributes(save_atts)\n",
    "    \n",
    "    points_outer, points_inner = launch_points(field_nulls[time_point])\n",
    "    \n",
    "    visit.SetActivePlots(1)\n",
    "    StreamlineAtts_outer.SetPointList(points_outer)\n",
    "    visit.SetPlotOptions(StreamlineAtts_outer)\n",
    "    \n",
    "    visit.SetActivePlots(2)\n",
    "    StreamlineAtts_inner.SetPointList(points_inner)\n",
    "    visit.SetPlotOptions(StreamlineAtts_inner)\n",
    "    \n",
    "    visit.SetTimeSliderState(time_point)\n",
    "    \n",
    "    name = visit.SaveWindow()"
   ]
  },
  {
   "cell_type": "code",
   "execution_count": 9,
   "metadata": {
    "collapsed": false
   },
   "outputs": [
    {
     "name": "stdout",
     "output_type": "stream",
     "text": [
      "ffmpeg version 2.8.1 Copyright (c) 2000-2015 the FFmpeg developers\n",
      "  built with Apple LLVM version 6.0 (clang-600.0.56) (based on LLVM 3.5svn)\n",
      "  configuration: --prefix=/Users/vonderlinden2/homebrew/Cellar/ffmpeg/2.8.1_1 --enable-shared --enable-pthreads --enable-gpl --enable-version3 --enable-hardcoded-tables --enable-avresample --cc=clang --host-cflags= --host-ldflags= --enable-opencl --enable-libx264 --enable-libmp3lame --enable-libvo-aacenc --enable-libxvid --enable-vda\n",
      "  libavutil      54. 31.100 / 54. 31.100\n",
      "  libavcodec     56. 60.100 / 56. 60.100\n",
      "  libavformat    56. 40.101 / 56. 40.101\n",
      "  libavdevice    56.  4.100 / 56.  4.100\n",
      "  libavfilter     5. 40.101 /  5. 40.101\n",
      "  libavresample   2.  1.  0 /  2.  1.  0\n",
      "  libswscale      3.  1.101 /  3.  1.101\n",
      "  libswresample   1.  2.101 /  1.  2.101\n",
      "  libpostproc    53.  3.100 / 53.  3.100\n",
      "Input #0, image2, from '../output/2016-07-20/electron_canonical_flux_tube%04d.png':\n",
      "  Duration: 00:00:42.00, start: 0.000000, bitrate: N/A\n",
      "    Stream #0:0: Video: png, rgb24(pc), 1920x1144, 0.50 fps, 0.50 tbr, 0.50 tbn, 0.50 tbc\n",
      "\u001b[1;36m[libx264 @ 0x7fc274006000] \u001b[0musing cpu capabilities: MMX2 SSE2Fast SSSE3 SSE4.2 AVX\n",
      "\u001b[1;36m[libx264 @ 0x7fc274006000] \u001b[0mprofile High, level 4.2\n",
      "\u001b[1;36m[libx264 @ 0x7fc274006000] \u001b[0m264 - core 148 r2601 a0cd7d3 - H.264/MPEG-4 AVC codec - Copyleft 2003-2015 - http://www.videolan.org/x264.html - options: cabac=1 ref=3 deblock=1:0:0 analyse=0x3:0x113 me=hex subme=7 psy=1 psy_rd=1.00:0.00 mixed_ref=1 me_range=16 chroma_me=1 trellis=1 8x8dct=1 cqm=0 deadzone=21,11 fast_pskip=1 chroma_qp_offset=-2 threads=12 lookahead_threads=2 sliced_threads=0 nr=0 decimate=1 interlaced=0 bluray_compat=0 constrained_intra=0 bframes=3 b_pyramid=2 b_adapt=1 b_bias=0 direct=1 weightb=1 open_gop=0 weightp=2 keyint=250 keyint_min=1 scenecut=40 intra_refresh=0 rc_lookahead=40 rc=crf mbtree=1 crf=23.0 qcomp=0.60 qpmin=0 qpmax=69 qpstep=4 ip_ratio=1.40 aq=1:1.00\n",
      "Output #0, mp4, to '../output/2016-07-20/out.mp4':\n",
      "  Metadata:\n",
      "    encoder         : Lavf56.40.101\n",
      "    Stream #0:0: Video: h264 (libx264) ([33][0][0][0] / 0x0021), yuv420p, 1920x1144, q=-1--1, 0.50 fps, 16384 tbn, 0.50 tbc\n",
      "    Metadata:\n",
      "      encoder         : Lavc56.60.100 libx264\n",
      "Stream mapping:\n",
      "  Stream #0:0 -> #0:0 (png (native) -> h264 (libx264))\n",
      "Press [q] to stop, [?] for help\n",
      "frame=   21 fps= 20 q=-1.0 Lsize=    1032kB time=00:00:38.00 bitrate= 222.6kbits/s    \n",
      "video:1031kB audio:0kB subtitle:0kB other streams:0kB global headers:0kB muxing overhead: 0.104630%\n",
      "\u001b[1;36m[libx264 @ 0x7fc274006000] \u001b[0mframe I:1     Avg QP: 6.34  size:123869\n",
      "\u001b[1;36m[libx264 @ 0x7fc274006000] \u001b[0mframe P:7     Avg QP:17.38  size: 57709\n",
      "\u001b[1;36m[libx264 @ 0x7fc274006000] \u001b[0mframe B:13    Avg QP:16.45  size: 40583\n",
      "\u001b[1;36m[libx264 @ 0x7fc274006000] \u001b[0mconsecutive B-frames:  9.5% 19.0% 14.3% 57.1%\n",
      "\u001b[1;36m[libx264 @ 0x7fc274006000] \u001b[0mmb I  I16..4: 62.2% 21.9% 15.9%\n",
      "\u001b[1;36m[libx264 @ 0x7fc274006000] \u001b[0mmb P  I16..4:  1.3%  3.3%  5.1%  P16..4:  1.7%  1.0%  0.7%  0.0%  0.0%    skip:86.9%\n",
      "\u001b[1;36m[libx264 @ 0x7fc274006000] \u001b[0mmb B  I16..4:  0.3%  1.0%  2.5%  B16..8:  2.7%  1.6%  1.1%  direct: 0.6%  skip:90.3%  L0:51.0% L1:43.7% BI: 5.2%\n",
      "\u001b[1;36m[libx264 @ 0x7fc274006000] \u001b[0m8x8 transform intra:26.3% inter:35.2%\n",
      "\u001b[1;36m[libx264 @ 0x7fc274006000] \u001b[0mcoded y,uvDC,uvAC intra: 42.6% 47.1% 43.4% inter: 2.3% 2.3% 1.9%\n",
      "\u001b[1;36m[libx264 @ 0x7fc274006000] \u001b[0mi16 v,h,dc,p: 85%  4%  8%  3%\n",
      "\u001b[1;36m[libx264 @ 0x7fc274006000] \u001b[0mi8 v,h,dc,ddl,ddr,vr,hd,vl,hu: 43% 11% 28%  3%  2%  3%  3%  3%  3%\n",
      "\u001b[1;36m[libx264 @ 0x7fc274006000] \u001b[0mi4 v,h,dc,ddl,ddr,vr,hd,vl,hu: 21% 38% 16%  2%  2%  2% 14%  1%  4%\n",
      "\u001b[1;36m[libx264 @ 0x7fc274006000] \u001b[0mi8c dc,h,v,p: 72% 18%  6%  5%\n",
      "\u001b[1;36m[libx264 @ 0x7fc274006000] \u001b[0mWeighted P-Frames: Y:0.0% UV:0.0%\n",
      "\u001b[1;36m[libx264 @ 0x7fc274006000] \u001b[0mref P L0: 57.2%  6.2% 23.4% 13.2%\n",
      "\u001b[1;36m[libx264 @ 0x7fc274006000] \u001b[0mref B L0: 82.1% 14.6%  3.3%\n",
      "\u001b[1;36m[libx264 @ 0x7fc274006000] \u001b[0mref B L1: 90.6%  9.4%\n",
      "\u001b[1;36m[libx264 @ 0x7fc274006000] \u001b[0mkb/s:201.03\n"
     ]
    }
   ],
   "source": [
    "!ffmpeg -framerate 1/2 -i ../output/2016-07-20/electron_canonical_flux_tube%04d.png -r 1/2 -pix_fmt yuv420p \\\n",
    " -vcodec libx264 -vf \"scale=trunc(iw/2)*2:trunc(ih/2)*2\" -y ../output/2016-07-20/out.mp4"
   ]
  },
  {
   "cell_type": "code",
   "execution_count": 18,
   "metadata": {
    "collapsed": false
   },
   "outputs": [
    {
     "data": {
      "text/plain": [
       "u'/Users/vonderlinden2/rsx_analysis/canonical_flux_tubes/source'"
      ]
     },
     "execution_count": 18,
     "metadata": {},
     "output_type": "execute_result"
    }
   ],
   "source": [
    "pwd"
   ]
  },
  {
   "cell_type": "code",
   "execution_count": 10,
   "metadata": {
    "collapsed": true
   },
   "outputs": [],
   "source": [
    "visit.SaveWindow?"
   ]
  },
  {
   "cell_type": "code",
   "execution_count": null,
   "metadata": {
    "collapsed": true
   },
   "outputs": [],
   "source": []
  }
 ],
 "metadata": {
  "kernelspec": {
   "display_name": "Python 2",
   "language": "python",
   "name": "python2"
  },
  "language_info": {
   "codemirror_mode": {
    "name": "ipython",
    "version": 2
   },
   "file_extension": ".py",
   "mimetype": "text/x-python",
   "name": "python",
   "nbconvert_exporter": "python",
   "pygments_lexer": "ipython2",
   "version": "2.7.11"
  }
 },
 "nbformat": 4,
 "nbformat_minor": 0
}
