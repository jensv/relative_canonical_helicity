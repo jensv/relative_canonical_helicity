{
 "cells": [
  {
   "cell_type": "markdown",
   "metadata": {},
   "source": [
    "Develop function to interpolate a plane with griddata, LinearNDinterpolator, and matplotlib's tri.interpolator"
   ]
  },
  {
   "cell_type": "code",
   "execution_count": 50,
   "metadata": {
    "collapsed": false
   },
   "outputs": [],
   "source": [
    "import numpy as np\n",
    "import scipy.optimize as opti\n",
    "%matplotlib inline\n",
    "import matplotlib.pyplot as plt\n",
    "import seaborn as sns\n",
    "sns.set_style('whitegrid')\n",
    "sns.set_context('poster')\n",
    "\n",
    "from scipy.spatial import Delaunay\n",
    "import matplotlib.tri as tri\n",
    "from scipy.interpolate import LinearNDInterpolator\n",
    "import cPickle as pickle"
   ]
  },
  {
   "cell_type": "code",
   "execution_count": 51,
   "metadata": {
    "collapsed": false
   },
   "outputs": [
    {
     "data": {
      "text/plain": [
       "<module 'structured_3d_vtk' from '/Users/vonderlinden2/rsx_analysis/writing_to_vtk/source/structured_3d_vtk.pyc'>"
      ]
     },
     "execution_count": 51,
     "metadata": {},
     "output_type": "execute_result"
    }
   ],
   "source": [
    "import sys\n",
    "sys.path.append('/Users/vonderlinden2/rsx_analysis/writing_to_vtk/source')\n",
    "import structured_3d_vtk as struc_3d\n",
    "reload(struc_3d)"
   ]
  },
  {
   "cell_type": "code",
   "execution_count": 52,
   "metadata": {
    "collapsed": true
   },
   "outputs": [],
   "source": [
    "spatial_increment = 0.001\n",
    "x_min, x_max = -0.028, 0.025\n",
    "y_min, y_max = -0.043, 0.039\n",
    "z_min, z_max = 0.249, 0.249\n",
    "\n",
    "bounds = ((x_min, x_max), (y_min, y_max), (z_min, z_max)) \n",
    "\n",
    "x_coord = np.linspace(x_min, x_max, np.ceil((x_max-x_min)/spatial_increment))\n",
    "y_coord = np.linspace(y_min, y_max, np.ceil((y_max-y_min)/spatial_increment))\n",
    "\n",
    "mesh = np.meshgrid(x_coord, y_coord, indexing='ij')\n",
    "grid_points = np.dstack(map(np.ravel, mesh))[0]\n",
    "\n",
    "sizes = (np.unique(grid_points[:, 0]).size,\n",
    "         np.unique(grid_points[:, 1]).size)\n",
    "    \n",
    "grid_swapped = np.swapaxes(grid_points, 0, 1)\n",
    "grid_x = np.resize(grid_swapped[0], (sizes[0], sizes[1]))\n",
    "grid_y = np.resize(grid_swapped[1], (sizes[0], sizes[1]))\n",
    "grid_z0249 = np.asarray([grid_x, grid_y])"
   ]
  },
  {
   "cell_type": "code",
   "execution_count": 53,
   "metadata": {
    "collapsed": false
   },
   "outputs": [],
   "source": [
    "def interpolate_plane(plane_to_interpolate, grid_points):\n",
    "\n",
    "    bx_measurements = struc_3d.read_idl('bx')\n",
    "    by_measurements = struc_3d.read_idl('by')\n",
    "    bz_measurements = struc_3d.read_idl('bz')\n",
    "\n",
    "    for plane in [0.249, 0.302, 0.357, 0.416]:\n",
    "        bx_measurements[plane] = struc_3d.average_duplicate_points(bx_measurements[plane])\n",
    "        by_measurements[plane] = struc_3d.average_duplicate_points(by_measurements[plane])\n",
    "        bz_measurements[plane] = struc_3d.average_duplicate_points(bz_measurements[plane])\n",
    "\n",
    "    direction_measurements = [bx_measurements, by_measurements, bz_measurements] \n",
    "\n",
    "    interpolated_vectors = []\n",
    "    interpolators = []\n",
    "    tri_interpolators = []\n",
    "    for time_point in xrange(21):\n",
    "        print time_point\n",
    "        points = []\n",
    "        values = []\n",
    "        for measurements in direction_measurements:\n",
    "            (points_direction,\n",
    "             values_direction) = struc_3d.read_points_from_measurement_dict(measurements,\n",
    "                                                                            time_point,\n",
    "                                                                            [plane_to_interpolate])\n",
    "            points.append(points_direction)\n",
    "            values.append(values_direction)\n",
    "    \n",
    "        points[0] = np.delete(points[0], 2, axis=1)\n",
    "        points[1] = np.delete(points[1], 2, axis=1)\n",
    "        points[2] = np.delete(points[2], 2, axis=1)\n",
    "        interpolated_vector = struc_3d.interpolate_vector(grid_points, points, values)\n",
    "    \n",
    "        assert np.sum(np.isnan(interpolated_vector[0])) == 0\n",
    "        assert np.sum(np.isnan(interpolated_vector[1])) == 0\n",
    "        assert np.sum(np.isnan(interpolated_vector[2])) == 0\n",
    "    \n",
    "        sizes = (np.unique(grid_points[:, 0]).size,\n",
    "                 np.unique(grid_points[:, 1]).size)\n",
    "    \n",
    "        grid_swapped = np.swapaxes(grid_points, 0, 1)\n",
    "        grid_x = np.resize(grid_swapped[0], (sizes[0], sizes[1]))\n",
    "        grid_y = np.resize(grid_swapped[1], (sizes[0], sizes[1]))\n",
    "        grid = np.asarray([grid_x, grid_y])\n",
    "    \n",
    "        interpolated_vector = np.asarray(interpolated_vector)\n",
    "        vector_swapped = np.swapaxes(interpolated_vector, 0, 1)\n",
    "        vector_x = np.resize(vector_swapped[:, 0], (sizes[0], sizes[1]))\n",
    "        vector_y = np.resize(vector_swapped[:, 1], (sizes[0], sizes[1]))\n",
    "        vector = np.asarray([vector_x, vector_y])\n",
    "    \n",
    "        interpolated_vectors.append(vector)\n",
    "    \n",
    "    \n",
    "        interpolator_x = LinearNDInterpolator(points[0], values[0])\n",
    "        interpolator_y = LinearNDInterpolator(points[1], values[1])\n",
    "        interpolator_z = LinearNDInterpolator(points[2], values[2])\n",
    "        \n",
    "        interpolators.append([interpolator_x, \n",
    "                              interpolator_y, \n",
    "                              interpolator_z])\n",
    "    \n",
    "        delaunay_x = Delaunay(points[0])\n",
    "        delaunay_y = Delaunay(points[1])\n",
    "        delaunay_z = Delaunay(points[2])\n",
    "    \n",
    "        triangulation_x = tri.Triangulation(points[0][:, 0], \n",
    "                                            points[0][:, 1], \n",
    "                                            triangles=delaunay_x.simplices)\n",
    "        triangulation_y = tri.Triangulation(points[1][:, 0], \n",
    "                                            points[1][:, 1], \n",
    "                                            triangles=delaunay_y.simplices)\n",
    "        triangulation_z = tri.Triangulation(points[2][:, 0], \n",
    "                                            points[2][:, 1], \n",
    "                                            triangles=delaunay_z.simplices)\n",
    "    \n",
    "        tri_interpolator_x = tri.triinterpolate.TriInterpolator(triangulation_x, \n",
    "                                                                values[0])\n",
    "        tri_interpolator_y = tri.triinterpolate.TriInterpolator(triangulation_y, \n",
    "                                                                values[1])\n",
    "        tri_interpolator_z = tri.triinterpolate.TriInterpolator(triangulation_z, \n",
    "                                                                values[2])\n",
    "        tri_interpolators.append([tri_interpolator_x, \n",
    "                                  tri_interpolator_y, \n",
    "                                  tri_interpolator_z])\n",
    "        \n",
    "    return interpolated_vectors, interpolators, tri_interpolators"
   ]
  },
  {
   "cell_type": "code",
   "execution_count": 54,
   "metadata": {
    "collapsed": false
   },
   "outputs": [
    {
     "name": "stdout",
     "output_type": "stream",
     "text": [
      "0\n",
      "1\n",
      "2\n",
      "3\n",
      "4\n",
      "5\n",
      "6\n",
      "7\n",
      "8\n",
      "9\n",
      "10\n",
      "11\n",
      "12\n",
      "13\n",
      "14\n",
      "15\n",
      "16\n",
      "17\n",
      "18\n",
      "19\n",
      "20\n"
     ]
    }
   ],
   "source": [
    "interpolated_vectors_z0249, interpolators_z0249 = interpolate_plane(0.249, grid_points)[0:2]"
   ]
  },
  {
   "cell_type": "code",
   "execution_count": 55,
   "metadata": {
    "collapsed": true
   },
   "outputs": [],
   "source": [
    "spatial_increment = 0.001\n",
    "x_min, x_max = -0.022, 0.021\n",
    "y_min, y_max = -0.038, 0.04\n",
    "z_min, z_max = 0.302, 0.302\n",
    "\n",
    "bounds = ((x_min, x_max), (y_min, y_max), (z_min, z_max)) \n",
    "\n",
    "x_coord = np.linspace(x_min, x_max, np.ceil((x_max-x_min)/spatial_increment))\n",
    "y_coord = np.linspace(y_min, y_max, np.ceil((y_max-y_min)/spatial_increment))\n",
    "\n",
    "mesh = np.meshgrid(x_coord, y_coord, indexing='ij')\n",
    "grid_points = np.dstack(map(np.ravel, mesh))[0]\n",
    "\n",
    "sizes = (np.unique(grid_points[:, 0]).size,\n",
    "         np.unique(grid_points[:, 1]).size)\n",
    "    \n",
    "grid_swapped = np.swapaxes(grid_points, 0, 1)\n",
    "grid_x = np.resize(grid_swapped[0], (sizes[0], sizes[1]))\n",
    "grid_y = np.resize(grid_swapped[1], (sizes[0], sizes[1]))\n",
    "grid_z0302 = np.asarray([grid_x, grid_y])"
   ]
  },
  {
   "cell_type": "code",
   "execution_count": 56,
   "metadata": {
    "collapsed": false
   },
   "outputs": [
    {
     "name": "stdout",
     "output_type": "stream",
     "text": [
      "0\n",
      "1\n",
      "2\n",
      "3\n",
      "4\n",
      "5\n",
      "6\n",
      "7\n",
      "8\n",
      "9\n",
      "10\n",
      "11\n",
      "12\n",
      "13\n",
      "14\n",
      "15\n",
      "16\n",
      "17\n",
      "18\n",
      "19\n",
      "20\n"
     ]
    }
   ],
   "source": [
    "interpolated_vectors_z0302, interpolators_z0302 = interpolate_plane(0.302, grid_points)[0:2]"
   ]
  },
  {
   "cell_type": "code",
   "execution_count": 57,
   "metadata": {
    "collapsed": true
   },
   "outputs": [],
   "source": [
    "spatial_increment = 0.001\n",
    "x_min, x_max = -0.041, 0.030\n",
    "y_min, y_max = -0.019, 0.0255\n",
    "z_min, z_max = 0.357, 0.357\n",
    "\n",
    "bounds = ((x_min, x_max), (y_min, y_max), (z_min, z_max)) \n",
    "\n",
    "x_coord = np.linspace(x_min, x_max, np.ceil((x_max-x_min)/spatial_increment))\n",
    "y_coord = np.linspace(y_min, y_max, np.ceil((y_max-y_min)/spatial_increment))\n",
    "\n",
    "mesh = np.meshgrid(x_coord, y_coord, indexing='ij')\n",
    "grid_points = np.dstack(map(np.ravel, mesh))[0]\n",
    "\n",
    "sizes = (np.unique(grid_points[:, 0]).size,\n",
    "         np.unique(grid_points[:, 1]).size)\n",
    "    \n",
    "grid_swapped = np.swapaxes(grid_points, 0, 1)\n",
    "grid_x = np.resize(grid_swapped[0], (sizes[0], sizes[1]))\n",
    "grid_y = np.resize(grid_swapped[1], (sizes[0], sizes[1]))\n",
    "grid_z0357 = np.asarray([grid_x, grid_y])"
   ]
  },
  {
   "cell_type": "code",
   "execution_count": 58,
   "metadata": {
    "collapsed": false
   },
   "outputs": [
    {
     "name": "stdout",
     "output_type": "stream",
     "text": [
      "0\n",
      "1\n",
      "2\n",
      "3\n",
      "4\n",
      "5\n",
      "6\n",
      "7\n",
      "8\n",
      "9\n",
      "10\n",
      "11\n",
      "12\n",
      "13\n",
      "14\n",
      "15\n",
      "16\n",
      "17\n",
      "18\n",
      "19\n",
      "20\n"
     ]
    }
   ],
   "source": [
    "interpolated_vectors_z0357, interpolators_z0357 = interpolate_plane(0.357, grid_points)[0:2]"
   ]
  },
  {
   "cell_type": "code",
   "execution_count": 59,
   "metadata": {
    "collapsed": false
   },
   "outputs": [],
   "source": [
    "spatial_increment = 0.001\n",
    "x_min, x_max = -0.044, 0.031\n",
    "y_min, y_max = -0.022, 0.027\n",
    "z_min, z_max = 0.416, 0.416\n",
    "\n",
    "bounds = ((x_min, x_max), (y_min, y_max), (z_min, z_max)) \n",
    "\n",
    "x_coord = np.linspace(x_min, x_max, np.ceil((x_max-x_min)/spatial_increment))\n",
    "y_coord = np.linspace(y_min, y_max, np.ceil((y_max-y_min)/spatial_increment))\n",
    "\n",
    "mesh = np.meshgrid(x_coord, y_coord, indexing='ij')\n",
    "grid_points = np.dstack(map(np.ravel, mesh))[0]\n",
    "\n",
    "sizes = (np.unique(grid_points[:, 0]).size,\n",
    "         np.unique(grid_points[:, 1]).size)\n",
    "    \n",
    "grid_swapped = np.swapaxes(grid_points, 0, 1)\n",
    "grid_x = np.resize(grid_swapped[0], (sizes[0], sizes[1]))\n",
    "grid_y = np.resize(grid_swapped[1], (sizes[0], sizes[1]))\n",
    "grid_z0416 = np.asarray([grid_x, grid_y])"
   ]
  },
  {
   "cell_type": "code",
   "execution_count": 60,
   "metadata": {
    "collapsed": false
   },
   "outputs": [
    {
     "name": "stdout",
     "output_type": "stream",
     "text": [
      "0\n",
      "1\n",
      "2\n",
      "3\n",
      "4\n",
      "5\n",
      "6\n",
      "7\n",
      "8\n",
      "9\n",
      "10\n",
      "11\n",
      "12\n",
      "13\n",
      "14\n",
      "15\n",
      "16\n",
      "17\n",
      "18\n",
      "19\n",
      "20\n"
     ]
    }
   ],
   "source": [
    "interpolated_vectors_z0416, interpolators_z0416 = interpolate_plane(0.416, grid_points)[0:2]"
   ]
  },
  {
   "cell_type": "code",
   "execution_count": 61,
   "metadata": {
    "collapsed": false
   },
   "outputs": [
    {
     "data": {
      "text/plain": [
       "21"
      ]
     },
     "execution_count": 61,
     "metadata": {},
     "output_type": "execute_result"
    }
   ],
   "source": [
    "len(interpolators_z0416)"
   ]
  },
  {
   "cell_type": "code",
   "execution_count": 67,
   "metadata": {
    "collapsed": false
   },
   "outputs": [],
   "source": [
    "prefix = '../output/2016-08-06/'\n",
    "z0249 = 'B_z_0249_'\n",
    "z0302 = 'B_z_0302_'\n",
    "z0357 = 'B_z_0357_'\n",
    "z0416 = 'B_z_0416_'\n",
    "\n",
    "points_ending = '.npz'\n",
    "interpolator_ending = '.p'\n",
    "\n",
    "for time_point in xrange(len(interpolated_vectors_z0249)):\n",
    "    np.savez(prefix + z0249 +  str(time_point).zfill(4) + ending,\n",
    "             b=interpolated_vectors_z0249, \n",
    "             grid=grid_z0249)\n",
    "    \n",
    "    np.savez(prefix + z0302 +  str(time_point).zfill(4) + ending,\n",
    "             b=interpolated_vectors_z0302, \n",
    "             grid=grid_z0302)\n",
    "    \n",
    "    np.savez(prefix + z0357 +  str(time_point).zfill(4) + ending,\n",
    "             b=interpolated_vectors_z0357, \n",
    "             grid=grid_z0357)\n",
    "    \n",
    "    np.savez(prefix + z0416 +  str(time_point).zfill(4) + ending,\n",
    "             b=interpolated_vectors_z0416, \n",
    "             grid=grid_z0416)\n",
    "    \n",
    "    file_path = prefix + z0249\n",
    "    pickle.dump(interpolators_z0249[time_point][0], open(file_path + 'x_' + str(time_point).zfill(4) + interpolator_ending, 'wb'))\n",
    "    pickle.dump(interpolators_z0249[time_point][1], open(file_path + 'y_' + str(time_point).zfill(4) + interpolator_ending, 'wb'))\n",
    "    pickle.dump(interpolators_z0249[time_point][2], open(file_path + 'z_' + str(time_point).zfill(4) + interpolator_ending, 'wb'))\n",
    "    \n",
    "    file_path = prefix + z0302\n",
    "    pickle.dump(interpolators_z0302[time_point][0], open(file_path + 'x_' + str(time_point).zfill(4) + interpolator_ending, 'wb'))\n",
    "    pickle.dump(interpolators_z0302[time_point][1], open(file_path + 'y_' + str(time_point).zfill(4) + interpolator_ending, 'wb'))\n",
    "    pickle.dump(interpolators_z0302[time_point][2], open(file_path + 'z_' + str(time_point).zfill(4) + interpolator_ending, 'wb'))\n",
    "\n",
    "    file_path = prefix + z0357\n",
    "    pickle.dump(interpolators_z0357[time_point][0], open(file_path + 'x_' + str(time_point).zfill(4) + interpolator_ending, 'wb'))\n",
    "    pickle.dump(interpolators_z0357[time_point][1], open(file_path + 'y_' + str(time_point).zfill(4) + interpolator_ending, 'wb'))\n",
    "    pickle.dump(interpolators_z0357[time_point][2], open(file_path + 'z_' + str(time_point).zfill(4) + interpolator_ending, 'wb'))\n",
    "\n",
    "    file_path = prefix + z0416\n",
    "    pickle.dump(interpolators_z0416[time_point][0], open(file_path + 'x_' + str(time_point).zfill(4) + interpolator_ending, 'wb'))\n",
    "    pickle.dump(interpolators_z0416[time_point][1], open(file_path + 'y_' + str(time_point).zfill(4) + interpolator_ending, 'wb'))\n",
    "    pickle.dump(interpolators_z0416[time_point][2], open(file_path + 'z_' + str(time_point).zfill(4) + interpolator_ending, 'wb'))"
   ]
  },
  {
   "cell_type": "code",
   "execution_count": null,
   "metadata": {
    "collapsed": true
   },
   "outputs": [],
   "source": []
  }
 ],
 "metadata": {
  "kernelspec": {
   "display_name": "Python 2",
   "language": "python",
   "name": "python2"
  },
  "language_info": {
   "codemirror_mode": {
    "name": "ipython",
    "version": 2
   },
   "file_extension": ".py",
   "mimetype": "text/x-python",
   "name": "python",
   "nbconvert_exporter": "python",
   "pygments_lexer": "ipython2",
   "version": "2.7.11"
  }
 },
 "nbformat": 4,
 "nbformat_minor": 0
}
