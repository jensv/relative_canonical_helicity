{
 "cells": [
  {
   "cell_type": "markdown",
   "metadata": {},
   "source": [
    "# Investigate grids and sub grids for generating a cumaliative vtk file of all relevant quanitities"
   ]
  },
  {
   "cell_type": "markdown",
   "metadata": {},
   "source": [
    "Creating grids for each quantiy individually leads to non-overlapping gridpoints due to floating point roundoffs.\n",
    "1. Create global grid at the maximum extent of all quanitites.\n",
    "2. Create subgrids by using np.argwhere(np.logical_and.reduce()) with a list of spatial limits.\n",
    "3. use the return from argwhere as the interpolation gridpoints for girddata\n",
    "4. then use swapaxes and reshape the make a vtkgrid and use it to subindex and fill a zeros array of the shape of the global grid.\n"
   ]
  },
  {
   "cell_type": "code",
   "execution_count": 1,
   "metadata": {
    "collapsed": true
   },
   "outputs": [],
   "source": [
    "import numpy as np\n",
    "from scipy.interpolate import griddata\n",
    "\n",
    "%matplotlib inline\n",
    "import matplotlib.pyplot as plt\n",
    "import seaborn as sns\n",
    "sns.set_context('poster')\n",
    "sns.set_style('whitegrid')\n",
    "\n",
    "import sys"
   ]
  },
  {
   "cell_type": "code",
   "execution_count": 2,
   "metadata": {
    "collapsed": true
   },
   "outputs": [],
   "source": [
    "from pyvisfile.vtk import write_structured_grid\n",
    "from pytools.obj_array import make_obj_array"
   ]
  },
  {
   "cell_type": "code",
   "execution_count": 3,
   "metadata": {
    "collapsed": false
   },
   "outputs": [
    {
     "data": {
      "text/plain": [
       "<module 'structured_3d_vtk' from 'structured_3d_vtk.pyc'>"
      ]
     },
     "execution_count": 3,
     "metadata": {},
     "output_type": "execute_result"
    }
   ],
   "source": [
    "sys.path.append('../../read_from_sql/')\n",
    "import read_from_sql\n",
    "sys.path.append('/Users/vonderlinden2/rsx_analysis/mach_probe_analysis')\n",
    "sys.path.append('/Users/vonderlinden2/rsx_analysis/time_alignment/source/')\n",
    "import ion_current_to_mach_number as ic_to_mach\n",
    "reload(ic_to_mach)\n",
    "sys.path.append('/Users/vonderlinden2/rsx_analysis/time_alignment/source')\n",
    "import absolute_times as at\n",
    "\n",
    "import structured_3d_vtk as struc_3d\n",
    "reload(struc_3d)"
   ]
  },
  {
   "cell_type": "code",
   "execution_count": 4,
   "metadata": {
    "collapsed": false
   },
   "outputs": [],
   "source": [
    "spatial_increment = 0.001\n",
    "x_min, x_max = -0.027, 0.024\n",
    "y_min, y_max = -0.021, 0.03\n",
    "z_min, z_max = 0.249, 0.416\n",
    "full_grid_bounds = ((x_min, x_max), (y_min, y_max), (z_min, z_max)) \n",
    "\n",
    "full_grid, sizes = struc_3d.bounded_grid(full_grid_bounds, spatial_increment)\n",
    "full_vtk_grid = struc_3d.prepare_mesh(full_grid, sizes)"
   ]
  },
  {
   "cell_type": "code",
   "execution_count": 40,
   "metadata": {
    "collapsed": true
   },
   "outputs": [],
   "source": [
    "tp_vtk_grid_indices = np.where(np.logical_and.reduce([full_vtk_grid[0] >= -0.022,\n",
    "                                                         full_vtk_grid[0] <= 0.018,\n",
    "                                                         full_vtk_grid[1] >= -0.021, \n",
    "                                                         full_vtk_grid[1] <= 0.0255, \n",
    "                                                         full_vtk_grid[2] >= 0.249,\n",
    "                                                         full_vtk_grid[2] <= 0.416]))"
   ]
  },
  {
   "cell_type": "code",
   "execution_count": 41,
   "metadata": {
    "collapsed": false,
    "scrolled": true
   },
   "outputs": [
    {
     "data": {
      "text/plain": [
       "array([-0.0219 , -0.0219 , -0.0219 , ...,  0.01788,  0.01788,  0.01788])"
      ]
     },
     "execution_count": 41,
     "metadata": {},
     "output_type": "execute_result"
    }
   ],
   "source": [
    "full_vtk_grid[0][tp_vtk_grid_indices[0], tp_vtk_grid_indices[1], tp_vtk_grid_indices[2]]"
   ]
  },
  {
   "cell_type": "code",
   "execution_count": 37,
   "metadata": {
    "collapsed": true
   },
   "outputs": [],
   "source": [
    "tp_vtk_grid_indices5 = np.argwhere(np.logical_and.reduce([full_vtk_grid[0] >= -0.022,\n",
    "                                                         full_vtk_grid[0] <= 0.018,\n",
    "                                                         full_vtk_grid[1] >= -0.021, \n",
    "                                                         full_vtk_grid[1] <= 0.0255, \n",
    "                                                         full_vtk_grid[2] >= 0.249,\n",
    "                                                         full_vtk_grid[2] <= 0.416]))"
   ]
  },
  {
   "cell_type": "code",
   "execution_count": 38,
   "metadata": {
    "collapsed": false
   },
   "outputs": [
    {
     "data": {
      "text/plain": [
       "array([-0.0219 , -0.0219 , -0.0219 , ...,  0.01788,  0.01788,  0.01788])"
      ]
     },
     "execution_count": 38,
     "metadata": {},
     "output_type": "execute_result"
    }
   ],
   "source": [
    "full_vtk_grid[0][tp_vtk_grid_indices5[:,0], tp_vtk_grid_indices5[:,1], tp_vtk_grid_indices5[:,2]]"
   ]
  },
  {
   "cell_type": "code",
   "execution_count": null,
   "metadata": {
    "collapsed": true
   },
   "outputs": [],
   "source": [
    "full_vtk_grid[0][tp_vtk_grid_indices]"
   ]
  },
  {
   "cell_type": "code",
   "execution_count": 6,
   "metadata": {
    "collapsed": false
   },
   "outputs": [
    {
     "data": {
      "text/plain": [
       "(3, 51, 51, 167)"
      ]
     },
     "execution_count": 6,
     "metadata": {},
     "output_type": "execute_result"
    }
   ],
   "source": [
    "full_vtk_grid.shape"
   ]
  },
  {
   "cell_type": "code",
   "execution_count": 7,
   "metadata": {
    "collapsed": false
   },
   "outputs": [
    {
     "data": {
      "text/plain": [
       "434367"
      ]
     },
     "execution_count": 7,
     "metadata": {},
     "output_type": "execute_result"
    }
   ],
   "source": [
    "51*51*167"
   ]
  },
  {
   "cell_type": "code",
   "execution_count": 8,
   "metadata": {
    "collapsed": false
   },
   "outputs": [
    {
     "data": {
      "text/plain": [
       "(307280,)"
      ]
     },
     "execution_count": 8,
     "metadata": {},
     "output_type": "execute_result"
    }
   ],
   "source": [
    "tp_vtk_grid_indices[2].shape"
   ]
  },
  {
   "cell_type": "code",
   "execution_count": 9,
   "metadata": {
    "collapsed": false
   },
   "outputs": [
    {
     "name": "stdout",
     "output_type": "stream",
     "text": [
      "(array([ 5,  5,  5, ..., 44, 44, 44]), array([ 0,  0,  0, ..., 45, 45, 45]), array([  0,   1,   2, ..., 164, 165, 166]))\n"
     ]
    }
   ],
   "source": [
    "print tp_vtk_grid_indices"
   ]
  },
  {
   "cell_type": "code",
   "execution_count": 10,
   "metadata": {
    "collapsed": false
   },
   "outputs": [
    {
     "data": {
      "text/plain": [
       "167"
      ]
     },
     "execution_count": 10,
     "metadata": {},
     "output_type": "execute_result"
    }
   ],
   "source": [
    "np.unique(tp_vtk_grid_indices[2]).size"
   ]
  },
  {
   "cell_type": "code",
   "execution_count": 11,
   "metadata": {
    "collapsed": false
   },
   "outputs": [
    {
     "data": {
      "text/plain": [
       "40"
      ]
     },
     "execution_count": 11,
     "metadata": {},
     "output_type": "execute_result"
    }
   ],
   "source": [
    "np.unique(tp_vtk_grid_indices[0]).size"
   ]
  },
  {
   "cell_type": "code",
   "execution_count": 12,
   "metadata": {
    "collapsed": false
   },
   "outputs": [
    {
     "data": {
      "text/plain": [
       "46"
      ]
     },
     "execution_count": 12,
     "metadata": {},
     "output_type": "execute_result"
    }
   ],
   "source": [
    "np.unique(tp_vtk_grid_indices[1]).size"
   ]
  },
  {
   "cell_type": "code",
   "execution_count": 13,
   "metadata": {
    "collapsed": false
   },
   "outputs": [
    {
     "data": {
      "text/plain": [
       "307280"
      ]
     },
     "execution_count": 13,
     "metadata": {},
     "output_type": "execute_result"
    }
   ],
   "source": [
    "167*40*46"
   ]
  },
  {
   "cell_type": "code",
   "execution_count": 14,
   "metadata": {
    "collapsed": false
   },
   "outputs": [],
   "source": [
    "tp_0 = np.reshape(tp_vtk_grid_indices[0], (40, 46, 167))\n",
    "tp_1 = np.reshape(tp_vtk_grid_indices[1], (40, 46, 167))\n",
    "tp_2 = np.reshape(tp_vtk_grid_indices[2], (40, 46, 167))"
   ]
  },
  {
   "cell_type": "code",
   "execution_count": 15,
   "metadata": {
    "collapsed": false
   },
   "outputs": [
    {
     "data": {
      "text/plain": [
       "(40, 46, 167)"
      ]
     },
     "execution_count": 15,
     "metadata": {},
     "output_type": "execute_result"
    }
   ],
   "source": [
    "full_vtk_grid[0][tp_0, tp_1, tp_2].shape"
   ]
  },
  {
   "cell_type": "code",
   "execution_count": 16,
   "metadata": {
    "collapsed": false
   },
   "outputs": [
    {
     "data": {
      "text/plain": [
       "array([[[-0.0219 , -0.0219 , -0.0219 , ..., -0.0219 , -0.0219 , -0.0219 ],\n",
       "        [-0.0219 , -0.0219 , -0.0219 , ..., -0.0219 , -0.0219 , -0.0219 ],\n",
       "        [-0.0219 , -0.0219 , -0.0219 , ..., -0.0219 , -0.0219 , -0.0219 ],\n",
       "        ..., \n",
       "        [-0.0219 , -0.0219 , -0.0219 , ..., -0.0219 , -0.0219 , -0.0219 ],\n",
       "        [-0.0219 , -0.0219 , -0.0219 , ..., -0.0219 , -0.0219 , -0.0219 ],\n",
       "        [-0.0219 , -0.0219 , -0.0219 , ..., -0.0219 , -0.0219 , -0.0219 ]],\n",
       "\n",
       "       [[-0.02088, -0.02088, -0.02088, ..., -0.02088, -0.02088, -0.02088],\n",
       "        [-0.02088, -0.02088, -0.02088, ..., -0.02088, -0.02088, -0.02088],\n",
       "        [-0.02088, -0.02088, -0.02088, ..., -0.02088, -0.02088, -0.02088],\n",
       "        ..., \n",
       "        [-0.02088, -0.02088, -0.02088, ..., -0.02088, -0.02088, -0.02088],\n",
       "        [-0.02088, -0.02088, -0.02088, ..., -0.02088, -0.02088, -0.02088],\n",
       "        [-0.02088, -0.02088, -0.02088, ..., -0.02088, -0.02088, -0.02088]],\n",
       "\n",
       "       [[-0.01986, -0.01986, -0.01986, ..., -0.01986, -0.01986, -0.01986],\n",
       "        [-0.01986, -0.01986, -0.01986, ..., -0.01986, -0.01986, -0.01986],\n",
       "        [-0.01986, -0.01986, -0.01986, ..., -0.01986, -0.01986, -0.01986],\n",
       "        ..., \n",
       "        [-0.01986, -0.01986, -0.01986, ..., -0.01986, -0.01986, -0.01986],\n",
       "        [-0.01986, -0.01986, -0.01986, ..., -0.01986, -0.01986, -0.01986],\n",
       "        [-0.01986, -0.01986, -0.01986, ..., -0.01986, -0.01986, -0.01986]],\n",
       "\n",
       "       ..., \n",
       "       [[ 0.01584,  0.01584,  0.01584, ...,  0.01584,  0.01584,  0.01584],\n",
       "        [ 0.01584,  0.01584,  0.01584, ...,  0.01584,  0.01584,  0.01584],\n",
       "        [ 0.01584,  0.01584,  0.01584, ...,  0.01584,  0.01584,  0.01584],\n",
       "        ..., \n",
       "        [ 0.01584,  0.01584,  0.01584, ...,  0.01584,  0.01584,  0.01584],\n",
       "        [ 0.01584,  0.01584,  0.01584, ...,  0.01584,  0.01584,  0.01584],\n",
       "        [ 0.01584,  0.01584,  0.01584, ...,  0.01584,  0.01584,  0.01584]],\n",
       "\n",
       "       [[ 0.01686,  0.01686,  0.01686, ...,  0.01686,  0.01686,  0.01686],\n",
       "        [ 0.01686,  0.01686,  0.01686, ...,  0.01686,  0.01686,  0.01686],\n",
       "        [ 0.01686,  0.01686,  0.01686, ...,  0.01686,  0.01686,  0.01686],\n",
       "        ..., \n",
       "        [ 0.01686,  0.01686,  0.01686, ...,  0.01686,  0.01686,  0.01686],\n",
       "        [ 0.01686,  0.01686,  0.01686, ...,  0.01686,  0.01686,  0.01686],\n",
       "        [ 0.01686,  0.01686,  0.01686, ...,  0.01686,  0.01686,  0.01686]],\n",
       "\n",
       "       [[ 0.01788,  0.01788,  0.01788, ...,  0.01788,  0.01788,  0.01788],\n",
       "        [ 0.01788,  0.01788,  0.01788, ...,  0.01788,  0.01788,  0.01788],\n",
       "        [ 0.01788,  0.01788,  0.01788, ...,  0.01788,  0.01788,  0.01788],\n",
       "        ..., \n",
       "        [ 0.01788,  0.01788,  0.01788, ...,  0.01788,  0.01788,  0.01788],\n",
       "        [ 0.01788,  0.01788,  0.01788, ...,  0.01788,  0.01788,  0.01788],\n",
       "        [ 0.01788,  0.01788,  0.01788, ...,  0.01788,  0.01788,  0.01788]]])"
      ]
     },
     "execution_count": 16,
     "metadata": {},
     "output_type": "execute_result"
    }
   ],
   "source": [
    "full_vtk_grid[0][tp_0, tp_1, tp_2]"
   ]
  },
  {
   "cell_type": "code",
   "execution_count": null,
   "metadata": {
    "collapsed": true
   },
   "outputs": [],
   "source": []
  },
  {
   "cell_type": "code",
   "execution_count": 17,
   "metadata": {
    "collapsed": false
   },
   "outputs": [
    {
     "data": {
      "text/plain": [
       "(307280, 3)"
      ]
     },
     "execution_count": 17,
     "metadata": {},
     "output_type": "execute_result"
    }
   ],
   "source": [
    "tp_vtk_grid_indices2 = np.argwhere(np.logical_and.reduce([full_vtk_grid[0] >= -0.022,\n",
    "                                                         full_vtk_grid[0] <= 0.018,\n",
    "                                                         full_vtk_grid[1] >= -0.021, \n",
    "                                                         full_vtk_grid[1] <= 0.0255, \n",
    "                                                         full_vtk_grid[2] >= 0.249,\n",
    "                                                         full_vtk_grid[2] <= 0.416]))\n",
    "tp_vtk_grid_indices2.shape"
   ]
  },
  {
   "cell_type": "code",
   "execution_count": 18,
   "metadata": {
    "collapsed": true
   },
   "outputs": [],
   "source": [
    "tp_vtk_grid_indices3 = np.swapaxes(tp_vtk_grid_indices2, 0, 1)\n",
    "\n",
    "tp_all = np.reshape(tp_vtk_grid_indices3, (3, 40, 46, 167))\n",
    "\n",
    "tp_0 = np.reshape(tp_vtk_grid_indices3[0], (40, 46, 167))\n",
    "tp_1 = np.reshape(tp_vtk_grid_indices3[1], (40, 46, 167))\n",
    "tp_2 = np.reshape(tp_vtk_grid_indices3[2], (40, 46, 167))"
   ]
  },
  {
   "cell_type": "code",
   "execution_count": 20,
   "metadata": {
    "collapsed": false
   },
   "outputs": [
    {
     "data": {
      "text/plain": [
       "array([[[-0.0219 , -0.0219 , -0.0219 , ..., -0.0219 , -0.0219 , -0.0219 ],\n",
       "        [-0.0219 , -0.0219 , -0.0219 , ..., -0.0219 , -0.0219 , -0.0219 ],\n",
       "        [-0.0219 , -0.0219 , -0.0219 , ..., -0.0219 , -0.0219 , -0.0219 ],\n",
       "        ..., \n",
       "        [-0.0219 , -0.0219 , -0.0219 , ..., -0.0219 , -0.0219 , -0.0219 ],\n",
       "        [-0.0219 , -0.0219 , -0.0219 , ..., -0.0219 , -0.0219 , -0.0219 ],\n",
       "        [-0.0219 , -0.0219 , -0.0219 , ..., -0.0219 , -0.0219 , -0.0219 ]],\n",
       "\n",
       "       [[-0.02088, -0.02088, -0.02088, ..., -0.02088, -0.02088, -0.02088],\n",
       "        [-0.02088, -0.02088, -0.02088, ..., -0.02088, -0.02088, -0.02088],\n",
       "        [-0.02088, -0.02088, -0.02088, ..., -0.02088, -0.02088, -0.02088],\n",
       "        ..., \n",
       "        [-0.02088, -0.02088, -0.02088, ..., -0.02088, -0.02088, -0.02088],\n",
       "        [-0.02088, -0.02088, -0.02088, ..., -0.02088, -0.02088, -0.02088],\n",
       "        [-0.02088, -0.02088, -0.02088, ..., -0.02088, -0.02088, -0.02088]],\n",
       "\n",
       "       [[-0.01986, -0.01986, -0.01986, ..., -0.01986, -0.01986, -0.01986],\n",
       "        [-0.01986, -0.01986, -0.01986, ..., -0.01986, -0.01986, -0.01986],\n",
       "        [-0.01986, -0.01986, -0.01986, ..., -0.01986, -0.01986, -0.01986],\n",
       "        ..., \n",
       "        [-0.01986, -0.01986, -0.01986, ..., -0.01986, -0.01986, -0.01986],\n",
       "        [-0.01986, -0.01986, -0.01986, ..., -0.01986, -0.01986, -0.01986],\n",
       "        [-0.01986, -0.01986, -0.01986, ..., -0.01986, -0.01986, -0.01986]],\n",
       "\n",
       "       ..., \n",
       "       [[ 0.01584,  0.01584,  0.01584, ...,  0.01584,  0.01584,  0.01584],\n",
       "        [ 0.01584,  0.01584,  0.01584, ...,  0.01584,  0.01584,  0.01584],\n",
       "        [ 0.01584,  0.01584,  0.01584, ...,  0.01584,  0.01584,  0.01584],\n",
       "        ..., \n",
       "        [ 0.01584,  0.01584,  0.01584, ...,  0.01584,  0.01584,  0.01584],\n",
       "        [ 0.01584,  0.01584,  0.01584, ...,  0.01584,  0.01584,  0.01584],\n",
       "        [ 0.01584,  0.01584,  0.01584, ...,  0.01584,  0.01584,  0.01584]],\n",
       "\n",
       "       [[ 0.01686,  0.01686,  0.01686, ...,  0.01686,  0.01686,  0.01686],\n",
       "        [ 0.01686,  0.01686,  0.01686, ...,  0.01686,  0.01686,  0.01686],\n",
       "        [ 0.01686,  0.01686,  0.01686, ...,  0.01686,  0.01686,  0.01686],\n",
       "        ..., \n",
       "        [ 0.01686,  0.01686,  0.01686, ...,  0.01686,  0.01686,  0.01686],\n",
       "        [ 0.01686,  0.01686,  0.01686, ...,  0.01686,  0.01686,  0.01686],\n",
       "        [ 0.01686,  0.01686,  0.01686, ...,  0.01686,  0.01686,  0.01686]],\n",
       "\n",
       "       [[ 0.01788,  0.01788,  0.01788, ...,  0.01788,  0.01788,  0.01788],\n",
       "        [ 0.01788,  0.01788,  0.01788, ...,  0.01788,  0.01788,  0.01788],\n",
       "        [ 0.01788,  0.01788,  0.01788, ...,  0.01788,  0.01788,  0.01788],\n",
       "        ..., \n",
       "        [ 0.01788,  0.01788,  0.01788, ...,  0.01788,  0.01788,  0.01788],\n",
       "        [ 0.01788,  0.01788,  0.01788, ...,  0.01788,  0.01788,  0.01788],\n",
       "        [ 0.01788,  0.01788,  0.01788, ...,  0.01788,  0.01788,  0.01788]]])"
      ]
     },
     "execution_count": 20,
     "metadata": {},
     "output_type": "execute_result"
    }
   ],
   "source": [
    "full_vtk_grid[0][tp_all[0], tp_all[1], tp_all[2]]"
   ]
  },
  {
   "cell_type": "code",
   "execution_count": 23,
   "metadata": {
    "collapsed": false
   },
   "outputs": [
    {
     "data": {
      "text/plain": [
       "0"
      ]
     },
     "execution_count": 23,
     "metadata": {},
     "output_type": "execute_result"
    }
   ],
   "source": [
    "np.sum(np.invert(full_vtk_grid[0][tp_0, tp_1, tp_2] == full_vtk_grid[0][tp_all[0], tp_all[1], tp_all[2]]))"
   ]
  },
  {
   "cell_type": "code",
   "execution_count": null,
   "metadata": {
    "collapsed": true
   },
   "outputs": [],
   "source": []
  }
 ],
 "metadata": {
  "kernelspec": {
   "display_name": "Python 2",
   "language": "python",
   "name": "python2"
  },
  "language_info": {
   "codemirror_mode": {
    "name": "ipython",
    "version": 2
   },
   "file_extension": ".py",
   "mimetype": "text/x-python",
   "name": "python",
   "nbconvert_exporter": "python",
   "pygments_lexer": "ipython2",
   "version": "2.7.11"
  }
 },
 "nbformat": 4,
 "nbformat_minor": 0
}
