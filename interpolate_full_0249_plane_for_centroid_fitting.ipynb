{
 "cells": [
  {
   "cell_type": "code",
   "execution_count": 3,
   "metadata": {
    "collapsed": true
   },
   "outputs": [],
   "source": [
    "import numpy as np\n",
    "import scipy.optimize as opti\n",
    "%matplotlib inline\n",
    "import matplotlib.pyplot as plt\n",
    "import seaborn as sns\n",
    "sns.set_style('whitegrid')\n",
    "sns.set_context('poster')\n",
    "from scipy.interpolate import griddata\n",
    "from scipy.interpolate import rbf\n",
    "from scipy.interpolate import LinearNDInterpolator\n",
    "import cPickle as pickle"
   ]
  },
  {
   "cell_type": "code",
   "execution_count": 4,
   "metadata": {
    "collapsed": false
   },
   "outputs": [
    {
     "data": {
      "text/html": [
       "<style>.container { width:100% !important; }</style>"
      ],
      "text/plain": [
       "<IPython.core.display.HTML object>"
      ]
     },
     "metadata": {},
     "output_type": "display_data"
    }
   ],
   "source": [
    "from IPython.core.display import display, HTML\n",
    "display(HTML(\"<style>.container { width:100% !important; }</style>\"))"
   ]
  },
  {
   "cell_type": "code",
   "execution_count": 5,
   "metadata": {
    "collapsed": false
   },
   "outputs": [
    {
     "data": {
      "text/plain": [
       "<module 'structured_3d_vtk' from '/Users/vonderlinden2/rsx_analysis/writing_to_vtk/source/structured_3d_vtk.pyc'>"
      ]
     },
     "execution_count": 5,
     "metadata": {},
     "output_type": "execute_result"
    }
   ],
   "source": [
    "import sys\n",
    "sys.path.append('/Users/vonderlinden2/rsx_analysis/writing_to_vtk/source')\n",
    "import structured_3d_vtk as struc_3d\n",
    "reload(struc_3d)"
   ]
  },
  {
   "cell_type": "code",
   "execution_count": 7,
   "metadata": {
    "collapsed": false
   },
   "outputs": [],
   "source": [
    "spatial_increment = 0.001\n",
    "x_min, x_max = -0.028, 0.025\n",
    "y_min, y_max = -0.043, 0.039\n",
    "z_min, z_max = 0.249, 0.249\n",
    "\n",
    "bounds = ((x_min, x_max), (y_min, y_max), (z_min, z_max)) \n",
    "\n",
    "x_coord = np.linspace(x_min, x_max, np.ceil((x_max-x_min)/spatial_increment))\n",
    "y_coord = np.linspace(y_min, y_max, np.ceil((y_max-y_min)/spatial_increment))\n",
    "\n",
    "mesh = np.meshgrid(x_coord, y_coord, indexing='ij')\n",
    "grid_points = np.dstack(map(np.ravel, mesh))[0]"
   ]
  },
  {
   "cell_type": "markdown",
   "metadata": {},
   "source": [
    "# Interpolate linearly"
   ]
  },
  {
   "cell_type": "code",
   "execution_count": 8,
   "metadata": {
    "collapsed": false
   },
   "outputs": [
    {
     "name": "stdout",
     "output_type": "stream",
     "text": [
      "0\n",
      "1\n",
      "2\n",
      "3\n",
      "4\n",
      "5\n",
      "6\n",
      "7\n",
      "8\n",
      "9\n",
      "10\n",
      "11\n",
      "12\n",
      "13\n",
      "14\n",
      "15\n",
      "16\n",
      "17\n",
      "18\n",
      "19\n",
      "20\n"
     ]
    }
   ],
   "source": [
    "file_path = '../output/2016-07-03/B_z0249_'\n",
    "ending = '.npz'\n",
    "\n",
    "bx_measurements = struc_3d.read_idl('bx')\n",
    "by_measurements = struc_3d.read_idl('by')\n",
    "bz_measurements = struc_3d.read_idl('bz')\n",
    "\n",
    "for plane in [0.249, 0.302, 0.357, 0.416]:\n",
    "    bx_measurements[plane] = struc_3d.average_duplicate_points(bx_measurements[plane])\n",
    "    by_measurements[plane] = struc_3d.average_duplicate_points(by_measurements[plane])\n",
    "    bz_measurements[plane] = struc_3d.average_duplicate_points(bz_measurements[plane])\n",
    "\n",
    "direction_measurements = [bx_measurements, by_measurements, bz_measurements] \n",
    "\n",
    "interpolated_vectors = []\n",
    "for time_point in xrange(21):\n",
    "    print time_point\n",
    "    points = []\n",
    "    values = []\n",
    "    for measurements in direction_measurements:\n",
    "        (points_direction,\n",
    "         values_direction) = struc_3d.read_points_from_measurement_dict(measurements,\n",
    "                                                                        time_point,\n",
    "                                                                        [0.249])\n",
    "        points.append(points_direction)\n",
    "        values.append(values_direction)\n",
    "    \n",
    "    points[0] = np.delete(points[0], 2, axis=1)\n",
    "    points[1] = np.delete(points[1], 2, axis=1)\n",
    "    points[2] = np.delete(points[2], 2, axis=1)\n",
    "    interpolated_vector = struc_3d.interpolate_vector(grid_points, points, values)\n",
    "    #interpolated_vector = struc_3d.add_vacuum_field(interpolated_vector)\n",
    "    \n",
    "    assert np.sum(np.isnan(interpolated_vector[0])) == 0\n",
    "    assert np.sum(np.isnan(interpolated_vector[1])) == 0\n",
    "    assert np.sum(np.isnan(interpolated_vector[2])) == 0\n",
    "    \n",
    "    \n",
    "    sizes = (np.unique(grid_points[:, 0]).size,\n",
    "             np.unique(grid_points[:, 1]).size)\n",
    "    \n",
    "    grid_swapped = np.swapaxes(grid_points, 0, 1)\n",
    "    grid_x = np.resize(grid_swapped[0], (sizes[0], sizes[1]))\n",
    "    grid_y = np.resize(grid_swapped[1], (sizes[0], sizes[1]))\n",
    "    grid = np.asarray([grid_x, grid_y])\n",
    "    \n",
    "    interpolated_vector = np.asarray(interpolated_vector)\n",
    "    vector_swapped = np.swapaxes(interpolated_vector, 0, 1)\n",
    "    vector_x = np.resize(vector_swapped[:, 0], (sizes[0], sizes[1]))\n",
    "    vector_y = np.resize(vector_swapped[:, 1], (sizes[0], sizes[1]))\n",
    "    vector = np.asarray([vector_x, vector_y])\n",
    "    \n",
    "    interpolated_vectors.append(vector)\n",
    "    \n",
    "    np.savez(file_path + str(time_point).zfill(4) + ending,\n",
    "             b=vector, \n",
    "             grid=grid)"
   ]
  },
  {
   "cell_type": "code",
   "execution_count": 14,
   "metadata": {
    "collapsed": false
   },
   "outputs": [
    {
     "name": "stdout",
     "output_type": "stream",
     "text": [
      "0\n",
      "1\n",
      "2\n",
      "3\n",
      "4\n",
      "5\n",
      "6\n",
      "7\n",
      "8\n",
      "9\n",
      "10\n",
      "11\n",
      "12\n",
      "13\n",
      "14\n",
      "15\n",
      "16\n",
      "17\n",
      "18\n",
      "19\n",
      "20\n"
     ]
    }
   ],
   "source": [
    "file_path = '../output/2016-07-03/B_z0249_'\n",
    "ending = '.p'\n",
    "\n",
    "bx_measurements = struc_3d.read_idl('bx')\n",
    "by_measurements = struc_3d.read_idl('by')\n",
    "bz_measurements = struc_3d.read_idl('bz')\n",
    "\n",
    "for plane in [0.249, 0.302, 0.357, 0.416]:\n",
    "    bx_measurements[plane] = struc_3d.average_duplicate_points(bx_measurements[plane])\n",
    "    by_measurements[plane] = struc_3d.average_duplicate_points(by_measurements[plane])\n",
    "    bz_measurements[plane] = struc_3d.average_duplicate_points(bz_measurements[plane])\n",
    "\n",
    "direction_measurements = [bx_measurements, by_measurements, bz_measurements] \n",
    "\n",
    "interpolators = []\n",
    "for time_point in xrange(21):\n",
    "    print time_point\n",
    "    points = []\n",
    "    values = []\n",
    "    for measurements in direction_measurements:\n",
    "        (points_direction,\n",
    "         values_direction) = struc_3d.read_points_from_measurement_dict(measurements,\n",
    "                                                                        time_point,\n",
    "                                                                        [0.249])\n",
    "        points.append(points_direction)\n",
    "        values.append(values_direction)\n",
    "    \n",
    "    points[0] = np.delete(points[0], 2, axis=1)\n",
    "    points[1] = np.delete(points[1], 2, axis=1)\n",
    "    points[2] = np.delete(points[2], 2, axis=1)\n",
    "    interpolator_x = LinearNDInterpolator(points[0], values[0])\n",
    "    interpolator_y = LinearNDInterpolator(points[1], values[1])\n",
    "    interpolator_z = LinearNDInterpolator(points[2], values[2])\n",
    "    pickle.dump(interpolator_x, open(file_path + 'x_' + str(time_point).zfill(4) + ending, 'wb'))\n",
    "    pickle.dump(interpolator_y, open(file_path + 'y_' + str(time_point).zfill(4) + ending, 'wb'))\n",
    "    pickle.dump(interpolator_z, open(file_path + 'z_' + str(time_point).zfill(4) + ending, 'wb'))"
   ]
  },
  {
   "cell_type": "code",
   "execution_count": null,
   "metadata": {
    "collapsed": true
   },
   "outputs": [],
   "source": []
  },
  {
   "cell_type": "markdown",
   "metadata": {},
   "source": [
    "# Examine grid ordering"
   ]
  },
  {
   "cell_type": "code",
   "execution_count": 14,
   "metadata": {
    "collapsed": false
   },
   "outputs": [],
   "source": [
    "file_path = '../output/2016-07-03/B_z0249_'\n",
    "ending = '.npz'\n",
    "\n",
    "bx_measurements = struc_3d.read_idl('bx')\n",
    "by_measurements = struc_3d.read_idl('by')\n",
    "bz_measurements = struc_3d.read_idl('bz')\n",
    "\n",
    "for plane in [0.249, 0.302, 0.357, 0.416]:\n",
    "    bx_measurements[plane] = struc_3d.average_duplicate_points(bx_measurements[plane])\n",
    "    by_measurements[plane] = struc_3d.average_duplicate_points(by_measurements[plane])\n",
    "    bz_measurements[plane] = struc_3d.average_duplicate_points(bz_measurements[plane])\n",
    "\n",
    "direction_measurements = [bx_measurements, by_measurements, bz_measurements] \n",
    "\n",
    "\n",
    "time_point=0\n",
    "points = []\n",
    "values = []\n",
    "measurements = bx_measurements\n",
    "\n",
    "(points_direction,\n",
    " values_direction) = struc_3d.read_points_from_measurement_dict(measurements,\n",
    "                                                                time_point,\n",
    "                                                                [0.249])\n",
    "points = points_direction\n",
    "values = values_direction\n",
    "    \n",
    "points = np.delete(points, 2, axis=1)\n",
    "   \n",
    "interpolated_scalar = struc_3d.interpolate_scalar(grid_points, points, values)\n",
    "#interpolated_vector = struc_3d.add_vacuum_field(interpolated_vector)\n",
    "    \n",
    "assert np.sum(np.isnan(interpolated_scalar)) == 0\n",
    "    \n",
    "sizes = (np.unique(grid_points[:, 0]).size,\n",
    "         np.unique(grid_points[:, 1]).size)\n",
    "    \n",
    "grid_swapped = np.swapaxes(grid_points, 0, 1)\n",
    "grid_x = np.resize(grid_swapped[0], (sizes[0], sizes[1]))\n",
    "grid_y = np.resize(grid_swapped[1], (sizes[0], sizes[1]))\n",
    "grid = np.asarray([grid_x, grid_y])\n",
    "    \n",
    "interpolated_scalar = np.asarray(interpolated_scalar)\n",
    "scalar = np.resize(interpolated_scalar, (sizes[0], sizes[1]))\n"
   ]
  },
  {
   "cell_type": "code",
   "execution_count": 15,
   "metadata": {
    "collapsed": false
   },
   "outputs": [
    {
     "data": {
      "text/plain": [
       "array([[ -1.60520156e-04,  -1.62398882e-04,  -1.73493664e-04, ...,\n",
       "          1.92798563e-04,   1.92182204e-04,   1.91565846e-04],\n",
       "       [ -1.44041504e-04,  -1.45920231e-04,  -1.50443651e-04, ...,\n",
       "          2.95728433e-04,   2.68979060e-04,   2.68044026e-04],\n",
       "       [ -2.25491089e-04,  -2.27369815e-04,  -2.44343123e-04, ...,\n",
       "          2.82471044e-04,   2.55721671e-04,   2.37861818e-04],\n",
       "       ..., \n",
       "       [ -6.80633642e-06,  -5.52919785e-05,  -1.28570143e-04, ...,\n",
       "         -1.15569618e-04,  -2.18158869e-04,  -2.19888576e-04],\n",
       "       [  2.31864552e-05,  -3.76954042e-05,  -1.10973569e-04, ...,\n",
       "         -7.87077349e-05,  -1.57095065e-04,  -1.58824772e-04],\n",
       "       [ -8.49811979e-05,  -7.86033894e-05,  -7.22255809e-05, ...,\n",
       "         -4.18458521e-05,  -9.67283577e-05,  -9.77609681e-05]])"
      ]
     },
     "execution_count": 15,
     "metadata": {},
     "output_type": "execute_result"
    }
   ],
   "source": [
    "scalar"
   ]
  },
  {
   "cell_type": "code",
   "execution_count": 16,
   "metadata": {
    "collapsed": false
   },
   "outputs": [
    {
     "data": {
      "text/plain": [
       "array([ -1.60520156e-04,  -1.62398882e-04,  -1.73493664e-04, ...,\n",
       "        -4.18458521e-05,  -9.67283577e-05,  -9.77609681e-05])"
      ]
     },
     "execution_count": 16,
     "metadata": {},
     "output_type": "execute_result"
    }
   ],
   "source": [
    "interpolated_scalar"
   ]
  },
  {
   "cell_type": "code",
   "execution_count": 17,
   "metadata": {
    "collapsed": false
   },
   "outputs": [
    {
     "data": {
      "text/plain": [
       "array([[-0.028     , -0.043     ],\n",
       "       [-0.028     , -0.04198765],\n",
       "       [-0.028     , -0.04097531],\n",
       "       ..., \n",
       "       [ 0.025     ,  0.03697531],\n",
       "       [ 0.025     ,  0.03798765],\n",
       "       [ 0.025     ,  0.039     ]])"
      ]
     },
     "execution_count": 17,
     "metadata": {},
     "output_type": "execute_result"
    }
   ],
   "source": [
    "grid_points"
   ]
  },
  {
   "cell_type": "code",
   "execution_count": 33,
   "metadata": {
    "collapsed": false
   },
   "outputs": [
    {
     "data": {
      "text/plain": [
       "-0.040975308641975308"
      ]
     },
     "execution_count": 33,
     "metadata": {},
     "output_type": "execute_result"
    }
   ],
   "source": [
    "grid[1][0][2]"
   ]
  },
  {
   "cell_type": "code",
   "execution_count": 30,
   "metadata": {
    "collapsed": false
   },
   "outputs": [
    {
     "data": {
      "text/plain": [
       "-0.00017349366393440481"
      ]
     },
     "execution_count": 30,
     "metadata": {},
     "output_type": "execute_result"
    }
   ],
   "source": [
    "scalar[0][2]"
   ]
  },
  {
   "cell_type": "code",
   "execution_count": 40,
   "metadata": {
    "collapsed": false
   },
   "outputs": [
    {
     "data": {
      "text/plain": [
       "-1.8787261375692609e-06"
      ]
     },
     "execution_count": 40,
     "metadata": {},
     "output_type": "execute_result"
    }
   ],
   "source": [
    "scalar[0][1] - scalar[0][0] "
   ]
  },
  {
   "cell_type": "code",
   "execution_count": 39,
   "metadata": {
    "collapsed": false
   },
   "outputs": [
    {
     "data": {
      "text/plain": [
       "-0.00016239888172420871"
      ]
     },
     "execution_count": 39,
     "metadata": {},
     "output_type": "execute_result"
    }
   ],
   "source": [
    "scalar[0][1]"
   ]
  },
  {
   "cell_type": "code",
   "execution_count": 44,
   "metadata": {
    "collapsed": false
   },
   "outputs": [
    {
     "data": {
      "text/plain": [
       "array([[ -1.87872614e-06,  -1.10947822e-05,  -8.55028609e-05, ...,\n",
       "         -1.70610395e-05,  -6.16358521e-07,  -6.16358521e-07],\n",
       "       [ -1.87872614e-06,  -4.52342036e-06,  -1.10306614e-04, ...,\n",
       "         -2.67493733e-05,  -2.67493733e-05,  -9.35034135e-07],\n",
       "       [ -1.87872614e-06,  -1.69733081e-05,  -8.39879825e-05, ...,\n",
       "         -2.67247240e-05,  -2.67493733e-05,  -1.78598530e-05],\n",
       "       ..., \n",
       "       [ -4.84856420e-05,  -7.32781649e-05,  -6.88929429e-05, ...,\n",
       "         -5.48825056e-05,  -1.02589251e-04,  -1.72970748e-06],\n",
       "       [ -6.08818594e-05,  -7.32781649e-05,  -6.88929429e-05, ...,\n",
       "         -5.48825056e-05,  -7.83873299e-05,  -1.72970748e-06],\n",
       "       [  6.37780852e-06,   6.37780852e-06,   6.37780852e-06, ...,\n",
       "         -5.48825056e-05,  -5.48825056e-05,  -1.03261038e-06]])"
      ]
     },
     "execution_count": 44,
     "metadata": {},
     "output_type": "execute_result"
    }
   ],
   "source": [
    "np.diff(scalar, axis=1)"
   ]
  },
  {
   "cell_type": "code",
   "execution_count": 43,
   "metadata": {
    "collapsed": false
   },
   "outputs": [
    {
     "data": {
      "text/plain": [
       "array([[  1.64786511e-05,   1.64786511e-05,   2.30500130e-05, ...,\n",
       "          1.02929870e-04,   7.67968557e-05,   7.64781801e-05],\n",
       "       [ -8.14495845e-05,  -8.14495845e-05,  -9.38994723e-05, ...,\n",
       "         -1.32573892e-05,  -1.32573892e-05,  -3.01822081e-05],\n",
       "       [ -8.14495845e-05,  -8.89968659e-05,  -9.60050400e-05, ...,\n",
       "         -1.32738217e-05,  -1.32573892e-05,  -1.32573892e-05],\n",
       "       ..., \n",
       "       [  2.99927916e-05,   2.55036554e-05,   1.75965742e-05, ...,\n",
       "          5.16021898e-05,   6.10638042e-05,   6.10638042e-05],\n",
       "       [  2.99927916e-05,   1.75965742e-05,   1.75965742e-05, ...,\n",
       "          3.68618828e-05,   6.10638042e-05,   6.10638042e-05],\n",
       "       [ -1.08167653e-04,  -4.09079852e-05,   3.87479882e-05, ...,\n",
       "          3.68618828e-05,   6.03667071e-05,   6.10638042e-05]])"
      ]
     },
     "execution_count": 43,
     "metadata": {},
     "output_type": "execute_result"
    }
   ],
   "source": [
    "np.diff(scalar, axis=0)"
   ]
  },
  {
   "cell_type": "code",
   "execution_count": 47,
   "metadata": {
    "collapsed": false
   },
   "outputs": [
    {
     "data": {
      "text/plain": [
       "array([[  1.64786511e-05,   1.64786511e-05,   2.30500130e-05, ...,\n",
       "          1.02929870e-04,   7.67968557e-05,   7.64781801e-05],\n",
       "       [ -3.24854667e-05,  -3.24854667e-05,  -3.54247297e-05, ...,\n",
       "          4.48362406e-05,   3.17697332e-05,   2.31479860e-05],\n",
       "       [ -8.14495845e-05,  -8.52232252e-05,  -9.49522561e-05, ...,\n",
       "         -1.32656055e-05,  -1.32573892e-05,  -2.17197986e-05],\n",
       "       ..., \n",
       "       [  2.99927916e-05,   2.15501148e-05,   1.75965742e-05, ...,\n",
       "          4.42320363e-05,   6.10638042e-05,   6.10638042e-05],\n",
       "       [ -3.90874308e-05,  -1.16557055e-05,   2.81722812e-05, ...,\n",
       "          3.68618828e-05,   6.07152556e-05,   6.10638042e-05],\n",
       "       [ -1.08167653e-04,  -4.09079852e-05,   3.87479882e-05, ...,\n",
       "          3.68618828e-05,   6.03667071e-05,   6.10638042e-05]])"
      ]
     },
     "execution_count": 47,
     "metadata": {},
     "output_type": "execute_result"
    }
   ],
   "source": [
    "np.gradient(scalar)[0]"
   ]
  },
  {
   "cell_type": "code",
   "execution_count": 49,
   "metadata": {
    "collapsed": false
   },
   "outputs": [
    {
     "data": {
      "text/plain": [
       "array([[ -1.87872614e-06,  -6.48675417e-06,  -4.82988216e-05, ...,\n",
       "         -8.83869902e-06,  -6.16358521e-07,  -6.16358521e-07],\n",
       "       [ -1.87872614e-06,  -3.20107325e-06,  -5.74150173e-05, ...,\n",
       "         -2.67493733e-05,  -1.38422037e-05,  -9.35034135e-07],\n",
       "       [ -1.87872614e-06,  -9.42601712e-06,  -5.04806453e-05, ...,\n",
       "         -2.67370487e-05,  -2.23046132e-05,  -1.78598530e-05],\n",
       "       ..., \n",
       "       [ -4.84856420e-05,  -6.08819035e-05,  -7.10855539e-05, ...,\n",
       "         -7.87358784e-05,  -5.21594793e-05,  -1.72970748e-06],\n",
       "       [ -6.08818594e-05,  -6.70800122e-05,  -7.10855539e-05, ...,\n",
       "         -6.66349178e-05,  -4.00585187e-05,  -1.72970748e-06],\n",
       "       [  6.37780852e-06,   6.37780852e-06,   6.37780852e-06, ...,\n",
       "         -5.48825056e-05,  -2.79575580e-05,  -1.03261038e-06]])"
      ]
     },
     "execution_count": 49,
     "metadata": {},
     "output_type": "execute_result"
    }
   ],
   "source": [
    "np.gradient(scalar)[1]"
   ]
  },
  {
   "cell_type": "code",
   "execution_count": 45,
   "metadata": {
    "collapsed": false
   },
   "outputs": [
    {
     "data": {
      "text/plain": [
       "1.6478651129742952e-05"
      ]
     },
     "execution_count": 45,
     "metadata": {},
     "output_type": "execute_result"
    }
   ],
   "source": [
    "scalar[1, 0] - scalar[0,0]"
   ]
  },
  {
   "cell_type": "markdown",
   "metadata": {},
   "source": [
    "# Interpolate cubic with C-T method"
   ]
  },
  {
   "cell_type": "code",
   "execution_count": 81,
   "metadata": {
    "collapsed": false
   },
   "outputs": [
    {
     "name": "stdout",
     "output_type": "stream",
     "text": [
      "0\n",
      "1\n",
      "2\n",
      "3\n",
      "4\n",
      "5\n",
      "6\n",
      "7\n",
      "8\n",
      "9\n",
      "10\n",
      "11\n",
      "12\n",
      "13\n",
      "14\n",
      "15\n",
      "16\n",
      "17\n",
      "18\n",
      "19\n",
      "20\n"
     ]
    }
   ],
   "source": [
    "file_path = '../output/2016-07-03/B_z0249_cubic'\n",
    "ending = '.npz'\n",
    "\n",
    "bx_measurements = struc_3d.read_idl('bx')\n",
    "by_measurements = struc_3d.read_idl('by')\n",
    "bz_measurements = struc_3d.read_idl('bz')\n",
    "\n",
    "direction_measurements = [bx_measurements, by_measurements, bz_measurements] \n",
    "\n",
    "\n",
    "interpolated_vectors = []\n",
    "for time_point in xrange(21):\n",
    "    print time_point\n",
    "    points = []\n",
    "    values = []\n",
    "    for measurements in direction_measurements:\n",
    "        (points_direction,\n",
    "         values_direction) = struc_3d.read_points_from_measurement_dict(measurements,\n",
    "                                                                        time_point,\n",
    "                                                                        [0.249])\n",
    "        points.append(points_direction)\n",
    "        values.append(values_direction)\n",
    "    \n",
    "    points[0] = np.delete(points[0], 2, axis=1)\n",
    "    points[1] = np.delete(points[1], 2, axis=1)\n",
    "    points[2] = np.delete(points[2], 2, axis=1)\n",
    "    interpolated_vector = struc_3d.interpolate_vector(grid_points, points, values, method='cubic')\n",
    "    #interpolated_vector = struc_3d.add_vacuum_field(interpolated_vector)\n",
    "    \n",
    "    assert np.sum(np.isnan(interpolated_vector[0])) == 0\n",
    "    assert np.sum(np.isnan(interpolated_vector[1])) == 0\n",
    "    assert np.sum(np.isnan(interpolated_vector[2])) == 0\n",
    "    \n",
    "    \n",
    "    sizes = (np.unique(grid_points[:, 0]).size,\n",
    "             np.unique(grid_points[:, 1]).size)\n",
    "    \n",
    "    grid_swapped = np.swapaxes(grid_points, 0, 1)\n",
    "    grid_x = np.resize(grid_swapped[0], (sizes[0], sizes[1]))\n",
    "    grid_y = np.resize(grid_swapped[1], (sizes[0], sizes[1]))\n",
    "    grid = np.asarray([grid_x, grid_y])\n",
    "    \n",
    "    interpolated_vector = np.asarray(interpolated_vector)\n",
    "    vector_swapped = np.swapaxes(interpolated_vector, 0, 1)\n",
    "    vector_x = np.resize(vector_swapped[:, 0], (sizes[0], sizes[1]))\n",
    "    vector_y = np.resize(vector_swapped[:, 1], (sizes[0], sizes[1]))\n",
    "    vector = np.asarray([vector_x, vector_y])\n",
    "    \n",
    "    interpolated_vectors.append(vector)\n",
    "    \n",
    "    np.savez(file_path + str(time_point).zfill(4) + ending,\n",
    "             b=vector, \n",
    "             grid=grid)"
   ]
  },
  {
   "cell_type": "markdown",
   "metadata": {},
   "source": [
    "# Use radial basis functions"
   ]
  },
  {
   "cell_type": "code",
   "execution_count": 98,
   "metadata": {
    "collapsed": true
   },
   "outputs": [],
   "source": [
    "from scipy.interpolate import Rbf"
   ]
  },
  {
   "cell_type": "code",
   "execution_count": 209,
   "metadata": {
    "collapsed": true
   },
   "outputs": [],
   "source": [
    "def average_duplicate_points(data_dict):\n",
    "    data_dict['x_out'] = data_dict['x_out'].astype('float64')\n",
    "    data_dict['y_out'] = data_dict['y_out'].astype('float64')\n",
    "    data_dict['a_out'] = data_dict['a_out'].astype('float64')\n",
    "    time_points = data_dict['a_out'].shape[0]\n",
    "    data = {}\n",
    "    for idx in xrange(data_dict['x_out'].size):\n",
    "        location = (data_dict['x_out'][idx], data_dict['y_out'][idx])\n",
    "        if location in data.keys():\n",
    "            data[location] = np.column_stack((data[location], data_dict['a_out'][:, idx]))\n",
    "        else:\n",
    "            data[location] = data_dict['a_out'][:, idx] \n",
    "\n",
    "    unique_data_dict = {'x_out': [],\n",
    "                        'y_out': [],\n",
    "                        'a_out': [],\n",
    "                        'std': []}\n",
    "    for location in data.keys():\n",
    "        if data[location][0].size > 1:\n",
    "            unique_data_dict['std'].append(data[location].std(axis=1, ddof=1))\n",
    "            unique_data_dict['a_out'].append(data[location].mean(axis=1))  \n",
    "        else:\n",
    "            unique_data_dict['std'].append(np.zeros(time_points))\n",
    "            unique_data_dict['a_out'].append(data[location])  \n",
    "        unique_data_dict['x_out'].append(location[0])\n",
    "        unique_data_dict['y_out'].append(location[1])\n",
    "\n",
    "    unique_data_dict['x_out'] = np.asarray(unique_data_dict['x_out'])\n",
    "    unique_data_dict['y_out'] = np.asarray(unique_data_dict['y_out'])\n",
    "    test = np.asarray(unique_data_dict['a_out'])\n",
    "    unique_data_dict['a_out'] = np.hsplit(np.asarray(unique_data_dict['a_out']), time_points)\n",
    "    unique_data_dict['delays'] = data_dict['delays']\n",
    "    return unique_data_dict"
   ]
  },
  {
   "cell_type": "code",
   "execution_count": 212,
   "metadata": {
    "collapsed": false
   },
   "outputs": [
    {
     "data": {
      "text/plain": [
       "[0.249, 0.302, 0.357, 0.416]"
      ]
     },
     "execution_count": 212,
     "metadata": {},
     "output_type": "execute_result"
    }
   ],
   "source": [
    "bx_measurements.keys()"
   ]
  },
  {
   "cell_type": "code",
   "execution_count": 214,
   "metadata": {
    "collapsed": false
   },
   "outputs": [
    {
     "name": "stdout",
     "output_type": "stream",
     "text": [
      "0\n",
      "1\n",
      "2\n",
      "3\n",
      "4\n",
      "5\n",
      "6\n",
      "7\n",
      "8\n",
      "9\n",
      "10\n",
      "11\n",
      "12\n",
      "13\n",
      "14\n",
      "15\n",
      "16\n",
      "17\n",
      "18\n",
      "19\n",
      "20\n"
     ]
    }
   ],
   "source": [
    "file_path = '../output/2016-07-03/B_z0249_rbf_thin_plate_'\n",
    "ending = '.npz'\n",
    "\n",
    "bx_measurements = struc_3d.read_idl('bx')\n",
    "by_measurements = struc_3d.read_idl('by')\n",
    "bz_measurements = struc_3d.read_idl('bz')\n",
    "\n",
    "bx_measurements[0.249] = average_duplicate_points(bx_measurements[0.249])\n",
    "by_measurements[0.249] = average_duplicate_points(by_measurements[0.249])\n",
    "bz_measurements[0.249] = average_duplicate_points(bz_measurements[0.249])\n",
    "\n",
    "direction_measurements = [bx_measurements, by_measurements, bz_measurements] \n",
    "\n",
    "\n",
    "interpolated_vectors = []\n",
    "for time_point in xrange(21):\n",
    "    print time_point\n",
    "    points = []\n",
    "    values = []\n",
    "    for measurements in direction_measurements:\n",
    "        (points_direction,\n",
    "         values_direction) = struc_3d.read_points_from_measurement_dict(measurements,\n",
    "                                                                        time_point,\n",
    "                                                                        [0.249])\n",
    "        points.append(points_direction)\n",
    "        values.append(values_direction)\n",
    "    \n",
    "    points[0] = np.delete(points[0], 2, axis=1)\n",
    "    points[1] = np.delete(points[1], 2, axis=1)\n",
    "    points[2] = np.delete(points[2], 2, axis=1)\n",
    "    \n",
    "    rbf_func_x = Rbf(points[0][:, 0], points[0][:, 1], values[0], function='thin_plate')\n",
    "    rbf_func_y = Rbf(points[0][:, 0], points[0][:, 1], values[0], function='thin_plate')\n",
    "    rbf_func_z = Rbf(points[0][:, 0], points[0][:, 1], values[0], function='thin_plate')\n",
    "    \n",
    "    interpolated_vector[0] = rbf_func_x(grid_points[:, 0], grid_points[:, 1])\n",
    "    interpolated_vector[1] = rbf_func_y(grid_points[:, 0], grid_points[:, 1])\n",
    "    interpolated_vector[2] = rbf_func_z(grid_points[:, 0], grid_points[:, 1])\n",
    "    \n",
    "    assert np.sum(np.isnan(interpolated_vector[0])) == 0\n",
    "    assert np.sum(np.isnan(interpolated_vector[1])) == 0\n",
    "    assert np.sum(np.isnan(interpolated_vector[2])) == 0\n",
    "    \n",
    "    \n",
    "    sizes = (np.unique(grid_points[:, 0]).size,\n",
    "             np.unique(grid_points[:, 1]).size)\n",
    "    \n",
    "    grid_swapped = np.swapaxes(grid_points, 0, 1)\n",
    "    grid_x = np.resize(grid_swapped[0], (sizes[0], sizes[1]))\n",
    "    grid_y = np.resize(grid_swapped[1], (sizes[0], sizes[1]))\n",
    "    grid = np.asarray([grid_x, grid_y])\n",
    "    \n",
    "    interpolated_vector = np.asarray(interpolated_vector)\n",
    "    vector_swapped = np.swapaxes(interpolated_vector, 0, 1)\n",
    "    vector_x = np.resize(vector_swapped[:, 0], (sizes[0], sizes[1]))\n",
    "    vector_y = np.resize(vector_swapped[:, 1], (sizes[0], sizes[1]))\n",
    "    vector = np.asarray([vector_x, vector_y])\n",
    "    \n",
    "    interpolated_vectors.append(vector)\n",
    "    \n",
    "    np.savez(file_path + str(time_point).zfill(4) + ending,\n",
    "             b=vector, \n",
    "             grid=grid)"
   ]
  },
  {
   "cell_type": "code",
   "execution_count": 216,
   "metadata": {
    "collapsed": false
   },
   "outputs": [
    {
     "name": "stdout",
     "output_type": "stream",
     "text": [
      "0\n",
      "1\n",
      "2\n",
      "3\n",
      "4\n",
      "5\n",
      "6\n",
      "7\n",
      "8\n",
      "9\n",
      "10\n",
      "11\n",
      "12\n",
      "13\n",
      "14\n",
      "15\n",
      "16\n",
      "17\n",
      "18\n",
      "19\n",
      "20\n"
     ]
    }
   ],
   "source": [
    "file_path = '../output/2016-07-03/B_z0249_rbf_cubic_'\n",
    "ending = '.npz'\n",
    "\n",
    "bx_measurements = struc_3d.read_idl('bx')\n",
    "by_measurements = struc_3d.read_idl('by')\n",
    "bz_measurements = struc_3d.read_idl('bz')\n",
    "\n",
    "bx_measurements[0.249] = average_duplicate_points(bx_measurements[0.249])\n",
    "by_measurements[0.249] = average_duplicate_points(by_measurements[0.249])\n",
    "bz_measurements[0.249] = average_duplicate_points(bz_measurements[0.249])\n",
    "\n",
    "direction_measurements = [bx_measurements, by_measurements, bz_measurements] \n",
    "\n",
    "\n",
    "interpolated_vectors = []\n",
    "for time_point in xrange(21):\n",
    "    print time_point\n",
    "    points = []\n",
    "    values = []\n",
    "    for measurements in direction_measurements:\n",
    "        (points_direction,\n",
    "         values_direction) = struc_3d.read_points_from_measurement_dict(measurements,\n",
    "                                                                        time_point,\n",
    "                                                                        [0.249])\n",
    "        points.append(points_direction)\n",
    "        values.append(values_direction)\n",
    "    \n",
    "    points[0] = np.delete(points[0], 2, axis=1)\n",
    "    points[1] = np.delete(points[1], 2, axis=1)\n",
    "    points[2] = np.delete(points[2], 2, axis=1)\n",
    "    \n",
    "    rbf_func_x = Rbf(points[0][:, 0], points[0][:, 1], values[0], function='cubic')\n",
    "    rbf_func_y = Rbf(points[0][:, 0], points[0][:, 1], values[0], function='cubic')\n",
    "    rbf_func_z = Rbf(points[0][:, 0], points[0][:, 1], values[0], function='cubic')\n",
    "    \n",
    "    interpolated_vector[0] = rbf_func_x(grid_points[:, 0], grid_points[:, 1])\n",
    "    interpolated_vector[1] = rbf_func_y(grid_points[:, 0], grid_points[:, 1])\n",
    "    interpolated_vector[2] = rbf_func_z(grid_points[:, 0], grid_points[:, 1])\n",
    "    \n",
    "    assert np.sum(np.isnan(interpolated_vector[0])) == 0\n",
    "    assert np.sum(np.isnan(interpolated_vector[1])) == 0\n",
    "    assert np.sum(np.isnan(interpolated_vector[2])) == 0\n",
    "    \n",
    "    \n",
    "    sizes = (np.unique(grid_points[:, 0]).size,\n",
    "             np.unique(grid_points[:, 1]).size)\n",
    "    \n",
    "    grid_swapped = np.swapaxes(grid_points, 0, 1)\n",
    "    grid_x = np.resize(grid_swapped[0], (sizes[0], sizes[1]))\n",
    "    grid_y = np.resize(grid_swapped[1], (sizes[0], sizes[1]))\n",
    "    grid = np.asarray([grid_x, grid_y])\n",
    "    \n",
    "    interpolated_vector = np.asarray(interpolated_vector)\n",
    "    vector_swapped = np.swapaxes(interpolated_vector, 0, 1)\n",
    "    vector_x = np.resize(vector_swapped[:, 0], (sizes[0], sizes[1]))\n",
    "    vector_y = np.resize(vector_swapped[:, 1], (sizes[0], sizes[1]))\n",
    "    vector = np.asarray([vector_x, vector_y])\n",
    "    \n",
    "    interpolated_vectors.append(vector)\n",
    "    \n",
    "    np.savez(file_path + str(time_point).zfill(4) + ending,\n",
    "             b=vector, \n",
    "             grid=grid)"
   ]
  }
 ],
 "metadata": {
  "kernelspec": {
   "display_name": "Python 2",
   "language": "python",
   "name": "python2"
  },
  "language_info": {
   "codemirror_mode": {
    "name": "ipython",
    "version": 2
   },
   "file_extension": ".py",
   "mimetype": "text/x-python",
   "name": "python",
   "nbconvert_exporter": "python",
   "pygments_lexer": "ipython2",
   "version": "2.7.11"
  }
 },
 "nbformat": 4,
 "nbformat_minor": 0
}
