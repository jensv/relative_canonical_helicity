{
 "cells": [
  {
   "cell_type": "code",
   "execution_count": 4,
   "metadata": {
    "collapsed": true
   },
   "outputs": [],
   "source": [
    "import numpy as np\n",
    "import scipy.optimize as opti\n",
    "%matplotlib inline\n",
    "import matplotlib.pyplot as plt\n",
    "import seaborn as sns\n",
    "sns.set_style('whitegrid')\n",
    "sns.set_context('poster')\n",
    "from scipy.interpolate import griddata"
   ]
  },
  {
   "cell_type": "code",
   "execution_count": 5,
   "metadata": {
    "collapsed": false
   },
   "outputs": [
    {
     "data": {
      "text/html": [
       "<style>.container { width:100% !important; }</style>"
      ],
      "text/plain": [
       "<IPython.core.display.HTML object>"
      ]
     },
     "metadata": {},
     "output_type": "display_data"
    }
   ],
   "source": [
    "from IPython.core.display import display, HTML\n",
    "display(HTML(\"<style>.container { width:100% !important; }</style>\"))"
   ]
  },
  {
   "cell_type": "code",
   "execution_count": 6,
   "metadata": {
    "collapsed": true
   },
   "outputs": [],
   "source": [
    "import sys\n",
    "sys.path.append('/Users/vonderlinden2/rsx_analysis/writing_to_vtk/source')\n",
    "import structured_3d_vtk as struc_3d"
   ]
  },
  {
   "cell_type": "code",
   "execution_count": 108,
   "metadata": {
    "collapsed": false
   },
   "outputs": [],
   "source": [
    "spatial_increment = 0.001\n",
    "x_min, x_max = -0.028, 0.025\n",
    "y_min, y_max = -0.043, 0.039\n",
    "z_min, z_max = 0.249, 0.249\n",
    "\n",
    "bounds = ((x_min, x_max), (y_min, y_max), (z_min, z_max)) \n",
    "\n",
    "x_coord = np.linspace(x_min, x_max, np.ceil((x_max-x_min)/spatial_increment))\n",
    "y_coord = np.linspace(y_min, y_max, np.ceil((y_max-y_min)/spatial_increment))\n",
    "\n",
    "mesh = np.meshgrid(x_coord, y_coord, indexing='ij')\n",
    "grid_points = np.dstack(map(np.ravel, mesh))[0]"
   ]
  },
  {
   "cell_type": "code",
   "execution_count": 129,
   "metadata": {
    "collapsed": false
   },
   "outputs": [
    {
     "name": "stdout",
     "output_type": "stream",
     "text": [
      "0\n",
      "1\n",
      "2\n",
      "3\n",
      "4\n",
      "5\n",
      "6\n",
      "7\n",
      "8\n",
      "9\n",
      "10\n",
      "11\n",
      "12\n",
      "13\n",
      "14\n",
      "15\n",
      "16\n",
      "17\n",
      "18\n",
      "19\n",
      "20\n"
     ]
    }
   ],
   "source": [
    "file_path = '../output/2016-07-03/B_z0249'\n",
    "ending = '.npz'\n",
    "\n",
    "bx_measurements = struc_3d.read_idl('bx')\n",
    "by_measurements = struc_3d.read_idl('by')\n",
    "bz_measurements = struc_3d.read_idl('bz')\n",
    "\n",
    "direction_measurements = [bx_measurements, by_measurements, bz_measurements] \n",
    "\n",
    "\n",
    "interpolated_vectors = []\n",
    "for time_point in xrange(21):\n",
    "    print time_point\n",
    "    points = []\n",
    "    values = []\n",
    "    for measurements in direction_measurements:\n",
    "        (points_direction,\n",
    "         values_direction) = struc_3d.read_points_from_measurement_dict(measurements,\n",
    "                                                                        time_point,\n",
    "                                                                        [0.249])\n",
    "        points.append(points_direction)\n",
    "        values.append(values_direction)\n",
    "    \n",
    "    points[0] = np.delete(points[0], 2, axis=1)\n",
    "    points[1] = np.delete(points[1], 2, axis=1)\n",
    "    points[2] = np.delete(points[2], 2, axis=1)\n",
    "    interpolated_vector = struc_3d.interpolate_vector(grid_points, points, values)\n",
    "    interpolated_vector = struc_3d.add_vacuum_field(interpolated_vector)\n",
    "    \n",
    "    assert np.sum(np.isnan(interpolated_vector[0])) == 0\n",
    "    assert np.sum(np.isnan(interpolated_vector[1])) == 0\n",
    "    assert np.sum(np.isnan(interpolated_vector[2])) == 0\n",
    "    \n",
    "    interpolated_vectors.append(interpolated_vector)\n",
    "    \n",
    "    \n",
    "    \n",
    "    np.savez(file_path + str(time_point).zfill(4) + ending,\n",
    "             b_x=interpolated_vector[0], \n",
    "             b_y=interpolated_vector[1],\n",
    "             b_z=interpolated_vector[2])"
   ]
  },
  {
   "cell_type": "code",
   "execution_count": 127,
   "metadata": {
    "collapsed": true
   },
   "outputs": [],
   "source": [
    "np.savez?"
   ]
  },
  {
   "cell_type": "code",
   "execution_count": null,
   "metadata": {
    "collapsed": true
   },
   "outputs": [],
   "source": []
  }
 ],
 "metadata": {
  "kernelspec": {
   "display_name": "Python 2",
   "language": "python",
   "name": "python2"
  },
  "language_info": {
   "codemirror_mode": {
    "name": "ipython",
    "version": 2
   },
   "file_extension": ".py",
   "mimetype": "text/x-python",
   "name": "python",
   "nbconvert_exporter": "python",
   "pygments_lexer": "ipython2",
   "version": "2.7.11"
  }
 },
 "nbformat": 4,
 "nbformat_minor": 0
}
