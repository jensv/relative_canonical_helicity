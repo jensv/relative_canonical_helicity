{
 "cells": [
  {
   "cell_type": "code",
   "execution_count": 24,
   "metadata": {
    "collapsed": false
   },
   "outputs": [],
   "source": [
    "import scipy.io.idl as idl\n",
    "import numpy as np\n",
    "from scipy.interpolate import griddata\n",
    "import matplotlib.pyplot as plt\n",
    "from mpl_toolkits.mplot3d import Axes3D"
   ]
  },
  {
   "cell_type": "code",
   "execution_count": 143,
   "metadata": {
    "collapsed": false
   },
   "outputs": [],
   "source": [
    "from scipy.spatial import ConvexHull, Delaunay\n",
    "from scipy.interpolate import griddata"
   ]
  },
  {
   "cell_type": "markdown",
   "metadata": {},
   "source": [
    "# Linearly interpolate $B_x$ at single timepoint in 3D"
   ]
  },
  {
   "cell_type": "code",
   "execution_count": 174,
   "metadata": {
    "collapsed": true
   },
   "outputs": [],
   "source": [
    "data_path = '../../comprehensive_3d_plot/output/2016-04-07/'\n",
    "data_ending = '.sav'\n",
    "\n",
    "bz_z249_file = data_path + 'bz_z249' + data_ending\n",
    "bz_z302_file = data_path + 'bz_z302' + data_ending\n",
    "bz_z357_file = data_path + 'bz_z357' + data_ending\n",
    "bz_z416_file = data_path + 'bz_z416' + data_ending\n",
    "\n",
    "bz_z249_measurements = idl.readsav(bz_z249_file)\n",
    "bz_z302_measurements = idl.readsav(bz_z302_file)\n",
    "bz_z357_measurements = idl.readsav(bz_z357_file)\n",
    "bz_z416_measurements = idl.readsav(bz_z416_file)\n",
    "\n",
    "measurements = {0.249: bz_z249_measurements, \n",
    "                0.302: bz_z302_measurements, \n",
    "                0.357: bz_z357_measurements, \n",
    "                0.416: bz_z416_measurements}\n",
    "\n",
    "z_planes = [0.249, 0.302, 0.357, 0.416]"
   ]
  },
  {
   "cell_type": "markdown",
   "metadata": {},
   "source": [
    "# First generate grid in convex Hull of measurement points"
   ]
  },
  {
   "cell_type": "code",
   "execution_count": 158,
   "metadata": {
    "collapsed": false
   },
   "outputs": [],
   "source": [
    "time_point = 0\n",
    "x_points = np.empty((0))\n",
    "y_points = np.empty((0))\n",
    "z_points = np.empty((0))\n",
    "values = np.empty((0))\n",
    "for z_plane in z_planes:\n",
    "    plane_measurements = measurements[z_plane]\n",
    "    x_points = np.append(x_points, plane_measurements['x_out'])\n",
    "    y_points = np.append(y_points, plane_measurements['y_out'])\n",
    "    z_points = np.append(z_points, np.ones(plane_measurements['x_out'].size)*z_plane)\n",
    "    values = np.append(values, plane_measurements['a_out'][time_point])\n",
    "    \n",
    "    \n",
    "points = [x_points, y_points, z_points]\n",
    "points = np.asarray(points)"
   ]
  },
  {
   "cell_type": "code",
   "execution_count": 159,
   "metadata": {
    "collapsed": false
   },
   "outputs": [],
   "source": [
    "points = np.swapaxes(points, 0, 1)"
   ]
  },
  {
   "cell_type": "code",
   "execution_count": 160,
   "metadata": {
    "collapsed": false
   },
   "outputs": [
    {
     "data": {
      "text/plain": [
       "(4562, 3)"
      ]
     },
     "execution_count": 160,
     "metadata": {},
     "output_type": "execute_result"
    }
   ],
   "source": [
    "points.shape"
   ]
  },
  {
   "cell_type": "code",
   "execution_count": 161,
   "metadata": {
    "collapsed": false
   },
   "outputs": [
    {
     "data": {
      "text/plain": [
       "(4562,)"
      ]
     },
     "execution_count": 161,
     "metadata": {},
     "output_type": "execute_result"
    }
   ],
   "source": [
    "values.shape"
   ]
  },
  {
   "cell_type": "code",
   "execution_count": 163,
   "metadata": {
    "collapsed": false
   },
   "outputs": [],
   "source": [
    "x_min, x_max = points[:, 0].min(), points[:, 0].max() \n",
    "y_min, y_max = points[:, 1].min(), points[:, 1].max() \n",
    "z_min, z_max = points[:, 2].min(), points[:, 2].max() \n",
    "spatial_increment = 0.003\n",
    "\n",
    "x_coord = np.linspace(x_min, x_max, np.ceil((x_max-x_min)/spatial_increment))\n",
    "y_coord = np.linspace(y_min, y_max, np.ceil((y_max-y_min)/spatial_increment))\n",
    "z_coord = np.linspace(z_min, z_max, np.ceil((z_max-z_min)/spatial_increment))\n",
    "\n",
    "mesh = np.meshgrid(x_coord, y_coord, z_coord)"
   ]
  },
  {
   "cell_type": "code",
   "execution_count": 164,
   "metadata": {
    "collapsed": true
   },
   "outputs": [],
   "source": [
    "grid_points = np.dstack(map(np.ravel, mesh))[0]"
   ]
  },
  {
   "cell_type": "code",
   "execution_count": 165,
   "metadata": {
    "collapsed": false
   },
   "outputs": [
    {
     "data": {
      "text/plain": [
       "(108360, 3)"
      ]
     },
     "execution_count": 165,
     "metadata": {},
     "output_type": "execute_result"
    }
   ],
   "source": [
    "grid_points.shape"
   ]
  },
  {
   "cell_type": "code",
   "execution_count": 166,
   "metadata": {
    "collapsed": false
   },
   "outputs": [
    {
     "data": {
      "text/plain": [
       "array([-0.087     , -0.085     ,  0.25203636])"
      ]
     },
     "execution_count": 166,
     "metadata": {},
     "output_type": "execute_result"
    }
   ],
   "source": [
    "grid_points[1,]"
   ]
  },
  {
   "cell_type": "code",
   "execution_count": 167,
   "metadata": {
    "collapsed": false
   },
   "outputs": [],
   "source": [
    "in_convex_hull = bx_delaunay.find_simplex(grid_points)>=0"
   ]
  },
  {
   "cell_type": "code",
   "execution_count": 168,
   "metadata": {
    "collapsed": false
   },
   "outputs": [
    {
     "data": {
      "text/plain": [
       "(56081, 3)"
      ]
     },
     "execution_count": 168,
     "metadata": {},
     "output_type": "execute_result"
    }
   ],
   "source": [
    "grid_points[in_convex_hull].shape"
   ]
  },
  {
   "cell_type": "markdown",
   "metadata": {},
   "source": [
    "# Now interpolate inside convex hull"
   ]
  },
  {
   "cell_type": "code",
   "execution_count": 170,
   "metadata": {
    "collapsed": false
   },
   "outputs": [],
   "source": [
    "interpolated_data = griddata(points, values, grid_points[in_convex_hull])"
   ]
  },
  {
   "cell_type": "code",
   "execution_count": null,
   "metadata": {
    "collapsed": true
   },
   "outputs": [],
   "source": [
    "grid_points"
   ]
  },
  {
   "cell_type": "markdown",
   "metadata": {},
   "source": [
    "# Repeat interpolation for all three components of vector and with function calls"
   ]
  },
  {
   "cell_type": "code",
   "execution_count": 204,
   "metadata": {
    "collapsed": false
   },
   "outputs": [],
   "source": [
    "data_path = '../../comprehensive_3d_plot/output/2016-04-07/'\n",
    "data_ending = '.sav'\n",
    "\n",
    "bx_z249_file = data_path + 'bx_z249' + data_ending\n",
    "bx_z302_file = data_path + 'bx_z302' + data_ending\n",
    "bx_z357_file = data_path + 'bx_z357' + data_ending\n",
    "bx_z416_file = data_path + 'bx_z416' + data_ending\n",
    "\n",
    "bx_z249_measurements = idl.readsav(bx_z249_file)\n",
    "bx_z302_measurements = idl.readsav(bx_z302_file)\n",
    "bx_z357_measurements = idl.readsav(bx_z357_file)\n",
    "bx_z416_measurements = idl.readsav(bx_z416_file)\n",
    "\n",
    "measurements_x = {0.249: bx_z249_measurements, \n",
    "                  0.302: bx_z302_measurements, \n",
    "                  0.357: bx_z357_measurements, \n",
    "                  0.416: bx_z416_measurements}\n",
    "\n",
    "z_planes = [0.249, 0.302, 0.357, 0.416]"
   ]
  },
  {
   "cell_type": "code",
   "execution_count": 205,
   "metadata": {
    "collapsed": true
   },
   "outputs": [],
   "source": [
    "data_path = '../../comprehensive_3d_plot/output/2016-04-07/'\n",
    "data_ending = '.sav'\n",
    "\n",
    "by_z249_file = data_path + 'by_z249' + data_ending\n",
    "by_z302_file = data_path + 'by_z302' + data_ending\n",
    "by_z357_file = data_path + 'by_z357' + data_ending\n",
    "by_z416_file = data_path + 'by_z416' + data_ending\n",
    "\n",
    "by_z249_measurements = idl.readsav(by_z249_file)\n",
    "by_z302_measurements = idl.readsav(by_z302_file)\n",
    "by_z357_measurements = idl.readsav(by_z357_file)\n",
    "by_z416_measurements = idl.readsav(by_z416_file)\n",
    "\n",
    "measurements_y = {0.249: by_z249_measurements, \n",
    "                  0.302: by_z302_measurements, \n",
    "                  0.357: by_z357_measurements, \n",
    "                  0.416: by_z416_measurements}\n",
    "\n",
    "z_planes = [0.249, 0.302, 0.357, 0.416]"
   ]
  },
  {
   "cell_type": "code",
   "execution_count": 206,
   "metadata": {
    "collapsed": true
   },
   "outputs": [],
   "source": [
    "data_path = '../../comprehensive_3d_plot/output/2016-04-07/'\n",
    "data_ending = '.sav'\n",
    "\n",
    "bz_z249_file = data_path + 'by_z249' + data_ending\n",
    "bz_z302_file = data_path + 'by_z302' + data_ending\n",
    "bz_z357_file = data_path + 'by_z357' + data_ending\n",
    "bz_z416_file = data_path + 'by_z416' + data_ending\n",
    "\n",
    "bz_z249_measurements = idl.readsav(bz_z249_file)\n",
    "bz_z302_measurements = idl.readsav(bz_z302_file)\n",
    "bz_z357_measurements = idl.readsav(bz_z357_file)\n",
    "bz_z416_measurements = idl.readsav(bz_z416_file)\n",
    "\n",
    "measurements_z = {0.249: bz_z249_measurements, \n",
    "                  0.302: bz_z302_measurements, \n",
    "                  0.357: bz_z357_measurements, \n",
    "                  0.416: bz_z416_measurements}\n",
    "\n",
    "z_planes = [0.249, 0.302, 0.357, 0.416]"
   ]
  },
  {
   "cell_type": "code",
   "execution_count": 210,
   "metadata": {
    "collapsed": true
   },
   "outputs": [],
   "source": [
    "direction_measurements = [measurements_z, measurements_y, measurements_z] "
   ]
  },
  {
   "cell_type": "code",
   "execution_count": 226,
   "metadata": {
    "collapsed": true
   },
   "outputs": [],
   "source": [
    "def read_points_from_measurement_dict(measurement_dict, time_point, z_planes):\n",
    "    x_points = np.empty((0))\n",
    "    y_points = np.empty((0))\n",
    "    z_points = np.empty((0))\n",
    "    values = np.empty((0))\n",
    "    for z_plane in z_planes:\n",
    "        plane_measurements = measurements[z_plane]\n",
    "        x_points = np.append(x_points, plane_measurements['x_out'])\n",
    "        y_points = np.append(y_points, plane_measurements['y_out'])\n",
    "        z_points = np.append(z_points, np.ones(plane_measurements['x_out'].size)*z_plane)\n",
    "        values = np.append(values, plane_measurements['a_out'][time_point])\n",
    "    \n",
    "    \n",
    "    points = [x_points, y_points, z_points]\n",
    "    points = np.asarray(points)\n",
    "    points = np.swapaxes(points, 0, 1)\n",
    "    return points, values"
   ]
  },
  {
   "cell_type": "code",
   "execution_count": 227,
   "metadata": {
    "collapsed": false
   },
   "outputs": [],
   "source": [
    "points = []\n",
    "values = []\n",
    "for measurements in direction_measurements:\n",
    "    points_direction, values_direction = read_points_from_measurement_dict(measurement_dict, 0, z_planes)\n",
    "    points.append(points_direction)\n",
    "    values.append(values_direction)"
   ]
  },
  {
   "cell_type": "code",
   "execution_count": 228,
   "metadata": {
    "collapsed": true
   },
   "outputs": [],
   "source": [
    "def vector_measurement_bounds(vector_x_points, vector_y_points, vector_z_points):\n",
    "    x_points = np.concatenate((np.concatenate((vector_x_points[0], vector_y_points[0])), \n",
    "                              vector_z_points[0]))\n",
    "    y_points = np.concatenate((np.concatenate((vector_x_points[1], vector_y_points[1])),\n",
    "                              vector_z_points[1]))\n",
    "    z_points = np.concatenate((np.concatenate((vector_x_points[2], vector_y_points[2])),\n",
    "                              vector_z_points[2]))\n",
    "    x_min, x_max = x_points.min(), x_points.max() \n",
    "    y_min, y_max = y_points.min(), y_points.max()\n",
    "    z_min, z_max = z_points.min(), z_points.max()\n",
    "    return (x_min, x_max), (y_min, y_max), (z_min, z_max)"
   ]
  },
  {
   "cell_type": "code",
   "execution_count": 229,
   "metadata": {
    "collapsed": false
   },
   "outputs": [],
   "source": [
    "bounds = vector_measurement_bounds(points[0], points[1], points[2])"
   ]
  },
  {
   "cell_type": "code",
   "execution_count": 252,
   "metadata": {
    "collapsed": true
   },
   "outputs": [],
   "source": [
    "def mesh_bounded_by_convex_hulls(bounds, vector_points, spatial_increment):\n",
    "    \n",
    "    (x_min, x_max), (y_min, y_max), (z_min, z_max) = bounds\n",
    "    \n",
    "    x_delaunay = Delaunay(vector_points[0])\n",
    "    y_delaunay = Delaunay(vector_points[1])\n",
    "    z_delaunay = Delaunay(vector_points[2])\n",
    "    \n",
    "    x_coord = np.linspace(x_min, x_max, np.ceil((x_max-x_min)/spatial_increment))\n",
    "    y_coord = np.linspace(y_min, y_max, np.ceil((y_max-y_min)/spatial_increment))\n",
    "    z_coord = np.linspace(z_min, z_max, np.ceil((z_max-z_min)/spatial_increment))\n",
    "\n",
    "    mesh = np.meshgrid(x_coord, y_coord, z_coord)\n",
    "    \n",
    "    grid_points = np.dstack(map(np.ravel, mesh))[0]\n",
    "    \n",
    "    in_convex_hull = np.logical_and(np.logical_and(x_delaunay.find_simplex(grid_points)>=0,\n",
    "                                                   y_delaunay.find_simplex(grid_points)>=0),\n",
    "                                    z_delaunay.find_simplex(grid_points)>=0)\n",
    "    print grid_points.shape\n",
    "    grid_points = grid_points[in_convex_hull]\n",
    "    print grid_points.shape\n",
    "    return grid_points"
   ]
  },
  {
   "cell_type": "code",
   "execution_count": 253,
   "metadata": {
    "collapsed": false
   },
   "outputs": [
    {
     "name": "stdout",
     "output_type": "stream",
     "text": [
      "(830584, 3)\n",
      "(488, 3)\n"
     ]
    }
   ],
   "source": [
    "grid_points = mesh_bounded_by_convex_hulls(bounds, points, 0.003)"
   ]
  },
  {
   "cell_type": "code",
   "execution_count": 254,
   "metadata": {
    "collapsed": true
   },
   "outputs": [],
   "source": [
    "def interpolate(grid_points, vector_points, vector_values):\n",
    "    interpolated_data_x = griddata(vector_points[0], vector_values[0], grid_points)\n",
    "    interpolated_data_y = griddata(vector_points[1], vector_values[1], grid_points)\n",
    "    interpolated_data_z = griddata(vector_points[2], vector_values[2], grid_points)\n",
    "    return interpolated_data_x, interpolated_data_y, interpolated_data_z"
   ]
  },
  {
   "cell_type": "code",
   "execution_count": 261,
   "metadata": {
    "collapsed": false
   },
   "outputs": [],
   "source": [
    "fig = plt.figure()\n",
    "ax = fig.add_subplot(111, projection='3d')\n",
    "ax.scatter(grid_points[:,0], grid_points[:,1], grid_points[:,2])\n",
    "plt.show()"
   ]
  },
  {
   "cell_type": "code",
   "execution_count": 257,
   "metadata": {
    "collapsed": false
   },
   "outputs": [],
   "source": [
    "interpolated_vector = interpolate(grid_points, points, values)"
   ]
  },
  {
   "cell_type": "code",
   "execution_count": 259,
   "metadata": {
    "collapsed": false
   },
   "outputs": [
    {
     "data": {
      "text/plain": [
       "(488,)"
      ]
     },
     "execution_count": 259,
     "metadata": {},
     "output_type": "execute_result"
    }
   ],
   "source": [
    "interpolated_vector[0].shape"
   ]
  },
  {
   "cell_type": "code",
   "execution_count": 187,
   "metadata": {
    "collapsed": false
   },
   "outputs": [
    {
     "ename": "IndentationError",
     "evalue": "expected an indented block (<ipython-input-187-7b39104494de>, line 2)",
     "output_type": "error",
     "traceback": [
      "\u001b[0;36m  File \u001b[0;32m\"<ipython-input-187-7b39104494de>\"\u001b[0;36m, line \u001b[0;32m2\u001b[0m\n\u001b[0;31m    \u001b[0m\n\u001b[0m    ^\u001b[0m\n\u001b[0;31mIndentationError\u001b[0m\u001b[0;31m:\u001b[0m expected an indented block\n"
     ]
    }
   ],
   "source": [
    "def write_to_vtk(grid_point, interpolated_vector):\n",
    "    "
   ]
  },
  {
   "cell_type": "code",
   "execution_count": 297,
   "metadata": {
    "collapsed": false
   },
   "outputs": [],
   "source": [
    "(x_min, x_max), (y_min, y_max), (z_min, z_max) = bounds\n",
    "    \n",
    "x_delaunay = Delaunay(points[0])\n",
    "y_delaunay = Delaunay(points[1])\n",
    "z_delaunay = Delaunay(points[2])\n",
    "    \n",
    "x_coord = np.linspace(x_min, x_max, np.ceil((x_max-x_min)/spatial_increment))\n",
    "y_coord = np.linspace(y_min, y_max, np.ceil((y_max-y_min)/spatial_increment))\n",
    "z_coord = np.linspace(z_min, z_max, np.ceil((z_max-z_min)/spatial_increment))\n",
    "\n",
    "mesh = np.meshgrid(x_coord, y_coord, z_coord)\n",
    "    \n",
    "grid_points = np.dstack(map(np.ravel, mesh))[0]\n",
    "    \n",
    "in_convex_hull = np.logical_and(np.logical_and(x_delaunay.find_simplex(grid_points)>=0,\n",
    "                                                y_delaunay.find_simplex(grid_points)>=0),\n",
    "                                z_delaunay.find_simplex(grid_points)>=0)"
   ]
  },
  {
   "cell_type": "code",
   "execution_count": 298,
   "metadata": {
    "collapsed": false
   },
   "outputs": [
    {
     "data": {
      "text/plain": [
       "(830584, 3)"
      ]
     },
     "execution_count": 298,
     "metadata": {},
     "output_type": "execute_result"
    }
   ],
   "source": [
    "grid_points.shape"
   ]
  },
  {
   "cell_type": "code",
   "execution_count": 299,
   "metadata": {
    "collapsed": false
   },
   "outputs": [
    {
     "data": {
      "text/plain": [
       "(5114, 3)"
      ]
     },
     "execution_count": 299,
     "metadata": {},
     "output_type": "execute_result"
    }
   ],
   "source": [
    "points[0].shape"
   ]
  },
  {
   "cell_type": "code",
   "execution_count": 300,
   "metadata": {
    "collapsed": true
   },
   "outputs": [],
   "source": [
    "fig = plt.figure()\n",
    "ax = fig.add_subplot(111, projection='3d')\n",
    "ax.scatter(points[0][:,0], points[0][:,1], points[0][:,2])\n",
    "plt.show()"
   ]
  },
  {
   "cell_type": "code",
   "execution_count": 301,
   "metadata": {
    "collapsed": false
   },
   "outputs": [],
   "source": [
    "x_delaunay = Delaunay(points[0])"
   ]
  },
  {
   "cell_type": "code",
   "execution_count": 304,
   "metadata": {
    "collapsed": false
   },
   "outputs": [
    {
     "data": {
      "text/plain": [
       "array([[-0.032     , -0.032     , -0.032     ],\n",
       "       [-0.032     , -0.032     , -0.0289785 ],\n",
       "       [-0.032     , -0.032     , -0.02595699],\n",
       "       ..., \n",
       "       [ 0.249     ,  0.249     ,  0.24295699],\n",
       "       [ 0.249     ,  0.249     ,  0.24597849],\n",
       "       [ 0.249     ,  0.249     ,  0.249     ]])"
      ]
     },
     "execution_count": 304,
     "metadata": {},
     "output_type": "execute_result"
    }
   ],
   "source": [
    "grid_points"
   ]
  },
  {
   "cell_type": "code",
   "execution_count": 321,
   "metadata": {
    "collapsed": false
   },
   "outputs": [],
   "source": [
    "test = x_delaunay.find_simplex(grid_points, bruteforce=True, tol=1e-1)>=0"
   ]
  },
  {
   "cell_type": "code",
   "execution_count": 319,
   "metadata": {
    "collapsed": true
   },
   "outputs": [],
   "source": [
    "fig = plt.figure()\n",
    "ax = fig.add_subplot(111, projection='3d')\n",
    "ax.scatter(grid_points[test][:,0], grid_points[test][:,1], grid_points[test][:,2])\n",
    "plt.show()"
   ]
  },
  {
   "cell_type": "code",
   "execution_count": 289,
   "metadata": {
    "collapsed": false
   },
   "outputs": [
    {
     "data": {
      "text/plain": [
       "array([[ 4945.,  4774.,  4777.],\n",
       "       [ 4945.,  4987.,  4777.],\n",
       "       [ 4234.,   531.,   223.],\n",
       "       ..., \n",
       "       [  674.,   655.,   511.],\n",
       "       [  674.,   678.,   667.],\n",
       "       [  674.,   667.,   655.]])"
      ]
     },
     "execution_count": 289,
     "metadata": {},
     "output_type": "execute_result"
    }
   ],
   "source": [
    "x_delaunay.convex_hull.astype(float)"
   ]
  },
  {
   "cell_type": "code",
   "execution_count": null,
   "metadata": {
    "collapsed": true
   },
   "outputs": [],
   "source": []
  }
 ],
 "metadata": {
  "kernelspec": {
   "display_name": "Python 2",
   "language": "python",
   "name": "python2"
  },
  "language_info": {
   "codemirror_mode": {
    "name": "ipython",
    "version": 2
   },
   "file_extension": ".py",
   "mimetype": "text/x-python",
   "name": "python",
   "nbconvert_exporter": "python",
   "pygments_lexer": "ipython2",
   "version": "2.7.11"
  }
 },
 "nbformat": 4,
 "nbformat_minor": 0
}
