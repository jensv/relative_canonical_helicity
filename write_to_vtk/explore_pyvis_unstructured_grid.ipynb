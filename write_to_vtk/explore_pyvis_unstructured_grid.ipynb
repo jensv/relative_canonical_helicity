{
 "cells": [
  {
   "cell_type": "code",
   "execution_count": 1,
   "metadata": {
    "collapsed": true
   },
   "outputs": [],
   "source": [
    "import numpy as np\n",
    "from pyvisfile.vtk import ( \n",
    "    UnstructuredGrid, DataArray,\n",
    "    AppendedDataXMLGenerator,\n",
    "    VTK_VERTEX, VF_LIST_OF_VECTORS, VF_LIST_OF_COMPONENTS)\n",
    "\n",
    "n = 5000\n",
    "points = np.random.randn(n, 3)\n",
    "\n",
    "data = [\n",
    "        (\"p\", np.random.randn(n)),\n",
    "        (\"vel\", np.random.randn(3, n)),\n",
    "]\n",
    "file_name = \"points.vtu\"\n",
    "compressor = None\n",
    "\n",
    "grid = UnstructuredGrid(\n",
    "        (n, DataArray(\"points\", points, vector_format=VF_LIST_OF_VECTORS)),\n",
    "        cells=np.arange(n, dtype=np.uint32),\n",
    "        cell_types=np.asarray([VTK_VERTEX] * n, dtype=np.uint8))\n",
    "\n",
    "for name, field in data:\n",
    "    grid.add_pointdata(DataArray(name, field,\n",
    "        vector_format=VF_LIST_OF_COMPONENTS))\n",
    "\n",
    "from os.path import exists\n",
    "if exists(file_name):\n",
    "    raise RuntimeError(\"output file '%s' already exists\"\n",
    "        % file_name)\n",
    "\n",
    "outf = open(file_name, \"w\")\n",
    "AppendedDataXMLGenerator(compressor)(grid).write(outf)\n",
    "outf.close()"
   ]
  },
  {
   "cell_type": "code",
   "execution_count": 2,
   "metadata": {
    "collapsed": false
   },
   "outputs": [
    {
     "data": {
      "text/plain": [
       "<pyvisfile.vtk.UnstructuredGrid at 0x10c2f9850>"
      ]
     },
     "execution_count": 2,
     "metadata": {},
     "output_type": "execute_result"
    }
   ],
   "source": [
    "import numpy as np\n",
    "from pyvisfile.vtk import ( \n",
    "    UnstructuredGrid, DataArray,\n",
    "    AppendedDataXMLGenerator,\n",
    "    VTK_VERTEX, VF_LIST_OF_VECTORS, VF_LIST_OF_COMPONENTS)\n",
    "\n",
    "n = 5000\n",
    "points = np.random.randn(n, 3)\n",
    "\n",
    "data = [\n",
    "        (\"p\", np.random.randn(n)),\n",
    "        (\"vel\", np.random.randn(3, n)),\n",
    "]\n",
    "file_name = \"points.vtu\"\n",
    "compressor = None\n",
    "\n",
    "grid = UnstructuredGrid(\n",
    "        (n, DataArray(\"points\", points, vector_format=VF_LIST_OF_VECTORS)),\n",
    "        cells=np.arange(n, dtype=np.uint32),\n",
    "        cell_types=np.asarray([VTK_VERTEX] * n, dtype=np.uint8))\n",
    "\n",
    "for name, field in data:\n",
    "    grid.add_pointdata(DataArray(name, field,\n",
    "        vector_format=VF_LIST_OF_COMPONENTS))\n",
    "\n",
    "from os.path import exists\n",
    "if exists(file_name):\n",
    "    raise RuntimeError(\"output file '%s' already exists\"\n",
    "        % file_name)\n",
    "\n",
    "outf = open(file_name, \"w\")\n",
    "AppendedDataXMLGenerator(compressor)(grid).write(outf)\n",
    "outf.close()"
   ]
  },
  {
   "cell_type": "code",
   "execution_count": 8,
   "metadata": {
    "collapsed": false
   },
   "outputs": [
    {
     "data": {
      "text/plain": [
       "((5000, <pyvisfile.vtk.DataArray at 0x10707b690>),\n",
       " array([   0,    1,    2, ..., 4997, 4998, 4999], dtype=uint32),\n",
       " array([1, 1, 1, ..., 1, 1, 1], dtype=uint8))"
      ]
     },
     "execution_count": 8,
     "metadata": {},
     "output_type": "execute_result"
    }
   ],
   "source": [
    "((n, DataArray(\"points\", points, VF_LIST_OF_VECTORS)),\n",
    "  np.arange(n, dtype=np.uint32),\n",
    "  np.asarray([VTK_VERTEX] * n, dtype=np.uint8))"
   ]
  },
  {
   "cell_type": "code",
   "execution_count": 12,
   "metadata": {
    "collapsed": false
   },
   "outputs": [
    {
     "data": {
      "text/plain": [
       "int"
      ]
     },
     "execution_count": 12,
     "metadata": {},
     "output_type": "execute_result"
    }
   ],
   "source": [
    "type(VTK_VERTEX)"
   ]
  },
  {
   "cell_type": "code",
   "execution_count": 14,
   "metadata": {
    "collapsed": true
   },
   "outputs": [],
   "source": [
    "import pyvisfile"
   ]
  },
  {
   "cell_type": "code",
   "execution_count": 15,
   "metadata": {
    "collapsed": false
   },
   "outputs": [
    {
     "data": {
      "text/plain": [
       "10"
      ]
     },
     "execution_count": 15,
     "metadata": {},
     "output_type": "execute_result"
    }
   ],
   "source": [
    "pyvisfile.vtk.VTK_TETRA"
   ]
  },
  {
   "cell_type": "code",
   "execution_count": null,
   "metadata": {
    "collapsed": true
   },
   "outputs": [],
   "source": []
  }
 ],
 "metadata": {
  "kernelspec": {
   "display_name": "Python 2",
   "language": "python",
   "name": "python2"
  },
  "language_info": {
   "codemirror_mode": {
    "name": "ipython",
    "version": 2
   },
   "file_extension": ".py",
   "mimetype": "text/x-python",
   "name": "python",
   "nbconvert_exporter": "python",
   "pygments_lexer": "ipython2",
   "version": "2.7.12"
  }
 },
 "nbformat": 4,
 "nbformat_minor": 0
}
