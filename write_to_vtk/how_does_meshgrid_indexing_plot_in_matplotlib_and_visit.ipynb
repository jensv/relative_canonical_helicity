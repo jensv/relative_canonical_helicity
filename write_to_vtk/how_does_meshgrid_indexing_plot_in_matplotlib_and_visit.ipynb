{
 "cells": [
  {
   "cell_type": "code",
   "execution_count": 36,
   "metadata": {
    "collapsed": false
   },
   "outputs": [],
   "source": [
    "import numpy as np\n",
    "\n",
    "import visit_writer\n",
    "\n",
    "from astropy.convolution import convolve, convolve_fft\n",
    "\n",
    "%matplotlib inline\n",
    "import matplotlib.pyplot as plt"
   ]
  },
  {
   "cell_type": "code",
   "execution_count": 2,
   "metadata": {
    "collapsed": true
   },
   "outputs": [],
   "source": [
    "x = np.linspace(0, 3, 4)"
   ]
  },
  {
   "cell_type": "code",
   "execution_count": 3,
   "metadata": {
    "collapsed": false
   },
   "outputs": [
    {
     "data": {
      "text/plain": [
       "array([ 0.,  1.,  2.,  3.])"
      ]
     },
     "execution_count": 3,
     "metadata": {},
     "output_type": "execute_result"
    }
   ],
   "source": [
    "x"
   ]
  },
  {
   "cell_type": "code",
   "execution_count": 4,
   "metadata": {
    "collapsed": true
   },
   "outputs": [],
   "source": [
    "y = np.linspace(10, 13, 4)"
   ]
  },
  {
   "cell_type": "code",
   "execution_count": 5,
   "metadata": {
    "collapsed": false
   },
   "outputs": [
    {
     "data": {
      "text/plain": [
       "array([ 10.,  11.,  12.,  13.])"
      ]
     },
     "execution_count": 5,
     "metadata": {},
     "output_type": "execute_result"
    }
   ],
   "source": [
    "y"
   ]
  },
  {
   "cell_type": "code",
   "execution_count": 6,
   "metadata": {
    "collapsed": false
   },
   "outputs": [
    {
     "data": {
      "text/plain": [
       "array([[ 0.,  1.,  2.,  3.],\n",
       "       [ 0.,  1.,  2.,  3.],\n",
       "       [ 0.,  1.,  2.,  3.],\n",
       "       [ 0.,  1.,  2.,  3.]])"
      ]
     },
     "execution_count": 6,
     "metadata": {},
     "output_type": "execute_result"
    }
   ],
   "source": [
    "np.meshgrid(x, y)[0]"
   ]
  },
  {
   "cell_type": "markdown",
   "metadata": {},
   "source": [
    "Default ordering is y then x."
   ]
  },
  {
   "cell_type": "code",
   "execution_count": 7,
   "metadata": {
    "collapsed": false
   },
   "outputs": [
    {
     "data": {
      "text/plain": [
       "array([[ 0.,  1.,  2.,  3.],\n",
       "       [ 0.,  1.,  2.,  3.],\n",
       "       [ 0.,  1.,  2.,  3.],\n",
       "       [ 0.,  1.,  2.,  3.]])"
      ]
     },
     "execution_count": 7,
     "metadata": {},
     "output_type": "execute_result"
    }
   ],
   "source": [
    "np.meshgrid(x, y, indexing='xy')[0]"
   ]
  },
  {
   "cell_type": "code",
   "execution_count": 8,
   "metadata": {
    "collapsed": false
   },
   "outputs": [
    {
     "data": {
      "text/plain": [
       "array([[ 0.,  0.,  0.,  0.],\n",
       "       [ 1.,  1.,  1.,  1.],\n",
       "       [ 2.,  2.,  2.,  2.],\n",
       "       [ 3.,  3.,  3.,  3.]])"
      ]
     },
     "execution_count": 8,
     "metadata": {},
     "output_type": "execute_result"
    }
   ],
   "source": [
    "np.meshgrid(x, y, indexing='ij')[0]"
   ]
  },
  {
   "cell_type": "markdown",
   "metadata": {},
   "source": [
    "ij ordering is y then x."
   ]
  },
  {
   "cell_type": "code",
   "execution_count": 9,
   "metadata": {
    "collapsed": true
   },
   "outputs": [],
   "source": [
    "values = np.asarray([[ 0.,  0.,  0.,  0.],\n",
    "                     [ 1.,  1.,  1.,  1.],\n",
    "                     [ 2.,  2.,  2.,  2.],\n",
    "                     [ 3.,  3.,  3.,  3.]])"
   ]
  },
  {
   "cell_type": "code",
   "execution_count": 10,
   "metadata": {
    "collapsed": true
   },
   "outputs": [],
   "source": [
    "mesh_xy = np.meshgrid(x, y, indexing='xy')\n",
    "mesh_ij = np.meshgrid(x, y, indexing='ij')"
   ]
  },
  {
   "cell_type": "code",
   "execution_count": 11,
   "metadata": {
    "collapsed": false
   },
   "outputs": [
    {
     "data": {
      "text/plain": [
       "<matplotlib.colorbar.Colorbar at 0x10f5a9050>"
      ]
     },
     "execution_count": 11,
     "metadata": {},
     "output_type": "execute_result"
    },
    {
     "data": {
      "image/png": "[encoded data removed]",
      "text/plain": [
       "<matplotlib.figure.Figure at 0x10f4ee690>"
      ]
     },
     "metadata": {},
     "output_type": "display_data"
    }
   ],
   "source": [
    "plt.contourf(mesh_xy[0], mesh_xy[1], values)\n",
    "plt.colorbar()"
   ]
  },
  {
   "cell_type": "code",
   "execution_count": 12,
   "metadata": {
    "collapsed": false
   },
   "outputs": [
    {
     "data": {
      "text/plain": [
       "<matplotlib.colorbar.Colorbar at 0x112693ad0>"
      ]
     },
     "execution_count": 12,
     "metadata": {},
     "output_type": "execute_result"
    },
    {
     "data": {
      "image/png": "[encoded data removed]",
      "text/plain": [
       "<matplotlib.figure.Figure at 0x105bc6a90>"
      ]
     },
     "metadata": {},
     "output_type": "display_data"
    }
   ],
   "source": [
    "plt.contourf(mesh_ij[0], mesh_ij[1], values)\n",
    "plt.colorbar()"
   ]
  },
  {
   "cell_type": "code",
   "execution_count": 13,
   "metadata": {
    "collapsed": false
   },
   "outputs": [],
   "source": [
    "z = (0,)\n",
    "vars_visit = (('test', 1, 1, tuple(values.ravel())),)\n",
    "visit_writer.WriteRectilinearMesh('test_visit_ordering.vtk', 1, tuple(x), tuple(y), tuple(z), vars_visit)"
   ]
  },
  {
   "cell_type": "markdown",
   "metadata": {},
   "source": [
    "Visit repoduces the default meshgrid ordering"
   ]
  },
  {
   "cell_type": "markdown",
   "metadata": {},
   "source": [
    "![alt text](visit_output_index_ordering.png \"Title\")"
   ]
  },
  {
   "cell_type": "markdown",
   "metadata": {},
   "source": [
    "# Gradient of a 2d meshgrid field"
   ]
  },
  {
   "cell_type": "code",
   "execution_count": 14,
   "metadata": {
    "collapsed": false
   },
   "outputs": [
    {
     "data": {
      "text/plain": [
       "<matplotlib.colorbar.Colorbar at 0x11289b1d0>"
      ]
     },
     "execution_count": 14,
     "metadata": {},
     "output_type": "execute_result"
    },
    {
     "data": {
      "image/png": "[encoded data removed]",
      "text/plain": [
       "<matplotlib.figure.Figure at 0x10f4f83d0>"
      ]
     },
     "metadata": {},
     "output_type": "display_data"
    }
   ],
   "source": [
    "plt.contourf(mesh_xy[0], mesh_xy[1], values)\n",
    "plt.colorbar()"
   ]
  },
  {
   "cell_type": "code",
   "execution_count": 15,
   "metadata": {
    "collapsed": false
   },
   "outputs": [
    {
     "data": {
      "text/plain": [
       "[array([[ 1.,  1.,  1.,  1.],\n",
       "        [ 1.,  1.,  1.,  1.],\n",
       "        [ 1.,  1.,  1.,  1.],\n",
       "        [ 1.,  1.,  1.,  1.]]), array([[ 0.,  0.,  0.,  0.],\n",
       "        [ 0.,  0.,  0.,  0.],\n",
       "        [ 0.,  0.,  0.,  0.],\n",
       "        [ 0.,  0.,  0.,  0.]])]"
      ]
     },
     "execution_count": 15,
     "metadata": {},
     "output_type": "execute_result"
    }
   ],
   "source": [
    "np.gradient(values)"
   ]
  },
  {
   "cell_type": "code",
   "execution_count": 16,
   "metadata": {
    "collapsed": false
   },
   "outputs": [
    {
     "data": {
      "text/plain": [
       "array([[ 0.,  0.,  0.,  0.],\n",
       "       [ 0.,  0.,  0.,  0.],\n",
       "       [ 0.,  0.,  0.,  0.],\n",
       "       [ 0.,  0.,  0.,  0.]])"
      ]
     },
     "execution_count": 16,
     "metadata": {},
     "output_type": "execute_result"
    }
   ],
   "source": [
    "np.gradient(values, axis=1)"
   ]
  },
  {
   "cell_type": "markdown",
   "metadata": {},
   "source": [
    "## X -derivative is second"
   ]
  },
  {
   "cell_type": "markdown",
   "metadata": {},
   "source": [
    "# 2d meshgrid field varying in both directions"
   ]
  },
  {
   "cell_type": "code",
   "execution_count": 17,
   "metadata": {
    "collapsed": true
   },
   "outputs": [],
   "source": [
    "x_2d = np.linspace(0, 1, 2)"
   ]
  },
  {
   "cell_type": "code",
   "execution_count": 18,
   "metadata": {
    "collapsed": true
   },
   "outputs": [],
   "source": [
    "y_2d = np.linspace(10, 11, 2)"
   ]
  },
  {
   "cell_type": "code",
   "execution_count": 19,
   "metadata": {
    "collapsed": true
   },
   "outputs": [],
   "source": [
    "mesh_2d = np.meshgrid(x, y)"
   ]
  },
  {
   "cell_type": "code",
   "execution_count": 20,
   "metadata": {
    "collapsed": true
   },
   "outputs": [],
   "source": [
    "values_2d = np.asarray([[0, 1], \n",
    "                        [2, 3]])"
   ]
  },
  {
   "cell_type": "code",
   "execution_count": 21,
   "metadata": {
    "collapsed": false
   },
   "outputs": [
    {
     "ename": "TypeError",
     "evalue": "Shape of x does not match that of z: found (4, 4) instead of (2, 2).",
     "output_type": "error",
     "traceback": [
      "\u001b[0;31m---------------------------------------------------------------------------\u001b[0m",
      "\u001b[0;31mTypeError\u001b[0m                                 Traceback (most recent call last)",
      "\u001b[0;32m<ipython-input-21-a046247dbe21>\u001b[0m in \u001b[0;36m<module>\u001b[0;34m()\u001b[0m\n\u001b[1;32m      1\u001b[0m plt.contourf(mesh_2d[0][:, :], \n\u001b[1;32m      2\u001b[0m              \u001b[0mmesh_2d\u001b[0m\u001b[0;34m[\u001b[0m\u001b[0;36m1\u001b[0m\u001b[0;34m]\u001b[0m\u001b[0;34m[\u001b[0m\u001b[0;34m:\u001b[0m\u001b[0;34m,\u001b[0m \u001b[0;34m:\u001b[0m\u001b[0;34m]\u001b[0m\u001b[0;34m,\u001b[0m\u001b[0;34m\u001b[0m\u001b[0m\n\u001b[0;32m----> 3\u001b[0;31m              values_2d[:, :])\n\u001b[0m\u001b[1;32m      4\u001b[0m \u001b[0mplt\u001b[0m\u001b[0;34m.\u001b[0m\u001b[0mcolorbar\u001b[0m\u001b[0;34m(\u001b[0m\u001b[0;34m)\u001b[0m\u001b[0;34m\u001b[0m\u001b[0m\n",
      "\u001b[0;32m/Users/vonderlinden2/anaconda/lib/python2.7/site-packages/matplotlib/pyplot.pyc\u001b[0m in \u001b[0;36mcontourf\u001b[0;34m(*args, **kwargs)\u001b[0m\n\u001b[1;32m   2781\u001b[0m         \u001b[0max\u001b[0m\u001b[0;34m.\u001b[0m\u001b[0mhold\u001b[0m\u001b[0;34m(\u001b[0m\u001b[0mhold\u001b[0m\u001b[0;34m)\u001b[0m\u001b[0;34m\u001b[0m\u001b[0m\n\u001b[1;32m   2782\u001b[0m     \u001b[0;32mtry\u001b[0m\u001b[0;34m:\u001b[0m\u001b[0;34m\u001b[0m\u001b[0m\n\u001b[0;32m-> 2783\u001b[0;31m         \u001b[0mret\u001b[0m \u001b[0;34m=\u001b[0m \u001b[0max\u001b[0m\u001b[0;34m.\u001b[0m\u001b[0mcontourf\u001b[0m\u001b[0;34m(\u001b[0m\u001b[0;34m*\u001b[0m\u001b[0margs\u001b[0m\u001b[0;34m,\u001b[0m \u001b[0;34m**\u001b[0m\u001b[0mkwargs\u001b[0m\u001b[0;34m)\u001b[0m\u001b[0;34m\u001b[0m\u001b[0m\n\u001b[0m\u001b[1;32m   2784\u001b[0m     \u001b[0;32mfinally\u001b[0m\u001b[0;34m:\u001b[0m\u001b[0;34m\u001b[0m\u001b[0m\n\u001b[1;32m   2785\u001b[0m         \u001b[0max\u001b[0m\u001b[0;34m.\u001b[0m\u001b[0mhold\u001b[0m\u001b[0;34m(\u001b[0m\u001b[0mwashold\u001b[0m\u001b[0;34m)\u001b[0m\u001b[0;34m\u001b[0m\u001b[0m\n",
      "\u001b[0;32m/Users/vonderlinden2/anaconda/lib/python2.7/site-packages/matplotlib/__init__.pyc\u001b[0m in \u001b[0;36minner\u001b[0;34m(ax, *args, **kwargs)\u001b[0m\n\u001b[1;32m   1810\u001b[0m                     warnings.warn(msg % (label_namer, func.__name__),\n\u001b[1;32m   1811\u001b[0m                                   RuntimeWarning, stacklevel=2)\n\u001b[0;32m-> 1812\u001b[0;31m             \u001b[0;32mreturn\u001b[0m \u001b[0mfunc\u001b[0m\u001b[0;34m(\u001b[0m\u001b[0max\u001b[0m\u001b[0;34m,\u001b[0m \u001b[0;34m*\u001b[0m\u001b[0margs\u001b[0m\u001b[0;34m,\u001b[0m \u001b[0;34m**\u001b[0m\u001b[0mkwargs\u001b[0m\u001b[0;34m)\u001b[0m\u001b[0;34m\u001b[0m\u001b[0m\n\u001b[0m\u001b[1;32m   1813\u001b[0m         \u001b[0mpre_doc\u001b[0m \u001b[0;34m=\u001b[0m \u001b[0minner\u001b[0m\u001b[0;34m.\u001b[0m\u001b[0m__doc__\u001b[0m\u001b[0;34m\u001b[0m\u001b[0m\n\u001b[1;32m   1814\u001b[0m         \u001b[0;32mif\u001b[0m \u001b[0mpre_doc\u001b[0m \u001b[0;32mis\u001b[0m \u001b[0mNone\u001b[0m\u001b[0;34m:\u001b[0m\u001b[0;34m\u001b[0m\u001b[0m\n",
      "\u001b[0;32m/Users/vonderlinden2/anaconda/lib/python2.7/site-packages/matplotlib/axes/_axes.pyc\u001b[0m in \u001b[0;36mcontourf\u001b[0;34m(self, *args, **kwargs)\u001b[0m\n\u001b[1;32m   5650\u001b[0m             \u001b[0mself\u001b[0m\u001b[0;34m.\u001b[0m\u001b[0mcla\u001b[0m\u001b[0;34m(\u001b[0m\u001b[0;34m)\u001b[0m\u001b[0;34m\u001b[0m\u001b[0m\n\u001b[1;32m   5651\u001b[0m         \u001b[0mkwargs\u001b[0m\u001b[0;34m[\u001b[0m\u001b[0;34m'filled'\u001b[0m\u001b[0;34m]\u001b[0m \u001b[0;34m=\u001b[0m \u001b[0mTrue\u001b[0m\u001b[0;34m\u001b[0m\u001b[0m\n\u001b[0;32m-> 5652\u001b[0;31m         \u001b[0;32mreturn\u001b[0m \u001b[0mmcontour\u001b[0m\u001b[0;34m.\u001b[0m\u001b[0mQuadContourSet\u001b[0m\u001b[0;34m(\u001b[0m\u001b[0mself\u001b[0m\u001b[0;34m,\u001b[0m \u001b[0;34m*\u001b[0m\u001b[0margs\u001b[0m\u001b[0;34m,\u001b[0m \u001b[0;34m**\u001b[0m\u001b[0mkwargs\u001b[0m\u001b[0;34m)\u001b[0m\u001b[0;34m\u001b[0m\u001b[0m\n\u001b[0m\u001b[1;32m   5653\u001b[0m     \u001b[0mcontourf\u001b[0m\u001b[0;34m.\u001b[0m\u001b[0m__doc__\u001b[0m \u001b[0;34m=\u001b[0m \u001b[0mmcontour\u001b[0m\u001b[0;34m.\u001b[0m\u001b[0mQuadContourSet\u001b[0m\u001b[0;34m.\u001b[0m\u001b[0mcontour_doc\u001b[0m\u001b[0;34m\u001b[0m\u001b[0m\n\u001b[1;32m   5654\u001b[0m \u001b[0;34m\u001b[0m\u001b[0m\n",
      "\u001b[0;32m/Users/vonderlinden2/anaconda/lib/python2.7/site-packages/matplotlib/contour.pyc\u001b[0m in \u001b[0;36m__init__\u001b[0;34m(self, ax, *args, **kwargs)\u001b[0m\n\u001b[1;32m   1422\u001b[0m         \u001b[0mare\u001b[0m \u001b[0mdescribed\u001b[0m \u001b[0;32min\u001b[0m \u001b[0mQuadContourSet\u001b[0m\u001b[0;34m.\u001b[0m\u001b[0mcontour_doc\u001b[0m\u001b[0;34m.\u001b[0m\u001b[0;34m\u001b[0m\u001b[0m\n\u001b[1;32m   1423\u001b[0m         \"\"\"\n\u001b[0;32m-> 1424\u001b[0;31m         \u001b[0mContourSet\u001b[0m\u001b[0;34m.\u001b[0m\u001b[0m__init__\u001b[0m\u001b[0;34m(\u001b[0m\u001b[0mself\u001b[0m\u001b[0;34m,\u001b[0m \u001b[0max\u001b[0m\u001b[0;34m,\u001b[0m \u001b[0;34m*\u001b[0m\u001b[0margs\u001b[0m\u001b[0;34m,\u001b[0m \u001b[0;34m**\u001b[0m\u001b[0mkwargs\u001b[0m\u001b[0;34m)\u001b[0m\u001b[0;34m\u001b[0m\u001b[0m\n\u001b[0m\u001b[1;32m   1425\u001b[0m \u001b[0;34m\u001b[0m\u001b[0m\n\u001b[1;32m   1426\u001b[0m     \u001b[0;32mdef\u001b[0m \u001b[0m_process_args\u001b[0m\u001b[0;34m(\u001b[0m\u001b[0mself\u001b[0m\u001b[0;34m,\u001b[0m \u001b[0;34m*\u001b[0m\u001b[0margs\u001b[0m\u001b[0;34m,\u001b[0m \u001b[0;34m**\u001b[0m\u001b[0mkwargs\u001b[0m\u001b[0;34m)\u001b[0m\u001b[0;34m:\u001b[0m\u001b[0;34m\u001b[0m\u001b[0m\n",
      "\u001b[0;32m/Users/vonderlinden2/anaconda/lib/python2.7/site-packages/matplotlib/contour.pyc\u001b[0m in \u001b[0;36m__init__\u001b[0;34m(self, ax, *args, **kwargs)\u001b[0m\n\u001b[1;32m    861\u001b[0m         \u001b[0mself\u001b[0m\u001b[0;34m.\u001b[0m\u001b[0m_transform\u001b[0m \u001b[0;34m=\u001b[0m \u001b[0mkwargs\u001b[0m\u001b[0;34m.\u001b[0m\u001b[0mget\u001b[0m\u001b[0;34m(\u001b[0m\u001b[0;34m'transform'\u001b[0m\u001b[0;34m,\u001b[0m \u001b[0mNone\u001b[0m\u001b[0;34m)\u001b[0m\u001b[0;34m\u001b[0m\u001b[0m\n\u001b[1;32m    862\u001b[0m \u001b[0;34m\u001b[0m\u001b[0m\n\u001b[0;32m--> 863\u001b[0;31m         \u001b[0mself\u001b[0m\u001b[0;34m.\u001b[0m\u001b[0m_process_args\u001b[0m\u001b[0;34m(\u001b[0m\u001b[0;34m*\u001b[0m\u001b[0margs\u001b[0m\u001b[0;34m,\u001b[0m \u001b[0;34m**\u001b[0m\u001b[0mkwargs\u001b[0m\u001b[0;34m)\u001b[0m\u001b[0;34m\u001b[0m\u001b[0m\n\u001b[0m\u001b[1;32m    864\u001b[0m         \u001b[0mself\u001b[0m\u001b[0;34m.\u001b[0m\u001b[0m_process_levels\u001b[0m\u001b[0;34m(\u001b[0m\u001b[0;34m)\u001b[0m\u001b[0;34m\u001b[0m\u001b[0m\n\u001b[1;32m    865\u001b[0m \u001b[0;34m\u001b[0m\u001b[0m\n",
      "\u001b[0;32m/Users/vonderlinden2/anaconda/lib/python2.7/site-packages/matplotlib/contour.pyc\u001b[0m in \u001b[0;36m_process_args\u001b[0;34m(self, *args, **kwargs)\u001b[0m\n\u001b[1;32m   1443\u001b[0m                 \u001b[0mself\u001b[0m\u001b[0;34m.\u001b[0m\u001b[0m_corner_mask\u001b[0m \u001b[0;34m=\u001b[0m \u001b[0mmpl\u001b[0m\u001b[0;34m.\u001b[0m\u001b[0mrcParams\u001b[0m\u001b[0;34m[\u001b[0m\u001b[0;34m'contour.corner_mask'\u001b[0m\u001b[0;34m]\u001b[0m\u001b[0;34m\u001b[0m\u001b[0m\n\u001b[1;32m   1444\u001b[0m \u001b[0;34m\u001b[0m\u001b[0m\n\u001b[0;32m-> 1445\u001b[0;31m             \u001b[0mx\u001b[0m\u001b[0;34m,\u001b[0m \u001b[0my\u001b[0m\u001b[0;34m,\u001b[0m \u001b[0mz\u001b[0m \u001b[0;34m=\u001b[0m \u001b[0mself\u001b[0m\u001b[0;34m.\u001b[0m\u001b[0m_contour_args\u001b[0m\u001b[0;34m(\u001b[0m\u001b[0margs\u001b[0m\u001b[0;34m,\u001b[0m \u001b[0mkwargs\u001b[0m\u001b[0;34m)\u001b[0m\u001b[0;34m\u001b[0m\u001b[0m\n\u001b[0m\u001b[1;32m   1446\u001b[0m \u001b[0;34m\u001b[0m\u001b[0m\n\u001b[1;32m   1447\u001b[0m             \u001b[0m_mask\u001b[0m \u001b[0;34m=\u001b[0m \u001b[0mma\u001b[0m\u001b[0;34m.\u001b[0m\u001b[0mgetmask\u001b[0m\u001b[0;34m(\u001b[0m\u001b[0mz\u001b[0m\u001b[0;34m)\u001b[0m\u001b[0;34m\u001b[0m\u001b[0m\n",
      "\u001b[0;32m/Users/vonderlinden2/anaconda/lib/python2.7/site-packages/matplotlib/contour.pyc\u001b[0m in \u001b[0;36m_contour_args\u001b[0;34m(self, args, kwargs)\u001b[0m\n\u001b[1;32m   1526\u001b[0m             \u001b[0margs\u001b[0m \u001b[0;34m=\u001b[0m \u001b[0margs\u001b[0m\u001b[0;34m[\u001b[0m\u001b[0;36m1\u001b[0m\u001b[0;34m:\u001b[0m\u001b[0;34m]\u001b[0m\u001b[0;34m\u001b[0m\u001b[0m\n\u001b[1;32m   1527\u001b[0m         \u001b[0;32melif\u001b[0m \u001b[0mNargs\u001b[0m \u001b[0;34m<=\u001b[0m \u001b[0;36m4\u001b[0m\u001b[0;34m:\u001b[0m\u001b[0;34m\u001b[0m\u001b[0m\n\u001b[0;32m-> 1528\u001b[0;31m             \u001b[0mx\u001b[0m\u001b[0;34m,\u001b[0m \u001b[0my\u001b[0m\u001b[0;34m,\u001b[0m \u001b[0mz\u001b[0m \u001b[0;34m=\u001b[0m \u001b[0mself\u001b[0m\u001b[0;34m.\u001b[0m\u001b[0m_check_xyz\u001b[0m\u001b[0;34m(\u001b[0m\u001b[0margs\u001b[0m\u001b[0;34m[\u001b[0m\u001b[0;34m:\u001b[0m\u001b[0;36m3\u001b[0m\u001b[0;34m]\u001b[0m\u001b[0;34m,\u001b[0m \u001b[0mkwargs\u001b[0m\u001b[0;34m)\u001b[0m\u001b[0;34m\u001b[0m\u001b[0m\n\u001b[0m\u001b[1;32m   1529\u001b[0m             \u001b[0margs\u001b[0m \u001b[0;34m=\u001b[0m \u001b[0margs\u001b[0m\u001b[0;34m[\u001b[0m\u001b[0;36m3\u001b[0m\u001b[0;34m:\u001b[0m\u001b[0;34m]\u001b[0m\u001b[0;34m\u001b[0m\u001b[0m\n\u001b[1;32m   1530\u001b[0m         \u001b[0;32melse\u001b[0m\u001b[0;34m:\u001b[0m\u001b[0;34m\u001b[0m\u001b[0m\n",
      "\u001b[0;32m/Users/vonderlinden2/anaconda/lib/python2.7/site-packages/matplotlib/contour.pyc\u001b[0m in \u001b[0;36m_check_xyz\u001b[0;34m(self, args, kwargs)\u001b[0m\n\u001b[1;32m   1584\u001b[0m             \u001b[0;32mif\u001b[0m \u001b[0mx\u001b[0m\u001b[0;34m.\u001b[0m\u001b[0mshape\u001b[0m \u001b[0;34m!=\u001b[0m \u001b[0mz\u001b[0m\u001b[0;34m.\u001b[0m\u001b[0mshape\u001b[0m\u001b[0;34m:\u001b[0m\u001b[0;34m\u001b[0m\u001b[0m\n\u001b[1;32m   1585\u001b[0m                 raise TypeError(\"Shape of x does not match that of z: found \"\n\u001b[0;32m-> 1586\u001b[0;31m                                 \"{0} instead of {1}.\".format(x.shape, z.shape))\n\u001b[0m\u001b[1;32m   1587\u001b[0m \u001b[0;34m\u001b[0m\u001b[0m\n\u001b[1;32m   1588\u001b[0m             \u001b[0;32mif\u001b[0m \u001b[0my\u001b[0m\u001b[0;34m.\u001b[0m\u001b[0mshape\u001b[0m \u001b[0;34m!=\u001b[0m \u001b[0mz\u001b[0m\u001b[0;34m.\u001b[0m\u001b[0mshape\u001b[0m\u001b[0;34m:\u001b[0m\u001b[0;34m\u001b[0m\u001b[0m\n",
      "\u001b[0;31mTypeError\u001b[0m: Shape of x does not match that of z: found (4, 4) instead of (2, 2)."
     ]
    },
    {
     "data": {
      "image/png": "[encoded data removed]",
      "text/plain": [
       "<matplotlib.figure.Figure at 0x1126a1f50>"
      ]
     },
     "metadata": {},
     "output_type": "display_data"
    }
   ],
   "source": [
    "plt.contourf(mesh_2d[0][:, :], \n",
    "             mesh_2d[1][:, :],\n",
    "             values_2d[:, :])\n",
    "plt.colorbar()"
   ]
  },
  {
   "cell_type": "code",
   "execution_count": null,
   "metadata": {
    "collapsed": false
   },
   "outputs": [],
   "source": [
    "plt.contourf(x_2d, \n",
    "             y_2d,\n",
    "             values_2d[:, :])\n",
    "plt.colorbar()"
   ]
  },
  {
   "cell_type": "code",
   "execution_count": 22,
   "metadata": {
    "collapsed": false
   },
   "outputs": [],
   "source": [
    "z_2d = (0,)\n",
    "vars_visit = (('test', 1, 1, tuple(values_2d.ravel())),)\n",
    "visit_writer.WriteRectilinearMesh('test_visit_ordering_2d.vtk', 1, \n",
    "                                  tuple(x_2d), tuple(y_2d), \n",
    "                                  tuple(z_2d), vars_visit)"
   ]
  },
  {
   "cell_type": "markdown",
   "metadata": {},
   "source": [
    "# Filter"
   ]
  },
  {
   "cell_type": "code",
   "execution_count": 23,
   "metadata": {
    "collapsed": true
   },
   "outputs": [],
   "source": [
    "x_2d_for_filter = np.linspace(0, 20, 21)"
   ]
  },
  {
   "cell_type": "code",
   "execution_count": 24,
   "metadata": {
    "collapsed": true
   },
   "outputs": [],
   "source": [
    "y_2d_for_filter = np.linspace(0, 20, 21)"
   ]
  },
  {
   "cell_type": "code",
   "execution_count": 25,
   "metadata": {
    "collapsed": true
   },
   "outputs": [],
   "source": [
    "mesh_for_filter = np.meshgrid(x_2d_for_filter, y_2d_for_filter)"
   ]
  },
  {
   "cell_type": "code",
   "execution_count": 26,
   "metadata": {
    "collapsed": false
   },
   "outputs": [],
   "source": [
    "values_2d_for_filter = np.zeros(mesh_for_filter[0].shape)\n",
    "values_2d_for_filter[::2, ::2] = mesh_for_filter[0][::2, ::2]\n",
    "values_2d_for_filter[1::2, 1::2] = mesh_for_filter[0][1::2, 1::2]*5"
   ]
  },
  {
   "cell_type": "code",
   "execution_count": 27,
   "metadata": {
    "collapsed": false
   },
   "outputs": [
    {
     "data": {
      "text/plain": [
       "<matplotlib.contour.QuadContourSet at 0x112e5d190>"
      ]
     },
     "execution_count": 27,
     "metadata": {},
     "output_type": "execute_result"
    },
    {
     "data": {
      "image/png": "[encoded data removed]",
      "text/plain": [
       "<matplotlib.figure.Figure at 0x112b5a050>"
      ]
     },
     "metadata": {},
     "output_type": "display_data"
    }
   ],
   "source": [
    "plt.contourf(x_2d_for_filter, y_2d_for_filter,\n",
    "             values_2d_for_filter)"
   ]
  },
  {
   "cell_type": "code",
   "execution_count": 43,
   "metadata": {
    "collapsed": false
   },
   "outputs": [],
   "source": [
    "n = 10\n",
    "boxcar = np.ones((n,n))/(n*n)\n",
    "smoothed = convolve_fft(values_2d_for_filter, boxcar)"
   ]
  },
  {
   "cell_type": "code",
   "execution_count": 44,
   "metadata": {
    "collapsed": false
   },
   "outputs": [
    {
     "name": "stdout",
     "output_type": "stream",
     "text": [
      "(21, 21) (21, 21)\n"
     ]
    }
   ],
   "source": [
    "print smoothed.shape, values_2d_for_filter.shape"
   ]
  },
  {
   "cell_type": "code",
   "execution_count": 45,
   "metadata": {
    "collapsed": false
   },
   "outputs": [
    {
     "data": {
      "text/plain": [
       "<matplotlib.contour.QuadContourSet at 0x114a58750>"
      ]
     },
     "execution_count": 45,
     "metadata": {},
     "output_type": "execute_result"
    },
    {
     "data": {
      "image/png": "[encoded data removed]",
      "text/plain": [
       "<matplotlib.figure.Figure at 0x1146c0650>"
      ]
     },
     "metadata": {},
     "output_type": "display_data"
    }
   ],
   "source": [
    "plt.contourf(x_2d_for_filter, y_2d_for_filter,\n",
    "             smoothed)"
   ]
  },
  {
   "cell_type": "markdown",
   "metadata": {},
   "source": [
    "Note the edges are not acurate, the highest filtered value is closer to 15 than to the highest peak in the orgional data at 19."
   ]
  },
  {
   "cell_type": "code",
   "execution_count": 31,
   "metadata": {
    "collapsed": true
   },
   "outputs": [],
   "source": [
    "values_2d_for_filter_with_nan = np.array(values_2d_for_filter)\n",
    "values_2d_for_filter_with_nan[0][0] = np.nan"
   ]
  },
  {
   "cell_type": "code",
   "execution_count": 33,
   "metadata": {
    "collapsed": false
   },
   "outputs": [
    {
     "data": {
      "text/plain": [
       "array([[ nan,   0.,   2.,   0.,   4.,   0.,   6.,   0.,   8.,   0.,  10.,\n",
       "          0.,  12.,   0.,  14.,   0.,  16.,   0.,  18.,   0.,  20.],\n",
       "       [  0.,   5.,   0.,  15.,   0.,  25.,   0.,  35.,   0.,  45.,   0.,\n",
       "         55.,   0.,  65.,   0.,  75.,   0.,  85.,   0.,  95.,   0.],\n",
       "       [  0.,   0.,   2.,   0.,   4.,   0.,   6.,   0.,   8.,   0.,  10.,\n",
       "          0.,  12.,   0.,  14.,   0.,  16.,   0.,  18.,   0.,  20.],\n",
       "       [  0.,   5.,   0.,  15.,   0.,  25.,   0.,  35.,   0.,  45.,   0.,\n",
       "         55.,   0.,  65.,   0.,  75.,   0.,  85.,   0.,  95.,   0.],\n",
       "       [  0.,   0.,   2.,   0.,   4.,   0.,   6.,   0.,   8.,   0.,  10.,\n",
       "          0.,  12.,   0.,  14.,   0.,  16.,   0.,  18.,   0.,  20.],\n",
       "       [  0.,   5.,   0.,  15.,   0.,  25.,   0.,  35.,   0.,  45.,   0.,\n",
       "         55.,   0.,  65.,   0.,  75.,   0.,  85.,   0.,  95.,   0.],\n",
       "       [  0.,   0.,   2.,   0.,   4.,   0.,   6.,   0.,   8.,   0.,  10.,\n",
       "          0.,  12.,   0.,  14.,   0.,  16.,   0.,  18.,   0.,  20.],\n",
       "       [  0.,   5.,   0.,  15.,   0.,  25.,   0.,  35.,   0.,  45.,   0.,\n",
       "         55.,   0.,  65.,   0.,  75.,   0.,  85.,   0.,  95.,   0.],\n",
       "       [  0.,   0.,   2.,   0.,   4.,   0.,   6.,   0.,   8.,   0.,  10.,\n",
       "          0.,  12.,   0.,  14.,   0.,  16.,   0.,  18.,   0.,  20.],\n",
       "       [  0.,   5.,   0.,  15.,   0.,  25.,   0.,  35.,   0.,  45.,   0.,\n",
       "         55.,   0.,  65.,   0.,  75.,   0.,  85.,   0.,  95.,   0.],\n",
       "       [  0.,   0.,   2.,   0.,   4.,   0.,   6.,   0.,   8.,   0.,  10.,\n",
       "          0.,  12.,   0.,  14.,   0.,  16.,   0.,  18.,   0.,  20.],\n",
       "       [  0.,   5.,   0.,  15.,   0.,  25.,   0.,  35.,   0.,  45.,   0.,\n",
       "         55.,   0.,  65.,   0.,  75.,   0.,  85.,   0.,  95.,   0.],\n",
       "       [  0.,   0.,   2.,   0.,   4.,   0.,   6.,   0.,   8.,   0.,  10.,\n",
       "          0.,  12.,   0.,  14.,   0.,  16.,   0.,  18.,   0.,  20.],\n",
       "       [  0.,   5.,   0.,  15.,   0.,  25.,   0.,  35.,   0.,  45.,   0.,\n",
       "         55.,   0.,  65.,   0.,  75.,   0.,  85.,   0.,  95.,   0.],\n",
       "       [  0.,   0.,   2.,   0.,   4.,   0.,   6.,   0.,   8.,   0.,  10.,\n",
       "          0.,  12.,   0.,  14.,   0.,  16.,   0.,  18.,   0.,  20.],\n",
       "       [  0.,   5.,   0.,  15.,   0.,  25.,   0.,  35.,   0.,  45.,   0.,\n",
       "         55.,   0.,  65.,   0.,  75.,   0.,  85.,   0.,  95.,   0.],\n",
       "       [  0.,   0.,   2.,   0.,   4.,   0.,   6.,   0.,   8.,   0.,  10.,\n",
       "          0.,  12.,   0.,  14.,   0.,  16.,   0.,  18.,   0.,  20.],\n",
       "       [  0.,   5.,   0.,  15.,   0.,  25.,   0.,  35.,   0.,  45.,   0.,\n",
       "         55.,   0.,  65.,   0.,  75.,   0.,  85.,   0.,  95.,   0.],\n",
       "       [  0.,   0.,   2.,   0.,   4.,   0.,   6.,   0.,   8.,   0.,  10.,\n",
       "          0.,  12.,   0.,  14.,   0.,  16.,   0.,  18.,   0.,  20.],\n",
       "       [  0.,   5.,   0.,  15.,   0.,  25.,   0.,  35.,   0.,  45.,   0.,\n",
       "         55.,   0.,  65.,   0.,  75.,   0.,  85.,   0.,  95.,   0.],\n",
       "       [  0.,   0.,   2.,   0.,   4.,   0.,   6.,   0.,   8.,   0.,  10.,\n",
       "          0.,  12.,   0.,  14.,   0.,  16.,   0.,  18.,   0.,  20.]])"
      ]
     },
     "execution_count": 33,
     "metadata": {},
     "output_type": "execute_result"
    }
   ],
   "source": [
    "values_2d_for_filter_with_nan"
   ]
  },
  {
   "cell_type": "code",
   "execution_count": 40,
   "metadata": {
    "collapsed": false
   },
   "outputs": [
    {
     "name": "stdout",
     "output_type": "stream",
     "text": [
      "[[  1.54545455   1.72727273   2.78787879   3.03030303   4.39393939   4.65\n",
      "    6.15         6.45         7.95         8.25         9.75        10.05\n",
      "   11.55        11.85        13.35        13.65        12.          11.64\n",
      "    9.69         9.27         7.02      ]\n",
      " [  1.60606061   1.84848485   2.90909091   3.23232323   4.5959596    4.95\n",
      "    6.45         6.85         8.35         8.75        10.25        10.65\n",
      "   12.15        12.55        14.05        14.45        12.8         12.32\n",
      "   10.37         9.81         7.56      ]\n",
      " [  2.06060606   2.3030303    3.71717172   4.04040404   5.85858586   6.2\n",
      "    8.2          8.6         10.6         11.          13.          13.4\n",
      "   15.4         15.8         17.8         18.2         16.          15.52\n",
      "   12.92        12.36         9.36      ]\n",
      " [  2.12121212   2.42424242   3.83838384   4.24242424   6.06060606   6.5\n",
      "    8.5          9.          11.          11.5         13.5         14.\n",
      "   16.          16.5         18.5         19.          16.8         16.2\n",
      "   13.6         12.9          9.9       ]\n",
      " [  2.57575758   2.87878788   4.64646465   5.05050505   7.32323232   7.75\n",
      "   10.25        10.75        13.25        13.75        16.25        16.75\n",
      "   19.25        19.75        22.25        22.75        20.          19.4\n",
      "   16.15        15.45        11.7       ]\n",
      " [  2.55         2.85         4.6          5.           7.25         7.75\n",
      "   10.25        10.75        13.25        13.75        16.25        16.75\n",
      "   19.25        19.75        22.25        22.75        20.          19.4\n",
      "   16.15        15.45        11.7       ]\n",
      " [  2.55         2.85         4.6          5.           7.25         7.75\n",
      "   10.25        10.75        13.25        13.75        16.25        16.75\n",
      "   19.25        19.75        22.25        22.75        20.          19.4\n",
      "   16.15        15.45        11.7       ]\n",
      " [  2.55         2.85         4.6          5.           7.25         7.75\n",
      "   10.25        10.75        13.25        13.75        16.25        16.75\n",
      "   19.25        19.75        22.25        22.75        20.          19.4\n",
      "   16.15        15.45        11.7       ]\n",
      " [  2.55         2.85         4.6          5.           7.25         7.75\n",
      "   10.25        10.75        13.25        13.75        16.25        16.75\n",
      "   19.25        19.75        22.25        22.75        20.          19.4\n",
      "   16.15        15.45        11.7       ]\n",
      " [  2.55         2.85         4.6          5.           7.25         7.75\n",
      "   10.25        10.75        13.25        13.75        16.25        16.75\n",
      "   19.25        19.75        22.25        22.75        20.          19.4\n",
      "   16.15        15.45        11.7       ]\n",
      " [  2.55         2.85         4.6          5.           7.25         7.75\n",
      "   10.25        10.75        13.25        13.75        16.25        16.75\n",
      "   19.25        19.75        22.25        22.75        20.          19.4\n",
      "   16.15        15.45        11.7       ]\n",
      " [  2.55         2.85         4.6          5.           7.25         7.75\n",
      "   10.25        10.75        13.25        13.75        16.25        16.75\n",
      "   19.25        19.75        22.25        22.75        20.          19.4\n",
      "   16.15        15.45        11.7       ]\n",
      " [  2.55         2.85         4.6          5.           7.25         7.75\n",
      "   10.25        10.75        13.25        13.75        16.25        16.75\n",
      "   19.25        19.75        22.25        22.75        20.          19.4\n",
      "   16.15        15.45        11.7       ]\n",
      " [  2.55         2.85         4.6          5.           7.25         7.75\n",
      "   10.25        10.75        13.25        13.75        16.25        16.75\n",
      "   19.25        19.75        22.25        22.75        20.          19.4\n",
      "   16.15        15.45        11.7       ]\n",
      " [  2.55         2.85         4.6          5.           7.25         7.75\n",
      "   10.25        10.75        13.25        13.75        16.25        16.75\n",
      "   19.25        19.75        22.25        22.75        20.          19.4\n",
      "   16.15        15.45        11.7       ]\n",
      " [  2.55         2.85         4.6          5.           7.25         7.75\n",
      "   10.25        10.75        13.25        13.75        16.25        16.75\n",
      "   19.25        19.75        22.25        22.75        20.          19.4\n",
      "   16.15        15.45        11.7       ]\n",
      " [  2.1          2.4          3.8          4.2          6.           6.5\n",
      "    8.5          9.          11.          11.5         13.5         14.\n",
      "   16.          16.5         18.5         19.          16.8         16.2\n",
      "   13.6         12.9          9.9       ]\n",
      " [  2.04         2.28         3.68         4.           5.8          6.2\n",
      "    8.2          8.6         10.6         11.          13.          13.4\n",
      "   15.4         15.8         17.8         18.2         16.          15.52\n",
      "   12.92        12.36         9.36      ]\n",
      " [  1.59         1.83         2.88         3.2          4.55         4.95\n",
      "    6.45         6.85         8.35         8.75        10.25        10.65\n",
      "   12.15        12.55        14.05        14.45        12.8         12.32\n",
      "   10.37         9.81         7.56      ]\n",
      " [  1.53         1.71         2.76         3.           4.35         4.65\n",
      "    6.15         6.45         7.95         8.25         9.75        10.05\n",
      "   11.55        11.85        13.35        13.65        12.          11.64\n",
      "    9.69         9.27         7.02      ]\n",
      " [  1.08         1.26         1.96         2.2          3.1          3.4\n",
      "    4.4          4.7          5.7          6.           7.           7.3\n",
      "    8.3          8.6          9.6          9.9          8.8          8.44\n",
      "    7.14         6.72         5.22      ]]\n"
     ]
    }
   ],
   "source": [
    "smoothed_with_nan = convolve_fft(values_2d_for_filter_with_nan, boxcar, interpolate_nan=True)\n",
    "print smoothed_with_nan"
   ]
  },
  {
   "cell_type": "code",
   "execution_count": 41,
   "metadata": {
    "collapsed": false
   },
   "outputs": [
    {
     "data": {
      "text/plain": [
       "<matplotlib.contour.QuadContourSet at 0x113fe8790>"
      ]
     },
     "execution_count": 41,
     "metadata": {},
     "output_type": "execute_result"
    },
    {
     "data": {
      "image/png": "[encoded data removed]",
      "text/plain": [
       "<matplotlib.figure.Figure at 0x1128b2c10>"
      ]
     },
     "metadata": {},
     "output_type": "display_data"
    }
   ],
   "source": [
    "smoothed_with_nan = convolve_fft(values_2d_for_filter_with_nan, boxcar, interpolate_nan=True)\n",
    "plt.contourf(x_2d_for_filter, y_2d_for_filter,\n",
    "             smoothed_with_nan)"
   ]
  },
  {
   "cell_type": "code",
   "execution_count": 42,
   "metadata": {
    "collapsed": false
   },
   "outputs": [
    {
     "data": {
      "text/plain": [
       "<matplotlib.contour.QuadContourSet at 0x114217fd0>"
      ]
     },
     "execution_count": 42,
     "metadata": {},
     "output_type": "execute_result"
    },
    {
     "data": {
      "image/png": "[encoded data removed]",
      "text/plain": [
       "<matplotlib.figure.Figure at 0x113f870d0>"
      ]
     },
     "metadata": {},
     "output_type": "display_data"
    }
   ],
   "source": [
    "smoothed_with_nan = convolve_fft(values_2d_for_filter_with_nan, boxcar)\n",
    "plt.contourf(x_2d_for_filter, y_2d_for_filter,\n",
    "             smoothed_with_nan)"
   ]
  },
  {
   "cell_type": "markdown",
   "metadata": {},
   "source": [
    "# How does visit plot a 3D mesh "
   ]
  },
  {
   "cell_type": "code",
   "execution_count": 80,
   "metadata": {
    "collapsed": false
   },
   "outputs": [],
   "source": [
    "x_3d = np.linspace(0, 1, 2)"
   ]
  },
  {
   "cell_type": "code",
   "execution_count": 82,
   "metadata": {
    "collapsed": false
   },
   "outputs": [
    {
     "data": {
      "text/plain": [
       "array([ 0.,  1.])"
      ]
     },
     "execution_count": 82,
     "metadata": {},
     "output_type": "execute_result"
    }
   ],
   "source": [
    "x_3d"
   ]
  },
  {
   "cell_type": "code",
   "execution_count": 83,
   "metadata": {
    "collapsed": false
   },
   "outputs": [],
   "source": [
    "y_3d = np.linspace(10, 11, 2)"
   ]
  },
  {
   "cell_type": "code",
   "execution_count": 84,
   "metadata": {
    "collapsed": false
   },
   "outputs": [
    {
     "data": {
      "text/plain": [
       "array([ 10.,  11.])"
      ]
     },
     "execution_count": 84,
     "metadata": {},
     "output_type": "execute_result"
    }
   ],
   "source": [
    "y_3d"
   ]
  },
  {
   "cell_type": "code",
   "execution_count": 85,
   "metadata": {
    "collapsed": true
   },
   "outputs": [],
   "source": [
    "z_3d = np.linspace(20, 21, 2)"
   ]
  },
  {
   "cell_type": "code",
   "execution_count": 86,
   "metadata": {
    "collapsed": false
   },
   "outputs": [
    {
     "data": {
      "text/plain": [
       "array([ 20.,  21.])"
      ]
     },
     "execution_count": 86,
     "metadata": {},
     "output_type": "execute_result"
    }
   ],
   "source": [
    "z_3d"
   ]
  },
  {
   "cell_type": "code",
   "execution_count": 87,
   "metadata": {
    "collapsed": true
   },
   "outputs": [],
   "source": [
    "mesh_3d = np.meshgrid(x, y, z)"
   ]
  },
  {
   "cell_type": "code",
   "execution_count": 88,
   "metadata": {
    "collapsed": false
   },
   "outputs": [],
   "source": [
    "values_3d = np.asarray([[[0, 1], \n",
    "                         [2, 3]], \n",
    "                        [[4, 5], \n",
    "                         [6, 7]]])"
   ]
  },
  {
   "cell_type": "code",
   "execution_count": 94,
   "metadata": {
    "collapsed": false
   },
   "outputs": [
    {
     "data": {
      "text/plain": [
       "array([0, 1, 2, 3, 4, 5, 6, 7])"
      ]
     },
     "execution_count": 94,
     "metadata": {},
     "output_type": "execute_result"
    }
   ],
   "source": [
    "values_3d.ravel()"
   ]
  },
  {
   "cell_type": "code",
   "execution_count": 104,
   "metadata": {
    "collapsed": false
   },
   "outputs": [
    {
     "data": {
      "text/plain": [
       "array([0, 2, 4, 6, 1, 3, 5, 7])"
      ]
     },
     "execution_count": 104,
     "metadata": {},
     "output_type": "execute_result"
    }
   ],
   "source": [
    "np.swapaxes(np.swapaxes(values_3d, 1, 2), 0, 1).ravel()"
   ]
  },
  {
   "cell_type": "code",
   "execution_count": 96,
   "metadata": {
    "collapsed": false
   },
   "outputs": [
    {
     "data": {
      "text/plain": [
       "<matplotlib.colorbar.Colorbar at 0x111f12310>"
      ]
     },
     "execution_count": 96,
     "metadata": {},
     "output_type": "execute_result"
    },
    {
     "data": {
      "image/png": "[encoded data removed]",
      "text/plain": [
       "<matplotlib.figure.Figure at 0x1113d3210>"
      ]
     },
     "metadata": {},
     "output_type": "display_data"
    }
   ],
   "source": [
    "plt.contourf(x_3d, y_3d,\n",
    "             values_3d[:,:,0])\n",
    "plt.colorbar()"
   ]
  },
  {
   "cell_type": "code",
   "execution_count": 93,
   "metadata": {
    "collapsed": false
   },
   "outputs": [
    {
     "data": {
      "text/plain": [
       "<matplotlib.colorbar.Colorbar at 0x1118b6810>"
      ]
     },
     "execution_count": 93,
     "metadata": {},
     "output_type": "execute_result"
    },
    {
     "data": {
      "image/png": "[encoded data removed]",
      "text/plain": [
       "<matplotlib.figure.Figure at 0x11074bf50>"
      ]
     },
     "metadata": {},
     "output_type": "display_data"
    }
   ],
   "source": [
    "plt.contourf(mesh_3d[0][:, :, 0], mesh_3d[1][:, :, 0],\n",
    "             values_3d[:, :, 0])\n",
    "plt.colorbar()"
   ]
  },
  {
   "cell_type": "code",
   "execution_count": 110,
   "metadata": {
    "collapsed": false
   },
   "outputs": [],
   "source": [
    "vars_visit = (('test', 1, 1, tuple(np.swapaxes(np.swapaxes(values_3d, 1, 2), 0, 1).ravel())),)\n",
    "visit_writer.WriteRectilinearMesh('test_visit_ordering_3d.vtk', 1, tuple(x), tuple(y), tuple(z), vars_visit)"
   ]
  },
  {
   "cell_type": "code",
   "execution_count": null,
   "metadata": {
    "collapsed": true
   },
   "outputs": [],
   "source": []
  }
 ],
 "metadata": {
  "kernelspec": {
   "display_name": "Python 2",
   "language": "python",
   "name": "python2"
  },
  "language_info": {
   "codemirror_mode": {
    "name": "ipython",
    "version": 2
   },
   "file_extension": ".py",
   "mimetype": "text/x-python",
   "name": "python",
   "nbconvert_exporter": "python",
   "pygments_lexer": "ipython2",
   "version": "2.7.11"
  }
 },
 "nbformat": 4,
 "nbformat_minor": 0
}
