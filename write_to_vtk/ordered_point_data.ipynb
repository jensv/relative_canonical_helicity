{
 "cells": [
  {
   "cell_type": "code",
   "execution_count": 2,
   "metadata": {
    "collapsed": true
   },
   "outputs": [],
   "source": [
    "import numpy as np\n",
    "\n",
    "%matplotlib inline\n",
    "import matplotlib.pyplot as plt\n",
    "import seaborn as sns\n",
    "sns.set_context('poster')\n",
    "sns.set_style('whitegrid')\n",
    "\n",
    "import sys"
   ]
  },
  {
   "cell_type": "code",
   "execution_count": 3,
   "metadata": {
    "collapsed": false
   },
   "outputs": [
    {
     "data": {
      "text/plain": [
       "<module 'structured_3d_vtk' from 'structured_3d_vtk.pyc'>"
      ]
     },
     "execution_count": 3,
     "metadata": {},
     "output_type": "execute_result"
    }
   ],
   "source": [
    "sys.path.append('../../read_from_sql/')\n",
    "import read_from_sql\n",
    "sys.path.append('/Users/vonderlinden2/rsx_analysis/mach_probe_analysis')\n",
    "sys.path.append('/Users/vonderlinden2/rsx_analysis/time_alignment/source/')\n",
    "import ion_current_to_mach_number as ic_to_mach\n",
    "reload(ic_to_mach)\n",
    "sys.path.append('/Users/vonderlinden2/rsx_analysis/time_alignment/source')\n",
    "import absolute_times as at\n",
    "\n",
    "import structured_3d_vtk as struc_3d\n",
    "reload(struc_3d)"
   ]
  },
  {
   "cell_type": "markdown",
   "metadata": {},
   "source": [
    "# Order $B_x$ measurements"
   ]
  },
  {
   "cell_type": "code",
   "execution_count": 4,
   "metadata": {
    "collapsed": true
   },
   "outputs": [],
   "source": [
    "bx_measurements = struc_3d.read_idl('bx')\n",
    "\n",
    "for plane in [0.249, 0.302, 0.357, 0.416]:\n",
    "    bx_measurements[plane] = struc_3d.average_duplicate_points(bx_measurements[plane])"
   ]
  },
  {
   "cell_type": "code",
   "execution_count": 13,
   "metadata": {
    "collapsed": false
   },
   "outputs": [],
   "source": [
    "x_index_sort = np.argsort(bx_measurements[0.249]['x_out'])"
   ]
  },
  {
   "cell_type": "code",
   "execution_count": 30,
   "metadata": {
    "collapsed": false
   },
   "outputs": [],
   "source": [
    "bx_x_sorted = bx_measurements[0.249]['x_out'][x_index_sort]\n",
    "bx_y_sorted = bx_measurements[0.249]['y_out'][x_index_sort]"
   ]
  },
  {
   "cell_type": "code",
   "execution_count": 31,
   "metadata": {
    "collapsed": false
   },
   "outputs": [],
   "source": [
    "x_coordinate_counts = np.unique(bx_x_sorted, return_counts=True)[1]"
   ]
  },
  {
   "cell_type": "code",
   "execution_count": 32,
   "metadata": {
    "collapsed": false
   },
   "outputs": [],
   "source": [
    "bx_x_rowed = []\n",
    "bx_y_rowed = []\n",
    "position = 0\n",
    "for count in x_coordinate_counts:\n",
    "    bx_x_rowed.append(bx_x_sorted[position:position+count])\n",
    "    bx_y_rowed.append(bx_y_sorted[position:position+count])\n",
    "    position += count"
   ]
  },
  {
   "cell_type": "code",
   "execution_count": 34,
   "metadata": {
    "collapsed": false
   },
   "outputs": [
    {
     "data": {
      "text/plain": [
       "[array([-0.032, -0.032, -0.032, -0.032, -0.032, -0.032, -0.032, -0.032,\n",
       "        -0.032, -0.032, -0.032, -0.032, -0.032, -0.032, -0.032, -0.032,\n",
       "        -0.032, -0.032, -0.032, -0.032, -0.032, -0.032, -0.032, -0.032,\n",
       "        -0.032, -0.032, -0.032, -0.032, -0.032, -0.032, -0.032, -0.032,\n",
       "        -0.032, -0.032, -0.032, -0.032, -0.032, -0.032, -0.032, -0.032,\n",
       "        -0.032, -0.032, -0.032, -0.032, -0.032, -0.032, -0.032, -0.032,\n",
       "        -0.032]),\n",
       " array([-0.027, -0.027, -0.027, -0.027, -0.027, -0.027, -0.027, -0.027,\n",
       "        -0.027, -0.027, -0.027, -0.027, -0.027, -0.027, -0.027, -0.027,\n",
       "        -0.027, -0.027, -0.027, -0.027, -0.027, -0.027, -0.027, -0.027]),\n",
       " array([-0.027, -0.027, -0.027, -0.027, -0.027, -0.027, -0.027, -0.027,\n",
       "        -0.027, -0.027, -0.027, -0.027, -0.027, -0.027, -0.027, -0.027,\n",
       "        -0.027, -0.027, -0.027, -0.027, -0.027, -0.027, -0.027, -0.027,\n",
       "        -0.027, -0.027, -0.027, -0.027, -0.027, -0.027, -0.027, -0.027]),\n",
       " array([-0.024, -0.024, -0.024, -0.024, -0.024, -0.024, -0.024, -0.024,\n",
       "        -0.024, -0.024, -0.024, -0.024, -0.024, -0.024, -0.024, -0.024]),\n",
       " array([-0.024, -0.024, -0.024, -0.024, -0.024, -0.024, -0.024, -0.024,\n",
       "        -0.024, -0.024, -0.024, -0.024, -0.024, -0.024, -0.024, -0.024,\n",
       "        -0.024, -0.024, -0.024, -0.024, -0.024, -0.024, -0.024, -0.024]),\n",
       " array([-0.02, -0.02, -0.02, -0.02, -0.02, -0.02, -0.02, -0.02, -0.02,\n",
       "        -0.02, -0.02, -0.02, -0.02, -0.02, -0.02, -0.02]),\n",
       " array([-0.02, -0.02, -0.02, -0.02, -0.02, -0.02, -0.02, -0.02, -0.02,\n",
       "        -0.02, -0.02, -0.02, -0.02, -0.02, -0.02, -0.02, -0.02, -0.02,\n",
       "        -0.02, -0.02, -0.02, -0.02, -0.02, -0.02]),\n",
       " array([-0.017, -0.017, -0.017, -0.017, -0.017, -0.017, -0.017, -0.017,\n",
       "        -0.017, -0.017, -0.017, -0.017, -0.017, -0.017, -0.017, -0.017]),\n",
       " array([-0.017, -0.017, -0.017, -0.017, -0.017, -0.017, -0.017, -0.017,\n",
       "        -0.017, -0.017, -0.017, -0.017, -0.017, -0.017, -0.017, -0.017,\n",
       "        -0.017, -0.017, -0.017, -0.017, -0.017, -0.017, -0.017, -0.017]),\n",
       " array([-0.013, -0.013, -0.013, -0.013, -0.013, -0.013, -0.013, -0.013]),\n",
       " array([-0.013, -0.013, -0.013, -0.013, -0.013, -0.013, -0.013, -0.013,\n",
       "        -0.013, -0.013, -0.013, -0.013, -0.013, -0.013, -0.013, -0.013,\n",
       "        -0.013, -0.013, -0.013, -0.013, -0.013, -0.013, -0.013, -0.013]),\n",
       " array([-0.013, -0.013, -0.013, -0.013, -0.013, -0.013, -0.013, -0.013]),\n",
       " array([-0.01, -0.01, -0.01, -0.01, -0.01, -0.01, -0.01, -0.01]),\n",
       " array([-0.01, -0.01, -0.01, -0.01, -0.01, -0.01, -0.01, -0.01, -0.01,\n",
       "        -0.01, -0.01, -0.01, -0.01, -0.01, -0.01, -0.01, -0.01, -0.01,\n",
       "        -0.01, -0.01, -0.01, -0.01, -0.01, -0.01]),\n",
       " array([-0.01, -0.01, -0.01, -0.01, -0.01, -0.01, -0.01, -0.01]),\n",
       " array([-0.004, -0.004, -0.004, -0.004, -0.004, -0.004, -0.004, -0.004,\n",
       "        -0.004, -0.004, -0.004, -0.004, -0.004, -0.004, -0.004, -0.004]),\n",
       " array([-0.004, -0.004, -0.004, -0.004, -0.004, -0.004, -0.004, -0.004]),\n",
       " array([-0.004, -0.004, -0.004, -0.004, -0.004, -0.004, -0.004, -0.004,\n",
       "        -0.004, -0.004, -0.004, -0.004, -0.004, -0.004, -0.004, -0.004]),\n",
       " array([ 0.001,  0.001,  0.001,  0.001,  0.001,  0.001,  0.001,  0.001]),\n",
       " array([ 0.001,  0.001,  0.001,  0.001,  0.001,  0.001,  0.001,  0.001]),\n",
       " array([ 0.001,  0.001,  0.001,  0.001,  0.001,  0.001,  0.001,  0.001]),\n",
       " array([ 0.001,  0.001,  0.001,  0.001,  0.001,  0.001,  0.001,  0.001]),\n",
       " array([ 0.001,  0.001,  0.001,  0.001,  0.001,  0.001,  0.001,  0.001]),\n",
       " array([ 0.006,  0.006,  0.006,  0.006,  0.006,  0.006,  0.006,  0.006,\n",
       "         0.006,  0.006,  0.006,  0.006,  0.006,  0.006]),\n",
       " array([ 0.006,  0.006,  0.006,  0.006,  0.006,  0.006,  0.006]),\n",
       " array([ 0.006,  0.006,  0.006,  0.006,  0.006,  0.006,  0.006,  0.006,\n",
       "         0.006,  0.006,  0.006,  0.006,  0.006,  0.006]),\n",
       " array([ 0.011,  0.011,  0.011,  0.011,  0.011,  0.011,  0.011,  0.011]),\n",
       " array([ 0.011,  0.011,  0.011,  0.011,  0.011,  0.011,  0.011,  0.011,\n",
       "         0.011,  0.011,  0.011,  0.011,  0.011,  0.011,  0.011,  0.011,\n",
       "         0.011,  0.011,  0.011,  0.011,  0.011,  0.011,  0.011,  0.011]),\n",
       " array([ 0.011,  0.011,  0.011,  0.011,  0.011,  0.011,  0.011,  0.011]),\n",
       " array([ 0.018,  0.018,  0.018,  0.018,  0.018,  0.018,  0.018,  0.018,\n",
       "         0.018,  0.018,  0.018,  0.018,  0.018,  0.018,  0.018,  0.018]),\n",
       " array([ 0.018,  0.018,  0.018,  0.018,  0.018,  0.018,  0.018,  0.018,\n",
       "         0.018,  0.018,  0.018,  0.018,  0.018,  0.018,  0.018,  0.018,\n",
       "         0.018,  0.018,  0.018,  0.018,  0.018,  0.018,  0.018,  0.018]),\n",
       " array([ 0.025,  0.025,  0.025,  0.025,  0.025,  0.025,  0.025,  0.025,\n",
       "         0.025,  0.025,  0.025,  0.025,  0.025,  0.025,  0.025,  0.025]),\n",
       " array([ 0.025,  0.025,  0.025,  0.025,  0.025,  0.025,  0.025,  0.025,\n",
       "         0.025,  0.025,  0.025,  0.025,  0.025,  0.025,  0.025,  0.025,\n",
       "         0.025,  0.025,  0.025,  0.025,  0.025,  0.025,  0.025,  0.025])]"
      ]
     },
     "execution_count": 34,
     "metadata": {},
     "output_type": "execute_result"
    }
   ],
   "source": [
    "bx_x_rowed"
   ]
  },
  {
   "cell_type": "code",
   "execution_count": 35,
   "metadata": {
    "collapsed": false
   },
   "outputs": [
    {
     "data": {
      "text/plain": [
       "[array([ 0.015,  0.009,  0.018, -0.012, -0.003, -0.015,  0.018, -0.024,\n",
       "        -0.057,  0.012,  0.007, -0.039,  0.003,  0.028, -0.051, -0.027,\n",
       "         0.013, -0.009, -0.036, -0.009, -0.06 , -0.03 ,  0.025,  0.012,\n",
       "         0.006,  0.031, -0.039,  0.006,  0.022,  0.006,  0.003,  0.024,\n",
       "        -0.054, -0.045, -0.048, -0.054,  0.019,  0.016,  0.015,  0.   ,\n",
       "         0.01 ,  0.004, -0.006, -0.033,  0.009, -0.042,  0.003,  0.021,\n",
       "        -0.006]),\n",
       " array([-0.016, -0.025, -0.025, -0.05 , -0.01 , -0.019,  0.017, -0.028,\n",
       "        -0.013, -0.031,  0.011, -0.016,  0.023,  0.017,  0.008, -0.019,\n",
       "        -0.053, -0.056,  0.02 ,  0.014,  0.014, -0.047, -0.022, -0.007]),\n",
       " array([ 0.026,  0.008,  0.041,  0.026, -0.041, -0.007, -0.004,  0.038,\n",
       "         0.005, -0.013, -0.035,  0.029,  0.029, -0.01 ,  0.005,  0.002,\n",
       "         0.002, -0.044,  0.02 , -0.001,  0.023,  0.032, -0.004,  0.032,\n",
       "        -0.029,  0.011, -0.038, -0.016, -0.019, -0.032, -0.001,  0.035]),\n",
       " array([-0.067     , -0.07      ,  0.014     ,  0.023     , -0.043     ,\n",
       "        -0.007     , -0.04      ,  0.017     , -0.073     , -0.013     ,\n",
       "        -0.034     , -0.07600001, -0.037     ,  0.02      , -0.01      ,\n",
       "        -0.016     ]),\n",
       " array([ 0.002,  0.011, -0.049, -0.052, -0.004,  0.005, -0.031, -0.028,\n",
       "        -0.055, -0.019,  0.041,  0.035, -0.016,  0.038, -0.001, -0.058,\n",
       "        -0.022,  0.026,  0.029, -0.064,  0.032, -0.061, -0.025,  0.008]),\n",
       " array([-0.007     , -0.046     , -0.073     ,  0.02      , -0.016     ,\n",
       "        -0.04      , -0.043     , -0.067     , -0.07600001,  0.023     ,\n",
       "         0.014     , -0.01      , -0.013     , -0.07      , -0.037     ,\n",
       "         0.017     ]),\n",
       " array([ 0.005,  0.026,  0.011, -0.019, -0.055, -0.031, -0.022, -0.064,\n",
       "         0.041, -0.028, -0.034, -0.058,  0.038,  0.032,  0.002,  0.008,\n",
       "        -0.004,  0.035, -0.001, -0.049, -0.025,  0.029, -0.052, -0.061]),\n",
       " array([-0.037     , -0.07      ,  0.02      , -0.07600001, -0.046     ,\n",
       "        -0.016     ,  0.014     , -0.013     ,  0.017     ,  0.023     ,\n",
       "        -0.073     , -0.01      , -0.007     , -0.067     , -0.043     ,\n",
       "        -0.04      ]),\n",
       " array([-0.001, -0.034,  0.041, -0.022, -0.028, -0.004,  0.002, -0.019,\n",
       "        -0.025, -0.052, -0.061, -0.058,  0.008,  0.029, -0.049,  0.032,\n",
       "         0.035, -0.055,  0.038,  0.026, -0.064,  0.011,  0.005, -0.031]),\n",
       " array([-0.073     , -0.046     , -0.043     ,  0.017     , -0.013     ,\n",
       "         0.014     , -0.016     , -0.07600001]),\n",
       " array([-0.004, -0.001, -0.037,  0.023, -0.025,  0.026, -0.064,  0.005,\n",
       "        -0.031, -0.034, -0.058, -0.01 ,  0.029, -0.028, -0.07 , -0.007,\n",
       "         0.035, -0.055, -0.04 , -0.061, -0.067,  0.002,  0.02 ,  0.032]),\n",
       " array([ 0.011,  0.038,  0.008,  0.041, -0.049, -0.022, -0.052, -0.019]),\n",
       " array([-0.07600001,  0.014     , -0.016     , -0.073     , -0.013     ,\n",
       "        -0.046     ,  0.017     , -0.043     ]),\n",
       " array([-0.067, -0.034, -0.037,  0.005, -0.04 , -0.058,  0.026,  0.002,\n",
       "        -0.01 ,  0.023,  0.029,  0.02 , -0.055, -0.025, -0.07 ,  0.035,\n",
       "        -0.064, -0.007, -0.028, -0.031, -0.001, -0.061, -0.004,  0.032]),\n",
       " array([ 0.011, -0.052,  0.038, -0.022, -0.019, -0.049,  0.008,  0.041]),\n",
       " array([ 0.014     , -0.016     , -0.013     , -0.07600001, -0.043     ,\n",
       "        -0.073     , -0.046     , -0.007     , -0.067     , -0.037     ,\n",
       "        -0.07      ,  0.017     ,  0.023     ,  0.02      , -0.04      ,\n",
       "        -0.01      ]),\n",
       " array([-0.061, -0.001, -0.004,  0.029, -0.064,  0.026, -0.034, -0.031]),\n",
       " array([-0.022,  0.032,  0.008, -0.052,  0.002,  0.011, -0.019, -0.028,\n",
       "        -0.055,  0.041,  0.005,  0.035, -0.049,  0.038, -0.025, -0.058]),\n",
       " array([-0.07600001, -0.013     , -0.073     , -0.046     ,  0.014     ,\n",
       "         0.017     , -0.043     , -0.016     ]),\n",
       " array([-0.04 ,  0.02 , -0.01 , -0.07 ,  0.023, -0.067, -0.007, -0.037]),\n",
       " array([ 0.029, -0.061, -0.001, -0.031, -0.004, -0.034,  0.026, -0.064]),\n",
       " array([-0.028,  0.005,  0.032, -0.055, -0.058,  0.035,  0.002, -0.025]),\n",
       " array([ 0.038, -0.052,  0.011,  0.041,  0.008, -0.022, -0.049, -0.019]),\n",
       " array([-0.046     , -0.073     , -0.043     , -0.04      , -0.067     ,\n",
       "         0.023     , -0.016     ,  0.017     , -0.013     , -0.07600001,\n",
       "        -0.01      , -0.007     , -0.037     , -0.07      ]),\n",
       " array([-0.001, -0.064, -0.061, -0.034, -0.004, -0.031,  0.029]),\n",
       " array([-0.022, -0.025,  0.011, -0.028, -0.055,  0.041, -0.058, -0.049,\n",
       "         0.005,  0.008,  0.002, -0.019, -0.052,  0.035]),\n",
       " array([-0.046     , -0.07600001,  0.017     , -0.013     , -0.016     ,\n",
       "        -0.073     , -0.043     ,  0.014     ]),\n",
       " array([ 0.023, -0.04 , -0.031, -0.07 ,  0.035, -0.055, -0.007, -0.004,\n",
       "        -0.061,  0.026, -0.028, -0.001, -0.058, -0.064, -0.067,  0.005,\n",
       "         0.029, -0.034,  0.02 ,  0.002, -0.037, -0.01 ,  0.032, -0.025]),\n",
       " array([-0.019,  0.008,  0.011, -0.049, -0.052,  0.038, -0.022,  0.041]),\n",
       " array([-0.016     ,  0.014     , -0.067     , -0.007     ,  0.02      ,\n",
       "        -0.04      , -0.046     ,  0.017     , -0.037     , -0.07      ,\n",
       "        -0.073     , -0.013     , -0.01      , -0.07600001,  0.023     ,\n",
       "        -0.043     ]),\n",
       " array([ 0.029, -0.028,  0.002, -0.022, -0.034, -0.061, -0.004,  0.038,\n",
       "         0.011,  0.008, -0.058, -0.031, -0.049, -0.019,  0.041,  0.035,\n",
       "        -0.064, -0.001, -0.052, -0.025,  0.005,  0.032, -0.055,  0.026]),\n",
       " array([ 0.023     , -0.046     , -0.07      ,  0.017     , -0.037     ,\n",
       "        -0.067     ,  0.02      ,  0.014     , -0.016     , -0.007     ,\n",
       "        -0.073     , -0.043     , -0.04      , -0.07600001, -0.01      ,\n",
       "        -0.013     ]),\n",
       " array([-0.001,  0.035, -0.031, -0.004,  0.011, -0.028,  0.008,  0.026,\n",
       "        -0.055, -0.034,  0.002, -0.049, -0.064,  0.029,  0.041, -0.058,\n",
       "        -0.061,  0.005, -0.019, -0.022, -0.052, -0.025,  0.038,  0.032])]"
      ]
     },
     "execution_count": 35,
     "metadata": {},
     "output_type": "execute_result"
    }
   ],
   "source": [
    "bx_y_rowed"
   ]
  },
  {
   "cell_type": "code",
   "execution_count": 15,
   "metadata": {
    "collapsed": false,
    "scrolled": true
   },
   "outputs": [
    {
     "data": {
      "text/plain": [
       "array([ 0.015     ,  0.009     ,  0.018     , -0.012     , -0.003     ,\n",
       "       -0.015     ,  0.018     , -0.024     , -0.057     ,  0.012     ,\n",
       "        0.007     , -0.039     ,  0.003     ,  0.028     , -0.051     ,\n",
       "       -0.027     ,  0.013     , -0.009     , -0.036     , -0.009     ,\n",
       "       -0.06      , -0.03      ,  0.025     ,  0.012     ,  0.006     ,\n",
       "        0.031     , -0.039     ,  0.006     ,  0.022     ,  0.006     ,\n",
       "        0.003     ,  0.024     , -0.054     , -0.045     , -0.048     ,\n",
       "       -0.054     ,  0.019     ,  0.016     ,  0.015     ,  0.        ,\n",
       "        0.01      ,  0.004     , -0.006     , -0.033     ,  0.009     ,\n",
       "       -0.042     ,  0.003     ,  0.021     , -0.006     , -0.016     ,\n",
       "       -0.025     , -0.025     , -0.05      , -0.01      , -0.019     ,\n",
       "        0.017     , -0.028     , -0.013     , -0.031     ,  0.011     ,\n",
       "       -0.016     ,  0.023     ,  0.017     ,  0.008     , -0.019     ,\n",
       "       -0.053     , -0.056     ,  0.02      ,  0.014     ,  0.014     ,\n",
       "       -0.047     , -0.022     , -0.007     ,  0.026     ,  0.008     ,\n",
       "        0.041     ,  0.026     , -0.041     , -0.007     , -0.004     ,\n",
       "        0.038     ,  0.005     , -0.013     , -0.035     ,  0.029     ,\n",
       "        0.029     , -0.01      ,  0.005     ,  0.002     ,  0.002     ,\n",
       "       -0.044     ,  0.02      , -0.001     ,  0.023     ,  0.032     ,\n",
       "       -0.004     ,  0.032     , -0.029     ,  0.011     , -0.038     ,\n",
       "       -0.016     , -0.019     , -0.032     , -0.001     ,  0.035     ,\n",
       "       -0.067     , -0.07      ,  0.014     ,  0.023     , -0.043     ,\n",
       "       -0.007     , -0.04      ,  0.017     , -0.073     , -0.013     ,\n",
       "       -0.034     , -0.07600001, -0.037     ,  0.02      , -0.01      ,\n",
       "       -0.016     ,  0.002     ,  0.011     , -0.049     , -0.052     ,\n",
       "       -0.004     ,  0.005     , -0.031     , -0.028     , -0.055     ,\n",
       "       -0.019     ,  0.041     ,  0.035     , -0.016     ,  0.038     ,\n",
       "       -0.001     , -0.058     , -0.022     ,  0.026     ,  0.029     ,\n",
       "       -0.064     ,  0.032     , -0.061     , -0.025     ,  0.008     ,\n",
       "       -0.007     , -0.046     , -0.073     ,  0.02      , -0.016     ,\n",
       "       -0.04      , -0.043     , -0.067     , -0.07600001,  0.023     ,\n",
       "        0.014     , -0.01      , -0.013     , -0.07      , -0.037     ,\n",
       "        0.017     ,  0.005     ,  0.026     ,  0.011     , -0.019     ,\n",
       "       -0.055     , -0.031     , -0.022     , -0.064     ,  0.041     ,\n",
       "       -0.028     , -0.034     , -0.058     ,  0.038     ,  0.032     ,\n",
       "        0.002     ,  0.008     , -0.004     ,  0.035     , -0.001     ,\n",
       "       -0.049     , -0.025     ,  0.029     , -0.052     , -0.061     ,\n",
       "       -0.037     , -0.07      ,  0.02      , -0.07600001, -0.046     ,\n",
       "       -0.016     ,  0.014     , -0.013     ,  0.017     ,  0.023     ,\n",
       "       -0.073     , -0.01      , -0.007     , -0.067     , -0.043     ,\n",
       "       -0.04      , -0.001     , -0.034     ,  0.041     , -0.022     ,\n",
       "       -0.028     , -0.004     ,  0.002     , -0.019     , -0.025     ,\n",
       "       -0.052     , -0.061     , -0.058     ,  0.008     ,  0.029     ,\n",
       "       -0.049     ,  0.032     ,  0.035     , -0.055     ,  0.038     ,\n",
       "        0.026     , -0.064     ,  0.011     ,  0.005     , -0.031     ,\n",
       "       -0.073     , -0.046     , -0.043     ,  0.017     , -0.013     ,\n",
       "        0.014     , -0.016     , -0.07600001, -0.004     , -0.001     ,\n",
       "       -0.037     ,  0.023     , -0.025     ,  0.026     , -0.064     ,\n",
       "        0.005     , -0.031     , -0.034     , -0.058     , -0.01      ,\n",
       "        0.029     , -0.028     , -0.07      , -0.007     ,  0.035     ,\n",
       "       -0.055     , -0.04      , -0.061     , -0.067     ,  0.002     ,\n",
       "        0.02      ,  0.032     ,  0.011     ,  0.038     ,  0.008     ,\n",
       "        0.041     , -0.049     , -0.022     , -0.052     , -0.019     ,\n",
       "       -0.07600001,  0.014     , -0.016     , -0.073     , -0.013     ,\n",
       "       -0.046     ,  0.017     , -0.043     , -0.067     , -0.034     ,\n",
       "       -0.037     ,  0.005     , -0.04      , -0.058     ,  0.026     ,\n",
       "        0.002     , -0.01      ,  0.023     ,  0.029     ,  0.02      ,\n",
       "       -0.055     , -0.025     , -0.07      ,  0.035     , -0.064     ,\n",
       "       -0.007     , -0.028     , -0.031     , -0.001     , -0.061     ,\n",
       "       -0.004     ,  0.032     ,  0.011     , -0.052     ,  0.038     ,\n",
       "       -0.022     , -0.019     , -0.049     ,  0.008     ,  0.041     ,\n",
       "        0.014     , -0.016     , -0.013     , -0.07600001, -0.043     ,\n",
       "       -0.073     , -0.046     , -0.007     , -0.067     , -0.037     ,\n",
       "       -0.07      ,  0.017     ,  0.023     ,  0.02      , -0.04      ,\n",
       "       -0.01      , -0.061     , -0.001     , -0.004     ,  0.029     ,\n",
       "       -0.064     ,  0.026     , -0.034     , -0.031     , -0.022     ,\n",
       "        0.032     ,  0.008     , -0.052     ,  0.002     ,  0.011     ,\n",
       "       -0.019     , -0.028     , -0.055     ,  0.041     ,  0.005     ,\n",
       "        0.035     , -0.049     ,  0.038     , -0.025     , -0.058     ,\n",
       "       -0.07600001, -0.013     , -0.073     , -0.046     ,  0.014     ,\n",
       "        0.017     , -0.043     , -0.016     , -0.04      ,  0.02      ,\n",
       "       -0.01      , -0.07      ,  0.023     , -0.067     , -0.007     ,\n",
       "       -0.037     ,  0.029     , -0.061     , -0.001     , -0.031     ,\n",
       "       -0.004     , -0.034     ,  0.026     , -0.064     , -0.028     ,\n",
       "        0.005     ,  0.032     , -0.055     , -0.058     ,  0.035     ,\n",
       "        0.002     , -0.025     ,  0.038     , -0.052     ,  0.011     ,\n",
       "        0.041     ,  0.008     , -0.022     , -0.049     , -0.019     ,\n",
       "       -0.046     , -0.073     , -0.043     , -0.04      , -0.067     ,\n",
       "        0.023     , -0.016     ,  0.017     , -0.013     , -0.07600001,\n",
       "       -0.01      , -0.007     , -0.037     , -0.07      , -0.001     ,\n",
       "       -0.064     , -0.061     , -0.034     , -0.004     , -0.031     ,\n",
       "        0.029     , -0.022     , -0.025     ,  0.011     , -0.028     ,\n",
       "       -0.055     ,  0.041     , -0.058     , -0.049     ,  0.005     ,\n",
       "        0.008     ,  0.002     , -0.019     , -0.052     ,  0.035     ,\n",
       "       -0.046     , -0.07600001,  0.017     , -0.013     , -0.016     ,\n",
       "       -0.073     , -0.043     ,  0.014     ,  0.023     , -0.04      ,\n",
       "       -0.031     , -0.07      ,  0.035     , -0.055     , -0.007     ,\n",
       "       -0.004     , -0.061     ,  0.026     , -0.028     , -0.001     ,\n",
       "       -0.058     , -0.064     , -0.067     ,  0.005     ,  0.029     ,\n",
       "       -0.034     ,  0.02      ,  0.002     , -0.037     , -0.01      ,\n",
       "        0.032     , -0.025     , -0.019     ,  0.008     ,  0.011     ,\n",
       "       -0.049     , -0.052     ,  0.038     , -0.022     ,  0.041     ,\n",
       "       -0.016     ,  0.014     , -0.067     , -0.007     ,  0.02      ,\n",
       "       -0.04      , -0.046     ,  0.017     , -0.037     , -0.07      ,\n",
       "       -0.073     , -0.013     , -0.01      , -0.07600001,  0.023     ,\n",
       "       -0.043     ,  0.029     , -0.028     ,  0.002     , -0.022     ,\n",
       "       -0.034     , -0.061     , -0.004     ,  0.038     ,  0.011     ,\n",
       "        0.008     , -0.058     , -0.031     , -0.049     , -0.019     ,\n",
       "        0.041     ,  0.035     , -0.064     , -0.001     , -0.052     ,\n",
       "       -0.025     ,  0.005     ,  0.032     , -0.055     ,  0.026     ,\n",
       "        0.023     , -0.046     , -0.07      ,  0.017     , -0.037     ,\n",
       "       -0.067     ,  0.02      ,  0.014     , -0.016     , -0.007     ,\n",
       "       -0.073     , -0.043     , -0.04      , -0.07600001, -0.01      ,\n",
       "       -0.013     , -0.001     ,  0.035     , -0.031     , -0.004     ,\n",
       "        0.011     , -0.028     ,  0.008     ,  0.026     , -0.055     ,\n",
       "       -0.034     ,  0.002     , -0.049     , -0.064     ,  0.029     ,\n",
       "        0.041     , -0.058     , -0.061     ,  0.005     , -0.019     ,\n",
       "       -0.022     , -0.052     , -0.025     ,  0.038     ,  0.032     ])"
      ]
     },
     "execution_count": 15,
     "metadata": {},
     "output_type": "execute_result"
    }
   ],
   "source": [
    "bx_measurements[0.249]['y_out'][x_index_sort]"
   ]
  },
  {
   "cell_type": "code",
   "execution_count": 16,
   "metadata": {
    "collapsed": true
   },
   "outputs": [],
   "source": [
    "mesh = np.meshgrid(np.linspace(0, 5, 4), np.linspace(10, 15, 4))"
   ]
  },
  {
   "cell_type": "code",
   "execution_count": 17,
   "metadata": {
    "collapsed": false,
    "scrolled": true
   },
   "outputs": [
    {
     "data": {
      "text/plain": [
       "[array([[ 0.        ,  1.66666667,  3.33333333,  5.        ],\n",
       "        [ 0.        ,  1.66666667,  3.33333333,  5.        ],\n",
       "        [ 0.        ,  1.66666667,  3.33333333,  5.        ],\n",
       "        [ 0.        ,  1.66666667,  3.33333333,  5.        ]]),\n",
       " array([[ 10.        ,  10.        ,  10.        ,  10.        ],\n",
       "        [ 11.66666667,  11.66666667,  11.66666667,  11.66666667],\n",
       "        [ 13.33333333,  13.33333333,  13.33333333,  13.33333333],\n",
       "        [ 15.        ,  15.        ,  15.        ,  15.        ]])]"
      ]
     },
     "execution_count": 17,
     "metadata": {},
     "output_type": "execute_result"
    }
   ],
   "source": [
    "mesh"
   ]
  },
  {
   "cell_type": "code",
   "execution_count": 39,
   "metadata": {
    "collapsed": true
   },
   "outputs": [],
   "source": [
    "from matplotlib.tri import Triangulation, LinearTriInterpolator"
   ]
  },
  {
   "cell_type": "code",
   "execution_count": 71,
   "metadata": {
    "collapsed": true
   },
   "outputs": [],
   "source": [
    "bx_measurements = struc_3d.read_idl('bx')\n",
    "by_measurements = struc_3d.read_idl('by')\n",
    "\n",
    "for plane in [0.249, 0.302, 0.357, 0.416]:\n",
    "    bx_measurements[plane] = struc_3d.average_duplicate_points(bx_measurements[plane])\n",
    "    by_measurements[plane] = struc_3d.average_duplicate_points(by_measurements[plane])"
   ]
  },
  {
   "cell_type": "code",
   "execution_count": 78,
   "metadata": {
    "collapsed": false
   },
   "outputs": [
    {
     "data": {
      "text/plain": [
       "(694,)"
      ]
     },
     "execution_count": 78,
     "metadata": {},
     "output_type": "execute_result"
    }
   ],
   "source": [
    "by_measurements[0.249]['a_out'][0][:, 0].shape"
   ]
  },
  {
   "cell_type": "code",
   "execution_count": 79,
   "metadata": {
    "collapsed": false
   },
   "outputs": [
    {
     "data": {
      "text/plain": [
       "(694,)"
      ]
     },
     "execution_count": 79,
     "metadata": {},
     "output_type": "execute_result"
    }
   ],
   "source": [
    "by_measurements[0.249]['x_out'].shape"
   ]
  },
  {
   "cell_type": "code",
   "execution_count": 73,
   "metadata": {
    "collapsed": false
   },
   "outputs": [],
   "source": [
    "triangulation_bx = Triangulation(bx_measurements[0.249]['x_out'], bx_measurements[0.249]['y_out'])"
   ]
  },
  {
   "cell_type": "code",
   "execution_count": 80,
   "metadata": {
    "collapsed": false
   },
   "outputs": [],
   "source": [
    "interpolation_bx = LinearTriInterpolator(triangulation_bx, bx_measurements[0.249]['a_out'][0][:, 0])"
   ]
  },
  {
   "cell_type": "code",
   "execution_count": 81,
   "metadata": {
    "collapsed": false
   },
   "outputs": [],
   "source": [
    "triangulation_by = Triangulation(by_measurements[0.249]['x_out'], by_measurements[0.249]['y_out'])\n",
    "interpolation_by = LinearTriInterpolator(triangulation_by, by_measurements[0.249]['a_out'][0][:, 0])"
   ]
  },
  {
   "cell_type": "code",
   "execution_count": 83,
   "metadata": {
    "collapsed": true
   },
   "outputs": [],
   "source": [
    "spatial_increment = 0.001\n",
    "x_min, x_max = -0.027, 0.022\n",
    "y_min, y_max = -0.021, 0.0295 \n",
    "mesh = np.meshgrid(np.linspace(x_min, x_max, np.ceil((x_max-x_min)/spatial_increment)), \n",
    "                   np.linspace(y_min, y_max, np.ceil((y_max-y_min)/spatial_increment)))"
   ]
  },
  {
   "cell_type": "code",
   "execution_count": 89,
   "metadata": {
    "collapsed": false
   },
   "outputs": [],
   "source": [
    "j_z = (np.asarray(interpolation_by.gradient(mesh[0], mesh[1]))[0] - \n",
    "       np.asarray(interpolation_bx.gradient(mesh[0], mesh[1]))[1])/(1.26e-6)"
   ]
  },
  {
   "cell_type": "code",
   "execution_count": 90,
   "metadata": {
    "collapsed": false
   },
   "outputs": [
    {
     "data": {
      "text/plain": [
       "426560.10185871675"
      ]
     },
     "execution_count": 90,
     "metadata": {},
     "output_type": "execute_result"
    }
   ],
   "source": [
    "np.max(j_z)"
   ]
  },
  {
   "cell_type": "code",
   "execution_count": 93,
   "metadata": {
    "collapsed": false
   },
   "outputs": [
    {
     "data": {
      "text/plain": [
       "<matplotlib.colorbar.Colorbar at 0x1194c8e50>"
      ]
     },
     "execution_count": 93,
     "metadata": {},
     "output_type": "execute_result"
    },
    {
     "data": {
      "image/png": "[encoded data removed]",
      "text/plain": [
       "<matplotlib.figure.Figure at 0x118fb3b10>"
      ]
     },
     "metadata": {},
     "output_type": "display_data"
    }
   ],
   "source": [
    "plt.contourf(mesh[0], mesh[1], \n",
    "             j_z, alpha=0.2, cmap='Greens')\n",
    "plt.colorbar()"
   ]
  },
  {
   "cell_type": "code",
   "execution_count": null,
   "metadata": {
    "collapsed": true
   },
   "outputs": [],
   "source": []
  }
 ],
 "metadata": {
  "kernelspec": {
   "display_name": "Python 2",
   "language": "python",
   "name": "python2"
  },
  "language_info": {
   "codemirror_mode": {
    "name": "ipython",
    "version": 2
   },
   "file_extension": ".py",
   "mimetype": "text/x-python",
   "name": "python",
   "nbconvert_exporter": "python",
   "pygments_lexer": "ipython2",
   "version": "2.7.11"
  }
 },
 "nbformat": 4,
 "nbformat_minor": 0
}
