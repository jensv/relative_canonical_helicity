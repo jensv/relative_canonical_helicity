{
 "cells": [
  {
   "cell_type": "markdown",
   "metadata": {},
   "source": [
    "# In this notebook I will look at the full Bdot measurements of the all planes.\n",
    "\n",
    "I will also check if taking the curl of the magnetic field recovers a current centered at the center of the circulation in the b field.  I will test schemes for locating the current centroid."
   ]
  },
  {
   "cell_type": "markdown",
   "metadata": {},
   "source": [
    "## Imports"
   ]
  },
  {
   "cell_type": "code",
   "execution_count": 1,
   "metadata": {
    "collapsed": false
   },
   "outputs": [],
   "source": [
    "import numpy as np\n",
    "import scipy.optimize as opti\n",
    "%matplotlib inline\n",
    "import matplotlib.pyplot as plt\n",
    "import seaborn as sns\n",
    "sns.set_style('whitegrid')\n",
    "sns.set_context('poster')\n",
    "\n",
    "from mpl_toolkits.axes_grid1 import make_axes_locatable\n",
    "from matplotlib.tri import Triangulation, LinearTriInterpolator\n",
    "from scipy.optimize import curve_fit\n",
    "from scipy import odr\n",
    "from scipy.optimize import leastsq\n",
    "from skimage.feature import peak_local_max\n",
    "import scipy.ndimage as ndimage\n",
    "import cPickle as pickle\n",
    "from scipy.integrate import odeint\n",
    "import visit_writer"
   ]
  },
  {
   "cell_type": "code",
   "execution_count": 2,
   "metadata": {
    "collapsed": false
   },
   "outputs": [
    {
     "data": {
      "text/html": [
       "<style>.container { width:100% !important; }</style>"
      ],
      "text/plain": [
       "<IPython.core.display.HTML object>"
      ]
     },
     "metadata": {},
     "output_type": "display_data"
    }
   ],
   "source": [
    "from IPython.core.display import display, HTML\n",
    "display(HTML(\"<style>.container { width:100% !important; }</style>\"))"
   ]
  },
  {
   "cell_type": "code",
   "execution_count": 3,
   "metadata": {
    "collapsed": true
   },
   "outputs": [],
   "source": [
    "import sys\n",
    "sys.path.append('/Users/vonderlinden2/rsx_analysis/writing_to_vtk/source')\n",
    "import structured_3d_vtk as struc_3d"
   ]
  },
  {
   "cell_type": "markdown",
   "metadata": {},
   "source": [
    "## Define convience function and load magnetic field data."
   ]
  },
  {
   "cell_type": "markdown",
   "metadata": {},
   "source": [
    "# Method 2: Integrate field lines off the max and fit circle to the field lines"
   ]
  },
  {
   "cell_type": "markdown",
   "metadata": {},
   "source": [
    "## Define functions"
   ]
  },
  {
   "cell_type": "code",
   "execution_count": 13,
   "metadata": {
    "collapsed": true
   },
   "outputs": [],
   "source": [
    "def to_min(params, points):\n",
    "    a = 2.*params[0]\n",
    "    b = 2.*params[1]\n",
    "    c = params[2]**2 - params[1]**2 - params[0]**2\n",
    "    return a*points[0] + b*points[1] + c - points[0]**2 - points[1]**2\n",
    "\n",
    "def calculate_radius(x, y, x_0, y_0):\n",
    "    r\"\"\"\n",
    "    Calculate radius.\n",
    "    \"\"\"\n",
    "    return (x - x_0)**2 + (y - y_0)**2\n",
    "\n",
    "\n",
    "def estimate_radius(data, x_0, y_0):\n",
    "    r\"\"\"\n",
    "    Estimate radius from data.\n",
    "    \"\"\"\n",
    "    return calculate_radius(data[:, 0], data[:, 1], x_0, y_0).mean()\n",
    "\n",
    "params_guess = [0, 0, 0.01]"
   ]
  },
  {
   "cell_type": "code",
   "execution_count": 14,
   "metadata": {
    "collapsed": true
   },
   "outputs": [],
   "source": [
    "def d_l(l, t, interpolator_x, interpolator_y):\n",
    "    return np.asarray([interpolator_x([l[0], l[1]])[0], \n",
    "                       interpolator_y([l[0], l[1]])[0]])\n",
    "\n",
    "def find_centroid(grid, bx_interpolator, by_interpolator, \n",
    "                  distance_thres=0.001, filter_size=5,\n",
    "                  integration_length=10, integration_steps=100,\n",
    "                  launch_point_step_factor=0.1, max_count=50):\n",
    "    r\"\"\"\n",
    "    \"\"\"\n",
    "    b_fields_x = bx_interpolator(grid[0][:, :], grid[1][:, :])\n",
    "    b_fields_y = by_interpolator(grid[0][:, :], grid[1][:, :])\n",
    "    b_fields = [b_fields_x, b_fields_y]\n",
    "    x_min, x_max = grid[0].min(), grid[0].max()\n",
    "    y_min, y_max = grid[1].min(), grid[1].max()\n",
    "    magnitude = np.sqrt(b_fields[0][:, :]**2 + b_fields[1][:, :]**2)\n",
    "    filtered_magnitude = ndimage.gaussian_filter(magnitude, filter_size)\n",
    "    max_index = np.unravel_index(filtered_magnitude.argmax(), \n",
    "                                 filtered_magnitude.shape)\n",
    "    \n",
    "    center_points = []\n",
    "    radii = []\n",
    "    center_points = []\n",
    "    streamlines = []\n",
    "    direction = [0, 0]\n",
    "    distance = 100\n",
    "    launch_point = (grid[0][max_index], grid[1][max_index])\n",
    "    count = 0\n",
    "    while distance >= distance_thres:\n",
    "        #print 'launch', launch_point\n",
    "        #print distance\n",
    "        t2 = np.linspace(0, integration_length, integration_steps)\n",
    "        t1 = np.linspace(0, -integration_length, integration_steps)\n",
    "        stream2 = odeint(d_l, launch_point, t2, args=(bx_interpolator, by_interpolator))\n",
    "        stream1 = odeint(d_l, launch_point, t1, args=(bx_interpolator, by_interpolator))\n",
    "        streamline = np.concatenate((stream1, stream2))\n",
    "        size = streamline[np.invert(np.isnan(streamline))].size\n",
    "        streamline = streamline[np.invert(np.isnan(streamline))].reshape(int(size/2.), 2)\n",
    "        \n",
    "        circle_params, success = leastsq(to_min, params_guess, args=np.asarray([streamline[:, 0], streamline[:, 1]]))\n",
    "        direction = [circle_params[0] - launch_point[0], circle_params[1] - launch_point[1]]\n",
    "        distance = np.sqrt(direction[0]**2. + direction[1]**2.)\n",
    "        center_point = (circle_params[0], circle_params[1])\n",
    "        launch_point = [launch_point[0] + direction[0] * launch_point_step_factor,\n",
    "                        launch_point[1] + direction[1] * launch_point_step_factor]\n",
    "        center_points.append(center_point)\n",
    "        #print 'center', center_point\n",
    "        radii.append(circle_params[0])\n",
    "        streamlines.append(streamline)\n",
    "        if (launch_point[0] <= x_min or\n",
    "            launch_point[0] >= x_max or\n",
    "            launch_point[1] <= y_min or \n",
    "            launch_point[1] >= y_max or\n",
    "            count > max_count):\n",
    "            break\n",
    "        count += 1\n",
    "    centroid = center_point\n",
    "    return centroid, center_points, radii, streamlines, max_index"
   ]
  },
  {
   "cell_type": "markdown",
   "metadata": {},
   "source": [
    "# Do it for all planes"
   ]
  },
  {
   "cell_type": "code",
   "execution_count": 15,
   "metadata": {
    "collapsed": false
   },
   "outputs": [
    {
     "data": {
      "text/plain": [
       "(2, 54, 82)"
      ]
     },
     "execution_count": 15,
     "metadata": {},
     "output_type": "execute_result"
    }
   ],
   "source": [
    "meshes_0249 = np.load('../output/2016-08-06/B_z_0249_' + '0000' + '.npz')\n",
    "meshes_0249['grid'].shape"
   ]
  },
  {
   "cell_type": "code",
   "execution_count": 16,
   "metadata": {
    "collapsed": false
   },
   "outputs": [
    {
     "ename": "NameError",
     "evalue": "name 'grid_0249' is not defined",
     "output_type": "error",
     "traceback": [
      "\u001b[0;31m---------------------------------------------------------------------------\u001b[0m",
      "\u001b[0;31mNameError\u001b[0m                                 Traceback (most recent call last)",
      "\u001b[0;32m<ipython-input-16-f6d263e5d7e4>\u001b[0m in \u001b[0;36m<module>\u001b[0;34m()\u001b[0m\n\u001b[0;32m----> 1\u001b[0;31m \u001b[0mgrid_0249\u001b[0m\u001b[0;34m[\u001b[0m\u001b[0;36m0\u001b[0m\u001b[0;34m]\u001b[0m\u001b[0;34m[\u001b[0m\u001b[0;34m:\u001b[0m\u001b[0;34m,\u001b[0m\u001b[0;34m:\u001b[0m\u001b[0;34m]\u001b[0m\u001b[0;34m\u001b[0m\u001b[0m\n\u001b[0m",
      "\u001b[0;31mNameError\u001b[0m: name 'grid_0249' is not defined"
     ]
    }
   ],
   "source": [
    "grid_0249[0][:,:]"
   ]
  },
  {
   "cell_type": "code",
   "execution_count": null,
   "metadata": {
    "collapsed": false,
    "scrolled": false
   },
   "outputs": [],
   "source": [
    "centroids_0249 = []\n",
    "centroids_0302 = []\n",
    "centroids_0357 = []\n",
    "centroids_0416 = []\n",
    "\n",
    "meshes_0249 = np.load('../output/2016-10-08/B_z_0249_' + '0000' + '.npz')\n",
    "grid_0249 = meshes_0249['grid']\n",
    "\n",
    "meshes_0302 = np.load('../output/2016-10-08/B_z_0302_' + '0000' + '.npz')\n",
    "grid_0302 = meshes_0302['grid']\n",
    "\n",
    "meshes_0357 = np.load('../output/2016-10-08/B_z_0357_' + '0000' + '.npz')\n",
    "grid_0357 = meshes_0357['grid']\n",
    "\n",
    "meshes_0416 = np.load('../output/2016-10-08/B_z_0416_' + '0000' + '.npz')\n",
    "grid_0416 = meshes_0416['grid']\n",
    "\n",
    "for time_point in xrange(250):\n",
    "    print time_point\n",
    "    \n",
    "    bx_0249_interpolator = pickle.load(open('../output/2016-08-06/B_z_0249_x_' + str(time_point).zfill(4) + '.p', 'rb'))\n",
    "    by_0249_interpolator = pickle.load(open('../output/2016-08-06/B_z_0249_y_' + str(time_point).zfill(4) + '.p', 'rb'))\n",
    "    \n",
    "    bx_0302_interpolator = pickle.load(open('../output/2016-08-06/B_z_0302_x_' + str(time_point).zfill(4) + '.p', 'rb'))\n",
    "    by_0302_interpolator = pickle.load(open('../output/2016-08-06/B_z_0302_y_' + str(time_point).zfill(4) + '.p', 'rb'))\n",
    "    \n",
    "    bx_0357_interpolator = pickle.load(open('../output/2016-08-06/B_z_0357_x_' + str(time_point).zfill(4) + '.p', 'rb'))\n",
    "    by_0357_interpolator = pickle.load(open('../output/2016-08-06/B_z_0357_y_' + str(time_point).zfill(4) + '.p', 'rb'))\n",
    "    \n",
    "    bx_0416_interpolator = pickle.load(open('../output/2016-08-06/B_z_0416_x_' + str(time_point).zfill(4) + '.p', 'rb'))\n",
    "    by_0416_interpolator = pickle.load(open('../output/2016-08-06/B_z_0416_y_' + str(time_point).zfill(4) + '.p', 'rb'))\n",
    "\n",
    "    (centroid_0249, center_points, \n",
    "     radii, streamlines, \n",
    "     max_index) = find_centroid(grid_0249, \n",
    "                                bx_0249_interpolator, \n",
    "                                by_0249_interpolator,\n",
    "                                launch_point_step_factor=0.05,\n",
    "                                integration_length=20)\n",
    "    \n",
    "    (centroid_0302, center_points, \n",
    "     radii, streamlines, \n",
    "     max_index) = find_centroid(grid_0302, \n",
    "                                bx_0302_interpolator, \n",
    "                                by_0302_interpolator,\n",
    "                                launch_point_step_factor=0.05,\n",
    "                                integration_length=20)\n",
    "\n",
    "\n",
    "        \n",
    "    (centroid_0357, center_points, \n",
    "     radii, streamlines, \n",
    "     max_index) = find_centroid(grid_0357, \n",
    "                                bx_0357_interpolator, \n",
    "                                by_0357_interpolator,\n",
    "                                launch_point_step_factor=0.05,\n",
    "                                integration_length=20)\n",
    "\n",
    "\n",
    "        \n",
    "    (centroid_0416, center_points, \n",
    "     radii, streamlines, \n",
    "     max_index) = find_centroid(grid_0416, \n",
    "                                bx_0416_interpolator, \n",
    "                                by_0416_interpolator,\n",
    "                                launch_point_step_factor=0.05,\n",
    "                                integration_length=20)\n",
    "\n",
    "    centroids_0249.append(centroid_0249)\n",
    "    centroids_0302.append(centroid_0302)\n",
    "    centroids_0357.append(centroid_0357)\n",
    "    centroids_0416.append(centroid_0416)"
   ]
  },
  {
   "cell_type": "code",
   "execution_count": 8,
   "metadata": {
    "collapsed": false
   },
   "outputs": [
    {
     "ename": "NameError",
     "evalue": "name 'centroids_0249' is not defined",
     "output_type": "error",
     "traceback": [
      "\u001b[0;31m---------------------------------------------------------------------------\u001b[0m",
      "\u001b[0;31mNameError\u001b[0m                                 Traceback (most recent call last)",
      "\u001b[0;32m<ipython-input-8-d6eea2e75fa7>\u001b[0m in \u001b[0;36m<module>\u001b[0;34m()\u001b[0m\n\u001b[0;32m----> 1\u001b[0;31m \u001b[0mcentroids_0249\u001b[0m \u001b[0;34m=\u001b[0m \u001b[0mnp\u001b[0m\u001b[0;34m.\u001b[0m\u001b[0masarray\u001b[0m\u001b[0;34m(\u001b[0m\u001b[0mcentroids_0249\u001b[0m\u001b[0;34m)\u001b[0m\u001b[0;34m\u001b[0m\u001b[0m\n\u001b[0m\u001b[1;32m      2\u001b[0m np.savetxt('../output/2016-08-06/field_nulls_0249.txt', centroids_0249, header='magnetic field null positions in the z=0.249m plane,' + \n\u001b[1;32m      3\u001b[0m            \u001b[0;34m'determined by fitting circles to integrated field lines starting at max magnitude and moving succesive'\u001b[0m \u001b[0;34m+\u001b[0m\u001b[0;34m\u001b[0m\u001b[0m\n\u001b[1;32m      4\u001b[0m            'towards the center of circles.')\n\u001b[1;32m      5\u001b[0m \u001b[0mcentroids_0302\u001b[0m \u001b[0;34m=\u001b[0m \u001b[0mnp\u001b[0m\u001b[0;34m.\u001b[0m\u001b[0masarray\u001b[0m\u001b[0;34m(\u001b[0m\u001b[0mcentroids_0302\u001b[0m\u001b[0;34m)\u001b[0m\u001b[0;34m\u001b[0m\u001b[0m\n",
      "\u001b[0;31mNameError\u001b[0m: name 'centroids_0249' is not defined"
     ]
    }
   ],
   "source": [
    "centroids_0249 = np.asarray(centroids_0249)\n",
    "np.savetxt('../output/2016-08-06/field_nulls_0249.txt', centroids_0249, header='magnetic field null positions in the z=0.249m plane,' + \n",
    "           'determined by fitting circles to integrated field lines starting at max magnitude and moving succesive' +\n",
    "           'towards the center of circles.')\n",
    "centroids_0302 = np.asarray(centroids_0302)\n",
    "np.savetxt('../output/2016-08-06/field_nulls_0302.txt', centroids_0302, header='magnetic field null positions in the z=0.302m plane,' + \n",
    "           'determined by fitting circles to integrated field lines starting at max magnitude and moving succesive' +\n",
    "           'towards the center of circles.')\n",
    "centroids_0357 = np.asarray(centroids_0357)\n",
    "np.savetxt('../output/2016-08-06/field_nulls_0357.txt', centroids_0357, header='magnetic field null positions in the z=0.357m plane,' + \n",
    "           'determined by fitting circles to integrated field lines starting at max magnitude and moving succesive' +\n",
    "           'towards the center of circles.')\n",
    "centroids_0416 = np.asarray(centroids_0416)\n",
    "np.savetxt('../output/2016-08-06/field_nulls_0416.txt', centroids_0416, header='magnetic field null positions in the z=0.416m plane,' + \n",
    "           'determined by fitting circles to integrated field lines starting at max magnitude and moving succesive' +\n",
    "           'towards the center of circles.')"
   ]
  }
 ],
 "metadata": {
  "kernelspec": {
   "display_name": "Python 2",
   "language": "python",
   "name": "python2"
  },
  "language_info": {
   "codemirror_mode": {
    "name": "ipython",
    "version": 2
   },
   "file_extension": ".py",
   "mimetype": "text/x-python",
   "name": "python",
   "nbconvert_exporter": "python",
   "pygments_lexer": "ipython2",
   "version": "2.7.12"
  }
 },
 "nbformat": 4,
 "nbformat_minor": 0
}
