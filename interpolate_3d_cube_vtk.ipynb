{
 "cells": [
  {
   "cell_type": "code",
   "execution_count": 7,
   "metadata": {
    "collapsed": false
   },
   "outputs": [],
   "source": [
    "import scipy.io.idl as idl\n",
    "import numpy as np\n",
    "from scipy.interpolate import griddata\n",
    "import matplotlib.pyplot as plt\n",
    "from mpl_toolkits.mplot3d import Axes3D"
   ]
  },
  {
   "cell_type": "code",
   "execution_count": 8,
   "metadata": {
    "collapsed": false
   },
   "outputs": [],
   "source": [
    "from scipy.spatial import ConvexHull, Delaunay\n",
    "from scipy.interpolate import griddata"
   ]
  },
  {
   "cell_type": "code",
   "execution_count": 9,
   "metadata": {
    "collapsed": false
   },
   "outputs": [],
   "source": [
    "from pyvisfile.vtk import write_structured_grid\n",
    "from pytools.obj_array import make_obj_array"
   ]
  },
  {
   "cell_type": "markdown",
   "metadata": {},
   "source": [
    "# Define Functions"
   ]
  },
  {
   "cell_type": "code",
   "execution_count": 10,
   "metadata": {
    "collapsed": true
   },
   "outputs": [],
   "source": [
    "z_planes = [0.249, 0.302, 0.357, 0.416]"
   ]
  },
  {
   "cell_type": "code",
   "execution_count": 22,
   "metadata": {
    "collapsed": true
   },
   "outputs": [],
   "source": [
    "def read_idl(quantity, data_path='../../comprehensive_3d_plot/output/2016-04-07/'):\n",
    "    r\"\"\"\n",
    "    Read idl files for all planes.\n",
    "    \"\"\"\n",
    "    idl_ending = '.sav'\n",
    "    z249_file = data_path + quantity + '_z249' + idl_ending\n",
    "    z302_file = data_path + quantity + '_z302' + idl_ending\n",
    "    z357_file = data_path + quantity + '_z357' + idl_ending\n",
    "    z416_file = data_path + quantity + '_z416' + idl_ending\n",
    "    \n",
    "    z249_measurements = idl.readsav(z249_file)\n",
    "    z302_measurements = idl.readsav(z302_file)\n",
    "    z357_measurements = idl.readsav(z357_file)\n",
    "    z416_measurements = idl.readsav(z416_file)\n",
    "    \n",
    "    measurements = {0.249: z249_measurements, \n",
    "                    0.302: z302_measurements, \n",
    "                    0.357: z357_measurements, \n",
    "                    0.416: z416_measurements}\n",
    "\n",
    "    return measurements"
   ]
  },
  {
   "cell_type": "code",
   "execution_count": 34,
   "metadata": {
    "collapsed": true
   },
   "outputs": [],
   "source": [
    "def read_points_from_measurement_dict(measurement_dict, time_point, z_planes):\n",
    "    x_points = np.empty((0))\n",
    "    y_points = np.empty((0))\n",
    "    z_points = np.empty((0))\n",
    "    values = np.empty((0))\n",
    "    for z_plane in z_planes:\n",
    "        plane_measurements = measurement_dict[z_plane]\n",
    "        x_points = np.append(x_points, plane_measurements['x_out'])\n",
    "        y_points = np.append(y_points, plane_measurements['y_out'])\n",
    "        z_points = np.append(z_points, np.ones(plane_measurements['x_out'].size)*z_plane)\n",
    "        values = np.append(values, plane_measurements['a_out'][time_point])\n",
    "    \n",
    "    \n",
    "    points = [x_points, y_points, z_points]\n",
    "    points = np.asarray(points)\n",
    "    points = np.swapaxes(points, 0, 1)\n",
    "    return points, values"
   ]
  },
  {
   "cell_type": "code",
   "execution_count": 24,
   "metadata": {
    "collapsed": true
   },
   "outputs": [],
   "source": [
    "def bounded_grid(bounds, spatial_increment=0.003):\n",
    "    \n",
    "    (x_min, x_max), (y_min, y_max), (z_min, z_max) = bounds\n",
    "    \n",
    "    x_coord = np.linspace(x_min, x_max, np.ceil((x_max-x_min)/spatial_increment))\n",
    "    y_coord = np.linspace(y_min, y_max, np.ceil((y_max-y_min)/spatial_increment))\n",
    "    z_coord = np.linspace(z_min, z_max, np.ceil((z_max-z_min)/spatial_increment))\n",
    "    \n",
    "    sizes = map(np.size, [x_coord, y_coord, z_coord])\n",
    "\n",
    "    mesh = np.meshgrid(x_coord, y_coord, z_coord, indexing='ij')\n",
    "    \n",
    "    grid_points = np.dstack(map(np.ravel, mesh))[0]\n",
    "    \n",
    "    return grid_points, sizes"
   ]
  },
  {
   "cell_type": "code",
   "execution_count": 25,
   "metadata": {
    "collapsed": true
   },
   "outputs": [],
   "source": [
    "def interpolate_vector(grid_points, vector_points, vector_values):\n",
    "    interpolated_data_x = griddata(vector_points[0], vector_values[0], grid_points)\n",
    "    interpolated_data_y = griddata(vector_points[1], vector_values[1], grid_points)\n",
    "    interpolated_data_z = griddata(vector_points[2], vector_values[2], grid_points)\n",
    "    return [interpolated_data_x, interpolated_data_y, interpolated_data_z]"
   ]
  },
  {
   "cell_type": "code",
   "execution_count": 26,
   "metadata": {
    "collapsed": true
   },
   "outputs": [],
   "source": [
    "def interpolate_scalar(grid_points, scalar_points, scalar_values):\n",
    "    interpolated_data = griddata(scalar_points, scalar_values, grid_points)\n",
    "    return interpolated_data"
   ]
  },
  {
   "cell_type": "code",
   "execution_count": 27,
   "metadata": {
    "collapsed": true
   },
   "outputs": [],
   "source": [
    "def add_vacuum_field(field, vacuum_field=0.02):\n",
    "    field[2] = field[2] + vacuum_field\n",
    "    return field"
   ]
  },
  {
   "cell_type": "code",
   "execution_count": 28,
   "metadata": {
    "collapsed": true
   },
   "outputs": [],
   "source": [
    "def prepare_mesh(grid_points, sizes):\n",
    "    return grid_points.swapaxes(0,1).reshape((3, sizes[0], sizes[1], sizes[2]))"
   ]
  },
  {
   "cell_type": "code",
   "execution_count": 29,
   "metadata": {
    "collapsed": true
   },
   "outputs": [],
   "source": [
    "def prepare_vector(vector, sizes):\n",
    "    vtk_vector_x = np.resize(vector[0], sizes)\n",
    "    vtk_vector_y = np.resize(vector[1], sizes)\n",
    "    vtk_vector_z = np.resize(vector[2], sizes)\n",
    "\n",
    "    vtk_vector_x = np.expand_dims(vtk_vector_x, 0)\n",
    "    vtk_vector_y = np.expand_dims(vtk_vector_y, 0)\n",
    "    vtk_vector_z = np.expand_dims(vtk_vector_z, 0)\n",
    "\n",
    "    vtk_vector = make_obj_array([vtk_vector_x, vtk_vector_y, vtk_vector_z])\n",
    "    return vtk_vector"
   ]
  },
  {
   "cell_type": "code",
   "execution_count": 30,
   "metadata": {
    "collapsed": true
   },
   "outputs": [],
   "source": [
    "def prepare_scalar(scalar, sizes):\n",
    "    vtk_scalar = np.resize(scalar, sizes)\n",
    "    vtk_scalar = np.expand_dims(scalar, 0)\n",
    "    return vtk_scalar"
   ]
  },
  {
   "cell_type": "markdown",
   "metadata": {},
   "source": [
    "# Interpolate B field"
   ]
  },
  {
   "cell_type": "code",
   "execution_count": 390,
   "metadata": {
    "collapsed": true
   },
   "outputs": [],
   "source": [
    "x_min, x_max = -0.027, 0.022\n",
    "y_min, y_max = -0.021, 0.0295 \n",
    "z_min, z_max = 0.249, 0.416\n",
    "\n",
    "b_bounds = ((x_min, x_max), (y_min, y_max), (z_min, z_max)) "
   ]
  },
  {
   "cell_type": "code",
   "execution_count": 391,
   "metadata": {
    "collapsed": true
   },
   "outputs": [],
   "source": [
    "bx_measurements = read_idl('bx')\n",
    "by_measurements = read_idl('by')\n",
    "bz_measurements = read_idl('bz')"
   ]
  },
  {
   "cell_type": "code",
   "execution_count": 392,
   "metadata": {
    "collapsed": true
   },
   "outputs": [],
   "source": [
    "direction_measurements = [bx_measurements, by_measurements, bz_measurements] "
   ]
  },
  {
   "cell_type": "code",
   "execution_count": 395,
   "metadata": {
    "collapsed": false
   },
   "outputs": [
    {
     "name": "stdout",
     "output_type": "stream",
     "text": [
      "time_point 0\n",
      "time_point 1\n",
      "time_point 2\n",
      "time_point 3\n",
      "time_point 4\n",
      "time_point 5\n",
      "time_point 6\n",
      "time_point 7\n",
      "time_point 8\n",
      "time_point 9\n",
      "time_point 10\n",
      "time_point 11\n",
      "time_point 12\n",
      "time_point 13\n",
      "time_point 14\n",
      "time_point 15\n",
      "time_point 16\n",
      "time_point 17\n",
      "time_point 18\n",
      "time_point 19\n",
      "time_point 20\n"
     ]
    }
   ],
   "source": [
    "for time_point in xrange(21):\n",
    "    print 'time_point %i' % time_point\n",
    "    points = []\n",
    "    values = []\n",
    "    for measurements in direction_measurements:\n",
    "        points_direction, values_direction = read_points_from_measurement_dict(measurements, time_point, z_planes)\n",
    "        points.append(points_direction)\n",
    "        values.append(values_direction)\n",
    "    grid_points, sizes = bounded_grid(b_bounds, 0.003)\n",
    "    interpolated_vector = interpolate_vector(grid_points, points, values)\n",
    "    interpolated_vector = add_vacuum_field(interpolated_vector)\n",
    "\n",
    "    assert np.sum(np.isnan(interpolated_vector[0])) == 0\n",
    "    assert np.sum(np.isnan(interpolated_vector[1])) == 0\n",
    "    assert np.sum(np.isnan(interpolated_vector[2])) == 0\n",
    "\n",
    "    \n",
    "    \n",
    "    vtk_grid = prepare_mesh(grid_points, sizes)\n",
    "    vtk_vector = prepare_vector(interpolated_vector, sizes)\n",
    "\n",
    "    output_path = '../output/2016-06-14/'\n",
    "    write_structured_grid(output_path + \n",
    "                          'b_' + str(time_point).zfill(4) + '.vts', vtk_grid, point_data=[('B', vtk_vector)])"
   ]
  },
  {
   "cell_type": "markdown",
   "metadata": {},
   "source": [
    "# Interpolate Te & n"
   ]
  },
  {
   "cell_type": "code",
   "execution_count": 31,
   "metadata": {
    "collapsed": true
   },
   "outputs": [],
   "source": [
    "x_min, x_max = -0.022, 0.018\n",
    "y_min, y_max = -0.021, 0.0255 \n",
    "z_min, z_max = 0.249, 0.416\n",
    "\n",
    "te_bounds = ((x_min, x_max), (y_min, y_max), (z_min, z_max)) "
   ]
  },
  {
   "cell_type": "code",
   "execution_count": 32,
   "metadata": {
    "collapsed": false
   },
   "outputs": [],
   "source": [
    "te_measurements = read_idl('te')\n",
    "n_measurements = read_idl('n')"
   ]
  },
  {
   "cell_type": "code",
   "execution_count": 35,
   "metadata": {
    "collapsed": false
   },
   "outputs": [
    {
     "name": "stdout",
     "output_type": "stream",
     "text": [
      "time_point 0\n",
      "time_point 0\n",
      "time_point 1\n",
      "time_point 1\n",
      "time_point 2\n",
      "time_point 2\n",
      "time_point 3\n",
      "time_point 3\n",
      "time_point 4\n",
      "time_point 4\n",
      "time_point 5\n",
      "time_point 5\n",
      "time_point 6\n",
      "time_point 6\n",
      "time_point 7\n",
      "time_point 7\n",
      "time_point 8\n",
      "time_point 8\n",
      "time_point 9\n",
      "time_point 9\n",
      "time_point 10\n",
      "time_point 10\n",
      "time_point 11\n",
      "time_point 11\n",
      "time_point 12\n",
      "time_point 12\n",
      "time_point 13\n",
      "time_point 13\n",
      "time_point 14\n",
      "time_point 14\n",
      "time_point 15\n",
      "time_point 15\n",
      "time_point 16\n",
      "time_point 16\n",
      "time_point 17\n",
      "time_point 17\n",
      "time_point 18\n",
      "time_point 18\n",
      "time_point 19\n",
      "time_point 19\n",
      "time_point 20\n",
      "time_point 20\n"
     ]
    }
   ],
   "source": [
    "for time_point in xrange(21):\n",
    "    print 'time_point %i' % time_point\n",
    "    te_points, te_values = read_points_from_measurement_dict(te_measurements, time_point, z_planes)\n",
    "    grid_points, sizes = bounded_grid(te_bounds, 0.003)\n",
    "    te_interpolated_scalar = interpolate_scalar(grid_points, te_points, te_values)\n",
    "    \n",
    "    assert np.sum(np.isnan(te_interpolated_scalar)) == 0\n",
    "    \n",
    "    vtk_grid = prepare_mesh(grid_points, sizes)\n",
    "    te_vtk_scalar = prepare_scalar(te_interpolated_scalar, sizes)\n",
    "    \n",
    "    \n",
    "    print 'time_point %i' % time_point\n",
    "    n_points, n_values = read_points_from_measurement_dict(n_measurements, time_point, z_planes)\n",
    "    n_interpolated_scalar = interpolate_scalar(grid_points, n_points, n_values)\n",
    "    \n",
    "    assert np.sum(np.isnan(n_interpolated_scalar)) == 0\n",
    "    \n",
    "    n_vtk_scalar = prepare_scalar(n_interpolated_scalar, sizes)\n",
    "    \n",
    "    \n",
    "    output_path = '../output/2016-06-14/'\n",
    "    write_structured_grid(output_path + \n",
    "                          'p_' + str(time_point).zfill(4) + '.vts', vtk_grid, point_data=[('Te', te_vtk_scalar),\n",
    "                                                                                          ('n', n_vtk_scalar)])"
   ]
  },
  {
   "cell_type": "code",
   "execution_count": null,
   "metadata": {
    "collapsed": true
   },
   "outputs": [],
   "source": []
  }
 ],
 "metadata": {
  "kernelspec": {
   "display_name": "Python 2",
   "language": "python",
   "name": "python2"
  },
  "language_info": {
   "codemirror_mode": {
    "name": "ipython",
    "version": 2
   },
   "file_extension": ".py",
   "mimetype": "text/x-python",
   "name": "python",
   "nbconvert_exporter": "python",
   "pygments_lexer": "ipython2",
   "version": "2.7.11"
  }
 },
 "nbformat": 4,
 "nbformat_minor": 0
}
