{
 "cells": [
  {
   "cell_type": "code",
   "execution_count": 2,
   "metadata": {
    "collapsed": false
   },
   "outputs": [],
   "source": [
    "import scipy.io.idl as idl\n",
    "import numpy as np\n",
    "from scipy.interpolate import griddata\n",
    "import matplotlib.pyplot as plt\n",
    "from mpl_toolkits.mplot3d import Axes3D"
   ]
  },
  {
   "cell_type": "code",
   "execution_count": 3,
   "metadata": {
    "collapsed": false
   },
   "outputs": [],
   "source": [
    "from scipy.spatial import ConvexHull, Delaunay\n",
    "from scipy.interpolate import griddata"
   ]
  },
  {
   "cell_type": "markdown",
   "metadata": {},
   "source": [
    "# Linearly interpolate $B_x$ at single timepoint in 3D"
   ]
  },
  {
   "cell_type": "code",
   "execution_count": 4,
   "metadata": {
    "collapsed": true
   },
   "outputs": [],
   "source": [
    "data_path = '../../comprehensive_3d_plot/output/2016-04-07/'\n",
    "data_ending = '.sav'\n",
    "\n",
    "bz_z249_file = data_path + 'bz_z249' + data_ending\n",
    "bz_z302_file = data_path + 'bz_z302' + data_ending\n",
    "bz_z357_file = data_path + 'bz_z357' + data_ending\n",
    "bz_z416_file = data_path + 'bz_z416' + data_ending\n",
    "\n",
    "bz_z249_measurements = idl.readsav(bz_z249_file)dd\n",
    "bz_z302_measurements = idl.readsav(bz_z302_file)\n",
    "bz_z357_measurements = idl.readsav(bz_z357_file)\n",
    "bz_z416_measurements = idl.readsav(bz_z416_file)\n",
    "\n",
    "measurements = {0.249: bz_z249_measurements, \n",
    "                0.302: bz_z302_measurements, \n",
    "                0.357: bz_z357_measurements, \n",
    "                0.416: bz_z416_measurements}\n",
    "\n",
    "z_planes = [0.249, 0.302, 0.357, 0.416]"
   ]
  },
  {
   "cell_type": "markdown",
   "metadata": {},
   "source": [
    "# First generate grid"
   ]
  },
  {
   "cell_type": "code",
   "execution_count": 5,
   "metadata": {
    "collapsed": false
   },
   "outputs": [],
   "source": [
    "time_point = 0\n",
    "x_points = np.empty((0))\n",
    "y_points = np.empty((0))\n",
    "z_points = np.empty((0))\n",
    "values = np.empty((0))\n",
    "for z_plane in z_planes:\n",
    "    plane_measurements = measurements[z_plane]\n",
    "    x_points = np.append(x_points, plane_measurements['x_out'])\n",
    "    y_points = np.append(y_points, plane_measurements['y_out'])\n",
    "    z_points = np.append(z_points, np.ones(plane_measurements['x_out'].size)*z_plane)\n",
    "    values = np.append(values, plane_measurements['a_out'][time_point])\n",
    "    \n",
    "    \n",
    "points = [x_points, y_points, z_points]\n",
    "points = np.asarray(points)"
   ]
  },
  {
   "cell_type": "code",
   "execution_count": 6,
   "metadata": {
    "collapsed": false
   },
   "outputs": [],
   "source": [
    "points = np.swapaxes(points, 0, 1)"
   ]
  },
  {
   "cell_type": "code",
   "execution_count": 7,
   "metadata": {
    "collapsed": false
   },
   "outputs": [
    {
     "data": {
      "text/plain": [
       "(4709, 3)"
      ]
     },
     "execution_count": 7,
     "metadata": {},
     "output_type": "execute_result"
    }
   ],
   "source": [
    "points.shape"
   ]
  },
  {
   "cell_type": "code",
   "execution_count": 8,
   "metadata": {
    "collapsed": false
   },
   "outputs": [
    {
     "data": {
      "text/plain": [
       "(4709,)"
      ]
     },
     "execution_count": 8,
     "metadata": {},
     "output_type": "execute_result"
    }
   ],
   "source": [
    "values.shape"
   ]
  },
  {
   "cell_type": "code",
   "execution_count": 11,
   "metadata": {
    "collapsed": false
   },
   "outputs": [],
   "source": [
    "fig = plt.figure()\n",
    "ax = fig.add_subplot(111, projection='3d')\n",
    "ax.scatter(points[:,0], points[:,1], points[:,2])\n",
    "ax.set_ylabel('y')\n",
    "ax.set_xlabel('x')\n",
    "plt.show()"
   ]
  },
  {
   "cell_type": "code",
   "execution_count": 12,
   "metadata": {
    "collapsed": false
   },
   "outputs": [],
   "source": [
    "x_min, x_max = -0.027, 0.025\n",
    "y_min, y_max = -0.021, 0.0295 \n",
    "z_min, z_max = 0.249, 0.416\n",
    "spatial_increment = 0.003\n",
    "\n",
    "x_coord = np.linspace(x_min, x_max, np.ceil((x_max-x_min)/spatial_increment))\n",
    "y_coord = np.linspace(y_min, y_max, np.ceil((y_max-y_min)/spatial_increment))\n",
    "z_coord = np.linspace(z_min, z_max, np.ceil((z_max-z_min)/spatial_increment))\n",
    "\n",
    "mesh = np.meshgrid(x_coord, y_coord, z_coord)"
   ]
  },
  {
   "cell_type": "code",
   "execution_count": 13,
   "metadata": {
    "collapsed": true
   },
   "outputs": [],
   "source": [
    "grid_points = np.dstack(map(np.ravel, mesh))[0]"
   ]
  },
  {
   "cell_type": "markdown",
   "metadata": {},
   "source": [
    "# Now interpolate"
   ]
  },
  {
   "cell_type": "code",
   "execution_count": 14,
   "metadata": {
    "collapsed": false
   },
   "outputs": [],
   "source": [
    "interpolated_data = griddata(points, values, grid_points)"
   ]
  },
  {
   "cell_type": "code",
   "execution_count": 17,
   "metadata": {
    "collapsed": false
   },
   "outputs": [
    {
     "data": {
      "text/plain": [
       "0"
      ]
     },
     "execution_count": 17,
     "metadata": {},
     "output_type": "execute_result"
    }
   ],
   "source": [
    "np.isnan(interpolated_data)"
   ]
  },
  {
   "cell_type": "markdown",
   "metadata": {},
   "source": [
    "# Repeat interpolation for all three components of vector and with function calls"
   ]
  },
  {
   "cell_type": "code",
   "execution_count": 31,
   "metadata": {
    "collapsed": false
   },
   "outputs": [],
   "source": [
    "data_path = '../../comprehensive_3d_plot/output/2016-04-07/'\n",
    "data_ending = '.sav'\n",
    "\n",
    "bx_z249_file = data_path + 'bx_z249' + data_ending\n",
    "bx_z302_file = data_path + 'bx_z302' + data_ending\n",
    "bx_z357_file = data_path + 'bx_z357' + data_ending\n",
    "bx_z416_file = data_path + 'bx_z416' + data_ending\n",
    "\n",
    "bx_z249_measurements = idl.readsav(bx_z249_file)\n",
    "bx_z302_measurements = idl.readsav(bx_z302_file)\n",
    "bx_z357_measurements = idl.readsav(bx_z357_file)\n",
    "bx_z416_measurements = idl.readsav(bx_z416_file)\n",
    "\n",
    "measurements_x = {0.249: bx_z249_measurements, \n",
    "                  0.302: bx_z302_measurements, \n",
    "                  0.357: bx_z357_measurements, \n",
    "                  0.416: bx_z416_measurements}\n",
    "\n",
    "z_planes = [0.249, 0.302, 0.357, 0.416]"
   ]
  },
  {
   "cell_type": "code",
   "execution_count": 32,
   "metadata": {
    "collapsed": true
   },
   "outputs": [],
   "source": [
    "data_path = '../../comprehensive_3d_plot/output/2016-04-07/'\n",
    "data_ending = '.sav'\n",
    "\n",
    "by_z249_file = data_path + 'by_z249' + data_ending\n",
    "by_z302_file = data_path + 'by_z302' + data_ending\n",
    "by_z357_file = data_path + 'by_z357' + data_ending\n",
    "by_z416_file = data_path + 'by_z416' + data_ending\n",
    "\n",
    "by_z249_measurements = idl.readsav(by_z249_file)\n",
    "by_z302_measurements = idl.readsav(by_z302_file)\n",
    "by_z357_measurements = idl.readsav(by_z357_file)\n",
    "by_z416_measurements = idl.readsav(by_z416_file)\n",
    "\n",
    "measurements_y = {0.249: by_z249_measurements, \n",
    "                  0.302: by_z302_measurements, \n",
    "                  0.357: by_z357_measurements, \n",
    "                  0.416: by_z416_measurements}\n",
    "\n",
    "z_planes = [0.249, 0.302, 0.357, 0.416]"
   ]
  },
  {
   "cell_type": "code",
   "execution_count": 33,
   "metadata": {
    "collapsed": true
   },
   "outputs": [],
   "source": [
    "data_path = '../../comprehensive_3d_plot/output/2016-04-07/'\n",
    "data_ending = '.sav'\n",
    "\n",
    "bz_z249_file = data_path + 'by_z249' + data_ending\n",
    "bz_z302_file = data_path + 'by_z302' + data_ending\n",
    "bz_z357_file = data_path + 'by_z357' + data_ending\n",
    "bz_z416_file = data_path + 'by_z416' + data_ending\n",
    "\n",
    "bz_z249_measurements = idl.readsav(bz_z249_file)\n",
    "bz_z302_measurements = idl.readsav(bz_z302_file)\n",
    "bz_z357_measurements = idl.readsav(bz_z357_file)\n",
    "bz_z416_measurements = idl.readsav(bz_z416_file)\n",
    "\n",
    "measurements_z = {0.249: bz_z249_measurements, \n",
    "                  0.302: bz_z302_measurements, \n",
    "                  0.357: bz_z357_measurements, \n",
    "                  0.416: bz_z416_measurements}\n",
    "\n",
    "z_planes = [0.249, 0.302, 0.357, 0.416]"
   ]
  },
  {
   "cell_type": "code",
   "execution_count": 34,
   "metadata": {
    "collapsed": true
   },
   "outputs": [],
   "source": [
    "direction_measurements = [measurements_z, measurements_y, measurements_z] "
   ]
  },
  {
   "cell_type": "code",
   "execution_count": 35,
   "metadata": {
    "collapsed": true
   },
   "outputs": [],
   "source": [
    "def read_points_from_measurement_dict(measurement_dict, time_point, z_planes):\n",
    "    x_points = np.empty((0))\n",
    "    y_points = np.empty((0))\n",
    "    z_points = np.empty((0))\n",
    "    values = np.empty((0))\n",
    "    for z_plane in z_planes:\n",
    "        plane_measurements = measurements[z_plane]\n",
    "        x_points = np.append(x_points, plane_measurements['x_out'])\n",
    "        y_points = np.append(y_points, plane_measurements['y_out'])\n",
    "        z_points = np.append(z_points, np.ones(plane_measurements['x_out'].size)*z_plane)\n",
    "        values = np.append(values, plane_measurements['a_out'][time_point])\n",
    "    \n",
    "    \n",
    "    points = [x_points, y_points, z_points]\n",
    "    points = np.asarray(points)\n",
    "    points = np.swapaxes(points, 0, 1)\n",
    "    return points, values"
   ]
  },
  {
   "cell_type": "code",
   "execution_count": 38,
   "metadata": {
    "collapsed": false
   },
   "outputs": [],
   "source": [
    "points = []\n",
    "values = []\n",
    "for measurements in direction_measurements:\n",
    "    points_direction, values_direction = read_points_from_measurement_dict(measurements, 0, z_planes)\n",
    "    points.append(points_direction)\n",
    "    values.append(values_direction)"
   ]
  },
  {
   "cell_type": "code",
   "execution_count": 73,
   "metadata": {
    "collapsed": true
   },
   "outputs": [],
   "source": [
    "def mesh(bounds, vector_points, spatial_increment):\n",
    "    \n",
    "    (x_min, x_max), (y_min, y_max), (z_min, z_max) = bounds\n",
    "    \n",
    "    x_coord = np.linspace(x_min, x_max, np.ceil((x_max-x_min)/spatial_increment))\n",
    "    y_coord = np.linspace(y_min, y_max, np.ceil((y_max-y_min)/spatial_increment))\n",
    "    z_coord = np.linspace(z_min, z_max, np.ceil((z_max-z_min)/spatial_increment))\n",
    "    \n",
    "    sizes = map(np.size, [x_coord, y_coord, z_coord])\n",
    "\n",
    "    mesh = np.meshgrid(x_coord, y_coord, z_coord, indexing='ij')\n",
    "    \n",
    "    grid_points = np.dstack(map(np.ravel, mesh))[0]\n",
    "    \n",
    "    print np.allclose(grid_points[:,0].reshape(sizes), mesh[0])\n",
    "    print np.allclose(grid_points[:,1].reshape(sizes), mesh[1])\n",
    "    print np.allclose(grid_points[:,2].reshape(sizes), mesh[2])\n",
    "    \n",
    "    return grid_points, sizes"
   ]
  },
  {
   "cell_type": "code",
   "execution_count": 74,
   "metadata": {
    "collapsed": false
   },
   "outputs": [
    {
     "name": "stdout",
     "output_type": "stream",
     "text": [
      "True\n",
      "True\n",
      "True\n"
     ]
    }
   ],
   "source": [
    "x_min, x_max = -0.027, 0.025\n",
    "y_min, y_max = -0.021, 0.0295 \n",
    "z_min, z_max = 0.249, 0.416\n",
    "bounds = ((x_min, x_max), (y_min, y_max), (z_min, z_max)) \n",
    "\n",
    "grid_points, sizes = mesh(bounds, points, 0.003)"
   ]
  },
  {
   "cell_type": "code",
   "execution_count": 204,
   "metadata": {
    "collapsed": true
   },
   "outputs": [],
   "source": [
    "def interpolate(grid_points, vector_points, vector_values):\n",
    "    interpolated_data_x = griddata(vector_points[0], vector_values[0], grid_points)\n",
    "    interpolated_data_y = griddata(vector_points[1], vector_values[1], grid_points)\n",
    "    interpolated_data_z = griddata(vector_points[2], vector_values[2], grid_points)\n",
    "    return [interpolated_data_x, interpolated_data_y, interpolated_data_z]"
   ]
  },
  {
   "cell_type": "code",
   "execution_count": 238,
   "metadata": {
    "collapsed": false
   },
   "outputs": [],
   "source": [
    "interpolated_vector = interpolate(grid_points, points, values)"
   ]
  },
  {
   "cell_type": "code",
   "execution_count": 194,
   "metadata": {
    "collapsed": true
   },
   "outputs": [],
   "source": [
    "from pyvisfile.vtk import write_structured_grid\n",
    "from pytools.obj_array import make_obj_array"
   ]
  },
  {
   "cell_type": "code",
   "execution_count": 196,
   "metadata": {
    "collapsed": false
   },
   "outputs": [],
   "source": [
    "test0 = grid_points[:,0].reshape(sizes)\n",
    "test1 = grid_points[:,1].reshape(sizes)\n",
    "test2 = grid_points[:,2].reshape(sizes)\n",
    "test_grid = np.asarray([test0, test1, test2])"
   ]
  },
  {
   "cell_type": "code",
   "execution_count": 197,
   "metadata": {
    "collapsed": false
   },
   "outputs": [
    {
     "data": {
      "text/plain": [
       "True"
      ]
     },
     "execution_count": 197,
     "metadata": {},
     "output_type": "execute_result"
    }
   ],
   "source": [
    "np.allclose(grid_points.swapaxes(0,1).reshape((3, sizes[0], sizes[1], sizes[2])), test_grid)"
   ]
  },
  {
   "cell_type": "code",
   "execution_count": 198,
   "metadata": {
    "collapsed": true
   },
   "outputs": [],
   "source": [
    "vtk_grid = grid_points.swapaxes(0,1).reshape((3, sizes[0], sizes[1], sizes[2]))"
   ]
  },
  {
   "cell_type": "code",
   "execution_count": 247,
   "metadata": {
    "collapsed": false
   },
   "outputs": [],
   "source": [
    "\n",
    "vtk_vector_x = np.resize(interpolated_vector[0], sizes)\n",
    "vtk_vector_y = np.resize(interpolated_vector[1], sizes)\n",
    "vtk_vector_z = np.resize(interpolated_vector[2], sizes)\n",
    "\n",
    "vtk_vector_x = np.expand_dims(vtk_vector_x, 0)\n",
    "vtk_vector_y = np.expand_dims(vtk_vector_y, 0)\n",
    "vtk_vector_z = np.expand_dims(vtk_vector_z, 0)\n",
    "\n",
    "vtk_vector = make_obj_array([vtk_vector_x, vtk_vector_y, vtk_vector_z])"
   ]
  },
  {
   "cell_type": "code",
   "execution_count": 248,
   "metadata": {
    "collapsed": false
   },
   "outputs": [
    {
     "data": {
      "text/plain": [
       "(3, 18, 17, 56)"
      ]
     },
     "execution_count": 248,
     "metadata": {},
     "output_type": "execute_result"
    }
   ],
   "source": [
    "vtk_grid.shape"
   ]
  },
  {
   "cell_type": "code",
   "execution_count": 249,
   "metadata": {
    "collapsed": false
   },
   "outputs": [
    {
     "data": {
      "text/plain": [
       "(1, 18, 17, 56)"
      ]
     },
     "execution_count": 249,
     "metadata": {},
     "output_type": "execute_result"
    }
   ],
   "source": [
    "vtk_vector[0].shape"
   ]
  },
  {
   "cell_type": "code",
   "execution_count": 251,
   "metadata": {
    "collapsed": false
   },
   "outputs": [
    {
     "ename": "RuntimeError",
     "evalue": "output file 'test.vts' already exists",
     "output_type": "error",
     "traceback": [
      "\u001b[0;31m---------------------------------------------------------------------------\u001b[0m",
      "\u001b[0;31mRuntimeError\u001b[0m                              Traceback (most recent call last)",
      "\u001b[0;32m<ipython-input-251-10dafd0ae3e3>\u001b[0m in \u001b[0;36m<module>\u001b[0;34m()\u001b[0m\n\u001b[0;32m----> 1\u001b[0;31m \u001b[0mwrite_structured_grid\u001b[0m\u001b[0;34m(\u001b[0m\u001b[0;34m'test.vts'\u001b[0m\u001b[0;34m,\u001b[0m \u001b[0mvtk_grid\u001b[0m\u001b[0;34m,\u001b[0m \u001b[0mpoint_data\u001b[0m\u001b[0;34m=\u001b[0m\u001b[0;34m[\u001b[0m\u001b[0;34m(\u001b[0m\u001b[0;34m'B'\u001b[0m\u001b[0;34m,\u001b[0m \u001b[0mvtk_vector\u001b[0m\u001b[0;34m)\u001b[0m\u001b[0;34m]\u001b[0m\u001b[0;34m)\u001b[0m\u001b[0;34m\u001b[0m\u001b[0m\n\u001b[0m",
      "\u001b[0;32m/Users/vonderlinden2/anaconda/lib/python2.7/site-packages/pyvisfile/vtk/__init__.pyc\u001b[0m in \u001b[0;36mwrite_structured_grid\u001b[0;34m(file_name, mesh, cell_data, point_data)\u001b[0m\n\u001b[1;32m    679\u001b[0m     \u001b[0;32mif\u001b[0m \u001b[0mexists\u001b[0m\u001b[0;34m(\u001b[0m\u001b[0mfile_name\u001b[0m\u001b[0;34m)\u001b[0m\u001b[0;34m:\u001b[0m\u001b[0;34m\u001b[0m\u001b[0m\n\u001b[1;32m    680\u001b[0m         raise RuntimeError(\"output file '%s' already exists\"\n\u001b[0;32m--> 681\u001b[0;31m                 % file_name)\n\u001b[0m\u001b[1;32m    682\u001b[0m \u001b[0;34m\u001b[0m\u001b[0m\n\u001b[1;32m    683\u001b[0m     \u001b[0moutf\u001b[0m \u001b[0;34m=\u001b[0m \u001b[0mopen\u001b[0m\u001b[0;34m(\u001b[0m\u001b[0mfile_name\u001b[0m\u001b[0;34m,\u001b[0m \u001b[0;34m\"w\"\u001b[0m\u001b[0;34m)\u001b[0m\u001b[0;34m\u001b[0m\u001b[0m\n",
      "\u001b[0;31mRuntimeError\u001b[0m: output file 'test.vts' already exists"
     ]
    }
   ],
   "source": [
    "write_structured_grid('test.vts', vtk_grid, point_data=[('B', vtk_vector)])"
   ]
  },
  {
   "cell_type": "code",
   "execution_count": null,
   "metadata": {
    "collapsed": true
   },
   "outputs": [],
   "source": []
  }
 ],
 "metadata": {
  "kernelspec": {
   "display_name": "Python 2",
   "language": "python",
   "name": "python2"
  },
  "language_info": {
   "codemirror_mode": {
    "name": "ipython",
    "version": 2
   },
   "file_extension": ".py",
   "mimetype": "text/x-python",
   "name": "python",
   "nbconvert_exporter": "python",
   "pygments_lexer": "ipython2",
   "version": "2.7.11"
  }
 },
 "nbformat": 4,
 "nbformat_minor": 0
}
