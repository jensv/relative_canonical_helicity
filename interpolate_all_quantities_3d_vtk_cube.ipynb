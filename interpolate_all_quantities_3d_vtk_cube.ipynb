{
 "cells": [
  {
   "cell_type": "markdown",
   "metadata": {},
   "source": [
    "# Interpolate all quantities on rectilinear grid and save to one vtk file"
   ]
  },
  {
   "cell_type": "markdown",
   "metadata": {},
   "source": [
    "# Imports"
   ]
  },
  {
   "cell_type": "code",
   "execution_count": 7,
   "metadata": {
    "collapsed": true
   },
   "outputs": [],
   "source": [
    "import numpy as np\n",
    "from scipy.interpolate import griddata\n",
    "\n",
    "%matplotlib inline\n",
    "import matplotlib.pyplot as plt\n",
    "import seaborn as sns\n",
    "sns.set_context('poster')\n",
    "sns.set_style('whitegrid')\n",
    "\n",
    "import sys"
   ]
  },
  {
   "cell_type": "code",
   "execution_count": 8,
   "metadata": {
    "collapsed": true
   },
   "outputs": [],
   "source": [
    "from pyvisfile.vtk import write_structured_grid\n",
    "from pytools.obj_array import make_obj_array"
   ]
  },
  {
   "cell_type": "code",
   "execution_count": 9,
   "metadata": {
    "collapsed": false
   },
   "outputs": [
    {
     "data": {
      "text/plain": [
       "<module 'structured_3d_vtk' from 'structured_3d_vtk.pyc'>"
      ]
     },
     "execution_count": 9,
     "metadata": {},
     "output_type": "execute_result"
    }
   ],
   "source": [
    "sys.path.append('../../read_from_sql/')\n",
    "import read_from_sql\n",
    "sys.path.append('/Users/vonderlinden2/rsx_analysis/mach_probe_analysis')\n",
    "sys.path.append('/Users/vonderlinden2/rsx_analysis/time_alignment/source/')\n",
    "import ion_current_to_mach_number as ic_to_mach\n",
    "reload(ic_to_mach)\n",
    "sys.path.append('/Users/vonderlinden2/rsx_analysis/time_alignment/source')\n",
    "import absolute_times as at\n",
    "\n",
    "import structured_3d_vtk as struc_3d\n",
    "reload(struc_3d)"
   ]
  },
  {
   "cell_type": "markdown",
   "metadata": {},
   "source": [
    "# Make full grid"
   ]
  },
  {
   "cell_type": "code",
   "execution_count": 10,
   "metadata": {
    "collapsed": true
   },
   "outputs": [],
   "source": [
    "spatial_increment = 0.001\n",
    "x_min, x_max = -0.027, 0.024\n",
    "y_min, y_max = -0.021, 0.03\n",
    "z_min, z_max = 0.249, 0.416\n",
    "full_grid_bounds = ((x_min, x_max), (y_min, y_max), (z_min, z_max)) \n",
    "\n",
    "full_grid, sizes = struc_3d.bounded_grid(full_grid_bounds, spatial_increment)\n",
    "full_vtk_grid = struc_3d.prepare_mesh(full_grid, sizes)"
   ]
  },
  {
   "cell_type": "code",
   "execution_count": 11,
   "metadata": {
    "collapsed": false
   },
   "outputs": [
    {
     "data": {
      "text/plain": [
       "(3, 51, 51, 167)"
      ]
     },
     "execution_count": 11,
     "metadata": {},
     "output_type": "execute_result"
    }
   ],
   "source": [
    "full_vtk_grid.shape"
   ]
  },
  {
   "cell_type": "markdown",
   "metadata": {},
   "source": [
    "# Magnetic Field "
   ]
  },
  {
   "cell_type": "markdown",
   "metadata": {},
   "source": [
    "## first make sub-grid"
   ]
  },
  {
   "cell_type": "code",
   "execution_count": 12,
   "metadata": {
    "collapsed": false
   },
   "outputs": [
    {
     "name": "stdout",
     "output_type": "stream",
     "text": [
      "time_point 0\n",
      "time_point 1\n",
      "time_point 2\n",
      "time_point 3\n",
      "time_point 4\n",
      "time_point 5\n",
      "time_point 6\n",
      "time_point 7\n",
      "time_point 8\n",
      "time_point 9\n",
      "time_point 10\n",
      "time_point 11\n",
      "time_point 12\n",
      "time_point 13\n",
      "time_point 14\n",
      "time_point 15\n",
      "time_point 16\n",
      "time_point 17\n",
      "time_point 18\n",
      "time_point 19\n",
      "time_point 20\n"
     ]
    }
   ],
   "source": [
    "x_min, x_max = -0.027, 0.022\n",
    "y_min, y_max = -0.021, 0.0295 \n",
    "z_min, z_max = 0.249, 0.416\n",
    "\n",
    "b_bounds = ((x_min, x_max), (y_min, y_max), (z_min, z_max)) \n",
    "\n",
    "b_indices = struc_3d.build_sub_grid_indices(full_vtk_grid, b_bounds)\n",
    "\n",
    "bx_measurements = struc_3d.read_idl('bx')\n",
    "by_measurements = struc_3d.read_idl('by')\n",
    "bz_measurements = struc_3d.read_idl('bz')\n",
    "\n",
    "for plane in [0.249, 0.302, 0.357, 0.416]:\n",
    "    bx_measurements[plane] = struc_3d.average_duplicate_points(bx_measurements[plane])\n",
    "    by_measurements[plane] = struc_3d.average_duplicate_points(by_measurements[plane])\n",
    "    bz_measurements[plane] = struc_3d.average_duplicate_points(bz_measurements[plane])\n",
    "\n",
    "direction_measurements = [bx_measurements, by_measurements, bz_measurements] \n",
    "\n",
    "(b_vtk_grid, \n",
    " b_vtk_vectors) = struc_3d.build_vtk_vector(direction_measurements, \n",
    "                                            full_vtk_grid=full_vtk_grid, indices=b_indices)\n",
    "\n",
    "b_full_vtk_indices = struc_3d.build_vtk_sub_indices(b_indices)\n",
    "\n",
    "b_full_vtk_vectors = []\n",
    "for b_vtk_vector in b_vtk_vectors:\n",
    "    b_x_full_vtk = np.zeros(full_vtk_grid.shape[1:])\n",
    "    b_y_full_vtk = np.zeros(full_vtk_grid.shape[1:])\n",
    "    b_z_full_vtk = np.zeros(full_vtk_grid.shape[1:])\n",
    "    b_x_full_vtk[b_full_vtk_indices[0], b_full_vtk_indices[1], b_full_vtk_indices[2]] = b_vtk_vector[0][0]\n",
    "    b_y_full_vtk[b_full_vtk_indices[0], b_full_vtk_indices[1], b_full_vtk_indices[2]] = b_vtk_vector[1][0]\n",
    "    b_z_full_vtk[b_full_vtk_indices[0], b_full_vtk_indices[1], b_full_vtk_indices[2]] = b_vtk_vector[2][0]\n",
    "    b_full_vtk_vector_x = np.expand_dims(b_x_full_vtk, 0)\n",
    "    b_full_vtk_vector_y = np.expand_dims(b_y_full_vtk, 0)\n",
    "    b_full_vtk_vector_z = np.expand_dims(b_z_full_vtk, 0)\n",
    "    b_full_vtk_vector = make_obj_array([b_full_vtk_vector_x, b_full_vtk_vector_y, b_full_vtk_vector_z])\n",
    "    b_full_vtk_vectors.append(b_full_vtk_vector)"
   ]
  },
  {
   "cell_type": "markdown",
   "metadata": {},
   "source": [
    "# Temperature & density"
   ]
  },
  {
   "cell_type": "code",
   "execution_count": 13,
   "metadata": {
    "collapsed": false
   },
   "outputs": [
    {
     "name": "stderr",
     "output_type": "stream",
     "text": [
      "structured_3d_vtk.py:253: FutureWarning: comparison to `None` will result in an elementwise object comparison in the future.\n",
      "  assert (((not full_vtk_grid == None and not indices == None) or\n",
      "structured_3d_vtk.py:255: FutureWarning: comparison to `None` will result in an elementwise object comparison in the future.\n",
      "  not (not full_vtk_grid == None and not indices == None and\n",
      "structured_3d_vtk.py:257: FutureWarning: comparison to `None` will result in an elementwise object comparison in the future.\n",
      "  if not full_vtk_grid == None and not indices == None:\n"
     ]
    },
    {
     "name": "stdout",
     "output_type": "stream",
     "text": [
      "time_point 0\n",
      "time_point 1\n",
      "time_point 2\n",
      "time_point 3\n",
      "time_point 4\n",
      "time_point 5\n",
      "time_point 6\n",
      "time_point 7\n",
      "time_point 8\n",
      "time_point 9\n",
      "time_point 10\n",
      "time_point 11\n",
      "time_point 12\n",
      "time_point 13\n",
      "time_point 14\n",
      "time_point 15\n",
      "time_point 16\n",
      "time_point 17\n",
      "time_point 18\n",
      "time_point 19\n",
      "time_point 20\n",
      "time_point 0\n",
      "time_point 1\n",
      "time_point 2\n",
      "time_point 3\n",
      "time_point 4\n",
      "time_point 5\n",
      "time_point 6\n",
      "time_point 7\n",
      "time_point 8\n",
      "time_point 9\n",
      "time_point 10\n",
      "time_point 11\n",
      "time_point 12\n",
      "time_point 13\n",
      "time_point 14\n",
      "time_point 15\n",
      "time_point 16\n",
      "time_point 17\n",
      "time_point 18\n",
      "time_point 19\n",
      "time_point 20\n"
     ]
    }
   ],
   "source": [
    "x_min, x_max = -0.022, 0.018\n",
    "y_min, y_max = -0.021, 0.0255 \n",
    "z_min, z_max = 0.249, 0.416\n",
    "\n",
    "tp_bounds = ((x_min, x_max), (y_min, y_max), (z_min, z_max)) \n",
    "\n",
    "tp_indices = struc_3d.build_sub_grid_indices(full_vtk_grid, tp_bounds)\n",
    "\n",
    "te_measurements = struc_3d.read_idl('te')\n",
    "n_measurements = struc_3d.read_idl('n')\n",
    "\n",
    "for plane in [0.249, 0.302, 0.357, 0.416]:\n",
    "    te_measurements[plane] = struc_3d.average_duplicate_points(te_measurements[plane])\n",
    "    n_measurements[plane] = struc_3d.average_duplicate_points(n_measurements[plane])\n",
    "\n",
    "(te_vtk_grid, \n",
    " te_vtk_scalars) = struc_3d.build_vtk_scalar(te_measurements, \n",
    "                                             full_vtk_grid=full_vtk_grid, indices=tp_indices)\n",
    "\n",
    "(n_vtk_grid, \n",
    " n_vtk_scalars) = struc_3d.build_vtk_scalar(n_measurements, \n",
    "                                            full_vtk_grid=full_vtk_grid, indices=tp_indices)\n",
    "\n",
    "tp_full_vtk_indices = struc_3d.build_vtk_sub_indices(tp_indices)\n",
    "\n",
    "te_full_vtk_scalars = []\n",
    "n_full_vtk_scalars = []\n",
    "for te_vtk_scalar in te_vtk_scalars:\n",
    "    te_full_vtk = np.zeros(full_vtk_grid.shape[1:])\n",
    "    te_full_vtk[tp_full_vtk_indices[0], tp_full_vtk_indices[1], tp_full_vtk_indices[2]] = te_vtk_scalar[0]\n",
    "    te_full_vtk_scalar = np.expand_dims(te_full_vtk, 0)\n",
    "    te_full_vtk_scalars.append(te_full_vtk_scalar)\n",
    "    \n",
    "for n_vtk_scalar in n_vtk_scalars:\n",
    "    n_full_vtk = np.zeros(full_vtk_grid.shape[1:])\n",
    "    n_full_vtk[tp_full_vtk_indices[0], tp_full_vtk_indices[1], tp_full_vtk_indices[2]] = n_vtk_scalar[0]\n",
    "    n_full_vtk_scalar = np.expand_dims(n_full_vtk, 0)\n",
    "    n_full_vtk_scalars.append(n_full_vtk_scalar)"
   ]
  },
  {
   "cell_type": "code",
   "execution_count": 14,
   "metadata": {
    "collapsed": false
   },
   "outputs": [
    {
     "data": {
      "text/plain": [
       "(1, 51, 51, 167)"
      ]
     },
     "execution_count": 14,
     "metadata": {},
     "output_type": "execute_result"
    }
   ],
   "source": [
    "n_full_vtk_scalars[0].shape"
   ]
  },
  {
   "cell_type": "markdown",
   "metadata": {},
   "source": [
    "# Mach number"
   ]
  },
  {
   "cell_type": "code",
   "execution_count": 15,
   "metadata": {
    "collapsed": true
   },
   "outputs": [],
   "source": [
    "database = '/Users/vonderlinden2/rsx_analysis/shots_database/source/shots.db'\n",
    "table = 'Shots'\n",
    "z_direction_1, z_direction_2 = 0, 180\n",
    "y_direction_1, y_direction_2 = 90, 270\n",
    "angle_signs = {0: 1,\n",
    "               180: -1,\n",
    "               90: -1,\n",
    "               0: 1}\n",
    "min_spectral_density = 1.6e-8"
   ]
  },
  {
   "cell_type": "code",
   "execution_count": 16,
   "metadata": {
    "collapsed": true
   },
   "outputs": [],
   "source": [
    "condition_z_0416 = (\"campaigns = 'mach_probe_plane_campaign_1'\"\n",
    "                    \" AND fiducial_pre_crowbar_gyration_spectral_density > \"\n",
    "                    + str(min_spectral_density) +\n",
    "                    \" AND mach_signals_exist = 1\"\n",
    "                    \" AND (mach_orientation = \" + str(z_direction_1) +\n",
    "                    \" OR mach_orientation = \" + str(z_direction_2) + \")\")\n",
    "\n",
    "condition_y_0416 = (\"campaigns = 'mach_probe_plane_campaign_1'\"\n",
    "                    \" AND fiducial_pre_crowbar_gyration_spectral_density > \"\n",
    "                    + str(min_spectral_density) +\n",
    "                    \" AND mach_signals_exist = 1\"\n",
    "                    \" AND (mach_orientation = \" + str(y_direction_1) +\n",
    "                    \" OR mach_orientation = \" + str(y_direction_2) + \")\")\n",
    "\n",
    "cursor, connection = read_from_sql.cursor_with_rows(condition_z_0416,\n",
    "                                                    database,\n",
    "                                                    table)\n",
    "z_0416_shots = cursor.fetchall()\n",
    "cursor.close()\n",
    "connection.close()\n",
    "\n",
    "cursor, connection = read_from_sql.cursor_with_rows(condition_y_0416,\n",
    "                                                    database,\n",
    "                                                    table)\n",
    "y_0416_shots = cursor.fetchall()\n",
    "cursor.close()\n",
    "connection.close()\n",
    "\n",
    "condition_z_302 = (\"campaigns = 'mach_probe_plane_campaign_2'\"\n",
    "                   \" AND fiducial_pre_crowbar_gyration_spectral_density > \"\n",
    "                   + str(min_spectral_density) +\n",
    "                   \" AND mach_signals_exist = 1\"\n",
    "                   \" AND (mach_orientation = \" + str(z_direction_1) +\n",
    "                   \" OR mach_orientation = \" + str(z_direction_2) + \")\")\n",
    "\n",
    "cursor, connection = read_from_sql.cursor_with_rows(condition_z_302,\n",
    "                                                    database,\n",
    "                                                    table)\n",
    "z_0302_shots = cursor.fetchall()\n",
    "cursor.close()\n",
    "connection.close()"
   ]
  },
  {
   "cell_type": "code",
   "execution_count": 18,
   "metadata": {
    "collapsed": false
   },
   "outputs": [],
   "source": [
    "mach_z_0416_measurements = ic_to_mach.run_mach_analysis(z_0416_shots,\n",
    "                                                        21, \n",
    "                                                        angle_signs) \n",
    "mach_y_0416_measurements = ic_to_mach.run_mach_analysis(y_0416_shots,\n",
    "                                                        21, \n",
    "                                                        angle_signs)\n",
    "mach_z_0302_measurements = ic_to_mach.run_mach_analysis(z_0302_shots,\n",
    "                                                        21, \n",
    "                                                        angle_signs)\n",
    "\n",
    "mach_z_0416_measurements['delays'] = range(21)\n",
    "mach_y_0416_measurements['delays'] = range(21)\n",
    "mach_z_0302_measurements['delays'] = range(21)\n",
    "\n",
    "mach_z_0416_measurements = struc_3d.average_duplicate_points(mach_z_0416_measurements)\n",
    "mach_y_0416_measurements = struc_3d.average_duplicate_points(mach_y_0416_measurements)\n",
    "mach_z_0302_measurements = struc_3d.average_duplicate_points(mach_z_0302_measurements)\n",
    "\n",
    "mach_y_measurements = {0.416: mach_y_0416_measurements}\n",
    "mach_z_measurements = {0.302: mach_z_0302_measurements,\n",
    "                       0.416: mach_z_0416_measurements}"
   ]
  },
  {
   "cell_type": "code",
   "execution_count": 19,
   "metadata": {
    "collapsed": true
   },
   "outputs": [],
   "source": [
    "x_min, x_max = -0.027, 0.022\n",
    "y_min, y_max = -0.02, 0.03\n",
    "z_min, z_max = 0.416, 0.416\n",
    "mach_y_0416_bounds = ((x_min, x_max), (y_min, y_max), (z_min, z_max)) \n",
    "\n",
    "z_min, z_max = 0.302, 0.416\n",
    "mach_z_plane_bounds = ((x_min, x_max), (y_min, y_max), (z_min, z_max)) \n",
    "\n",
    "mach_y_indices = struc_3d.build_sub_grid_indices(full_vtk_grid, mach_y_0416_bounds)\n",
    "\n",
    "mach_z_indices = struc_3d.build_sub_grid_indices(full_vtk_grid, mach_z_plane_bounds)"
   ]
  },
  {
   "cell_type": "code",
   "execution_count": 20,
   "metadata": {
    "collapsed": false
   },
   "outputs": [
    {
     "name": "stdout",
     "output_type": "stream",
     "text": [
      "time_point 0\n",
      "time_point 1\n",
      "time_point 2\n",
      "time_point 3\n",
      "time_point 4\n",
      "time_point 5\n",
      "time_point 6\n",
      "time_point 7\n",
      "time_point 8\n",
      "time_point 9\n",
      "time_point 10\n",
      "time_point 11\n",
      "time_point 12\n",
      "time_point 13\n",
      "time_point 14\n",
      "time_point 15\n",
      "time_point 16\n",
      "time_point 17\n",
      "time_point 18\n",
      "time_point 19\n",
      "time_point 20\n",
      "time_point 0\n",
      "time_point 1\n",
      "time_point 2\n",
      "time_point 3\n",
      "time_point 4\n",
      "time_point 5\n",
      "time_point 6\n",
      "time_point 7\n",
      "time_point 8\n",
      "time_point 9\n",
      "time_point 10\n",
      "time_point 11\n",
      "time_point 12\n",
      "time_point 13\n",
      "time_point 14\n",
      "time_point 15\n",
      "time_point 16\n",
      "time_point 17\n",
      "time_point 18\n",
      "time_point 19\n",
      "time_point 20\n"
     ]
    }
   ],
   "source": [
    "(mach_z_vtk_grid, \n",
    " mach_z_vtk_scalars) = struc_3d.build_vtk_scalar(mach_z_measurements,\n",
    "                                                full_vtk_grid=full_vtk_grid, \n",
    "                                                indices=mach_z_indices,\n",
    "                                                z_planes=[0.302, 0.416])\n",
    "\n",
    "(mach_y_vtk_grid, \n",
    " mach_y_vtk_scalars) = struc_3d.build_vtk_scalar(mach_y_measurements,\n",
    "                                                full_vtk_grid=full_vtk_grid, \n",
    "                                                indices=mach_y_indices,\n",
    "                                                z_planes=[0.416])"
   ]
  },
  {
   "cell_type": "code",
   "execution_count": 21,
   "metadata": {
    "collapsed": true
   },
   "outputs": [],
   "source": [
    "mach_y_full_vtk_indices = struc_3d.build_vtk_sub_indices(mach_y_indices)\n",
    "mach_z_full_vtk_indices = struc_3d.build_vtk_sub_indices(mach_z_indices)"
   ]
  },
  {
   "cell_type": "code",
   "execution_count": 22,
   "metadata": {
    "collapsed": false
   },
   "outputs": [
    {
     "data": {
      "text/plain": [
       "(49, 50, 1)"
      ]
     },
     "execution_count": 22,
     "metadata": {},
     "output_type": "execute_result"
    }
   ],
   "source": [
    "mach_y_full_vtk_indices[0].shape"
   ]
  },
  {
   "cell_type": "code",
   "execution_count": 23,
   "metadata": {
    "collapsed": false
   },
   "outputs": [],
   "source": [
    "mach_full_vtk_vectors = []\n",
    "for mach_y_vtk_scalar, mach_z_vtk_scalar in zip(mach_y_vtk_scalars, mach_z_vtk_scalars):\n",
    "    mach_x_full_vtk = np.zeros(full_vtk_grid.shape[1:])\n",
    "    mach_y_full_vtk = np.zeros(full_vtk_grid.shape[1:])\n",
    "    mach_z_full_vtk = np.zeros(full_vtk_grid.shape[1:])\n",
    "    mach_y_full_vtk[mach_y_full_vtk_indices[0], mach_y_full_vtk_indices[1], mach_y_full_vtk_indices[2]] = mach_y_vtk_scalar[0]\n",
    "    mach_z_full_vtk[mach_z_full_vtk_indices[0], mach_z_full_vtk_indices[1], mach_z_full_vtk_indices[2]] = mach_z_vtk_scalar[0]\n",
    "    mach_full_vtk_vector_x = np.expand_dims(mach_x_full_vtk, 0)\n",
    "    mach_full_vtk_vector_y = np.expand_dims(mach_y_full_vtk, 0)\n",
    "    mach_full_vtk_vector_z = np.expand_dims(mach_z_full_vtk, 0)\n",
    "    mach_full_vtk_vector = make_obj_array([mach_full_vtk_vector_x, mach_full_vtk_vector_y, mach_full_vtk_vector_z])\n",
    "    mach_full_vtk_vectors.append(mach_full_vtk_vector)"
   ]
  },
  {
   "cell_type": "markdown",
   "metadata": {},
   "source": [
    "# Write all data to a single vtk file"
   ]
  },
  {
   "cell_type": "code",
   "execution_count": 24,
   "metadata": {
    "collapsed": false
   },
   "outputs": [],
   "source": [
    "output_path = '../output/2016-07-06/'\n",
    "for time_point in xrange(len(b_full_vtk_vectors)):\n",
    "    point_data = [('B', b_full_vtk_vectors[time_point]),\n",
    "                  ('Te', te_full_vtk_scalars[time_point]),\n",
    "                  ('n', n_full_vtk_scalars[time_point]),\n",
    "                  ('mach', mach_full_vtk_vectors[time_point])]\n",
    "    write_structured_grid(output_path + \n",
    "                          'all' + str(time_point).zfill(4) + '.vts', full_vtk_grid, point_data=point_data)"
   ]
  },
  {
   "cell_type": "code",
   "execution_count": 25,
   "metadata": {
    "collapsed": false
   },
   "outputs": [],
   "source": [
    "for time_point in xrange(len(b_full_vtk_vectors)):\n",
    "    ending = 'all' + str(time_point).zfill(4) + '.npz'\n",
    "    np.savez(output_path + ending, B_x=b_full_vtk_vectors[time_point][0], \n",
    "                                   B_y=b_full_vtk_vectors[time_point][1],\n",
    "                                   B_z=b_full_vtk_vectors[time_point][2],\n",
    "                                   Te=te_full_vtk_scalars[time_point], \n",
    "                                   n=n_full_vtk_scalars[time_point],\n",
    "                                   mach_x=mach_full_vtk_vectors[time_point][0],\n",
    "                                   mach_y=mach_full_vtk_vectors[time_point][1],\n",
    "                                   mach_z=mach_full_vtk_vectors[time_point][2],\n",
    "                                   grid=full_vtk_grid,\n",
    "                                   b_indices=b_indices,\n",
    "                                   tp_indices=tp_indices,\n",
    "                                   mach_y_indices=mach_y_indices,\n",
    "                                   mach_z_indices=mach_z_indices,\n",
    "                                   b_grid=b_vtk_grid,\n",
    "                                   tp_grid=n_vtk_grid,\n",
    "                                   mach_y_grid=mach_y_vtk_grid,\n",
    "                                   mach_z_grid=mach_z_vtk_grid)"
   ]
  },
  {
   "cell_type": "code",
   "execution_count": null,
   "metadata": {
    "collapsed": true
   },
   "outputs": [],
   "source": []
  }
 ],
 "metadata": {
  "kernelspec": {
   "display_name": "Python 2",
   "language": "python",
   "name": "python2"
  },
  "language_info": {
   "codemirror_mode": {
    "name": "ipython",
    "version": 2
   },
   "file_extension": ".py",
   "mimetype": "text/x-python",
   "name": "python",
   "nbconvert_exporter": "python",
   "pygments_lexer": "ipython2",
   "version": "2.7.11"
  }
 },
 "nbformat": 4,
 "nbformat_minor": 0
}
