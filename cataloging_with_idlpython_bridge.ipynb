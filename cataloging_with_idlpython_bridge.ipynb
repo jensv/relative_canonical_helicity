{
 "cells": [
  {
   "cell_type": "code",
   "execution_count": 1,
   "metadata": {
    "collapsed": false
   },
   "outputs": [
    {
     "name": "stdout",
     "output_type": "stream",
     "text": [
      "IDL Version 8.5, Mac OS X (darwin x86_64 m64).\n",
      "(c) 2015, Exelis Visual Information Solutions, Inc., a subsidiary of Harris Corporation.\n",
      "Installation number: 5697-1.\n",
      "Licensed for use by: ENERGY - LAWRENCE LIVERMORE NATIONAL LAB\n",
      "\n",
      "modify IDL startup in /Users/vonderlinden2/rsx_drive/Applications/IDL/idl_startup.pro\n",
      "executing that procedure now...\n",
      "fundamental procedures are stored in /Users/vonderlinden2/rsx_drive/Applications/IDL/\n",
      "use x11 xterm instead of terminal to maintain focus on the terminal\n",
      "% LOADCT: Loading table RED TEMPERATURE\n"
     ]
    }
   ],
   "source": [
    "from idlpy import IDL"
   ]
  },
  {
   "cell_type": "code",
   "execution_count": 2,
   "metadata": {
    "collapsed": false
   },
   "outputs": [
    {
     "name": "stderr",
     "output_type": "stream",
     "text": [
      "ERROR: Line magic function `%Compiled` not found.\n",
      "ERROR: "
     ]
    },
    {
     "name": "stdout",
     "output_type": "stream",
     "text": [
      "% Loaded DLM: PNG.\n",
      "% Loaded DLM: SHAPEFILE.\n"
     ]
    },
    {
     "name": "stderr",
     "output_type": "stream",
     "text": [
      "Line magic function `%Compiled` not found.\n"
     ]
    }
   ],
   "source": [
    "arr = IDL.findgen(100)/50*3.14159\n",
    "x = 50*IDL.sin(arr)\n",
    "y = 50*IDL.cos(arr)\n",
    "m = IDL.map(test=1)\n",
    "\n",
    "% Compiled module: MAP.\n",
    "\n",
    "p = IDL.plot(x - 90, y, 'r-o2', overplot=1)\n",
    "\n",
    "% Compiled module: PLOT.\n",
    "\n",
    "p = IDL.plot(x + 90, y, 'b-o2', overplot=1)\n",
    "\n",
    "p.save('map.png', resolution=96, border=0, transparent=1)"
   ]
  },
  {
   "cell_type": "code",
   "execution_count": 4,
   "metadata": {
    "collapsed": false
   },
   "outputs": [
    {
     "data": {
      "text/plain": [
       "\"% Compiled module: PRO00710.\\n% Compiled module: PRO00C00.\\nbasename:    115120438390\\n% Compiled module: PRO00150.\\n% Compiled module: GET_SHOTS.\\n% Compiled module: GET_SENSOR.\\n% Compiled module: PRO00130.\\n% Compiled module: TRANSFORM_SENSOR.\\n% Compiled module: PRO00140.\\n% Compiled module: PRO00100.\\n% Compiled module: MDSOPEN.\\n% Compiled module: MDSVALUE.\\n% Compiled module: MDSCHECKARG.\\n% Compiled module: MDSISCLIENT.\\n% Compiled module: MDSIDLIMAGE.\\n% Compiled module: PRO00160.\\n% Compiled module: MDSCLOSE.\\n% Compiled module: PRO0060C.\\n% Compiled module: PROCEDURE_PATH.\\n% Compiled module: STAMP.\\nType a comment for the plot: \\n% Compiled module: PRO00C31.\\ntar: Removing leading '/' from member names\""
      ]
     },
     "execution_count": 4,
     "metadata": {},
     "output_type": "execute_result"
    }
   ],
   "source": [
    "IDL.run(\"pro00710,'bdot3a','z','b',indgen(21)/50.-0.085,0,shotset='001',/cur\")"
   ]
  },
  {
   "cell_type": "code",
   "execution_count": 3,
   "metadata": {
    "collapsed": false
   },
   "outputs": [
    {
     "name": "stdout",
     "output_type": "stream",
     "text": [
      "% Compiled module: CHISQR_CVF.\n",
      "% Compiled module: CHISQR_PDF.\n",
      "% Compiled module: IGAMMA.\n",
      "% Compiled module: BISECT_PDF.\n"
     ]
    },
    {
     "name": "stderr",
     "output_type": "stream",
     "text": [
      "ERROR: Line magic function `%Compiled` not found.\n"
     ]
    }
   ],
   "source": [
    "arr = IDL.randomu(None, 10000)\n",
    "arr = IDL.smooth(arr, 50)\n",
    "spec = IDL.fft_powerspectrum(arr, 0.1)\n",
    "\n",
    "% Compiled module: FFT_POWERSPECTRUM.\n",
    "import matplotlib.pyplot as plt\n",
    "plt.semilogy(spec)\n",
    "plt.show()\n",
    "\n"
   ]
  },
  {
   "cell_type": "code",
   "execution_count": null,
   "metadata": {
    "collapsed": true
   },
   "outputs": [],
   "source": []
  }
 ],
 "metadata": {
  "kernelspec": {
   "display_name": "Python 2",
   "language": "python",
   "name": "python2"
  },
  "language_info": {
   "codemirror_mode": {
    "name": "ipython",
    "version": 2
   },
   "file_extension": ".py",
   "mimetype": "text/x-python",
   "name": "python",
   "nbconvert_exporter": "python",
   "pygments_lexer": "ipython2",
   "version": "2.7.5"
  }
 },
 "nbformat": 4,
 "nbformat_minor": 0
}
