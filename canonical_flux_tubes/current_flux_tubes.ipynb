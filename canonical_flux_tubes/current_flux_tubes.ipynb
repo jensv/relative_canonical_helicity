{
 "cells": [
  {
   "cell_type": "code",
   "execution_count": 11,
   "metadata": {
    "collapsed": false
   },
   "outputs": [
    {
     "data": {
      "text/plain": [
       "<module 'vis_canonical_fluxtubes' from 'vis_canonical_fluxtubes.py'>"
      ]
     },
     "execution_count": 11,
     "metadata": {},
     "output_type": "execute_result"
    }
   ],
   "source": [
    "import time\n",
    "import numpy as np\n",
    "from scipy.constants import elementary_charge, proton_mass \n",
    "from datetime import date\n",
    "from datetime import datetime\n",
    "import os\n",
    "import vis_canonical_fluxtubes as vis\n",
    "reload(vis)"
   ]
  },
  {
   "cell_type": "code",
   "execution_count": 2,
   "metadata": {
    "collapsed": false
   },
   "outputs": [
    {
     "data": {
      "text/plain": [
       "True"
      ]
     },
     "execution_count": 2,
     "metadata": {},
     "output_type": "execute_result"
    }
   ],
   "source": [
    "import visit\n",
    "visit.Launch()"
   ]
  },
  {
   "cell_type": "code",
   "execution_count": 8,
   "metadata": {
    "collapsed": true
   },
   "outputs": [],
   "source": [
    "database_prefix = '/Users/vonderlinden2/rsx_analysis/writing_to_vtk/output/2016-10-10-15-37'"
   ]
  },
  {
   "cell_type": "code",
   "execution_count": 12,
   "metadata": {
    "collapsed": false
   },
   "outputs": [
    {
     "data": {
      "text/plain": [
       "1L"
      ]
     },
     "execution_count": 12,
     "metadata": {},
     "output_type": "execute_result"
    }
   ],
   "source": [
    "today = str(date.today())\n",
    "out_dir = '../output/' + today\n",
    "try:\n",
    "    os.makedirs(out_dir)\n",
    "except:\n",
    "    pass\n",
    "\n",
    "visit.OpenDatabase(database_prefix + '/Bdot_triple_probe_quantities*.vtk database')\n",
    "field_nulls = np.loadtxt('../../centroid_fitting/output/2016-08-12/field_nulls.txt')\n",
    "electron_points_outer, electron_points_inner = vis.launch_points(field_nulls[0], num_inner=10)\n",
    "ion_points_outer, ion_points_inner = vis.launch_points(field_nulls[0], plane=0.249, num_inner=80)\n",
    "vis.define_expressions(visit)\n",
    "vis.setup_current_pseudocolor(visit, max_val=5.1e5, min_val=0.0)\n",
    "(electron_StreamlineAtts_outer, \n",
    " electron_StreamlineAtts_inner) = vis.setup_massless_electron_canonical_flux_tubes(visit, electron_points_inner, \n",
    "                                                                                   electron_points_inner)\n",
    "\n",
    "current_StreamlineAtts = vis.setup_current_backward_stream(visit, electron_points_inner)\n",
    "\n",
    "AnnotationAtts = vis.setup_annotations(visit, time_scale=0.068)\n",
    "vis.set_default_view(visit)\n",
    "visit.DrawPlots()"
   ]
  },
  {
   "cell_type": "code",
   "execution_count": 5,
   "metadata": {
    "collapsed": false
   },
   "outputs": [
    {
     "data": {
      "text/plain": [
       "1L"
      ]
     },
     "execution_count": 5,
     "metadata": {},
     "output_type": "execute_result"
    }
   ],
   "source": [
    "visit.OpenGUI()"
   ]
  },
  {
   "cell_type": "code",
   "execution_count": null,
   "metadata": {
    "collapsed": true
   },
   "outputs": [],
   "source": []
  }
 ],
 "metadata": {
  "kernelspec": {
   "display_name": "Python 2",
   "language": "python",
   "name": "python2"
  },
  "language_info": {
   "codemirror_mode": {
    "name": "ipython",
    "version": 2
   },
   "file_extension": ".py",
   "mimetype": "text/x-python",
   "name": "python",
   "nbconvert_exporter": "python",
   "pygments_lexer": "ipython2",
   "version": "2.7.11"
  }
 },
 "nbformat": 4,
 "nbformat_minor": 0
}
