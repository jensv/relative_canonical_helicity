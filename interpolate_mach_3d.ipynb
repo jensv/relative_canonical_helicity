{
 "cells": [
  {
   "cell_type": "markdown",
   "metadata": {},
   "source": [
    "# In this notebook I will create 3d interpolations of the mach probe measurements."
   ]
  },
  {
   "cell_type": "markdown",
   "metadata": {},
   "source": [
    "I look at 3 campaigns.\n",
    "1. mach_probe_plane_campaign_1 of z=0.419m with z and y direction measurements.\n",
    "2. mach_probe_plane_campaign_2 of z=0.302m with z direction measurements.\n",
    "3. mach_probe_line_campaign_1 of z=0.249m x=-0.005m with z direction measurements\n",
    "There are several single point campaigns that I ignore for now.\n",
    "\n",
    "Most measurements of the mach_probe_line_campaign return nan when processed by mach probe code. Maybe they are not good measurements or there is an error in my code. Most likely they have several zero crossings which makes the saturation current ratio nan.\n",
    "\n",
    "The goal for the remaining measurements is to determine the maximum extent of a bounding cube of the interpolation grid that has no nan points. Interpolated points can evalulate to nan when they require extrapolation outside the convex hull of measurement points or interpolation from measurement points that evaluate to nan."
   ]
  },
  {
   "cell_type": "markdown",
   "metadata": {},
   "source": [
    "# Imports"
   ]
  },
  {
   "cell_type": "code",
   "execution_count": 19,
   "metadata": {
    "collapsed": false
   },
   "outputs": [],
   "source": [
    "import numpy as np\n",
    "from scipy.interpolate import griddata\n",
    "\n",
    "%matplotlib inline\n",
    "import matplotlib.pyplot as plt\n",
    "import seaborn as sns\n",
    "sns.set_context('poster')\n",
    "sns.set_style('whitegrid')\n",
    "\n",
    "import sys"
   ]
  },
  {
   "cell_type": "code",
   "execution_count": 20,
   "metadata": {
    "collapsed": true
   },
   "outputs": [],
   "source": [
    "from pyvisfile.vtk import write_structured_grid\n",
    "from pytools.obj_array import make_obj_array"
   ]
  },
  {
   "cell_type": "code",
   "execution_count": 22,
   "metadata": {
    "collapsed": false
   },
   "outputs": [
    {
     "data": {
      "text/plain": [
       "<module 'structured_3d_vtk' from 'structured_3d_vtk.pyc'>"
      ]
     },
     "execution_count": 22,
     "metadata": {},
     "output_type": "execute_result"
    }
   ],
   "source": [
    "sys.path.append('../../read_from_sql/')\n",
    "import read_from_sql\n",
    "sys.path.append('/Users/vonderlinden2/rsx_analysis/mach_probe_analysis')\n",
    "sys.path.append('/Users/vonderlinden2/rsx_analysis/time_alignment/source')\n",
    "import absolute_times as at\n",
    "import ion_current_to_mach_number as ic_to_mach\n",
    "\n",
    "\n",
    "import structured_3d_vtk as struc_3d\n",
    "reload(struc_3d)"
   ]
  },
  {
   "cell_type": "markdown",
   "metadata": {},
   "source": [
    "# Define constants"
   ]
  },
  {
   "cell_type": "code",
   "execution_count": 23,
   "metadata": {
    "collapsed": true
   },
   "outputs": [],
   "source": [
    "database = '/Users/vonderlinden2/rsx_analysis/shots_database/source/shots.db'\n",
    "table = 'Shots'"
   ]
  },
  {
   "cell_type": "code",
   "execution_count": 24,
   "metadata": {
    "collapsed": true
   },
   "outputs": [],
   "source": [
    "z_direction_1, z_direction_2 = 0, 180\n",
    "y_direction_1, y_direction_2 = 90, 270"
   ]
  },
  {
   "cell_type": "code",
   "execution_count": 25,
   "metadata": {
    "collapsed": true
   },
   "outputs": [],
   "source": [
    "angle_signs = {0: 1,\n",
    "               180: -1,\n",
    "               90: -1,\n",
    "               0: 1}"
   ]
  },
  {
   "cell_type": "markdown",
   "metadata": {},
   "source": [
    "## Set minimum spectral density"
   ]
  },
  {
   "cell_type": "code",
   "execution_count": 26,
   "metadata": {
    "collapsed": true
   },
   "outputs": [],
   "source": [
    "min_spectral_density = 1.6e-8"
   ]
  },
  {
   "cell_type": "markdown",
   "metadata": {},
   "source": [
    "# Collect suitable shots from the plane_campaign_1, plane_campaign_2, and line_campaign "
   ]
  },
  {
   "cell_type": "markdown",
   "metadata": {},
   "source": [
    "## plane_campaign_1"
   ]
  },
  {
   "cell_type": "code",
   "execution_count": 27,
   "metadata": {
    "collapsed": false
   },
   "outputs": [],
   "source": [
    "condition_z_0416 = (\"campaigns = 'mach_probe_plane_campaign_1'\"\n",
    "                    \" AND fiducial_pre_crowbar_gyration_spectral_density > \"\n",
    "                    + str(min_spectral_density) +\n",
    "                    \" AND mach_signals_exist = 1\"\n",
    "                    \" AND (mach_orientation = \" + str(z_direction_1) +\n",
    "                    \" OR mach_orientation = \" + str(z_direction_2) + \")\")\n",
    "\n",
    "condition_y_0416 = (\"campaigns = 'mach_probe_plane_campaign_1'\"\n",
    "                    \" AND fiducial_pre_crowbar_gyration_spectral_density > \"\n",
    "                    + str(min_spectral_density) +\n",
    "                    \" AND mach_signals_exist = 1\"\n",
    "                    \" AND (mach_orientation = \" + str(y_direction_1) +\n",
    "                    \" OR mach_orientation = \" + str(y_direction_2) + \")\")"
   ]
  },
  {
   "cell_type": "code",
   "execution_count": 28,
   "metadata": {
    "collapsed": false
   },
   "outputs": [],
   "source": [
    "cursor, connection = read_from_sql.cursor_with_rows(condition_z_0416,\n",
    "                                                    database,\n",
    "                                                    table)\n",
    "z_0416_shots = cursor.fetchall()\n",
    "cursor.close()\n",
    "connection.close()"
   ]
  },
  {
   "cell_type": "code",
   "execution_count": 29,
   "metadata": {
    "collapsed": false
   },
   "outputs": [],
   "source": [
    "cursor, connection = read_from_sql.cursor_with_rows(condition_y_0416,\n",
    "                                                    database,\n",
    "                                                    table)\n",
    "y_0416_shots = cursor.fetchall()\n",
    "cursor.close()\n",
    "connection.close()"
   ]
  },
  {
   "cell_type": "markdown",
   "metadata": {},
   "source": [
    "## plane_campaign_2"
   ]
  },
  {
   "cell_type": "code",
   "execution_count": 30,
   "metadata": {
    "collapsed": false
   },
   "outputs": [],
   "source": [
    "condition_z_302 = (\"campaigns = 'mach_probe_plane_campaign_2'\"\n",
    "                   \" AND fiducial_pre_crowbar_gyration_spectral_density > \"\n",
    "                   + str(min_spectral_density) +\n",
    "                   \" AND mach_signals_exist = 1\"\n",
    "                   \" AND (mach_orientation = \" + str(z_direction_1) +\n",
    "                   \" OR mach_orientation = \" + str(z_direction_2) + \")\")\n",
    "\n",
    "cursor, connection = read_from_sql.cursor_with_rows(condition_z_302,\n",
    "                                                    database,\n",
    "                                                    table)\n",
    "z_0302_shots = cursor.fetchall()\n",
    "cursor.close()\n",
    "connection.close()"
   ]
  },
  {
   "cell_type": "markdown",
   "metadata": {},
   "source": [
    "## line_campaign_1"
   ]
  },
  {
   "cell_type": "code",
   "execution_count": 31,
   "metadata": {
    "collapsed": false
   },
   "outputs": [],
   "source": [
    "condition_z_0249 = (\"campaigns = 'mach_probe_line_campaign_1'\"\n",
    "                    \" AND fiducial_pre_crowbar_gyration_spectral_density > \"\n",
    "                    + str(min_spectral_density) +\n",
    "                    \" AND mach_signals_exist = 1\"\n",
    "                    \" AND (mach_orientation = \" + str(z_direction_1) +\n",
    "                    \" OR mach_orientation = \" + str(z_direction_2) + \")\")\n",
    "\n",
    "cursor, connection = read_from_sql.cursor_with_rows(condition_z_0249,\n",
    "                                                    database,\n",
    "                                                    table)\n",
    "\n",
    "z_0249_shots = cursor.fetchall()\n",
    "cursor.close()\n",
    "connection.close()"
   ]
  },
  {
   "cell_type": "markdown",
   "metadata": {
    "collapsed": true
   },
   "source": [
    "# Run Mach probe analysis on the measurements"
   ]
  },
  {
   "cell_type": "code",
   "execution_count": 32,
   "metadata": {
    "collapsed": true
   },
   "outputs": [],
   "source": [
    "def times_to_indexes(time, times):\n",
    "    r\"\"\"\n",
    "    Return the index closest to a time.\n",
    "    \"\"\"\n",
    "    indexes = np.searchsorted(time, times)\n",
    "    for i, index in enumerate(indexes):\n",
    "        indexes[i] = (index-1 +\n",
    "                      np.argmin([np.abs(times[i] - time[index - 1]),\n",
    "                                 np.abs(times[i] - time[index]),\n",
    "                                 np.abs(times[i] - time[index + 1])]))\n",
    "    return indexes"
   ]
  },
  {
   "cell_type": "code",
   "execution_count": 33,
   "metadata": {
    "collapsed": true
   },
   "outputs": [],
   "source": [
    "def run_mach_analysis(shots, time_points, angle_signs):\n",
    "    r\"\"\"\n",
    "    Return mach number as a function of time for a iterator of shot database sql rows.\n",
    "    \"\"\"\n",
    "    mach_out, x_out, y_out, z_out = [], [], [], []\n",
    "    for shot in shots:\n",
    "\n",
    "        shot_number = shot['shot']\n",
    "        times = at.absolute_times(shot_number, shot, [],\n",
    "                                  number_of_delays=time_points)\n",
    "        (mach, time,\n",
    "         r_background_std,\n",
    "         l_background_std) = ic_to_mach.mach_number(shot_number, \n",
    "                                                    mach_r_node_name=shot['mach_r_node'],\n",
    "                                                    mach_l_node_name=shot['mach_l_node'])\n",
    "        mach = mach*angle_signs[shot['mach_orientation']]\n",
    "        indexes = times_to_indexes(time, times)\n",
    "        mach_out.append(mach[indexes])\n",
    "        x_out.append(shot['mach_x'])\n",
    "        y_out.append(shot['mach_y'])\n",
    "        z_out.append(shot['mach_z'])\n",
    "    x_out = np.asarray(x_out)\n",
    "    y_out = np.asarray(y_out)\n",
    "    z_out = np.asarray(z_out)\n",
    "    mach_out = np.asarray(mach_out)\n",
    "    mach_out = np.swapaxes(mach_out, 0, 1)\n",
    "    measurements = {'a_out': mach_out,\n",
    "                    'x_out': x_out,\n",
    "                    'y_out': y_out,\n",
    "                    'z_out': z_out}\n",
    "    return measurements"
   ]
  },
  {
   "cell_type": "code",
   "execution_count": 34,
   "metadata": {
    "collapsed": false
   },
   "outputs": [],
   "source": [
    "mach_z_0416_measurements = run_mach_analysis(z_0416_shots,\n",
    "                                             21, \n",
    "                                             angle_signs) \n",
    "mach_y_0416_measurements = run_mach_analysis(y_0416_shots,\n",
    "                                             21, \n",
    "                                             angle_signs)\n",
    "mach_z_0302_measurements = run_mach_analysis(z_0302_shots,\n",
    "                                             21, \n",
    "                                             angle_signs)\n",
    "mach_z_0249_measurements = run_mach_analysis(z_0249_shots,\n",
    "                                             21, \n",
    "                                             angle_signs)"
   ]
  },
  {
   "cell_type": "markdown",
   "metadata": {
    "collapsed": true
   },
   "source": [
    "# Start interpolating"
   ]
  },
  {
   "cell_type": "markdown",
   "metadata": {},
   "source": [
    "## set interpolation bounds"
   ]
  },
  {
   "cell_type": "code",
   "execution_count": 35,
   "metadata": {
    "collapsed": true
   },
   "outputs": [],
   "source": [
    "spatial_increment = 0.001\n",
    "\n",
    "x_min, x_max = -0.023, 0.024\n",
    "y_min, y_max = -0.02, 0.03\n",
    "z_min, z_max = 0.416, 0.416\n",
    "mach_y_0416_bounds = ((x_min, x_max), (y_min, y_max), (z_min, z_max)) \n",
    "\n",
    "x_min, x_max = -0.023, 0.024\n",
    "y_min, y_max = -0.02, 0.03\n",
    "z_min, z_max = 0.302, 0.416\n",
    "mach_z_plane_bounds = ((x_min, x_max), (y_min, y_max), (z_min, z_max)) \n",
    "\n",
    "x_min, x_max = -0.005, -0.005\n",
    "y_min, y_max = -0.005, 0.03\n",
    "z_min, z_max = 0.249, 0.416\n",
    "mach_z_line_bounds = ((x_min, x_max), (y_min, y_max), (z_min, z_max)) "
   ]
  },
  {
   "cell_type": "markdown",
   "metadata": {},
   "source": [
    "## First interpolate the y values on plane 4"
   ]
  },
  {
   "cell_type": "code",
   "execution_count": 36,
   "metadata": {
    "collapsed": false
   },
   "outputs": [
    {
     "name": "stdout",
     "output_type": "stream",
     "text": [
      "time_point 0\n"
     ]
    },
    {
     "ename": "RuntimeError",
     "evalue": "output file '../output/2016-06-14/mach_y_0000.vts' already exists",
     "output_type": "error",
     "traceback": [
      "\u001b[0;31m---------------------------------------------------------------------------\u001b[0m",
      "\u001b[0;31mRuntimeError\u001b[0m                              Traceback (most recent call last)",
      "\u001b[0;32m<ipython-input-36-ad6d229adb1e>\u001b[0m in \u001b[0;36m<module>\u001b[0;34m()\u001b[0m\n\u001b[1;32m     34\u001b[0m     write_structured_grid(output_path + \n\u001b[1;32m     35\u001b[0m                           'mach_y_' + str(time_point).zfill(4) + '.vts', vtk_grid, point_data=[('mach_y', \n\u001b[0;32m---> 36\u001b[0;31m                                                                                                 mach_y_0416_vtk_scalar)])\n\u001b[0m",
      "\u001b[0;32m/Users/vonderlinden2/anaconda/lib/python2.7/site-packages/pyvisfile/vtk/__init__.pyc\u001b[0m in \u001b[0;36mwrite_structured_grid\u001b[0;34m(file_name, mesh, cell_data, point_data)\u001b[0m\n\u001b[1;32m    679\u001b[0m     \u001b[0;32mif\u001b[0m \u001b[0mexists\u001b[0m\u001b[0;34m(\u001b[0m\u001b[0mfile_name\u001b[0m\u001b[0;34m)\u001b[0m\u001b[0;34m:\u001b[0m\u001b[0;34m\u001b[0m\u001b[0m\n\u001b[1;32m    680\u001b[0m         raise RuntimeError(\"output file '%s' already exists\"\n\u001b[0;32m--> 681\u001b[0;31m                 % file_name)\n\u001b[0m\u001b[1;32m    682\u001b[0m \u001b[0;34m\u001b[0m\u001b[0m\n\u001b[1;32m    683\u001b[0m     \u001b[0moutf\u001b[0m \u001b[0;34m=\u001b[0m \u001b[0mopen\u001b[0m\u001b[0;34m(\u001b[0m\u001b[0mfile_name\u001b[0m\u001b[0;34m,\u001b[0m \u001b[0;34m\"w\"\u001b[0m\u001b[0;34m)\u001b[0m\u001b[0;34m\u001b[0m\u001b[0m\n",
      "\u001b[0;31mRuntimeError\u001b[0m: output file '../output/2016-06-14/mach_y_0000.vts' already exists"
     ]
    }
   ],
   "source": [
    "scalars_y = []\n",
    "\n",
    "for time_point in xrange(21):\n",
    "    print 'time_point %i' % time_point\n",
    "    (mach_y_0416_points, \n",
    "     mach_y_0416_values) = struc_3d.read_points_from_measurement_dict({0.416: mach_y_0416_measurements}, \n",
    "                                                                      time_point, \n",
    "                                                                      [0.416])\n",
    "    to_remove = []\n",
    "    for i, value in enumerate(mach_y_0416_values):\n",
    "        if np.isnan(value):\n",
    "            to_remove.append(i)\n",
    "    mach_y_0416_values = np.delete(mach_y_0416_values, to_remove)\n",
    "    mach_y_0416_points = np.delete(mach_y_0416_points, to_remove, 0)\n",
    "    \n",
    "    grid_points, sizes = struc_3d.bounded_grid(mach_y_0416_bounds, spatial_increment)\n",
    "    \n",
    "    grid_points = np.delete(grid_points, 2, 1)\n",
    "    mach_y_0416_points = np.delete(mach_y_0416_points, 2, 1)\n",
    "    \n",
    "    mach_y_0416_interpolated = struc_3d.interpolate_scalar(grid_points, mach_y_0416_points, \n",
    "                                                           mach_y_0416_values)\n",
    "    assert np.sum(np.isnan(mach_y_0416_interpolated)) == 0\n",
    "    \n",
    "    \n",
    "    mach_y_0416_grid_points = np.insert(grid_points, 2, np.ones((grid_points.shape[0]))*0.416, axis=1)\n",
    "    \n",
    "    vtk_grid = struc_3d.prepare_mesh(mach_y_0416_grid_points, sizes)\n",
    "    mach_y_0416_vtk_scalar = struc_3d.prepare_scalar(mach_y_0416_interpolated, sizes)\n",
    "    \n",
    "    scalars_y.append(mach_y_0416_vtk_scalar)\n",
    "    \n",
    "    output_path = '../output/2016-06-14/'\n",
    "    write_structured_grid(output_path + \n",
    "                          'mach_y_' + str(time_point).zfill(4) + '.vts', vtk_grid, point_data=[('mach_y', \n",
    "                                                                                                mach_y_0416_vtk_scalar)])"
   ]
  },
  {
   "cell_type": "code",
   "execution_count": 37,
   "metadata": {
    "collapsed": false
   },
   "outputs": [
    {
     "data": {
      "text/plain": [
       "(2350, 2)"
      ]
     },
     "execution_count": 37,
     "metadata": {},
     "output_type": "execute_result"
    }
   ],
   "source": [
    "grid_points.shape"
   ]
  },
  {
   "cell_type": "markdown",
   "metadata": {},
   "source": [
    "# Adjust bounds"
   ]
  },
  {
   "cell_type": "code",
   "execution_count": 967,
   "metadata": {
    "collapsed": true
   },
   "outputs": [],
   "source": [
    "spatial_increment = 0.001\n",
    "\n",
    "x_min, x_max = -0.027, 0.022\n",
    "y_min, y_max = -0.02, 0.03\n",
    "z_min, z_max = 0.416, 0.416\n",
    "mach_y_0416_bounds = ((x_min, x_max), (y_min, y_max), (z_min, z_max)) \n",
    "\n",
    "x_min, x_max = -0.027, 0.022\n",
    "y_min, y_max = -0.02, 0.03\n",
    "z_min, z_max = 0.302, 0.416\n",
    "\n",
    "mach_z_plane_bounds = ((x_min, x_max), (y_min, y_max), (z_min, z_max)) "
   ]
  },
  {
   "cell_type": "markdown",
   "metadata": {},
   "source": [
    "## Investigate the distrbution of nans in interpolated grid of mach_y and mach_z"
   ]
  },
  {
   "cell_type": "code",
   "execution_count": 968,
   "metadata": {
    "collapsed": false
   },
   "outputs": [
    {
     "name": "stdout",
     "output_type": "stream",
     "text": [
      "time_point 0\n",
      "grid (279300, 3)\n",
      "m points (490, 3)\n",
      "values (490,)\n",
      "time_point 1\n",
      "grid (279300, 3)\n",
      "m points (480, 3)\n",
      "values (480,)\n",
      "time_point 2\n",
      "grid (279300, 3)\n",
      "m points (471, 3)\n",
      "values (471,)\n",
      "time_point 3\n",
      "grid (279300, 3)\n",
      "m points (465, 3)\n",
      "values (465,)\n",
      "time_point 4\n",
      "grid (279300, 3)\n",
      "m points (463, 3)\n",
      "values (463,)\n",
      "time_point 5\n",
      "grid (279300, 3)\n",
      "m points (459, 3)\n",
      "values (459,)\n",
      "time_point 6\n",
      "grid (279300, 3)\n",
      "m points (457, 3)\n",
      "values (457,)\n",
      "time_point 7\n",
      "grid (279300, 3)\n",
      "m points (451, 3)\n",
      "values (451,)\n",
      "time_point 8\n",
      "grid (279300, 3)\n",
      "m points (446, 3)\n",
      "values (446,)\n",
      "time_point 9\n",
      "grid (279300, 3)\n",
      "m points (443, 3)\n",
      "values (443,)\n",
      "time_point 10\n",
      "grid (279300, 3)\n",
      "m points (432, 3)\n",
      "values (432,)\n",
      "time_point 11\n",
      "grid (279300, 3)\n",
      "m points (423, 3)\n",
      "values (423,)\n",
      "time_point 12\n",
      "grid (279300, 3)\n",
      "m points (416, 3)\n",
      "values (416,)\n",
      "time_point 13\n",
      "grid (279300, 3)\n",
      "m points (409, 3)\n",
      "values (409,)\n",
      "time_point 14\n",
      "grid (279300, 3)\n",
      "m points (399, 3)\n",
      "values (399,)\n",
      "time_point 15\n",
      "grid (279300, 3)\n",
      "m points (392, 3)\n",
      "values (392,)\n",
      "time_point 16\n",
      "grid (279300, 3)\n",
      "m points (380, 3)\n",
      "values (380,)\n",
      "time_point 17\n",
      "grid (279300, 3)\n",
      "m points (374, 3)\n",
      "values (374,)\n",
      "time_point 18\n",
      "grid (279300, 3)\n",
      "m points (370, 3)\n",
      "values (370,)\n",
      "time_point 19\n",
      "grid (279300, 3)\n",
      "m points (360, 3)\n",
      "values (360,)\n",
      "time_point 20\n",
      "grid (279300, 3)\n",
      "m points (353, 3)\n",
      "values (353,)\n",
      "time_point 0\n",
      "grid (2450, 2)\n",
      "m points (259, 2)\n",
      "values (259,)\n",
      "time_point 1\n",
      "grid (2450, 2)\n",
      "m points (261, 2)\n",
      "values (261,)\n",
      "time_point 2\n",
      "grid (2450, 2)\n",
      "m points (261, 2)\n",
      "values (261,)\n",
      "time_point 3\n",
      "grid (2450, 2)\n",
      "m points (261, 2)\n",
      "values (261,)\n",
      "time_point 4\n",
      "grid (2450, 2)\n",
      "m points (263, 2)\n",
      "values (263,)\n",
      "time_point 5\n",
      "grid (2450, 2)\n",
      "m points (262, 2)\n",
      "values (262,)\n",
      "time_point 6\n",
      "grid (2450, 2)\n",
      "m points (263, 2)\n",
      "values (263,)\n",
      "time_point 7\n",
      "grid (2450, 2)\n",
      "m points (262, 2)\n",
      "values (262,)\n",
      "time_point 8\n",
      "grid (2450, 2)\n",
      "m points (260, 2)\n",
      "values (260,)\n",
      "time_point 9\n",
      "grid (2450, 2)\n",
      "m points (260, 2)\n",
      "values (260,)\n",
      "time_point 10\n",
      "grid (2450, 2)\n",
      "m points (262, 2)\n",
      "values (262,)\n",
      "time_point 11\n",
      "grid (2450, 2)\n",
      "m points (262, 2)\n",
      "values (262,)\n",
      "time_point 12\n",
      "grid (2450, 2)\n",
      "m points (261, 2)\n",
      "values (261,)\n",
      "time_point 13\n",
      "grid (2450, 2)\n",
      "m points (262, 2)\n",
      "values (262,)\n",
      "time_point 14\n",
      "grid (2450, 2)\n",
      "m points (261, 2)\n",
      "values (261,)\n",
      "time_point 15\n",
      "grid (2450, 2)\n",
      "m points (257, 2)\n",
      "values (257,)\n",
      "time_point 16\n",
      "grid (2450, 2)\n",
      "m points (261, 2)\n",
      "values (261,)\n",
      "time_point 17\n",
      "grid (2450, 2)\n",
      "m points (261, 2)\n",
      "values (261,)\n",
      "time_point 18\n",
      "grid (2450, 2)\n",
      "m points (260, 2)\n",
      "values (260,)\n",
      "time_point 19\n",
      "grid (2450, 2)\n",
      "m points (262, 2)\n",
      "values (262,)\n",
      "time_point 20\n",
      "grid (2450, 2)\n",
      "m points (260, 2)\n",
      "values (260,)\n"
     ]
    }
   ],
   "source": [
    "scalars = []\n",
    "\n",
    "for time_point in xrange(21):\n",
    "    print 'time_point %i' % time_point\n",
    "    (mach_z_plane_points, \n",
    "     mach_z_plane_values) = struc_3d.read_points_from_measurement_dict({0.416: mach_z_0416_measurements,\n",
    "                                                                        0.302: mach_z_0302_measurements},\n",
    "                                                                       time_point, \n",
    "                                                                       [0.302, 0.416])\n",
    "    \n",
    "    for i, value in enumerate(mach_z_plane_values):\n",
    "        if np.isnan(value):\n",
    "            to_remove.append(i)\n",
    "    mach_z_plane_values = np.delete(mach_z_plane_values, to_remove)\n",
    "    mach_z_plane_points = np.delete(mach_z_plane_points, to_remove, 0)\n",
    "    \n",
    "    \n",
    "    grid_points, sizes = struc_3d.bounded_grid(mach_z_plane_bounds, spatial_increment)\n",
    "    mach_z_plane_interpolated = struc_3d.interpolate_scalar(grid_points, mach_z_plane_points, \n",
    "                                                            mach_z_plane_values)\n",
    "    \n",
    "    vtk_grid = struc_3d.prepare_mesh(grid_points, sizes) \n",
    "    scalar = struc_3d.prepare_scalar(mach_z_plane_interpolated, sizes)\n",
    "    scalars.append(scalar)\n",
    "scalars = np.asarray(scalars)\n",
    "\n",
    "scalars_y = []\n",
    "\n",
    "for time_point in xrange(21):\n",
    "    print 'time_point %i' % time_point\n",
    "    (mach_y_0416_points, \n",
    "     mach_y_0416_values) = struc_3d.read_points_from_measurement_dict({0.416: mach_y_0416_measurements}, \n",
    "                                                                      time_point, \n",
    "                                                                      [0.416])\n",
    "    to_remove = []\n",
    "    for i, value in enumerate(mach_y_0416_values):\n",
    "        if np.isnan(value):\n",
    "            to_remove.append(i)\n",
    "    mach_y_0416_values = np.delete(mach_y_0416_values, to_remove)\n",
    "    mach_y_0416_points = np.delete(mach_y_0416_points, to_remove, 0)\n",
    "    \n",
    "    grid_points, sizes = struc_3d.bounded_grid(mach_y_0416_bounds, spatial_increment)\n",
    "    \n",
    "    grid_points = np.delete(grid_points, 2, 1)\n",
    "    mach_y_0416_points = np.delete(mach_y_0416_points, 2, 1)\n",
    "    \n",
    "    mach_y_0416_interpolated = struc_3d.interpolate_scalar(grid_points, mach_y_0416_points, \n",
    "                                                           mach_y_0416_values)\n",
    "    #assert np.sum(np.isnan(mach_y_0416_interpolated)) == 0\n",
    "    \n",
    "    \n",
    "    mach_y_0416_grid_points = np.insert(grid_points, 2, np.ones((grid_points.shape[0]))*0.416, axis=1)\n",
    "    \n",
    "    vtk_grid = struc_3d.prepare_mesh(mach_y_0416_grid_points, sizes)\n",
    "    mach_y_0416_vtk_scalar = struc_3d.prepare_scalar(mach_y_0416_interpolated, sizes)\n",
    "    \n",
    "    scalars_y.append(mach_y_0416_vtk_scalar)\n",
    "    "
   ]
  },
  {
   "cell_type": "code",
   "execution_count": 969,
   "metadata": {
    "collapsed": false
   },
   "outputs": [
    {
     "name": "stdout",
     "output_type": "stream",
     "text": [
      "0\n",
      "0\n"
     ]
    }
   ],
   "source": [
    "print np.sum(np.isnan(scalars))\n",
    "print np.sum(np.isnan(scalars_y))"
   ]
  },
  {
   "cell_type": "code",
   "execution_count": 945,
   "metadata": {
    "collapsed": false
   },
   "outputs": [],
   "source": [
    "is_nan = np.where(np.isnan(scalars))\n",
    "not_nan = np.where(np.invert(np.isnan(scalars)))"
   ]
  },
  {
   "cell_type": "code",
   "execution_count": 851,
   "metadata": {
    "collapsed": true
   },
   "outputs": [],
   "source": [
    "heatmap_scalars = np.array(scalars)\n",
    "heatmap_scalars[is_nan] = 1\n",
    "heatmap_scalars[not_nan] = 0"
   ]
  },
  {
   "cell_type": "code",
   "execution_count": 852,
   "metadata": {
    "collapsed": false
   },
   "outputs": [
    {
     "data": {
      "text/plain": [
       "(3, 10, 10, 23)"
      ]
     },
     "execution_count": 852,
     "metadata": {},
     "output_type": "execute_result"
    }
   ],
   "source": [
    "vtk_grid.shape"
   ]
  },
  {
   "cell_type": "code",
   "execution_count": 853,
   "metadata": {
    "collapsed": false
   },
   "outputs": [],
   "source": [
    "is_nan_for_grid = np.where(np.isnan(scalars[0, 0, :, :, :]))"
   ]
  },
  {
   "cell_type": "code",
   "execution_count": 854,
   "metadata": {
    "collapsed": false
   },
   "outputs": [
    {
     "data": {
      "text/plain": [
       "array([], dtype=float64)"
      ]
     },
     "execution_count": 854,
     "metadata": {},
     "output_type": "execute_result"
    }
   ],
   "source": [
    "vtk_grid[0][is_nan_for_grid]"
   ]
  },
  {
   "cell_type": "code",
   "execution_count": 855,
   "metadata": {
    "collapsed": false
   },
   "outputs": [
    {
     "data": {
      "text/plain": [
       "(21, 1, 10, 10, 23)"
      ]
     },
     "execution_count": 855,
     "metadata": {},
     "output_type": "execute_result"
    }
   ],
   "source": [
    "heatmap_scalars.shape"
   ]
  },
  {
   "cell_type": "code",
   "execution_count": 856,
   "metadata": {
    "collapsed": false
   },
   "outputs": [
    {
     "data": {
      "text/plain": [
       "<matplotlib.axes._subplots.AxesSubplot at 0x138e25550>"
      ]
     },
     "execution_count": 856,
     "metadata": {},
     "output_type": "execute_result"
    },
    {
     "data": {
      "image/png": "[encoded data removed]",
      "text/plain": [
       "<matplotlib.figure.Figure at 0x138db3850>"
      ]
     },
     "metadata": {},
     "output_type": "display_data"
    }
   ],
   "source": [
    "sns.heatmap(heatmap_scalars[0, 0, :, :, 0])"
   ]
  },
  {
   "cell_type": "code",
   "execution_count": 857,
   "metadata": {
    "collapsed": false
   },
   "outputs": [
    {
     "data": {
      "text/plain": [
       "0"
      ]
     },
     "execution_count": 857,
     "metadata": {},
     "output_type": "execute_result"
    }
   ],
   "source": [
    "np.sum(np.isnan(scalars))"
   ]
  },
  {
   "cell_type": "code",
   "execution_count": 858,
   "metadata": {
    "collapsed": false
   },
   "outputs": [
    {
     "name": "stdout",
     "output_type": "stream",
     "text": [
      "time_point 0\n",
      "time_point 1\n",
      "time_point 2\n",
      "time_point 3\n",
      "time_point 4\n",
      "time_point 5\n",
      "time_point 6\n",
      "time_point 7\n",
      "time_point 8\n",
      "time_point 9\n",
      "time_point 10\n",
      "time_point 11\n",
      "time_point 12\n",
      "time_point 13\n",
      "time_point 14\n",
      "time_point 15\n",
      "time_point 16\n",
      "time_point 17\n",
      "time_point 18\n",
      "time_point 19\n",
      "time_point 20\n"
     ]
    }
   ],
   "source": [
    "for time_point in xrange(21):\n",
    "    print 'time_point %i' % time_point\n",
    "    (mach_z_plane_points, \n",
    "     mach_z_plane_values) = struc_3d.read_points_from_measurement_dict({0.416: mach_z_0416_measurements,\n",
    "                                                                        0.302: mach_z_0302_measurements},\n",
    "                                                                       time_point, \n",
    "                                                                       [0.302, 0.416])\n",
    "    \n",
    "    for i, value in enumerate(mach_z_plane_values):\n",
    "        if np.isnan(value):\n",
    "            to_remove.append(i)\n",
    "    mach_z_plane_values = np.delete(mach_z_plane_values, to_remove)\n",
    "    mach_z_plane_points = np.delete(mach_z_plane_points, to_remove, 0)\n",
    "    \n",
    "    \n",
    "    grid_points, sizes = struc_3d.bounded_grid(mach_z_plane_bounds, spatial_increment)\n",
    "    mach_z_plane_interpolated = struc_3d.interpolate_scalar(grid_points, mach_z_plane_points, \n",
    "                                                            mach_z_plane_values)\n",
    "    \n",
    "\n",
    "    assert np.sum(np.isnan(mach_z_plane_interpolated)) == 0\n",
    "    \n",
    "    mach_vector = np.zeros((3, mach_z_plane_interpolated.size))\n",
    "    plane_0416 = np.where(grid_points[:, 2] == 0.416)[0]\n",
    "    mach_vector[1][plane_0416] = mach_y_0416_interpolated  \n",
    "    mach_vector[2] = mach_z_plane_interpolated\n",
    "    \n",
    "    vtk_grid = struc_3d.prepare_mesh(grid_points, sizes)\n",
    "    mach_vtk_vector = struc_3d.prepare_vector(mach_vector, sizes)\n",
    "    \n",
    "    output_path = '../output/2016-06-14/'\n",
    "    write_structured_grid(output_path + \n",
    "                          'mach' + str(time_point).zfill(4) + '.vts', vtk_grid, point_data=[('mach', \n",
    "                                                                                            mach_vtk_vector)])"
   ]
  },
  {
   "cell_type": "markdown",
   "metadata": {},
   "source": [
    "# Interpolate the z values on a line on plane 1, 2, & 4"
   ]
  },
  {
   "cell_type": "markdown",
   "metadata": {},
   "source": [
    "### Most measurement points return Mach number nan. The line campaign is not that useful. "
   ]
  },
  {
   "cell_type": "code",
   "execution_count": 859,
   "metadata": {
    "collapsed": false
   },
   "outputs": [
    {
     "name": "stdout",
     "output_type": "stream",
     "text": [
      "time_point 0\n",
      "time_point 1\n",
      "time_point 2\n",
      "time_point 3\n",
      "time_point 4\n",
      "time_point 5\n",
      "time_point 6\n",
      "time_point 7\n",
      "time_point 8\n",
      "time_point 9\n",
      "time_point 10\n",
      "time_point 11\n",
      "time_point 12\n",
      "time_point 13\n",
      "time_point 14\n",
      "time_point 15\n",
      "time_point 16\n",
      "time_point 17\n",
      "time_point 18\n",
      "time_point 19\n",
      "time_point 20\n"
     ]
    }
   ],
   "source": [
    "for time_point in xrange(21):\n",
    "    print 'time_point %i' % time_point\n",
    "    (mach_z_line_points, \n",
    "     mach_z_line_values) = struc_3d.read_points_from_measurement_dict({0.416: mach_z_0416_measurements,\n",
    "                                                                       0.302: mach_z_0302_measurements,\n",
    "                                                                       0.249: mach_z_0249_measurements}, \n",
    "                                                                      time_point, \n",
    "                                                                      [0.249, 0.302, 0.416])\n",
    "    \n",
    "    for i, value in enumerate(mach_z_line_values):\n",
    "        if np.isnan(value):\n",
    "            to_remove.append(i)\n",
    "    mach_z_line_values = np.delete(mach_z_line_values, to_remove)\n",
    "    mach_z_line_points = np.delete(mach_z_line_points, to_remove, 0)\n",
    "    \n",
    "    grid_points, sizes = struc_3d.bounded_grid(mach_z_line_bounds, spatial_increment)\n",
    "    mach_z_line_interpolated = struc_3d.interpolate_scalar(grid_points, mach_z_line_points, \n",
    "                                                           mach_z_line_values)\n",
    "\n",
    "    \n",
    "    #assert np.sum(np.isnan(mach_z_line_interpolated)) == 0\n",
    "    \n",
    "    vtk_grid = struc_3d.prepare_mesh(grid_points, sizes)\n",
    "    mach_z_line_vtk = struc_3d.prepare_scalar(mach_z_line_interpolated, sizes)"
   ]
  },
  {
   "cell_type": "code",
   "execution_count": 549,
   "metadata": {
    "collapsed": false
   },
   "outputs": [],
   "source": [
    "not_nan = np.invert(np.isnan(mach_z_0249_measurements['a_out'][0]))"
   ]
  },
  {
   "cell_type": "code",
   "execution_count": 550,
   "metadata": {
    "collapsed": false
   },
   "outputs": [
    {
     "data": {
      "text/plain": [
       "array([], dtype=float64)"
      ]
     },
     "execution_count": 550,
     "metadata": {},
     "output_type": "execute_result"
    }
   ],
   "source": [
    "mach_z_0249_measurements['y_out'][not_nan]"
   ]
  },
  {
   "cell_type": "code",
   "execution_count": 495,
   "metadata": {
    "collapsed": false
   },
   "outputs": [
    {
     "data": {
      "text/plain": [
       "array([[ 0.028,  0.015,  0.302],\n",
       "       [ 0.028,  0.04 ,  0.302],\n",
       "       [ 0.028,  0.045,  0.302],\n",
       "       [ 0.028, -0.015,  0.302],\n",
       "       [ 0.028, -0.02 ,  0.302],\n",
       "       [ 0.028, -0.025,  0.302],\n",
       "       [ 0.028, -0.03 ,  0.302],\n",
       "       [ 0.028, -0.035,  0.302],\n",
       "       [ 0.028, -0.04 ,  0.302],\n",
       "       [ 0.028, -0.045,  0.302],\n",
       "       [ 0.028, -0.05 ,  0.302],\n",
       "       [ 0.028, -0.05 ,  0.302],\n",
       "       [ 0.028, -0.05 ,  0.302],\n",
       "       [ 0.028, -0.05 ,  0.302],\n",
       "       [ 0.021,  0.03 ,  0.302],\n",
       "       [ 0.021,  0.035,  0.302],\n",
       "       [ 0.021,  0.04 ,  0.302],\n",
       "       [ 0.021, -0.005,  0.302],\n",
       "       [ 0.021, -0.01 ,  0.302],\n",
       "       [ 0.021, -0.015,  0.302],\n",
       "       [ 0.021, -0.03 ,  0.302],\n",
       "       [ 0.021, -0.045,  0.302],\n",
       "       [ 0.021, -0.05 ,  0.302],\n",
       "       [ 0.021, -0.05 ,  0.302],\n",
       "       [ 0.021, -0.05 ,  0.302],\n",
       "       [ 0.021, -0.05 ,  0.302],\n",
       "       [ 0.014,  0.005,  0.302],\n",
       "       [ 0.014,  0.01 ,  0.302],\n",
       "       [ 0.014,  0.015,  0.302],\n",
       "       [ 0.014,  0.025,  0.302],\n",
       "       [ 0.014,  0.035,  0.302],\n",
       "       [ 0.014, -0.015,  0.302],\n",
       "       [ 0.014, -0.02 ,  0.302],\n",
       "       [ 0.014, -0.025,  0.302],\n",
       "       [ 0.014, -0.03 ,  0.302],\n",
       "       [ 0.014, -0.035,  0.302],\n",
       "       [ 0.014, -0.04 ,  0.302],\n",
       "       [ 0.014, -0.045,  0.302],\n",
       "       [ 0.014, -0.05 ,  0.302],\n",
       "       [ 0.014, -0.05 ,  0.302],\n",
       "       [ 0.014, -0.05 ,  0.302],\n",
       "       [ 0.007,  0.005,  0.302],\n",
       "       [ 0.007,  0.02 ,  0.302],\n",
       "       [ 0.007,  0.035,  0.302],\n",
       "       [ 0.007, -0.015,  0.302],\n",
       "       [ 0.007, -0.04 ,  0.302],\n",
       "       [ 0.007, -0.05 ,  0.302],\n",
       "       [ 0.007, -0.05 ,  0.302],\n",
       "       [ 0.007, -0.05 ,  0.302],\n",
       "       [-0.001,  0.   ,  0.302],\n",
       "       [-0.001,  0.025,  0.302],\n",
       "       [-0.001,  0.04 ,  0.302],\n",
       "       [-0.001, -0.02 ,  0.302],\n",
       "       [-0.001, -0.03 ,  0.302],\n",
       "       [-0.001, -0.035,  0.302],\n",
       "       [-0.001, -0.04 ,  0.302],\n",
       "       [-0.001, -0.05 ,  0.302],\n",
       "       [-0.008,  0.   ,  0.302],\n",
       "       [-0.008,  0.005,  0.302],\n",
       "       [-0.008,  0.015,  0.302],\n",
       "       [-0.014,  0.025,  0.302],\n",
       "       [-0.014,  0.035,  0.302],\n",
       "       [-0.014,  0.045,  0.302],\n",
       "       [-0.014, -0.04 ,  0.302],\n",
       "       [-0.02 ,  0.005,  0.302],\n",
       "       [-0.02 ,  0.015,  0.302],\n",
       "       [-0.02 , -0.01 ,  0.302],\n",
       "       [-0.02 , -0.03 ,  0.302],\n",
       "       [-0.025,  0.   ,  0.302],\n",
       "       [-0.025,  0.04 ,  0.302],\n",
       "       [-0.025, -0.02 ,  0.302],\n",
       "       [-0.025, -0.025,  0.302],\n",
       "       [-0.025, -0.035,  0.302],\n",
       "       [-0.025, -0.045,  0.302],\n",
       "       [-0.029,  0.005,  0.302],\n",
       "       [-0.029,  0.02 ,  0.302],\n",
       "       [-0.029, -0.005,  0.302],\n",
       "       [-0.029, -0.01 ,  0.302],\n",
       "       [-0.029, -0.015,  0.302],\n",
       "       [-0.029, -0.05 ,  0.302],\n",
       "       [ 0.05 , -0.01 ,  0.416],\n",
       "       [ 0.04 , -0.01 ,  0.416],\n",
       "       [ 0.035, -0.01 ,  0.416],\n",
       "       [ 0.03 , -0.01 ,  0.416],\n",
       "       [ 0.015, -0.01 ,  0.416],\n",
       "       [ 0.01 , -0.01 ,  0.416],\n",
       "       [ 0.005, -0.01 ,  0.416],\n",
       "       [ 0.   , -0.01 ,  0.416],\n",
       "       [-0.005, -0.01 ,  0.416],\n",
       "       [-0.01 , -0.01 ,  0.416],\n",
       "       [-0.015, -0.01 ,  0.416],\n",
       "       [-0.025, -0.01 ,  0.416],\n",
       "       [-0.03 , -0.01 ,  0.416],\n",
       "       [-0.035, -0.01 ,  0.416],\n",
       "       [-0.04 , -0.01 ,  0.416],\n",
       "       [-0.05 , -0.01 ,  0.416],\n",
       "       [-0.05 ,  0.   ,  0.416],\n",
       "       [-0.05 ,  0.   ,  0.416],\n",
       "       [-0.02 ,  0.   ,  0.416],\n",
       "       [-0.01 ,  0.   ,  0.416],\n",
       "       [-0.005,  0.   ,  0.416],\n",
       "       [ 0.   ,  0.   ,  0.416],\n",
       "       [ 0.01 ,  0.   ,  0.416],\n",
       "       [ 0.02 ,  0.   ,  0.416],\n",
       "       [ 0.025,  0.   ,  0.416],\n",
       "       [ 0.03 ,  0.   ,  0.416],\n",
       "       [ 0.04 ,  0.   ,  0.416],\n",
       "       [ 0.045,  0.   ,  0.416],\n",
       "       [ 0.05 ,  0.   ,  0.416],\n",
       "       [-0.05 , -0.005,  0.416],\n",
       "       [-0.045, -0.005,  0.416],\n",
       "       [-0.035, -0.005,  0.416],\n",
       "       [-0.03 , -0.005,  0.416],\n",
       "       [-0.025, -0.005,  0.416],\n",
       "       [-0.02 , -0.005,  0.416],\n",
       "       [-0.015, -0.005,  0.416],\n",
       "       [-0.005, -0.005,  0.416],\n",
       "       [ 0.   , -0.005,  0.416],\n",
       "       [ 0.005, -0.005,  0.416],\n",
       "       [ 0.01 , -0.005,  0.416],\n",
       "       [ 0.015, -0.005,  0.416],\n",
       "       [ 0.02 , -0.005,  0.416],\n",
       "       [ 0.025, -0.005,  0.416],\n",
       "       [ 0.03 , -0.005,  0.416],\n",
       "       [ 0.035, -0.005,  0.416],\n",
       "       [ 0.04 , -0.005,  0.416],\n",
       "       [ 0.045, -0.005,  0.416],\n",
       "       [ 0.05 , -0.005,  0.416],\n",
       "       [ 0.025, -0.01 ,  0.416],\n",
       "       [ 0.02 , -0.01 ,  0.416],\n",
       "       [-0.02 , -0.01 ,  0.416],\n",
       "       [-0.05 , -0.015,  0.416],\n",
       "       [-0.045, -0.015,  0.416],\n",
       "       [-0.035, -0.015,  0.416],\n",
       "       [-0.03 , -0.015,  0.416],\n",
       "       [-0.025, -0.015,  0.416],\n",
       "       [-0.015, -0.015,  0.416],\n",
       "       [-0.01 , -0.015,  0.416],\n",
       "       [-0.005, -0.015,  0.416],\n",
       "       [ 0.   , -0.015,  0.416],\n",
       "       [ 0.005, -0.015,  0.416],\n",
       "       [ 0.01 , -0.015,  0.416],\n",
       "       [ 0.015, -0.015,  0.416],\n",
       "       [ 0.02 , -0.015,  0.416],\n",
       "       [ 0.025, -0.015,  0.416],\n",
       "       [ 0.03 , -0.015,  0.416],\n",
       "       [ 0.035, -0.015,  0.416],\n",
       "       [ 0.04 , -0.015,  0.416],\n",
       "       [ 0.045, -0.015,  0.416],\n",
       "       [ 0.05 , -0.015,  0.416],\n",
       "       [-0.05 ,  0.005,  0.416],\n",
       "       [-0.045,  0.005,  0.416],\n",
       "       [-0.04 ,  0.005,  0.416],\n",
       "       [-0.035,  0.005,  0.416],\n",
       "       [-0.025,  0.005,  0.416],\n",
       "       [-0.015,  0.005,  0.416],\n",
       "       [-0.01 ,  0.005,  0.416],\n",
       "       [-0.005,  0.005,  0.416],\n",
       "       [ 0.   ,  0.005,  0.416],\n",
       "       [ 0.   ,  0.005,  0.416],\n",
       "       [ 0.   ,  0.005,  0.416],\n",
       "       [ 0.   ,  0.005,  0.416],\n",
       "       [ 0.   ,  0.005,  0.416],\n",
       "       [ 0.   ,  0.005,  0.416],\n",
       "       [ 0.   ,  0.005,  0.416],\n",
       "       [ 0.   ,  0.005,  0.416],\n",
       "       [ 0.   ,  0.005,  0.416],\n",
       "       [ 0.   ,  0.005,  0.416],\n",
       "       [ 0.   ,  0.005,  0.416],\n",
       "       [-0.045,  0.005,  0.416],\n",
       "       [-0.04 ,  0.005,  0.416],\n",
       "       [-0.035,  0.005,  0.416],\n",
       "       [-0.03 ,  0.005,  0.416],\n",
       "       [-0.025,  0.005,  0.416],\n",
       "       [-0.02 ,  0.005,  0.416],\n",
       "       [-0.015,  0.005,  0.416],\n",
       "       [-0.01 ,  0.005,  0.416],\n",
       "       [-0.005,  0.005,  0.416],\n",
       "       [ 0.   ,  0.005,  0.416],\n",
       "       [ 0.005,  0.005,  0.416],\n",
       "       [ 0.01 ,  0.005,  0.416],\n",
       "       [ 0.015,  0.005,  0.416],\n",
       "       [ 0.02 ,  0.005,  0.416],\n",
       "       [ 0.025,  0.005,  0.416],\n",
       "       [ 0.03 ,  0.005,  0.416],\n",
       "       [ 0.035,  0.005,  0.416],\n",
       "       [ 0.04 ,  0.005,  0.416],\n",
       "       [ 0.045,  0.005,  0.416],\n",
       "       [ 0.05 ,  0.005,  0.416],\n",
       "       [-0.05 ,  0.01 ,  0.416],\n",
       "       [-0.035,  0.01 ,  0.416],\n",
       "       [-0.03 ,  0.01 ,  0.416],\n",
       "       [-0.025,  0.01 ,  0.416],\n",
       "       [-0.02 ,  0.01 ,  0.416],\n",
       "       [-0.015,  0.01 ,  0.416],\n",
       "       [-0.01 ,  0.01 ,  0.416],\n",
       "       [-0.005,  0.01 ,  0.416],\n",
       "       [ 0.   ,  0.01 ,  0.416],\n",
       "       [ 0.005,  0.01 ,  0.416],\n",
       "       [ 0.01 ,  0.01 ,  0.416],\n",
       "       [ 0.015,  0.01 ,  0.416],\n",
       "       [ 0.02 ,  0.01 ,  0.416],\n",
       "       [ 0.025,  0.01 ,  0.416],\n",
       "       [ 0.03 ,  0.01 ,  0.416],\n",
       "       [ 0.035,  0.01 ,  0.416],\n",
       "       [ 0.04 ,  0.01 ,  0.416],\n",
       "       [ 0.045,  0.01 ,  0.416],\n",
       "       [ 0.05 ,  0.01 ,  0.416],\n",
       "       [-0.05 ,  0.015,  0.416],\n",
       "       [-0.025,  0.015,  0.416],\n",
       "       [-0.02 ,  0.015,  0.416],\n",
       "       [-0.015,  0.015,  0.416],\n",
       "       [-0.01 ,  0.015,  0.416],\n",
       "       [-0.005,  0.015,  0.416],\n",
       "       [ 0.   ,  0.015,  0.416],\n",
       "       [ 0.005,  0.015,  0.416],\n",
       "       [ 0.01 ,  0.015,  0.416],\n",
       "       [ 0.015,  0.015,  0.416],\n",
       "       [ 0.02 ,  0.015,  0.416],\n",
       "       [ 0.025,  0.015,  0.416],\n",
       "       [ 0.03 ,  0.015,  0.416],\n",
       "       [ 0.035,  0.015,  0.416],\n",
       "       [ 0.04 ,  0.015,  0.416],\n",
       "       [ 0.045,  0.015,  0.416],\n",
       "       [ 0.05 ,  0.015,  0.416],\n",
       "       [-0.01 ,  0.015,  0.416],\n",
       "       [-0.005,  0.015,  0.416],\n",
       "       [-0.005,  0.015,  0.416],\n",
       "       [ 0.   ,  0.015,  0.416],\n",
       "       [-0.05 ,  0.02 ,  0.416],\n",
       "       [-0.03 ,  0.02 ,  0.416],\n",
       "       [-0.025,  0.02 ,  0.416],\n",
       "       [-0.02 ,  0.02 ,  0.416],\n",
       "       [-0.015,  0.02 ,  0.416],\n",
       "       [-0.01 ,  0.02 ,  0.416],\n",
       "       [-0.005,  0.02 ,  0.416],\n",
       "       [ 0.   ,  0.02 ,  0.416],\n",
       "       [ 0.005,  0.02 ,  0.416],\n",
       "       [ 0.01 ,  0.02 ,  0.416],\n",
       "       [ 0.015,  0.02 ,  0.416],\n",
       "       [ 0.02 ,  0.02 ,  0.416],\n",
       "       [ 0.025,  0.02 ,  0.416],\n",
       "       [ 0.03 ,  0.02 ,  0.416],\n",
       "       [ 0.035,  0.02 ,  0.416],\n",
       "       [ 0.04 ,  0.02 ,  0.416],\n",
       "       [ 0.045,  0.02 ,  0.416],\n",
       "       [ 0.05 ,  0.02 ,  0.416],\n",
       "       [-0.045,  0.025,  0.416],\n",
       "       [-0.04 ,  0.025,  0.416],\n",
       "       [-0.035,  0.025,  0.416],\n",
       "       [-0.03 ,  0.025,  0.416],\n",
       "       [-0.025,  0.025,  0.416],\n",
       "       [-0.02 ,  0.025,  0.416],\n",
       "       [-0.015,  0.025,  0.416],\n",
       "       [-0.01 ,  0.025,  0.416],\n",
       "       [-0.005,  0.025,  0.416],\n",
       "       [ 0.   ,  0.025,  0.416],\n",
       "       [ 0.005,  0.025,  0.416],\n",
       "       [ 0.01 ,  0.025,  0.416],\n",
       "       [ 0.015,  0.025,  0.416],\n",
       "       [ 0.02 ,  0.025,  0.416],\n",
       "       [ 0.025,  0.025,  0.416],\n",
       "       [ 0.03 ,  0.025,  0.416],\n",
       "       [ 0.035,  0.025,  0.416],\n",
       "       [ 0.04 ,  0.025,  0.416],\n",
       "       [ 0.045,  0.025,  0.416],\n",
       "       [ 0.05 ,  0.025,  0.416],\n",
       "       [-0.035,  0.03 ,  0.416],\n",
       "       [-0.03 ,  0.03 ,  0.416],\n",
       "       [-0.025,  0.03 ,  0.416],\n",
       "       [-0.02 ,  0.03 ,  0.416],\n",
       "       [-0.015,  0.03 ,  0.416],\n",
       "       [-0.01 ,  0.03 ,  0.416],\n",
       "       [-0.005,  0.03 ,  0.416],\n",
       "       [ 0.   ,  0.03 ,  0.416],\n",
       "       [ 0.005,  0.03 ,  0.416],\n",
       "       [ 0.01 ,  0.03 ,  0.416],\n",
       "       [ 0.015,  0.03 ,  0.416],\n",
       "       [ 0.02 ,  0.03 ,  0.416],\n",
       "       [ 0.025,  0.03 ,  0.416],\n",
       "       [ 0.035,  0.03 ,  0.416],\n",
       "       [ 0.03 ,  0.03 ,  0.416],\n",
       "       [ 0.04 ,  0.03 ,  0.416],\n",
       "       [ 0.045,  0.03 ,  0.416],\n",
       "       [ 0.05 ,  0.03 ,  0.416],\n",
       "       [-0.05 , -0.02 ,  0.416],\n",
       "       [-0.045, -0.02 ,  0.416],\n",
       "       [-0.04 , -0.02 ,  0.416],\n",
       "       [-0.02 , -0.02 ,  0.416],\n",
       "       [-0.015, -0.02 ,  0.416],\n",
       "       [-0.01 , -0.02 ,  0.416],\n",
       "       [-0.005, -0.02 ,  0.416],\n",
       "       [ 0.   , -0.02 ,  0.416],\n",
       "       [ 0.005, -0.02 ,  0.416],\n",
       "       [ 0.01 , -0.02 ,  0.416],\n",
       "       [ 0.015, -0.02 ,  0.416],\n",
       "       [ 0.02 , -0.02 ,  0.416],\n",
       "       [ 0.025, -0.02 ,  0.416],\n",
       "       [ 0.03 , -0.02 ,  0.416],\n",
       "       [ 0.035, -0.02 ,  0.416],\n",
       "       [ 0.04 , -0.02 ,  0.416],\n",
       "       [ 0.045, -0.02 ,  0.416],\n",
       "       [ 0.05 , -0.02 ,  0.416]])"
      ]
     },
     "execution_count": 495,
     "metadata": {},
     "output_type": "execute_result"
    }
   ],
   "source": [
    "mach_z_line_points"
   ]
  },
  {
   "cell_type": "code",
   "execution_count": 485,
   "metadata": {
    "collapsed": false
   },
   "outputs": [
    {
     "data": {
      "text/plain": [
       "array([[-0.005     , -0.005     ,  0.249     ],\n",
       "       [-0.005     , -0.005     ,  0.25406061],\n",
       "       [-0.005     , -0.005     ,  0.25912121],\n",
       "       [-0.005     , -0.005     ,  0.26418182],\n",
       "       [-0.005     , -0.005     ,  0.26924242],\n",
       "       [-0.005     , -0.005     ,  0.27430303],\n",
       "       [-0.005     , -0.005     ,  0.27936364],\n",
       "       [-0.005     , -0.005     ,  0.28442424],\n",
       "       [-0.005     , -0.005     ,  0.28948485],\n",
       "       [-0.005     , -0.005     ,  0.29454545],\n",
       "       [-0.005     , -0.005     ,  0.29960606],\n",
       "       [-0.005     , -0.005     ,  0.30466667],\n",
       "       [-0.005     , -0.005     ,  0.30972727],\n",
       "       [-0.005     , -0.005     ,  0.31478788],\n",
       "       [-0.005     , -0.005     ,  0.31984848],\n",
       "       [-0.005     , -0.005     ,  0.32490909],\n",
       "       [-0.005     , -0.005     ,  0.3299697 ],\n",
       "       [-0.005     , -0.005     ,  0.3350303 ],\n",
       "       [-0.005     , -0.005     ,  0.34009091],\n",
       "       [-0.005     , -0.005     ,  0.34515152],\n",
       "       [-0.005     , -0.005     ,  0.35021212],\n",
       "       [-0.005     , -0.005     ,  0.35527273],\n",
       "       [-0.005     , -0.005     ,  0.36033333],\n",
       "       [-0.005     , -0.005     ,  0.36539394],\n",
       "       [-0.005     , -0.005     ,  0.37045455],\n",
       "       [-0.005     , -0.005     ,  0.37551515],\n",
       "       [-0.005     , -0.005     ,  0.38057576],\n",
       "       [-0.005     , -0.005     ,  0.38563636],\n",
       "       [-0.005     , -0.005     ,  0.39069697],\n",
       "       [-0.005     , -0.005     ,  0.39575758],\n",
       "       [-0.005     , -0.005     ,  0.40081818],\n",
       "       [-0.005     , -0.005     ,  0.40587879],\n",
       "       [-0.005     , -0.005     ,  0.41093939],\n",
       "       [-0.005     , -0.005     ,  0.416     ],\n",
       "       [-0.005     ,  0.00083333,  0.249     ],\n",
       "       [-0.005     ,  0.00083333,  0.25406061],\n",
       "       [-0.005     ,  0.00083333,  0.25912121],\n",
       "       [-0.005     ,  0.00083333,  0.26418182],\n",
       "       [-0.005     ,  0.00083333,  0.26924242],\n",
       "       [-0.005     ,  0.00083333,  0.27430303],\n",
       "       [-0.005     ,  0.00083333,  0.27936364],\n",
       "       [-0.005     ,  0.00083333,  0.28442424],\n",
       "       [-0.005     ,  0.00083333,  0.28948485],\n",
       "       [-0.005     ,  0.00083333,  0.29454545],\n",
       "       [-0.005     ,  0.00083333,  0.29960606],\n",
       "       [-0.005     ,  0.00083333,  0.30466667],\n",
       "       [-0.005     ,  0.00083333,  0.30972727],\n",
       "       [-0.005     ,  0.00083333,  0.31478788],\n",
       "       [-0.005     ,  0.00083333,  0.31984848],\n",
       "       [-0.005     ,  0.00083333,  0.32490909],\n",
       "       [-0.005     ,  0.00083333,  0.3299697 ],\n",
       "       [-0.005     ,  0.00083333,  0.3350303 ],\n",
       "       [-0.005     ,  0.00083333,  0.34009091],\n",
       "       [-0.005     ,  0.00083333,  0.34515152],\n",
       "       [-0.005     ,  0.00083333,  0.35021212],\n",
       "       [-0.005     ,  0.00083333,  0.35527273],\n",
       "       [-0.005     ,  0.00083333,  0.36033333],\n",
       "       [-0.005     ,  0.00083333,  0.36539394],\n",
       "       [-0.005     ,  0.00083333,  0.37045455],\n",
       "       [-0.005     ,  0.00083333,  0.37551515],\n",
       "       [-0.005     ,  0.00083333,  0.38057576],\n",
       "       [-0.005     ,  0.00083333,  0.38563636],\n",
       "       [-0.005     ,  0.00083333,  0.39069697],\n",
       "       [-0.005     ,  0.00083333,  0.39575758],\n",
       "       [-0.005     ,  0.00083333,  0.40081818],\n",
       "       [-0.005     ,  0.00083333,  0.40587879],\n",
       "       [-0.005     ,  0.00083333,  0.41093939],\n",
       "       [-0.005     ,  0.00083333,  0.416     ],\n",
       "       [-0.005     ,  0.00666667,  0.249     ],\n",
       "       [-0.005     ,  0.00666667,  0.25406061],\n",
       "       [-0.005     ,  0.00666667,  0.25912121],\n",
       "       [-0.005     ,  0.00666667,  0.26418182],\n",
       "       [-0.005     ,  0.00666667,  0.26924242],\n",
       "       [-0.005     ,  0.00666667,  0.27430303],\n",
       "       [-0.005     ,  0.00666667,  0.27936364],\n",
       "       [-0.005     ,  0.00666667,  0.28442424],\n",
       "       [-0.005     ,  0.00666667,  0.28948485],\n",
       "       [-0.005     ,  0.00666667,  0.29454545],\n",
       "       [-0.005     ,  0.00666667,  0.29960606],\n",
       "       [-0.005     ,  0.00666667,  0.30466667],\n",
       "       [-0.005     ,  0.00666667,  0.30972727],\n",
       "       [-0.005     ,  0.00666667,  0.31478788],\n",
       "       [-0.005     ,  0.00666667,  0.31984848],\n",
       "       [-0.005     ,  0.00666667,  0.32490909],\n",
       "       [-0.005     ,  0.00666667,  0.3299697 ],\n",
       "       [-0.005     ,  0.00666667,  0.3350303 ],\n",
       "       [-0.005     ,  0.00666667,  0.34009091],\n",
       "       [-0.005     ,  0.00666667,  0.34515152],\n",
       "       [-0.005     ,  0.00666667,  0.35021212],\n",
       "       [-0.005     ,  0.00666667,  0.35527273],\n",
       "       [-0.005     ,  0.00666667,  0.36033333],\n",
       "       [-0.005     ,  0.00666667,  0.36539394],\n",
       "       [-0.005     ,  0.00666667,  0.37045455],\n",
       "       [-0.005     ,  0.00666667,  0.37551515],\n",
       "       [-0.005     ,  0.00666667,  0.38057576],\n",
       "       [-0.005     ,  0.00666667,  0.38563636],\n",
       "       [-0.005     ,  0.00666667,  0.39069697],\n",
       "       [-0.005     ,  0.00666667,  0.39575758],\n",
       "       [-0.005     ,  0.00666667,  0.40081818],\n",
       "       [-0.005     ,  0.00666667,  0.40587879],\n",
       "       [-0.005     ,  0.00666667,  0.41093939],\n",
       "       [-0.005     ,  0.00666667,  0.416     ],\n",
       "       [-0.005     ,  0.0125    ,  0.249     ],\n",
       "       [-0.005     ,  0.0125    ,  0.25406061],\n",
       "       [-0.005     ,  0.0125    ,  0.25912121],\n",
       "       [-0.005     ,  0.0125    ,  0.26418182],\n",
       "       [-0.005     ,  0.0125    ,  0.26924242],\n",
       "       [-0.005     ,  0.0125    ,  0.27430303],\n",
       "       [-0.005     ,  0.0125    ,  0.27936364],\n",
       "       [-0.005     ,  0.0125    ,  0.28442424],\n",
       "       [-0.005     ,  0.0125    ,  0.28948485],\n",
       "       [-0.005     ,  0.0125    ,  0.29454545],\n",
       "       [-0.005     ,  0.0125    ,  0.29960606],\n",
       "       [-0.005     ,  0.0125    ,  0.30466667],\n",
       "       [-0.005     ,  0.0125    ,  0.30972727],\n",
       "       [-0.005     ,  0.0125    ,  0.31478788],\n",
       "       [-0.005     ,  0.0125    ,  0.31984848],\n",
       "       [-0.005     ,  0.0125    ,  0.32490909],\n",
       "       [-0.005     ,  0.0125    ,  0.3299697 ],\n",
       "       [-0.005     ,  0.0125    ,  0.3350303 ],\n",
       "       [-0.005     ,  0.0125    ,  0.34009091],\n",
       "       [-0.005     ,  0.0125    ,  0.34515152],\n",
       "       [-0.005     ,  0.0125    ,  0.35021212],\n",
       "       [-0.005     ,  0.0125    ,  0.35527273],\n",
       "       [-0.005     ,  0.0125    ,  0.36033333],\n",
       "       [-0.005     ,  0.0125    ,  0.36539394],\n",
       "       [-0.005     ,  0.0125    ,  0.37045455],\n",
       "       [-0.005     ,  0.0125    ,  0.37551515],\n",
       "       [-0.005     ,  0.0125    ,  0.38057576],\n",
       "       [-0.005     ,  0.0125    ,  0.38563636],\n",
       "       [-0.005     ,  0.0125    ,  0.39069697],\n",
       "       [-0.005     ,  0.0125    ,  0.39575758],\n",
       "       [-0.005     ,  0.0125    ,  0.40081818],\n",
       "       [-0.005     ,  0.0125    ,  0.40587879],\n",
       "       [-0.005     ,  0.0125    ,  0.41093939],\n",
       "       [-0.005     ,  0.0125    ,  0.416     ],\n",
       "       [-0.005     ,  0.01833333,  0.249     ],\n",
       "       [-0.005     ,  0.01833333,  0.25406061],\n",
       "       [-0.005     ,  0.01833333,  0.25912121],\n",
       "       [-0.005     ,  0.01833333,  0.26418182],\n",
       "       [-0.005     ,  0.01833333,  0.26924242],\n",
       "       [-0.005     ,  0.01833333,  0.27430303],\n",
       "       [-0.005     ,  0.01833333,  0.27936364],\n",
       "       [-0.005     ,  0.01833333,  0.28442424],\n",
       "       [-0.005     ,  0.01833333,  0.28948485],\n",
       "       [-0.005     ,  0.01833333,  0.29454545],\n",
       "       [-0.005     ,  0.01833333,  0.29960606],\n",
       "       [-0.005     ,  0.01833333,  0.30466667],\n",
       "       [-0.005     ,  0.01833333,  0.30972727],\n",
       "       [-0.005     ,  0.01833333,  0.31478788],\n",
       "       [-0.005     ,  0.01833333,  0.31984848],\n",
       "       [-0.005     ,  0.01833333,  0.32490909],\n",
       "       [-0.005     ,  0.01833333,  0.3299697 ],\n",
       "       [-0.005     ,  0.01833333,  0.3350303 ],\n",
       "       [-0.005     ,  0.01833333,  0.34009091],\n",
       "       [-0.005     ,  0.01833333,  0.34515152],\n",
       "       [-0.005     ,  0.01833333,  0.35021212],\n",
       "       [-0.005     ,  0.01833333,  0.35527273],\n",
       "       [-0.005     ,  0.01833333,  0.36033333],\n",
       "       [-0.005     ,  0.01833333,  0.36539394],\n",
       "       [-0.005     ,  0.01833333,  0.37045455],\n",
       "       [-0.005     ,  0.01833333,  0.37551515],\n",
       "       [-0.005     ,  0.01833333,  0.38057576],\n",
       "       [-0.005     ,  0.01833333,  0.38563636],\n",
       "       [-0.005     ,  0.01833333,  0.39069697],\n",
       "       [-0.005     ,  0.01833333,  0.39575758],\n",
       "       [-0.005     ,  0.01833333,  0.40081818],\n",
       "       [-0.005     ,  0.01833333,  0.40587879],\n",
       "       [-0.005     ,  0.01833333,  0.41093939],\n",
       "       [-0.005     ,  0.01833333,  0.416     ],\n",
       "       [-0.005     ,  0.02416667,  0.249     ],\n",
       "       [-0.005     ,  0.02416667,  0.25406061],\n",
       "       [-0.005     ,  0.02416667,  0.25912121],\n",
       "       [-0.005     ,  0.02416667,  0.26418182],\n",
       "       [-0.005     ,  0.02416667,  0.26924242],\n",
       "       [-0.005     ,  0.02416667,  0.27430303],\n",
       "       [-0.005     ,  0.02416667,  0.27936364],\n",
       "       [-0.005     ,  0.02416667,  0.28442424],\n",
       "       [-0.005     ,  0.02416667,  0.28948485],\n",
       "       [-0.005     ,  0.02416667,  0.29454545],\n",
       "       [-0.005     ,  0.02416667,  0.29960606],\n",
       "       [-0.005     ,  0.02416667,  0.30466667],\n",
       "       [-0.005     ,  0.02416667,  0.30972727],\n",
       "       [-0.005     ,  0.02416667,  0.31478788],\n",
       "       [-0.005     ,  0.02416667,  0.31984848],\n",
       "       [-0.005     ,  0.02416667,  0.32490909],\n",
       "       [-0.005     ,  0.02416667,  0.3299697 ],\n",
       "       [-0.005     ,  0.02416667,  0.3350303 ],\n",
       "       [-0.005     ,  0.02416667,  0.34009091],\n",
       "       [-0.005     ,  0.02416667,  0.34515152],\n",
       "       [-0.005     ,  0.02416667,  0.35021212],\n",
       "       [-0.005     ,  0.02416667,  0.35527273],\n",
       "       [-0.005     ,  0.02416667,  0.36033333],\n",
       "       [-0.005     ,  0.02416667,  0.36539394],\n",
       "       [-0.005     ,  0.02416667,  0.37045455],\n",
       "       [-0.005     ,  0.02416667,  0.37551515],\n",
       "       [-0.005     ,  0.02416667,  0.38057576],\n",
       "       [-0.005     ,  0.02416667,  0.38563636],\n",
       "       [-0.005     ,  0.02416667,  0.39069697],\n",
       "       [-0.005     ,  0.02416667,  0.39575758],\n",
       "       [-0.005     ,  0.02416667,  0.40081818],\n",
       "       [-0.005     ,  0.02416667,  0.40587879],\n",
       "       [-0.005     ,  0.02416667,  0.41093939],\n",
       "       [-0.005     ,  0.02416667,  0.416     ],\n",
       "       [-0.005     ,  0.03      ,  0.249     ],\n",
       "       [-0.005     ,  0.03      ,  0.25406061],\n",
       "       [-0.005     ,  0.03      ,  0.25912121],\n",
       "       [-0.005     ,  0.03      ,  0.26418182],\n",
       "       [-0.005     ,  0.03      ,  0.26924242],\n",
       "       [-0.005     ,  0.03      ,  0.27430303],\n",
       "       [-0.005     ,  0.03      ,  0.27936364],\n",
       "       [-0.005     ,  0.03      ,  0.28442424],\n",
       "       [-0.005     ,  0.03      ,  0.28948485],\n",
       "       [-0.005     ,  0.03      ,  0.29454545],\n",
       "       [-0.005     ,  0.03      ,  0.29960606],\n",
       "       [-0.005     ,  0.03      ,  0.30466667],\n",
       "       [-0.005     ,  0.03      ,  0.30972727],\n",
       "       [-0.005     ,  0.03      ,  0.31478788],\n",
       "       [-0.005     ,  0.03      ,  0.31984848],\n",
       "       [-0.005     ,  0.03      ,  0.32490909],\n",
       "       [-0.005     ,  0.03      ,  0.3299697 ],\n",
       "       [-0.005     ,  0.03      ,  0.3350303 ],\n",
       "       [-0.005     ,  0.03      ,  0.34009091],\n",
       "       [-0.005     ,  0.03      ,  0.34515152],\n",
       "       [-0.005     ,  0.03      ,  0.35021212],\n",
       "       [-0.005     ,  0.03      ,  0.35527273],\n",
       "       [-0.005     ,  0.03      ,  0.36033333],\n",
       "       [-0.005     ,  0.03      ,  0.36539394],\n",
       "       [-0.005     ,  0.03      ,  0.37045455],\n",
       "       [-0.005     ,  0.03      ,  0.37551515],\n",
       "       [-0.005     ,  0.03      ,  0.38057576],\n",
       "       [-0.005     ,  0.03      ,  0.38563636],\n",
       "       [-0.005     ,  0.03      ,  0.39069697],\n",
       "       [-0.005     ,  0.03      ,  0.39575758],\n",
       "       [-0.005     ,  0.03      ,  0.40081818],\n",
       "       [-0.005     ,  0.03      ,  0.40587879],\n",
       "       [-0.005     ,  0.03      ,  0.41093939],\n",
       "       [-0.005     ,  0.03      ,  0.416     ]])"
      ]
     },
     "execution_count": 485,
     "metadata": {},
     "output_type": "execute_result"
    }
   ],
   "source": [
    "grid_points"
   ]
  },
  {
   "cell_type": "code",
   "execution_count": 486,
   "metadata": {
    "collapsed": false
   },
   "outputs": [],
   "source": [
    "is_nan = np.where(np.isnan(mach_z_line_vtk))\n",
    "not_nan = np.where(np.invert(np.isnan(mach_z_line_vtk)))"
   ]
  },
  {
   "cell_type": "code",
   "execution_count": 487,
   "metadata": {
    "collapsed": true
   },
   "outputs": [],
   "source": [
    "heatmap = np.array(mach_z_line_vtk)\n",
    "heatmap[is_nan] = 1\n",
    "heatmap[not_nan] = 0"
   ]
  },
  {
   "cell_type": "code",
   "execution_count": 488,
   "metadata": {
    "collapsed": false
   },
   "outputs": [
    {
     "data": {
      "text/plain": [
       "(1, 1, 7, 34)"
      ]
     },
     "execution_count": 488,
     "metadata": {},
     "output_type": "execute_result"
    }
   ],
   "source": [
    "heatmap.shape"
   ]
  },
  {
   "cell_type": "code",
   "execution_count": 489,
   "metadata": {
    "collapsed": false
   },
   "outputs": [
    {
     "data": {
      "text/plain": [
       "<matplotlib.axes._subplots.AxesSubplot at 0x123b66a90>"
      ]
     },
     "execution_count": 489,
     "metadata": {},
     "output_type": "execute_result"
    },
    {
     "data": {
      "image/png": "[encoded data removed]",
      "text/plain": [
       "<matplotlib.figure.Figure at 0x11f419350>"
      ]
     },
     "metadata": {},
     "output_type": "display_data"
    }
   ],
   "source": [
    "sns.heatmap(heatmap[0,0])"
   ]
  },
  {
   "cell_type": "code",
   "execution_count": null,
   "metadata": {
    "collapsed": true
   },
   "outputs": [],
   "source": []
  }
 ],
 "metadata": {
  "kernelspec": {
   "display_name": "Python 2",
   "language": "python",
   "name": "python2"
  },
  "language_info": {
   "codemirror_mode": {
    "name": "ipython",
    "version": 2
   },
   "file_extension": ".py",
   "mimetype": "text/x-python",
   "name": "python",
   "nbconvert_exporter": "python",
   "pygments_lexer": "ipython2",
   "version": "2.7.11"
  }
 },
 "nbformat": 4,
 "nbformat_minor": 0
}
