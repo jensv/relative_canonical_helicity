{
 "cells": [
  {
   "cell_type": "markdown",
   "metadata": {},
   "source": [
    "# In this notebook I will create 3d interpolations of the mach probe measurements."
   ]
  },
  {
   "cell_type": "code",
   "execution_count": 10,
   "metadata": {
    "collapsed": true
   },
   "outputs": [],
   "source": [
    "import numpy as np\n",
    "from scipy.interpolate import griddata\n",
    "\n",
    "import seaborn as sns\n",
    "sns.set_context('poster')\n",
    "sns.set_style('whitegrid')"
   ]
  },
  {
   "cell_type": "code",
   "execution_count": 11,
   "metadata": {
    "collapsed": true
   },
   "outputs": [],
   "source": [
    "from pyvisfile.vtk import write_structured_grid\n",
    "from pytools.obj_array import make_obj_array"
   ]
  },
  {
   "cell_type": "code",
   "execution_count": 12,
   "metadata": {
    "collapsed": true
   },
   "outputs": [],
   "source": [
    "import sys\n",
    "sys.path.append('../../read_from_sql/')\n",
    "import read_from_sql"
   ]
  },
  {
   "cell_type": "code",
   "execution_count": 39,
   "metadata": {
    "collapsed": true
   },
   "outputs": [],
   "source": [
    "sys.path.append('/Users/vonderlinden2/rsx_analysis/mach_probe_analysis')\n",
    "import ion_current_to_mach_number as ic_to_mach\n",
    "sys.path.append('/Users/vonderlinden2/rsx_analysis/time_alignment/source')\n",
    "import absolute_times as at"
   ]
  },
  {
   "cell_type": "code",
   "execution_count": 13,
   "metadata": {
    "collapsed": true
   },
   "outputs": [],
   "source": [
    "database = '/Users/vonderlinden2/rsx_analysis/shots_database/source/shots.db'\n",
    "table = 'Shots'"
   ]
  },
  {
   "cell_type": "code",
   "execution_count": 25,
   "metadata": {
    "collapsed": true
   },
   "outputs": [],
   "source": [
    "z_direction_1, z_direction_2 = 0, 180\n",
    "y_direction_1, y_direction_2 = 90, 270"
   ]
  },
  {
   "cell_type": "code",
   "execution_count": 42,
   "metadata": {
    "collapsed": true
   },
   "outputs": [],
   "source": [
    "angle_signs = {0: 1,\n",
    "               180: -1,\n",
    "               90: -1,\n",
    "               0: 1}"
   ]
  },
  {
   "cell_type": "markdown",
   "metadata": {},
   "source": [
    "# Set minimum spectral density"
   ]
  },
  {
   "cell_type": "code",
   "execution_count": 14,
   "metadata": {
    "collapsed": true
   },
   "outputs": [],
   "source": [
    "min_spectral_density = 1.6e-8"
   ]
  },
  {
   "cell_type": "markdown",
   "metadata": {},
   "source": [
    "# Collect suitable shots from the plane_campaign_1, plane_campaign_2, and line_campaign "
   ]
  },
  {
   "cell_type": "markdown",
   "metadata": {},
   "source": [
    "## plane_campaign_1"
   ]
  },
  {
   "cell_type": "code",
   "execution_count": 28,
   "metadata": {
    "collapsed": false
   },
   "outputs": [],
   "source": [
    "condition_z_0419 = (\"campaigns = 'mach_probe_plane_campaign_1'\"\n",
    "                    \" AND fiducial_pre_crowbar_gyration_spectral_density > \"\n",
    "                    + str(min_spectral_density) +\n",
    "                    \" AND mach_signals_exist = 1\"\n",
    "                    \" AND (mach_orientation = \" + str(z_direction_1) +\n",
    "                    \" OR mach_orientation = \" + str(z_direction_2) + \")\")\n",
    "\n",
    "condition_y_0419 = (\"campaigns = 'mach_probe_plane_campaign_1'\"\n",
    "                    \" AND fiducial_pre_crowbar_gyration_spectral_density > \"\n",
    "                    + str(min_spectral_density) +\n",
    "                    \" AND mach_signals_exist = 1\"\n",
    "                    \" AND (mach_orientation = \" + str(y_direction_1) +\n",
    "                    \" OR mach_orientation = \" + str(y_direction_2) + \")\")"
   ]
  },
  {
   "cell_type": "code",
   "execution_count": 29,
   "metadata": {
    "collapsed": false
   },
   "outputs": [],
   "source": [
    "cursor, connection = read_from_sql.cursor_with_rows(condition_z_0419,\n",
    "                                                    database,\n",
    "                                                    table)\n",
    "z_0419_shots = cursor.fetchall()\n",
    "cursor.close()\n",
    "connection.close()"
   ]
  },
  {
   "cell_type": "code",
   "execution_count": 30,
   "metadata": {
    "collapsed": false
   },
   "outputs": [],
   "source": [
    "cursor, connection = read_from_sql.cursor_with_rows(condition_y_0419,\n",
    "                                                    database,\n",
    "                                                    table)\n",
    "y_0419_shots = cursor.fetchall()\n",
    "cursor.close()\n",
    "connection.close()"
   ]
  },
  {
   "cell_type": "markdown",
   "metadata": {},
   "source": [
    "## plane_campaign_2"
   ]
  },
  {
   "cell_type": "code",
   "execution_count": 35,
   "metadata": {
    "collapsed": false
   },
   "outputs": [],
   "source": [
    "condition_z_302 = (\"campaigns = 'mach_probe_plane_campaign_2'\"\n",
    "                   \" AND fiducial_pre_crowbar_gyration_spectral_density > \"\n",
    "                   + str(min_spectral_density) +\n",
    "                   \" AND mach_signals_exist = 1\"\n",
    "                   \" AND (mach_orientation = \" + str(z_direction_1) +\n",
    "                   \" OR mach_orientation = \" + str(z_direction_2) + \")\")\n",
    "\n",
    "cursor, connection = read_from_sql.cursor_with_rows(condition_z_302,\n",
    "                                                    database,\n",
    "                                                    table)\n",
    "z_0302_shots = cursor.fetchall()\n",
    "cursor.close()\n",
    "connection.close()"
   ]
  },
  {
   "cell_type": "markdown",
   "metadata": {},
   "source": [
    "## line_campaign_1"
   ]
  },
  {
   "cell_type": "code",
   "execution_count": 38,
   "metadata": {
    "collapsed": false
   },
   "outputs": [],
   "source": [
    "condition_z_0249 = (\"campaigns = 'mach_probe_line_campaign_1'\"\n",
    "                    \" AND fiducial_pre_crowbar_gyration_spectral_density > \"\n",
    "                    + str(min_spectral_density) +\n",
    "                    \" AND mach_signals_exist = 1\"\n",
    "                    \" AND (mach_orientation = \" + str(z_direction_1) +\n",
    "                    \" OR mach_orientation = \" + str(z_direction_2) + \")\")\n",
    "\n",
    "cursor, connection = read_from_sql.cursor_with_rows(condition_z_0249,\n",
    "                                                    database,\n",
    "                                                    table)\n",
    "\n",
    "z_0249_shots = cursor.fetchall()\n",
    "cursor.close()\n",
    "connection.close()"
   ]
  },
  {
   "cell_type": "markdown",
   "metadata": {
    "collapsed": true
   },
   "source": [
    "# Define functions"
   ]
  },
  {
   "cell_type": "code",
   "execution_count": 40,
   "metadata": {
    "collapsed": true
   },
   "outputs": [],
   "source": [
    "def times_to_indexes(time, times):\n",
    "    r\"\"\"\n",
    "    \"\"\"\n",
    "    indexes = np.searchsorted(time, times)\n",
    "    for i, index in enumerate(indexes):\n",
    "        indexes[i] = (index-1 +\n",
    "                      np.argmin([np.abs(times[i] - time[index - 1]),\n",
    "                                 np.abs(times[i] - time[index]),\n",
    "                                 np.abs(times[i] - time[index + 1])]))\n",
    "    return indexes"
   ]
  },
  {
   "cell_type": "code",
   "execution_count": 86,
   "metadata": {
    "collapsed": true
   },
   "outputs": [],
   "source": [
    "def run_mach_analysis(shots, time_points, angle_signs):\n",
    "    mach_out, x_out, y_out, z_out = [], [], [], []\n",
    "    for shot in shots:\n",
    "\n",
    "        shot_number = shot['shot']\n",
    "        times = at.absolute_times(shot_number, shot, [],\n",
    "                                  number_of_delays=time_points)\n",
    "        (mach, time,\n",
    "         r_background_std,\n",
    "         l_background_std) = ic_to_mach.mach_number(shot_number, \n",
    "                                                    mach_r_node_name=shot['mach_r_node'],\n",
    "                                                    mach_l_node_name=shot['mach_l_node'])\n",
    "        mach = mach*angle_signs[shot['mach_orientation']]\n",
    "        indexes = times_to_indexes(time, times)\n",
    "        mach_out.append(mach[indexes])\n",
    "        x_out.append(shot['mach_x'])\n",
    "        y_out.append(shot['mach_y'])\n",
    "        z_out.append(shot['mach_z'])\n",
    "    x_out = np.asarray(x_out)\n",
    "    y_out = np.asarray(y_out)\n",
    "    z_out = np.asarray(z_out)\n",
    "    mach_out = np.asarray(mach_out)\n",
    "    mach_out = np.swapaxes(mach_out, 0, 1)\n",
    "    measurements = {'a_out': mach_out,\n",
    "                    'x_out': x_out,\n",
    "                    'y_out': y_out,\n",
    "                    'z_out': z_out}\n",
    "    return measurements"
   ]
  },
  {
   "cell_type": "code",
   "execution_count": 87,
   "metadata": {
    "collapsed": false
   },
   "outputs": [],
   "source": [
    "mach_y_0419_measurements = run_mach_analysis(z_0419_shots,\n",
    "                                             21, \n",
    "                                             angle_signs) \n",
    "mach_z_0419_measurements = run_mach_analysis(y_0419_shots,\n",
    "                                             21, \n",
    "                                             angle_signs)\n",
    "mach_y_0302_measurements = run_mach_analysis(z_0302_shots,\n",
    "                                             21, \n",
    "                                             angle_signs)\n",
    "mach_y_0219_measurements = run_mach_analysis(z_0249_shots,\n",
    "                                             21, \n",
    "                                             angle_signs)"
   ]
  },
  {
   "cell_type": "code",
   "execution_count": 88,
   "metadata": {
    "collapsed": false
   },
   "outputs": [
    {
     "data": {
      "text/plain": [
       "(21, 246)"
      ]
     },
     "execution_count": 88,
     "metadata": {},
     "output_type": "execute_result"
    }
   ],
   "source": [
    "mach_y_0419_measurements['a_out'].shape"
   ]
  },
  {
   "cell_type": "code",
   "execution_count": null,
   "metadata": {
    "collapsed": true
   },
   "outputs": [],
   "source": []
  }
 ],
 "metadata": {
  "kernelspec": {
   "display_name": "Python 2",
   "language": "python",
   "name": "python2"
  },
  "language_info": {
   "codemirror_mode": {
    "name": "ipython",
    "version": 2
   },
   "file_extension": ".py",
   "mimetype": "text/x-python",
   "name": "python",
   "nbconvert_exporter": "python",
   "pygments_lexer": "ipython2",
   "version": "2.7.11"
  }
 },
 "nbformat": 4,
 "nbformat_minor": 0
}
